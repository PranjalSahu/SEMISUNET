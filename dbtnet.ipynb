{
 "cells": [
  {
   "cell_type": "code",
   "execution_count": 33,
   "metadata": {
    "code_folding": [
     0
    ]
   },
   "outputs": [],
   "source": [
    "# All imports\n",
    "\n",
    "\n",
    "from __future__ import print_function, division\n",
    "\n",
    "#!pip install monai\n",
    "import matplotlib.pyplot as plt\n",
    "import numpy as np\n",
    "import glob\n",
    "\n",
    "\n",
    "import SimpleITK as sitk\n",
    "import pandas as pd\n",
    "import glob\n",
    "import numpy as np \n",
    "import os\n",
    "import skimage.io as io\n",
    "import skimage.transform as trans\n",
    "\n",
    "import csv\n",
    "from scipy import ndimage, misc\n",
    "from tqdm import tqdm\n",
    "\n",
    "import numba\n",
    "from numba import njit, prange\n",
    "\n",
    "import os\n",
    "import skimage.io as io\n",
    "import skimage.transform as trans\n",
    "import numpy as np\n",
    "\n",
    "import scipy\n",
    "from skimage.measure import label\n",
    "from scipy.io import loadmat\n",
    "from scipy.ndimage import zoom\n",
    "#from scipy.misc import imresize\n",
    "import pywt\n",
    "\n",
    "import csv\n",
    "import random\n",
    "import time\n",
    "%matplotlib inline  \n",
    "\n",
    "from scipy import ndimage, misc\n",
    "\n",
    "import pywt\n",
    "#import hdf5storage\n",
    "\n",
    "import scipy.io as sio\n",
    "from skimage.filters import threshold_otsu\n",
    "import matplotlib.patches as patches\n",
    "\n",
    "import pywt\n",
    "import numpy as np\n",
    "#import pydicom\n",
    "import matplotlib.pyplot as plt\n",
    "import SimpleITK as sitk\n",
    "import skimage.io as io\n",
    "#from sklearn.decomposition import PCA\n",
    "import collections, numpy\n",
    "import warnings\n",
    "from scipy import ndimage, misc\n",
    "warnings.filterwarnings('ignore')\n",
    "import copy\n",
    "\n",
    "\n",
    "import os\n",
    "import glob\n",
    "import uuid\n",
    "import numpy as np\n",
    "\n",
    "\n",
    "import numpy\n",
    "import warnings\n",
    "\n",
    "import functools\n",
    "import pickle\n",
    "import time\n",
    "\n",
    "\n",
    "import numpy as np\n",
    "\n",
    "import argparse\n",
    "import torch\n",
    "import torch.utils.data as data_utils\n",
    "import torch.optim as optim\n",
    "from torch.autograd import Variable\n",
    "\n",
    "import torch.nn as nn\n",
    "\n",
    "from ipywidgets import IntProgress\n",
    "#from ipywidgets import IProgress\n",
    "# [STAR] All imports for DBT\n",
    "\n",
    "import os\n",
    "import pandas\n",
    "%matplotlib inline\n",
    "import matplotlib.pyplot as plt\n",
    "from duke_dbt_data import dcmread_image, read_boxes, draw_box, evaluate\n",
    "np.random.seed(0)\n",
    "#torch.manual_seed(0)!pip install monai\n",
    "\n",
    "# [STAR] All the Imports\n",
    "\n",
    "from __future__ import print_function, division\n",
    "\n",
    "import torch\n",
    "import torch.nn as nn\n",
    "import torch.optim as optim\n",
    "from torch.optim import lr_scheduler\n",
    "import numpy as np\n",
    "import torchvision\n",
    "from torchvision import datasets, models, transforms\n",
    "import matplotlib.pyplot as plt\n",
    "import time\n",
    "import os\n",
    "import copy\n",
    "\n",
    "from pathlib import Path\n",
    "import ast\n",
    "import pandas as pd\n",
    "from PIL import Image\n",
    "\n",
    "import albumentations as A\n",
    "from albumentations.pytorch.transforms import ToTensorV2\n",
    "\n",
    "import torch\n",
    "import torchvision\n",
    "\n",
    "from torchvision.models.detection.faster_rcnn import FastRCNNPredictor\n",
    "from torchvision.models.detection import FasterRCNN\n",
    "from torchvision.models.detection.rpn import AnchorGenerator\n",
    "\n",
    "from torch.utils.data import DataLoader, Dataset\n",
    "from torch.utils.data.sampler import SequentialSampler\n",
    "\n",
    "from matplotlib import pyplot as plt\n",
    "import re\n",
    "import cv2\n",
    "\n",
    "import random"
   ]
  },
  {
   "cell_type": "code",
   "execution_count": 2,
   "metadata": {
    "code_folding": [
     0,
     11,
     28,
     48,
     82,
     99,
     114,
     125,
     136,
     163,
     190,
     198,
     206,
     269,
     332,
     393,
     429,
     517,
     650,
     773,
     836,
     934,
     939,
     1021
    ],
    "scrolled": true
   },
   "outputs": [],
   "source": [
    "# [STAR] Pytorch Models for training\n",
    "\n",
    "import torch\n",
    "from torch import nn\n",
    "import torch.nn.functional as F\n",
    "from torch.autograd import Variable\n",
    "\n",
    "import matplotlib.pyplot as plt\n",
    "import numpy as np\n",
    "from torchsummary import summary\n",
    "\n",
    "class up_conv(nn.Module):\n",
    "    \"\"\"\n",
    "    Up Convolution Block\n",
    "    \"\"\"\n",
    "    def __init__(self, in_ch, out_ch):\n",
    "        super(up_conv, self).__init__()\n",
    "        self.up = nn.Sequential(\n",
    "            nn.Upsample(scale_factor=2),\n",
    "            nn.Conv2d(in_ch, out_ch, kernel_size=3, stride=1, padding=1, bias=True),\n",
    "            nn.BatchNorm2d(out_ch),\n",
    "            nn.ReLU(inplace=True)\n",
    "        )\n",
    "\n",
    "    def forward(self, x):\n",
    "        x = self.up(x)\n",
    "        return x\n",
    "\n",
    "class conv_block(nn.Module):\n",
    "    \"\"\"\n",
    "    Convolution Block \n",
    "    \"\"\"\n",
    "    def __init__(self, in_ch, out_ch):\n",
    "        super(conv_block, self).__init__()\n",
    "        \n",
    "        self.conv = nn.Sequential(\n",
    "            nn.Conv2d(in_ch, out_ch, kernel_size=3, stride=1, padding=1, bias=True),\n",
    "            nn.BatchNorm2d(out_ch),\n",
    "            nn.ReLU(inplace=True),\n",
    "            nn.Conv2d(out_ch, out_ch, kernel_size=3, stride=1, padding=1, bias=True),\n",
    "            nn.BatchNorm2d(out_ch),\n",
    "            nn.ReLU(inplace=True))\n",
    "\n",
    "    def forward(self, x):\n",
    "\n",
    "        x = self.conv(x)\n",
    "        return x\n",
    "\n",
    "class Attention_block(nn.Module):\n",
    "    \"\"\"\n",
    "    Attention Block\n",
    "    \"\"\"\n",
    "\n",
    "    def __init__(self, F_g, F_l, F_int):\n",
    "        super(Attention_block, self).__init__()\n",
    "\n",
    "        self.W_g = nn.Sequential(\n",
    "            nn.Conv2d(F_l, F_int, kernel_size=1, stride=1, padding=0, bias=True),\n",
    "            nn.BatchNorm2d(F_int)\n",
    "        )\n",
    "\n",
    "        self.W_x = nn.Sequential(\n",
    "            nn.Conv2d(F_g, F_int, kernel_size=1, stride=1, padding=0, bias=True),\n",
    "            nn.BatchNorm2d(F_int)\n",
    "        )\n",
    "\n",
    "        self.psi = nn.Sequential(\n",
    "            nn.Conv2d(F_int, 1, kernel_size=1, stride=1, padding=0, bias=True),\n",
    "            nn.BatchNorm2d(1),\n",
    "            nn.Sigmoid()\n",
    "        )\n",
    "\n",
    "        self.relu = nn.ReLU(inplace=True)\n",
    "\n",
    "    def forward(self, g, x):\n",
    "        g1 = self.W_g(g)\n",
    "        x1 = self.W_x(x)\n",
    "        psi = self.relu(g1 + x1)\n",
    "        psi = self.psi(psi)\n",
    "        out = x * psi\n",
    "        return out\n",
    "\n",
    "class DoubleConv(nn.Module):\n",
    "    def __init__(self, in_channels, out_channels, mid_channels=None):\n",
    "        super().__init__()\n",
    "        if not mid_channels:\n",
    "            mid_channels = out_channels\n",
    "        self.double_conv = nn.Sequential(\n",
    "            nn.Conv2d(in_channels, mid_channels, kernel_size=3, padding=1),\n",
    "            #nn.BatchNorm2d(mid_channels),\n",
    "            nn.ReLU(inplace=True),\n",
    "            nn.Conv2d(mid_channels, out_channels, kernel_size=3, padding=1),\n",
    "            #nn.BatchNorm2d(out_channels),\n",
    "            nn.ReLU(inplace=True)\n",
    "        )\n",
    "\n",
    "    def forward(self, x):\n",
    "        return self.double_conv(x)\n",
    "\n",
    "class DoubleConv_3D(nn.Module):\n",
    "    def __init__(self, in_channels, out_channels, mid_channels=None):\n",
    "        super().__init__()\n",
    "        if not mid_channels:\n",
    "            mid_channels = out_channels\n",
    "        self.double_conv = nn.Sequential(\n",
    "            nn.Conv3d(in_channels, mid_channels, kernel_size=3, padding=1),\n",
    "            nn.ReLU(inplace=True),\n",
    "            nn.Conv3d(mid_channels, out_channels, kernel_size=3, padding=1),\n",
    "            nn.ReLU(inplace=True)\n",
    "        )\n",
    "\n",
    "    def forward(self, x):\n",
    "        return self.double_conv(x)\n",
    "    \n",
    "class Down(nn.Module):\n",
    "    def __init__(self, in_channels, out_channels):\n",
    "        super().__init__()\n",
    "        self.maxpool_conv = nn.Sequential(\n",
    "            nn.MaxPool2d(2),\n",
    "            DoubleConv(in_channels, out_channels)\n",
    "        )\n",
    "\n",
    "    def forward(self, x):\n",
    "        return self.maxpool_conv(x)\n",
    "\n",
    "class Down_3D(nn.Module):\n",
    "    def __init__(self, in_channels, out_channels):\n",
    "        super().__init__()\n",
    "        self.maxpool_conv = nn.Sequential(\n",
    "            nn.MaxPool3d(2),\n",
    "            DoubleConv_3D(in_channels, out_channels)\n",
    "        )\n",
    "\n",
    "    def forward(self, x):\n",
    "        return self.maxpool_conv(x)\n",
    "\n",
    "class Up(nn.Module):\n",
    "    def __init__(self, in_channels, out_channels, bilinear=True):\n",
    "        super().__init__()\n",
    "\n",
    "        # if bilinear, use the normal convolutions to reduce the number of channels\n",
    "        if bilinear:\n",
    "            self.up = nn.Upsample(scale_factor=2, mode='bilinear', align_corners=True)\n",
    "            self.conv = DoubleConv(in_channels, out_channels, in_channels // 2)\n",
    "        else:\n",
    "            self.up = nn.ConvTranspose2d(in_channels , in_channels // 2, kernel_size=2, stride=2)\n",
    "            self.conv = DoubleConv(in_channels, out_channels)\n",
    "\n",
    "\n",
    "    def forward(self, x1, x2):\n",
    "        x1 = self.up(x1)\n",
    "        # input is CHW\n",
    "        diffY = x2.size()[2] - x1.size()[2]\n",
    "        diffX = x2.size()[3] - x1.size()[3]\n",
    "\n",
    "        x1 = F.pad(x1, [diffX // 2, diffX - diffX // 2,\n",
    "                        diffY // 2, diffY - diffY // 2])\n",
    "        # if you have padding issues, see\n",
    "        # https://github.com/HaiyongJiang/U-Net-Pytorch-Unstructured-Buggy/commit/0e854509c2cea854e247a9c615f175f76fbb2e3a\n",
    "        # https://github.com/xiaopeng-liao/Pytorch-UNet/commit/8ebac70e633bac59fc22bb5195e513d5832fb3bd\n",
    "        x = torch.cat([x2, x1], dim=1)\n",
    "        return self.conv(x)\n",
    "\n",
    "class Up_3D(nn.Module):\n",
    "    def __init__(self, in_channels, out_channels, bilinear=True):\n",
    "        super().__init__()\n",
    "\n",
    "        # if bilinear, use the normal convolutions to reduce the number of channels\n",
    "        if bilinear:\n",
    "            self.up   = nn.Upsample(scale_factor=2, mode='trilinear', align_corners=True)\n",
    "            self.conv = DoubleConv_3D(in_channels, out_channels, in_channels // 2)\n",
    "        else:\n",
    "            self.up = nn.ConvTranspose2d(in_channels , in_channels // 2, kernel_size=2, stride=2)\n",
    "            self.conv = DoubleConv(in_channels, out_channels)\n",
    "\n",
    "\n",
    "    def forward(self, x1, x2):\n",
    "        x1 = self.up(x1)\n",
    "        # input is CHW\n",
    "        diffY = x2.size()[2] - x1.size()[2]\n",
    "        diffX = x2.size()[3] - x1.size()[3]\n",
    "\n",
    "        x1 = F.pad(x1, [diffX // 2, diffX - diffX // 2,\n",
    "                        diffY // 2, diffY - diffY // 2])\n",
    "        # if you have padding issues, see\n",
    "        # https://github.com/HaiyongJiang/U-Net-Pytorch-Unstructured-Buggy/commit/0e854509c2cea854e247a9c615f175f76fbb2e3a\n",
    "        # https://github.com/xiaopeng-liao/Pytorch-UNet/commit/8ebac70e633bac59fc22bb5195e513d5832fb3bd\n",
    "        x = torch.cat([x2, x1], dim=1)\n",
    "        return self.conv(x)\n",
    "\n",
    "class OutConv(nn.Module):\n",
    "    def __init__(self, in_channels, out_channels):\n",
    "        super(OutConv, self).__init__()\n",
    "        self.conv = nn.Conv2d(in_channels, out_channels, kernel_size=1)\n",
    "\n",
    "    def forward(self, x):\n",
    "        return self.conv(x)\n",
    "\n",
    "class OutConv_3D(nn.Module):\n",
    "    def __init__(self, in_channels, out_channels):\n",
    "        super(OutConv_3D, self).__init__()\n",
    "        self.conv = nn.Conv3d(in_channels, out_channels, kernel_size=1)\n",
    "\n",
    "    def forward(self, x):\n",
    "        return self.conv(x)\n",
    "\n",
    "class SUNet(nn.Module):\n",
    "    def __init__(self, n_channels, n_classes, bilinear=True):\n",
    "        super(SUNet, self).__init__()\n",
    "        self.n_channels = n_channels\n",
    "        self.n_classes  = n_classes\n",
    "        self.bilinear   = bilinear\n",
    "\n",
    "        self.inc = DoubleConv(n_channels, 16)\n",
    "        self.down1 = Down(16, 32)\n",
    "        self.down2 = Down(32, 64)\n",
    "        self.down3 = Down(64, 128)\n",
    "        factor = 2 if bilinear else 1\n",
    "        self.down4 = Down(128, 256 // factor)\n",
    "        self.up1 = Up(256, 128 // factor, bilinear)\n",
    "        self.up2 = Up(128, 64 // factor, bilinear)\n",
    "        self.up3 = Up(64, 32 // factor, bilinear)\n",
    "        self.up4 = Up(32, 16, bilinear)\n",
    "        self.outc = OutConv(16, n_classes)\n",
    "        #self.out_sigmoid = nn.Sigmoid()\n",
    "        self.out_softmax = nn.LogSoftmax(dim=1)\n",
    "        \n",
    "        self.gn1 = nn.GroupNorm(8, 16)\n",
    "        self.gn2 = nn.GroupNorm(16, 32)\n",
    "        self.gn3 = nn.GroupNorm(32, 64)\n",
    "        self.gn4 = nn.GroupNorm(64, 128)\n",
    "        self.gn5 = nn.GroupNorm(32, 64)\n",
    "        self.gn6 = nn.GroupNorm(16, 32)\n",
    "        self.gn7 = nn.GroupNorm(8, 16)\n",
    "        \n",
    "        self.dp1 = nn.Dropout(p=0.2)\n",
    "        self.dp2 = nn.Dropout(p=0.2)\n",
    "    \n",
    "    def forward(self, x):\n",
    "        x1 = self.inc(x)\n",
    "        x1 = self.gn1(x1)\n",
    "        \n",
    "        x2 = self.down1(x1)\n",
    "        x2 = self.gn2(x2)\n",
    "        \n",
    "        x3 = self.down2(x2)\n",
    "        x3 = self.gn3(x3)\n",
    "        #x3 = self.dp1(x3)\n",
    "        \n",
    "        x4 = self.down3(x3)\n",
    "        x4 = self.gn4(x4)\n",
    "        #x4 = self.dp2(x4)\n",
    "        \n",
    "        x5 = self.down4(x4)\n",
    "        x = self.up1(x5, x4)\n",
    "        x = self.gn5(x)\n",
    "       \n",
    "        x = self.up2(x, x3)\n",
    "        x = self.gn6(x)\n",
    "            \n",
    "        x = self.up3(x, x2)\n",
    "        x = self.gn7(x)\n",
    "        \n",
    "        x  = self.up4(x, x1)\n",
    "        \n",
    "        logits = self.outc(x)\n",
    "        #out    = self.out_softmax(logits)\n",
    "        return logits\n",
    "\n",
    "class SUNet_3D(nn.Module):\n",
    "    def __init__(self, n_channels, n_classes, bilinear=True):\n",
    "        super(SUNet_3D, self).__init__()\n",
    "        self.n_channels = n_channels\n",
    "        self.n_classes  = n_classes\n",
    "        self.bilinear   = bilinear\n",
    "\n",
    "        self.inc   = DoubleConv_3D(n_channels, 16)\n",
    "        self.down1 = Down_3D(16, 32)\n",
    "        self.down2 = Down_3D(32, 64)\n",
    "        self.down3 = Down_3D(64, 128)\n",
    "        factor = 2 if bilinear else 1\n",
    "        self.down4 = Down_3D(128, 256 // factor)\n",
    "        self.up1 = Up_3D(256, 128 // factor, bilinear)\n",
    "        self.up2 = Up_3D(128, 64 // factor, bilinear)\n",
    "        self.up3 = Up_3D(64, 32 // factor, bilinear)\n",
    "        self.up4 = Up_3D(32, 16, bilinear)\n",
    "        self.outc = OutConv_3D(16, n_classes)\n",
    "        #self.out_sigmoid = nn.Sigmoid()\n",
    "        self.out_softmax = nn.LogSoftmax(dim=1)\n",
    "        \n",
    "        self.gn1 = nn.GroupNorm(8, 16)\n",
    "        self.gn2 = nn.GroupNorm(16, 32)\n",
    "        self.gn3 = nn.GroupNorm(32, 64)\n",
    "        self.gn4 = nn.GroupNorm(64, 128)\n",
    "        self.gn5 = nn.GroupNorm(32, 64)\n",
    "        self.gn6 = nn.GroupNorm(16, 32)\n",
    "        self.gn7 = nn.GroupNorm(8, 16)\n",
    "        \n",
    "        self.dp1 = nn.Dropout(p=0.2)\n",
    "        self.dp2 = nn.Dropout(p=0.2)\n",
    "    \n",
    "    def forward(self, x):\n",
    "        x1 = self.inc(x)\n",
    "        x1 = self.gn1(x1)\n",
    "        \n",
    "        x2 = self.down1(x1)\n",
    "        x2 = self.gn2(x2)\n",
    "        \n",
    "        x3 = self.down2(x2)\n",
    "        x3 = self.gn3(x3)\n",
    "        #x3 = self.dp1(x3)\n",
    "        \n",
    "        x4 = self.down3(x3)\n",
    "        x4 = self.gn4(x4)\n",
    "        #x4 = self.dp2(x4)\n",
    "        \n",
    "        x5 = self.down4(x4)\n",
    "        x = self.up1(x5, x4)\n",
    "        x = self.gn5(x)\n",
    "       \n",
    "        x = self.up2(x, x3)\n",
    "        x = self.gn6(x)\n",
    "            \n",
    "        x = self.up3(x, x2)\n",
    "        x = self.gn7(x)\n",
    "        \n",
    "        x  = self.up4(x, x1)\n",
    "        \n",
    "        logits = self.outc(x)\n",
    "        #out    = self.out_softmax(logits)\n",
    "        return logits\n",
    "\n",
    "class SUNet_with_BN(nn.Module):\n",
    "    def __init__(self, n_channels, n_classes, bilinear=True):\n",
    "        super(SUNet_with_BN, self).__init__()\n",
    "        self.n_channels = n_channels\n",
    "        self.n_classes  = n_classes\n",
    "        self.bilinear   = bilinear\n",
    "\n",
    "        self.inc = DoubleConv(n_channels, 16)\n",
    "        self.down1 = Down(16, 32)\n",
    "        self.down2 = Down(32, 64)\n",
    "        self.down3 = Down(64, 128)\n",
    "        factor = 2 if bilinear else 1\n",
    "        self.down4 = Down(128, 256 // factor)\n",
    "        self.up1 = Up(256, 128 // factor, bilinear)\n",
    "        self.up2 = Up(128, 64 // factor, bilinear)\n",
    "        self.up3 = Up(64, 32 // factor, bilinear)\n",
    "        self.up4 = Up(32, 16, bilinear)\n",
    "        self.outc = OutConv(16, n_classes)\n",
    "        #self.out_sigmoid = nn.Sigmoid()\n",
    "        self.out_softmax = nn.LogSoftmax(dim=1)\n",
    "        \n",
    "        self.gn1 = nn.BatchNorm2d(16)\n",
    "        self.gn2 = nn.BatchNorm2d(32)\n",
    "        self.gn3 = nn.BatchNorm2d(64)\n",
    "        self.gn4 = nn.BatchNorm2d(128)\n",
    "        self.gn5 = nn.BatchNorm2d(64)\n",
    "        self.gn6 = nn.BatchNorm2d(32)\n",
    "        self.gn7 = nn.BatchNorm2d(16)\n",
    "        \n",
    "        self.dp1 = nn.Dropout(p=0.4)\n",
    "        self.dp2 = nn.Dropout(p=0.4)\n",
    "    \n",
    "    def forward(self, x):\n",
    "        x1 = self.inc(x)\n",
    "        x1 = self.gn1(x1)\n",
    "        \n",
    "        x2 = self.down1(x1)\n",
    "        x2 = self.gn2(x2)\n",
    "        \n",
    "        x3 = self.down2(x2)\n",
    "        x3 = self.gn3(x3)\n",
    "       \n",
    "        x4 = self.down3(x3)\n",
    "        x4 = self.gn4(x4)\n",
    "       \n",
    "        x5 = self.down4(x4)\n",
    "        x = self.up1(x5, x4)\n",
    "        x = self.gn5(x)\n",
    "       \n",
    "        x = self.up2(x, x3)\n",
    "        x = self.gn6(x)\n",
    "            \n",
    "        x = self.up3(x, x2)\n",
    "        x = self.gn7(x)\n",
    "        \n",
    "        x  = self.up4(x, x1)\n",
    "        \n",
    "        logits = self.outc(x)\n",
    "        #out    = self.out_softmax(logits)\n",
    "        return logits\n",
    "\n",
    "class SUNet_without_GN(nn.Module):\n",
    "    def __init__(self, n_channels, n_classes, bilinear=True):\n",
    "        super(SUNet_without_GN, self).__init__()\n",
    "        self.n_channels = n_channels\n",
    "        self.n_classes  = n_classes\n",
    "        self.bilinear   = bilinear\n",
    "\n",
    "        self.inc = DoubleConv(n_channels, 16)\n",
    "        self.down1 = Down(16, 32)\n",
    "        self.down2 = Down(32, 64)\n",
    "        self.down3 = Down(64, 128)\n",
    "        factor = 2 if bilinear else 1\n",
    "        self.down4 = Down(128, 256 // factor)\n",
    "        self.up1 = Up(256, 128 // factor, bilinear)\n",
    "        self.up2 = Up(128, 64 // factor, bilinear)\n",
    "        self.up3 = Up(64, 32 // factor, bilinear)\n",
    "        self.up4 = Up(32, 16, bilinear)\n",
    "        self.outc = OutConv(16, n_classes)\n",
    "        \n",
    "    \n",
    "    def forward(self, x):\n",
    "        x1 = self.inc(x)\n",
    "        x2 = self.down1(x1)\n",
    "        x3 = self.down2(x2)\n",
    "        x4 = self.down3(x3)\n",
    "        \n",
    "        x5 = self.down4(x4)\n",
    "        x  = self.up1(x5, x4)\n",
    "        x  = self.up2(x, x3)\n",
    "        x  = self.up3(x, x2)\n",
    "        x  = self.up4(x, x1)\n",
    "        \n",
    "        logits = self.outc(x)\n",
    "        \n",
    "        return logits\n",
    "\n",
    "class AttnDecoderRNN_old(nn.Module):\n",
    "    def __init__(self, hidden_size, output_size, dropout_p=0.1, max_length=256, bilinear=True):\n",
    "        super(AttnDecoderRNN, self).__init__()\n",
    "        self.hidden_size = hidden_size\n",
    "        self.output_size = output_size\n",
    "        self.dropout_p = dropout_p\n",
    "        self.max_length = max_length\n",
    "        self.bilinear = bilinear\n",
    "        self.n_classes = 1\n",
    "\n",
    "        self.embedding = nn.Embedding(self.output_size, self.hidden_size)\n",
    "        self.attn = nn.Linear(self.hidden_size*2, self.max_length)\n",
    "        \n",
    "        self.attn_24 = nn.Linear(self.hidden_size*4, self.hidden_size*2)\n",
    "        \n",
    "        self.attn_combine = nn.Linear(self.hidden_size * 2, self.hidden_size)\n",
    "        \n",
    "        self.attn_combine_bilstm = nn.Linear(self.hidden_size * 3, self.hidden_size)\n",
    "        self.dropout = nn.Dropout(self.dropout_p)\n",
    "        self.gru = nn.GRU(self.hidden_size, self.hidden_size)\n",
    "        self.out = nn.Linear(self.hidden_size, self.output_size)\n",
    "       # self.hidden = nn.Parameter(torch.randn(4,256,256).cuda()),nn.Parameter(torch.randn(4,256,256).cuda())\n",
    "       \n",
    "        self.lsgn_a = nn.GroupNorm(128,256)\n",
    "    \n",
    "        self.down5 = Down(128,256)\n",
    "        \n",
    "        factor = 2 if bilinear else 1\n",
    "                \n",
    "        self.ups4 = nn.ConvTranspose2d(256 , 256 // 2, kernel_size=2, stride=2)\n",
    "        self.upsconv4 = DoubleConv(256,128)\n",
    "\n",
    "        self.lstm = nn.LSTM(256,256,batch_first=False,bidirectional=True,num_layers=1).cuda()\n",
    "    \n",
    "    def forward(self, input,hidden,encoder_outputs):\n",
    "        \n",
    "        h = torch.unsqueeze(hidden,0)\n",
    "        \n",
    "        embedded = input\n",
    "        \n",
    "        embedded = self.dropout(embedded)\n",
    "\n",
    "        hidden_bilstm = h[0]\n",
    "        \n",
    "        \n",
    "        hidden_bilinn =  hidden_bilstm\n",
    "        \n",
    "        hidden_bilinn = self.attn(hidden_bilinn)\n",
    "    \n",
    "        hidden_bilinn = self.lsgn_a(hidden_bilinn)\n",
    "\n",
    "        attn_weights = F.softmax(self.attn(torch.cat((embedded[0], hidden_bilinn), 1)), dim=1)\n",
    "        \n",
    "        \n",
    "        \n",
    "        attn_weights  = self.lsgn_a(attn_weights)\n",
    "    \n",
    "        attn_applied = torch.bmm(attn_weights.unsqueeze(0),encoder_outputs.unsqueeze(0))\n",
    "        \n",
    "   #     print('attn_applied: encoder outputs',attn_applied[0].shape,encoder_outputs[0].shape)\n",
    "\n",
    "        output = torch.cat((embedded[0], attn_applied[0]), 1)\n",
    "  #      print('The output shape is : ',output.shape)\n",
    "        \n",
    "        output = self.attn_combine_bilstm(output).unsqueeze(0)\n",
    " #      print('The output shape after is : ',output.shape)\n",
    "        \n",
    "    \n",
    "        hidden_bi = hidden_bilinn.unsqueeze(0)\n",
    "        \n",
    "        output = F.relu(output)\n",
    "        \n",
    "        #print(\"output and hidden before lstm \",output.shape,hidden_bi.shape)\n",
    "\n",
    "        output, hidden = self.gru(output, hidden_bi)\n",
    "        \n",
    "        output = F.log_softmax(self.out(output[0]), dim=1)\n",
    "        output = self.lsgn_a(output)\n",
    "        \n",
    "       #output = self.lsgn_a(output)\n",
    "    \n",
    "        return output,hidden\n",
    "\n",
    "\n",
    "    def initHidden(self):\n",
    "        return torch.randn(4, 256, self.hidden_size, device=device)\n",
    "\n",
    "############### MAIN MODEL ##############\n",
    "class UNetDoubleSmallGroupNormdifferent_old(nn.Module):\n",
    "    def __init__(self, n_channels, n_classes,bilinear=True):\n",
    "        \n",
    "        super(UNetDoubleSmallGroupNormdifferent, self).__init__()\n",
    "        self.n_channels = n_channels\n",
    "        self.n_classes = n_classes\n",
    "        self.bilinear = bilinear\n",
    "\n",
    "        self.inc = DoubleConv(n_channels, 16)\n",
    "        self.down1 = Down(16, 32)\n",
    "        self.down2 = Down(32, 64)\n",
    "        self.down3 = Down(64, 128)\n",
    "        factor = 2 if bilinear else 1\n",
    "        self.down4 = Down(128, 256 // factor)\n",
    "\n",
    "        \n",
    "        self.down5 = Down(128,256)\n",
    "        \n",
    "        \n",
    "        self.up1 = Up(256, 128 // factor, bilinear)\n",
    "        self.up2 = Up(128, 64 // factor, bilinear)\n",
    "        self.up3 = Up(64, 32 // factor, bilinear)\n",
    "        self.up4 = Up(32, 16, bilinear)\n",
    "        self.outc = OutConv(16, n_classes)\n",
    "        #self.out_sigmoid = nn.Sigmoid()\n",
    "        self.out_softmax = nn.LogSoftmax(dim=1)\n",
    "        \n",
    "        self.lsgn1 = nn.GroupNorm(128,256)\n",
    "        \n",
    "        self.lsgn2 = nn.GroupNorm(64,256)\n",
    "        \n",
    "        \n",
    "        self.gn1 = nn.GroupNorm(8, 16)\n",
    "        self.gn2 = nn.GroupNorm(16, 32)\n",
    "        self.gn3 = nn.GroupNorm(32, 64)\n",
    "        self.gn4 = nn.GroupNorm(64, 128)\n",
    "        self.gn5 = nn.GroupNorm(32, 64)\n",
    "        self.gn6 = nn.GroupNorm(16, 32)\n",
    "        self.gn7 = nn.GroupNorm(8, 16)\n",
    "   \n",
    "    def forward(self, x):\n",
    "        x1 = self.inc(x)\n",
    "       # x1 = self.gn1(x1)\n",
    "       \n",
    "        x2 = self.down1(x1)\n",
    "       # x2 = self.gn2(x2)\n",
    "       \n",
    "        x3 = self.down2(x2)\n",
    "       # x3 = self.gn3(x3)\n",
    "       \n",
    "        x4 = self.down3(x3)\n",
    "       # x4 = self.gn4(x4)\n",
    "       \n",
    "        x5 = self.down4(x4)\n",
    "        \n",
    "        #x5 = torch.squeeze(x5)\n",
    "        x5 = self.down5(x5)\n",
    "        #x5 = self.down6(x5)\n",
    "        \n",
    "        #print('x5 shape is :',x5.shape)\n",
    "        \n",
    "        xlst = x5.reshape([4,256,256])\n",
    "\n",
    "        lstm = nn.LSTM(256,256,batch_first= True,bidirectional=True,num_layers=1).cuda()\n",
    "                \n",
    "        #print('xlst',xlst.shape)    \n",
    "        \n",
    "        xlst = self.lsgn1(xlst)\n",
    "        \n",
    "        ylst = lstm(xlst)\n",
    "        \n",
    "        \n",
    "        #print(hidden)\n",
    "        \n",
    "        f = np.asarray(ylst)\n",
    "        \n",
    "        h  = torch.cuda.FloatTensor(ylst[0])\n",
    "        \n",
    "        \n",
    "        h = torch.squeeze(h)\n",
    "        \n",
    "        encoder_o = f[0]\n",
    "        \n",
    "        a = np.zeros((4,256,256))\n",
    "\n",
    "        a = torch.from_numpy(a)\n",
    "        a.cuda()\n",
    "        \n",
    "        for i in range(4):\n",
    "    \n",
    "            oo,b = attn_decoder1.forward(xlst,h[i],encoder_o[i])\n",
    "            oo = self.lsgn2(oo)\n",
    "            a[i] = oo\n",
    "        \n",
    "            \n",
    "        a = a.unsqueeze(0)\n",
    "        a = a.reshape([4,256,16,16])\n",
    "        \n",
    "        \n",
    "        \n",
    "        x5 = a  \n",
    "        x5 = x5.cuda()\n",
    "        \n",
    "        \n",
    "        x5 = x5.type(torch.cuda.FloatTensor)\n",
    " \n",
    "        \n",
    "        \n",
    "        x5 = self.lsgn2(x5)\n",
    "        \n",
    "        ups4 = nn.ConvTranspose2d(256 , 256 // 2, kernel_size=2, stride=2)\n",
    "        upsconv4 = DoubleConv(256,128)\n",
    "\n",
    "        ups4 = ups4.cuda()\n",
    "        \n",
    "        opt = ups4(x5)\n",
    "        \n",
    "        x5 = opt\n",
    "        \n",
    "        x = self.up1(x5, x4)\n",
    "        #x = self.gn5(x)\n",
    "        \n",
    "        x = self.up2(x, x3)\n",
    "       # x = self.gn6(x)\n",
    "       \n",
    "        x = self.up3(x, x2)\n",
    "        #x = self.gn7(x)\n",
    "       \n",
    "        x = self.up4(x, x1)\n",
    "        logits = self.outc(x)\n",
    "        #out    = self.out_softmax(logits)\n",
    "        return logits\n",
    "\n",
    "class UNetDoubleSmallGroupNormdifferent(nn.Module):\n",
    "    def __init__(self, n_channels, n_classes,bilinear=True):\n",
    "        super(UNetDoubleSmallGroupNormdifferent, self).__init__()\n",
    "        self.n_channels = n_channels\n",
    "        self.n_classes = n_classes\n",
    "        self.bilinear = bilinear\n",
    "\n",
    "        self.inc     = DoubleConv(n_channels, 16)\n",
    "        self.down1   = Down(16, 32)\n",
    "        self.downnew = Down(16,16)\n",
    "        self.down2   = Down(32, 64)\n",
    "        self.down3   = Down(64, 128)\n",
    "        factor = 2 if bilinear else 1\n",
    "        self.down4   = Down(128, 256 // factor) \n",
    "        self.upsam   = nn.Upsample(scale_factor=2, mode='nearest')\n",
    "        \n",
    "        self.down5 = Down(128,256)\n",
    "        self.ups3  = nn.ConvTranspose2d(1 , 1, kernel_size=2, stride=2)\n",
    "        self.ups4  = nn.ConvTranspose2d(256 , 256 // 2, kernel_size=2, stride=2)\n",
    "        \n",
    "        self.up1 = Up(256, 128 // factor, bilinear)\n",
    "        self.up2 = Up(128, 64 // factor, bilinear)\n",
    "        self.up3 = Up(64, 32 // factor, bilinear)\n",
    "        self.up4 = Up(32, 16, bilinear)\n",
    "        self.outc = OutConv(16, n_classes)\n",
    "        #self.out_sigmoid = nn.Sigmoid()\n",
    "        self.out_softmax = nn.LogSoftmax(dim=1)\n",
    "        \n",
    "        self.lsgn1 = nn.GroupNorm(64,128)\n",
    "        self.lsgn2 = nn.GroupNorm(64,1024)\n",
    "        self.lsgn3 = nn.GroupNorm(64,1024)\n",
    "        \n",
    "        self.gn1 = nn.GroupNorm(8, 16)\n",
    "        self.gn2 = nn.GroupNorm(16, 32)\n",
    "        self.gn3 = nn.GroupNorm(32, 64)\n",
    "        self.gn4 = nn.GroupNorm(64, 128)\n",
    "        self.gn5 = nn.GroupNorm(32, 64)\n",
    "        self.gn6 = nn.GroupNorm(16, 32)\n",
    "        self.gn7 = nn.GroupNorm(8, 16)\n",
    "        self.gn8 = nn.GroupNorm(4,8)\n",
    "   \n",
    "    def forward(self, x):\n",
    "        #x = self.upsam()\n",
    "        \n",
    "        x1 = self.inc(x)\n",
    "        #x1 = self.gn1(x1)\n",
    "       \n",
    "        x2 = self.down1(x1)\n",
    "        #x2 = self.gn2(x2)\n",
    "       \n",
    "        x3 = self.down2(x2)\n",
    "        #x3 = self.gn3(x3)\n",
    "       \n",
    "        x4 = self.down3(x3)\n",
    "        #x4 = self.gn4(x4)\n",
    "       \n",
    "        x5 = self.down4(x4)\n",
    "        #x5 = self.gn\n",
    "        #x5 = torch.squeeze(x5)\n",
    "        #x5 = self.down5(x5)\n",
    "        #x5 = self.down6(x5)\n",
    "        #print('x5:',x5.shape)\n",
    "        \n",
    "        xlst = x5.reshape([4,128,1024])\n",
    "        \n",
    "\n",
    "        lstm = nn.LSTM(1024,1024,batch_first= True,bidirectional=True,num_layers=1).cuda()\n",
    "        \n",
    "        xlst = self.lsgn1(xlst)\n",
    "        ylst = lstm(xlst)\n",
    "        \n",
    "        f = np.asarray(ylst)\n",
    "        \n",
    "        h  = torch.cuda.FloatTensor(ylst[0])\n",
    "        h = torch.squeeze(h)\n",
    "        \n",
    "        encoder_o = f[0]\n",
    "        \n",
    "        a = np.zeros((4,128,1024))\n",
    "        #a = ndarray((4,128,1024))\n",
    "\n",
    "        a = torch.from_numpy(a)\n",
    "        a.cuda()\n",
    "        \n",
    "        for i in range(4):\n",
    "            oo,b = attn_decoder1.forward(xlst,h[i],encoder_o[i])\n",
    "            oo   = self.lsgn2(oo)\n",
    "            a[i] = oo\n",
    "        \n",
    "            \n",
    "        a = a.unsqueeze(0)\n",
    "        a = a.reshape([4,128,32,32])\n",
    "        \n",
    "        \n",
    "        x5 = a  \n",
    "        x5 = x5.cuda()\n",
    "        \n",
    "        \n",
    "        x5 = x5.type(torch.cuda.FloatTensor)\n",
    "        #x5 = self.lsgn3(x5)\n",
    "        \n",
    "        #x5 = self.ups4(x5)\n",
    "    \n",
    "        x = self.up1(x5, x4)\n",
    "        #x = self.gn5(x)\n",
    "        \n",
    "        x = self.up2(x, x3)\n",
    "        #x = self.gn6(x)\n",
    "       \n",
    "        x = self.up3(x, x2)\n",
    "        #x = self.gn7(x)\n",
    "       \n",
    "        x = self.up4(x, x1)\n",
    "        #x = self.gn7(x)\n",
    "\n",
    "        #x = self.downnew(x)\n",
    "        \n",
    "        #out    = self.out_softmax(logits)\n",
    "        \n",
    "        logits = self.outc(x)\n",
    "        \n",
    "        return logits\n",
    "\n",
    "class UNetDoubleSmallWithoutGN(nn.Module):\n",
    "    def __init__(self, n_channels, n_classes,bilinear=True):\n",
    "        \n",
    "        super(UNetDoubleSmallWithoutGN, self).__init__()\n",
    "        self.n_channels = n_channels\n",
    "        self.n_classes = n_classes\n",
    "        self.bilinear = bilinear\n",
    "\n",
    "        self.inc   = DoubleConv(n_channels, 16)\n",
    "        self.down1 = Down(16, 32)\n",
    "        self.down2 = Down(32, 64)\n",
    "        self.down3 = Down(64, 128)\n",
    "        factor = 2 if bilinear else 1\n",
    "        self.down4 = Down(128, 256 // factor)\n",
    "        self.down5 = Down(128,256)\n",
    "        \n",
    "        self.up1 = Up(256, 128 // factor, bilinear)\n",
    "        self.up2 = Up(128, 64 // factor, bilinear)\n",
    "        self.up3 = Up(64, 32 // factor, bilinear)\n",
    "        self.up4 = Up(32, 16, bilinear)\n",
    "        self.outc = OutConv(16, n_classes)\n",
    "        \n",
    "    def forward(self, x):\n",
    "        x1 = self.inc(x)\n",
    "       # x1 = self.gn1(x1)\n",
    "       \n",
    "        x2 = self.down1(x1)\n",
    "       # x2 = self.gn2(x2)\n",
    "       \n",
    "        x3 = self.down2(x2)\n",
    "       # x3 = self.gn3(x3)\n",
    "       \n",
    "        x4 = self.down3(x3)\n",
    "       # x4 = self.gn4(x4)\n",
    "       \n",
    "        x5 = self.down4(x4)\n",
    "        \n",
    "        #x5 = torch.squeeze(x5)\n",
    "        x5 = self.down5(x5)\n",
    "        #x5 = self.down6(x5)\n",
    "        \n",
    "        ups4     = nn.ConvTranspose2d(256 , 256 // 2, kernel_size=2, stride=2)\n",
    "        upsconv4 = DoubleConv(256,128)\n",
    "        ups4 = ups4.cuda()\n",
    "        \n",
    "        opt = ups4(x5)\n",
    "        \n",
    "        x5 = opt\n",
    "        \n",
    "        x = self.up1(x5, x4)\n",
    "        #x = self.gn5(x)\n",
    "        \n",
    "        x = self.up2(x, x3)\n",
    "       # x = self.gn6(x)\n",
    "       \n",
    "        x = self.up3(x, x2)\n",
    "        #x = self.gn7(x)\n",
    "       \n",
    "        x = self.up4(x, x1)\n",
    "        logits = self.outc(x)\n",
    "        #out    = self.out_softmax(logits)\n",
    "        return logits\n",
    "\n",
    "class AttnDecoderRNN(nn.Module):\n",
    "    def __init__(self, hidden_size, output_size, dropout_p=0.1, max_length=128, bilinear=True):\n",
    "        super(AttnDecoderRNN, self).__init__()\n",
    "        self.hidden_size = hidden_size\n",
    "        self.output_size = output_size\n",
    "        self.dropout_p   = dropout_p\n",
    "        self.max_length  = max_length\n",
    "        self.bilinear    = bilinear\n",
    "        self.n_classes   = 1\n",
    "\n",
    "        self.embedding = nn.Embedding(self.output_size, self.hidden_size)\n",
    "        self.attn      = nn.Linear(2048, 1024)\n",
    "        \n",
    "        self.attn2   = nn.Linear(1024, 128)\n",
    "        \n",
    "        self.attn_24 = nn.Linear(self.hidden_size*4, self.hidden_size*2)\n",
    "        \n",
    "        self.attn_combine = nn.Linear(self.hidden_size * 2, self.hidden_size)\n",
    "        \n",
    "        self.attn_combine_bilstm = nn.Linear(3072, 1024)\n",
    "        self.dropout = nn.Dropout(self.dropout_p)\n",
    "        self.gru     = nn.GRU(1024, 1024)\n",
    "        self.out     = nn.Linear(1024, 1024)\n",
    "       # self.hidden = nn.Parameter(torch.randn(4,256,256).cuda()),nn.Parameter(torch.randn(4,256,256).cuda())\n",
    "       \n",
    "        #self.lsgn_a = nn.GroupNorm(512,1024)\n",
    "        self.lsbn_a1 = nn.BatchNorm1d(1024)\n",
    "        #self.lsgn_a2 = nn.GroupNorm(512,1024)\n",
    "        \n",
    "        #self.lsgn_in = nn.GroupNorm(64,128)\n",
    "        self.lsbn_in1 = nn.BatchNorm1d(2048)\n",
    "        self.lsbn_in2 = nn.BatchNorm1d(1024)\n",
    "        \n",
    "        \n",
    "        self.lsbn_in3 = nn.BatchNorm1d(128)#nn.GroupNorm(64,   128)\n",
    "        self.lsbn_in4 = nn.BatchNorm1d(128)#nn.GroupNorm(64,   128)\n",
    "        self.lsbn_in5 = nn.BatchNorm1d(1024)#nn.GroupNorm(512,  1024)\n",
    "        \n",
    "        self.down5 = Down(128,256)\n",
    "        \n",
    "        factor = 2 if bilinear else 1\n",
    "                \n",
    "        self.ups4     = nn.ConvTranspose2d(256 , 256 // 2, kernel_size=2, stride=2)\n",
    "        self.upsconv4 = DoubleConv(256,128)\n",
    "\n",
    "        self.lstm = nn.LSTM(256,256,batch_first=False,bidirectional=True,num_layers=1).cuda()\n",
    "    \n",
    "    def forward(self, input,hidden,encoder_outputs):\n",
    "        \n",
    "        h        = torch.unsqueeze(hidden, 0)\n",
    "        embedded = input\n",
    "        #embedded = self.lsgn_in1(embedded)\n",
    "        embedded = self.dropout(embedded)\n",
    "        \n",
    "        hidden_bilstm = h[0]\n",
    "        hidden_bilinn = hidden_bilstm\n",
    "        \n",
    "        hidden_bilinn = self.attn(hidden_bilinn)\n",
    "        hidden_bilinn = self.lsbn_a1(hidden_bilinn)\n",
    "        \n",
    "        hidden_bi     = hidden_bilinn.unsqueeze(0)\n",
    "        \n",
    "        #print(hidden_bilinn.shape)\n",
    "        \n",
    "        attn_weights  = torch.cat((embedded[0], hidden_bilinn), 1)\n",
    "        attn_weights  = self.lsbn_in1(attn_weights)\n",
    "        \n",
    "        attn_weights  = self.attn(attn_weights)\n",
    "        attn_weights  = self.lsbn_in2(attn_weights)\n",
    "        \n",
    "        attn_weights  = F.softmax(attn_weights, dim=1)\n",
    "        \n",
    "        attn_weights  = self.attn2(attn_weights)\n",
    "        attn_weights  = self.lsbn_in3(attn_weights)\n",
    "        \n",
    "        #print(attn_weights.unsqueeze(0).shape,encoder_outputs.unsqueeze(0).shape)\n",
    "    \n",
    "        attn_applied = torch.bmm(attn_weights.unsqueeze(0), encoder_outputs.unsqueeze(0))\n",
    "        \n",
    "        #print('attn_applied: encoder outputs',attn_applied[0].shape,encoder_outputs[0].shape)\n",
    "\n",
    "        output = torch.cat((embedded[0], attn_applied[0]), 1)\n",
    "        \n",
    "        output = self.attn_combine_bilstm(output).unsqueeze(0)\n",
    "        output = F.relu(output)\n",
    "        output = self.lsbn_in4(output)\n",
    "        \n",
    "        output, hidden = self.gru(output, hidden_bi)\n",
    "        \n",
    "        output = self.out(output[0])\n",
    "        output = self.lsbn_in5(output)\n",
    "        output = F.log_softmax(output, dim=1)\n",
    "        return output, hidden\n",
    "\n",
    "\n",
    "    def initHidden(self):\n",
    "        return torch.randn(4, 256, self.hidden_size, device=device)\n",
    "\n",
    "class AttU_Net(nn.Module):\n",
    "    \"\"\"\n",
    "    Attention Unet implementation\n",
    "    Paper: https://arxiv.org/abs/1804.03999\n",
    "    \"\"\"\n",
    "    def __init__(self, img_ch=1, output_ch=1):\n",
    "        super(AttU_Net, self).__init__()\n",
    "\n",
    "        n1 = 64\n",
    "        filters = [n1, n1 * 2, n1 * 4, n1 * 8, n1 * 16]\n",
    "\n",
    "        self.Maxpool1 = nn.MaxPool2d(kernel_size=2, stride=2)\n",
    "        self.Maxpool2 = nn.MaxPool2d(kernel_size=2, stride=2)\n",
    "        self.Maxpool3 = nn.MaxPool2d(kernel_size=2, stride=2)\n",
    "        self.Maxpool4 = nn.MaxPool2d(kernel_size=2, stride=2)\n",
    "\n",
    "        self.Conv1 = conv_block(img_ch, filters[0])\n",
    "        self.Conv2 = conv_block(filters[0], filters[1])\n",
    "        self.Conv3 = conv_block(filters[1], filters[2])\n",
    "        self.Conv4 = conv_block(filters[2], filters[3])\n",
    "        self.Conv5 = conv_block(filters[3], filters[4])\n",
    "\n",
    "        self.Up5 = up_conv(filters[4], filters[3])\n",
    "        self.Att5 = Attention_block(F_g=filters[3], F_l=filters[3], F_int=filters[2])\n",
    "        self.Up_conv5 = conv_block(filters[4], filters[3])\n",
    "\n",
    "        self.Up4 = up_conv(filters[3], filters[2])\n",
    "        self.Att4 = Attention_block(F_g=filters[2], F_l=filters[2], F_int=filters[1])\n",
    "        self.Up_conv4 = conv_block(filters[3], filters[2])\n",
    "\n",
    "        self.Up3 = up_conv(filters[2], filters[1])\n",
    "        self.Att3 = Attention_block(F_g=filters[1], F_l=filters[1], F_int=filters[0])\n",
    "        self.Up_conv3 = conv_block(filters[2], filters[1])\n",
    "\n",
    "        self.Up2 = up_conv(filters[1], filters[0])\n",
    "        self.Att2 = Attention_block(F_g=filters[0], F_l=filters[0], F_int=32)\n",
    "        self.Up_conv2 = conv_block(filters[1], filters[0])\n",
    "\n",
    "        self.Conv = nn.Conv2d(filters[0], output_ch, kernel_size=1, stride=1, padding=0)\n",
    "\n",
    "        #self.active = torch.nn.Sigmoid()\n",
    "\n",
    "\n",
    "    def forward(self, x):\n",
    "\n",
    "        e1 = self.Conv1(x)\n",
    "\n",
    "        e2 = self.Maxpool1(e1)\n",
    "        e2 = self.Conv2(e2)\n",
    "\n",
    "        e3 = self.Maxpool2(e2)\n",
    "        e3 = self.Conv3(e3)\n",
    "\n",
    "        e4 = self.Maxpool3(e3)\n",
    "        e4 = self.Conv4(e4)\n",
    "\n",
    "        e5 = self.Maxpool4(e4)\n",
    "        e5 = self.Conv5(e5)\n",
    "\n",
    "        #print(x5.shape)\n",
    "        d5 = self.Up5(e5)\n",
    "        #print(d5.shape)\n",
    "        x4 = self.Att5(g=d5, x=e4)\n",
    "        d5 = torch.cat((x4, d5), dim=1)\n",
    "        d5 = self.Up_conv5(d5)\n",
    "\n",
    "        d4 = self.Up4(d5)\n",
    "        x3 = self.Att4(g=d4, x=e3)\n",
    "        d4 = torch.cat((x3, d4), dim=1)\n",
    "        d4 = self.Up_conv4(d4)\n",
    "\n",
    "        d3 = self.Up3(d4)\n",
    "        x2 = self.Att3(g=d3, x=e2)\n",
    "        d3 = torch.cat((x2, d3), dim=1)\n",
    "        d3 = self.Up_conv3(d3)\n",
    "\n",
    "        d2 = self.Up2(d3)\n",
    "        x1 = self.Att2(g=d2, x=e1)\n",
    "        d2 = torch.cat((x1, d2), dim=1)\n",
    "        d2 = self.Up_conv2(d2)\n",
    "\n",
    "        out = self.Conv(d2)\n",
    "\n",
    "      #  out = self.active(out)\n",
    "\n",
    "        return out\n",
    "    \n",
    "class UNetNormal(nn.Module):\n",
    "    def __init__(self, n_channels, n_classes, bilinear=True):\n",
    "        super(UNetNormal, self).__init__()\n",
    "        self.n_channels = n_channels\n",
    "        self.n_classes = n_classes\n",
    "        self.bilinear = bilinear\n",
    "        \n",
    "        my_factor = 1\n",
    "        factor    = 1\n",
    "        \n",
    "        self.inc   = DoubleConv(n_channels, 32*my_factor)\n",
    "        self.down1 = Down(32*my_factor, 64*my_factor)\n",
    "        self.down2 = Down(64*my_factor, 128*my_factor)\n",
    "        self.down3 = Down(128*my_factor, 256*my_factor)\n",
    "        factor = 2 if bilinear else 1\n",
    "        self.down4 = Down(256*my_factor, 512*my_factor // factor)\n",
    "        \n",
    "        self.lsgn1 = nn.GroupNorm(256,512)\n",
    "        self.lsgn2 = nn.GroupNorm(512,1024)\n",
    "        \n",
    "        self.up1 = Up(512*my_factor, 256*my_factor // factor, bilinear)\n",
    "        self.up2 = Up(256*my_factor, 128*my_factor // factor, bilinear)\n",
    "        self.up3 = Up(128*my_factor, 64*my_factor // factor, bilinear)\n",
    "        self.up4 = Up(64*my_factor, 32*my_factor, bilinear)\n",
    "        self.outc = OutConv(32*my_factor, n_classes)\n",
    "        #self.out_sigmoid = nn.Sigmoid()\n",
    "        #self.out_softmax = nn.LogSoftmax(dim=1)\n",
    "       \n",
    "    def forward(self, x):\n",
    "        x1 = self.inc(x)\n",
    "        x2 = self.down1(x1)\n",
    "        x3 = self.down2(x2)\n",
    "        x4 = self.down3(x3)\n",
    "        x5 = self.down4(x4)\n",
    "        \n",
    "        \n",
    "        x = self.up1(x5, x4)\n",
    "        x = self.up2(x, x3)\n",
    "        x = self.up3(x, x2)\n",
    "        x = self.up4(x, x1)\n",
    "        logits = self.outc(x)\n",
    "        #out    = self.out_softmax(logits)\n",
    "        return logits\n",
    "\n",
    "#model = SUNet_3D(1, 1)\n",
    "#model.cuda()"
   ]
  },
  {
   "cell_type": "code",
   "execution_count": 24,
   "metadata": {
    "code_folding": [
     0
    ],
    "scrolled": true
   },
   "outputs": [
    {
     "name": "stderr",
     "output_type": "stream",
     "text": [
      "  0%|          | 1/224 [00:07<27:31,  7.41s/it]"
     ]
    },
    {
     "name": "stdout",
     "output_type": "stream",
     "text": [
      "Size of volume is  (49, 2457, 1890)\n"
     ]
    },
    {
     "name": "stderr",
     "output_type": "stream",
     "text": [
      "\r",
      "  1%|          | 2/224 [00:19<32:52,  8.88s/it]"
     ]
    },
    {
     "name": "stdout",
     "output_type": "stream",
     "text": [
      "Size of volume is  (73, 2457, 1996)\n"
     ]
    },
    {
     "name": "stderr",
     "output_type": "stream",
     "text": [
      "\r",
      "  1%|▏         | 3/224 [00:32<36:33,  9.93s/it]"
     ]
    },
    {
     "name": "stdout",
     "output_type": "stream",
     "text": [
      "Size of volume is  (73, 2457, 1996)\n"
     ]
    },
    {
     "name": "stderr",
     "output_type": "stream",
     "text": [
      "\r",
      "  2%|▏         | 4/224 [00:48<43:52, 11.96s/it]"
     ]
    },
    {
     "name": "stdout",
     "output_type": "stream",
     "text": [
      "Size of volume is  (81, 2457, 1996)\n"
     ]
    },
    {
     "name": "stderr",
     "output_type": "stream",
     "text": [
      "\r",
      "  2%|▏         | 5/224 [01:05<48:31, 13.29s/it]"
     ]
    },
    {
     "name": "stdout",
     "output_type": "stream",
     "text": [
      "Size of volume is  (81, 2457, 1996)\n"
     ]
    },
    {
     "name": "stderr",
     "output_type": "stream",
     "text": [
      "\r",
      "  3%|▎         | 6/224 [01:13<43:21, 11.94s/it]"
     ]
    },
    {
     "name": "stdout",
     "output_type": "stream",
     "text": [
      "Size of volume is  (65, 2457, 1996)\n"
     ]
    },
    {
     "name": "stderr",
     "output_type": "stream",
     "text": [
      "\r",
      "  3%|▎         | 7/224 [01:18<35:32,  9.83s/it]"
     ]
    },
    {
     "name": "stdout",
     "output_type": "stream",
     "text": [
      "Size of volume is  (66, 2457, 1890)\n"
     ]
    },
    {
     "name": "stderr",
     "output_type": "stream",
     "text": [
      "\r",
      "  4%|▎         | 8/224 [01:28<34:39,  9.63s/it]"
     ]
    },
    {
     "name": "stdout",
     "output_type": "stream",
     "text": [
      "Size of volume is  (73, 2457, 1890)\n"
     ]
    },
    {
     "name": "stderr",
     "output_type": "stream",
     "text": [
      "\r",
      "  4%|▍         | 9/224 [01:45<42:53, 11.97s/it]"
     ]
    },
    {
     "name": "stdout",
     "output_type": "stream",
     "text": [
      "Size of volume is  (80, 2457, 1996)\n"
     ]
    },
    {
     "name": "stderr",
     "output_type": "stream",
     "text": [
      "\r",
      "  4%|▍         | 10/224 [01:59<44:32, 12.49s/it]"
     ]
    },
    {
     "name": "stdout",
     "output_type": "stream",
     "text": [
      "Size of volume is  (86, 2457, 1996)\n"
     ]
    },
    {
     "name": "stderr",
     "output_type": "stream",
     "text": [
      "\r",
      "  5%|▍         | 11/224 [02:15<48:17, 13.60s/it]"
     ]
    },
    {
     "name": "stdout",
     "output_type": "stream",
     "text": [
      "Size of volume is  (95, 2457, 1996)\n"
     ]
    },
    {
     "name": "stderr",
     "output_type": "stream",
     "text": [
      "\r",
      "  5%|▌         | 12/224 [02:22<41:23, 11.71s/it]"
     ]
    },
    {
     "name": "stdout",
     "output_type": "stream",
     "text": [
      "Size of volume is  (59, 2457, 1996)\n"
     ]
    },
    {
     "name": "stderr",
     "output_type": "stream",
     "text": [
      "\r",
      "  6%|▌         | 13/224 [02:29<36:29, 10.38s/it]"
     ]
    },
    {
     "name": "stdout",
     "output_type": "stream",
     "text": [
      "Size of volume is  (59, 2457, 1996)\n"
     ]
    },
    {
     "name": "stderr",
     "output_type": "stream",
     "text": [
      "\r",
      "  6%|▋         | 14/224 [02:37<33:01,  9.43s/it]"
     ]
    },
    {
     "name": "stdout",
     "output_type": "stream",
     "text": [
      "Size of volume is  (59, 2457, 1996)\n"
     ]
    },
    {
     "name": "stderr",
     "output_type": "stream",
     "text": [
      "\r",
      "  7%|▋         | 15/224 [02:45<31:52,  9.15s/it]"
     ]
    },
    {
     "name": "stdout",
     "output_type": "stream",
     "text": [
      "Size of volume is  (60, 2457, 1996)\n"
     ]
    },
    {
     "name": "stderr",
     "output_type": "stream",
     "text": [
      "\r",
      "  7%|▋         | 16/224 [02:54<30:56,  8.92s/it]"
     ]
    },
    {
     "name": "stdout",
     "output_type": "stream",
     "text": [
      "Size of volume is  (60, 2457, 1996)\n"
     ]
    },
    {
     "name": "stderr",
     "output_type": "stream",
     "text": [
      "\r",
      "  8%|▊         | 17/224 [03:02<30:15,  8.77s/it]"
     ]
    },
    {
     "name": "stdout",
     "output_type": "stream",
     "text": [
      "Size of volume is  (60, 2457, 1996)\n"
     ]
    },
    {
     "name": "stderr",
     "output_type": "stream",
     "text": [
      "\r",
      "  8%|▊         | 18/224 [03:08<27:24,  7.98s/it]"
     ]
    },
    {
     "name": "stdout",
     "output_type": "stream",
     "text": [
      "Size of volume is  (50, 2457, 1996)\n"
     ]
    },
    {
     "name": "stderr",
     "output_type": "stream",
     "text": [
      "\r",
      "  8%|▊         | 19/224 [03:15<26:10,  7.66s/it]"
     ]
    },
    {
     "name": "stdout",
     "output_type": "stream",
     "text": [
      "Size of volume is  (51, 2457, 1996)\n"
     ]
    },
    {
     "name": "stderr",
     "output_type": "stream",
     "text": [
      "\r",
      "  9%|▉         | 20/224 [03:24<27:47,  8.17s/it]"
     ]
    },
    {
     "name": "stdout",
     "output_type": "stream",
     "text": [
      "Size of volume is  (70, 2457, 1996)\n"
     ]
    },
    {
     "name": "stderr",
     "output_type": "stream",
     "text": [
      "\r",
      "  9%|▉         | 21/224 [03:36<30:48,  9.11s/it]"
     ]
    },
    {
     "name": "stdout",
     "output_type": "stream",
     "text": [
      "Size of volume is  (69, 2457, 1996)\n"
     ]
    },
    {
     "name": "stderr",
     "output_type": "stream",
     "text": [
      "\r",
      " 10%|▉         | 22/224 [03:44<29:35,  8.79s/it]"
     ]
    },
    {
     "name": "stdout",
     "output_type": "stream",
     "text": [
      "Size of volume is  (65, 2457, 1996)\n"
     ]
    },
    {
     "name": "stderr",
     "output_type": "stream",
     "text": [
      "\r",
      " 10%|█         | 23/224 [03:52<28:39,  8.56s/it]"
     ]
    },
    {
     "name": "stdout",
     "output_type": "stream",
     "text": [
      "Size of volume is  (65, 2457, 1996)\n"
     ]
    },
    {
     "name": "stderr",
     "output_type": "stream",
     "text": [
      "\r",
      " 11%|█         | 24/224 [04:04<32:29,  9.75s/it]"
     ]
    },
    {
     "name": "stdout",
     "output_type": "stream",
     "text": [
      "Size of volume is  (74, 2457, 1996)\n"
     ]
    },
    {
     "name": "stderr",
     "output_type": "stream",
     "text": [
      "\r",
      " 11%|█         | 25/224 [04:17<35:05, 10.58s/it]"
     ]
    },
    {
     "name": "stdout",
     "output_type": "stream",
     "text": [
      "Size of volume is  (74, 2457, 1996)\n"
     ]
    },
    {
     "name": "stderr",
     "output_type": "stream",
     "text": [
      "\r",
      " 12%|█▏        | 26/224 [04:26<34:01, 10.31s/it]"
     ]
    },
    {
     "name": "stdout",
     "output_type": "stream",
     "text": [
      "Size of volume is  (73, 2457, 1890)\n"
     ]
    },
    {
     "name": "stderr",
     "output_type": "stream",
     "text": [
      "\r",
      " 12%|█▏        | 27/224 [04:38<34:35, 10.54s/it]"
     ]
    },
    {
     "name": "stdout",
     "output_type": "stream",
     "text": [
      "Size of volume is  (69, 2457, 1890)\n"
     ]
    },
    {
     "name": "stderr",
     "output_type": "stream",
     "text": [
      "\r",
      " 12%|█▎        | 28/224 [04:50<36:06, 11.05s/it]"
     ]
    },
    {
     "name": "stdout",
     "output_type": "stream",
     "text": [
      "Size of volume is  (69, 2457, 1996)\n"
     ]
    },
    {
     "name": "stderr",
     "output_type": "stream",
     "text": [
      "\r",
      " 13%|█▎        | 29/224 [04:58<32:58, 10.15s/it]"
     ]
    },
    {
     "name": "stdout",
     "output_type": "stream",
     "text": [
      "Size of volume is  (61, 2457, 1890)\n"
     ]
    },
    {
     "name": "stderr",
     "output_type": "stream",
     "text": [
      "\r",
      " 13%|█▎        | 30/224 [05:07<32:04,  9.92s/it]"
     ]
    },
    {
     "name": "stdout",
     "output_type": "stream",
     "text": [
      "Size of volume is  (54, 2457, 1890)\n"
     ]
    },
    {
     "name": "stderr",
     "output_type": "stream",
     "text": [
      "\r",
      " 14%|█▍        | 31/224 [05:13<27:29,  8.55s/it]"
     ]
    },
    {
     "name": "stdout",
     "output_type": "stream",
     "text": [
      "Size of volume is  (50, 2457, 1890)\n"
     ]
    },
    {
     "name": "stderr",
     "output_type": "stream",
     "text": [
      "\r",
      " 14%|█▍        | 32/224 [05:18<24:09,  7.55s/it]"
     ]
    },
    {
     "name": "stdout",
     "output_type": "stream",
     "text": [
      "Size of volume is  (50, 2457, 1890)\n"
     ]
    },
    {
     "name": "stderr",
     "output_type": "stream",
     "text": [
      "\r",
      " 15%|█▍        | 33/224 [05:25<23:53,  7.51s/it]"
     ]
    },
    {
     "name": "stdout",
     "output_type": "stream",
     "text": [
      "Size of volume is  (50, 2457, 1890)\n"
     ]
    },
    {
     "name": "stderr",
     "output_type": "stream",
     "text": [
      "\r",
      " 15%|█▌        | 34/224 [05:43<33:41, 10.64s/it]"
     ]
    },
    {
     "name": "stdout",
     "output_type": "stream",
     "text": [
      "Size of volume is  (82, 2457, 1996)\n"
     ]
    },
    {
     "name": "stderr",
     "output_type": "stream",
     "text": [
      "\r",
      " 16%|█▌        | 35/224 [06:04<42:55, 13.63s/it]"
     ]
    },
    {
     "name": "stdout",
     "output_type": "stream",
     "text": [
      "Size of volume is  (87, 2457, 1996)\n"
     ]
    },
    {
     "name": "stderr",
     "output_type": "stream",
     "text": [
      "\r",
      " 16%|█▌        | 36/224 [06:09<35:16, 11.26s/it]"
     ]
    },
    {
     "name": "stdout",
     "output_type": "stream",
     "text": [
      "Size of volume is  (59, 2457, 1890)\n"
     ]
    },
    {
     "name": "stderr",
     "output_type": "stream",
     "text": [
      "\r",
      " 17%|█▋        | 37/224 [06:16<30:48,  9.88s/it]"
     ]
    },
    {
     "name": "stdout",
     "output_type": "stream",
     "text": [
      "Size of volume is  (56, 2457, 1890)\n"
     ]
    },
    {
     "name": "stderr",
     "output_type": "stream",
     "text": [
      "\r",
      " 17%|█▋        | 38/224 [06:26<30:25,  9.81s/it]"
     ]
    },
    {
     "name": "stdout",
     "output_type": "stream",
     "text": [
      "Size of volume is  (75, 2457, 1996)\n"
     ]
    },
    {
     "name": "stderr",
     "output_type": "stream",
     "text": [
      "\r",
      " 17%|█▋        | 39/224 [06:38<32:15, 10.46s/it]"
     ]
    },
    {
     "name": "stdout",
     "output_type": "stream",
     "text": [
      "Size of volume is  (77, 2457, 1996)\n"
     ]
    },
    {
     "name": "stderr",
     "output_type": "stream",
     "text": [
      "\r",
      " 18%|█▊        | 40/224 [06:50<33:28, 10.91s/it]"
     ]
    },
    {
     "name": "stdout",
     "output_type": "stream",
     "text": [
      "Size of volume is  (73, 2457, 1996)\n"
     ]
    },
    {
     "name": "stderr",
     "output_type": "stream",
     "text": [
      "\r",
      " 18%|█▊        | 41/224 [07:04<36:29, 11.96s/it]"
     ]
    },
    {
     "name": "stdout",
     "output_type": "stream",
     "text": [
      "Size of volume is  (74, 2457, 1996)\n"
     ]
    },
    {
     "name": "stderr",
     "output_type": "stream",
     "text": [
      "\r",
      " 19%|█▉        | 42/224 [07:07<28:04,  9.26s/it]"
     ]
    },
    {
     "name": "stdout",
     "output_type": "stream",
     "text": [
      "Size of volume is  (52, 2457, 1890)\n"
     ]
    },
    {
     "name": "stderr",
     "output_type": "stream",
     "text": [
      "\r",
      " 19%|█▉        | 43/224 [07:12<24:26,  8.10s/it]"
     ]
    },
    {
     "name": "stdout",
     "output_type": "stream",
     "text": [
      "Size of volume is  (52, 2457, 1890)\n"
     ]
    },
    {
     "name": "stderr",
     "output_type": "stream",
     "text": [
      "\r",
      " 20%|█▉        | 44/224 [07:18<21:49,  7.27s/it]"
     ]
    },
    {
     "name": "stdout",
     "output_type": "stream",
     "text": [
      "Size of volume is  (52, 2457, 1890)\n"
     ]
    },
    {
     "name": "stderr",
     "output_type": "stream",
     "text": [
      "\r",
      " 20%|██        | 45/224 [07:30<26:01,  8.72s/it]"
     ]
    },
    {
     "name": "stdout",
     "output_type": "stream",
     "text": [
      "Size of volume is  (80, 2457, 1996)\n"
     ]
    },
    {
     "name": "stderr",
     "output_type": "stream",
     "text": [
      "\r",
      " 21%|██        | 46/224 [07:47<33:02, 11.14s/it]"
     ]
    },
    {
     "name": "stdout",
     "output_type": "stream",
     "text": [
      "Size of volume is  (83, 2457, 1996)\n"
     ]
    },
    {
     "name": "stderr",
     "output_type": "stream",
     "text": [
      "\r",
      " 21%|██        | 47/224 [07:57<31:40, 10.74s/it]"
     ]
    },
    {
     "name": "stdout",
     "output_type": "stream",
     "text": [
      "Size of volume is  (58, 2457, 1996)\n"
     ]
    },
    {
     "name": "stderr",
     "output_type": "stream",
     "text": [
      "\r",
      " 21%|██▏       | 48/224 [08:10<33:49, 11.53s/it]"
     ]
    },
    {
     "name": "stdout",
     "output_type": "stream",
     "text": [
      "Size of volume is  (65, 2457, 1996)\n"
     ]
    },
    {
     "name": "stderr",
     "output_type": "stream",
     "text": [
      "\r",
      " 22%|██▏       | 49/224 [08:23<34:46, 11.92s/it]"
     ]
    },
    {
     "name": "stdout",
     "output_type": "stream",
     "text": [
      "Size of volume is  (60, 2457, 1996)\n"
     ]
    },
    {
     "name": "stderr",
     "output_type": "stream",
     "text": [
      "\r",
      " 22%|██▏       | 50/224 [08:40<38:54, 13.42s/it]"
     ]
    },
    {
     "name": "stdout",
     "output_type": "stream",
     "text": [
      "Size of volume is  (71, 2457, 1996)\n"
     ]
    },
    {
     "name": "stderr",
     "output_type": "stream",
     "text": [
      "\r",
      " 23%|██▎       | 51/224 [08:48<34:05, 11.82s/it]"
     ]
    },
    {
     "name": "stdout",
     "output_type": "stream",
     "text": [
      "Size of volume is  (75, 2457, 1890)\n"
     ]
    },
    {
     "name": "stderr",
     "output_type": "stream",
     "text": [
      "\r",
      " 23%|██▎       | 52/224 [08:59<33:00, 11.51s/it]"
     ]
    },
    {
     "name": "stdout",
     "output_type": "stream",
     "text": [
      "Size of volume is  (70, 2457, 1890)\n"
     ]
    },
    {
     "name": "stderr",
     "output_type": "stream",
     "text": [
      "\r",
      " 24%|██▎       | 53/224 [09:04<27:34,  9.67s/it]"
     ]
    },
    {
     "name": "stdout",
     "output_type": "stream",
     "text": [
      "Size of volume is  (74, 2457, 1890)\n"
     ]
    },
    {
     "name": "stderr",
     "output_type": "stream",
     "text": [
      "\r",
      " 24%|██▍       | 54/224 [09:11<25:08,  8.87s/it]"
     ]
    },
    {
     "name": "stdout",
     "output_type": "stream",
     "text": [
      "Size of volume is  (68, 2457, 1890)\n"
     ]
    },
    {
     "name": "stderr",
     "output_type": "stream",
     "text": [
      "\r",
      " 25%|██▍       | 55/224 [09:18<23:42,  8.42s/it]"
     ]
    },
    {
     "name": "stdout",
     "output_type": "stream",
     "text": [
      "Size of volume is  (64, 2457, 1890)\n"
     ]
    },
    {
     "name": "stderr",
     "output_type": "stream",
     "text": [
      "\r",
      " 25%|██▌       | 56/224 [09:28<24:32,  8.77s/it]"
     ]
    },
    {
     "name": "stdout",
     "output_type": "stream",
     "text": [
      "Size of volume is  (61, 2457, 1890)\n"
     ]
    },
    {
     "name": "stderr",
     "output_type": "stream",
     "text": [
      "\r",
      " 25%|██▌       | 57/224 [09:36<24:06,  8.66s/it]"
     ]
    },
    {
     "name": "stdout",
     "output_type": "stream",
     "text": [
      "Size of volume is  (70, 2457, 1996)\n"
     ]
    },
    {
     "name": "stderr",
     "output_type": "stream",
     "text": [
      "\r",
      " 26%|██▌       | 58/224 [09:46<24:34,  8.88s/it]"
     ]
    },
    {
     "name": "stdout",
     "output_type": "stream",
     "text": [
      "Size of volume is  (70, 2457, 1996)\n"
     ]
    },
    {
     "name": "stderr",
     "output_type": "stream",
     "text": [
      "\r",
      " 26%|██▋       | 59/224 [09:58<26:53,  9.78s/it]"
     ]
    },
    {
     "name": "stdout",
     "output_type": "stream",
     "text": [
      "Size of volume is  (78, 2457, 1996)\n"
     ]
    },
    {
     "name": "stderr",
     "output_type": "stream",
     "text": [
      "\r",
      " 27%|██▋       | 60/224 [10:07<26:28,  9.68s/it]"
     ]
    },
    {
     "name": "stdout",
     "output_type": "stream",
     "text": [
      "Size of volume is  (58, 2457, 1890)\n"
     ]
    },
    {
     "name": "stderr",
     "output_type": "stream",
     "text": [
      "\r",
      " 27%|██▋       | 61/224 [10:13<23:22,  8.60s/it]"
     ]
    },
    {
     "name": "stdout",
     "output_type": "stream",
     "text": [
      "Size of volume is  (67, 2457, 1890)\n"
     ]
    },
    {
     "name": "stderr",
     "output_type": "stream",
     "text": [
      "\r",
      " 28%|██▊       | 62/224 [10:21<22:26,  8.31s/it]"
     ]
    },
    {
     "name": "stdout",
     "output_type": "stream",
     "text": [
      "Size of volume is  (68, 2457, 1890)\n"
     ]
    },
    {
     "name": "stderr",
     "output_type": "stream",
     "text": [
      "\r",
      " 28%|██▊       | 63/224 [10:29<22:01,  8.21s/it]"
     ]
    },
    {
     "name": "stdout",
     "output_type": "stream",
     "text": [
      "Size of volume is  (48, 2457, 1996)\n"
     ]
    },
    {
     "name": "stderr",
     "output_type": "stream",
     "text": [
      "\r",
      " 29%|██▊       | 64/224 [10:39<23:26,  8.79s/it]"
     ]
    },
    {
     "name": "stdout",
     "output_type": "stream",
     "text": [
      "Size of volume is  (54, 2457, 1996)\n"
     ]
    },
    {
     "name": "stderr",
     "output_type": "stream",
     "text": [
      "\r",
      " 29%|██▉       | 65/224 [10:41<18:24,  6.95s/it]"
     ]
    },
    {
     "name": "stdout",
     "output_type": "stream",
     "text": [
      "Size of volume is  (24, 2457, 1890)\n"
     ]
    },
    {
     "name": "stderr",
     "output_type": "stream",
     "text": [
      "\r",
      " 29%|██▉       | 66/224 [10:45<15:37,  5.93s/it]"
     ]
    },
    {
     "name": "stdout",
     "output_type": "stream",
     "text": [
      "Size of volume is  (29, 2457, 1890)\n"
     ]
    },
    {
     "name": "stderr",
     "output_type": "stream",
     "text": [
      "\r",
      " 30%|██▉       | 67/224 [11:06<27:36, 10.55s/it]"
     ]
    },
    {
     "name": "stdout",
     "output_type": "stream",
     "text": [
      "Size of volume is  (68, 2457, 1996)\n"
     ]
    },
    {
     "name": "stderr",
     "output_type": "stream",
     "text": [
      "\r",
      " 30%|███       | 68/224 [11:29<37:10, 14.30s/it]"
     ]
    },
    {
     "name": "stdout",
     "output_type": "stream",
     "text": [
      "Size of volume is  (81, 2457, 1996)\n"
     ]
    },
    {
     "name": "stderr",
     "output_type": "stream",
     "text": [
      "\r",
      " 31%|███       | 69/224 [11:38<32:08, 12.44s/it]"
     ]
    },
    {
     "name": "stdout",
     "output_type": "stream",
     "text": [
      "Size of volume is  (68, 2457, 1890)\n"
     ]
    },
    {
     "name": "stderr",
     "output_type": "stream",
     "text": [
      "\r",
      " 31%|███▏      | 70/224 [11:47<29:56, 11.66s/it]"
     ]
    },
    {
     "name": "stdout",
     "output_type": "stream",
     "text": [
      "Size of volume is  (64, 2457, 1890)\n"
     ]
    },
    {
     "name": "stderr",
     "output_type": "stream",
     "text": [
      "\r",
      " 32%|███▏      | 71/224 [11:57<28:18, 11.10s/it]"
     ]
    },
    {
     "name": "stdout",
     "output_type": "stream",
     "text": [
      "Size of volume is  (71, 2457, 1996)\n"
     ]
    },
    {
     "name": "stderr",
     "output_type": "stream",
     "text": [
      "\r",
      " 32%|███▏      | 72/224 [12:10<29:36, 11.69s/it]"
     ]
    },
    {
     "name": "stdout",
     "output_type": "stream",
     "text": [
      "Size of volume is  (76, 2457, 1996)\n"
     ]
    },
    {
     "name": "stderr",
     "output_type": "stream",
     "text": [
      "\r",
      " 33%|███▎      | 73/224 [12:19<26:57, 10.71s/it]"
     ]
    },
    {
     "name": "stdout",
     "output_type": "stream",
     "text": [
      "Size of volume is  (58, 2457, 1890)\n"
     ]
    },
    {
     "name": "stderr",
     "output_type": "stream",
     "text": [
      "\r",
      " 33%|███▎      | 74/224 [12:30<26:56, 10.78s/it]"
     ]
    },
    {
     "name": "stdout",
     "output_type": "stream",
     "text": [
      "Size of volume is  (60, 2457, 1890)\n"
     ]
    },
    {
     "name": "stderr",
     "output_type": "stream",
     "text": [
      "\r",
      " 33%|███▎      | 75/224 [12:37<24:19,  9.79s/it]"
     ]
    },
    {
     "name": "stdout",
     "output_type": "stream",
     "text": [
      "Size of volume is  (80, 2457, 1996)\n"
     ]
    },
    {
     "name": "stderr",
     "output_type": "stream",
     "text": [
      "\r",
      " 34%|███▍      | 76/224 [12:46<23:16,  9.44s/it]"
     ]
    },
    {
     "name": "stdout",
     "output_type": "stream",
     "text": [
      "Size of volume is  (65, 2457, 1996)\n"
     ]
    },
    {
     "name": "stderr",
     "output_type": "stream",
     "text": [
      "\r",
      " 34%|███▍      | 77/224 [12:52<20:57,  8.56s/it]"
     ]
    },
    {
     "name": "stdout",
     "output_type": "stream",
     "text": [
      "Size of volume is  (54, 2457, 1996)\n"
     ]
    },
    {
     "name": "stderr",
     "output_type": "stream",
     "text": [
      "\r",
      " 35%|███▍      | 78/224 [13:01<21:17,  8.75s/it]"
     ]
    },
    {
     "name": "stdout",
     "output_type": "stream",
     "text": [
      "Size of volume is  (65, 2457, 1996)\n"
     ]
    },
    {
     "name": "stderr",
     "output_type": "stream",
     "text": [
      "\r",
      " 35%|███▌      | 79/224 [13:09<20:25,  8.45s/it]"
     ]
    },
    {
     "name": "stdout",
     "output_type": "stream",
     "text": [
      "Size of volume is  (59, 2457, 1996)\n"
     ]
    },
    {
     "name": "stderr",
     "output_type": "stream",
     "text": [
      "\r",
      " 36%|███▌      | 80/224 [13:20<22:18,  9.30s/it]"
     ]
    },
    {
     "name": "stdout",
     "output_type": "stream",
     "text": [
      "Size of volume is  (62, 2457, 1996)\n"
     ]
    },
    {
     "name": "stderr",
     "output_type": "stream",
     "text": [
      "\r",
      " 36%|███▌      | 81/224 [13:27<20:31,  8.61s/it]"
     ]
    },
    {
     "name": "stdout",
     "output_type": "stream",
     "text": [
      "Size of volume is  (72, 2457, 1890)\n"
     ]
    },
    {
     "name": "stderr",
     "output_type": "stream",
     "text": [
      "\r",
      " 37%|███▋      | 82/224 [13:37<20:53,  8.83s/it]"
     ]
    },
    {
     "name": "stdout",
     "output_type": "stream",
     "text": [
      "Size of volume is  (62, 2457, 1890)\n"
     ]
    },
    {
     "name": "stderr",
     "output_type": "stream",
     "text": [
      "\r",
      " 37%|███▋      | 83/224 [13:42<18:21,  7.81s/it]"
     ]
    },
    {
     "name": "stdout",
     "output_type": "stream",
     "text": [
      "Size of volume is  (39, 2457, 1890)\n"
     ]
    },
    {
     "name": "stderr",
     "output_type": "stream",
     "text": [
      "\r",
      " 38%|███▊      | 84/224 [13:59<24:37, 10.55s/it]"
     ]
    },
    {
     "name": "stdout",
     "output_type": "stream",
     "text": [
      "Size of volume is  (79, 2457, 1996)\n"
     ]
    },
    {
     "name": "stderr",
     "output_type": "stream",
     "text": [
      "\r",
      " 38%|███▊      | 85/224 [14:19<30:53, 13.34s/it]"
     ]
    },
    {
     "name": "stdout",
     "output_type": "stream",
     "text": [
      "Size of volume is  (94, 2457, 1996)\n"
     ]
    },
    {
     "name": "stderr",
     "output_type": "stream",
     "text": [
      "\r",
      " 38%|███▊      | 86/224 [14:40<35:39, 15.51s/it]"
     ]
    },
    {
     "name": "stdout",
     "output_type": "stream",
     "text": [
      "Size of volume is  (91, 2457, 1996)\n"
     ]
    },
    {
     "name": "stderr",
     "output_type": "stream",
     "text": [
      "\r",
      " 39%|███▉      | 87/224 [15:03<40:42, 17.83s/it]"
     ]
    },
    {
     "name": "stdout",
     "output_type": "stream",
     "text": [
      "Size of volume is  (92, 2457, 1996)\n"
     ]
    },
    {
     "name": "stderr",
     "output_type": "stream",
     "text": [
      "\r",
      " 39%|███▉      | 88/224 [15:17<38:13, 16.86s/it]"
     ]
    },
    {
     "name": "stdout",
     "output_type": "stream",
     "text": [
      "Size of volume is  (62, 2457, 1996)\n"
     ]
    },
    {
     "name": "stderr",
     "output_type": "stream",
     "text": [
      "\r",
      " 40%|███▉      | 89/224 [15:36<39:12, 17.43s/it]"
     ]
    },
    {
     "name": "stdout",
     "output_type": "stream",
     "text": [
      "Size of volume is  (71, 2457, 1996)\n"
     ]
    },
    {
     "name": "stderr",
     "output_type": "stream",
     "text": [
      "\r",
      " 40%|████      | 90/224 [15:44<32:37, 14.61s/it]"
     ]
    },
    {
     "name": "stdout",
     "output_type": "stream",
     "text": [
      "Size of volume is  (70, 2457, 1996)\n"
     ]
    },
    {
     "name": "stderr",
     "output_type": "stream",
     "text": [
      "\r",
      " 41%|████      | 91/224 [15:52<27:58, 12.62s/it]"
     ]
    },
    {
     "name": "stdout",
     "output_type": "stream",
     "text": [
      "Size of volume is  (70, 2457, 1996)\n"
     ]
    },
    {
     "name": "stderr",
     "output_type": "stream",
     "text": [
      "\r",
      " 41%|████      | 92/224 [16:09<30:40, 13.95s/it]"
     ]
    },
    {
     "name": "stdout",
     "output_type": "stream",
     "text": [
      "Size of volume is  (64, 2457, 1996)\n"
     ]
    },
    {
     "name": "stderr",
     "output_type": "stream",
     "text": [
      "\r",
      " 42%|████▏     | 93/224 [16:31<35:26, 16.23s/it]"
     ]
    },
    {
     "name": "stdout",
     "output_type": "stream",
     "text": [
      "Size of volume is  (79, 2457, 1996)\n"
     ]
    },
    {
     "name": "stderr",
     "output_type": "stream",
     "text": [
      "\r",
      " 42%|████▏     | 94/224 [16:39<30:10, 13.93s/it]"
     ]
    },
    {
     "name": "stdout",
     "output_type": "stream",
     "text": [
      "Size of volume is  (79, 2457, 1890)\n"
     ]
    },
    {
     "name": "stderr",
     "output_type": "stream",
     "text": [
      "\r",
      " 42%|████▏     | 95/224 [16:48<26:25, 12.29s/it]"
     ]
    },
    {
     "name": "stdout",
     "output_type": "stream",
     "text": [
      "Size of volume is  (79, 2457, 1890)\n"
     ]
    },
    {
     "name": "stderr",
     "output_type": "stream",
     "text": [
      "\r",
      " 43%|████▎     | 96/224 [16:59<25:21, 11.88s/it]"
     ]
    },
    {
     "name": "stdout",
     "output_type": "stream",
     "text": [
      "Size of volume is  (76, 2457, 1890)\n"
     ]
    },
    {
     "name": "stderr",
     "output_type": "stream",
     "text": [
      "\r",
      " 43%|████▎     | 97/224 [17:10<24:31, 11.58s/it]"
     ]
    },
    {
     "name": "stdout",
     "output_type": "stream",
     "text": [
      "Size of volume is  (76, 2457, 1890)\n"
     ]
    },
    {
     "name": "stderr",
     "output_type": "stream",
     "text": [
      "\r",
      " 44%|████▍     | 98/224 [17:19<23:10, 11.04s/it]"
     ]
    },
    {
     "name": "stdout",
     "output_type": "stream",
     "text": [
      "Size of volume is  (61, 2457, 1890)\n"
     ]
    },
    {
     "name": "stderr",
     "output_type": "stream",
     "text": [
      "\r",
      " 44%|████▍     | 99/224 [17:29<22:09, 10.64s/it]"
     ]
    },
    {
     "name": "stdout",
     "output_type": "stream",
     "text": [
      "Size of volume is  (87, 2457, 1996)\n"
     ]
    },
    {
     "name": "stderr",
     "output_type": "stream",
     "text": [
      "\r",
      " 45%|████▍     | 100/224 [17:41<22:50, 11.05s/it]"
     ]
    },
    {
     "name": "stdout",
     "output_type": "stream",
     "text": [
      "Size of volume is  (88, 2457, 1996)\n"
     ]
    },
    {
     "name": "stderr",
     "output_type": "stream",
     "text": [
      "\r",
      " 45%|████▌     | 101/224 [17:50<21:13, 10.36s/it]"
     ]
    },
    {
     "name": "stdout",
     "output_type": "stream",
     "text": [
      "Size of volume is  (76, 2457, 1996)\n"
     ]
    },
    {
     "name": "stderr",
     "output_type": "stream",
     "text": [
      "\r",
      " 46%|████▌     | 102/224 [17:58<20:01,  9.85s/it]"
     ]
    },
    {
     "name": "stdout",
     "output_type": "stream",
     "text": [
      "Size of volume is  (76, 2457, 1996)\n"
     ]
    },
    {
     "name": "stderr",
     "output_type": "stream",
     "text": [
      "\r",
      " 46%|████▌     | 103/224 [18:10<21:07, 10.47s/it]"
     ]
    },
    {
     "name": "stdout",
     "output_type": "stream",
     "text": [
      "Size of volume is  (77, 2457, 1996)\n"
     ]
    },
    {
     "name": "stderr",
     "output_type": "stream",
     "text": [
      "\r",
      " 46%|████▋     | 104/224 [18:22<21:46, 10.88s/it]"
     ]
    },
    {
     "name": "stdout",
     "output_type": "stream",
     "text": [
      "Size of volume is  (77, 2457, 1996)\n"
     ]
    },
    {
     "name": "stderr",
     "output_type": "stream",
     "text": [
      "\r",
      " 47%|████▋     | 105/224 [18:40<25:46, 13.00s/it]"
     ]
    },
    {
     "name": "stdout",
     "output_type": "stream",
     "text": [
      "Size of volume is  (96, 2457, 1996)\n"
     ]
    },
    {
     "name": "stderr",
     "output_type": "stream",
     "text": [
      "\r",
      " 47%|████▋     | 106/224 [19:00<29:37, 15.06s/it]"
     ]
    },
    {
     "name": "stdout",
     "output_type": "stream",
     "text": [
      "Size of volume is  (91, 2457, 1996)\n"
     ]
    },
    {
     "name": "stderr",
     "output_type": "stream",
     "text": [
      "\r",
      " 48%|████▊     | 107/224 [19:12<27:26, 14.07s/it]"
     ]
    },
    {
     "name": "stdout",
     "output_type": "stream",
     "text": [
      "Size of volume is  (70, 2457, 1996)\n"
     ]
    },
    {
     "name": "stderr",
     "output_type": "stream",
     "text": [
      "\r",
      " 48%|████▊     | 108/224 [19:26<27:09, 14.05s/it]"
     ]
    },
    {
     "name": "stdout",
     "output_type": "stream",
     "text": [
      "Size of volume is  (71, 2457, 1996)\n"
     ]
    },
    {
     "name": "stderr",
     "output_type": "stream",
     "text": [
      "\r",
      " 49%|████▊     | 109/224 [19:31<21:56, 11.45s/it]"
     ]
    },
    {
     "name": "stdout",
     "output_type": "stream",
     "text": [
      "Size of volume is  (62, 2457, 1890)\n"
     ]
    },
    {
     "name": "stderr",
     "output_type": "stream",
     "text": [
      "\r",
      " 49%|████▉     | 110/224 [19:38<18:52,  9.94s/it]"
     ]
    },
    {
     "name": "stdout",
     "output_type": "stream",
     "text": [
      "Size of volume is  (58, 2457, 1890)\n"
     ]
    },
    {
     "name": "stderr",
     "output_type": "stream",
     "text": [
      "\r",
      " 50%|████▉     | 111/224 [19:49<19:26, 10.33s/it]"
     ]
    },
    {
     "name": "stdout",
     "output_type": "stream",
     "text": [
      "Size of volume is  (72, 2457, 1996)\n"
     ]
    },
    {
     "name": "stderr",
     "output_type": "stream",
     "text": [
      "\r",
      " 50%|█████     | 112/224 [20:04<21:57, 11.76s/it]"
     ]
    },
    {
     "name": "stdout",
     "output_type": "stream",
     "text": [
      "Size of volume is  (78, 2457, 1996)\n"
     ]
    },
    {
     "name": "stderr",
     "output_type": "stream",
     "text": [
      "\r",
      " 50%|█████     | 113/224 [20:13<20:04, 10.85s/it]"
     ]
    },
    {
     "name": "stdout",
     "output_type": "stream",
     "text": [
      "Size of volume is  (87, 2457, 1996)\n"
     ]
    },
    {
     "name": "stderr",
     "output_type": "stream",
     "text": [
      "\r",
      " 51%|█████     | 114/224 [20:26<21:01, 11.47s/it]"
     ]
    },
    {
     "name": "stdout",
     "output_type": "stream",
     "text": [
      "Size of volume is  (84, 2457, 1996)\n"
     ]
    },
    {
     "name": "stderr",
     "output_type": "stream",
     "text": [
      "\r",
      " 51%|█████▏    | 115/224 [20:38<21:33, 11.87s/it]"
     ]
    },
    {
     "name": "stdout",
     "output_type": "stream",
     "text": [
      "Size of volume is  (84, 2457, 1996)\n"
     ]
    },
    {
     "name": "stderr",
     "output_type": "stream",
     "text": [
      "\r",
      " 52%|█████▏    | 116/224 [20:46<19:10, 10.65s/it]"
     ]
    },
    {
     "name": "stdout",
     "output_type": "stream",
     "text": [
      "Size of volume is  (70, 2457, 1996)\n"
     ]
    },
    {
     "name": "stderr",
     "output_type": "stream",
     "text": [
      "\r",
      " 52%|█████▏    | 117/224 [20:58<19:46, 11.09s/it]"
     ]
    },
    {
     "name": "stdout",
     "output_type": "stream",
     "text": [
      "Size of volume is  (84, 2457, 1996)\n"
     ]
    },
    {
     "name": "stderr",
     "output_type": "stream",
     "text": [
      "\r",
      " 53%|█████▎    | 118/224 [21:08<18:40, 10.57s/it]"
     ]
    },
    {
     "name": "stdout",
     "output_type": "stream",
     "text": [
      "Size of volume is  (78, 2457, 1996)\n"
     ]
    },
    {
     "name": "stderr",
     "output_type": "stream",
     "text": [
      "\r",
      " 53%|█████▎    | 119/224 [21:17<17:49, 10.19s/it]"
     ]
    },
    {
     "name": "stdout",
     "output_type": "stream",
     "text": [
      "Size of volume is  (78, 2457, 1996)\n"
     ]
    },
    {
     "name": "stderr",
     "output_type": "stream",
     "text": [
      "\r",
      " 54%|█████▎    | 120/224 [21:30<19:03, 10.99s/it]"
     ]
    },
    {
     "name": "stdout",
     "output_type": "stream",
     "text": [
      "Size of volume is  (85, 2457, 1996)\n"
     ]
    },
    {
     "name": "stderr",
     "output_type": "stream",
     "text": [
      "\r",
      " 54%|█████▍    | 121/224 [21:43<19:52, 11.58s/it]"
     ]
    },
    {
     "name": "stdout",
     "output_type": "stream",
     "text": [
      "Size of volume is  (85, 2457, 1996)\n"
     ]
    },
    {
     "name": "stderr",
     "output_type": "stream",
     "text": [
      "\r",
      " 54%|█████▍    | 122/224 [21:49<16:43,  9.83s/it]"
     ]
    },
    {
     "name": "stdout",
     "output_type": "stream",
     "text": [
      "Size of volume is  (64, 2457, 1890)\n"
     ]
    },
    {
     "name": "stderr",
     "output_type": "stream",
     "text": [
      "\r",
      " 55%|█████▍    | 123/224 [21:55<14:54,  8.86s/it]"
     ]
    },
    {
     "name": "stdout",
     "output_type": "stream",
     "text": [
      "Size of volume is  (56, 2457, 1890)\n"
     ]
    },
    {
     "name": "stderr",
     "output_type": "stream",
     "text": [
      "\r",
      " 55%|█████▌    | 124/224 [22:00<12:51,  7.71s/it]"
     ]
    },
    {
     "name": "stdout",
     "output_type": "stream",
     "text": [
      "Size of volume is  (84, 2457, 1890)\n"
     ]
    },
    {
     "name": "stderr",
     "output_type": "stream",
     "text": [
      "\r",
      " 56%|█████▌    | 125/224 [22:08<12:54,  7.82s/it]"
     ]
    },
    {
     "name": "stdout",
     "output_type": "stream",
     "text": [
      "Size of volume is  (77, 2457, 1890)\n"
     ]
    },
    {
     "name": "stderr",
     "output_type": "stream",
     "text": [
      "\r",
      " 56%|█████▋    | 126/224 [22:15<12:14,  7.49s/it]"
     ]
    },
    {
     "name": "stdout",
     "output_type": "stream",
     "text": [
      "Size of volume is  (61, 2457, 1996)\n"
     ]
    },
    {
     "name": "stderr",
     "output_type": "stream",
     "text": [
      "\r",
      " 57%|█████▋    | 127/224 [22:23<12:35,  7.79s/it]"
     ]
    },
    {
     "name": "stdout",
     "output_type": "stream",
     "text": [
      "Size of volume is  (65, 2457, 1996)\n"
     ]
    },
    {
     "name": "stderr",
     "output_type": "stream",
     "text": [
      "\r",
      " 57%|█████▋    | 128/224 [22:33<13:23,  8.37s/it]"
     ]
    },
    {
     "name": "stdout",
     "output_type": "stream",
     "text": [
      "Size of volume is  (69, 2457, 1890)\n"
     ]
    },
    {
     "name": "stderr",
     "output_type": "stream",
     "text": [
      "\r",
      " 58%|█████▊    | 129/224 [22:46<15:11,  9.59s/it]"
     ]
    },
    {
     "name": "stdout",
     "output_type": "stream",
     "text": [
      "Size of volume is  (68, 2457, 1890)\n"
     ]
    },
    {
     "name": "stderr",
     "output_type": "stream",
     "text": [
      "\r",
      " 58%|█████▊    | 130/224 [22:57<15:39, 10.00s/it]"
     ]
    },
    {
     "name": "stdout",
     "output_type": "stream",
     "text": [
      "Size of volume is  (77, 2457, 1890)\n"
     ]
    },
    {
     "name": "stderr",
     "output_type": "stream",
     "text": [
      "\r",
      " 58%|█████▊    | 131/224 [23:11<17:45, 11.46s/it]"
     ]
    },
    {
     "name": "stdout",
     "output_type": "stream",
     "text": [
      "Size of volume is  (70, 2457, 1890)\n"
     ]
    },
    {
     "name": "stderr",
     "output_type": "stream",
     "text": [
      "\r",
      " 59%|█████▉    | 132/224 [23:23<17:24, 11.35s/it]"
     ]
    },
    {
     "name": "stdout",
     "output_type": "stream",
     "text": [
      "Size of volume is  (69, 2457, 1890)\n"
     ]
    },
    {
     "name": "stderr",
     "output_type": "stream",
     "text": [
      "\r",
      " 59%|█████▉    | 133/224 [23:35<17:30, 11.54s/it]"
     ]
    },
    {
     "name": "stdout",
     "output_type": "stream",
     "text": [
      "Size of volume is  (69, 2457, 1890)\n"
     ]
    },
    {
     "name": "stderr",
     "output_type": "stream",
     "text": [
      "\r",
      " 60%|█████▉    | 134/224 [24:01<24:05, 16.06s/it]"
     ]
    },
    {
     "name": "stdout",
     "output_type": "stream",
     "text": [
      "Size of volume is  (92, 2457, 1996)\n"
     ]
    },
    {
     "name": "stderr",
     "output_type": "stream",
     "text": [
      "\r",
      " 60%|██████    | 135/224 [24:36<32:03, 21.61s/it]"
     ]
    },
    {
     "name": "stdout",
     "output_type": "stream",
     "text": [
      "Size of volume is  (114, 2457, 1996)\n"
     ]
    },
    {
     "name": "stderr",
     "output_type": "stream",
     "text": [
      "\r",
      " 61%|██████    | 136/224 [25:00<32:40, 22.28s/it]"
     ]
    },
    {
     "name": "stdout",
     "output_type": "stream",
     "text": [
      "Size of volume is  (106, 2457, 1996)\n"
     ]
    },
    {
     "name": "stderr",
     "output_type": "stream",
     "text": [
      "\r",
      " 61%|██████    | 137/224 [25:15<29:25, 20.29s/it]"
     ]
    },
    {
     "name": "stdout",
     "output_type": "stream",
     "text": [
      "Size of volume is  (76, 2457, 1996)\n"
     ]
    },
    {
     "name": "stderr",
     "output_type": "stream",
     "text": [
      "\r",
      " 62%|██████▏   | 138/224 [25:33<27:59, 19.53s/it]"
     ]
    },
    {
     "name": "stdout",
     "output_type": "stream",
     "text": [
      "Size of volume is  (77, 2457, 1996)\n"
     ]
    },
    {
     "name": "stderr",
     "output_type": "stream",
     "text": [
      "\r",
      " 62%|██████▏   | 139/224 [25:49<26:19, 18.58s/it]"
     ]
    },
    {
     "name": "stdout",
     "output_type": "stream",
     "text": [
      "Size of volume is  (80, 2457, 1996)\n"
     ]
    },
    {
     "name": "stderr",
     "output_type": "stream",
     "text": [
      "\r",
      " 62%|██████▎   | 140/224 [26:10<27:03, 19.32s/it]"
     ]
    },
    {
     "name": "stdout",
     "output_type": "stream",
     "text": [
      "Size of volume is  (85, 2457, 1996)\n"
     ]
    },
    {
     "name": "stderr",
     "output_type": "stream",
     "text": [
      "\r",
      " 63%|██████▎   | 141/224 [26:30<26:39, 19.27s/it]"
     ]
    },
    {
     "name": "stdout",
     "output_type": "stream",
     "text": [
      "Size of volume is  (86, 2457, 1996)\n"
     ]
    },
    {
     "name": "stderr",
     "output_type": "stream",
     "text": [
      "\r",
      " 63%|██████▎   | 142/224 [26:53<28:15, 20.67s/it]"
     ]
    },
    {
     "name": "stdout",
     "output_type": "stream",
     "text": [
      "Size of volume is  (87, 2457, 1996)\n"
     ]
    },
    {
     "name": "stderr",
     "output_type": "stream",
     "text": [
      "\r",
      " 64%|██████▍   | 143/224 [27:05<24:01, 17.80s/it]"
     ]
    },
    {
     "name": "stdout",
     "output_type": "stream",
     "text": [
      "Size of volume is  (82, 2457, 1996)\n"
     ]
    },
    {
     "name": "stderr",
     "output_type": "stream",
     "text": [
      "\r",
      " 64%|██████▍   | 144/224 [27:16<21:00, 15.76s/it]"
     ]
    },
    {
     "name": "stdout",
     "output_type": "stream",
     "text": [
      "Size of volume is  (82, 2457, 1996)\n"
     ]
    },
    {
     "name": "stderr",
     "output_type": "stream",
     "text": [
      "\r",
      " 65%|██████▍   | 145/224 [27:30<20:04, 15.24s/it]"
     ]
    },
    {
     "name": "stdout",
     "output_type": "stream",
     "text": [
      "Size of volume is  (86, 2457, 1996)\n"
     ]
    },
    {
     "name": "stderr",
     "output_type": "stream",
     "text": [
      "\r",
      " 65%|██████▌   | 146/224 [27:44<19:18, 14.85s/it]"
     ]
    },
    {
     "name": "stdout",
     "output_type": "stream",
     "text": [
      "Size of volume is  (86, 2457, 1996)\n"
     ]
    },
    {
     "name": "stderr",
     "output_type": "stream",
     "text": [
      "\r",
      " 66%|██████▌   | 147/224 [27:57<18:34, 14.48s/it]"
     ]
    },
    {
     "name": "stdout",
     "output_type": "stream",
     "text": [
      "Size of volume is  (93, 2457, 1890)\n"
     ]
    },
    {
     "name": "stderr",
     "output_type": "stream",
     "text": [
      "\r",
      " 66%|██████▌   | 148/224 [28:11<18:08, 14.32s/it]"
     ]
    },
    {
     "name": "stdout",
     "output_type": "stream",
     "text": [
      "Size of volume is  (87, 2457, 1890)\n"
     ]
    },
    {
     "name": "stderr",
     "output_type": "stream",
     "text": [
      "\r",
      " 67%|██████▋   | 149/224 [28:21<16:25, 13.14s/it]"
     ]
    },
    {
     "name": "stdout",
     "output_type": "stream",
     "text": [
      "Size of volume is  (55, 2457, 1890)\n"
     ]
    },
    {
     "name": "stderr",
     "output_type": "stream",
     "text": [
      "\r",
      " 67%|██████▋   | 150/224 [28:34<15:59, 12.97s/it]"
     ]
    },
    {
     "name": "stdout",
     "output_type": "stream",
     "text": [
      "Size of volume is  (63, 2457, 1890)\n"
     ]
    },
    {
     "name": "stderr",
     "output_type": "stream",
     "text": [
      "\r",
      " 67%|██████▋   | 151/224 [28:45<15:05, 12.41s/it]"
     ]
    },
    {
     "name": "stdout",
     "output_type": "stream",
     "text": [
      "Size of volume is  (79, 2457, 1996)\n"
     ]
    },
    {
     "name": "stderr",
     "output_type": "stream",
     "text": [
      "\r",
      " 68%|██████▊   | 152/224 [28:58<15:12, 12.68s/it]"
     ]
    },
    {
     "name": "stdout",
     "output_type": "stream",
     "text": [
      "Size of volume is  (81, 2457, 1996)\n"
     ]
    },
    {
     "name": "stderr",
     "output_type": "stream",
     "text": [
      "\r",
      " 68%|██████▊   | 153/224 [29:12<15:13, 12.87s/it]"
     ]
    },
    {
     "name": "stdout",
     "output_type": "stream",
     "text": [
      "Size of volume is  (81, 2457, 1996)\n"
     ]
    },
    {
     "name": "stderr",
     "output_type": "stream",
     "text": [
      "\r",
      " 69%|██████▉   | 154/224 [29:21<13:43, 11.77s/it]"
     ]
    },
    {
     "name": "stdout",
     "output_type": "stream",
     "text": [
      "Size of volume is  (79, 2457, 1996)\n"
     ]
    },
    {
     "name": "stderr",
     "output_type": "stream",
     "text": [
      "\r",
      " 69%|██████▉   | 155/224 [29:32<13:09, 11.44s/it]"
     ]
    },
    {
     "name": "stdout",
     "output_type": "stream",
     "text": [
      "Size of volume is  (79, 2457, 1996)\n"
     ]
    },
    {
     "name": "stderr",
     "output_type": "stream",
     "text": [
      "\r",
      " 70%|██████▉   | 156/224 [29:39<11:34, 10.22s/it]"
     ]
    },
    {
     "name": "stdout",
     "output_type": "stream",
     "text": [
      "Size of volume is  (66, 2457, 1996)\n"
     ]
    },
    {
     "name": "stderr",
     "output_type": "stream",
     "text": [
      "\r",
      " 70%|███████   | 157/224 [29:48<11:02,  9.89s/it]"
     ]
    },
    {
     "name": "stdout",
     "output_type": "stream",
     "text": [
      "Size of volume is  (60, 2457, 1996)\n"
     ]
    },
    {
     "name": "stderr",
     "output_type": "stream",
     "text": [
      "\r",
      " 71%|███████   | 158/224 [29:57<10:31,  9.57s/it]"
     ]
    },
    {
     "name": "stdout",
     "output_type": "stream",
     "text": [
      "Size of volume is  (72, 2457, 1890)\n"
     ]
    },
    {
     "name": "stderr",
     "output_type": "stream",
     "text": [
      "\r",
      " 71%|███████   | 159/224 [30:09<11:03, 10.20s/it]"
     ]
    },
    {
     "name": "stdout",
     "output_type": "stream",
     "text": [
      "Size of volume is  (72, 2457, 1890)\n"
     ]
    },
    {
     "name": "stderr",
     "output_type": "stream",
     "text": [
      "\r",
      " 71%|███████▏  | 160/224 [30:16<09:59,  9.37s/it]"
     ]
    },
    {
     "name": "stdout",
     "output_type": "stream",
     "text": [
      "Size of volume is  (47, 2457, 1890)\n"
     ]
    },
    {
     "name": "stderr",
     "output_type": "stream",
     "text": [
      "\r",
      " 72%|███████▏  | 161/224 [30:25<09:50,  9.38s/it]"
     ]
    },
    {
     "name": "stdout",
     "output_type": "stream",
     "text": [
      "Size of volume is  (49, 2457, 1890)\n"
     ]
    },
    {
     "name": "stderr",
     "output_type": "stream",
     "text": [
      "\r",
      " 72%|███████▏  | 162/224 [30:36<09:59,  9.66s/it]"
     ]
    },
    {
     "name": "stdout",
     "output_type": "stream",
     "text": [
      "Size of volume is  (81, 2457, 1996)\n"
     ]
    },
    {
     "name": "stderr",
     "output_type": "stream",
     "text": [
      "\r",
      " 73%|███████▎  | 163/224 [30:51<11:28, 11.29s/it]"
     ]
    },
    {
     "name": "stdout",
     "output_type": "stream",
     "text": [
      "Size of volume is  (87, 2457, 1996)\n"
     ]
    },
    {
     "name": "stderr",
     "output_type": "stream",
     "text": [
      "\r",
      " 73%|███████▎  | 164/224 [31:06<12:24, 12.41s/it]"
     ]
    },
    {
     "name": "stdout",
     "output_type": "stream",
     "text": [
      "Size of volume is  (87, 2457, 1996)\n"
     ]
    },
    {
     "name": "stderr",
     "output_type": "stream",
     "text": [
      "\r",
      " 74%|███████▎  | 165/224 [31:11<10:08, 10.32s/it]"
     ]
    },
    {
     "name": "stdout",
     "output_type": "stream",
     "text": [
      "Size of volume is  (73, 2457, 1996)\n"
     ]
    },
    {
     "name": "stderr",
     "output_type": "stream",
     "text": [
      "\r",
      " 74%|███████▍  | 166/224 [31:17<08:45,  9.06s/it]"
     ]
    },
    {
     "name": "stdout",
     "output_type": "stream",
     "text": [
      "Size of volume is  (59, 2457, 1996)\n"
     ]
    },
    {
     "name": "stderr",
     "output_type": "stream",
     "text": [
      "\r",
      " 75%|███████▍  | 167/224 [31:29<09:21,  9.85s/it]"
     ]
    },
    {
     "name": "stdout",
     "output_type": "stream",
     "text": [
      "Size of volume is  (75, 2457, 1996)\n"
     ]
    },
    {
     "name": "stderr",
     "output_type": "stream",
     "text": [
      "\r",
      " 75%|███████▌  | 168/224 [31:44<10:33, 11.32s/it]"
     ]
    },
    {
     "name": "stdout",
     "output_type": "stream",
     "text": [
      "Size of volume is  (75, 2457, 1996)\n"
     ]
    },
    {
     "name": "stderr",
     "output_type": "stream",
     "text": [
      "\r",
      " 75%|███████▌  | 169/224 [31:51<09:11, 10.03s/it]"
     ]
    },
    {
     "name": "stdout",
     "output_type": "stream",
     "text": [
      "Size of volume is  (42, 2457, 1890)\n"
     ]
    },
    {
     "name": "stderr",
     "output_type": "stream",
     "text": [
      "\r",
      " 76%|███████▌  | 170/224 [31:57<07:53,  8.77s/it]"
     ]
    },
    {
     "name": "stdout",
     "output_type": "stream",
     "text": [
      "Size of volume is  (41, 2457, 1890)\n"
     ]
    },
    {
     "name": "stderr",
     "output_type": "stream",
     "text": [
      "\r",
      " 76%|███████▋  | 171/224 [32:05<07:40,  8.69s/it]"
     ]
    },
    {
     "name": "stdout",
     "output_type": "stream",
     "text": [
      "Size of volume is  (86, 2457, 1996)\n"
     ]
    },
    {
     "name": "stderr",
     "output_type": "stream",
     "text": [
      "\r",
      " 77%|███████▋  | 172/224 [32:16<08:05,  9.33s/it]"
     ]
    },
    {
     "name": "stdout",
     "output_type": "stream",
     "text": [
      "Size of volume is  (87, 2457, 1996)\n"
     ]
    },
    {
     "name": "stderr",
     "output_type": "stream",
     "text": [
      "\r",
      " 77%|███████▋  | 173/224 [32:30<09:00, 10.60s/it]"
     ]
    },
    {
     "name": "stdout",
     "output_type": "stream",
     "text": [
      "Size of volume is  (87, 2457, 1996)\n"
     ]
    },
    {
     "name": "stderr",
     "output_type": "stream",
     "text": [
      "\r",
      " 78%|███████▊  | 174/224 [32:43<09:28, 11.38s/it]"
     ]
    },
    {
     "name": "stdout",
     "output_type": "stream",
     "text": [
      "Size of volume is  (69, 2457, 1996)\n"
     ]
    },
    {
     "name": "stderr",
     "output_type": "stream",
     "text": [
      "\r",
      " 78%|███████▊  | 175/224 [32:57<09:56, 12.17s/it]"
     ]
    },
    {
     "name": "stdout",
     "output_type": "stream",
     "text": [
      "Size of volume is  (72, 2457, 1996)\n"
     ]
    },
    {
     "name": "stderr",
     "output_type": "stream",
     "text": [
      "\r",
      " 79%|███████▊  | 176/224 [33:14<10:55, 13.66s/it]"
     ]
    },
    {
     "name": "stdout",
     "output_type": "stream",
     "text": [
      "Size of volume is  (78, 2457, 1996)\n"
     ]
    },
    {
     "name": "stderr",
     "output_type": "stream",
     "text": [
      "\r",
      " 79%|███████▉  | 177/224 [33:22<09:20, 11.92s/it]"
     ]
    },
    {
     "name": "stdout",
     "output_type": "stream",
     "text": [
      "Size of volume is  (78, 2457, 1890)\n"
     ]
    },
    {
     "name": "stderr",
     "output_type": "stream",
     "text": [
      "\r",
      " 79%|███████▉  | 178/224 [33:32<08:40, 11.31s/it]"
     ]
    },
    {
     "name": "stdout",
     "output_type": "stream",
     "text": [
      "Size of volume is  (73, 2457, 1890)\n"
     ]
    },
    {
     "name": "stderr",
     "output_type": "stream",
     "text": [
      "\r",
      " 80%|███████▉  | 179/224 [33:38<07:16,  9.70s/it]"
     ]
    },
    {
     "name": "stdout",
     "output_type": "stream",
     "text": [
      "Size of volume is  (76, 2457, 1890)\n"
     ]
    },
    {
     "name": "stderr",
     "output_type": "stream",
     "text": [
      "\r",
      " 80%|████████  | 180/224 [33:44<06:16,  8.55s/it]"
     ]
    },
    {
     "name": "stdout",
     "output_type": "stream",
     "text": [
      "Size of volume is  (76, 2457, 1890)\n"
     ]
    },
    {
     "name": "stderr",
     "output_type": "stream",
     "text": [
      "\r",
      " 81%|████████  | 181/224 [33:53<06:19,  8.83s/it]"
     ]
    },
    {
     "name": "stdout",
     "output_type": "stream",
     "text": [
      "Size of volume is  (75, 2457, 1890)\n"
     ]
    },
    {
     "name": "stderr",
     "output_type": "stream",
     "text": [
      "\r",
      " 81%|████████▏ | 182/224 [34:02<06:18,  9.02s/it]"
     ]
    },
    {
     "name": "stdout",
     "output_type": "stream",
     "text": [
      "Size of volume is  (75, 2457, 1890)\n"
     ]
    },
    {
     "name": "stderr",
     "output_type": "stream",
     "text": [
      "\r",
      " 82%|████████▏ | 183/224 [34:15<06:46,  9.92s/it]"
     ]
    },
    {
     "name": "stdout",
     "output_type": "stream",
     "text": [
      "Size of volume is  (78, 2457, 1890)\n"
     ]
    },
    {
     "name": "stderr",
     "output_type": "stream",
     "text": [
      "\r",
      " 82%|████████▏ | 184/224 [34:27<07:11, 10.79s/it]"
     ]
    },
    {
     "name": "stdout",
     "output_type": "stream",
     "text": [
      "Size of volume is  (74, 2457, 1890)\n"
     ]
    },
    {
     "name": "stderr",
     "output_type": "stream",
     "text": [
      "\r",
      " 83%|████████▎ | 185/224 [34:42<07:43, 11.88s/it]"
     ]
    },
    {
     "name": "stdout",
     "output_type": "stream",
     "text": [
      "Size of volume is  (70, 2457, 1996)\n"
     ]
    },
    {
     "name": "stderr",
     "output_type": "stream",
     "text": [
      "\r",
      " 83%|████████▎ | 186/224 [35:01<08:54, 14.06s/it]"
     ]
    },
    {
     "name": "stdout",
     "output_type": "stream",
     "text": [
      "Size of volume is  (85, 2457, 1996)\n"
     ]
    },
    {
     "name": "stderr",
     "output_type": "stream",
     "text": [
      "\r",
      " 83%|████████▎ | 187/224 [35:10<07:40, 12.45s/it]"
     ]
    },
    {
     "name": "stdout",
     "output_type": "stream",
     "text": [
      "Size of volume is  (72, 2457, 1996)\n"
     ]
    },
    {
     "name": "stderr",
     "output_type": "stream",
     "text": [
      "\r",
      " 84%|████████▍ | 188/224 [35:15<06:07, 10.21s/it]"
     ]
    },
    {
     "name": "stdout",
     "output_type": "stream",
     "text": [
      "Size of volume is  (50, 2457, 1890)\n"
     ]
    },
    {
     "name": "stderr",
     "output_type": "stream",
     "text": [
      "\r",
      " 84%|████████▍ | 189/224 [35:21<05:19,  9.12s/it]"
     ]
    },
    {
     "name": "stdout",
     "output_type": "stream",
     "text": [
      "Size of volume is  (45, 2457, 1890)\n"
     ]
    },
    {
     "name": "stderr",
     "output_type": "stream",
     "text": [
      "\r",
      " 85%|████████▍ | 190/224 [35:27<04:41,  8.28s/it]"
     ]
    },
    {
     "name": "stdout",
     "output_type": "stream",
     "text": [
      "Size of volume is  (65, 2457, 1890)\n"
     ]
    },
    {
     "name": "stderr",
     "output_type": "stream",
     "text": [
      "\r",
      " 85%|████████▌ | 191/224 [35:35<04:28,  8.14s/it]"
     ]
    },
    {
     "name": "stdout",
     "output_type": "stream",
     "text": [
      "Size of volume is  (58, 2457, 1890)\n"
     ]
    },
    {
     "name": "stderr",
     "output_type": "stream",
     "text": [
      "\r",
      " 86%|████████▌ | 192/224 [35:47<04:53,  9.17s/it]"
     ]
    },
    {
     "name": "stdout",
     "output_type": "stream",
     "text": [
      "Size of volume is  (87, 2457, 1996)\n"
     ]
    },
    {
     "name": "stderr",
     "output_type": "stream",
     "text": [
      "\r",
      " 86%|████████▌ | 193/224 [36:01<05:25, 10.51s/it]"
     ]
    },
    {
     "name": "stdout",
     "output_type": "stream",
     "text": [
      "Size of volume is  (80, 2457, 1996)\n"
     ]
    },
    {
     "name": "stderr",
     "output_type": "stream",
     "text": [
      "\r",
      " 87%|████████▋ | 194/224 [36:10<05:02, 10.08s/it]"
     ]
    },
    {
     "name": "stdout",
     "output_type": "stream",
     "text": [
      "Size of volume is  (80, 2457, 1996)\n"
     ]
    },
    {
     "name": "stderr",
     "output_type": "stream",
     "text": [
      "\r",
      " 87%|████████▋ | 195/224 [36:22<05:16, 10.91s/it]"
     ]
    },
    {
     "name": "stdout",
     "output_type": "stream",
     "text": [
      "Size of volume is  (83, 2457, 1996)\n"
     ]
    },
    {
     "name": "stderr",
     "output_type": "stream",
     "text": [
      "\r",
      " 88%|████████▊ | 196/224 [36:27<04:16,  9.15s/it]"
     ]
    },
    {
     "name": "stdout",
     "output_type": "stream",
     "text": [
      "Size of volume is  (79, 2457, 1890)\n"
     ]
    },
    {
     "name": "stderr",
     "output_type": "stream",
     "text": [
      "\r",
      " 88%|████████▊ | 197/224 [36:34<03:46,  8.38s/it]"
     ]
    },
    {
     "name": "stdout",
     "output_type": "stream",
     "text": [
      "Size of volume is  (93, 2457, 1890)\n"
     ]
    },
    {
     "name": "stderr",
     "output_type": "stream",
     "text": [
      "\r",
      " 88%|████████▊ | 198/224 [36:50<04:36, 10.62s/it]"
     ]
    },
    {
     "name": "stdout",
     "output_type": "stream",
     "text": [
      "Size of volume is  (72, 2457, 1996)\n"
     ]
    },
    {
     "name": "stderr",
     "output_type": "stream",
     "text": [
      "\r",
      " 89%|████████▉ | 199/224 [37:13<05:56, 14.28s/it]"
     ]
    },
    {
     "name": "stdout",
     "output_type": "stream",
     "text": [
      "Size of volume is  (81, 2457, 1996)\n"
     ]
    },
    {
     "name": "stderr",
     "output_type": "stream",
     "text": [
      "\r",
      " 89%|████████▉ | 200/224 [37:24<05:23, 13.46s/it]"
     ]
    },
    {
     "name": "stdout",
     "output_type": "stream",
     "text": [
      "Size of volume is  (76, 2457, 1890)\n"
     ]
    },
    {
     "name": "stderr",
     "output_type": "stream",
     "text": [
      "\r",
      " 90%|████████▉ | 201/224 [37:39<05:19, 13.91s/it]"
     ]
    },
    {
     "name": "stdout",
     "output_type": "stream",
     "text": [
      "Size of volume is  (74, 2457, 1890)\n"
     ]
    },
    {
     "name": "stderr",
     "output_type": "stream",
     "text": [
      "\r",
      " 90%|█████████ | 202/224 [37:49<04:35, 12.53s/it]"
     ]
    },
    {
     "name": "stdout",
     "output_type": "stream",
     "text": [
      "Size of volume is  (70, 2457, 1996)\n"
     ]
    },
    {
     "name": "stderr",
     "output_type": "stream",
     "text": [
      "\r",
      " 91%|█████████ | 203/224 [38:05<04:46, 13.66s/it]"
     ]
    },
    {
     "name": "stdout",
     "output_type": "stream",
     "text": [
      "Size of volume is  (83, 2457, 1996)\n"
     ]
    },
    {
     "name": "stderr",
     "output_type": "stream",
     "text": [
      "\r",
      " 91%|█████████ | 204/224 [38:16<04:20, 13.02s/it]"
     ]
    },
    {
     "name": "stdout",
     "output_type": "stream",
     "text": [
      "Size of volume is  (76, 2457, 1996)\n"
     ]
    },
    {
     "name": "stderr",
     "output_type": "stream",
     "text": [
      "\r",
      " 92%|█████████▏| 205/224 [38:31<04:15, 13.45s/it]"
     ]
    },
    {
     "name": "stdout",
     "output_type": "stream",
     "text": [
      "Size of volume is  (75, 2457, 1996)\n"
     ]
    },
    {
     "name": "stderr",
     "output_type": "stream",
     "text": [
      "\r",
      " 92%|█████████▏| 206/224 [38:37<03:25, 11.39s/it]"
     ]
    },
    {
     "name": "stdout",
     "output_type": "stream",
     "text": [
      "Size of volume is  (67, 2457, 1890)\n"
     ]
    },
    {
     "name": "stderr",
     "output_type": "stream",
     "text": [
      "\r",
      " 92%|█████████▏| 207/224 [38:48<03:08, 11.08s/it]"
     ]
    },
    {
     "name": "stdout",
     "output_type": "stream",
     "text": [
      "Size of volume is  (63, 2457, 1890)\n"
     ]
    },
    {
     "name": "stderr",
     "output_type": "stream",
     "text": [
      "\r",
      " 93%|█████████▎| 208/224 [38:56<02:42, 10.18s/it]"
     ]
    },
    {
     "name": "stdout",
     "output_type": "stream",
     "text": [
      "Size of volume is  (63, 2457, 1996)\n"
     ]
    },
    {
     "name": "stderr",
     "output_type": "stream",
     "text": [
      "\r",
      " 93%|█████████▎| 209/224 [39:06<02:32, 10.20s/it]"
     ]
    },
    {
     "name": "stdout",
     "output_type": "stream",
     "text": [
      "Size of volume is  (76, 2457, 1890)\n"
     ]
    },
    {
     "name": "stderr",
     "output_type": "stream",
     "text": [
      "\r",
      " 94%|█████████▍| 210/224 [39:17<02:26, 10.45s/it]"
     ]
    },
    {
     "name": "stdout",
     "output_type": "stream",
     "text": [
      "Size of volume is  (79, 2457, 1996)\n"
     ]
    },
    {
     "name": "stderr",
     "output_type": "stream",
     "text": [
      "\r",
      " 94%|█████████▍| 211/224 [39:31<02:29, 11.50s/it]"
     ]
    },
    {
     "name": "stdout",
     "output_type": "stream",
     "text": [
      "Size of volume is  (66, 2457, 1890)\n"
     ]
    },
    {
     "name": "stderr",
     "output_type": "stream",
     "text": [
      "\r",
      " 95%|█████████▍| 212/224 [39:42<02:14, 11.18s/it]"
     ]
    },
    {
     "name": "stdout",
     "output_type": "stream",
     "text": [
      "Size of volume is  (61, 2457, 1890)\n"
     ]
    },
    {
     "name": "stderr",
     "output_type": "stream",
     "text": [
      "\r",
      " 95%|█████████▌| 213/224 [39:48<01:46,  9.72s/it]"
     ]
    },
    {
     "name": "stdout",
     "output_type": "stream",
     "text": [
      "Size of volume is  (60, 2457, 1890)\n"
     ]
    },
    {
     "name": "stderr",
     "output_type": "stream",
     "text": [
      "\r",
      " 96%|█████████▌| 214/224 [39:57<01:36,  9.68s/it]"
     ]
    },
    {
     "name": "stdout",
     "output_type": "stream",
     "text": [
      "Size of volume is  (64, 2457, 1890)\n"
     ]
    },
    {
     "name": "stderr",
     "output_type": "stream",
     "text": [
      "\r",
      " 96%|█████████▌| 215/224 [40:12<01:39, 11.09s/it]"
     ]
    },
    {
     "name": "stdout",
     "output_type": "stream",
     "text": [
      "Size of volume is  (80, 2457, 1996)\n"
     ]
    },
    {
     "name": "stderr",
     "output_type": "stream",
     "text": [
      "\r",
      " 96%|█████████▋| 216/224 [40:28<01:41, 12.65s/it]"
     ]
    },
    {
     "name": "stdout",
     "output_type": "stream",
     "text": [
      "Size of volume is  (75, 2457, 1996)\n"
     ]
    },
    {
     "name": "stderr",
     "output_type": "stream",
     "text": [
      "\r",
      " 97%|█████████▋| 217/224 [40:37<01:21, 11.68s/it]"
     ]
    },
    {
     "name": "stdout",
     "output_type": "stream",
     "text": [
      "Size of volume is  (75, 2457, 1996)\n"
     ]
    },
    {
     "name": "stderr",
     "output_type": "stream",
     "text": [
      "\r",
      " 97%|█████████▋| 218/224 [40:49<01:10, 11.67s/it]"
     ]
    },
    {
     "name": "stdout",
     "output_type": "stream",
     "text": [
      "Size of volume is  (72, 2457, 1996)\n"
     ]
    },
    {
     "name": "stderr",
     "output_type": "stream",
     "text": [
      "\r",
      " 98%|█████████▊| 219/224 [41:02<01:00, 12.02s/it]"
     ]
    },
    {
     "name": "stdout",
     "output_type": "stream",
     "text": [
      "Size of volume is  (75, 2457, 1996)\n"
     ]
    },
    {
     "name": "stderr",
     "output_type": "stream",
     "text": [
      "\r",
      " 98%|█████████▊| 220/224 [41:17<00:51, 12.98s/it]"
     ]
    },
    {
     "name": "stdout",
     "output_type": "stream",
     "text": [
      "Size of volume is  (74, 2457, 1996)\n"
     ]
    },
    {
     "name": "stderr",
     "output_type": "stream",
     "text": [
      "\r",
      " 99%|█████████▊| 221/224 [41:30<00:38, 12.90s/it]"
     ]
    },
    {
     "name": "stdout",
     "output_type": "stream",
     "text": [
      "Size of volume is  (78, 2457, 1890)\n"
     ]
    },
    {
     "name": "stderr",
     "output_type": "stream",
     "text": [
      "\r",
      " 99%|█████████▉| 222/224 [41:45<00:27, 13.57s/it]"
     ]
    },
    {
     "name": "stdout",
     "output_type": "stream",
     "text": [
      "Size of volume is  (76, 2457, 1890)\n"
     ]
    },
    {
     "name": "stderr",
     "output_type": "stream",
     "text": [
      "\r",
      "100%|█████████▉| 223/224 [41:55<00:12, 12.45s/it]"
     ]
    },
    {
     "name": "stdout",
     "output_type": "stream",
     "text": [
      "Size of volume is  (72, 2457, 1890)\n"
     ]
    },
    {
     "name": "stderr",
     "output_type": "stream",
     "text": [
      "100%|██████████| 224/224 [42:07<00:00, 11.28s/it]"
     ]
    },
    {
     "name": "stdout",
     "output_type": "stream",
     "text": [
      "Size of volume is  (65, 2457, 1890)\n",
      "224 224 0\n"
     ]
    },
    {
     "name": "stderr",
     "output_type": "stream",
     "text": [
      "\n"
     ]
    }
   ],
   "source": [
    "# [STAR] Read all the slices in training set without augmentation\n",
    "\n",
    "basepath = '/home/drilnvm/DBTex/'\n",
    "df = read_boxes(boxes_fp=basepath+\"BCS-DBT-boxes-train.csv\", filepaths_fp=basepath+\"BCS-DBT-file-paths-train.csv\")\n",
    "\n",
    "\n",
    "trainx = []\n",
    "trainy = []\n",
    "boximage  = []\n",
    "coordx =  []\n",
    "coordy = []\n",
    "\n",
    "width_arr = []\n",
    "height_arr = []\n",
    "\n",
    "for i in tqdm(range(224)):\n",
    "    box_series  = df.iloc[i]\n",
    "    view        = box_series[\"View\"]\n",
    "    slice_index = box_series[\"Slice\"]\n",
    "    image_path  = os.path.join(basepath, box_series[\"descriptive_path\"])\n",
    "    image       = dcmread_image(fp=image_path, view=view, index=slice_index-1)\n",
    "    \n",
    "    #trainx.append(image[slice_index-1:slice_index+1])\n",
    "    #trainx.append(image[slice_index])\n",
    "    trainx.append(image)\n",
    "    trainy.append(box_series[\"Class\"])\n",
    "    #image = image[slice_index]\n",
    "    \n",
    "    x, y, width, height = box_series[[\"X\", \"Y\", \"Width\", \"Height\"]]\n",
    "    #image               = draw_box(image=image, x=x, y=y, width=width, height=height, lw=10)\n",
    "    #boximage.append(image)\n",
    "    coordx.append(x)\n",
    "    coordy.append(y)\n",
    "    width_arr.append(width)\n",
    "    height_arr.append(height)\n",
    "\n",
    "print(len(trainx), len(trainy), len(boximage))\n",
    "\n",
    "# mx = 0\n",
    "# my = 0\n",
    "# for i in range(len(trainx)):\n",
    "#     if trainx[i].shape[0] > mx:\n",
    "#         mx = trainx[i].shape[0]\n",
    "#     if trainx[i].shape[1] > my:\n",
    "#         my = trainx[i].shape[1]\n",
    "# print(mx, my)\n",
    "\n",
    "if(1):\n",
    "    np.save('coordx.npy', coordx)\n",
    "    np.save('coordy.npy', coordy)\n",
    "\n",
    "    newtrainx  = np.zeros([len(trainx), 1, 3000, 2000], 'float16')\n",
    "    newtrainy  = np.zeros([len(trainx), 1], 'float16')\n",
    "    for i in range(len(trainx)):\n",
    "        newtrainx[i, 0, :trainx[i].shape[0], :trainx[i].shape[1]] = trainx[i]\n",
    "        if trainy[i] == 'benign':\n",
    "            newtrainy[i, 0] = 0\n",
    "        else:\n",
    "            newtrainy[i, 0] = 1\n",
    "\n",
    "    np.save('trainx.npy', newtrainx)\n",
    "    np.save('trainy.npy', newtrainy)"
   ]
  },
  {
   "cell_type": "code",
   "execution_count": 25,
   "metadata": {
    "code_folding": [
     0
    ]
   },
   "outputs": [],
   "source": [
    "# [STAR] For storing the image slices\n",
    "\n",
    "from PIL import Image\n",
    "\n",
    "\n",
    "split_set = 'val'\n",
    "basepath  = '/media/drilnvm/ubuntudata2/DBTexImages/'\n",
    "for i in range(125, 149):\n",
    "    if newtrainy[i] == 1:\n",
    "        img_class = 'cancer'\n",
    "    else:\n",
    "        img_class = 'benign'\n",
    "    \n",
    "    image_array = newtrainx[i, 0].astype('uint16')\n",
    "    t1 = Image.fromarray(image_array)\n",
    "    t1.save(basepath+split_set+'/'+img_class+'/'+str(i)+'m1.png')\n",
    "\n",
    "split_set = 'test'\n",
    "basepath  = '/media/drilnvm/ubuntudata2/DBTexImages/'\n",
    "for i in range(149, 224):\n",
    "    if newtrainy[i] == 1:\n",
    "        img_class = 'cancer'\n",
    "    else:\n",
    "        img_class = 'benign'\n",
    "    \n",
    "    image_array = newtrainx[i, 0].astype('uint16')\n",
    "    t1 = Image.fromarray(image_array)\n",
    "    t1.save(basepath+split_set+'/'+img_class+'/'+str(i)+'m1.png')\n",
    "\n",
    "split_set = 'train'\n",
    "basepath  = '/media/drilnvm/ubuntudata2/DBTexImages/'\n",
    "for i in range(125):\n",
    "    if newtrainy[i] == 1:\n",
    "        img_class = 'cancer'\n",
    "    else:\n",
    "        img_class = 'benign'\n",
    "    \n",
    "    image_array = newtrainx[i, 0].astype('uint16')\n",
    "    t1 = Image.fromarray(image_array)\n",
    "    t1.save(basepath+split_set+'/'+img_class+'/'+str(i)+'m1.png')"
   ]
  },
  {
   "cell_type": "code",
   "execution_count": 97,
   "metadata": {
    "code_folding": [
     2,
     121,
     160,
     198,
     204,
     209
    ]
   },
   "outputs": [],
   "source": [
    "# [STAR] DBT classes for data loader\n",
    "\n",
    "class DBTDataset(torch.utils.data.Dataset):\n",
    "    def __init__(self, train_set = 1, transforms = None):\n",
    "        super().__init__()\n",
    "        \n",
    "        suffix_str  = ''#random.choice(['_m2', '_m1', '_p1', '_p2', ''])\n",
    "        print('READING NEW FILE >> ', suffix_str, ' <<')\n",
    "        \n",
    "        #shuffle_index = np.arange(224)\n",
    "        #np.random.shuffle(shuffle_index)\n",
    "        #np.save('shuffle_array.npy', shuffle_index)\n",
    "        #shuffle_index = np.load('shuffle_array.npy')\n",
    "        \n",
    "        trainx = np.load('trainx'+suffix_str+'.npy')\n",
    "        trainy = np.load('trainy'+suffix_str+'.npy')\n",
    "        coordx = np.load('coordx'+suffix_str+'.npy')\n",
    "        coordy = np.load('coordy'+suffix_str+'.npy')\n",
    "        width_arr  = np.load('width_arr'+suffix_str+'.npy')\n",
    "        height_arr = np.load('height_arr'+suffix_str+'.npy')\n",
    "        \n",
    "        #trainx = trainx[shuffle_index]\n",
    "        #trainy = trainy[shuffle_index]\n",
    "        #coordx = coordx[shuffle_index]\n",
    "        #coordy = coordy[shuffle_index]\n",
    "        #width_arr  = width_arr[shuffle_index]\n",
    "        #height_arr = height_arr[shuffle_index]\n",
    "        \n",
    "        self.counter = 0\n",
    "        if train_set == 1:\n",
    "            self.train_start  = 0\n",
    "            self.train_end    = 150\n",
    "        else:\n",
    "            self.train_start  = 150\n",
    "            self.train_end    = 200\n",
    "        \n",
    "        self.train_set = train_set\n",
    "        #t1 = np.load('trainx_m1.npy')[self.train_start:self.train_end]\n",
    "        #t2 = np.load('trainx.npy')[self.train_start:self.train_end]\n",
    "        #t3 = np.load('trainx_p1.npy')[self.train_start:self.train_end]\n",
    "        #self.trainx  =  np.concatenate([t2, t1, t3], axis=1)\n",
    "        \n",
    "        self.trainx = trainx[self.train_start:self.train_end]#.astype('float16')/60000.0\n",
    "        self.trainy = trainy[self.train_start:self.train_end]\n",
    "        self.coordx = coordx[self.train_start:self.train_end]\n",
    "        self.coordy = coordy[self.train_start:self.train_end]\n",
    "        self.width_arr  = width_arr[self.train_start:self.train_end]\n",
    "        self.height_arr = height_arr[self.train_start:self.train_end]\n",
    "        \n",
    "        print('Total size of dataset ', len(np.load('width_arr'+suffix_str+'.npy')))\n",
    "#         self.trainx = np.load('/media/yu-hao/WindowsData/DBT_numpy/trainx.npy')[self.train_start:self.train_end]#.astype('float16')/60000.0\n",
    "#         self.trainy = np.load('/media/yu-hao/WindowsData/DBT_numpy/trainy.npy')[self.train_start:self.train_end]\n",
    "#         self.coordx = np.load('/media/yu-hao/WindowsData/DBT_numpy/coordx.npy')[self.train_start:self.train_end]\n",
    "#         self.coordy = np.load('/media/yu-hao/WindowsData/DBT_numpy/coordy.npy')[self.train_start:self.train_end]\n",
    "#         self.width_arr  = np.load('/media/yu-hao/WindowsData/DBT_numpy/width_arr.npy')[self.train_start:self.train_end]\n",
    "#         self.height_arr = np.load('/media/yu-hao/WindowsData/DBT_numpy/height_arr.npy')[self.train_start:self.train_end]\n",
    "        \n",
    "        self.transforms1 = A.Compose(\n",
    "                                    [A.HorizontalFlip(p=0.5),  A.VerticalFlip(p=0.5), ],\n",
    "                                     #A.Downscale(scale_min=0.95, scale_max=0.98, p=0.25, interpolation=3),],\n",
    "                                    bbox_params=A.BboxParams(format='pascal_voc', label_fields=['labels']),\n",
    "                                   )\n",
    "        \n",
    "    def __getitem__(self, idx):\n",
    "        self.counter = self.counter+1\n",
    "        #if self.counter % 10 == 0:\n",
    "        #    print('Counter is ', self.counter)\n",
    "        \n",
    "#         if self.train_set == 1 and self.counter % 150 == 0 and random.random() < 0.2:\n",
    "#             suffix_str  = random.choice([ '_m1', '_p1', ''])\n",
    "#             print('READING NEW FILE >> ', suffix_str, ' <<')\n",
    "#             self.trainx = np.load('/media/yu-hao/WindowsData/DBT_numpy/trainx'+suffix_str+'.npy')[self.train_start:self.train_end]#.astype('float16')/60000.0\n",
    "#             self.trainy = np.load('/media/yu-hao/WindowsData/DBT_numpy/trainy'+suffix_str+'.npy')[self.train_start:self.train_end]\n",
    "#             self.coordx = np.load('/media/yu-hao/WindowsData/DBT_numpy/coordx'+suffix_str+'.npy')[self.train_start:self.train_end]\n",
    "#             self.coordy = np.load('/media/yu-hao/WindowsData/DBT_numpy/coordy'+suffix_str+'.npy')[self.train_start:self.train_end]\n",
    "#             self.width_arr  = np.load('/media/yu-hao/WindowsData/DBT_numpy/width_arr'+suffix_str+'.npy')[self.train_start:self.train_end]\n",
    "#             self.height_arr = np.load('/media/yu-hao/WindowsData/DBT_numpy/height_arr'+suffix_str+'.npy')[self.train_start:self.train_end]\n",
    "                \n",
    "        #img = self.trainx[idx].astype('float32')/60000.0\n",
    "        img = self.trainx[idx, 0].astype('float32')/60000.0\n",
    "        img[img > 1] = 1\n",
    "        img = ndimage.interpolation.zoom(img, 0.25)\n",
    "        img = np.expand_dims(img, 0)\n",
    "        img = np.concatenate([img, img, img], axis=0)\n",
    "        \n",
    "        if(self.train_set == 1):\n",
    "            img = np.moveaxis(img, 0, -1)\n",
    "        \n",
    "        boxes = np.array([self.coordx[idx]/4, self.coordy[idx]/4, self.width_arr[idx]/4, self.height_arr[idx]/4])#records[['x', 'y', 'w', 'h']].values\n",
    "        boxes = np.expand_dims(boxes, axis=0)\n",
    "        boxes[:, 2] = boxes[:, 0]+boxes[:, 2]\n",
    "        boxes[:, 3] = boxes[:, 1]+boxes[:, 3]\n",
    "        \n",
    "        area = self.width_arr[idx] * self.height_arr[idx]\n",
    "        area = torch.Tensor(area)\n",
    "        \n",
    "        # there is only one class\n",
    "        labels =  torch.ones((1,)).type(torch.int64)\n",
    "        \n",
    "        if(self.train_set == 1):\n",
    "        #if(0):\n",
    "            transformed = self.transforms1(image=img, bboxes=boxes, labels=labels)\n",
    "            image    = transformed['image']\n",
    "            boxes    = np.array(transformed['bboxes'])\n",
    "            img      = np.moveaxis(image, 2, 0)\n",
    "        \n",
    "        # suppose all instances are not crowd\n",
    "        iscrowd = torch.Tensor(np.array([0])).type(torch.int64)\n",
    "        \n",
    "        target              = {}\n",
    "        target['boxes']     = torch.Tensor(boxes)\n",
    "        target['labels']    = labels\n",
    "        target['image_id']  = torch.tensor([idx])\n",
    "        target['area']      = area\n",
    "        target['iscrowd']   = iscrowd\n",
    "        \n",
    "        return img, target, idx\n",
    "    \n",
    "    def __len__(self):\n",
    "        return self.trainx.shape[0]\n",
    "\n",
    "class DBTDatasetValidation(torch.utils.data.Dataset):\n",
    "    def __init__(self, val_index = 0, transforms = None):\n",
    "        super().__init__()\n",
    "        \n",
    "        self.basepath  = '/home/drilnvm/DBTex/'\n",
    "        self.counter   = 0\n",
    "        self.val_index = val_index\n",
    "        #self.df        = pd.read_csv('/home/drilnvm/DBTex/BCS-DBT-file-paths-train.csv')\n",
    "        self.df        = pd.read_csv('/home/drilnvm/DBTex/BCS-DBT-file-paths-validation.csv')\n",
    "        \n",
    "        box_series       = self.df.iloc[self.val_index]\n",
    "        self.PatientID   = box_series[\"PatientID\"]\n",
    "        self.StudyUID    = box_series[\"StudyUID\"]\n",
    "        self.view        = box_series[\"View\"]\n",
    "        \n",
    "        image_path      = os.path.join(self.basepath, box_series[\"descriptive_path\"])\n",
    "        self.vol        = dcmread_image(fp=image_path, view=self.view)\n",
    "        self.newtrainx  = np.zeros([len(self.vol), 1, 3000, 2000], 'float16')\n",
    "        for i in range(len(self.vol)):\n",
    "            self.newtrainx[i, 0, :self.vol[i].shape[0], :self.vol[i].shape[1]] = self.vol[i]\n",
    "        \n",
    "        print('File reading done ', self.vol.shape)\n",
    "        \n",
    "    def __getitem__(self, idx):\n",
    "        \n",
    "        img          = self.newtrainx[idx, 0].astype('float32')/60000.0\n",
    "        img[img > 1] = 1\n",
    "        img = ndimage.interpolation.zoom(img, 0.25)\n",
    "        img = np.expand_dims(img, 0)\n",
    "        img = np.concatenate([img, img, img], axis=0)\n",
    "        \n",
    "        target              = {}\n",
    "        target['image_id']  = torch.tensor([idx])\n",
    "        \n",
    "        return img, target, idx\n",
    "    \n",
    "    def __len__(self):\n",
    "        return self.vol.shape[0]\n",
    "\n",
    "class DBTDatasetValidationTrain(torch.utils.data.Dataset):\n",
    "    def __init__(self, val_index = 0, transforms = None):\n",
    "        super().__init__()\n",
    "        \n",
    "        self.basepath  = '/home/drilnvm/DBTex/'\n",
    "        self.counter   = 0\n",
    "        self.val_index = val_index\n",
    "        self.df        = pd.read_csv('/home/drilnvm/DBTex/BCS-DBT-file-paths-train.csv')\n",
    "        #self.df        = pd.read_csv('/home/drilnvm/DBTex/BCS-DBT-file-paths-validation.csv')\n",
    "        \n",
    "        box_series       = self.df.iloc[self.val_index]\n",
    "        self.PatientID   = box_series[\"PatientID\"]\n",
    "        self.StudyUID    = box_series[\"StudyUID\"]\n",
    "        self.view        = box_series[\"View\"]\n",
    "        \n",
    "        image_path      = os.path.join(self.basepath, box_series[\"descriptive_path\"])\n",
    "        self.vol        = dcmread_image(fp=image_path, view=self.view)\n",
    "        self.newtrainx  = np.zeros([len(self.vol), 1, 3000, 2000], 'float16')\n",
    "        for i in range(len(self.vol)):\n",
    "            self.newtrainx[i, 0, :self.vol[i].shape[0], :self.vol[i].shape[1]] = self.vol[i]\n",
    "        \n",
    "        print('File reading done ', self.vol.shape)\n",
    "        \n",
    "    def __getitem__(self, idx):\n",
    "        img          = self.newtrainx[idx, 0].astype('float32')/60000.0\n",
    "        img[img > 1] = 1\n",
    "        img = ndimage.interpolation.zoom(img, 0.25)\n",
    "        img = np.expand_dims(img, 0)\n",
    "        img = np.concatenate([img, img, img], axis=0)\n",
    "        \n",
    "        target              = {}\n",
    "        target['image_id']  = torch.tensor([idx])\n",
    "        \n",
    "        return img, target, idx\n",
    "    \n",
    "    def __len__(self):\n",
    "        return self.vol.shape[0]\n",
    "\n",
    "def get_train_transform():\n",
    "    return A.Compose([\n",
    "        A.Flip(0.5),\n",
    "        ToTensorV2(p=1.0)\n",
    "    ], bbox_params={'format': 'pascal_voc', 'label_fields': ['labels']})\n",
    "\n",
    "def get_valid_transform():\n",
    "    return A.Compose([\n",
    "        ToTensorV2(p=1.0)\n",
    "    ], bbox_params={'format': 'pascal_voc', 'label_fields': ['labels']})\n",
    "\n",
    "class Averager:\n",
    "    def __init__(self):\n",
    "        self.current_total = 0.0\n",
    "        self.iterations = 0.0\n",
    "\n",
    "    def send(self, value):\n",
    "        self.current_total += value\n",
    "        self.iterations += 1\n",
    "\n",
    "    @property\n",
    "    def value(self):\n",
    "        if self.iterations == 0:\n",
    "            return 0\n",
    "        else:\n",
    "            return 1.0 * self.current_total / self.iterations\n",
    "\n",
    "    def reset(self):\n",
    "        self.current_total = 0.0\n",
    "        self.iterations = 0.0"
   ]
  },
  {
   "cell_type": "code",
   "execution_count": 127,
   "metadata": {
    "code_folding": []
   },
   "outputs": [
    {
     "name": "stdout",
     "output_type": "stream",
     "text": [
      "READING NEW FILE >>    <<\n",
      "Total size of dataset  224\n",
      "READING NEW FILE >>    <<\n",
      "Total size of dataset  224\n"
     ]
    }
   ],
   "source": [
    "# [STAR] DBT Dataset and Model Creation\n",
    "\n",
    "def collate_fn(batch):\n",
    "    return tuple(zip(*batch))\n",
    "\n",
    "train_dataset     = DBTDataset(train_set=1)\n",
    "valid_dataset     = DBTDataset(train_set=0)\n",
    "\n",
    "train_data_loader = DataLoader(\n",
    "    train_dataset,\n",
    "    batch_size=4,\n",
    "    shuffle=True,\n",
    "    num_workers=1, collate_fn=collate_fn\n",
    ")\n",
    "\n",
    "valid_data_loader = DataLoader(\n",
    "    valid_dataset,\n",
    "    batch_size=1,\n",
    "    shuffle=False,\n",
    "    num_workers=1, collate_fn=collate_fn\n",
    ")\n",
    "\n",
    "device = torch.device('cuda') if torch.cuda.is_available() else torch.device('cpu')\n",
    "\n",
    "num_classes = 2\n",
    "model       = torchvision.models.detection.fasterrcnn_resnet50_fpn(pretrained=True)\n",
    "#model       = torchvision.models.detection.retinanet_resnet50_fpn(pretrained=True)\n",
    "\n",
    "# get number of input features for the classifier\n",
    "in_features = model.roi_heads.box_predictor.cls_score.in_features\n",
    "\n",
    "# replace the pre-trained head with a new one\n",
    "model.roi_heads.box_predictor = FastRCNNPredictor(in_features, num_classes)\n",
    "\n",
    "model.to(device)\n",
    "params       = [p for p in model.parameters() if p.requires_grad]\n",
    "optimizer    = torch.optim.Adam(params, lr=0.0001, weight_decay=0.0001)\n",
    "lr_scheduler = None"
   ]
  },
  {
   "cell_type": "code",
   "execution_count": 99,
   "metadata": {
    "code_folding": [
     0
    ],
    "scrolled": true
   },
   "outputs": [
    {
     "name": "stdout",
     "output_type": "stream",
     "text": [
      "Epoch #0 Train loss: 0.26776728504582453\n",
      "Epoch #0 Val   loss: 0.21748411744832993\n",
      "Saving the model  1000 0.21748411744832993\n",
      "Epoch #1 Train loss: 0.21303624189213702\n",
      "Epoch #1 Val   loss: 0.20452963307499886\n",
      "Saving the model  0.21748411744832993 0.20452963307499886\n",
      "Epoch #2 Train loss: 0.19187839799805692\n",
      "Epoch #2 Val   loss: 0.19536693513393402\n",
      "Saving the model  0.20452963307499886 0.19536693513393402\n",
      "Epoch #3 Train loss: 0.18260604221569865\n",
      "Epoch #3 Val   loss: 0.1892358910664916\n",
      "Saving the model  0.19536693513393402 0.1892358910664916\n",
      "Epoch #4 Train loss: 0.1598665622111998\n",
      "Epoch #4 Val   loss: 0.1855878875553608\n",
      "Saving the model  0.1892358910664916 0.1855878875553608\n",
      "Epoch #5 Train loss: 0.16182936963282132\n",
      "Epoch #5 Val   loss: 0.18218042008578778\n",
      "Saving the model  0.1855878875553608 0.18218042008578778\n",
      "Epoch #6 Train loss: 0.15335742560656448\n",
      "Epoch #6 Val   loss: 0.1812603971362114\n",
      "Saving the model  0.18218042008578778 0.1812603971362114\n",
      "Epoch #7 Train loss: 0.14750027127171816\n",
      "Epoch #7 Val   loss: 0.1802242928557098\n",
      "Saving the model  0.1812603971362114 0.1802242928557098\n",
      "Epoch #8 Train loss: 0.14406059309840202\n",
      "Epoch #8 Val   loss: 0.17922657504677772\n",
      "Saving the model  0.1802242928557098 0.17922657504677772\n",
      "Epoch #9 Train loss: 0.13462088119826818\n",
      "Epoch #9 Val   loss: 0.17804592379927636\n",
      "Saving the model  0.17922657504677772 0.17804592379927636\n",
      "Epoch #10 Train loss: 0.12608618446086584\n",
      "Epoch #10 Val   loss: 0.17865975203839216\n",
      "Epoch #11 Train loss: 0.1263008713722229\n",
      "Epoch #11 Val   loss: 0.17648479865243039\n",
      "Saving the model  0.17804592379927636 0.17648479865243039\n",
      "Epoch #12 Train loss: 0.1169637857299102\n",
      "Epoch #12 Val   loss: 0.17533322983063185\n",
      "Saving the model  0.17648479865243039 0.17533322983063185\n",
      "Epoch #13 Train loss: 0.107793250660363\n",
      "Epoch #13 Val   loss: 0.17437835013227804\n",
      "Saving the model  0.17533322983063185 0.17437835013227804\n",
      "Epoch #14 Train loss: 0.10371116607597\n",
      "Epoch #14 Val   loss: 0.17302454378207524\n",
      "Saving the model  0.17437835013227804 0.17302454378207524\n",
      "Epoch #15 Train loss: 0.09854894052994878\n",
      "Epoch #15 Val   loss: 0.17198145390488206\n",
      "Saving the model  0.17302454378207524 0.17198145390488206\n",
      "Epoch #16 Train loss: 0.0960611124572001\n",
      "Epoch #16 Val   loss: 0.17196089128361028\n",
      "Saving the model  0.17198145390488206 0.17196089128361028\n",
      "Epoch #17 Train loss: 0.09671679766554582\n",
      "Epoch #17 Val   loss: 0.17229285647057824\n",
      "Epoch #18 Train loss: 0.08552004396915436\n",
      "Epoch #18 Val   loss: 0.172817948527242\n",
      "Epoch #19 Train loss: 0.08815805545370829\n",
      "Epoch #19 Val   loss: 0.17188866202905775\n",
      "Saving the model  0.17196089128361028 0.17188866202905775\n",
      "Epoch #20 Train loss: 0.07990983648127631\n",
      "Epoch #20 Val   loss: 0.1724606636769715\n",
      "Epoch #21 Train loss: 0.0879613627728663\n",
      "Epoch #21 Val   loss: 0.17363084590570493\n",
      "Epoch #22 Train loss: 0.08687664784098927\n",
      "Epoch #22 Val   loss: 0.17361908887391506\n"
     ]
    },
    {
     "ename": "KeyboardInterrupt",
     "evalue": "",
     "output_type": "error",
     "traceback": [
      "\u001b[0;31m---------------------------------------------------------------------------\u001b[0m",
      "\u001b[0;31mKeyboardInterrupt\u001b[0m                         Traceback (most recent call last)",
      "\u001b[0;32m<ipython-input-99-e7ecb51966da>\u001b[0m in \u001b[0;36m<module>\u001b[0;34m\u001b[0m\n\u001b[1;32m     36\u001b[0m \u001b[0;34m\u001b[0m\u001b[0m\n\u001b[1;32m     37\u001b[0m     \u001b[0;32mwith\u001b[0m \u001b[0mtorch\u001b[0m\u001b[0;34m.\u001b[0m\u001b[0mno_grad\u001b[0m\u001b[0;34m(\u001b[0m\u001b[0;34m)\u001b[0m\u001b[0;34m:\u001b[0m\u001b[0;34m\u001b[0m\u001b[0;34m\u001b[0m\u001b[0m\n\u001b[0;32m---> 38\u001b[0;31m         \u001b[0;32mfor\u001b[0m \u001b[0mimages\u001b[0m\u001b[0;34m,\u001b[0m \u001b[0mtargets\u001b[0m\u001b[0;34m,\u001b[0m \u001b[0mimage_ids\u001b[0m \u001b[0;32min\u001b[0m \u001b[0mvalid_data_loader\u001b[0m\u001b[0;34m:\u001b[0m\u001b[0;34m\u001b[0m\u001b[0;34m\u001b[0m\u001b[0m\n\u001b[0m\u001b[1;32m     39\u001b[0m             \u001b[0mnew_images\u001b[0m  \u001b[0;34m=\u001b[0m \u001b[0;34m[\u001b[0m\u001b[0;34m]\u001b[0m\u001b[0;34m\u001b[0m\u001b[0;34m\u001b[0m\u001b[0m\n\u001b[1;32m     40\u001b[0m             \u001b[0;32mfor\u001b[0m \u001b[0mimg\u001b[0m \u001b[0;32min\u001b[0m \u001b[0mimages\u001b[0m\u001b[0;34m:\u001b[0m\u001b[0;34m\u001b[0m\u001b[0;34m\u001b[0m\u001b[0m\n",
      "\u001b[0;32m~/anaconda3/envs/pytorch2/lib/python3.8/site-packages/torch/utils/data/dataloader.py\u001b[0m in \u001b[0;36m__next__\u001b[0;34m(self)\u001b[0m\n\u001b[1;32m    361\u001b[0m \u001b[0;34m\u001b[0m\u001b[0m\n\u001b[1;32m    362\u001b[0m     \u001b[0;32mdef\u001b[0m \u001b[0m__next__\u001b[0m\u001b[0;34m(\u001b[0m\u001b[0mself\u001b[0m\u001b[0;34m)\u001b[0m\u001b[0;34m:\u001b[0m\u001b[0;34m\u001b[0m\u001b[0;34m\u001b[0m\u001b[0m\n\u001b[0;32m--> 363\u001b[0;31m         \u001b[0mdata\u001b[0m \u001b[0;34m=\u001b[0m \u001b[0mself\u001b[0m\u001b[0;34m.\u001b[0m\u001b[0m_next_data\u001b[0m\u001b[0;34m(\u001b[0m\u001b[0;34m)\u001b[0m\u001b[0;34m\u001b[0m\u001b[0;34m\u001b[0m\u001b[0m\n\u001b[0m\u001b[1;32m    364\u001b[0m         \u001b[0mself\u001b[0m\u001b[0;34m.\u001b[0m\u001b[0m_num_yielded\u001b[0m \u001b[0;34m+=\u001b[0m \u001b[0;36m1\u001b[0m\u001b[0;34m\u001b[0m\u001b[0;34m\u001b[0m\u001b[0m\n\u001b[1;32m    365\u001b[0m         \u001b[0;32mif\u001b[0m \u001b[0mself\u001b[0m\u001b[0;34m.\u001b[0m\u001b[0m_dataset_kind\u001b[0m \u001b[0;34m==\u001b[0m \u001b[0m_DatasetKind\u001b[0m\u001b[0;34m.\u001b[0m\u001b[0mIterable\u001b[0m \u001b[0;32mand\u001b[0m\u001b[0;31m \u001b[0m\u001b[0;31m\\\u001b[0m\u001b[0;34m\u001b[0m\u001b[0;34m\u001b[0m\u001b[0m\n",
      "\u001b[0;32m~/anaconda3/envs/pytorch2/lib/python3.8/site-packages/torch/utils/data/dataloader.py\u001b[0m in \u001b[0;36m_next_data\u001b[0;34m(self)\u001b[0m\n\u001b[1;32m    972\u001b[0m \u001b[0;34m\u001b[0m\u001b[0m\n\u001b[1;32m    973\u001b[0m             \u001b[0;32massert\u001b[0m \u001b[0;32mnot\u001b[0m \u001b[0mself\u001b[0m\u001b[0;34m.\u001b[0m\u001b[0m_shutdown\u001b[0m \u001b[0;32mand\u001b[0m \u001b[0mself\u001b[0m\u001b[0;34m.\u001b[0m\u001b[0m_tasks_outstanding\u001b[0m \u001b[0;34m>\u001b[0m \u001b[0;36m0\u001b[0m\u001b[0;34m\u001b[0m\u001b[0;34m\u001b[0m\u001b[0m\n\u001b[0;32m--> 974\u001b[0;31m             \u001b[0midx\u001b[0m\u001b[0;34m,\u001b[0m \u001b[0mdata\u001b[0m \u001b[0;34m=\u001b[0m \u001b[0mself\u001b[0m\u001b[0;34m.\u001b[0m\u001b[0m_get_data\u001b[0m\u001b[0;34m(\u001b[0m\u001b[0;34m)\u001b[0m\u001b[0;34m\u001b[0m\u001b[0;34m\u001b[0m\u001b[0m\n\u001b[0m\u001b[1;32m    975\u001b[0m             \u001b[0mself\u001b[0m\u001b[0;34m.\u001b[0m\u001b[0m_tasks_outstanding\u001b[0m \u001b[0;34m-=\u001b[0m \u001b[0;36m1\u001b[0m\u001b[0;34m\u001b[0m\u001b[0;34m\u001b[0m\u001b[0m\n\u001b[1;32m    976\u001b[0m \u001b[0;34m\u001b[0m\u001b[0m\n",
      "\u001b[0;32m~/anaconda3/envs/pytorch2/lib/python3.8/site-packages/torch/utils/data/dataloader.py\u001b[0m in \u001b[0;36m_get_data\u001b[0;34m(self)\u001b[0m\n\u001b[1;32m    939\u001b[0m         \u001b[0;32melse\u001b[0m\u001b[0;34m:\u001b[0m\u001b[0;34m\u001b[0m\u001b[0;34m\u001b[0m\u001b[0m\n\u001b[1;32m    940\u001b[0m             \u001b[0;32mwhile\u001b[0m \u001b[0;32mTrue\u001b[0m\u001b[0;34m:\u001b[0m\u001b[0;34m\u001b[0m\u001b[0;34m\u001b[0m\u001b[0m\n\u001b[0;32m--> 941\u001b[0;31m                 \u001b[0msuccess\u001b[0m\u001b[0;34m,\u001b[0m \u001b[0mdata\u001b[0m \u001b[0;34m=\u001b[0m \u001b[0mself\u001b[0m\u001b[0;34m.\u001b[0m\u001b[0m_try_get_data\u001b[0m\u001b[0;34m(\u001b[0m\u001b[0;34m)\u001b[0m\u001b[0;34m\u001b[0m\u001b[0;34m\u001b[0m\u001b[0m\n\u001b[0m\u001b[1;32m    942\u001b[0m                 \u001b[0;32mif\u001b[0m \u001b[0msuccess\u001b[0m\u001b[0;34m:\u001b[0m\u001b[0;34m\u001b[0m\u001b[0;34m\u001b[0m\u001b[0m\n\u001b[1;32m    943\u001b[0m                     \u001b[0;32mreturn\u001b[0m \u001b[0mdata\u001b[0m\u001b[0;34m\u001b[0m\u001b[0;34m\u001b[0m\u001b[0m\n",
      "\u001b[0;32m~/anaconda3/envs/pytorch2/lib/python3.8/site-packages/torch/utils/data/dataloader.py\u001b[0m in \u001b[0;36m_try_get_data\u001b[0;34m(self, timeout)\u001b[0m\n\u001b[1;32m    777\u001b[0m         \u001b[0;31m#   (bool: whether successfully get data, any: data if successful else None)\u001b[0m\u001b[0;34m\u001b[0m\u001b[0;34m\u001b[0m\u001b[0;34m\u001b[0m\u001b[0m\n\u001b[1;32m    778\u001b[0m         \u001b[0;32mtry\u001b[0m\u001b[0;34m:\u001b[0m\u001b[0;34m\u001b[0m\u001b[0;34m\u001b[0m\u001b[0m\n\u001b[0;32m--> 779\u001b[0;31m             \u001b[0mdata\u001b[0m \u001b[0;34m=\u001b[0m \u001b[0mself\u001b[0m\u001b[0;34m.\u001b[0m\u001b[0m_data_queue\u001b[0m\u001b[0;34m.\u001b[0m\u001b[0mget\u001b[0m\u001b[0;34m(\u001b[0m\u001b[0mtimeout\u001b[0m\u001b[0;34m=\u001b[0m\u001b[0mtimeout\u001b[0m\u001b[0;34m)\u001b[0m\u001b[0;34m\u001b[0m\u001b[0;34m\u001b[0m\u001b[0m\n\u001b[0m\u001b[1;32m    780\u001b[0m             \u001b[0;32mreturn\u001b[0m \u001b[0;34m(\u001b[0m\u001b[0;32mTrue\u001b[0m\u001b[0;34m,\u001b[0m \u001b[0mdata\u001b[0m\u001b[0;34m)\u001b[0m\u001b[0;34m\u001b[0m\u001b[0;34m\u001b[0m\u001b[0m\n\u001b[1;32m    781\u001b[0m         \u001b[0;32mexcept\u001b[0m \u001b[0mException\u001b[0m \u001b[0;32mas\u001b[0m \u001b[0me\u001b[0m\u001b[0;34m:\u001b[0m\u001b[0;34m\u001b[0m\u001b[0;34m\u001b[0m\u001b[0m\n",
      "\u001b[0;32m~/anaconda3/envs/pytorch2/lib/python3.8/multiprocessing/queues.py\u001b[0m in \u001b[0;36mget\u001b[0;34m(self, block, timeout)\u001b[0m\n\u001b[1;32m    105\u001b[0m                 \u001b[0;32mif\u001b[0m \u001b[0mblock\u001b[0m\u001b[0;34m:\u001b[0m\u001b[0;34m\u001b[0m\u001b[0;34m\u001b[0m\u001b[0m\n\u001b[1;32m    106\u001b[0m                     \u001b[0mtimeout\u001b[0m \u001b[0;34m=\u001b[0m \u001b[0mdeadline\u001b[0m \u001b[0;34m-\u001b[0m \u001b[0mtime\u001b[0m\u001b[0;34m.\u001b[0m\u001b[0mmonotonic\u001b[0m\u001b[0;34m(\u001b[0m\u001b[0;34m)\u001b[0m\u001b[0;34m\u001b[0m\u001b[0;34m\u001b[0m\u001b[0m\n\u001b[0;32m--> 107\u001b[0;31m                     \u001b[0;32mif\u001b[0m \u001b[0;32mnot\u001b[0m \u001b[0mself\u001b[0m\u001b[0;34m.\u001b[0m\u001b[0m_poll\u001b[0m\u001b[0;34m(\u001b[0m\u001b[0mtimeout\u001b[0m\u001b[0;34m)\u001b[0m\u001b[0;34m:\u001b[0m\u001b[0;34m\u001b[0m\u001b[0;34m\u001b[0m\u001b[0m\n\u001b[0m\u001b[1;32m    108\u001b[0m                         \u001b[0;32mraise\u001b[0m \u001b[0mEmpty\u001b[0m\u001b[0;34m\u001b[0m\u001b[0;34m\u001b[0m\u001b[0m\n\u001b[1;32m    109\u001b[0m                 \u001b[0;32melif\u001b[0m \u001b[0;32mnot\u001b[0m \u001b[0mself\u001b[0m\u001b[0;34m.\u001b[0m\u001b[0m_poll\u001b[0m\u001b[0;34m(\u001b[0m\u001b[0;34m)\u001b[0m\u001b[0;34m:\u001b[0m\u001b[0;34m\u001b[0m\u001b[0;34m\u001b[0m\u001b[0m\n",
      "\u001b[0;32m~/anaconda3/envs/pytorch2/lib/python3.8/multiprocessing/connection.py\u001b[0m in \u001b[0;36mpoll\u001b[0;34m(self, timeout)\u001b[0m\n\u001b[1;32m    255\u001b[0m         \u001b[0mself\u001b[0m\u001b[0;34m.\u001b[0m\u001b[0m_check_closed\u001b[0m\u001b[0;34m(\u001b[0m\u001b[0;34m)\u001b[0m\u001b[0;34m\u001b[0m\u001b[0;34m\u001b[0m\u001b[0m\n\u001b[1;32m    256\u001b[0m         \u001b[0mself\u001b[0m\u001b[0;34m.\u001b[0m\u001b[0m_check_readable\u001b[0m\u001b[0;34m(\u001b[0m\u001b[0;34m)\u001b[0m\u001b[0;34m\u001b[0m\u001b[0;34m\u001b[0m\u001b[0m\n\u001b[0;32m--> 257\u001b[0;31m         \u001b[0;32mreturn\u001b[0m \u001b[0mself\u001b[0m\u001b[0;34m.\u001b[0m\u001b[0m_poll\u001b[0m\u001b[0;34m(\u001b[0m\u001b[0mtimeout\u001b[0m\u001b[0;34m)\u001b[0m\u001b[0;34m\u001b[0m\u001b[0;34m\u001b[0m\u001b[0m\n\u001b[0m\u001b[1;32m    258\u001b[0m \u001b[0;34m\u001b[0m\u001b[0m\n\u001b[1;32m    259\u001b[0m     \u001b[0;32mdef\u001b[0m \u001b[0m__enter__\u001b[0m\u001b[0;34m(\u001b[0m\u001b[0mself\u001b[0m\u001b[0;34m)\u001b[0m\u001b[0;34m:\u001b[0m\u001b[0;34m\u001b[0m\u001b[0;34m\u001b[0m\u001b[0m\n",
      "\u001b[0;32m~/anaconda3/envs/pytorch2/lib/python3.8/multiprocessing/connection.py\u001b[0m in \u001b[0;36m_poll\u001b[0;34m(self, timeout)\u001b[0m\n\u001b[1;32m    422\u001b[0m \u001b[0;34m\u001b[0m\u001b[0m\n\u001b[1;32m    423\u001b[0m     \u001b[0;32mdef\u001b[0m \u001b[0m_poll\u001b[0m\u001b[0;34m(\u001b[0m\u001b[0mself\u001b[0m\u001b[0;34m,\u001b[0m \u001b[0mtimeout\u001b[0m\u001b[0;34m)\u001b[0m\u001b[0;34m:\u001b[0m\u001b[0;34m\u001b[0m\u001b[0;34m\u001b[0m\u001b[0m\n\u001b[0;32m--> 424\u001b[0;31m         \u001b[0mr\u001b[0m \u001b[0;34m=\u001b[0m \u001b[0mwait\u001b[0m\u001b[0;34m(\u001b[0m\u001b[0;34m[\u001b[0m\u001b[0mself\u001b[0m\u001b[0;34m]\u001b[0m\u001b[0;34m,\u001b[0m \u001b[0mtimeout\u001b[0m\u001b[0;34m)\u001b[0m\u001b[0;34m\u001b[0m\u001b[0;34m\u001b[0m\u001b[0m\n\u001b[0m\u001b[1;32m    425\u001b[0m         \u001b[0;32mreturn\u001b[0m \u001b[0mbool\u001b[0m\u001b[0;34m(\u001b[0m\u001b[0mr\u001b[0m\u001b[0;34m)\u001b[0m\u001b[0;34m\u001b[0m\u001b[0;34m\u001b[0m\u001b[0m\n\u001b[1;32m    426\u001b[0m \u001b[0;34m\u001b[0m\u001b[0m\n",
      "\u001b[0;32m~/anaconda3/envs/pytorch2/lib/python3.8/multiprocessing/connection.py\u001b[0m in \u001b[0;36mwait\u001b[0;34m(object_list, timeout)\u001b[0m\n\u001b[1;32m    929\u001b[0m \u001b[0;34m\u001b[0m\u001b[0m\n\u001b[1;32m    930\u001b[0m             \u001b[0;32mwhile\u001b[0m \u001b[0;32mTrue\u001b[0m\u001b[0;34m:\u001b[0m\u001b[0;34m\u001b[0m\u001b[0;34m\u001b[0m\u001b[0m\n\u001b[0;32m--> 931\u001b[0;31m                 \u001b[0mready\u001b[0m \u001b[0;34m=\u001b[0m \u001b[0mselector\u001b[0m\u001b[0;34m.\u001b[0m\u001b[0mselect\u001b[0m\u001b[0;34m(\u001b[0m\u001b[0mtimeout\u001b[0m\u001b[0;34m)\u001b[0m\u001b[0;34m\u001b[0m\u001b[0;34m\u001b[0m\u001b[0m\n\u001b[0m\u001b[1;32m    932\u001b[0m                 \u001b[0;32mif\u001b[0m \u001b[0mready\u001b[0m\u001b[0;34m:\u001b[0m\u001b[0;34m\u001b[0m\u001b[0;34m\u001b[0m\u001b[0m\n\u001b[1;32m    933\u001b[0m                     \u001b[0;32mreturn\u001b[0m \u001b[0;34m[\u001b[0m\u001b[0mkey\u001b[0m\u001b[0;34m.\u001b[0m\u001b[0mfileobj\u001b[0m \u001b[0;32mfor\u001b[0m \u001b[0;34m(\u001b[0m\u001b[0mkey\u001b[0m\u001b[0;34m,\u001b[0m \u001b[0mevents\u001b[0m\u001b[0;34m)\u001b[0m \u001b[0;32min\u001b[0m \u001b[0mready\u001b[0m\u001b[0;34m]\u001b[0m\u001b[0;34m\u001b[0m\u001b[0;34m\u001b[0m\u001b[0m\n",
      "\u001b[0;32m~/anaconda3/envs/pytorch2/lib/python3.8/selectors.py\u001b[0m in \u001b[0;36mselect\u001b[0;34m(self, timeout)\u001b[0m\n\u001b[1;32m    413\u001b[0m         \u001b[0mready\u001b[0m \u001b[0;34m=\u001b[0m \u001b[0;34m[\u001b[0m\u001b[0;34m]\u001b[0m\u001b[0;34m\u001b[0m\u001b[0;34m\u001b[0m\u001b[0m\n\u001b[1;32m    414\u001b[0m         \u001b[0;32mtry\u001b[0m\u001b[0;34m:\u001b[0m\u001b[0;34m\u001b[0m\u001b[0;34m\u001b[0m\u001b[0m\n\u001b[0;32m--> 415\u001b[0;31m             \u001b[0mfd_event_list\u001b[0m \u001b[0;34m=\u001b[0m \u001b[0mself\u001b[0m\u001b[0;34m.\u001b[0m\u001b[0m_selector\u001b[0m\u001b[0;34m.\u001b[0m\u001b[0mpoll\u001b[0m\u001b[0;34m(\u001b[0m\u001b[0mtimeout\u001b[0m\u001b[0;34m)\u001b[0m\u001b[0;34m\u001b[0m\u001b[0;34m\u001b[0m\u001b[0m\n\u001b[0m\u001b[1;32m    416\u001b[0m         \u001b[0;32mexcept\u001b[0m \u001b[0mInterruptedError\u001b[0m\u001b[0;34m:\u001b[0m\u001b[0;34m\u001b[0m\u001b[0;34m\u001b[0m\u001b[0m\n\u001b[1;32m    417\u001b[0m             \u001b[0;32mreturn\u001b[0m \u001b[0mready\u001b[0m\u001b[0;34m\u001b[0m\u001b[0;34m\u001b[0m\u001b[0m\n",
      "\u001b[0;31mKeyboardInterrupt\u001b[0m: "
     ]
    }
   ],
   "source": [
    "# [STAR] Training loop for DBT dataset\n",
    "\n",
    "loss_hist     = Averager()\n",
    "val_loss_hist = Averager()\n",
    "\n",
    "prev_min   = 1000\n",
    "num_epochs = 50\n",
    "for epoch in range(num_epochs):\n",
    "    loss_hist.reset()\n",
    "    loss_hist.reset()\n",
    "    \n",
    "    model.train()\n",
    "    itr = 1\n",
    "    for images, targets, image_ids in train_data_loader:\n",
    "        new_images  = []\n",
    "        for img in images:\n",
    "            new_images.append(torch.Tensor(img).to(device))\n",
    "        \n",
    "        images    = new_images\n",
    "        targets   = [{k: v.to(device) for k, v in t.items()} for t in targets]\n",
    "        loss_dict = model(images, targets)\n",
    "\n",
    "        losses     = sum(loss for loss in loss_dict.values())\n",
    "        loss_value = losses.item()\n",
    "\n",
    "        loss_hist.send(loss_value)\n",
    "\n",
    "        optimizer.zero_grad()\n",
    "        losses.backward()\n",
    "        optimizer.step()\n",
    "\n",
    "        #if itr % 50 == 0:\n",
    "        #    print(f\"Iteration #{itr} loss: {loss_value}\")\n",
    "\n",
    "        itr += 1\n",
    "    \n",
    "    with torch.no_grad():\n",
    "        for images, targets, image_ids in valid_data_loader:\n",
    "            new_images  = []\n",
    "            for img in images:\n",
    "                new_images.append(torch.Tensor(img).to(device))\n",
    "\n",
    "            images    = new_images\n",
    "            targets   = [{k: v.to(device) for k, v in t.items()} for t in targets]\n",
    "            loss_dict = model(images, targets)\n",
    "            #print(loss_dict)\n",
    "\n",
    "            losses     = sum(loss for loss in loss_dict.values())\n",
    "            loss_value = losses.item()\n",
    "            val_loss_hist.send(loss_value)\n",
    "\n",
    "            #if itr % 50 == 0:\n",
    "            #    print(f\"Validation Iteration #{itr} loss: {loss_value}\")\n",
    "            itr = itr+1\n",
    "    \n",
    "    # update the learning rate\n",
    "    if lr_scheduler is not None:\n",
    "        lr_scheduler.step()\n",
    "\n",
    "    print(f\"Epoch #{epoch} Train loss: {loss_hist.value}\")\n",
    "    print(f\"Epoch #{epoch} Val   loss: {val_loss_hist.value}\")\n",
    "    \n",
    "    if val_loss_hist.value < prev_min:\n",
    "        print('Saving the model ', prev_min, val_loss_hist.value)\n",
    "        torch.save(model.state_dict(), 'fasterrcnn_resnet50_dbt26.pth')\n",
    "        prev_min = val_loss_hist.value"
   ]
  },
  {
   "cell_type": "code",
   "execution_count": 100,
   "metadata": {
    "code_folding": [],
    "scrolled": true
   },
   "outputs": [
    {
     "name": "stdout",
     "output_type": "stream",
     "text": [
      "Validation Iteration #10 loss: 0.1522545963525772\n",
      "Validation Iteration #20 loss: 0.14671073853969574\n",
      "Validation Iteration #30 loss: 0.060010723769664764\n",
      "Validation Iteration #40 loss: 0.1513519287109375\n",
      "Validation Iteration #50 loss: 0.10438358038663864\n",
      "0.15411860436201097\n"
     ]
    }
   ],
   "source": [
    "# [STAR] For printing the loss of the trained model\n",
    "\n",
    "# fasterrcnn_resnet50_dbt7.pth  0.24080992616713048\n",
    "# fasterrcnn_resnet50_dbt8.pth  0.1653416310250759\n",
    "# fasterrcnn_resnet50_dbt9.pth  0.17630461007356643\n",
    "# fasterrcnn_resnet50_dbt10.pth 0.17438715264201166\n",
    "# fasterrcnn_resnet50_dbt11.pth 0.16590506657958032\n",
    "# fasterrcnn_resnet50_dbt14.pth 0.1608045955002308\n",
    "# fasterrcnn_resnet50_dbt21.pth 0.15965028703212739\n",
    "# fasterrcnn_resnet50_dbt15.pth (3 adjacent channel)\n",
    "\n",
    "all_target    = []\n",
    "all_scores    = []\n",
    "val_loss_hist = Averager()\n",
    "itr = 1\n",
    "\n",
    "#device = torch.device(\"cpu\")\n",
    "#model.to(device)\n",
    "model.load_state_dict(torch.load('fasterrcnn_resnet50_dbt26.pth'))\n",
    "model.train()\n",
    "\n",
    "with torch.no_grad():\n",
    "    for images, targets, image_ids in valid_data_loader:\n",
    "        new_images  = []\n",
    "        for img in images:\n",
    "            new_images.append(torch.Tensor(img).to(device))\n",
    "\n",
    "        images    = new_images\n",
    "        targets   = [{k: v.to(device) for k, v in t.items()} for t in targets]\n",
    "        loss_dict = model(images, targets)\n",
    "        #print(loss_dict)\n",
    "\n",
    "        losses     = sum(loss for loss in loss_dict.values())\n",
    "        loss_value = losses.item()\n",
    "        val_loss_hist.send(loss_value)\n",
    "\n",
    "        if itr % 10 == 0:\n",
    "            print(f\"Validation Iteration #{itr} loss: {loss_value}\")\n",
    "        itr = itr+1\n",
    "\n",
    "print(val_loss_hist.value)"
   ]
  },
  {
   "cell_type": "code",
   "execution_count": 103,
   "metadata": {
    "code_folding": [],
    "scrolled": true
   },
   "outputs": [
    {
     "name": "stderr",
     "output_type": "stream",
     "text": [
      "\r",
      "  0%|          | 0/50 [00:00<?, ?it/s]"
     ]
    },
    {
     "name": "stdout",
     "output_type": "stream",
     "text": [
      "Processing  150\n",
      "Size of volume is  (72, 2457, 1996)\n",
      "File reading done  (72, 2457, 1996)\n"
     ]
    },
    {
     "name": "stderr",
     "output_type": "stream",
     "text": [
      "\r",
      "  2%|▏         | 1/50 [00:26<21:19, 26.12s/it]"
     ]
    },
    {
     "name": "stdout",
     "output_type": "stream",
     "text": [
      "Processing  151\n",
      "Size of volume is  (34, 2457, 1890)\n",
      "File reading done  (34, 2457, 1890)\n"
     ]
    },
    {
     "name": "stderr",
     "output_type": "stream",
     "text": [
      "\r",
      "  4%|▍         | 2/50 [00:35<16:51, 21.07s/it]"
     ]
    },
    {
     "name": "stdout",
     "output_type": "stream",
     "text": [
      "Processing  152\n",
      "Size of volume is  (33, 2457, 1890)\n",
      "File reading done  (33, 2457, 1890)\n"
     ]
    },
    {
     "name": "stderr",
     "output_type": "stream",
     "text": [
      "\r",
      "  6%|▌         | 3/50 [00:45<13:50, 17.67s/it]"
     ]
    },
    {
     "name": "stdout",
     "output_type": "stream",
     "text": [
      "Processing  153\n",
      "Size of volume is  (35, 2457, 1890)\n",
      "File reading done  (35, 2457, 1890)\n"
     ]
    },
    {
     "name": "stderr",
     "output_type": "stream",
     "text": [
      "\r",
      "  8%|▊         | 4/50 [00:54<11:40, 15.22s/it]"
     ]
    },
    {
     "name": "stdout",
     "output_type": "stream",
     "text": [
      "Processing  154\n",
      "Size of volume is  (43, 2457, 1890)\n",
      "File reading done  (43, 2457, 1890)\n"
     ]
    },
    {
     "name": "stderr",
     "output_type": "stream",
     "text": [
      "\r",
      " 10%|█         | 5/50 [01:07<10:58, 14.64s/it]"
     ]
    },
    {
     "name": "stdout",
     "output_type": "stream",
     "text": [
      "Processing  155\n",
      "Size of volume is  (59, 2457, 1890)\n",
      "File reading done  (59, 2457, 1890)\n"
     ]
    },
    {
     "name": "stderr",
     "output_type": "stream",
     "text": [
      "\r",
      " 12%|█▏        | 6/50 [01:28<11:57, 16.31s/it]"
     ]
    },
    {
     "name": "stdout",
     "output_type": "stream",
     "text": [
      "Processing  156\n",
      "Size of volume is  (56, 2457, 1890)\n",
      "File reading done  (56, 2457, 1890)\n"
     ]
    },
    {
     "name": "stderr",
     "output_type": "stream",
     "text": [
      "\r",
      " 14%|█▍        | 7/50 [01:49<12:43, 17.76s/it]"
     ]
    },
    {
     "name": "stdout",
     "output_type": "stream",
     "text": [
      "Processing  157\n",
      "Size of volume is  (60, 2457, 1890)\n",
      "File reading done  (60, 2457, 1890)\n"
     ]
    },
    {
     "name": "stderr",
     "output_type": "stream",
     "text": [
      "\r",
      " 16%|█▌        | 8/50 [02:08<12:47, 18.27s/it]"
     ]
    },
    {
     "name": "stdout",
     "output_type": "stream",
     "text": [
      "Processing  158\n",
      "Size of volume is  (61, 2457, 1890)\n",
      "File reading done  (61, 2457, 1890)\n"
     ]
    },
    {
     "name": "stderr",
     "output_type": "stream",
     "text": [
      "\r",
      " 18%|█▊        | 9/50 [02:29<13:03, 19.11s/it]"
     ]
    },
    {
     "name": "stdout",
     "output_type": "stream",
     "text": [
      "Processing  159\n",
      "Size of volume is  (88, 2457, 1996)\n",
      "File reading done  (88, 2457, 1996)\n"
     ]
    },
    {
     "name": "stderr",
     "output_type": "stream",
     "text": [
      "\r",
      " 20%|██        | 10/50 [03:03<15:40, 23.52s/it]"
     ]
    },
    {
     "name": "stdout",
     "output_type": "stream",
     "text": [
      "Processing  160\n",
      "Size of volume is  (89, 2457, 1996)\n",
      "File reading done  (89, 2457, 1996)\n"
     ]
    },
    {
     "name": "stderr",
     "output_type": "stream",
     "text": [
      "\r",
      " 22%|██▏       | 11/50 [03:40<17:56, 27.61s/it]"
     ]
    },
    {
     "name": "stdout",
     "output_type": "stream",
     "text": [
      "Processing  161\n",
      "Size of volume is  (76, 2457, 1996)\n",
      "File reading done  (76, 2457, 1996)\n"
     ]
    },
    {
     "name": "stderr",
     "output_type": "stream",
     "text": [
      "\r",
      " 24%|██▍       | 12/50 [04:09<17:42, 27.96s/it]"
     ]
    },
    {
     "name": "stdout",
     "output_type": "stream",
     "text": [
      "Processing  162\n",
      "Size of volume is  (90, 2457, 1996)\n",
      "File reading done  (90, 2457, 1996)\n"
     ]
    },
    {
     "name": "stderr",
     "output_type": "stream",
     "text": [
      "\r",
      " 26%|██▌       | 13/50 [04:47<19:00, 30.82s/it]"
     ]
    },
    {
     "name": "stdout",
     "output_type": "stream",
     "text": [
      "Processing  163\n",
      "Size of volume is  (50, 2457, 1996)\n",
      "File reading done  (50, 2457, 1996)\n"
     ]
    },
    {
     "name": "stderr",
     "output_type": "stream",
     "text": [
      "\r",
      " 28%|██▊       | 14/50 [05:03<15:59, 26.65s/it]"
     ]
    },
    {
     "name": "stdout",
     "output_type": "stream",
     "text": [
      "Processing  164\n",
      "Size of volume is  (51, 2457, 1996)\n",
      "File reading done  (51, 2457, 1996)\n"
     ]
    },
    {
     "name": "stderr",
     "output_type": "stream",
     "text": [
      "\r",
      " 30%|███       | 15/50 [05:21<14:01, 24.03s/it]"
     ]
    },
    {
     "name": "stdout",
     "output_type": "stream",
     "text": [
      "Processing  165\n",
      "Size of volume is  (88, 2457, 1996)\n",
      "File reading done  (88, 2457, 1996)\n"
     ]
    },
    {
     "name": "stderr",
     "output_type": "stream",
     "text": [
      "\r",
      " 32%|███▏      | 16/50 [05:57<15:31, 27.41s/it]"
     ]
    },
    {
     "name": "stdout",
     "output_type": "stream",
     "text": [
      "Processing  166\n",
      "Size of volume is  (83, 2457, 1996)\n",
      "File reading done  (83, 2457, 1996)\n"
     ]
    },
    {
     "name": "stderr",
     "output_type": "stream",
     "text": [
      "\r",
      " 34%|███▍      | 17/50 [06:32<16:21, 29.73s/it]"
     ]
    },
    {
     "name": "stdout",
     "output_type": "stream",
     "text": [
      "Processing  167\n",
      "Size of volume is  (84, 2457, 1996)\n",
      "File reading done  (84, 2457, 1996)\n"
     ]
    },
    {
     "name": "stderr",
     "output_type": "stream",
     "text": [
      "\r",
      " 36%|███▌      | 18/50 [07:05<16:21, 30.66s/it]"
     ]
    },
    {
     "name": "stdout",
     "output_type": "stream",
     "text": [
      "Processing  168\n",
      "Size of volume is  (84, 2457, 1996)\n",
      "File reading done  (84, 2457, 1996)\n"
     ]
    },
    {
     "name": "stderr",
     "output_type": "stream",
     "text": [
      "\r",
      " 38%|███▊      | 19/50 [07:40<16:33, 32.06s/it]"
     ]
    },
    {
     "name": "stdout",
     "output_type": "stream",
     "text": [
      "Processing  169\n",
      "Size of volume is  (87, 2457, 1996)\n",
      "File reading done  (87, 2457, 1996)\n"
     ]
    },
    {
     "name": "stderr",
     "output_type": "stream",
     "text": [
      "\r",
      " 40%|████      | 20/50 [08:15<16:25, 32.84s/it]"
     ]
    },
    {
     "name": "stdout",
     "output_type": "stream",
     "text": [
      "Processing  170\n",
      "Size of volume is  (86, 2457, 1996)\n",
      "File reading done  (86, 2457, 1996)\n"
     ]
    },
    {
     "name": "stderr",
     "output_type": "stream",
     "text": [
      "\r",
      " 42%|████▏     | 21/50 [08:51<16:24, 33.96s/it]"
     ]
    },
    {
     "name": "stdout",
     "output_type": "stream",
     "text": [
      "Processing  171\n",
      "Size of volume is  (88, 2457, 1996)\n",
      "File reading done  (88, 2457, 1996)\n"
     ]
    },
    {
     "name": "stderr",
     "output_type": "stream",
     "text": [
      "\r",
      " 44%|████▍     | 22/50 [09:26<15:57, 34.20s/it]"
     ]
    },
    {
     "name": "stdout",
     "output_type": "stream",
     "text": [
      "Processing  172\n",
      "Size of volume is  (81, 2457, 1996)\n",
      "File reading done  (81, 2457, 1996)\n"
     ]
    },
    {
     "name": "stderr",
     "output_type": "stream",
     "text": [
      "\r",
      " 46%|████▌     | 23/50 [10:00<15:19, 34.07s/it]"
     ]
    },
    {
     "name": "stdout",
     "output_type": "stream",
     "text": [
      "Processing  173\n",
      "Size of volume is  (57, 2457, 1890)\n",
      "File reading done  (57, 2457, 1890)\n"
     ]
    },
    {
     "name": "stderr",
     "output_type": "stream",
     "text": [
      "\r",
      " 48%|████▊     | 24/50 [10:18<12:40, 29.27s/it]"
     ]
    },
    {
     "name": "stdout",
     "output_type": "stream",
     "text": [
      "Processing  174\n",
      "Size of volume is  (51, 2457, 1890)\n",
      "File reading done  (51, 2457, 1890)\n"
     ]
    },
    {
     "name": "stderr",
     "output_type": "stream",
     "text": [
      "\r",
      " 50%|█████     | 25/50 [10:37<10:54, 26.17s/it]"
     ]
    },
    {
     "name": "stdout",
     "output_type": "stream",
     "text": [
      "Processing  175\n",
      "Size of volume is  (51, 2457, 1890)\n",
      "File reading done  (51, 2457, 1890)\n"
     ]
    },
    {
     "name": "stderr",
     "output_type": "stream",
     "text": [
      "\r",
      " 52%|█████▏    | 26/50 [10:53<09:15, 23.16s/it]"
     ]
    },
    {
     "name": "stdout",
     "output_type": "stream",
     "text": [
      "Processing  176\n",
      "Size of volume is  (50, 2457, 1890)\n",
      "File reading done  (50, 2457, 1890)\n"
     ]
    },
    {
     "name": "stderr",
     "output_type": "stream",
     "text": [
      "\r",
      " 54%|█████▍    | 27/50 [11:11<08:19, 21.72s/it]"
     ]
    },
    {
     "name": "stdout",
     "output_type": "stream",
     "text": [
      "Processing  177\n",
      "Size of volume is  (85, 2457, 1890)\n",
      "File reading done  (85, 2457, 1890)\n"
     ]
    },
    {
     "name": "stderr",
     "output_type": "stream",
     "text": [
      "\r",
      " 56%|█████▌    | 28/50 [11:40<08:47, 23.97s/it]"
     ]
    },
    {
     "name": "stdout",
     "output_type": "stream",
     "text": [
      "Processing  178\n",
      "Size of volume is  (90, 2457, 1890)\n",
      "File reading done  (90, 2457, 1890)\n"
     ]
    },
    {
     "name": "stderr",
     "output_type": "stream",
     "text": [
      "\r",
      " 58%|█████▊    | 29/50 [12:12<09:11, 26.25s/it]"
     ]
    },
    {
     "name": "stdout",
     "output_type": "stream",
     "text": [
      "Processing  179\n",
      "Size of volume is  (90, 2457, 1890)\n",
      "File reading done  (90, 2457, 1890)\n"
     ]
    },
    {
     "name": "stderr",
     "output_type": "stream",
     "text": [
      "\r",
      " 60%|██████    | 30/50 [12:41<09:02, 27.13s/it]"
     ]
    },
    {
     "name": "stdout",
     "output_type": "stream",
     "text": [
      "Processing  180\n",
      "Size of volume is  (91, 2457, 1890)\n",
      "File reading done  (91, 2457, 1890)\n"
     ]
    },
    {
     "name": "stderr",
     "output_type": "stream",
     "text": [
      "\r",
      " 62%|██████▏   | 31/50 [13:12<08:55, 28.21s/it]"
     ]
    },
    {
     "name": "stdout",
     "output_type": "stream",
     "text": [
      "Processing  181\n",
      "Size of volume is  (53, 2457, 1890)\n",
      "File reading done  (53, 2457, 1890)\n"
     ]
    },
    {
     "name": "stderr",
     "output_type": "stream",
     "text": [
      "\r",
      " 64%|██████▍   | 32/50 [13:26<07:13, 24.06s/it]"
     ]
    },
    {
     "name": "stdout",
     "output_type": "stream",
     "text": [
      "Processing  182\n",
      "Size of volume is  (62, 2457, 1890)\n",
      "File reading done  (62, 2457, 1890)\n"
     ]
    },
    {
     "name": "stderr",
     "output_type": "stream",
     "text": [
      "\r",
      " 66%|██████▌   | 33/50 [13:44<06:15, 22.08s/it]"
     ]
    },
    {
     "name": "stdout",
     "output_type": "stream",
     "text": [
      "Processing  183\n",
      "Size of volume is  (64, 2457, 1890)\n",
      "File reading done  (64, 2457, 1890)\n"
     ]
    },
    {
     "name": "stderr",
     "output_type": "stream",
     "text": [
      "\r",
      " 68%|██████▊   | 34/50 [14:03<05:37, 21.11s/it]"
     ]
    },
    {
     "name": "stdout",
     "output_type": "stream",
     "text": [
      "Processing  184\n",
      "Size of volume is  (66, 2457, 1890)\n",
      "File reading done  (66, 2457, 1890)\n"
     ]
    },
    {
     "name": "stderr",
     "output_type": "stream",
     "text": [
      "\r",
      " 70%|███████   | 35/50 [14:26<05:26, 21.75s/it]"
     ]
    },
    {
     "name": "stdout",
     "output_type": "stream",
     "text": [
      "Processing  185\n",
      "Size of volume is  (53, 2457, 1890)\n",
      "File reading done  (53, 2457, 1890)\n"
     ]
    },
    {
     "name": "stderr",
     "output_type": "stream",
     "text": [
      "\r",
      " 72%|███████▏  | 36/50 [14:47<05:00, 21.43s/it]"
     ]
    },
    {
     "name": "stdout",
     "output_type": "stream",
     "text": [
      "Processing  186\n",
      "Size of volume is  (54, 2457, 1890)\n",
      "File reading done  (54, 2457, 1890)\n"
     ]
    },
    {
     "name": "stderr",
     "output_type": "stream",
     "text": [
      "\r",
      " 74%|███████▍  | 37/50 [15:09<04:41, 21.69s/it]"
     ]
    },
    {
     "name": "stdout",
     "output_type": "stream",
     "text": [
      "Processing  187\n",
      "Size of volume is  (53, 2457, 1890)\n",
      "File reading done  (53, 2457, 1890)\n"
     ]
    },
    {
     "name": "stderr",
     "output_type": "stream",
     "text": [
      "\r",
      " 76%|███████▌  | 38/50 [15:29<04:13, 21.16s/it]"
     ]
    },
    {
     "name": "stdout",
     "output_type": "stream",
     "text": [
      "Processing  188\n",
      "Size of volume is  (56, 2457, 1890)\n",
      "File reading done  (56, 2457, 1890)\n"
     ]
    },
    {
     "name": "stderr",
     "output_type": "stream",
     "text": [
      "\r",
      " 78%|███████▊  | 39/50 [15:52<03:59, 21.76s/it]"
     ]
    },
    {
     "name": "stdout",
     "output_type": "stream",
     "text": [
      "Processing  189\n",
      "Size of volume is  (44, 2457, 1890)\n",
      "File reading done  (44, 2457, 1890)\n"
     ]
    },
    {
     "name": "stderr",
     "output_type": "stream",
     "text": [
      "\r",
      " 80%|████████  | 40/50 [16:05<03:12, 19.24s/it]"
     ]
    },
    {
     "name": "stdout",
     "output_type": "stream",
     "text": [
      "Processing  190\n",
      "Size of volume is  (44, 2457, 1890)\n",
      "File reading done  (44, 2457, 1890)\n"
     ]
    },
    {
     "name": "stderr",
     "output_type": "stream",
     "text": [
      "\r",
      " 82%|████████▏ | 41/50 [16:20<02:42, 18.02s/it]"
     ]
    },
    {
     "name": "stdout",
     "output_type": "stream",
     "text": [
      "Processing  191\n",
      "Size of volume is  (44, 2457, 1890)\n",
      "File reading done  (44, 2457, 1890)\n"
     ]
    },
    {
     "name": "stderr",
     "output_type": "stream",
     "text": [
      "\r",
      " 84%|████████▍ | 42/50 [16:34<02:13, 16.67s/it]"
     ]
    },
    {
     "name": "stdout",
     "output_type": "stream",
     "text": [
      "Processing  192\n",
      "Size of volume is  (50, 2457, 1890)\n",
      "File reading done  (50, 2457, 1890)\n"
     ]
    },
    {
     "name": "stderr",
     "output_type": "stream",
     "text": [
      "\r",
      " 86%|████████▌ | 43/50 [16:51<01:56, 16.68s/it]"
     ]
    },
    {
     "name": "stdout",
     "output_type": "stream",
     "text": [
      "Processing  193\n",
      "Size of volume is  (93, 2457, 1996)\n",
      "File reading done  (93, 2457, 1996)\n"
     ]
    },
    {
     "name": "stderr",
     "output_type": "stream",
     "text": [
      "\r",
      " 88%|████████▊ | 44/50 [17:26<02:13, 22.31s/it]"
     ]
    },
    {
     "name": "stdout",
     "output_type": "stream",
     "text": [
      "Processing  194\n",
      "Size of volume is  (91, 2457, 1996)\n",
      "File reading done  (91, 2457, 1996)\n"
     ]
    },
    {
     "name": "stderr",
     "output_type": "stream",
     "text": [
      "\r",
      " 90%|█████████ | 45/50 [18:06<02:17, 27.46s/it]"
     ]
    },
    {
     "name": "stdout",
     "output_type": "stream",
     "text": [
      "Processing  195\n",
      "Size of volume is  (92, 2457, 1996)\n",
      "File reading done  (92, 2457, 1996)\n"
     ]
    },
    {
     "name": "stderr",
     "output_type": "stream",
     "text": [
      "\r",
      " 92%|█████████▏| 46/50 [18:43<02:01, 30.31s/it]"
     ]
    },
    {
     "name": "stdout",
     "output_type": "stream",
     "text": [
      "Processing  196\n",
      "Size of volume is  (97, 2457, 1996)\n",
      "File reading done  (97, 2457, 1996)\n"
     ]
    },
    {
     "name": "stderr",
     "output_type": "stream",
     "text": [
      "\r",
      " 94%|█████████▍| 47/50 [19:26<01:42, 34.30s/it]"
     ]
    },
    {
     "name": "stdout",
     "output_type": "stream",
     "text": [
      "Processing  197\n",
      "Size of volume is  (72, 2457, 1890)\n",
      "File reading done  (72, 2457, 1890)\n"
     ]
    },
    {
     "name": "stderr",
     "output_type": "stream",
     "text": [
      "\r",
      " 96%|█████████▌| 48/50 [19:56<01:05, 32.85s/it]"
     ]
    },
    {
     "name": "stdout",
     "output_type": "stream",
     "text": [
      "Processing  198\n",
      "Size of volume is  (70, 2457, 1996)\n",
      "File reading done  (70, 2457, 1996)\n"
     ]
    },
    {
     "name": "stderr",
     "output_type": "stream",
     "text": [
      "\r",
      " 98%|█████████▊| 49/50 [20:23<00:31, 31.32s/it]"
     ]
    },
    {
     "name": "stdout",
     "output_type": "stream",
     "text": [
      "Processing  199\n",
      "Size of volume is  (71, 2457, 1996)\n",
      "File reading done  (71, 2457, 1996)\n"
     ]
    },
    {
     "name": "stderr",
     "output_type": "stream",
     "text": [
      "100%|██████████| 50/50 [20:50<00:00, 25.00s/it]\n"
     ]
    }
   ],
   "source": [
    "# [STAR] For Obtaining the result on Validation set of the Challenge\n",
    "\n",
    "def collate_fn(batch):\n",
    "    return tuple(zip(*batch))\n",
    "\n",
    "device = torch.device('cuda') if torch.cuda.is_available() else torch.device('cpu')\n",
    "\n",
    "num_classes = 2\n",
    "model       = torchvision.models.detection.fasterrcnn_resnet50_fpn(pretrained=True)\n",
    "\n",
    "# get number of input features for the classifier\n",
    "in_features = model.roi_heads.box_predictor.cls_score.in_features\n",
    "\n",
    "# replace the pre-trained head with a new one\n",
    "model.roi_heads.box_predictor = FastRCNNPredictor(in_features, num_classes)\n",
    "model.to(device)\n",
    "model.load_state_dict(torch.load('fasterrcnn_resnet50_dbt26.pth'))\n",
    "model.eval()\n",
    "\n",
    "\n",
    "trainx = []\n",
    "trainy = []\n",
    "boximage  = []\n",
    "coordx =  []\n",
    "coordy = []\n",
    "\n",
    "width_arr = []\n",
    "height_arr = []\n",
    "\n",
    "PatientID_arr = []\n",
    "StudyUID_arr = []\n",
    "\n",
    "#device = torch.device(\"cpu\")\n",
    "#model.to(device)\n",
    "\n",
    "\n",
    "import pickle\n",
    "\n",
    "#shuffle_index = np.load('shuffle_array.npy')\n",
    "#shuffle_index = shuffle_index[150:]\n",
    "        \n",
    "        \n",
    "for i in tqdm(range(150, 200)):\n",
    "    #if i in shuffle_index:\n",
    "    print('Processing ', i)\n",
    "    #else:\n",
    "    #    continue\n",
    "    \n",
    "    valid_dataset     = DBTDatasetValidationTrain(val_index=i)\n",
    "    #valid_dataset     = DBTDataset(train_set=0)\n",
    "    valid_data_loader = DataLoader(\n",
    "        valid_dataset,\n",
    "        batch_size=1,\n",
    "        shuffle=False,\n",
    "        num_workers=1, \n",
    "        collate_fn=collate_fn\n",
    "    )\n",
    "        \n",
    "    all_target = []\n",
    "    all_scores = []\n",
    "    all_images = []\n",
    "    \n",
    "    for images, targets, image_ids in valid_data_loader:\n",
    "        all_images.append(images[0][0].astype('float16'))\n",
    "        new_images  = []\n",
    "        for img in images:\n",
    "            new_images.append(torch.Tensor(img).to(device))\n",
    "\n",
    "        images    = new_images\n",
    "        targets   = [{k: v.to(device) for k, v in t.items()} for t in targets]\n",
    "        loss_dict = model(images)\n",
    "        #print(loss_dict)\n",
    "        \n",
    "        all_scores.append(loss_dict[0]['scores'].data.cpu().numpy())\n",
    "        all_target.append(loss_dict[0]['boxes'].data.cpu().numpy())\n",
    "    \n",
    "    with open('/media/drilnvm/ubuntudata2/DBTEx_numpy2/val_score_'+str(i)+'.data', 'wb') as filehandle:\n",
    "        # store the data as binary data stream\n",
    "        pickle.dump(all_scores, filehandle)\n",
    "        \n",
    "    with open('/media/drilnvm/ubuntudata2/DBTEx_numpy2/val_target_'+str(i)+'.data', 'wb') as filehandle:\n",
    "        # store the data as binary data stream\n",
    "        pickle.dump(all_target, filehandle)\n",
    "    \n",
    "    #np.save('/media/drilnvm/ubuntudata2/DBTEx_numpy2/val_vol_'+str(i), np.array(all_images).astype('float16'))"
   ]
  },
  {
   "cell_type": "code",
   "execution_count": 128,
   "metadata": {},
   "outputs": [
    {
     "name": "stdout",
     "output_type": "stream",
     "text": [
      "READING NEW FILE >>    <<\n",
      "Total size of dataset  224\n"
     ]
    }
   ],
   "source": [
    "# [STAR] For checking the predictions slice wise\n",
    "\n",
    "def collate_fn(batch):\n",
    "    return tuple(zip(*batch))\n",
    "\n",
    "device = torch.device('cuda') if torch.cuda.is_available() else torch.device('cpu')\n",
    "\n",
    "num_classes = 2\n",
    "model       = torchvision.models.detection.fasterrcnn_resnet50_fpn(pretrained=True)\n",
    "\n",
    "# get number of input features for the classifier\n",
    "in_features = model.roi_heads.box_predictor.cls_score.in_features\n",
    "\n",
    "# replace the pre-trained head with a new one\n",
    "model.roi_heads.box_predictor = FastRCNNPredictor(in_features, num_classes)\n",
    "model.to(device)\n",
    "model.load_state_dict(torch.load('fasterrcnn_resnet50_dbt26.pth'))\n",
    "model.eval()\n",
    "\n",
    "#valid_dataset     = DBTDatasetValidationTrain(val_index=i)\n",
    "valid_dataset     = DBTDataset(train_set=0)\n",
    "valid_data_loader = DataLoader(\n",
    "    valid_dataset,\n",
    "    batch_size=1,\n",
    "    shuffle=False,\n",
    "    num_workers=1, \n",
    "    collate_fn=collate_fn\n",
    ")\n",
    "        \n",
    "all_target = []\n",
    "all_scores = []\n",
    "all_images = []\n",
    "\n",
    "for images, targets, image_ids in valid_data_loader:\n",
    "    all_images.append(images[0][0].astype('float16'))\n",
    "    new_images  = []\n",
    "    for img in images:\n",
    "        new_images.append(torch.Tensor(img).to(device))\n",
    "\n",
    "    images    = new_images\n",
    "    targets   = [{k: v.to(device) for k, v in t.items()} for t in targets]\n",
    "    loss_dict = model(images)\n",
    "    #print(loss_dict)\n",
    "\n",
    "    all_scores.append(loss_dict[0]['scores'].data.cpu().numpy())\n",
    "    all_target.append(loss_dict[0]['boxes'].data.cpu().numpy())\n",
    "        "
   ]
  },
  {
   "cell_type": "code",
   "execution_count": 112,
   "metadata": {},
   "outputs": [],
   "source": [
    "labels_fp = \"/home/drilnvm/DBTex//BCS-DBT-labels-train.csv\"\n",
    "boxes_fp  = \"/home/drilnvm/DBTex/BCS-DBT-boxes-train.csv\"\n",
    "predictions_fp = \"/media/drilnvm/ubuntudata2/train_val.csv\"\n",
    "\n",
    "df_labels = pd.read_csv(labels_fp)\n",
    "df_boxes  = pd.read_csv(boxes_fp, dtype={\"VolumeSlices\": float})\n",
    "df_pred   = pd.read_csv(predictions_fp, dtype={\"Score\": float})\n",
    "\n",
    "#df_boxes = df_boxes.iloc[shuffle_index].tail(74)\n",
    "df_boxes = df_boxes.loc[150:200]\n",
    "\n",
    "df_labels = df_labels.reset_index().set_index([\"StudyUID\", \"View\"]).sort_index()\n",
    "df_boxes  = df_boxes.reset_index().set_index([\"StudyUID\", \"View\"]).sort_index()\n",
    "df_pred   = df_pred.reset_index().set_index([\"StudyUID\", \"View\"]).sort_index()"
   ]
  },
  {
   "cell_type": "code",
   "execution_count": 114,
   "metadata": {
    "scrolled": true
   },
   "outputs": [
    {
     "data": {
      "text/html": [
       "<div>\n",
       "<style scoped>\n",
       "    .dataframe tbody tr th:only-of-type {\n",
       "        vertical-align: middle;\n",
       "    }\n",
       "\n",
       "    .dataframe tbody tr th {\n",
       "        vertical-align: top;\n",
       "    }\n",
       "\n",
       "    .dataframe thead th {\n",
       "        text-align: right;\n",
       "    }\n",
       "</style>\n",
       "<table border=\"1\" class=\"dataframe\">\n",
       "  <thead>\n",
       "    <tr style=\"text-align: right;\">\n",
       "      <th></th>\n",
       "      <th></th>\n",
       "      <th>index</th>\n",
       "      <th>PatientID</th>\n",
       "      <th>X</th>\n",
       "      <th>Width</th>\n",
       "      <th>Y</th>\n",
       "      <th>Height</th>\n",
       "      <th>Z</th>\n",
       "      <th>Depth</th>\n",
       "      <th>Score</th>\n",
       "    </tr>\n",
       "    <tr>\n",
       "      <th>StudyUID</th>\n",
       "      <th>View</th>\n",
       "      <th></th>\n",
       "      <th></th>\n",
       "      <th></th>\n",
       "      <th></th>\n",
       "      <th></th>\n",
       "      <th></th>\n",
       "      <th></th>\n",
       "      <th></th>\n",
       "      <th></th>\n",
       "    </tr>\n",
       "  </thead>\n",
       "  <tbody>\n",
       "    <tr>\n",
       "      <th rowspan=\"2\" valign=\"top\">DBT-S00442</th>\n",
       "      <th>rmlo</th>\n",
       "      <td>33</td>\n",
       "      <td>DBT-P03978</td>\n",
       "      <td>1689</td>\n",
       "      <td>205</td>\n",
       "      <td>0</td>\n",
       "      <td>291</td>\n",
       "      <td>17</td>\n",
       "      <td>8</td>\n",
       "      <td>0.836910</td>\n",
       "    </tr>\n",
       "    <tr>\n",
       "      <th>rmlo</th>\n",
       "      <td>34</td>\n",
       "      <td>DBT-P03978</td>\n",
       "      <td>1684</td>\n",
       "      <td>206</td>\n",
       "      <td>0</td>\n",
       "      <td>293</td>\n",
       "      <td>28</td>\n",
       "      <td>8</td>\n",
       "      <td>0.652432</td>\n",
       "    </tr>\n",
       "    <tr>\n",
       "      <th rowspan=\"7\" valign=\"top\">DBT-S00709</th>\n",
       "      <th>rcc</th>\n",
       "      <td>22</td>\n",
       "      <td>DBT-P03677</td>\n",
       "      <td>410</td>\n",
       "      <td>97</td>\n",
       "      <td>1571</td>\n",
       "      <td>76</td>\n",
       "      <td>15</td>\n",
       "      <td>8</td>\n",
       "      <td>0.705732</td>\n",
       "    </tr>\n",
       "    <tr>\n",
       "      <th>rcc</th>\n",
       "      <td>23</td>\n",
       "      <td>DBT-P03677</td>\n",
       "      <td>221</td>\n",
       "      <td>351</td>\n",
       "      <td>615</td>\n",
       "      <td>282</td>\n",
       "      <td>24</td>\n",
       "      <td>8</td>\n",
       "      <td>0.738035</td>\n",
       "    </tr>\n",
       "    <tr>\n",
       "      <th>rcc</th>\n",
       "      <td>24</td>\n",
       "      <td>DBT-P03677</td>\n",
       "      <td>272</td>\n",
       "      <td>149</td>\n",
       "      <td>1637</td>\n",
       "      <td>68</td>\n",
       "      <td>31</td>\n",
       "      <td>8</td>\n",
       "      <td>0.826801</td>\n",
       "    </tr>\n",
       "    <tr>\n",
       "      <th>rcc</th>\n",
       "      <td>25</td>\n",
       "      <td>DBT-P03677</td>\n",
       "      <td>1501</td>\n",
       "      <td>132</td>\n",
       "      <td>610</td>\n",
       "      <td>117</td>\n",
       "      <td>26</td>\n",
       "      <td>8</td>\n",
       "      <td>0.950004</td>\n",
       "    </tr>\n",
       "    <tr>\n",
       "      <th>rcc</th>\n",
       "      <td>26</td>\n",
       "      <td>DBT-P03677</td>\n",
       "      <td>1699</td>\n",
       "      <td>180</td>\n",
       "      <td>878</td>\n",
       "      <td>172</td>\n",
       "      <td>36</td>\n",
       "      <td>8</td>\n",
       "      <td>0.944209</td>\n",
       "    </tr>\n",
       "    <tr>\n",
       "      <th>rmlo</th>\n",
       "      <td>27</td>\n",
       "      <td>DBT-P03677</td>\n",
       "      <td>1648</td>\n",
       "      <td>111</td>\n",
       "      <td>1027</td>\n",
       "      <td>97</td>\n",
       "      <td>9</td>\n",
       "      <td>8</td>\n",
       "      <td>0.599604</td>\n",
       "    </tr>\n",
       "    <tr>\n",
       "      <th>rmlo</th>\n",
       "      <td>28</td>\n",
       "      <td>DBT-P03677</td>\n",
       "      <td>1531</td>\n",
       "      <td>345</td>\n",
       "      <td>691</td>\n",
       "      <td>252</td>\n",
       "      <td>21</td>\n",
       "      <td>8</td>\n",
       "      <td>0.642501</td>\n",
       "    </tr>\n",
       "    <tr>\n",
       "      <th rowspan=\"2\" valign=\"top\">DBT-S00863</th>\n",
       "      <th>lcc</th>\n",
       "      <td>5</td>\n",
       "      <td>DBT-P03085</td>\n",
       "      <td>1730</td>\n",
       "      <td>165</td>\n",
       "      <td>1126</td>\n",
       "      <td>589</td>\n",
       "      <td>6</td>\n",
       "      <td>8</td>\n",
       "      <td>0.515506</td>\n",
       "    </tr>\n",
       "    <tr>\n",
       "      <th>lmlo</th>\n",
       "      <td>6</td>\n",
       "      <td>DBT-P03085</td>\n",
       "      <td>1666</td>\n",
       "      <td>218</td>\n",
       "      <td>1010</td>\n",
       "      <td>516</td>\n",
       "      <td>24</td>\n",
       "      <td>8</td>\n",
       "      <td>0.579660</td>\n",
       "    </tr>\n",
       "    <tr>\n",
       "      <th>DBT-S00931</th>\n",
       "      <th>rcc</th>\n",
       "      <td>16</td>\n",
       "      <td>DBT-P03222</td>\n",
       "      <td>1378</td>\n",
       "      <td>332</td>\n",
       "      <td>612</td>\n",
       "      <td>286</td>\n",
       "      <td>32</td>\n",
       "      <td>8</td>\n",
       "      <td>0.879437</td>\n",
       "    </tr>\n",
       "    <tr>\n",
       "      <th>DBT-S01650</th>\n",
       "      <th>rcc1</th>\n",
       "      <td>35</td>\n",
       "      <td>DBT-P04026</td>\n",
       "      <td>519</td>\n",
       "      <td>231</td>\n",
       "      <td>1096</td>\n",
       "      <td>575</td>\n",
       "      <td>5</td>\n",
       "      <td>8</td>\n",
       "      <td>0.602547</td>\n",
       "    </tr>\n",
       "    <tr>\n",
       "      <th rowspan=\"3\" valign=\"top\">DBT-S02094</th>\n",
       "      <th>lcc</th>\n",
       "      <td>29</td>\n",
       "      <td>DBT-P03748</td>\n",
       "      <td>17</td>\n",
       "      <td>415</td>\n",
       "      <td>1009</td>\n",
       "      <td>731</td>\n",
       "      <td>21</td>\n",
       "      <td>8</td>\n",
       "      <td>0.625082</td>\n",
       "    </tr>\n",
       "    <tr>\n",
       "      <th>lcc</th>\n",
       "      <td>30</td>\n",
       "      <td>DBT-P03748</td>\n",
       "      <td>137</td>\n",
       "      <td>198</td>\n",
       "      <td>1085</td>\n",
       "      <td>209</td>\n",
       "      <td>27</td>\n",
       "      <td>8</td>\n",
       "      <td>0.906515</td>\n",
       "    </tr>\n",
       "    <tr>\n",
       "      <th>lmlo</th>\n",
       "      <td>31</td>\n",
       "      <td>DBT-P03748</td>\n",
       "      <td>1492</td>\n",
       "      <td>257</td>\n",
       "      <td>1135</td>\n",
       "      <td>274</td>\n",
       "      <td>34</td>\n",
       "      <td>8</td>\n",
       "      <td>0.826054</td>\n",
       "    </tr>\n",
       "    <tr>\n",
       "      <th rowspan=\"2\" valign=\"top\">DBT-S02198</th>\n",
       "      <th>lmlo</th>\n",
       "      <td>12</td>\n",
       "      <td>DBT-P03212</td>\n",
       "      <td>996</td>\n",
       "      <td>158</td>\n",
       "      <td>1504</td>\n",
       "      <td>153</td>\n",
       "      <td>5</td>\n",
       "      <td>8</td>\n",
       "      <td>0.530966</td>\n",
       "    </tr>\n",
       "    <tr>\n",
       "      <th>lmlo</th>\n",
       "      <td>13</td>\n",
       "      <td>DBT-P03212</td>\n",
       "      <td>987</td>\n",
       "      <td>171</td>\n",
       "      <td>1498</td>\n",
       "      <td>159</td>\n",
       "      <td>12</td>\n",
       "      <td>8</td>\n",
       "      <td>0.853624</td>\n",
       "    </tr>\n",
       "    <tr>\n",
       "      <th rowspan=\"2\" valign=\"top\">DBT-S03730</th>\n",
       "      <th>lcc</th>\n",
       "      <td>7</td>\n",
       "      <td>DBT-P03176</td>\n",
       "      <td>563</td>\n",
       "      <td>75</td>\n",
       "      <td>1423</td>\n",
       "      <td>69</td>\n",
       "      <td>12</td>\n",
       "      <td>8</td>\n",
       "      <td>0.799343</td>\n",
       "    </tr>\n",
       "    <tr>\n",
       "      <th>lmlo</th>\n",
       "      <td>8</td>\n",
       "      <td>DBT-P03176</td>\n",
       "      <td>246</td>\n",
       "      <td>264</td>\n",
       "      <td>920</td>\n",
       "      <td>284</td>\n",
       "      <td>14</td>\n",
       "      <td>8</td>\n",
       "      <td>0.935279</td>\n",
       "    </tr>\n",
       "    <tr>\n",
       "      <th>DBT-S03755</th>\n",
       "      <th>lcc</th>\n",
       "      <td>18</td>\n",
       "      <td>DBT-P03539</td>\n",
       "      <td>1910</td>\n",
       "      <td>89</td>\n",
       "      <td>136</td>\n",
       "      <td>349</td>\n",
       "      <td>40</td>\n",
       "      <td>8</td>\n",
       "      <td>0.734688</td>\n",
       "    </tr>\n",
       "    <tr>\n",
       "      <th>DBT-S03888</th>\n",
       "      <th>rcc</th>\n",
       "      <td>32</td>\n",
       "      <td>DBT-P03816</td>\n",
       "      <td>1349</td>\n",
       "      <td>271</td>\n",
       "      <td>1132</td>\n",
       "      <td>259</td>\n",
       "      <td>37</td>\n",
       "      <td>8</td>\n",
       "      <td>0.859479</td>\n",
       "    </tr>\n",
       "    <tr>\n",
       "      <th rowspan=\"3\" valign=\"top\">DBT-S03961</th>\n",
       "      <th>rcc</th>\n",
       "      <td>36</td>\n",
       "      <td>DBT-P04116</td>\n",
       "      <td>858</td>\n",
       "      <td>270</td>\n",
       "      <td>882</td>\n",
       "      <td>542</td>\n",
       "      <td>41</td>\n",
       "      <td>8</td>\n",
       "      <td>0.834647</td>\n",
       "    </tr>\n",
       "    <tr>\n",
       "      <th>rcc</th>\n",
       "      <td>37</td>\n",
       "      <td>DBT-P04116</td>\n",
       "      <td>850</td>\n",
       "      <td>287</td>\n",
       "      <td>900</td>\n",
       "      <td>524</td>\n",
       "      <td>49</td>\n",
       "      <td>8</td>\n",
       "      <td>0.578531</td>\n",
       "    </tr>\n",
       "    <tr>\n",
       "      <th>rmlo</th>\n",
       "      <td>38</td>\n",
       "      <td>DBT-P04116</td>\n",
       "      <td>873</td>\n",
       "      <td>334</td>\n",
       "      <td>1547</td>\n",
       "      <td>315</td>\n",
       "      <td>6</td>\n",
       "      <td>8</td>\n",
       "      <td>0.628335</td>\n",
       "    </tr>\n",
       "    <tr>\n",
       "      <th rowspan=\"2\" valign=\"top\">DBT-S04050</th>\n",
       "      <th>lmlo</th>\n",
       "      <td>14</td>\n",
       "      <td>DBT-P03218</td>\n",
       "      <td>1780</td>\n",
       "      <td>208</td>\n",
       "      <td>1775</td>\n",
       "      <td>327</td>\n",
       "      <td>17</td>\n",
       "      <td>8</td>\n",
       "      <td>0.620145</td>\n",
       "    </tr>\n",
       "    <tr>\n",
       "      <th>lmlo</th>\n",
       "      <td>15</td>\n",
       "      <td>DBT-P03218</td>\n",
       "      <td>1327</td>\n",
       "      <td>327</td>\n",
       "      <td>1022</td>\n",
       "      <td>306</td>\n",
       "      <td>16</td>\n",
       "      <td>8</td>\n",
       "      <td>0.828084</td>\n",
       "    </tr>\n",
       "    <tr>\n",
       "      <th>DBT-S04281</th>\n",
       "      <th>lmlo</th>\n",
       "      <td>39</td>\n",
       "      <td>DBT-P04372</td>\n",
       "      <td>0</td>\n",
       "      <td>29</td>\n",
       "      <td>893</td>\n",
       "      <td>50</td>\n",
       "      <td>17</td>\n",
       "      <td>8</td>\n",
       "      <td>0.517553</td>\n",
       "    </tr>\n",
       "    <tr>\n",
       "      <th rowspan=\"5\" valign=\"top\">DBT-S04591</th>\n",
       "      <th>lcc</th>\n",
       "      <td>0</td>\n",
       "      <td>DBT-P03073</td>\n",
       "      <td>1327</td>\n",
       "      <td>80</td>\n",
       "      <td>1365</td>\n",
       "      <td>64</td>\n",
       "      <td>12</td>\n",
       "      <td>8</td>\n",
       "      <td>0.856983</td>\n",
       "    </tr>\n",
       "    <tr>\n",
       "      <th>lmlo</th>\n",
       "      <td>1</td>\n",
       "      <td>DBT-P03073</td>\n",
       "      <td>14</td>\n",
       "      <td>177</td>\n",
       "      <td>1180</td>\n",
       "      <td>597</td>\n",
       "      <td>3</td>\n",
       "      <td>8</td>\n",
       "      <td>0.529743</td>\n",
       "    </tr>\n",
       "    <tr>\n",
       "      <th>lmlo</th>\n",
       "      <td>2</td>\n",
       "      <td>DBT-P03073</td>\n",
       "      <td>7</td>\n",
       "      <td>176</td>\n",
       "      <td>1182</td>\n",
       "      <td>566</td>\n",
       "      <td>10</td>\n",
       "      <td>8</td>\n",
       "      <td>0.675433</td>\n",
       "    </tr>\n",
       "    <tr>\n",
       "      <th>lmlo</th>\n",
       "      <td>3</td>\n",
       "      <td>DBT-P03073</td>\n",
       "      <td>22</td>\n",
       "      <td>401</td>\n",
       "      <td>594</td>\n",
       "      <td>311</td>\n",
       "      <td>6</td>\n",
       "      <td>8</td>\n",
       "      <td>0.602554</td>\n",
       "    </tr>\n",
       "    <tr>\n",
       "      <th>lmlo</th>\n",
       "      <td>4</td>\n",
       "      <td>DBT-P03073</td>\n",
       "      <td>7</td>\n",
       "      <td>408</td>\n",
       "      <td>593</td>\n",
       "      <td>296</td>\n",
       "      <td>12</td>\n",
       "      <td>8</td>\n",
       "      <td>0.895272</td>\n",
       "    </tr>\n",
       "    <tr>\n",
       "      <th rowspan=\"3\" valign=\"top\">DBT-S04862</th>\n",
       "      <th>lcc</th>\n",
       "      <td>9</td>\n",
       "      <td>DBT-P03203</td>\n",
       "      <td>1469</td>\n",
       "      <td>352</td>\n",
       "      <td>969</td>\n",
       "      <td>478</td>\n",
       "      <td>16</td>\n",
       "      <td>8</td>\n",
       "      <td>0.688298</td>\n",
       "    </tr>\n",
       "    <tr>\n",
       "      <th>lcc</th>\n",
       "      <td>10</td>\n",
       "      <td>DBT-P03203</td>\n",
       "      <td>1339</td>\n",
       "      <td>79</td>\n",
       "      <td>1049</td>\n",
       "      <td>65</td>\n",
       "      <td>22</td>\n",
       "      <td>8</td>\n",
       "      <td>0.652356</td>\n",
       "    </tr>\n",
       "    <tr>\n",
       "      <th>lcc</th>\n",
       "      <td>11</td>\n",
       "      <td>DBT-P03203</td>\n",
       "      <td>1281</td>\n",
       "      <td>87</td>\n",
       "      <td>1351</td>\n",
       "      <td>63</td>\n",
       "      <td>35</td>\n",
       "      <td>8</td>\n",
       "      <td>0.931401</td>\n",
       "    </tr>\n",
       "    <tr>\n",
       "      <th rowspan=\"3\" valign=\"top\">DBT-S05241</th>\n",
       "      <th>lcc</th>\n",
       "      <td>19</td>\n",
       "      <td>DBT-P03658</td>\n",
       "      <td>488</td>\n",
       "      <td>196</td>\n",
       "      <td>1082</td>\n",
       "      <td>203</td>\n",
       "      <td>23</td>\n",
       "      <td>8</td>\n",
       "      <td>0.551358</td>\n",
       "    </tr>\n",
       "    <tr>\n",
       "      <th>rcc</th>\n",
       "      <td>20</td>\n",
       "      <td>DBT-P03658</td>\n",
       "      <td>50</td>\n",
       "      <td>151</td>\n",
       "      <td>110</td>\n",
       "      <td>123</td>\n",
       "      <td>16</td>\n",
       "      <td>8</td>\n",
       "      <td>0.938309</td>\n",
       "    </tr>\n",
       "    <tr>\n",
       "      <th>rcc</th>\n",
       "      <td>21</td>\n",
       "      <td>DBT-P03658</td>\n",
       "      <td>682</td>\n",
       "      <td>290</td>\n",
       "      <td>1547</td>\n",
       "      <td>314</td>\n",
       "      <td>28</td>\n",
       "      <td>8</td>\n",
       "      <td>0.693722</td>\n",
       "    </tr>\n",
       "    <tr>\n",
       "      <th>DBT-S05305</th>\n",
       "      <th>rmlo</th>\n",
       "      <td>17</td>\n",
       "      <td>DBT-P03423</td>\n",
       "      <td>1838</td>\n",
       "      <td>106</td>\n",
       "      <td>219</td>\n",
       "      <td>89</td>\n",
       "      <td>30</td>\n",
       "      <td>8</td>\n",
       "      <td>0.683834</td>\n",
       "    </tr>\n",
       "  </tbody>\n",
       "</table>\n",
       "</div>"
      ],
      "text/plain": [
       "                 index   PatientID     X  Width     Y  Height   Z  Depth  \\\n",
       "StudyUID   View                                                            \n",
       "DBT-S00442 rmlo     33  DBT-P03978  1689    205     0     291  17      8   \n",
       "           rmlo     34  DBT-P03978  1684    206     0     293  28      8   \n",
       "DBT-S00709 rcc      22  DBT-P03677   410     97  1571      76  15      8   \n",
       "           rcc      23  DBT-P03677   221    351   615     282  24      8   \n",
       "           rcc      24  DBT-P03677   272    149  1637      68  31      8   \n",
       "           rcc      25  DBT-P03677  1501    132   610     117  26      8   \n",
       "           rcc      26  DBT-P03677  1699    180   878     172  36      8   \n",
       "           rmlo     27  DBT-P03677  1648    111  1027      97   9      8   \n",
       "           rmlo     28  DBT-P03677  1531    345   691     252  21      8   \n",
       "DBT-S00863 lcc       5  DBT-P03085  1730    165  1126     589   6      8   \n",
       "           lmlo      6  DBT-P03085  1666    218  1010     516  24      8   \n",
       "DBT-S00931 rcc      16  DBT-P03222  1378    332   612     286  32      8   \n",
       "DBT-S01650 rcc1     35  DBT-P04026   519    231  1096     575   5      8   \n",
       "DBT-S02094 lcc      29  DBT-P03748    17    415  1009     731  21      8   \n",
       "           lcc      30  DBT-P03748   137    198  1085     209  27      8   \n",
       "           lmlo     31  DBT-P03748  1492    257  1135     274  34      8   \n",
       "DBT-S02198 lmlo     12  DBT-P03212   996    158  1504     153   5      8   \n",
       "           lmlo     13  DBT-P03212   987    171  1498     159  12      8   \n",
       "DBT-S03730 lcc       7  DBT-P03176   563     75  1423      69  12      8   \n",
       "           lmlo      8  DBT-P03176   246    264   920     284  14      8   \n",
       "DBT-S03755 lcc      18  DBT-P03539  1910     89   136     349  40      8   \n",
       "DBT-S03888 rcc      32  DBT-P03816  1349    271  1132     259  37      8   \n",
       "DBT-S03961 rcc      36  DBT-P04116   858    270   882     542  41      8   \n",
       "           rcc      37  DBT-P04116   850    287   900     524  49      8   \n",
       "           rmlo     38  DBT-P04116   873    334  1547     315   6      8   \n",
       "DBT-S04050 lmlo     14  DBT-P03218  1780    208  1775     327  17      8   \n",
       "           lmlo     15  DBT-P03218  1327    327  1022     306  16      8   \n",
       "DBT-S04281 lmlo     39  DBT-P04372     0     29   893      50  17      8   \n",
       "DBT-S04591 lcc       0  DBT-P03073  1327     80  1365      64  12      8   \n",
       "           lmlo      1  DBT-P03073    14    177  1180     597   3      8   \n",
       "           lmlo      2  DBT-P03073     7    176  1182     566  10      8   \n",
       "           lmlo      3  DBT-P03073    22    401   594     311   6      8   \n",
       "           lmlo      4  DBT-P03073     7    408   593     296  12      8   \n",
       "DBT-S04862 lcc       9  DBT-P03203  1469    352   969     478  16      8   \n",
       "           lcc      10  DBT-P03203  1339     79  1049      65  22      8   \n",
       "           lcc      11  DBT-P03203  1281     87  1351      63  35      8   \n",
       "DBT-S05241 lcc      19  DBT-P03658   488    196  1082     203  23      8   \n",
       "           rcc      20  DBT-P03658    50    151   110     123  16      8   \n",
       "           rcc      21  DBT-P03658   682    290  1547     314  28      8   \n",
       "DBT-S05305 rmlo     17  DBT-P03423  1838    106   219      89  30      8   \n",
       "\n",
       "                    Score  \n",
       "StudyUID   View            \n",
       "DBT-S00442 rmlo  0.836910  \n",
       "           rmlo  0.652432  \n",
       "DBT-S00709 rcc   0.705732  \n",
       "           rcc   0.738035  \n",
       "           rcc   0.826801  \n",
       "           rcc   0.950004  \n",
       "           rcc   0.944209  \n",
       "           rmlo  0.599604  \n",
       "           rmlo  0.642501  \n",
       "DBT-S00863 lcc   0.515506  \n",
       "           lmlo  0.579660  \n",
       "DBT-S00931 rcc   0.879437  \n",
       "DBT-S01650 rcc1  0.602547  \n",
       "DBT-S02094 lcc   0.625082  \n",
       "           lcc   0.906515  \n",
       "           lmlo  0.826054  \n",
       "DBT-S02198 lmlo  0.530966  \n",
       "           lmlo  0.853624  \n",
       "DBT-S03730 lcc   0.799343  \n",
       "           lmlo  0.935279  \n",
       "DBT-S03755 lcc   0.734688  \n",
       "DBT-S03888 rcc   0.859479  \n",
       "DBT-S03961 rcc   0.834647  \n",
       "           rcc   0.578531  \n",
       "           rmlo  0.628335  \n",
       "DBT-S04050 lmlo  0.620145  \n",
       "           lmlo  0.828084  \n",
       "DBT-S04281 lmlo  0.517553  \n",
       "DBT-S04591 lcc   0.856983  \n",
       "           lmlo  0.529743  \n",
       "           lmlo  0.675433  \n",
       "           lmlo  0.602554  \n",
       "           lmlo  0.895272  \n",
       "DBT-S04862 lcc   0.688298  \n",
       "           lcc   0.652356  \n",
       "           lcc   0.931401  \n",
       "DBT-S05241 lcc   0.551358  \n",
       "           rcc   0.938309  \n",
       "           rcc   0.693722  \n",
       "DBT-S05305 rmlo  0.683834  "
      ]
     },
     "execution_count": 114,
     "metadata": {},
     "output_type": "execute_result"
    }
   ],
   "source": [
    "df_pred"
   ]
  },
  {
   "cell_type": "code",
   "execution_count": 120,
   "metadata": {
    "code_folding": [
     31
    ],
    "scrolled": true
   },
   "outputs": [
    {
     "name": "stdout",
     "output_type": "stream",
     "text": [
      "                 index   PatientID  Subject  Slice     X    Y  Width  Height  \\\n",
      "StudyUID   View                                                                \n",
      "DBT-S00442 rmlo    188  DBT-P03978        0     10  1324  819    405     264   \n",
      "\n",
      "                  Class  AD  \n",
      "StudyUID   View              \n",
      "DBT-S00442 rmlo  benign   0  \n",
      "Pandas(Index=('DBT-S00442', 'rmlo'), index=33, PatientID='DBT-P03978', X=1689, Width=205, Y=0, Height=291, Z=17, Depth=8, Score=0.83690995, TP=0, GTID=-1)\n",
      "---------------------------\n",
      "1791.5 145.5 21.0\n",
      "1526.5 951.0 10\n",
      "847.9712554090498 241.72349906453033 11.0 2.5\n",
      "                 index   PatientID  Subject  Slice     X    Y  Width  Height  \\\n",
      "StudyUID   View                                                                \n",
      "DBT-S00442 rmlo    188  DBT-P03978        0     10  1324  819    405     264   \n",
      "\n",
      "                  Class  AD  \n",
      "StudyUID   View              \n",
      "DBT-S00442 rmlo  benign   0  \n",
      "Pandas(Index=('DBT-S00442', 'rmlo'), index=34, PatientID='DBT-P03978', X=1684, Width=206, Y=0, Height=293, Z=28, Depth=8, Score=0.6524319000000001, TP=0, GTID=-1)\n",
      "---------------------------\n",
      "1787.0 146.5 32.0\n",
      "1526.5 951.0 10\n",
      "845.6243255725323 241.72349906453033 22.0 2.5\n",
      "                 index   PatientID  Subject  Slice     X     Y  Width  Height  \\\n",
      "StudyUID   View                                                                 \n",
      "DBT-S00709 rcc     178  DBT-P03677        0     25  1419  1559    470     475   \n",
      "           rcc     179  DBT-P03677        0     43  1553  1375    321     388   \n",
      "\n",
      "                  Class  AD  \n",
      "StudyUID   View              \n",
      "DBT-S00709 rcc   benign   0  \n",
      "           rcc   benign   1  \n",
      "Pandas(Index=('DBT-S00709', 'rcc'), index=22, PatientID='DBT-P03677', X=410, Width=97, Y=1571, Height=76, Z=15, Depth=8, Score=0.7057321, TP=0, GTID=-1)\n",
      "---------------------------\n",
      "458.5 1609.0 19.0\n",
      "1654.0 1796.5 25\n",
      "1210.1142508044436 334.1126307100646 6.0 6.25\n",
      "458.5 1609.0 19.0\n",
      "1713.5 1569.0 43\n",
      "1255.637288391835 251.7861195538785 24.0 6.25\n",
      "                 index   PatientID  Subject  Slice     X     Y  Width  Height  \\\n",
      "StudyUID   View                                                                 \n",
      "DBT-S00709 rcc     178  DBT-P03677        0     25  1419  1559    470     475   \n",
      "           rcc     179  DBT-P03677        0     43  1553  1375    321     388   \n",
      "\n",
      "                  Class  AD  \n",
      "StudyUID   View              \n",
      "DBT-S00709 rcc   benign   0  \n",
      "           rcc   benign   1  \n",
      "Pandas(Index=('DBT-S00709', 'rcc'), index=23, PatientID='DBT-P03677', X=221, Width=351, Y=615, Height=282, Z=24, Depth=8, Score=0.73803544, TP=0, GTID=-1)\n",
      "---------------------------\n",
      "396.5 756.0 28.0\n",
      "1654.0 1796.5 25\n",
      "1632.160071806684 334.1126307100646 3.0 6.25\n",
      "396.5 756.0 28.0\n",
      "1713.5 1569.0 43\n",
      "1547.7267200639783 251.7861195538785 15.0 6.25\n",
      "                 index   PatientID  Subject  Slice     X     Y  Width  Height  \\\n",
      "StudyUID   View                                                                 \n",
      "DBT-S00709 rcc     178  DBT-P03677        0     25  1419  1559    470     475   \n",
      "           rcc     179  DBT-P03677        0     43  1553  1375    321     388   \n",
      "\n",
      "                  Class  AD  \n",
      "StudyUID   View              \n",
      "DBT-S00709 rcc   benign   0  \n",
      "           rcc   benign   1  \n",
      "Pandas(Index=('DBT-S00709', 'rcc'), index=24, PatientID='DBT-P03677', X=272, Width=149, Y=1637, Height=68, Z=31, Depth=8, Score=0.8268013000000001, TP=0, GTID=-1)\n",
      "---------------------------\n",
      "346.5 1671.0 35.0\n",
      "1654.0 1796.5 25\n",
      "1313.509231029611 334.1126307100646 10.0 6.25\n",
      "346.5 1671.0 35.0\n",
      "1713.5 1569.0 43\n",
      "1370.8001313101774 251.7861195538785 8.0 6.25\n",
      "                 index   PatientID  Subject  Slice     X     Y  Width  Height  \\\n",
      "StudyUID   View                                                                 \n",
      "DBT-S00709 rcc     178  DBT-P03677        0     25  1419  1559    470     475   \n",
      "           rcc     179  DBT-P03677        0     43  1553  1375    321     388   \n",
      "\n",
      "                  Class  AD  \n",
      "StudyUID   View              \n",
      "DBT-S00709 rcc   benign   0  \n",
      "           rcc   benign   1  \n",
      "Pandas(Index=('DBT-S00709', 'rcc'), index=25, PatientID='DBT-P03677', X=1501, Width=132, Y=610, Height=117, Z=26, Depth=8, Score=0.9500035, TP=0, GTID=-1)\n",
      "---------------------------\n",
      "1567.0 668.5 30.0\n",
      "1654.0 1796.5 25\n",
      "1131.3500784461014 334.1126307100646 5.0 6.25\n",
      "1567.0 668.5 30.0\n",
      "1713.5 1569.0 43\n",
      "912.339026897348 251.7861195538785 13.0 6.25\n",
      "                 index   PatientID  Subject  Slice     X     Y  Width  Height  \\\n",
      "StudyUID   View                                                                 \n",
      "DBT-S00709 rcc     178  DBT-P03677        0     25  1419  1559    470     475   \n",
      "           rcc     179  DBT-P03677        0     43  1553  1375    321     388   \n",
      "\n",
      "                  Class  AD  \n",
      "StudyUID   View              \n",
      "DBT-S00709 rcc   benign   0  \n",
      "           rcc   benign   1  \n",
      "Pandas(Index=('DBT-S00709', 'rcc'), index=26, PatientID='DBT-P03677', X=1699, Width=180, Y=878, Height=172, Z=36, Depth=8, Score=0.9442086, TP=0, GTID=-1)\n",
      "---------------------------\n",
      "1789.0 964.0 40.0\n",
      "1654.0 1796.5 25\n",
      "843.3749166296091 334.1126307100646 15.0 6.25\n",
      "1789.0 964.0 40.0\n",
      "1713.5 1569.0 43\n",
      "609.6927504899496 251.7861195538785 3.0 6.25\n",
      "                 index   PatientID  Subject  Slice     X     Y  Width  Height  \\\n",
      "StudyUID   View                                                                 \n",
      "DBT-S00709 rmlo    180  DBT-P03677        0     32  1381  1658    508     488   \n",
      "           rmlo    181  DBT-P03677        0     47  1339  1024    482     442   \n",
      "\n",
      "                  Class  AD  \n",
      "StudyUID   View              \n",
      "DBT-S00709 rmlo  benign   0  \n",
      "           rmlo  benign   1  \n",
      "Pandas(Index=('DBT-S00709', 'rmlo'), index=27, PatientID='DBT-P03677', X=1648, Width=111, Y=1027, Height=97, Z=9, Depth=8, Score=0.59960437, TP=0, GTID=-1)\n",
      "---------------------------\n",
      "1703.5 1075.5 13.0\n",
      "1635.0 1902.0 32\n",
      "829.3337687565845 352.2101645324848 19.0 8.0\n",
      "1703.5 1075.5 13.0\n",
      "1580.0 1245.0 47\n",
      "209.7200514972281 326.98929646090863 34.0 8.0\n",
      "                 index   PatientID  Subject  Slice     X     Y  Width  Height  \\\n",
      "StudyUID   View                                                                 \n",
      "DBT-S00709 rmlo    180  DBT-P03677        0     32  1381  1658    508     488   \n",
      "           rmlo    181  DBT-P03677        0     47  1339  1024    482     442   \n",
      "\n",
      "                  Class  AD  \n",
      "StudyUID   View              \n",
      "DBT-S00709 rmlo  benign   0  \n",
      "           rmlo  benign   1  \n",
      "Pandas(Index=('DBT-S00709', 'rmlo'), index=28, PatientID='DBT-P03677', X=1531, Width=345, Y=691, Height=252, Z=21, Depth=8, Score=0.64250094, TP=0, GTID=-1)\n",
      "---------------------------\n",
      "1703.5 817.0 25.0\n",
      "1635.0 1902.0 32\n",
      "1087.1601767908903 352.2101645324848 7.0 8.0\n",
      "1703.5 817.0 25.0\n",
      "1580.0 1245.0 47\n",
      "445.46183899409385 326.98929646090863 22.0 8.0\n",
      "                 index   PatientID  Subject  Slice    X     Y  Width  Height  \\\n",
      "StudyUID   View                                                                \n",
      "DBT-S00863 lcc     153  DBT-P03085        0     26  165  1359    329     197   \n",
      "\n",
      "                  Class  AD  \n",
      "StudyUID   View              \n",
      "DBT-S00863 lcc   benign   0  \n",
      "Pandas(Index=('DBT-S00863', 'lcc'), index=5, PatientID='DBT-P03085', X=1730, Width=165, Y=1126, Height=589, Z=6, Depth=8, Score=0.5155064, TP=0, GTID=-1)\n",
      "---------------------------\n",
      "1812.5 1420.5 10.0\n",
      "329.5 1457.5 26\n",
      "1483.461492590893 191.7354948881401 16.0 6.5\n",
      "                 index   PatientID  Subject  Slice    X     Y  Width  Height  \\\n",
      "StudyUID   View                                                                \n",
      "DBT-S00863 lmlo    154  DBT-P03085        0     35  167  1156    262     235   \n",
      "\n",
      "                  Class  AD  \n",
      "StudyUID   View              \n",
      "DBT-S00863 lmlo  benign   0  \n",
      "Pandas(Index=('DBT-S00863', 'lmlo'), index=6, PatientID='DBT-P03085', X=1666, Width=218, Y=1010, Height=516, Z=24, Depth=8, Score=0.57966036, TP=0, GTID=-1)\n",
      "---------------------------\n",
      "1775.0 1268.0 28.0\n",
      "298.0 1273.5 35\n",
      "1477.010240316566 175.97514028975797 7.0 8.75\n",
      "                 index   PatientID  Subject  Slice     X    Y  Width  Height  \\\n",
      "StudyUID   View                                                                \n",
      "DBT-S00931 rcc     164  DBT-P03222        2     26  1855  602    139     289   \n",
      "\n",
      "                  Class  AD  \n",
      "StudyUID   View              \n",
      "DBT-S00931 rcc   cancer   0  \n",
      "Pandas(Index=('DBT-S00931', 'rcc'), index=16, PatientID='DBT-P03222', X=1378, Width=332, Y=612, Height=286, Z=32, Depth=8, Score=0.8794367000000001, TP=0, GTID=-1)\n",
      "---------------------------\n",
      "1544.0 755.0 36.0\n",
      "1924.5 746.5 26\n",
      "380.59492902559805 160.344940674784 10.0 6.5\n",
      "                 index   PatientID  Subject  Slice     X     Y  Width  Height  \\\n",
      "StudyUID   View                                                                 \n",
      "DBT-S01650 rcc1    189  DBT-P04026        2     20  1640  1074    176     160   \n",
      "\n",
      "                  Class  AD  \n",
      "StudyUID   View              \n",
      "DBT-S01650 rcc1  cancer   0  \n",
      "Pandas(Index=('DBT-S01650', 'rcc1'), index=35, PatientID='DBT-P04026', X=519, Width=231, Y=1096, Height=575, Z=5, Depth=8, Score=0.6025473000000001, TP=0, GTID=-1)\n",
      "---------------------------\n",
      "634.5 1383.5 9.0\n",
      "1728.0 1154.0 20\n",
      "1117.3238116141622 118.92854997854805 11.0 5.0\n",
      "                 index   PatientID  Subject  Slice    X     Y  Width  Height  \\\n",
      "StudyUID   View                                                                \n",
      "DBT-S02094 lcc     182  DBT-P03748        0     45  118  1656    168     188   \n",
      "\n",
      "                  Class  AD  \n",
      "StudyUID   View              \n",
      "DBT-S02094 lcc   benign   0  \n",
      "Pandas(Index=('DBT-S02094', 'lcc'), index=29, PatientID='DBT-P03748', X=17, Width=415, Y=1009, Height=731, Z=21, Depth=8, Score=0.62508166, TP=0, GTID=-1)\n",
      "---------------------------\n",
      "224.5 1374.5 25.0\n",
      "202.0 1750.0 45\n",
      "376.1734972057441 126.0634760745554 20.0 11.25\n",
      "                 index   PatientID  Subject  Slice    X     Y  Width  Height  \\\n",
      "StudyUID   View                                                                \n",
      "DBT-S02094 lcc     182  DBT-P03748        0     45  118  1656    168     188   \n",
      "\n",
      "                  Class  AD  \n",
      "StudyUID   View              \n",
      "DBT-S02094 lcc   benign   0  \n",
      "Pandas(Index=('DBT-S02094', 'lcc'), index=30, PatientID='DBT-P03748', X=137, Width=198, Y=1085, Height=209, Z=27, Depth=8, Score=0.9065151, TP=0, GTID=-1)\n",
      "---------------------------\n",
      "236.0 1189.5 31.0\n",
      "202.0 1750.0 45\n",
      "561.5302752301072 126.0634760745554 14.0 11.25\n",
      "                 index   PatientID  Subject  Slice   X    Y  Width  Height  \\\n",
      "StudyUID   View                                                              \n",
      "DBT-S02094 lmlo    183  DBT-P03748        0     42  30  948    158     215   \n",
      "\n",
      "                  Class  AD  \n",
      "StudyUID   View              \n",
      "DBT-S02094 lmlo  benign   0  \n",
      "Pandas(Index=('DBT-S02094', 'lmlo'), index=31, PatientID='DBT-P03748', X=1492, Width=257, Y=1135, Height=274, Z=34, Depth=8, Score=0.8260537, TP=0, GTID=-1)\n",
      "---------------------------\n",
      "1620.5 1272.0 38.0\n",
      "109.0 1055.5 42\n",
      "1526.9264880798944 133.40633418245176 4.0 10.5\n",
      "                 index   PatientID  Subject  Slice    X    Y  Width  Height  \\\n",
      "StudyUID   View                                                               \n",
      "DBT-S02198 lmlo    160  DBT-P03212        0     11  210  695    305     244   \n",
      "\n",
      "                  Class  AD  \n",
      "StudyUID   View              \n",
      "DBT-S02198 lmlo  benign   0  \n",
      "Pandas(Index=('DBT-S02198', 'lmlo'), index=12, PatientID='DBT-P03212', X=996, Width=158, Y=1504, Height=153, Z=5, Depth=8, Score=0.53096575, TP=0, GTID=-1)\n",
      "---------------------------\n",
      "1075.0 1580.5 9.0\n",
      "362.5 817.0 11\n",
      "1044.3124532437598 195.29528924170188 2.0 2.75\n",
      "                 index   PatientID  Subject  Slice    X    Y  Width  Height  \\\n",
      "StudyUID   View                                                               \n",
      "DBT-S02198 lmlo    160  DBT-P03212        0     11  210  695    305     244   \n",
      "\n",
      "                  Class  AD  \n",
      "StudyUID   View              \n",
      "DBT-S02198 lmlo  benign   0  \n",
      "Pandas(Index=('DBT-S02198', 'lmlo'), index=13, PatientID='DBT-P03212', X=987, Width=171, Y=1498, Height=159, Z=12, Depth=8, Score=0.8536236999999999, TP=0, GTID=-1)\n",
      "---------------------------\n",
      "1072.5 1577.5 16.0\n",
      "362.5 817.0 11\n",
      "1040.4134995279521 195.29528924170188 5.0 2.75\n",
      "                 index   PatientID  Subject  Slice   X     Y  Width  Height  \\\n",
      "StudyUID   View                                                               \n",
      "DBT-S03730 lcc     155  DBT-P03176        0     11  43  1216    162     119   \n",
      "\n",
      "                  Class  AD  \n",
      "StudyUID   View              \n",
      "DBT-S03730 lcc   benign   1  \n",
      "Pandas(Index=('DBT-S03730', 'lcc'), index=7, PatientID='DBT-P03176', X=563, Width=75, Y=1423, Height=69, Z=12, Depth=8, Score=0.79934275, TP=0, GTID=-1)\n",
      "---------------------------\n",
      "600.5 1457.5 16.0\n",
      "124.0 1275.5 11\n",
      "510.07474942404275 100.50497500124061 5.0 2.75\n",
      "                 index   PatientID  Subject  Slice   X     Y  Width  Height  \\\n",
      "StudyUID   View                                                               \n",
      "DBT-S03730 lmlo    156  DBT-P03176        0     12  76  1665    178     126   \n",
      "\n",
      "                  Class  AD  \n",
      "StudyUID   View              \n",
      "DBT-S03730 lmlo  benign   1  \n",
      "Pandas(Index=('DBT-S03730', 'lmlo'), index=8, PatientID='DBT-P03176', X=246, Width=264, Y=920, Height=284, Z=14, Depth=8, Score=0.9352792, TP=0, GTID=-1)\n",
      "---------------------------\n",
      "378.0 1062.0 18.0\n",
      "165.0 1728.0 12\n",
      "699.2317212483999 109.04127658827184 6.0 3.0\n",
      "                 index   PatientID  Subject  Slice    X     Y  Width  Height  \\\n",
      "StudyUID   View                                                                \n",
      "DBT-S03755 lcc     171  DBT-P03539        0     44  371  1218    300     293   \n",
      "\n",
      "                  Class  AD  \n",
      "StudyUID   View              \n",
      "DBT-S03755 lcc   benign   0  \n",
      "Pandas(Index=('DBT-S03755', 'lcc'), index=18, PatientID='DBT-P03539', X=1910, Width=89, Y=136, Height=349, Z=40, Depth=8, Score=0.73468786, TP=0, GTID=-1)\n",
      "---------------------------\n",
      "1954.5 310.5 44.0\n",
      "521.0 1364.5 44\n",
      "1779.280261791267 209.6717672935486 0.0 11.0\n",
      "                 index   PatientID  Subject  Slice     X     Y  Width  Height  \\\n",
      "StudyUID   View                                                                 \n",
      "DBT-S03888 rcc     184  DBT-P03816        0     45  1806  1335    178     193   \n",
      "\n",
      "                  Class  AD  \n",
      "StudyUID   View              \n",
      "DBT-S03888 rcc   benign   1  \n",
      "Pandas(Index=('DBT-S03888', 'rcc'), index=32, PatientID='DBT-P03816', X=1349, Width=271, Y=1132, Height=259, Z=37, Depth=8, Score=0.85947925, TP=0, GTID=-1)\n",
      "---------------------------\n",
      "1484.5 1261.5 41.0\n",
      "1895.0 1431.5 45\n",
      "444.3087327523509 131.27547371843684 4.0 11.25\n",
      "                 index   PatientID  Subject  Slice     X    Y  Width  Height  \\\n",
      "StudyUID   View                                                                \n",
      "DBT-S03961 rcc     193  DBT-P04116        0     30  1523  560    240     228   \n",
      "\n",
      "                  Class  AD  \n",
      "StudyUID   View              \n",
      "DBT-S03961 rcc   benign   1  \n",
      "Pandas(Index=('DBT-S03961', 'rcc'), index=36, PatientID='DBT-P04116', X=858, Width=270, Y=882, Height=542, Z=41, Depth=8, Score=0.8346471999999999, TP=0, GTID=-1)\n",
      "---------------------------\n",
      "993.0 1153.0 45.0\n",
      "1643.0 674.0 30\n",
      "807.4286346173265 165.51737068960466 15.0 7.5\n",
      "                 index   PatientID  Subject  Slice     X    Y  Width  Height  \\\n",
      "StudyUID   View                                                                \n",
      "DBT-S03961 rcc     193  DBT-P04116        0     30  1523  560    240     228   \n",
      "\n",
      "                  Class  AD  \n",
      "StudyUID   View              \n",
      "DBT-S03961 rcc   benign   1  \n",
      "Pandas(Index=('DBT-S03961', 'rcc'), index=37, PatientID='DBT-P04116', X=850, Width=287, Y=900, Height=524, Z=49, Depth=8, Score=0.57853115, TP=0, GTID=-1)\n",
      "---------------------------\n",
      "993.5 1162.0 53.0\n",
      "1643.0 674.0 30\n",
      "812.4003015755226 165.51737068960466 23.0 7.5\n",
      "                 index   PatientID  Subject  Slice     X     Y  Width  Height  \\\n",
      "StudyUID   View                                                                 \n",
      "DBT-S03961 rmlo    194  DBT-P04116        0     18  1271  1331    284     245   \n",
      "\n",
      "                  Class  AD  \n",
      "StudyUID   View              \n",
      "DBT-S03961 rmlo  benign   1  \n",
      "Pandas(Index=('DBT-S03961', 'rmlo'), index=38, PatientID='DBT-P04116', X=873, Width=334, Y=1547, Height=315, Z=6, Depth=8, Score=0.6283350999999999, TP=0, GTID=-1)\n",
      "---------------------------\n",
      "1040.0 1704.5 10.0\n",
      "1413.0 1453.5 18\n",
      "449.5887009256349 187.53732961733246 8.0 4.5\n",
      "                 index   PatientID  Subject  Slice    X     Y  Width  Height  \\\n",
      "StudyUID   View                                                                \n",
      "DBT-S04050 lmlo    162  DBT-P03218        0     35  365   193    170     217   \n",
      "           lmlo    163  DBT-P03218        0     56  467  1262    197     215   \n",
      "\n",
      "                  Class  AD  \n",
      "StudyUID   View              \n",
      "DBT-S04050 lmlo  benign   0  \n",
      "           lmlo  benign   0  \n",
      "Pandas(Index=('DBT-S04050', 'lmlo'), index=14, PatientID='DBT-P03218', X=1780, Width=208, Y=1775, Height=327, Z=17, Depth=8, Score=0.62014514, TP=0, GTID=-1)\n",
      "---------------------------\n",
      "1884.0 1938.5 21.0\n",
      "450.0 301.5 35\n",
      "2176.2640005293474 137.8305118614888 14.0 8.75\n",
      "1884.0 1938.5 21.0\n",
      "565.5 1369.5 56\n",
      "1436.0373428292176 145.80294921571374 35.0 8.75\n",
      "                 index   PatientID  Subject  Slice    X     Y  Width  Height  \\\n",
      "StudyUID   View                                                                \n",
      "DBT-S04050 lmlo    162  DBT-P03218        0     35  365   193    170     217   \n",
      "           lmlo    163  DBT-P03218        0     56  467  1262    197     215   \n",
      "\n",
      "                  Class  AD  \n",
      "StudyUID   View              \n",
      "DBT-S04050 lmlo  benign   0  \n",
      "           lmlo  benign   0  \n",
      "Pandas(Index=('DBT-S04050', 'lmlo'), index=15, PatientID='DBT-P03218', X=1327, Width=327, Y=1022, Height=306, Z=16, Depth=8, Score=0.8280839, TP=0, GTID=-1)\n",
      "---------------------------\n",
      "1490.5 1175.0 20.0\n",
      "450.0 301.5 35\n",
      "1358.5442576522858 137.8305118614888 15.0 8.75\n",
      "1490.5 1175.0 20.0\n",
      "565.5 1369.5 56\n",
      "945.2276180899498 145.80294921571374 36.0 8.75\n",
      "                 index   PatientID  Subject  Slice     X     Y  Width  Height  \\\n",
      "StudyUID   View                                                                 \n",
      "DBT-S04281 lmlo    198  DBT-P04372        2     39  1197  1391    100     157   \n",
      "\n",
      "                  Class  AD  \n",
      "StudyUID   View              \n",
      "DBT-S04281 lmlo  cancer   0  \n",
      "Pandas(Index=('DBT-S04281', 'lmlo'), index=39, PatientID='DBT-P04372', X=0, Width=29, Y=893, Height=50, Z=17, Depth=8, Score=0.5175529000000001, TP=0, GTID=-1)\n",
      "---------------------------\n",
      "14.5 918.0 21.0\n",
      "1247.0 1469.5 39\n",
      "1350.2623819095309 100 18.0 9.75\n",
      "                 index   PatientID  Subject  Slice    X     Y  Width  Height  \\\n",
      "StudyUID   View                                                                \n",
      "DBT-S04591 lcc     150  DBT-P03073        0     35  271  1057    534     433   \n",
      "\n",
      "                  Class  AD  \n",
      "StudyUID   View              \n",
      "DBT-S04591 lcc   benign   0  \n",
      "Pandas(Index=('DBT-S04591', 'lcc'), index=0, PatientID='DBT-P03073', X=1327, Width=80, Y=1365, Height=64, Z=12, Depth=8, Score=0.85698307, TP=0, GTID=-1)\n",
      "---------------------------\n",
      "1367.0 1397.0 16.0\n",
      "538.0 1273.5 35\n",
      "838.1487039899304 343.7459090665662 19.0 8.75\n",
      "                 index   PatientID  Subject  Slice    X    Y  Width  Height  \\\n",
      "StudyUID   View                                                               \n",
      "DBT-S04591 lmlo    151  DBT-P03073        0     19  236  612    139     110   \n",
      "           lmlo    152  DBT-P03073        0     44  326  924    563     423   \n",
      "\n",
      "                  Class  AD  \n",
      "StudyUID   View              \n",
      "DBT-S04591 lmlo  benign   0  \n",
      "           lmlo  benign   0  \n",
      "Pandas(Index=('DBT-S04591', 'lmlo'), index=1, PatientID='DBT-P03073', X=14, Width=177, Y=1180, Height=597, Z=3, Depth=8, Score=0.52974284, TP=0, GTID=-1)\n",
      "---------------------------\n",
      "102.5 1478.5 7.0\n",
      "305.5 667.0 19\n",
      "836.5053795403828 100 12.0 4.75\n",
      "102.5 1478.5 7.0\n",
      "607.5 1135.5 44\n",
      "610.4703104983894 352.10012780457777 37.0 4.75\n",
      "                 index   PatientID  Subject  Slice    X    Y  Width  Height  \\\n",
      "StudyUID   View                                                               \n",
      "DBT-S04591 lmlo    151  DBT-P03073        0     19  236  612    139     110   \n",
      "           lmlo    152  DBT-P03073        0     44  326  924    563     423   \n",
      "\n",
      "                  Class  AD  \n",
      "StudyUID   View              \n",
      "DBT-S04591 lmlo  benign   0  \n",
      "           lmlo  benign   0  \n",
      "Pandas(Index=('DBT-S04591', 'lmlo'), index=2, PatientID='DBT-P03073', X=7, Width=176, Y=1182, Height=566, Z=10, Depth=8, Score=0.6754328, TP=0, GTID=-1)\n",
      "---------------------------\n",
      "95.0 1465.0 14.0\n",
      "305.5 667.0 19\n",
      "825.296461885061 100 5.0 4.75\n",
      "95.0 1465.0 14.0\n",
      "607.5 1135.5 44\n",
      "609.2835957089277 352.10012780457777 30.0 4.75\n",
      "                 index   PatientID  Subject  Slice    X    Y  Width  Height  \\\n",
      "StudyUID   View                                                               \n",
      "DBT-S04591 lmlo    151  DBT-P03073        0     19  236  612    139     110   \n",
      "           lmlo    152  DBT-P03073        0     44  326  924    563     423   \n",
      "\n",
      "                  Class  AD  \n",
      "StudyUID   View              \n",
      "DBT-S04591 lmlo  benign   0  \n",
      "           lmlo  benign   0  \n",
      "Pandas(Index=('DBT-S04591', 'lmlo'), index=3, PatientID='DBT-P03073', X=22, Width=401, Y=594, Height=311, Z=6, Depth=8, Score=0.60255414, TP=0, GTID=-1)\n",
      "---------------------------\n",
      "222.5 749.5 10.0\n",
      "305.5 667.0 19\n",
      "117.02670635372081 100 9.0 4.75\n",
      "222.5 749.5 10.0\n",
      "607.5 1135.5 44\n",
      "545.1797868593442 352.10012780457777 34.0 4.75\n",
      "                 index   PatientID  Subject  Slice    X    Y  Width  Height  \\\n",
      "StudyUID   View                                                               \n",
      "DBT-S04591 lmlo    151  DBT-P03073        0     19  236  612    139     110   \n",
      "           lmlo    152  DBT-P03073        0     44  326  924    563     423   \n",
      "\n",
      "                  Class  AD  \n",
      "StudyUID   View              \n",
      "DBT-S04591 lmlo  benign   0  \n",
      "           lmlo  benign   0  \n",
      "Pandas(Index=('DBT-S04591', 'lmlo'), index=4, PatientID='DBT-P03073', X=7, Width=408, Y=593, Height=296, Z=12, Depth=8, Score=0.8952722, TP=0, GTID=-1)\n",
      "---------------------------\n",
      "211.0 741.0 16.0\n",
      "305.5 667.0 19\n",
      "120.02603884157804 100 3.0 4.75\n",
      "211.0 741.0 16.0\n",
      "607.5 1135.5 44\n",
      "559.3232517963114 352.10012780457777 28.0 4.75\n",
      "                 index   PatientID  Subject  Slice    X     Y  Width  Height  \\\n",
      "StudyUID   View                                                                \n",
      "DBT-S04862 lcc     157  DBT-P03203        0     22  753  1238    113     241   \n",
      "\n",
      "                  Class  AD  \n",
      "StudyUID   View              \n",
      "DBT-S04862 lcc   benign   0  \n",
      "Pandas(Index=('DBT-S04862', 'lcc'), index=9, PatientID='DBT-P03203', X=1469, Width=352, Y=969, Height=478, Z=16, Depth=8, Score=0.68829805, TP=0, GTID=-1)\n",
      "---------------------------\n",
      "1645.0 1208.0 20.0\n",
      "809.5 1358.5 22\n",
      "848.9467003292963 133.08831654206165 2.0 5.5\n",
      "                 index   PatientID  Subject  Slice    X     Y  Width  Height  \\\n",
      "StudyUID   View                                                                \n",
      "DBT-S04862 lcc     157  DBT-P03203        0     22  753  1238    113     241   \n",
      "\n",
      "                  Class  AD  \n",
      "StudyUID   View              \n",
      "DBT-S04862 lcc   benign   0  \n",
      "Pandas(Index=('DBT-S04862', 'lcc'), index=10, PatientID='DBT-P03203', X=1339, Width=79, Y=1049, Height=65, Z=22, Depth=8, Score=0.6523557, TP=0, GTID=-1)\n",
      "---------------------------\n",
      "1378.5 1081.5 26.0\n",
      "809.5 1358.5 22\n",
      "632.8427924848319 133.08831654206165 4.0 5.5\n",
      "                 index   PatientID  Subject  Slice    X     Y  Width  Height  \\\n",
      "StudyUID   View                                                                \n",
      "DBT-S04862 lcc     157  DBT-P03203        0     22  753  1238    113     241   \n",
      "\n",
      "                  Class  AD  \n",
      "StudyUID   View              \n",
      "DBT-S04862 lcc   benign   0  \n",
      "Pandas(Index=('DBT-S04862', 'lcc'), index=11, PatientID='DBT-P03203', X=1281, Width=87, Y=1351, Height=63, Z=35, Depth=8, Score=0.9314008, TP=0, GTID=-1)\n",
      "---------------------------\n",
      "1324.5 1382.5 39.0\n",
      "809.5 1358.5 22\n",
      "515.558920008179 133.08831654206165 17.0 5.5\n",
      "                 index   PatientID  Subject  Slice    X     Y  Width  Height  \\\n",
      "StudyUID   View                                                                \n",
      "DBT-S05241 lcc     173  DBT-P03658        2     15  680  1341    102     108   \n",
      "\n",
      "                  Class  AD  \n",
      "StudyUID   View              \n",
      "DBT-S05241 lcc   benign   0  \n",
      "Pandas(Index=('DBT-S05241', 'lcc'), index=19, PatientID='DBT-P03658', X=488, Width=196, Y=1082, Height=203, Z=23, Depth=8, Score=0.55135757, TP=0, GTID=-1)\n",
      "---------------------------\n",
      "586.0 1183.5 27.0\n",
      "731.0 1395.0 15\n",
      "256.43176480303686 100 12.0 3.75\n",
      "                 index   PatientID  Subject  Slice     X     Y  Width  Height  \\\n",
      "StudyUID   View                                                                 \n",
      "DBT-S05241 rcc     174  DBT-P03658        2      5  1185  1245    103     115   \n",
      "\n",
      "                  Class  AD  \n",
      "StudyUID   View              \n",
      "DBT-S05241 rcc   benign   0  \n",
      "Pandas(Index=('DBT-S05241', 'rcc'), index=20, PatientID='DBT-P03658', X=50, Width=151, Y=110, Height=123, Z=16, Depth=8, Score=0.9383091999999998, TP=0, GTID=-1)\n",
      "---------------------------\n",
      "125.5 171.5 20.0\n",
      "1236.5 1302.5 5\n",
      "1585.3964803795927 100 15.0 1.25\n",
      "                 index   PatientID  Subject  Slice     X     Y  Width  Height  \\\n",
      "StudyUID   View                                                                 \n",
      "DBT-S05241 rcc     174  DBT-P03658        2      5  1185  1245    103     115   \n",
      "\n",
      "                  Class  AD  \n",
      "StudyUID   View              \n",
      "DBT-S05241 rcc   benign   0  \n",
      "Pandas(Index=('DBT-S05241', 'rcc'), index=21, PatientID='DBT-P03658', X=682, Width=290, Y=1547, Height=314, Z=28, Depth=8, Score=0.6937215999999999, TP=0, GTID=-1)\n",
      "---------------------------\n",
      "827.0 1704.0 32.0\n",
      "1236.5 1302.5 5\n",
      "573.4914995010824 100 27.0 1.25\n",
      "                 index   PatientID  Subject  Slice     X    Y  Width  Height  \\\n",
      "StudyUID   View                                                                \n",
      "DBT-S05305 rmlo    168  DBT-P03423        0      6  1412  204    427     402   \n",
      "\n",
      "                  Class  AD  \n",
      "StudyUID   View              \n",
      "DBT-S05305 rmlo  benign   0  \n",
      "Pandas(Index=('DBT-S05305', 'rmlo'), index=17, PatientID='DBT-P03423', X=1838, Width=106, Y=219, Height=89, Z=30, Depth=8, Score=0.68383366, TP=0, GTID=-1)\n",
      "---------------------------\n",
      "1891.0 263.5 34.0\n",
      "1625.5 405.0 6\n",
      "300.8529541154615 293.2290060686357 28.0 1.5\n",
      "[1.9500035]\n",
      "Total counter is  40\n"
     ]
    },
    {
     "name": "stdout",
     "output_type": "stream",
     "text": [
      "{'sensitivity_at_2_fps_all': 0.0, 'sensitivity_at_1_fps_positive': 0.0, 'sensitivity_at_2_fps_positive': 0.0, 'sensitivity_at_3_fps_positive': 0.0, 'sensitivity_at_4_fps_positive': 0.0, 'mean_sensitivity_positive': 0.0}\n"
     ]
    }
   ],
   "source": [
    "# [STAR] For getting the AUC on the Train remaining split\n",
    "\n",
    "from typing import AnyStr, BinaryIO, Dict, List, NamedTuple, Optional, Union\n",
    "\n",
    "\n",
    "def _is_tp(\n",
    "    box_pred: NamedTuple, box_true: NamedTuple, slice_offset: int, min_dist: int = 100\n",
    ") -> bool:\n",
    "    pred_y = box_pred.Y + box_pred.Height / 2\n",
    "    pred_x = box_pred.X + box_pred.Width / 2\n",
    "    pred_z = box_pred.Z + box_pred.Depth / 2\n",
    "    true_y = box_true.Y + box_true.Height / 2\n",
    "    true_x = box_true.X + box_true.Width / 2\n",
    "    true_z = box_true.Slice\n",
    "    \n",
    "    # 2D distance between true and predicted center points\n",
    "    dist = np.linalg.norm((pred_x - true_x, pred_y - true_y))\n",
    "    # compute radius based on true box size\n",
    "    dist_threshold = np.sqrt(box_true.Width ** 2 + box_true.Height ** 2) / 2.0\n",
    "    dist_threshold = max(dist_threshold, min_dist)\n",
    "    slice_diff     = np.abs(pred_z - true_z)\n",
    "    \n",
    "    print(pred_x, pred_y, pred_z)\n",
    "    print(true_x, true_y, true_z)\n",
    "    print(dist, dist_threshold, slice_diff, slice_offset)\n",
    "    \n",
    "    \n",
    "    # TP if predicted center within radius and slice within slice offset\n",
    "    return dist <= dist_threshold and slice_diff <=  slice_offset\n",
    "\n",
    "\n",
    "def _distance(box_pred: NamedTuple, box_true: NamedTuple) -> float:\n",
    "    pred_y = box_pred.Y + box_pred.Height / 2\n",
    "    pred_x = box_pred.X + box_pred.Width / 2\n",
    "    pred_z = box_pred.Z + box_pred.Depth / 2\n",
    "    true_y = box_true.Y + box_true.Height / 2\n",
    "    true_x = box_true.X + box_true.Width / 2\n",
    "    true_z = box_true.Slice\n",
    "    return np.linalg.norm((pred_x - true_x, pred_y - true_y, pred_z - true_z))\n",
    "\n",
    "def _froc(\n",
    "    df_pred: pd.DataFrame,\n",
    "    thresholds: List[float],\n",
    "    n_volumes: int,\n",
    "    n_boxes: int,\n",
    "    evaluation_fps: tuple,\n",
    ") -> List[float]:\n",
    "    tpr = []\n",
    "    fps = []\n",
    "    for th in sorted(thresholds, reverse=True):\n",
    "        df_th = df_pred.loc[df_pred[\"Score\"] >= th]\n",
    "        df_th_unique_tp = df_th.reset_index().drop_duplicates(\n",
    "            subset=[\"StudyUID\", \"View\", \"TP\", \"GTID\"]\n",
    "        )\n",
    "        n_tps_th = float(sum(df_th_unique_tp[\"TP\"]))\n",
    "        tpr_th = n_tps_th / n_boxes\n",
    "        n_fps_th = float(len(df_th[df_th[\"TP\"] == 0]))\n",
    "        fps_th = n_fps_th / n_volumes\n",
    "        tpr.append(tpr_th)\n",
    "        fps.append(fps_th)\n",
    "        if fps_th > max(evaluation_fps):\n",
    "            break\n",
    "    return [np.interp(x, fps, tpr) for x in evaluation_fps]\n",
    "\n",
    "df_pred[\"TP\"]   = 0\n",
    "df_pred[\"GTID\"] = -1\n",
    "\n",
    "thresholds = [df_pred[\"Score\"].max() + 1.0]\n",
    "\n",
    "counter = 0\n",
    "# find true positive predictions and assign detected ground truth box ID\n",
    "for box_pred in df_pred.itertuples():\n",
    "    #print(df_boxes.index)\n",
    "    #print('---------------------')\n",
    "    if box_pred.Index not in df_boxes.index:\n",
    "        continue\n",
    "    counter = counter+1\n",
    "    #print(box_pred.Index)\n",
    "    #print('TP found ', box_pred)\n",
    "    df_boxes_view     = df_boxes.loc[[box_pred.Index]]\n",
    "    view_slice_offset = df_boxes.loc[[box_pred.Index], \"Slice\"].iloc[0] / 4\n",
    "    \n",
    "    print(df_boxes_view)\n",
    "    print(box_pred)\n",
    "    \n",
    "    print('---------------------------')\n",
    "    tp_boxes = [\n",
    "        b\n",
    "        for b in df_boxes_view.itertuples()\n",
    "        if _is_tp(box_pred, b, slice_offset=view_slice_offset)\n",
    "    ]\n",
    "    if len(tp_boxes) > 1:\n",
    "        # find the nearest GT box\n",
    "        tp_distances = [_distance(box_pred, b) for b in tp_boxes]\n",
    "        tp_boxes     = [tp_boxes[np.argmin(tp_distances)]]\n",
    "    if len(tp_boxes) > 0:\n",
    "        tp_i = tp_boxes[0].index\n",
    "        df_pred.loc[df_pred[\"index\"] == box_pred.index, (\"TP\", \"GTID\")] = (1, tp_i)\n",
    "        thresholds.append(box_pred.Score)\n",
    "print(thresholds)\n",
    "\n",
    "print('Total counter is ', counter)\n",
    "thresholds.append(df_pred[\"Score\"].min() - 1.0)\n",
    "\n",
    "# compute sensitivity at 2 FPs/volume on all cases\n",
    "evaluation_fps_all = (2.0,)\n",
    "tpr_all = _froc(\n",
    "    df_pred=df_pred,\n",
    "    thresholds=thresholds,\n",
    "    n_volumes=len(df_labels),\n",
    "    n_boxes=len(df_boxes),\n",
    "    evaluation_fps=evaluation_fps_all,\n",
    ")\n",
    "result = {f\"sensitivity_at_2_fps_all\": tpr_all[0]}\n",
    "\n",
    "# compute mean sensitivity at 1, 2, 3, 4 FPs/volume on positive cases\n",
    "df_pred = df_pred[df_pred.index.isin(df_boxes.index)]\n",
    "df_labels = df_labels[df_labels.index.isin(df_boxes.index)]\n",
    "evaluation_fps_positive = (1.0, 2.0, 3.0, 4.0)\n",
    "tpr_positive = _froc(\n",
    "    df_pred=df_pred,\n",
    "    thresholds=thresholds,\n",
    "    n_volumes=len(df_labels),\n",
    "    n_boxes=len(df_boxes),\n",
    "    evaluation_fps=evaluation_fps_positive,\n",
    ")\n",
    "\n",
    "result.update(\n",
    "    dict(\n",
    "        (f\"sensitivity_at_{int(x)}_fps_positive\", y)\n",
    "        for x, y in zip(evaluation_fps_positive, tpr_positive)\n",
    "    )\n",
    ")\n",
    "result.update({\"mean_sensitivity_positive\": np.mean(tpr_positive)})\n",
    "\n",
    "print(result)"
   ]
  },
  {
   "cell_type": "code",
   "execution_count": 89,
   "metadata": {},
   "outputs": [
    {
     "data": {
      "text/html": [
       "<div>\n",
       "<style scoped>\n",
       "    .dataframe tbody tr th:only-of-type {\n",
       "        vertical-align: middle;\n",
       "    }\n",
       "\n",
       "    .dataframe tbody tr th {\n",
       "        vertical-align: top;\n",
       "    }\n",
       "\n",
       "    .dataframe thead th {\n",
       "        text-align: right;\n",
       "    }\n",
       "</style>\n",
       "<table border=\"1\" class=\"dataframe\">\n",
       "  <thead>\n",
       "    <tr style=\"text-align: right;\">\n",
       "      <th></th>\n",
       "      <th>PatientID</th>\n",
       "      <th>StudyUID</th>\n",
       "      <th>View</th>\n",
       "      <th>descriptive_path</th>\n",
       "      <th>classic_path</th>\n",
       "    </tr>\n",
       "  </thead>\n",
       "  <tbody>\n",
       "    <tr>\n",
       "      <th>0</th>\n",
       "      <td>DBT-P00013</td>\n",
       "      <td>DBT-S00163</td>\n",
       "      <td>rmlo</td>\n",
       "      <td>Breast-Cancer-Screening-DBT/DBT-P00013/01-01-2...</td>\n",
       "      <td>Breast-Cancer-Screening-DBT/DBT-P00013/1.2.826...</td>\n",
       "    </tr>\n",
       "    <tr>\n",
       "      <th>1</th>\n",
       "      <td>DBT-P00023</td>\n",
       "      <td>DBT-S04378</td>\n",
       "      <td>lcc</td>\n",
       "      <td>Breast-Cancer-Screening-DBT/DBT-P00023/01-01-2...</td>\n",
       "      <td>Breast-Cancer-Screening-DBT/DBT-P00023/1.2.826...</td>\n",
       "    </tr>\n",
       "    <tr>\n",
       "      <th>2</th>\n",
       "      <td>DBT-P00023</td>\n",
       "      <td>DBT-S04378</td>\n",
       "      <td>lmlo</td>\n",
       "      <td>Breast-Cancer-Screening-DBT/DBT-P00023/01-01-2...</td>\n",
       "      <td>Breast-Cancer-Screening-DBT/DBT-P00023/1.2.826...</td>\n",
       "    </tr>\n",
       "    <tr>\n",
       "      <th>3</th>\n",
       "      <td>DBT-P00023</td>\n",
       "      <td>DBT-S04378</td>\n",
       "      <td>rcc</td>\n",
       "      <td>Breast-Cancer-Screening-DBT/DBT-P00023/01-01-2...</td>\n",
       "      <td>Breast-Cancer-Screening-DBT/DBT-P00023/1.2.826...</td>\n",
       "    </tr>\n",
       "    <tr>\n",
       "      <th>4</th>\n",
       "      <td>DBT-P00023</td>\n",
       "      <td>DBT-S04378</td>\n",
       "      <td>rmlo</td>\n",
       "      <td>Breast-Cancer-Screening-DBT/DBT-P00023/01-01-2...</td>\n",
       "      <td>Breast-Cancer-Screening-DBT/DBT-P00023/1.2.826...</td>\n",
       "    </tr>\n",
       "    <tr>\n",
       "      <th>...</th>\n",
       "      <td>...</td>\n",
       "      <td>...</td>\n",
       "      <td>...</td>\n",
       "      <td>...</td>\n",
       "      <td>...</td>\n",
       "    </tr>\n",
       "    <tr>\n",
       "      <th>2591</th>\n",
       "      <td>DBT-P05053</td>\n",
       "      <td>DBT-S01068</td>\n",
       "      <td>lmlo</td>\n",
       "      <td>Breast-Cancer-Screening-DBT/DBT-P05053/01-01-2...</td>\n",
       "      <td>Breast-Cancer-Screening-DBT/DBT-P05053/1.2.826...</td>\n",
       "    </tr>\n",
       "    <tr>\n",
       "      <th>2592</th>\n",
       "      <td>DBT-P05053</td>\n",
       "      <td>DBT-S01068</td>\n",
       "      <td>rcc</td>\n",
       "      <td>Breast-Cancer-Screening-DBT/DBT-P05053/01-01-2...</td>\n",
       "      <td>Breast-Cancer-Screening-DBT/DBT-P05053/1.2.826...</td>\n",
       "    </tr>\n",
       "    <tr>\n",
       "      <th>2593</th>\n",
       "      <td>DBT-P05053</td>\n",
       "      <td>DBT-S01068</td>\n",
       "      <td>rmlo</td>\n",
       "      <td>Breast-Cancer-Screening-DBT/DBT-P05053/01-01-2...</td>\n",
       "      <td>Breast-Cancer-Screening-DBT/DBT-P05053/1.2.826...</td>\n",
       "    </tr>\n",
       "    <tr>\n",
       "      <th>2594</th>\n",
       "      <td>DBT-P05056</td>\n",
       "      <td>DBT-S01839</td>\n",
       "      <td>rcc</td>\n",
       "      <td>Breast-Cancer-Screening-DBT/DBT-P05056/01-01-2...</td>\n",
       "      <td>Breast-Cancer-Screening-DBT/DBT-P05056/1.2.826...</td>\n",
       "    </tr>\n",
       "    <tr>\n",
       "      <th>2595</th>\n",
       "      <td>DBT-P05056</td>\n",
       "      <td>DBT-S01839</td>\n",
       "      <td>rmlo</td>\n",
       "      <td>Breast-Cancer-Screening-DBT/DBT-P05056/01-01-2...</td>\n",
       "      <td>Breast-Cancer-Screening-DBT/DBT-P05056/1.2.826...</td>\n",
       "    </tr>\n",
       "  </tbody>\n",
       "</table>\n",
       "<p>2596 rows × 5 columns</p>\n",
       "</div>"
      ],
      "text/plain": [
       "       PatientID    StudyUID  View  \\\n",
       "0     DBT-P00013  DBT-S00163  rmlo   \n",
       "1     DBT-P00023  DBT-S04378   lcc   \n",
       "2     DBT-P00023  DBT-S04378  lmlo   \n",
       "3     DBT-P00023  DBT-S04378   rcc   \n",
       "4     DBT-P00023  DBT-S04378  rmlo   \n",
       "...          ...         ...   ...   \n",
       "2591  DBT-P05053  DBT-S01068  lmlo   \n",
       "2592  DBT-P05053  DBT-S01068   rcc   \n",
       "2593  DBT-P05053  DBT-S01068  rmlo   \n",
       "2594  DBT-P05056  DBT-S01839   rcc   \n",
       "2595  DBT-P05056  DBT-S01839  rmlo   \n",
       "\n",
       "                                       descriptive_path  \\\n",
       "0     Breast-Cancer-Screening-DBT/DBT-P00013/01-01-2...   \n",
       "1     Breast-Cancer-Screening-DBT/DBT-P00023/01-01-2...   \n",
       "2     Breast-Cancer-Screening-DBT/DBT-P00023/01-01-2...   \n",
       "3     Breast-Cancer-Screening-DBT/DBT-P00023/01-01-2...   \n",
       "4     Breast-Cancer-Screening-DBT/DBT-P00023/01-01-2...   \n",
       "...                                                 ...   \n",
       "2591  Breast-Cancer-Screening-DBT/DBT-P05053/01-01-2...   \n",
       "2592  Breast-Cancer-Screening-DBT/DBT-P05053/01-01-2...   \n",
       "2593  Breast-Cancer-Screening-DBT/DBT-P05053/01-01-2...   \n",
       "2594  Breast-Cancer-Screening-DBT/DBT-P05056/01-01-2...   \n",
       "2595  Breast-Cancer-Screening-DBT/DBT-P05056/01-01-2...   \n",
       "\n",
       "                                           classic_path  \n",
       "0     Breast-Cancer-Screening-DBT/DBT-P00013/1.2.826...  \n",
       "1     Breast-Cancer-Screening-DBT/DBT-P00023/1.2.826...  \n",
       "2     Breast-Cancer-Screening-DBT/DBT-P00023/1.2.826...  \n",
       "3     Breast-Cancer-Screening-DBT/DBT-P00023/1.2.826...  \n",
       "4     Breast-Cancer-Screening-DBT/DBT-P00023/1.2.826...  \n",
       "...                                                 ...  \n",
       "2591  Breast-Cancer-Screening-DBT/DBT-P05053/1.2.826...  \n",
       "2592  Breast-Cancer-Screening-DBT/DBT-P05053/1.2.826...  \n",
       "2593  Breast-Cancer-Screening-DBT/DBT-P05053/1.2.826...  \n",
       "2594  Breast-Cancer-Screening-DBT/DBT-P05056/1.2.826...  \n",
       "2595  Breast-Cancer-Screening-DBT/DBT-P05056/1.2.826...  \n",
       "\n",
       "[2596 rows x 5 columns]"
      ]
     },
     "execution_count": 89,
     "metadata": {},
     "output_type": "execute_result"
    }
   ],
   "source": [
    "df        = pd.read_csv('/home/drilnvm/DBTex/BCS-DBT-file-paths-train.csv')\n",
    "df"
   ]
  },
  {
   "cell_type": "code",
   "execution_count": 107,
   "metadata": {
    "code_folding": [],
    "scrolled": true
   },
   "outputs": [
    {
     "name": "stdout",
     "output_type": "stream",
     "text": [
      "Total validation length  224\n",
      "DBT-P03073,DBT-S04591,lcc,1327,80,1365,64,12,8,0.85698307\n",
      "DBT-P03073,DBT-S04591,lmlo,14,177,1180,597,3,8,0.52974284\n",
      "DBT-P03073,DBT-S04591,lmlo,7,176,1182,566,10,8,0.6754328\n",
      "DBT-P03073,DBT-S04591,lmlo,22,401,594,311,6,8,0.60255414\n",
      "DBT-P03073,DBT-S04591,lmlo,7,408,593,296,12,8,0.8952722\n",
      "DBT-P03085,DBT-S00863,lcc,1730,165,1126,589,6,8,0.5155064\n",
      "DBT-P03085,DBT-S00863,lmlo,1666,218,1010,516,24,8,0.57966036\n",
      "DBT-P03176,DBT-S03730,lcc,563,75,1423,69,12,8,0.79934275\n",
      "DBT-P03176,DBT-S03730,lmlo,246,264,920,284,14,8,0.9352792\n",
      "DBT-P03203,DBT-S04862,lcc,1469,352,969,478,16,8,0.68829805\n",
      "DBT-P03203,DBT-S04862,lcc,1339,79,1049,65,22,8,0.6523557\n",
      "DBT-P03203,DBT-S04862,lcc,1281,87,1351,63,35,8,0.9314008\n",
      "DBT-P03212,DBT-S02198,lmlo,996,158,1504,153,5,8,0.53096575\n",
      "DBT-P03212,DBT-S02198,lmlo,987,171,1498,159,12,8,0.8536237\n",
      "DBT-P03218,DBT-S04050,lmlo,1780,208,1775,327,17,8,0.62014514\n",
      "DBT-P03218,DBT-S04050,lmlo,1327,327,1022,306,16,8,0.8280839\n",
      "DBT-P03222,DBT-S00931,rcc,1378,332,612,286,32,8,0.8794367\n",
      "DBT-P03423,DBT-S05305,rmlo,1838,106,219,89,30,8,0.68383366\n",
      "DBT-P03539,DBT-S03755,lcc,1910,89,136,349,40,8,0.73468786\n",
      "DBT-P03658,DBT-S05241,lcc,488,196,1082,203,23,8,0.55135757\n",
      "DBT-P03658,DBT-S05241,rcc,50,151,110,123,16,8,0.9383092\n",
      "DBT-P03658,DBT-S05241,rcc,682,290,1547,314,28,8,0.6937216\n",
      "DBT-P03677,DBT-S00709,rcc,410,97,1571,76,15,8,0.7057321\n",
      "DBT-P03677,DBT-S00709,rcc,221,351,615,282,24,8,0.73803544\n",
      "DBT-P03677,DBT-S00709,rcc,272,149,1637,68,31,8,0.8268013\n",
      "DBT-P03677,DBT-S00709,rcc,1501,132,610,117,26,8,0.9500035\n",
      "DBT-P03677,DBT-S00709,rcc,1699,180,878,172,36,8,0.9442086\n",
      "DBT-P03677,DBT-S00709,rmlo,1648,111,1027,97,9,8,0.59960437\n",
      "DBT-P03677,DBT-S00709,rmlo,1531,345,691,252,21,8,0.64250094\n",
      "DBT-P03748,DBT-S02094,lcc,17,415,1009,731,21,8,0.62508166\n",
      "DBT-P03748,DBT-S02094,lcc,137,198,1085,209,27,8,0.9065151\n",
      "DBT-P03748,DBT-S02094,lmlo,1492,257,1135,274,34,8,0.8260537\n",
      "DBT-P03816,DBT-S03888,rcc,1349,271,1132,259,37,8,0.85947925\n",
      "DBT-P03978,DBT-S00442,rmlo,1689,205,0,291,17,8,0.83690995\n",
      "DBT-P03978,DBT-S00442,rmlo,1684,206,0,293,28,8,0.6524319\n",
      "DBT-P04026,DBT-S01650,rcc1,519,231,1096,575,5,8,0.6025473\n",
      "DBT-P04116,DBT-S03961,rcc,858,270,882,542,41,8,0.8346472\n",
      "DBT-P04116,DBT-S03961,rcc,850,287,900,524,49,8,0.57853115\n",
      "DBT-P04116,DBT-S03961,rmlo,873,334,1547,315,6,8,0.6283351\n",
      "DBT-P04372,DBT-S04281,lmlo,0,29,893,50,17,8,0.5175529\n",
      "Total Prediction  40\n"
     ]
    }
   ],
   "source": [
    "# [STAR] For writing the csv file for submission\n",
    "# 0.25 -> output3 -> score_2 0.648, score_3 0.68\n",
    "# 0.50 -> output2 -> score_2 0.646, score_3 0.65\n",
    "\n",
    "from scipy.signal import find_peaks\n",
    "\n",
    "total_prediction = []\n",
    "prediction_lines = []\n",
    "\n",
    "#df        = pd.read_csv('/home/drilnvm/DBTex/BCS-DBT-file-paths-validation.csv')\n",
    "#df        = pd.read_csv('/home/drilnvm/DBTex/BCS-DBT-file-paths-train.csv')\n",
    "df        = pd.read_csv('/home/drilnvm/DBTex/BCS-DBT-boxes-train.csv')\n",
    "print('Total validation length ', len(df))\n",
    "\n",
    "#shuffle_index = np.load('shuffle_array.npy')\n",
    "#shuffle_index = shuffle_index[150:]\n",
    "\n",
    "\n",
    "for case_index in range(150, 200):\n",
    "    #if case_index not in shuffle_index:\n",
    "    #    continue\n",
    "    \n",
    "    box_series  = df.iloc[case_index]\n",
    "    PatientID   = box_series[\"PatientID\"]\n",
    "    StudyUID    = box_series[\"StudyUID\"]\n",
    "    view_name   = box_series[\"View\"]\n",
    "    \n",
    "    #img        = np.load('/media/drilnvm/ubuntudata2/DBTEx_numpy/vol_'+str(case_index)+'.npy')\n",
    "    all_target = pickle.load(open('/media/drilnvm/ubuntudata2/DBTEx_numpy2/val_target_'+str(case_index)+'.data', 'rb'))\n",
    "    all_scores = pickle.load(open('/media/drilnvm/ubuntudata2/DBTEx_numpy2/val_score_'+str(case_index)+'.data', 'rb'))\n",
    "    \n",
    "    d_init_x = -1\n",
    "    d_init_y = -1\n",
    "    d_init_z = -1\n",
    "    all1     = []\n",
    "\n",
    "    for i, t in enumerate(all_scores):\n",
    "        if len(t) > 0 and t[0] > 0.5:\n",
    "            if d_init_x == -1:\n",
    "                d_init_x = all_target[i][0][0]\n",
    "                d_init_y = all_target[i][0][1]\n",
    "                d_init_z = i\n",
    "        \n",
    "            temp_dist = np.min([100, np.linalg.norm([all_target[i][0][0]-d_init_x, all_target[i][0][1]-d_init_y, i-d_init_z])])\n",
    "            all1.append(temp_dist)\n",
    "            \n",
    "            # update previous coordinate\n",
    "            d_init_x = all_target[i][0][0]\n",
    "            d_init_y = all_target[i][0][1]\n",
    "            d_init_z = i\n",
    "        else:\n",
    "            all1.append(100)\n",
    "    \n",
    "    all1     = 100-np.array(all1)\n",
    "    peaks, _ = find_peaks(all1, distance=4, width=4)\n",
    "    \n",
    "    for p in peaks:\n",
    "        temp = all_target[p][0]*4\n",
    "        result_string = [PatientID, StudyUID, view_name, int(temp[0]), int(temp[2]- temp[0]), int(temp[1]), int(temp[3]-temp[1]), p, 8, all_scores[p][0]]\n",
    "        result_string = [str(x) for x in result_string]\n",
    "        result_string = \",\".join(result_string)\n",
    "        \n",
    "        #print(PatientID, StudyUID, view_name, temp, all_scores[p][0])\n",
    "        #print(PatientID, StudyUID, view_name, int(temp[0]), int(temp[2]- temp[0]), int(temp[1]), int(temp[3]-temp[1]))\n",
    "        print(result_string)\n",
    "        total_prediction.append(result_string)\n",
    "        #print(temp)\n",
    "        #print(temp[0], temp[2]-temp[0], temp[1], temp[3]-temp[1], all_scores[p][0])\n",
    "        #print(all_score[p])\n",
    "    #total_prediction.append(len(peaks))\n",
    "    #print(len(peaks), len(all1), len(all_target), len(all_scores))\n",
    "    \n",
    "    \n",
    "print('Total Prediction ', len(total_prediction))"
   ]
  },
  {
   "cell_type": "code",
   "execution_count": 162,
   "metadata": {},
   "outputs": [
    {
     "name": "stdout",
     "output_type": "stream",
     "text": [
      "(80, 750, 500) 80 80\n"
     ]
    }
   ],
   "source": [
    "case_index = 261\n",
    "\n",
    "img        = a.astype('float32')\n",
    "\n",
    "print(a.shape, len(all_target), len(all_scores))"
   ]
  },
  {
   "cell_type": "code",
   "execution_count": 163,
   "metadata": {},
   "outputs": [
    {
     "name": "stdout",
     "output_type": "stream",
     "text": [
      "[42]\n"
     ]
    },
    {
     "data": {
      "image/png": "[encoded data removed]",
      "text/plain": [
       "<Figure size 432x288 with 1 Axes>"
      ]
     },
     "metadata": {
      "needs_background": "light"
     },
     "output_type": "display_data"
    }
   ],
   "source": [
    "all1 = []\n",
    "for t in all_scores:\n",
    "    if len(t) > 0 and t[0] > 0.5:\n",
    "        #print(t[0])\n",
    "        all1.append(t[0])\n",
    "    else:\n",
    "        all1.append(0)\n",
    "\n",
    "\n",
    "d_init_x = -1\n",
    "d_init_y = -1\n",
    "d_init_z = -1\n",
    "all1     = []\n",
    "\n",
    "for i, t in enumerate(all_scores):\n",
    "    if len(t) > 0 and t[0] > 0.5:\n",
    "        if d_init_x == -1:\n",
    "            d_init_x = all_target[i][0][0]\n",
    "            d_init_y = all_target[i][0][1]\n",
    "            d_init_z = i\n",
    "        \n",
    "        temp_dist = np.min([100, np.linalg.norm([all_target[i][0][0]-d_init_x, all_target[i][0][1]-d_init_y, i-d_init_z])])\n",
    "        all1.append(temp_dist)\n",
    "        d_init_x = all_target[i][0][0]\n",
    "        d_init_y = all_target[i][0][1]\n",
    "        d_init_z = i\n",
    "    else:\n",
    "        all1.append(100)\n",
    "all1 = 100-np.array(all1)\n",
    "\n",
    "from scipy.signal import find_peaks\n",
    "\n",
    "peaks, _ = find_peaks(all1, distance=8, width=4)\n",
    "#print(a.shape)\n",
    "plt.plot(all1)\n",
    "plt.plot(peaks, all1[peaks], 'x')\n",
    "print(peaks)"
   ]
  },
  {
   "cell_type": "code",
   "execution_count": 32,
   "metadata": {},
   "outputs": [
    {
     "name": "stdout",
     "output_type": "stream",
     "text": [
      "slice location  0 49\n",
      "[[  2.   273.25  44.   388.75]]\n"
     ]
    },
    {
     "data": {
      "image/png": "[encoded data removed]",
      "text/plain": [
       "<Figure size 432x288 with 1 Axes>"
      ]
     },
     "metadata": {
      "needs_background": "light"
     },
     "output_type": "display_data"
    }
   ],
   "source": [
    "case_index   = random.randint(0, len(valid_dataset))\n",
    "img, all_target, _    = valid_dataset[case_index]\n",
    "img          = img.astype('float32')\n",
    "#img        = a.astype('float32')\n",
    "#case_index = 0#random.randint(0, img.shape[0]-1)\n",
    "#case_index = peaks[0]-5\n",
    "plt.imshow(img[0], cmap='gray')\n",
    "ax   = plt.gca()\n",
    "case_index  = 0\n",
    "print('slice location ', case_index, len(valid_dataset))\n",
    "\n",
    "if 1:#len(all_target[case_index]) > 0 and all_scores[case_index][0] > 0.2:\n",
    "    temp  = all_target['boxes'].data.cpu().numpy()#[case_index]\n",
    "    print(temp)\n",
    "    #print(case_index, all_scores[case_index])\n",
    "    index = 0\n",
    "    #rect  = patches.Rectangle((temp[0], temp[1]), temp[2]-temp[0], temp[3]-temp[1], linewidth=1, edgecolor='cyan', fill = False)\n",
    "    rect  = patches.Rectangle((temp[index][0], temp[index][1]), temp[index][2]-temp[index][0], temp[index][3]-temp[index][1], linewidth=1, edgecolor='cyan', fill = False)\n",
    "    ax.add_patch(rect)\n",
    "else:\n",
    "    print('Not found 8')\n",
    "\n",
    "plt.show()\n",
    "case_index = case_index+1"
   ]
  },
  {
   "cell_type": "code",
   "execution_count": null,
   "metadata": {
    "code_folding": [
     0
    ]
   },
   "outputs": [],
   "source": [
    "# Validation Iteration #10 loss: 0.26083502173423767\n",
    "# Validation Iteration #20 loss: 0.12475015223026276\n",
    "# Validation Iteration #30 loss: 0.2311360090970993\n",
    "# Validation Iteration #40 loss: 0.07870643585920334\n",
    "# Validation Iteration #50 loss: 0.12904797494411469\n",
    "# 0.17835015669465065\n",
    "\n",
    "# Validation Iteration #10 loss: 0.16890683770179749\n",
    "# Validation Iteration #20 loss: 0.12697485089302063\n",
    "# Validation Iteration #30 loss: 0.202874094247818\n",
    "# Validation Iteration #40 loss: 0.1275915801525116\n",
    "# Validation Iteration #50 loss: 0.16607160866260529\n",
    "# 0.17254152543842793\n",
    "\n",
    "# Validation Iteration #10 loss: 0.14864173531532288\n",
    "# Validation Iteration #20 loss: 0.13806253671646118\n",
    "# Validation Iteration #30 loss: 0.13079851865768433\n",
    "# Validation Iteration #40 loss: 0.09259304404258728\n",
    "# Validation Iteration #50 loss: 0.13366109132766724\n",
    "# 0.1608045955002308\n",
    "\n",
    "# Validation Iteration #10 loss: 0.2190426141023636\n",
    "# Validation Iteration #20 loss: 0.10993507504463196\n",
    "# Validation Iteration #30 loss: 0.08774184435606003\n",
    "# Validation Iteration #40 loss: 0.14777813851833344\n",
    "# Validation Iteration #50 loss: 0.08807449787855148\n",
    "# 0.1679838129878044\n",
    "\n",
    "# fasterrcnn_resnet50_dbt22.pth\n",
    "# Validation Iteration #10 loss: 0.12817245721817017\n",
    "# Validation Iteration #20 loss: 0.3029731810092926\n",
    "# Validation Iteration #30 loss: 0.06146375834941864\n",
    "# Validation Iteration #40 loss: 0.08439958095550537\n",
    "# Validation Iteration #50 loss: 0.059381939470767975\n",
    "# 0.10177689090371132"
   ]
  },
  {
   "cell_type": "code",
   "execution_count": null,
   "metadata": {
    "code_folding": [
     0
    ],
    "scrolled": true
   },
   "outputs": [],
   "source": [
    "# [STAR] For doing inference of the model\n",
    "\n",
    "all_target = []\n",
    "all_scores = []\n",
    "\n",
    "#device = torch.device(\"cpu\")\n",
    "#model.to(device)\n",
    "model.load_state_dict(torch.load('fasterrcnn_resnet50_dbt22.pth'))\n",
    "model.eval()\n",
    "\n",
    "\n",
    "\n",
    "for images, targets, image_ids in valid_data_loader:\n",
    "    new_images  = []\n",
    "    for img in images:\n",
    "        new_images.append(torch.Tensor(img).to(device))\n",
    "\n",
    "    images    = new_images\n",
    "    targets   = [{k: v.to(device) for k, v in t.items()} for t in targets]\n",
    "    loss_dict = model(images)\n",
    "    print(loss_dict)\n",
    "    \n",
    "    #print(loss_dict[0]['boxes'].data.cpu().numpy())\n",
    "    \n",
    "    all_scores.append(loss_dict[0]['scores'].data.cpu().numpy())\n",
    "    all_target.append(loss_dict[0]['boxes'].data.cpu().numpy())"
   ]
  },
  {
   "cell_type": "code",
   "execution_count": 131,
   "metadata": {
    "code_folding": []
   },
   "outputs": [
    {
     "name": "stdout",
     "output_type": "stream",
     "text": [
      "Ground Truth  [[ 98.25 284.75 177.25 378.75]] 27\n"
     ]
    },
    {
     "data": {
      "image/png": "[encoded data removed]",
      "text/plain": [
       "<Figure size 432x288 with 1 Axes>"
      ]
     },
     "metadata": {
      "needs_background": "light"
     },
     "output_type": "display_data"
    }
   ],
   "source": [
    "# [STAR] Code to compare the ground truth and predicted mask\n",
    "\n",
    "\n",
    "\n",
    "case_index        = random.randint(0, len(valid_dataset)-1)\n",
    "images, b, c = valid_dataset[case_index]\n",
    "\n",
    "print('Ground Truth ', b['boxes'].data.cpu().numpy(), case_index)\n",
    "\n",
    "plt.imshow(images[0], cmap='gray')\n",
    "ax   = plt.gca()\n",
    "\n",
    "# if(len(all_target1[case_index]) > 0):\n",
    "#     #print(all_target1[index])\n",
    "#     #print(all_scores1[index])\n",
    "    \n",
    "#     temp  = all_target1[case_index]\n",
    "#     index = 0\n",
    "#     rect  = patches.Rectangle((temp[index][0], temp[index][1]), temp[index][2]-temp[index][0], temp[index][3]-temp[index][1], linewidth=1, edgecolor='yellow', fill = False)\n",
    "#     ax.add_patch(rect)\n",
    "# else:\n",
    "#     print('Not found 9')\n",
    "\n",
    "if(len(all_target[case_index]) > 0):\n",
    "    #print(all_target[index])\n",
    "    #print(all_scores[index])\n",
    "    \n",
    "    temp  = all_target[case_index]\n",
    "    index = 0\n",
    "    rect  = patches.Rectangle((temp[index][0], temp[index][1]), temp[index][2]-temp[index][0], temp[index][3]-temp[index][1], linewidth=1, edgecolor='cyan', fill = False)\n",
    "    ax.add_patch(rect)\n",
    "else:\n",
    "    print('Not found 8')\n",
    "\n",
    "temp  = b['boxes'].data.cpu().numpy()#all_target[index]\n",
    "index = 0\n",
    "rect  = patches.Rectangle((temp[index][0], temp[index][1]), temp[index][2]-temp[index][0], temp[index][3]-temp[index][1], linewidth=1, edgecolor='red', fill = False)\n",
    "ax.add_patch(rect)\n",
    "\n",
    "\n",
    "#rect = patches.Rectangle((0, 0), 500, 100, linewidth=2, edgecolor='cyan', fill = False)\n",
    "\n",
    "plt.show()\n",
    "case_index = case_index+1"
   ]
  },
  {
   "cell_type": "code",
   "execution_count": 137,
   "metadata": {},
   "outputs": [
    {
     "data": {
      "text/plain": [
       "array([[ 84.049545, 412.44092 , 141.16986 , 450.9068  ],\n",
       "       [ 28.40858 , 237.6326  ,  62.980476, 269.77023 ]], dtype=float32)"
      ]
     },
     "execution_count": 137,
     "metadata": {},
     "output_type": "execute_result"
    }
   ],
   "source": [
    "all_target[case_index-1]"
   ]
  },
  {
   "cell_type": "code",
   "execution_count": null,
   "metadata": {},
   "outputs": [],
   "source": [
    "# Error cases for fasterrcnn_resnet50_dbt15.pth\n",
    "Ground Truth  [[ 10.75 304.    51.25 333.75]] 5\n",
    "Ground Truth  [[ 19.   416.25  63.5  447.75]] 6\n",
    "Ground Truth  [[188.25 309.5  216.5  369.75]] 7\n",
    "Ground Truth  [[193.25 389.5  228.   453.5 ]] 8\n",
    "Ground Truth  [[463.75 150.5  498.5  222.75]] 14\n",
    "Ground Truth  [[170.   335.25 195.5  362.25]] 23\n",
    "Ground Truth  [[345.25 414.5  472.25 536.5 ]] 30\n",
    "Ground Truth  [[451.5  333.75 496.   382.  ]] 34\n",
    "Ground Truth  [[398.   166.75 468.25 222.  ]] 37\n",
    "Ground Truth  [[317.75 332.75 388.75 394.  ]] 44\n",
    "Ground Truth  [[  2.   273.25  44.   388.75]] 45\n",
    "Ground Truth  [[5.0000e-01 3.9825e+02 6.1500e+01 5.1375e+02]] 46\n",
    "\n",
    "# Error cases for fasterrcnn_resnet50_dbt14.pth\n",
    "Ground Truth  [[188.25 309.5  216.5  369.75]] 7\n",
    "Ground Truth  [[193.25 389.5  228.   453.5 ]] 8\n",
    "Ground Truth  [[317.75 332.75 388.75 394.  ]] 44\n",
    "Ground Truth  [[299.25 347.75 324.25 387.  ]] 48"
   ]
  },
  {
   "cell_type": "code",
   "execution_count": 33,
   "metadata": {
    "code_folding": [
     0
    ]
   },
   "outputs": [
    {
     "name": "stdout",
     "output_type": "stream",
     "text": [
      "out_spacing is  (0.085, 0.085, 1)\n",
      "out size is  [3000, 1200, 60]\n"
     ]
    }
   ],
   "source": [
    "# [TEMPORARY]\n",
    "\n",
    "def resample_image(itk_image, out_spacing=(1.0, 1.0, 1.5), is_label=False):\n",
    "    original_spacing = itk_image.GetSpacing()\n",
    "    original_size    = itk_image.GetSize()\n",
    "\n",
    "    #print(original_size[0], original_spacing[0], out_spacing[0], 128, original_size[0]*(original_spacing[0]))\n",
    "    print('out_spacing is ', out_spacing)\n",
    "    out_size = [int(np.round(original_size[0]*(original_spacing[0]/out_spacing[0]))),\n",
    "                int(np.round(original_size[1]*(original_spacing[1]/out_spacing[1]))),\n",
    "                int(np.round(original_size[2]*(original_spacing[2]/out_spacing[2])))]\n",
    "    print('out size is ', out_size)\n",
    "    #out_size = [128, 128, 128]\n",
    "    resample = sitk.ResampleImageFilter()\n",
    "    resample.SetNumberOfThreads(12)\n",
    "    resample.SetOutputSpacing(out_spacing)\n",
    "    resample.SetSize(out_size)\n",
    "    resample.SetOutputDirection(itk_image.GetDirection())\n",
    "    resample.SetOutputOrigin(itk_image.GetOrigin())\n",
    "    resample.SetTransform(sitk.Transform())\n",
    "    resample.SetDefaultPixelValue(itk_image.GetPixelIDValue())\n",
    "\n",
    "    if is_label:\n",
    "        resample.SetInterpolator(sitk.sitkNearestNeighbor)\n",
    "    else:\n",
    "        #resample.SetInterpolator(sitk.sitkBSpline)\n",
    "        #resample.SetInterpolator(sitk.sitkGaussian) # not good\n",
    "        resample.SetInterpolator(sitk.sitkLinear)\n",
    "\n",
    "    return resample.Execute(itk_image) \n",
    "\n",
    "\n",
    "dbtvol = np.fromfile('/media/drilnvm/ubuntudata2/TEST-DBT-RECONS/04140608-LE-L-CC_3000x1200x80.4_0.0005_-0.2_1_15.raw', dtype=np.float32)\n",
    "dbtvol = np.reshape(dbtvol, [80, 1200, 3000])\n",
    "dbtvol = sitk.GetImageFromArray(dbtvol)\n",
    "dbtvol.SetSpacing(( 0.085, 0.085, 0.75))\n",
    "\n",
    "\n",
    "dbtvol1 = resample_image(dbtvol, out_spacing=(0.085, 0.085, 1), is_label=False)\n",
    "dbtvol1 = sitk.GetArrayFromImage(dbtvol1)\n",
    "#dbtvol1 = np.flatten(dbtvol1)\n",
    "dbtvol1.tofile('/media/drilnvm/ubuntudata2/TEST-DBT-RECONS/04140608-LE-L-CC_3000x1200x60.4_0.0005_-0.2_1_15_gaussian.raw')\n",
    "\n",
    "#print(dbtvol1.shape)\n",
    "#resampled_mask  = resample_image(segmentation, out_spacing=(2.0, 2.0, 3), is_label=True)\n",
    "        "
   ]
  },
  {
   "cell_type": "code",
   "execution_count": 9,
   "metadata": {},
   "outputs": [
    {
     "name": "stdout",
     "output_type": "stream",
     "text": [
      "(80, 1200, 3000)\n"
     ]
    }
   ],
   "source": [
    "dbtvol = np.fromfile('/media/drilnvm/ubuntudata2/TEST-DBT-RECONS/04140608-LE-L-CC_3000x1200x80.4_0.0005_-0.2_1_15.raw', dtype=np.float32)\n",
    "dbtvol = np.reshape(dbtvol, [80, 1200, 3000])\n",
    "print(dbtvol.shape)"
   ]
  },
  {
   "cell_type": "code",
   "execution_count": null,
   "metadata": {},
   "outputs": [],
   "source": []
  }
 ],
 "metadata": {
  "kernelspec": {
   "display_name": "Python 3",
   "language": "python",
   "name": "python3"
  },
  "language_info": {
   "codemirror_mode": {
    "name": "ipython",
    "version": 3
   },
   "file_extension": ".py",
   "mimetype": "text/x-python",
   "name": "python",
   "nbconvert_exporter": "python",
   "pygments_lexer": "ipython3",
   "version": "3.8.5"
  }
 },
 "nbformat": 4,
 "nbformat_minor": 2
}
