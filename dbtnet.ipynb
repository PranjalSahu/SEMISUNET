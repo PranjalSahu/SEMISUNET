{
 "cells": [
  {
   "cell_type": "code",
   "execution_count": 1,
   "metadata": {
    "code_folding": [
     0
    ]
   },
   "outputs": [],
   "source": [
    "# All imports\n",
    "\n",
    "\n",
    "from __future__ import print_function, division\n",
    "\n",
    "#!pip install monai\n",
    "import matplotlib.pyplot as plt\n",
    "import numpy as np\n",
    "import glob\n",
    "\n",
    "\n",
    "import SimpleITK as sitk\n",
    "import pandas as pd\n",
    "import glob\n",
    "import numpy as np \n",
    "import os\n",
    "import skimage.io as io\n",
    "import skimage.transform as trans\n",
    "\n",
    "import csv\n",
    "from scipy import ndimage, misc\n",
    "from tqdm import tqdm\n",
    "\n",
    "import numba\n",
    "from numba import njit, prange\n",
    "\n",
    "import os\n",
    "import skimage.io as io\n",
    "import skimage.transform as trans\n",
    "import numpy as np\n",
    "\n",
    "import scipy\n",
    "from skimage.measure import label\n",
    "from scipy.io import loadmat\n",
    "from scipy.ndimage import zoom\n",
    "#from scipy.misc import imresize\n",
    "import pywt\n",
    "\n",
    "import csv\n",
    "import random\n",
    "import time\n",
    "%matplotlib inline  \n",
    "\n",
    "from scipy import ndimage, misc\n",
    "\n",
    "import pywt\n",
    "#import hdf5storage\n",
    "\n",
    "import scipy.io as sio\n",
    "from skimage.filters import threshold_otsu\n",
    "import matplotlib.patches as patches\n",
    "\n",
    "import pywt\n",
    "import numpy as np\n",
    "#import pydicom\n",
    "import matplotlib.pyplot as plt\n",
    "import SimpleITK as sitk\n",
    "import skimage.io as io\n",
    "#from sklearn.decomposition import PCA\n",
    "import collections, numpy\n",
    "import warnings\n",
    "from scipy import ndimage, misc\n",
    "warnings.filterwarnings('ignore')\n",
    "import copy\n",
    "\n",
    "\n",
    "import os\n",
    "import glob\n",
    "import uuid\n",
    "import numpy as np\n",
    "\n",
    "\n",
    "import numpy\n",
    "import warnings\n",
    "\n",
    "import functools\n",
    "import pickle\n",
    "import time\n",
    "\n",
    "\n",
    "import numpy as np\n",
    "\n",
    "import argparse\n",
    "import torch\n",
    "import torch.utils.data as data_utils\n",
    "import torch.optim as optim\n",
    "from torch.autograd import Variable\n",
    "\n",
    "import torch.nn as nn\n",
    "\n",
    "from ipywidgets import IntProgress\n",
    "#from ipywidgets import IProgress\n",
    "# [STAR] All imports for DBT\n",
    "\n",
    "import os\n",
    "import pandas\n",
    "%matplotlib inline\n",
    "import matplotlib.pyplot as plt\n",
    "from duke_dbt_data import dcmread_image, read_boxes, draw_box, evaluate\n",
    "np.random.seed(0)\n",
    "#torch.manual_seed(0)!pip install monai\n",
    "\n",
    "# [STAR] All the Imports\n",
    "\n",
    "from __future__ import print_function, division\n",
    "\n",
    "import torch\n",
    "import torch.nn as nn\n",
    "import torch.optim as optim\n",
    "from torch.optim import lr_scheduler\n",
    "import numpy as np\n",
    "import torchvision\n",
    "from torchvision import datasets, models, transforms\n",
    "import matplotlib.pyplot as plt\n",
    "import time\n",
    "import os\n",
    "import copy\n",
    "\n",
    "from pathlib import Path\n",
    "import ast\n",
    "import pandas as pd\n",
    "from PIL import Image\n",
    "\n",
    "import albumentations as A\n",
    "from albumentations.pytorch.transforms import ToTensorV2\n",
    "\n",
    "import torch\n",
    "import torchvision\n",
    "\n",
    "from torchvision.models.detection.faster_rcnn import FastRCNNPredictor\n",
    "from torchvision.models.detection import FasterRCNN\n",
    "from torchvision.models.detection.rpn import AnchorGenerator\n",
    "\n",
    "from torch.utils.data import DataLoader, Dataset\n",
    "from torch.utils.data.sampler import SequentialSampler\n",
    "\n",
    "from matplotlib import pyplot as plt\n",
    "import re\n",
    "import cv2\n",
    "\n",
    "import random"
   ]
  },
  {
   "cell_type": "code",
   "execution_count": 2,
   "metadata": {
    "code_folding": [
     0,
     11,
     28,
     48,
     82,
     99,
     114,
     125,
     136,
     163,
     190,
     198,
     206,
     269,
     332,
     393,
     429,
     517,
     650,
     773,
     836,
     934,
     939,
     1021
    ],
    "scrolled": true
   },
   "outputs": [],
   "source": [
    "# [STAR] Pytorch Models for training\n",
    "\n",
    "import torch\n",
    "from torch import nn\n",
    "import torch.nn.functional as F\n",
    "from torch.autograd import Variable\n",
    "\n",
    "import matplotlib.pyplot as plt\n",
    "import numpy as np\n",
    "from torchsummary import summary\n",
    "\n",
    "class up_conv(nn.Module):\n",
    "    \"\"\"\n",
    "    Up Convolution Block\n",
    "    \"\"\"\n",
    "    def __init__(self, in_ch, out_ch):\n",
    "        super(up_conv, self).__init__()\n",
    "        self.up = nn.Sequential(\n",
    "            nn.Upsample(scale_factor=2),\n",
    "            nn.Conv2d(in_ch, out_ch, kernel_size=3, stride=1, padding=1, bias=True),\n",
    "            nn.BatchNorm2d(out_ch),\n",
    "            nn.ReLU(inplace=True)\n",
    "        )\n",
    "\n",
    "    def forward(self, x):\n",
    "        x = self.up(x)\n",
    "        return x\n",
    "\n",
    "class conv_block(nn.Module):\n",
    "    \"\"\"\n",
    "    Convolution Block \n",
    "    \"\"\"\n",
    "    def __init__(self, in_ch, out_ch):\n",
    "        super(conv_block, self).__init__()\n",
    "        \n",
    "        self.conv = nn.Sequential(\n",
    "            nn.Conv2d(in_ch, out_ch, kernel_size=3, stride=1, padding=1, bias=True),\n",
    "            nn.BatchNorm2d(out_ch),\n",
    "            nn.ReLU(inplace=True),\n",
    "            nn.Conv2d(out_ch, out_ch, kernel_size=3, stride=1, padding=1, bias=True),\n",
    "            nn.BatchNorm2d(out_ch),\n",
    "            nn.ReLU(inplace=True))\n",
    "\n",
    "    def forward(self, x):\n",
    "\n",
    "        x = self.conv(x)\n",
    "        return x\n",
    "\n",
    "class Attention_block(nn.Module):\n",
    "    \"\"\"\n",
    "    Attention Block\n",
    "    \"\"\"\n",
    "\n",
    "    def __init__(self, F_g, F_l, F_int):\n",
    "        super(Attention_block, self).__init__()\n",
    "\n",
    "        self.W_g = nn.Sequential(\n",
    "            nn.Conv2d(F_l, F_int, kernel_size=1, stride=1, padding=0, bias=True),\n",
    "            nn.BatchNorm2d(F_int)\n",
    "        )\n",
    "\n",
    "        self.W_x = nn.Sequential(\n",
    "            nn.Conv2d(F_g, F_int, kernel_size=1, stride=1, padding=0, bias=True),\n",
    "            nn.BatchNorm2d(F_int)\n",
    "        )\n",
    "\n",
    "        self.psi = nn.Sequential(\n",
    "            nn.Conv2d(F_int, 1, kernel_size=1, stride=1, padding=0, bias=True),\n",
    "            nn.BatchNorm2d(1),\n",
    "            nn.Sigmoid()\n",
    "        )\n",
    "\n",
    "        self.relu = nn.ReLU(inplace=True)\n",
    "\n",
    "    def forward(self, g, x):\n",
    "        g1 = self.W_g(g)\n",
    "        x1 = self.W_x(x)\n",
    "        psi = self.relu(g1 + x1)\n",
    "        psi = self.psi(psi)\n",
    "        out = x * psi\n",
    "        return out\n",
    "\n",
    "class DoubleConv(nn.Module):\n",
    "    def __init__(self, in_channels, out_channels, mid_channels=None):\n",
    "        super().__init__()\n",
    "        if not mid_channels:\n",
    "            mid_channels = out_channels\n",
    "        self.double_conv = nn.Sequential(\n",
    "            nn.Conv2d(in_channels, mid_channels, kernel_size=3, padding=1),\n",
    "            #nn.BatchNorm2d(mid_channels),\n",
    "            nn.ReLU(inplace=True),\n",
    "            nn.Conv2d(mid_channels, out_channels, kernel_size=3, padding=1),\n",
    "            #nn.BatchNorm2d(out_channels),\n",
    "            nn.ReLU(inplace=True)\n",
    "        )\n",
    "\n",
    "    def forward(self, x):\n",
    "        return self.double_conv(x)\n",
    "\n",
    "class DoubleConv_3D(nn.Module):\n",
    "    def __init__(self, in_channels, out_channels, mid_channels=None):\n",
    "        super().__init__()\n",
    "        if not mid_channels:\n",
    "            mid_channels = out_channels\n",
    "        self.double_conv = nn.Sequential(\n",
    "            nn.Conv3d(in_channels, mid_channels, kernel_size=3, padding=1),\n",
    "            nn.ReLU(inplace=True),\n",
    "            nn.Conv3d(mid_channels, out_channels, kernel_size=3, padding=1),\n",
    "            nn.ReLU(inplace=True)\n",
    "        )\n",
    "\n",
    "    def forward(self, x):\n",
    "        return self.double_conv(x)\n",
    "    \n",
    "class Down(nn.Module):\n",
    "    def __init__(self, in_channels, out_channels):\n",
    "        super().__init__()\n",
    "        self.maxpool_conv = nn.Sequential(\n",
    "            nn.MaxPool2d(2),\n",
    "            DoubleConv(in_channels, out_channels)\n",
    "        )\n",
    "\n",
    "    def forward(self, x):\n",
    "        return self.maxpool_conv(x)\n",
    "\n",
    "class Down_3D(nn.Module):\n",
    "    def __init__(self, in_channels, out_channels):\n",
    "        super().__init__()\n",
    "        self.maxpool_conv = nn.Sequential(\n",
    "            nn.MaxPool3d(2),\n",
    "            DoubleConv_3D(in_channels, out_channels)\n",
    "        )\n",
    "\n",
    "    def forward(self, x):\n",
    "        return self.maxpool_conv(x)\n",
    "\n",
    "class Up(nn.Module):\n",
    "    def __init__(self, in_channels, out_channels, bilinear=True):\n",
    "        super().__init__()\n",
    "\n",
    "        # if bilinear, use the normal convolutions to reduce the number of channels\n",
    "        if bilinear:\n",
    "            self.up = nn.Upsample(scale_factor=2, mode='bilinear', align_corners=True)\n",
    "            self.conv = DoubleConv(in_channels, out_channels, in_channels // 2)\n",
    "        else:\n",
    "            self.up = nn.ConvTranspose2d(in_channels , in_channels // 2, kernel_size=2, stride=2)\n",
    "            self.conv = DoubleConv(in_channels, out_channels)\n",
    "\n",
    "\n",
    "    def forward(self, x1, x2):\n",
    "        x1 = self.up(x1)\n",
    "        # input is CHW\n",
    "        diffY = x2.size()[2] - x1.size()[2]\n",
    "        diffX = x2.size()[3] - x1.size()[3]\n",
    "\n",
    "        x1 = F.pad(x1, [diffX // 2, diffX - diffX // 2,\n",
    "                        diffY // 2, diffY - diffY // 2])\n",
    "        # if you have padding issues, see\n",
    "        # https://github.com/HaiyongJiang/U-Net-Pytorch-Unstructured-Buggy/commit/0e854509c2cea854e247a9c615f175f76fbb2e3a\n",
    "        # https://github.com/xiaopeng-liao/Pytorch-UNet/commit/8ebac70e633bac59fc22bb5195e513d5832fb3bd\n",
    "        x = torch.cat([x2, x1], dim=1)\n",
    "        return self.conv(x)\n",
    "\n",
    "class Up_3D(nn.Module):\n",
    "    def __init__(self, in_channels, out_channels, bilinear=True):\n",
    "        super().__init__()\n",
    "\n",
    "        # if bilinear, use the normal convolutions to reduce the number of channels\n",
    "        if bilinear:\n",
    "            self.up   = nn.Upsample(scale_factor=2, mode='trilinear', align_corners=True)\n",
    "            self.conv = DoubleConv_3D(in_channels, out_channels, in_channels // 2)\n",
    "        else:\n",
    "            self.up = nn.ConvTranspose2d(in_channels , in_channels // 2, kernel_size=2, stride=2)\n",
    "            self.conv = DoubleConv(in_channels, out_channels)\n",
    "\n",
    "\n",
    "    def forward(self, x1, x2):\n",
    "        x1 = self.up(x1)\n",
    "        # input is CHW\n",
    "        diffY = x2.size()[2] - x1.size()[2]\n",
    "        diffX = x2.size()[3] - x1.size()[3]\n",
    "\n",
    "        x1 = F.pad(x1, [diffX // 2, diffX - diffX // 2,\n",
    "                        diffY // 2, diffY - diffY // 2])\n",
    "        # if you have padding issues, see\n",
    "        # https://github.com/HaiyongJiang/U-Net-Pytorch-Unstructured-Buggy/commit/0e854509c2cea854e247a9c615f175f76fbb2e3a\n",
    "        # https://github.com/xiaopeng-liao/Pytorch-UNet/commit/8ebac70e633bac59fc22bb5195e513d5832fb3bd\n",
    "        x = torch.cat([x2, x1], dim=1)\n",
    "        return self.conv(x)\n",
    "\n",
    "class OutConv(nn.Module):\n",
    "    def __init__(self, in_channels, out_channels):\n",
    "        super(OutConv, self).__init__()\n",
    "        self.conv = nn.Conv2d(in_channels, out_channels, kernel_size=1)\n",
    "\n",
    "    def forward(self, x):\n",
    "        return self.conv(x)\n",
    "\n",
    "class OutConv_3D(nn.Module):\n",
    "    def __init__(self, in_channels, out_channels):\n",
    "        super(OutConv_3D, self).__init__()\n",
    "        self.conv = nn.Conv3d(in_channels, out_channels, kernel_size=1)\n",
    "\n",
    "    def forward(self, x):\n",
    "        return self.conv(x)\n",
    "\n",
    "class SUNet(nn.Module):\n",
    "    def __init__(self, n_channels, n_classes, bilinear=True):\n",
    "        super(SUNet, self).__init__()\n",
    "        self.n_channels = n_channels\n",
    "        self.n_classes  = n_classes\n",
    "        self.bilinear   = bilinear\n",
    "\n",
    "        self.inc = DoubleConv(n_channels, 16)\n",
    "        self.down1 = Down(16, 32)\n",
    "        self.down2 = Down(32, 64)\n",
    "        self.down3 = Down(64, 128)\n",
    "        factor = 2 if bilinear else 1\n",
    "        self.down4 = Down(128, 256 // factor)\n",
    "        self.up1 = Up(256, 128 // factor, bilinear)\n",
    "        self.up2 = Up(128, 64 // factor, bilinear)\n",
    "        self.up3 = Up(64, 32 // factor, bilinear)\n",
    "        self.up4 = Up(32, 16, bilinear)\n",
    "        self.outc = OutConv(16, n_classes)\n",
    "        #self.out_sigmoid = nn.Sigmoid()\n",
    "        self.out_softmax = nn.LogSoftmax(dim=1)\n",
    "        \n",
    "        self.gn1 = nn.GroupNorm(8, 16)\n",
    "        self.gn2 = nn.GroupNorm(16, 32)\n",
    "        self.gn3 = nn.GroupNorm(32, 64)\n",
    "        self.gn4 = nn.GroupNorm(64, 128)\n",
    "        self.gn5 = nn.GroupNorm(32, 64)\n",
    "        self.gn6 = nn.GroupNorm(16, 32)\n",
    "        self.gn7 = nn.GroupNorm(8, 16)\n",
    "        \n",
    "        self.dp1 = nn.Dropout(p=0.2)\n",
    "        self.dp2 = nn.Dropout(p=0.2)\n",
    "    \n",
    "    def forward(self, x):\n",
    "        x1 = self.inc(x)\n",
    "        x1 = self.gn1(x1)\n",
    "        \n",
    "        x2 = self.down1(x1)\n",
    "        x2 = self.gn2(x2)\n",
    "        \n",
    "        x3 = self.down2(x2)\n",
    "        x3 = self.gn3(x3)\n",
    "        #x3 = self.dp1(x3)\n",
    "        \n",
    "        x4 = self.down3(x3)\n",
    "        x4 = self.gn4(x4)\n",
    "        #x4 = self.dp2(x4)\n",
    "        \n",
    "        x5 = self.down4(x4)\n",
    "        x = self.up1(x5, x4)\n",
    "        x = self.gn5(x)\n",
    "       \n",
    "        x = self.up2(x, x3)\n",
    "        x = self.gn6(x)\n",
    "            \n",
    "        x = self.up3(x, x2)\n",
    "        x = self.gn7(x)\n",
    "        \n",
    "        x  = self.up4(x, x1)\n",
    "        \n",
    "        logits = self.outc(x)\n",
    "        #out    = self.out_softmax(logits)\n",
    "        return logits\n",
    "\n",
    "class SUNet_3D(nn.Module):\n",
    "    def __init__(self, n_channels, n_classes, bilinear=True):\n",
    "        super(SUNet_3D, self).__init__()\n",
    "        self.n_channels = n_channels\n",
    "        self.n_classes  = n_classes\n",
    "        self.bilinear   = bilinear\n",
    "\n",
    "        self.inc   = DoubleConv_3D(n_channels, 16)\n",
    "        self.down1 = Down_3D(16, 32)\n",
    "        self.down2 = Down_3D(32, 64)\n",
    "        self.down3 = Down_3D(64, 128)\n",
    "        factor = 2 if bilinear else 1\n",
    "        self.down4 = Down_3D(128, 256 // factor)\n",
    "        self.up1 = Up_3D(256, 128 // factor, bilinear)\n",
    "        self.up2 = Up_3D(128, 64 // factor, bilinear)\n",
    "        self.up3 = Up_3D(64, 32 // factor, bilinear)\n",
    "        self.up4 = Up_3D(32, 16, bilinear)\n",
    "        self.outc = OutConv_3D(16, n_classes)\n",
    "        #self.out_sigmoid = nn.Sigmoid()\n",
    "        self.out_softmax = nn.LogSoftmax(dim=1)\n",
    "        \n",
    "        self.gn1 = nn.GroupNorm(8, 16)\n",
    "        self.gn2 = nn.GroupNorm(16, 32)\n",
    "        self.gn3 = nn.GroupNorm(32, 64)\n",
    "        self.gn4 = nn.GroupNorm(64, 128)\n",
    "        self.gn5 = nn.GroupNorm(32, 64)\n",
    "        self.gn6 = nn.GroupNorm(16, 32)\n",
    "        self.gn7 = nn.GroupNorm(8, 16)\n",
    "        \n",
    "        self.dp1 = nn.Dropout(p=0.2)\n",
    "        self.dp2 = nn.Dropout(p=0.2)\n",
    "    \n",
    "    def forward(self, x):\n",
    "        x1 = self.inc(x)\n",
    "        x1 = self.gn1(x1)\n",
    "        \n",
    "        x2 = self.down1(x1)\n",
    "        x2 = self.gn2(x2)\n",
    "        \n",
    "        x3 = self.down2(x2)\n",
    "        x3 = self.gn3(x3)\n",
    "        #x3 = self.dp1(x3)\n",
    "        \n",
    "        x4 = self.down3(x3)\n",
    "        x4 = self.gn4(x4)\n",
    "        #x4 = self.dp2(x4)\n",
    "        \n",
    "        x5 = self.down4(x4)\n",
    "        x = self.up1(x5, x4)\n",
    "        x = self.gn5(x)\n",
    "       \n",
    "        x = self.up2(x, x3)\n",
    "        x = self.gn6(x)\n",
    "            \n",
    "        x = self.up3(x, x2)\n",
    "        x = self.gn7(x)\n",
    "        \n",
    "        x  = self.up4(x, x1)\n",
    "        \n",
    "        logits = self.outc(x)\n",
    "        #out    = self.out_softmax(logits)\n",
    "        return logits\n",
    "\n",
    "class SUNet_with_BN(nn.Module):\n",
    "    def __init__(self, n_channels, n_classes, bilinear=True):\n",
    "        super(SUNet_with_BN, self).__init__()\n",
    "        self.n_channels = n_channels\n",
    "        self.n_classes  = n_classes\n",
    "        self.bilinear   = bilinear\n",
    "\n",
    "        self.inc = DoubleConv(n_channels, 16)\n",
    "        self.down1 = Down(16, 32)\n",
    "        self.down2 = Down(32, 64)\n",
    "        self.down3 = Down(64, 128)\n",
    "        factor = 2 if bilinear else 1\n",
    "        self.down4 = Down(128, 256 // factor)\n",
    "        self.up1 = Up(256, 128 // factor, bilinear)\n",
    "        self.up2 = Up(128, 64 // factor, bilinear)\n",
    "        self.up3 = Up(64, 32 // factor, bilinear)\n",
    "        self.up4 = Up(32, 16, bilinear)\n",
    "        self.outc = OutConv(16, n_classes)\n",
    "        #self.out_sigmoid = nn.Sigmoid()\n",
    "        self.out_softmax = nn.LogSoftmax(dim=1)\n",
    "        \n",
    "        self.gn1 = nn.BatchNorm2d(16)\n",
    "        self.gn2 = nn.BatchNorm2d(32)\n",
    "        self.gn3 = nn.BatchNorm2d(64)\n",
    "        self.gn4 = nn.BatchNorm2d(128)\n",
    "        self.gn5 = nn.BatchNorm2d(64)\n",
    "        self.gn6 = nn.BatchNorm2d(32)\n",
    "        self.gn7 = nn.BatchNorm2d(16)\n",
    "        \n",
    "        self.dp1 = nn.Dropout(p=0.4)\n",
    "        self.dp2 = nn.Dropout(p=0.4)\n",
    "    \n",
    "    def forward(self, x):\n",
    "        x1 = self.inc(x)\n",
    "        x1 = self.gn1(x1)\n",
    "        \n",
    "        x2 = self.down1(x1)\n",
    "        x2 = self.gn2(x2)\n",
    "        \n",
    "        x3 = self.down2(x2)\n",
    "        x3 = self.gn3(x3)\n",
    "       \n",
    "        x4 = self.down3(x3)\n",
    "        x4 = self.gn4(x4)\n",
    "       \n",
    "        x5 = self.down4(x4)\n",
    "        x = self.up1(x5, x4)\n",
    "        x = self.gn5(x)\n",
    "       \n",
    "        x = self.up2(x, x3)\n",
    "        x = self.gn6(x)\n",
    "            \n",
    "        x = self.up3(x, x2)\n",
    "        x = self.gn7(x)\n",
    "        \n",
    "        x  = self.up4(x, x1)\n",
    "        \n",
    "        logits = self.outc(x)\n",
    "        #out    = self.out_softmax(logits)\n",
    "        return logits\n",
    "\n",
    "class SUNet_without_GN(nn.Module):\n",
    "    def __init__(self, n_channels, n_classes, bilinear=True):\n",
    "        super(SUNet_without_GN, self).__init__()\n",
    "        self.n_channels = n_channels\n",
    "        self.n_classes  = n_classes\n",
    "        self.bilinear   = bilinear\n",
    "\n",
    "        self.inc = DoubleConv(n_channels, 16)\n",
    "        self.down1 = Down(16, 32)\n",
    "        self.down2 = Down(32, 64)\n",
    "        self.down3 = Down(64, 128)\n",
    "        factor = 2 if bilinear else 1\n",
    "        self.down4 = Down(128, 256 // factor)\n",
    "        self.up1 = Up(256, 128 // factor, bilinear)\n",
    "        self.up2 = Up(128, 64 // factor, bilinear)\n",
    "        self.up3 = Up(64, 32 // factor, bilinear)\n",
    "        self.up4 = Up(32, 16, bilinear)\n",
    "        self.outc = OutConv(16, n_classes)\n",
    "        \n",
    "    \n",
    "    def forward(self, x):\n",
    "        x1 = self.inc(x)\n",
    "        x2 = self.down1(x1)\n",
    "        x3 = self.down2(x2)\n",
    "        x4 = self.down3(x3)\n",
    "        \n",
    "        x5 = self.down4(x4)\n",
    "        x  = self.up1(x5, x4)\n",
    "        x  = self.up2(x, x3)\n",
    "        x  = self.up3(x, x2)\n",
    "        x  = self.up4(x, x1)\n",
    "        \n",
    "        logits = self.outc(x)\n",
    "        \n",
    "        return logits\n",
    "\n",
    "class AttnDecoderRNN_old(nn.Module):\n",
    "    def __init__(self, hidden_size, output_size, dropout_p=0.1, max_length=256, bilinear=True):\n",
    "        super(AttnDecoderRNN, self).__init__()\n",
    "        self.hidden_size = hidden_size\n",
    "        self.output_size = output_size\n",
    "        self.dropout_p = dropout_p\n",
    "        self.max_length = max_length\n",
    "        self.bilinear = bilinear\n",
    "        self.n_classes = 1\n",
    "\n",
    "        self.embedding = nn.Embedding(self.output_size, self.hidden_size)\n",
    "        self.attn = nn.Linear(self.hidden_size*2, self.max_length)\n",
    "        \n",
    "        self.attn_24 = nn.Linear(self.hidden_size*4, self.hidden_size*2)\n",
    "        \n",
    "        self.attn_combine = nn.Linear(self.hidden_size * 2, self.hidden_size)\n",
    "        \n",
    "        self.attn_combine_bilstm = nn.Linear(self.hidden_size * 3, self.hidden_size)\n",
    "        self.dropout = nn.Dropout(self.dropout_p)\n",
    "        self.gru = nn.GRU(self.hidden_size, self.hidden_size)\n",
    "        self.out = nn.Linear(self.hidden_size, self.output_size)\n",
    "       # self.hidden = nn.Parameter(torch.randn(4,256,256).cuda()),nn.Parameter(torch.randn(4,256,256).cuda())\n",
    "       \n",
    "        self.lsgn_a = nn.GroupNorm(128,256)\n",
    "    \n",
    "        self.down5 = Down(128,256)\n",
    "        \n",
    "        factor = 2 if bilinear else 1\n",
    "                \n",
    "        self.ups4 = nn.ConvTranspose2d(256 , 256 // 2, kernel_size=2, stride=2)\n",
    "        self.upsconv4 = DoubleConv(256,128)\n",
    "\n",
    "        self.lstm = nn.LSTM(256,256,batch_first=False,bidirectional=True,num_layers=1).cuda()\n",
    "    \n",
    "    def forward(self, input,hidden,encoder_outputs):\n",
    "        \n",
    "        h = torch.unsqueeze(hidden,0)\n",
    "        \n",
    "        embedded = input\n",
    "        \n",
    "        embedded = self.dropout(embedded)\n",
    "\n",
    "        hidden_bilstm = h[0]\n",
    "        \n",
    "        \n",
    "        hidden_bilinn =  hidden_bilstm\n",
    "        \n",
    "        hidden_bilinn = self.attn(hidden_bilinn)\n",
    "    \n",
    "        hidden_bilinn = self.lsgn_a(hidden_bilinn)\n",
    "\n",
    "        attn_weights = F.softmax(self.attn(torch.cat((embedded[0], hidden_bilinn), 1)), dim=1)\n",
    "        \n",
    "        \n",
    "        \n",
    "        attn_weights  = self.lsgn_a(attn_weights)\n",
    "    \n",
    "        attn_applied = torch.bmm(attn_weights.unsqueeze(0),encoder_outputs.unsqueeze(0))\n",
    "        \n",
    "   #     print('attn_applied: encoder outputs',attn_applied[0].shape,encoder_outputs[0].shape)\n",
    "\n",
    "        output = torch.cat((embedded[0], attn_applied[0]), 1)\n",
    "  #      print('The output shape is : ',output.shape)\n",
    "        \n",
    "        output = self.attn_combine_bilstm(output).unsqueeze(0)\n",
    " #      print('The output shape after is : ',output.shape)\n",
    "        \n",
    "    \n",
    "        hidden_bi = hidden_bilinn.unsqueeze(0)\n",
    "        \n",
    "        output = F.relu(output)\n",
    "        \n",
    "        #print(\"output and hidden before lstm \",output.shape,hidden_bi.shape)\n",
    "\n",
    "        output, hidden = self.gru(output, hidden_bi)\n",
    "        \n",
    "        output = F.log_softmax(self.out(output[0]), dim=1)\n",
    "        output = self.lsgn_a(output)\n",
    "        \n",
    "       #output = self.lsgn_a(output)\n",
    "    \n",
    "        return output,hidden\n",
    "\n",
    "\n",
    "    def initHidden(self):\n",
    "        return torch.randn(4, 256, self.hidden_size, device=device)\n",
    "\n",
    "############### MAIN MODEL ##############\n",
    "class UNetDoubleSmallGroupNormdifferent_old(nn.Module):\n",
    "    def __init__(self, n_channels, n_classes,bilinear=True):\n",
    "        \n",
    "        super(UNetDoubleSmallGroupNormdifferent, self).__init__()\n",
    "        self.n_channels = n_channels\n",
    "        self.n_classes = n_classes\n",
    "        self.bilinear = bilinear\n",
    "\n",
    "        self.inc = DoubleConv(n_channels, 16)\n",
    "        self.down1 = Down(16, 32)\n",
    "        self.down2 = Down(32, 64)\n",
    "        self.down3 = Down(64, 128)\n",
    "        factor = 2 if bilinear else 1\n",
    "        self.down4 = Down(128, 256 // factor)\n",
    "\n",
    "        \n",
    "        self.down5 = Down(128,256)\n",
    "        \n",
    "        \n",
    "        self.up1 = Up(256, 128 // factor, bilinear)\n",
    "        self.up2 = Up(128, 64 // factor, bilinear)\n",
    "        self.up3 = Up(64, 32 // factor, bilinear)\n",
    "        self.up4 = Up(32, 16, bilinear)\n",
    "        self.outc = OutConv(16, n_classes)\n",
    "        #self.out_sigmoid = nn.Sigmoid()\n",
    "        self.out_softmax = nn.LogSoftmax(dim=1)\n",
    "        \n",
    "        self.lsgn1 = nn.GroupNorm(128,256)\n",
    "        \n",
    "        self.lsgn2 = nn.GroupNorm(64,256)\n",
    "        \n",
    "        \n",
    "        self.gn1 = nn.GroupNorm(8, 16)\n",
    "        self.gn2 = nn.GroupNorm(16, 32)\n",
    "        self.gn3 = nn.GroupNorm(32, 64)\n",
    "        self.gn4 = nn.GroupNorm(64, 128)\n",
    "        self.gn5 = nn.GroupNorm(32, 64)\n",
    "        self.gn6 = nn.GroupNorm(16, 32)\n",
    "        self.gn7 = nn.GroupNorm(8, 16)\n",
    "   \n",
    "    def forward(self, x):\n",
    "        x1 = self.inc(x)\n",
    "       # x1 = self.gn1(x1)\n",
    "       \n",
    "        x2 = self.down1(x1)\n",
    "       # x2 = self.gn2(x2)\n",
    "       \n",
    "        x3 = self.down2(x2)\n",
    "       # x3 = self.gn3(x3)\n",
    "       \n",
    "        x4 = self.down3(x3)\n",
    "       # x4 = self.gn4(x4)\n",
    "       \n",
    "        x5 = self.down4(x4)\n",
    "        \n",
    "        #x5 = torch.squeeze(x5)\n",
    "        x5 = self.down5(x5)\n",
    "        #x5 = self.down6(x5)\n",
    "        \n",
    "        #print('x5 shape is :',x5.shape)\n",
    "        \n",
    "        xlst = x5.reshape([4,256,256])\n",
    "\n",
    "        lstm = nn.LSTM(256,256,batch_first= True,bidirectional=True,num_layers=1).cuda()\n",
    "                \n",
    "        #print('xlst',xlst.shape)    \n",
    "        \n",
    "        xlst = self.lsgn1(xlst)\n",
    "        \n",
    "        ylst = lstm(xlst)\n",
    "        \n",
    "        \n",
    "        #print(hidden)\n",
    "        \n",
    "        f = np.asarray(ylst)\n",
    "        \n",
    "        h  = torch.cuda.FloatTensor(ylst[0])\n",
    "        \n",
    "        \n",
    "        h = torch.squeeze(h)\n",
    "        \n",
    "        encoder_o = f[0]\n",
    "        \n",
    "        a = np.zeros((4,256,256))\n",
    "\n",
    "        a = torch.from_numpy(a)\n",
    "        a.cuda()\n",
    "        \n",
    "        for i in range(4):\n",
    "    \n",
    "            oo,b = attn_decoder1.forward(xlst,h[i],encoder_o[i])\n",
    "            oo = self.lsgn2(oo)\n",
    "            a[i] = oo\n",
    "        \n",
    "            \n",
    "        a = a.unsqueeze(0)\n",
    "        a = a.reshape([4,256,16,16])\n",
    "        \n",
    "        \n",
    "        \n",
    "        x5 = a  \n",
    "        x5 = x5.cuda()\n",
    "        \n",
    "        \n",
    "        x5 = x5.type(torch.cuda.FloatTensor)\n",
    " \n",
    "        \n",
    "        \n",
    "        x5 = self.lsgn2(x5)\n",
    "        \n",
    "        ups4 = nn.ConvTranspose2d(256 , 256 // 2, kernel_size=2, stride=2)\n",
    "        upsconv4 = DoubleConv(256,128)\n",
    "\n",
    "        ups4 = ups4.cuda()\n",
    "        \n",
    "        opt = ups4(x5)\n",
    "        \n",
    "        x5 = opt\n",
    "        \n",
    "        x = self.up1(x5, x4)\n",
    "        #x = self.gn5(x)\n",
    "        \n",
    "        x = self.up2(x, x3)\n",
    "       # x = self.gn6(x)\n",
    "       \n",
    "        x = self.up3(x, x2)\n",
    "        #x = self.gn7(x)\n",
    "       \n",
    "        x = self.up4(x, x1)\n",
    "        logits = self.outc(x)\n",
    "        #out    = self.out_softmax(logits)\n",
    "        return logits\n",
    "\n",
    "class UNetDoubleSmallGroupNormdifferent(nn.Module):\n",
    "    def __init__(self, n_channels, n_classes,bilinear=True):\n",
    "        super(UNetDoubleSmallGroupNormdifferent, self).__init__()\n",
    "        self.n_channels = n_channels\n",
    "        self.n_classes = n_classes\n",
    "        self.bilinear = bilinear\n",
    "\n",
    "        self.inc     = DoubleConv(n_channels, 16)\n",
    "        self.down1   = Down(16, 32)\n",
    "        self.downnew = Down(16,16)\n",
    "        self.down2   = Down(32, 64)\n",
    "        self.down3   = Down(64, 128)\n",
    "        factor = 2 if bilinear else 1\n",
    "        self.down4   = Down(128, 256 // factor) \n",
    "        self.upsam   = nn.Upsample(scale_factor=2, mode='nearest')\n",
    "        \n",
    "        self.down5 = Down(128,256)\n",
    "        self.ups3  = nn.ConvTranspose2d(1 , 1, kernel_size=2, stride=2)\n",
    "        self.ups4  = nn.ConvTranspose2d(256 , 256 // 2, kernel_size=2, stride=2)\n",
    "        \n",
    "        self.up1 = Up(256, 128 // factor, bilinear)\n",
    "        self.up2 = Up(128, 64 // factor, bilinear)\n",
    "        self.up3 = Up(64, 32 // factor, bilinear)\n",
    "        self.up4 = Up(32, 16, bilinear)\n",
    "        self.outc = OutConv(16, n_classes)\n",
    "        #self.out_sigmoid = nn.Sigmoid()\n",
    "        self.out_softmax = nn.LogSoftmax(dim=1)\n",
    "        \n",
    "        self.lsgn1 = nn.GroupNorm(64,128)\n",
    "        self.lsgn2 = nn.GroupNorm(64,1024)\n",
    "        self.lsgn3 = nn.GroupNorm(64,1024)\n",
    "        \n",
    "        self.gn1 = nn.GroupNorm(8, 16)\n",
    "        self.gn2 = nn.GroupNorm(16, 32)\n",
    "        self.gn3 = nn.GroupNorm(32, 64)\n",
    "        self.gn4 = nn.GroupNorm(64, 128)\n",
    "        self.gn5 = nn.GroupNorm(32, 64)\n",
    "        self.gn6 = nn.GroupNorm(16, 32)\n",
    "        self.gn7 = nn.GroupNorm(8, 16)\n",
    "        self.gn8 = nn.GroupNorm(4,8)\n",
    "   \n",
    "    def forward(self, x):\n",
    "        #x = self.upsam()\n",
    "        \n",
    "        x1 = self.inc(x)\n",
    "        #x1 = self.gn1(x1)\n",
    "       \n",
    "        x2 = self.down1(x1)\n",
    "        #x2 = self.gn2(x2)\n",
    "       \n",
    "        x3 = self.down2(x2)\n",
    "        #x3 = self.gn3(x3)\n",
    "       \n",
    "        x4 = self.down3(x3)\n",
    "        #x4 = self.gn4(x4)\n",
    "       \n",
    "        x5 = self.down4(x4)\n",
    "        #x5 = self.gn\n",
    "        #x5 = torch.squeeze(x5)\n",
    "        #x5 = self.down5(x5)\n",
    "        #x5 = self.down6(x5)\n",
    "        #print('x5:',x5.shape)\n",
    "        \n",
    "        xlst = x5.reshape([4,128,1024])\n",
    "        \n",
    "\n",
    "        lstm = nn.LSTM(1024,1024,batch_first= True,bidirectional=True,num_layers=1).cuda()\n",
    "        \n",
    "        xlst = self.lsgn1(xlst)\n",
    "        ylst = lstm(xlst)\n",
    "        \n",
    "        f = np.asarray(ylst)\n",
    "        \n",
    "        h  = torch.cuda.FloatTensor(ylst[0])\n",
    "        h = torch.squeeze(h)\n",
    "        \n",
    "        encoder_o = f[0]\n",
    "        \n",
    "        a = np.zeros((4,128,1024))\n",
    "        #a = ndarray((4,128,1024))\n",
    "\n",
    "        a = torch.from_numpy(a)\n",
    "        a.cuda()\n",
    "        \n",
    "        for i in range(4):\n",
    "            oo,b = attn_decoder1.forward(xlst,h[i],encoder_o[i])\n",
    "            oo   = self.lsgn2(oo)\n",
    "            a[i] = oo\n",
    "        \n",
    "            \n",
    "        a = a.unsqueeze(0)\n",
    "        a = a.reshape([4,128,32,32])\n",
    "        \n",
    "        \n",
    "        x5 = a  \n",
    "        x5 = x5.cuda()\n",
    "        \n",
    "        \n",
    "        x5 = x5.type(torch.cuda.FloatTensor)\n",
    "        #x5 = self.lsgn3(x5)\n",
    "        \n",
    "        #x5 = self.ups4(x5)\n",
    "    \n",
    "        x = self.up1(x5, x4)\n",
    "        #x = self.gn5(x)\n",
    "        \n",
    "        x = self.up2(x, x3)\n",
    "        #x = self.gn6(x)\n",
    "       \n",
    "        x = self.up3(x, x2)\n",
    "        #x = self.gn7(x)\n",
    "       \n",
    "        x = self.up4(x, x1)\n",
    "        #x = self.gn7(x)\n",
    "\n",
    "        #x = self.downnew(x)\n",
    "        \n",
    "        #out    = self.out_softmax(logits)\n",
    "        \n",
    "        logits = self.outc(x)\n",
    "        \n",
    "        return logits\n",
    "\n",
    "class UNetDoubleSmallWithoutGN(nn.Module):\n",
    "    def __init__(self, n_channels, n_classes,bilinear=True):\n",
    "        \n",
    "        super(UNetDoubleSmallWithoutGN, self).__init__()\n",
    "        self.n_channels = n_channels\n",
    "        self.n_classes = n_classes\n",
    "        self.bilinear = bilinear\n",
    "\n",
    "        self.inc   = DoubleConv(n_channels, 16)\n",
    "        self.down1 = Down(16, 32)\n",
    "        self.down2 = Down(32, 64)\n",
    "        self.down3 = Down(64, 128)\n",
    "        factor = 2 if bilinear else 1\n",
    "        self.down4 = Down(128, 256 // factor)\n",
    "        self.down5 = Down(128,256)\n",
    "        \n",
    "        self.up1 = Up(256, 128 // factor, bilinear)\n",
    "        self.up2 = Up(128, 64 // factor, bilinear)\n",
    "        self.up3 = Up(64, 32 // factor, bilinear)\n",
    "        self.up4 = Up(32, 16, bilinear)\n",
    "        self.outc = OutConv(16, n_classes)\n",
    "        \n",
    "    def forward(self, x):\n",
    "        x1 = self.inc(x)\n",
    "       # x1 = self.gn1(x1)\n",
    "       \n",
    "        x2 = self.down1(x1)\n",
    "       # x2 = self.gn2(x2)\n",
    "       \n",
    "        x3 = self.down2(x2)\n",
    "       # x3 = self.gn3(x3)\n",
    "       \n",
    "        x4 = self.down3(x3)\n",
    "       # x4 = self.gn4(x4)\n",
    "       \n",
    "        x5 = self.down4(x4)\n",
    "        \n",
    "        #x5 = torch.squeeze(x5)\n",
    "        x5 = self.down5(x5)\n",
    "        #x5 = self.down6(x5)\n",
    "        \n",
    "        ups4     = nn.ConvTranspose2d(256 , 256 // 2, kernel_size=2, stride=2)\n",
    "        upsconv4 = DoubleConv(256,128)\n",
    "        ups4 = ups4.cuda()\n",
    "        \n",
    "        opt = ups4(x5)\n",
    "        \n",
    "        x5 = opt\n",
    "        \n",
    "        x = self.up1(x5, x4)\n",
    "        #x = self.gn5(x)\n",
    "        \n",
    "        x = self.up2(x, x3)\n",
    "       # x = self.gn6(x)\n",
    "       \n",
    "        x = self.up3(x, x2)\n",
    "        #x = self.gn7(x)\n",
    "       \n",
    "        x = self.up4(x, x1)\n",
    "        logits = self.outc(x)\n",
    "        #out    = self.out_softmax(logits)\n",
    "        return logits\n",
    "\n",
    "class AttnDecoderRNN(nn.Module):\n",
    "    def __init__(self, hidden_size, output_size, dropout_p=0.1, max_length=128, bilinear=True):\n",
    "        super(AttnDecoderRNN, self).__init__()\n",
    "        self.hidden_size = hidden_size\n",
    "        self.output_size = output_size\n",
    "        self.dropout_p   = dropout_p\n",
    "        self.max_length  = max_length\n",
    "        self.bilinear    = bilinear\n",
    "        self.n_classes   = 1\n",
    "\n",
    "        self.embedding = nn.Embedding(self.output_size, self.hidden_size)\n",
    "        self.attn      = nn.Linear(2048, 1024)\n",
    "        \n",
    "        self.attn2   = nn.Linear(1024, 128)\n",
    "        \n",
    "        self.attn_24 = nn.Linear(self.hidden_size*4, self.hidden_size*2)\n",
    "        \n",
    "        self.attn_combine = nn.Linear(self.hidden_size * 2, self.hidden_size)\n",
    "        \n",
    "        self.attn_combine_bilstm = nn.Linear(3072, 1024)\n",
    "        self.dropout = nn.Dropout(self.dropout_p)\n",
    "        self.gru     = nn.GRU(1024, 1024)\n",
    "        self.out     = nn.Linear(1024, 1024)\n",
    "       # self.hidden = nn.Parameter(torch.randn(4,256,256).cuda()),nn.Parameter(torch.randn(4,256,256).cuda())\n",
    "       \n",
    "        #self.lsgn_a = nn.GroupNorm(512,1024)\n",
    "        self.lsbn_a1 = nn.BatchNorm1d(1024)\n",
    "        #self.lsgn_a2 = nn.GroupNorm(512,1024)\n",
    "        \n",
    "        #self.lsgn_in = nn.GroupNorm(64,128)\n",
    "        self.lsbn_in1 = nn.BatchNorm1d(2048)\n",
    "        self.lsbn_in2 = nn.BatchNorm1d(1024)\n",
    "        \n",
    "        \n",
    "        self.lsbn_in3 = nn.BatchNorm1d(128)#nn.GroupNorm(64,   128)\n",
    "        self.lsbn_in4 = nn.BatchNorm1d(128)#nn.GroupNorm(64,   128)\n",
    "        self.lsbn_in5 = nn.BatchNorm1d(1024)#nn.GroupNorm(512,  1024)\n",
    "        \n",
    "        self.down5 = Down(128,256)\n",
    "        \n",
    "        factor = 2 if bilinear else 1\n",
    "                \n",
    "        self.ups4     = nn.ConvTranspose2d(256 , 256 // 2, kernel_size=2, stride=2)\n",
    "        self.upsconv4 = DoubleConv(256,128)\n",
    "\n",
    "        self.lstm = nn.LSTM(256,256,batch_first=False,bidirectional=True,num_layers=1).cuda()\n",
    "    \n",
    "    def forward(self, input,hidden,encoder_outputs):\n",
    "        \n",
    "        h        = torch.unsqueeze(hidden, 0)\n",
    "        embedded = input\n",
    "        #embedded = self.lsgn_in1(embedded)\n",
    "        embedded = self.dropout(embedded)\n",
    "        \n",
    "        hidden_bilstm = h[0]\n",
    "        hidden_bilinn = hidden_bilstm\n",
    "        \n",
    "        hidden_bilinn = self.attn(hidden_bilinn)\n",
    "        hidden_bilinn = self.lsbn_a1(hidden_bilinn)\n",
    "        \n",
    "        hidden_bi     = hidden_bilinn.unsqueeze(0)\n",
    "        \n",
    "        #print(hidden_bilinn.shape)\n",
    "        \n",
    "        attn_weights  = torch.cat((embedded[0], hidden_bilinn), 1)\n",
    "        attn_weights  = self.lsbn_in1(attn_weights)\n",
    "        \n",
    "        attn_weights  = self.attn(attn_weights)\n",
    "        attn_weights  = self.lsbn_in2(attn_weights)\n",
    "        \n",
    "        attn_weights  = F.softmax(attn_weights, dim=1)\n",
    "        \n",
    "        attn_weights  = self.attn2(attn_weights)\n",
    "        attn_weights  = self.lsbn_in3(attn_weights)\n",
    "        \n",
    "        #print(attn_weights.unsqueeze(0).shape,encoder_outputs.unsqueeze(0).shape)\n",
    "    \n",
    "        attn_applied = torch.bmm(attn_weights.unsqueeze(0), encoder_outputs.unsqueeze(0))\n",
    "        \n",
    "        #print('attn_applied: encoder outputs',attn_applied[0].shape,encoder_outputs[0].shape)\n",
    "\n",
    "        output = torch.cat((embedded[0], attn_applied[0]), 1)\n",
    "        \n",
    "        output = self.attn_combine_bilstm(output).unsqueeze(0)\n",
    "        output = F.relu(output)\n",
    "        output = self.lsbn_in4(output)\n",
    "        \n",
    "        output, hidden = self.gru(output, hidden_bi)\n",
    "        \n",
    "        output = self.out(output[0])\n",
    "        output = self.lsbn_in5(output)\n",
    "        output = F.log_softmax(output, dim=1)\n",
    "        return output, hidden\n",
    "\n",
    "\n",
    "    def initHidden(self):\n",
    "        return torch.randn(4, 256, self.hidden_size, device=device)\n",
    "\n",
    "class AttU_Net(nn.Module):\n",
    "    \"\"\"\n",
    "    Attention Unet implementation\n",
    "    Paper: https://arxiv.org/abs/1804.03999\n",
    "    \"\"\"\n",
    "    def __init__(self, img_ch=1, output_ch=1):\n",
    "        super(AttU_Net, self).__init__()\n",
    "\n",
    "        n1 = 64\n",
    "        filters = [n1, n1 * 2, n1 * 4, n1 * 8, n1 * 16]\n",
    "\n",
    "        self.Maxpool1 = nn.MaxPool2d(kernel_size=2, stride=2)\n",
    "        self.Maxpool2 = nn.MaxPool2d(kernel_size=2, stride=2)\n",
    "        self.Maxpool3 = nn.MaxPool2d(kernel_size=2, stride=2)\n",
    "        self.Maxpool4 = nn.MaxPool2d(kernel_size=2, stride=2)\n",
    "\n",
    "        self.Conv1 = conv_block(img_ch, filters[0])\n",
    "        self.Conv2 = conv_block(filters[0], filters[1])\n",
    "        self.Conv3 = conv_block(filters[1], filters[2])\n",
    "        self.Conv4 = conv_block(filters[2], filters[3])\n",
    "        self.Conv5 = conv_block(filters[3], filters[4])\n",
    "\n",
    "        self.Up5 = up_conv(filters[4], filters[3])\n",
    "        self.Att5 = Attention_block(F_g=filters[3], F_l=filters[3], F_int=filters[2])\n",
    "        self.Up_conv5 = conv_block(filters[4], filters[3])\n",
    "\n",
    "        self.Up4 = up_conv(filters[3], filters[2])\n",
    "        self.Att4 = Attention_block(F_g=filters[2], F_l=filters[2], F_int=filters[1])\n",
    "        self.Up_conv4 = conv_block(filters[3], filters[2])\n",
    "\n",
    "        self.Up3 = up_conv(filters[2], filters[1])\n",
    "        self.Att3 = Attention_block(F_g=filters[1], F_l=filters[1], F_int=filters[0])\n",
    "        self.Up_conv3 = conv_block(filters[2], filters[1])\n",
    "\n",
    "        self.Up2 = up_conv(filters[1], filters[0])\n",
    "        self.Att2 = Attention_block(F_g=filters[0], F_l=filters[0], F_int=32)\n",
    "        self.Up_conv2 = conv_block(filters[1], filters[0])\n",
    "\n",
    "        self.Conv = nn.Conv2d(filters[0], output_ch, kernel_size=1, stride=1, padding=0)\n",
    "\n",
    "        #self.active = torch.nn.Sigmoid()\n",
    "\n",
    "\n",
    "    def forward(self, x):\n",
    "\n",
    "        e1 = self.Conv1(x)\n",
    "\n",
    "        e2 = self.Maxpool1(e1)\n",
    "        e2 = self.Conv2(e2)\n",
    "\n",
    "        e3 = self.Maxpool2(e2)\n",
    "        e3 = self.Conv3(e3)\n",
    "\n",
    "        e4 = self.Maxpool3(e3)\n",
    "        e4 = self.Conv4(e4)\n",
    "\n",
    "        e5 = self.Maxpool4(e4)\n",
    "        e5 = self.Conv5(e5)\n",
    "\n",
    "        #print(x5.shape)\n",
    "        d5 = self.Up5(e5)\n",
    "        #print(d5.shape)\n",
    "        x4 = self.Att5(g=d5, x=e4)\n",
    "        d5 = torch.cat((x4, d5), dim=1)\n",
    "        d5 = self.Up_conv5(d5)\n",
    "\n",
    "        d4 = self.Up4(d5)\n",
    "        x3 = self.Att4(g=d4, x=e3)\n",
    "        d4 = torch.cat((x3, d4), dim=1)\n",
    "        d4 = self.Up_conv4(d4)\n",
    "\n",
    "        d3 = self.Up3(d4)\n",
    "        x2 = self.Att3(g=d3, x=e2)\n",
    "        d3 = torch.cat((x2, d3), dim=1)\n",
    "        d3 = self.Up_conv3(d3)\n",
    "\n",
    "        d2 = self.Up2(d3)\n",
    "        x1 = self.Att2(g=d2, x=e1)\n",
    "        d2 = torch.cat((x1, d2), dim=1)\n",
    "        d2 = self.Up_conv2(d2)\n",
    "\n",
    "        out = self.Conv(d2)\n",
    "\n",
    "      #  out = self.active(out)\n",
    "\n",
    "        return out\n",
    "    \n",
    "class UNetNormal(nn.Module):\n",
    "    def __init__(self, n_channels, n_classes, bilinear=True):\n",
    "        super(UNetNormal, self).__init__()\n",
    "        self.n_channels = n_channels\n",
    "        self.n_classes = n_classes\n",
    "        self.bilinear = bilinear\n",
    "        \n",
    "        my_factor = 1\n",
    "        factor    = 1\n",
    "        \n",
    "        self.inc   = DoubleConv(n_channels, 32*my_factor)\n",
    "        self.down1 = Down(32*my_factor, 64*my_factor)\n",
    "        self.down2 = Down(64*my_factor, 128*my_factor)\n",
    "        self.down3 = Down(128*my_factor, 256*my_factor)\n",
    "        factor = 2 if bilinear else 1\n",
    "        self.down4 = Down(256*my_factor, 512*my_factor // factor)\n",
    "        \n",
    "        self.lsgn1 = nn.GroupNorm(256,512)\n",
    "        self.lsgn2 = nn.GroupNorm(512,1024)\n",
    "        \n",
    "        self.up1 = Up(512*my_factor, 256*my_factor // factor, bilinear)\n",
    "        self.up2 = Up(256*my_factor, 128*my_factor // factor, bilinear)\n",
    "        self.up3 = Up(128*my_factor, 64*my_factor // factor, bilinear)\n",
    "        self.up4 = Up(64*my_factor, 32*my_factor, bilinear)\n",
    "        self.outc = OutConv(32*my_factor, n_classes)\n",
    "        #self.out_sigmoid = nn.Sigmoid()\n",
    "        #self.out_softmax = nn.LogSoftmax(dim=1)\n",
    "       \n",
    "    def forward(self, x):\n",
    "        x1 = self.inc(x)\n",
    "        x2 = self.down1(x1)\n",
    "        x3 = self.down2(x2)\n",
    "        x4 = self.down3(x3)\n",
    "        x5 = self.down4(x4)\n",
    "        \n",
    "        \n",
    "        x = self.up1(x5, x4)\n",
    "        x = self.up2(x, x3)\n",
    "        x = self.up3(x, x2)\n",
    "        x = self.up4(x, x1)\n",
    "        logits = self.outc(x)\n",
    "        #out    = self.out_softmax(logits)\n",
    "        return logits\n",
    "\n",
    "#model = SUNet_3D(1, 1)\n",
    "#model.cuda()"
   ]
  },
  {
   "cell_type": "code",
   "execution_count": null,
   "metadata": {
    "code_folding": [
     0
    ],
    "scrolled": true
   },
   "outputs": [],
   "source": [
    "# [STAR] Read all the slices in training set without augmentation\n",
    "\n",
    "basepath = '/home/drilnvm/DBTex/'\n",
    "df = read_boxes(boxes_fp=basepath+\"BCS-DBT-boxes-train.csv\", filepaths_fp=basepath+\"BCS-DBT-file-paths-train.csv\")\n",
    "\n",
    "\n",
    "trainx = []\n",
    "trainy = []\n",
    "boximage  = []\n",
    "coordx =  []\n",
    "coordy = []\n",
    "\n",
    "width_arr = []\n",
    "height_arr = []\n",
    "\n",
    "for i in tqdm(range(224)):\n",
    "    box_series  = df.iloc[i]\n",
    "    view        = box_series[\"View\"]\n",
    "    slice_index = box_series[\"Slice\"]\n",
    "    image_path  = os.path.join(basepath, box_series[\"descriptive_path\"])\n",
    "    image       = dcmread_image(fp=image_path, view=view, index=slice_index-1)\n",
    "    \n",
    "    #trainx.append(image[slice_index-1:slice_index+1])\n",
    "    #trainx.append(image[slice_index])\n",
    "    trainx.append(image)\n",
    "    trainy.append(box_series[\"Class\"])\n",
    "    #image = image[slice_index]\n",
    "    \n",
    "    x, y, width, height = box_series[[\"X\", \"Y\", \"Width\", \"Height\"]]\n",
    "    #image               = draw_box(image=image, x=x, y=y, width=width, height=height, lw=10)\n",
    "    #boximage.append(image)\n",
    "    coordx.append(x)\n",
    "    coordy.append(y)\n",
    "    width_arr.append(width)\n",
    "    height_arr.append(height)\n",
    "\n",
    "print(len(trainx), len(trainy), len(boximage))\n",
    "\n",
    "# mx = 0\n",
    "# my = 0\n",
    "# for i in range(len(trainx)):\n",
    "#     if trainx[i].shape[0] > mx:\n",
    "#         mx = trainx[i].shape[0]\n",
    "#     if trainx[i].shape[1] > my:\n",
    "#         my = trainx[i].shape[1]\n",
    "# print(mx, my)\n",
    "\n",
    "if(1):\n",
    "    np.save('coordx.npy', coordx)\n",
    "    np.save('coordy.npy', coordy)\n",
    "\n",
    "    newtrainx  = np.zeros([len(trainx), 1, 3000, 2000], 'float16')\n",
    "    newtrainy  = np.zeros([len(trainx), 1], 'float16')\n",
    "    for i in range(len(trainx)):\n",
    "        newtrainx[i, 0, :trainx[i].shape[0], :trainx[i].shape[1]] = trainx[i]\n",
    "        if trainy[i] == 'benign':\n",
    "            newtrainy[i, 0] = 0\n",
    "        else:\n",
    "            newtrainy[i, 0] = 1\n",
    "\n",
    "    np.save('trainx.npy', newtrainx)\n",
    "    np.save('trainy.npy', newtrainy)"
   ]
  },
  {
   "cell_type": "code",
   "execution_count": 56,
   "metadata": {
    "code_folding": [
     2,
     63,
     121,
     210,
     216,
     221
    ]
   },
   "outputs": [],
   "source": [
    "# [STAR] DBT classes for data loader\n",
    "\n",
    "class DBTDataset(torch.utils.data.Dataset):\n",
    "    def __init__(self, train_set = 1, transforms = None):\n",
    "        super().__init__()\n",
    "        \n",
    "        suffix_str  = ''#random.choice(['_m2', '_m1', '_p1', '_p2', ''])\n",
    "        print('READING NEW FILE >> ', suffix_str, ' <<')\n",
    "        \n",
    "        #shuffle_index = np.arange(224)\n",
    "        #np.random.shuffle(shuffle_index)\n",
    "        #np.save('shuffle_array.npy', shuffle_index)\n",
    "        #shuffle_index = np.load('shuffle_array.npy')\n",
    "        \n",
    "        trainx = np.load('trainx'+suffix_str+'.npy')\n",
    "        trainy = np.load('trainy'+suffix_str+'.npy')\n",
    "        coordx = np.load('coordx'+suffix_str+'.npy')\n",
    "        coordy = np.load('coordy'+suffix_str+'.npy')\n",
    "        width_arr  = np.load('width_arr'+suffix_str+'.npy')\n",
    "        height_arr = np.load('height_arr'+suffix_str+'.npy')\n",
    "        \n",
    "        #trainx = trainx[shuffle_index]\n",
    "        #trainy = trainy[shuffle_index]\n",
    "        #coordx = coordx[shuffle_index]\n",
    "        #coordy = coordy[shuffle_index]\n",
    "        #width_arr  = width_arr[shuffle_index]\n",
    "        #height_arr = height_arr[shuffle_index]\n",
    "        \n",
    "        self.counter = 0\n",
    "        if train_set == 1:\n",
    "            self.train_start  = 0\n",
    "            self.train_end    = 175\n",
    "        else:\n",
    "            self.train_start  = 175\n",
    "            self.train_end    = 220\n",
    "        \n",
    "        self.train_set = train_set\n",
    "        #t1 = np.load('trainx_m1.npy')[self.train_start:self.train_end]\n",
    "        #t2 = np.load('trainx.npy')[self.train_start:self.train_end]\n",
    "        #t3 = np.load('trainx_p1.npy')[self.train_start:self.train_end]\n",
    "        #self.trainx  =  np.concatenate([t2, t1, t3], axis=1)\n",
    "        \n",
    "        self.trainx = trainx[self.train_start:self.train_end]#.astype('float16')/60000.0\n",
    "        self.trainy = trainy[self.train_start:self.train_end]\n",
    "        self.coordx = coordx[self.train_start:self.train_end]\n",
    "        self.coordy = coordy[self.train_start:self.train_end]\n",
    "        self.width_arr  = width_arr[self.train_start:self.train_end]\n",
    "        self.height_arr = height_arr[self.train_start:self.train_end]\n",
    "        \n",
    "        print('Total size of dataset ', len(np.load('width_arr'+suffix_str+'.npy')))\n",
    "#         self.trainx = np.load('/media/yu-hao/WindowsData/DBT_numpy/trainx.npy')[self.train_start:self.train_end]#.astype('float16')/60000.0\n",
    "#         self.trainy = np.load('/media/yu-hao/WindowsData/DBT_numpy/trainy.npy')[self.train_start:self.train_end]\n",
    "#         self.coordx = np.load('/media/yu-hao/WindowsData/DBT_numpy/coordx.npy')[self.train_start:self.train_end]\n",
    "#         self.coordy = np.load('/media/yu-hao/WindowsData/DBT_numpy/coordy.npy')[self.train_start:self.train_end]\n",
    "#         self.width_arr  = np.load('/media/yu-hao/WindowsData/DBT_numpy/width_arr.npy')[self.train_start:self.train_end]\n",
    "#         self.height_arr = np.load('/media/yu-hao/WindowsData/DBT_numpy/height_arr.npy')[self.train_start:self.train_end]\n",
    "        \n",
    "        self.transforms1 = A.Compose(\n",
    "                                    [A.HorizontalFlip(p=0.5),  A.VerticalFlip(p=0.5), ],\n",
    "                                     #A.Downscale(scale_min=0.95, scale_max=0.98, p=0.25, interpolation=3),],\n",
    "                                    bbox_params=A.BboxParams(format='pascal_voc', label_fields=['labels']),\n",
    "                                   )\n",
    "        \n",
    "    def __getitem__(self, idx):\n",
    "        self.counter = self.counter+1\n",
    "        #if self.counter % 10 == 0:\n",
    "        #    print('Counter is ', self.counter)\n",
    "        \n",
    "#         if self.train_set == 1 and self.counter % 150 == 0 and random.random() < 0.2:\n",
    "#             suffix_str  = random.choice([ '_m1', '_p1', ''])\n",
    "#             print('READING NEW FILE >> ', suffix_str, ' <<')\n",
    "#             self.trainx = np.load('/media/yu-hao/WindowsData/DBT_numpy/trainx'+suffix_str+'.npy')[self.train_start:self.train_end]#.astype('float16')/60000.0\n",
    "#             self.trainy = np.load('/media/yu-hao/WindowsData/DBT_numpy/trainy'+suffix_str+'.npy')[self.train_start:self.train_end]\n",
    "#             self.coordx = np.load('/media/yu-hao/WindowsData/DBT_numpy/coordx'+suffix_str+'.npy')[self.train_start:self.train_end]\n",
    "#             self.coordy = np.load('/media/yu-hao/WindowsData/DBT_numpy/coordy'+suffix_str+'.npy')[self.train_start:self.train_end]\n",
    "#             self.width_arr  = np.load('/media/yu-hao/WindowsData/DBT_numpy/width_arr'+suffix_str+'.npy')[self.train_start:self.train_end]\n",
    "#             self.height_arr = np.load('/media/yu-hao/WindowsData/DBT_numpy/height_arr'+suffix_str+'.npy')[self.train_start:self.train_end]\n",
    "                \n",
    "        #img = self.trainx[idx].astype('float32')/60000.0\n",
    "        img = self.trainx[idx, 0].astype('float32')/60000.0\n",
    "        img[img > 1] = 1\n",
    "        img = ndimage.interpolation.zoom(img, 0.25)\n",
    "        img = np.expand_dims(img, 0)\n",
    "        img = np.concatenate([img, img, img], axis=0)\n",
    "        \n",
    "        if(self.train_set == 1):\n",
    "            img = np.moveaxis(img, 0, -1)\n",
    "        \n",
    "        boxes = np.array([self.coordx[idx]/4, self.coordy[idx]/4, self.width_arr[idx]/4, self.height_arr[idx]/4])#records[['x', 'y', 'w', 'h']].values\n",
    "        boxes = np.expand_dims(boxes, axis=0)\n",
    "        boxes[:, 2] = boxes[:, 0]+boxes[:, 2]\n",
    "        boxes[:, 3] = boxes[:, 1]+boxes[:, 3]\n",
    "        \n",
    "        area = self.width_arr[idx] * self.height_arr[idx]\n",
    "        area = torch.Tensor(area)\n",
    "        \n",
    "        # there is only one class\n",
    "        labels =  torch.ones((1,)).type(torch.int64)\n",
    "        \n",
    "        if(self.train_set == 1):\n",
    "        #if(0):\n",
    "            transformed = self.transforms1(image=img, bboxes=boxes, labels=labels)\n",
    "            image    = transformed['image']\n",
    "            boxes    = np.array(transformed['bboxes'])\n",
    "            img      = np.moveaxis(image, 2, 0)\n",
    "        \n",
    "        # suppose all instances are not crowd\n",
    "        iscrowd = torch.Tensor(np.array([0])).type(torch.int64)\n",
    "        \n",
    "        target              = {}\n",
    "        target['boxes']     = torch.Tensor(boxes)\n",
    "        target['labels']    = labels\n",
    "        target['image_id']  = torch.tensor([idx])\n",
    "        target['area']      = area\n",
    "        target['iscrowd']   = iscrowd\n",
    "        \n",
    "        return img, target, idx\n",
    "    \n",
    "    def __len__(self):\n",
    "        return self.trainx.shape[0]\n",
    "\n",
    "class DBTDatasetValidation(torch.utils.data.Dataset):\n",
    "    def __init__(self, val_index = 0, transforms = None):\n",
    "        super().__init__()\n",
    "        \n",
    "        self.basepath  = '/home/drilnvm/DBTex/'\n",
    "        self.counter   = 0\n",
    "        self.val_index = val_index\n",
    "        self.df        = pd.read_csv('/home/drilnvm/DBTex/BCS-DBT-file-paths-train.csv')\n",
    "        #self.df        = pd.read_csv('/home/drilnvm/DBTex/BCS-DBT-file-paths-validation.csv')\n",
    "        \n",
    "        box_series       = self.df.iloc[self.val_index]\n",
    "        self.PatientID   = box_series[\"PatientID\"]\n",
    "        self.StudyUID    = box_series[\"StudyUID\"]\n",
    "        self.view        = box_series[\"View\"]\n",
    "        \n",
    "        image_path      = os.path.join(self.basepath, box_series[\"descriptive_path\"])\n",
    "        self.vol        = dcmread_image(fp=image_path, view=self.view)\n",
    "        self.newtrainx  = np.zeros([len(self.vol), 1, 3000, 2000], 'float16')\n",
    "        for i in range(len(self.vol)):\n",
    "            self.newtrainx[i, 0, :self.vol[i].shape[0], :self.vol[i].shape[1]] = self.vol[i]\n",
    "        \n",
    "        print('File reading done ', self.vol.shape, image_path)\n",
    "        #print()\n",
    "        \n",
    "    def __getitem__(self, idx):\n",
    "        \n",
    "        img          = self.newtrainx[idx, 0].astype('float32')/60000.0\n",
    "        img[img > 1] = 1\n",
    "        img = ndimage.interpolation.zoom(img, 0.25)\n",
    "        img = np.expand_dims(img, 0)\n",
    "        img = np.concatenate([img, img, img], axis=0)\n",
    "        \n",
    "        target              = {}\n",
    "        target['image_id']  = torch.tensor([idx])\n",
    "        \n",
    "        return img, target, idx\n",
    "    \n",
    "    def __len__(self):\n",
    "        return self.vol.shape[0]\n",
    "\n",
    "class DBTDatasetValidationTrain(torch.utils.data.Dataset):\n",
    "    def __init__(self, val_index = 0, transforms = None):\n",
    "        super().__init__()\n",
    "        \n",
    "        self.basepath  = '/home/drilnvm/DBTex/'\n",
    "        self.counter   = 0\n",
    "        self.val_index = val_index\n",
    "        #self.df        = pd.read_csv('/home/drilnvm/DBTex/BCS-DBT-boxes-validation.csv')\n",
    "        #self.df        = pd.read_csv('/home/drilnvm/DBTex/BCS-DBT-boxes-train.csv')\n",
    "        self.df        = pd.read_csv('/home/drilnvm/DBTex/BCS-DBT-file-paths-validation.csv')\n",
    "        \n",
    "        box_series       = self.df.iloc[self.val_index]\n",
    "        self.PatientID   = box_series[\"PatientID\"]\n",
    "        self.StudyUID    = box_series[\"StudyUID\"]\n",
    "        self.view        = box_series[\"View\"]\n",
    "        if(0):\n",
    "            self.slice_index = box_series[\"Slice\"]\n",
    "            self.X           = box_series[\"X\"]\n",
    "            self.Y           = box_series[\"Y\"]\n",
    "            self.Width       = box_series[\"Width\"]\n",
    "            self.Height      = box_series[\"Height\"]\n",
    "        #Slice,X,Y,Width,Height\n",
    "        \n",
    "        #image_path      = os.path.join(self.basepath, box_series[\"descriptive_path\"])\n",
    "        self.vol = np.load('/media/drilnvm/ubuntudata2/DBTEx_numpy/'+self.PatientID+'_'+self.StudyUID+'_'+self.view+'.npy')\n",
    "        #self.vol        = np.load('/media/drilnvm/ubuntudata2/DBTEx_numpy1/val_vol_'+str(val_index)+'.npy')#dcmread_image(fp=image_path, view=self.view)\n",
    "        self.newtrainx  = np.expand_dims(self.vol, 1)#np.zeros([len(self.vol), 1, 750, 500], 'float16')\n",
    "        #for i in range(len(self.vol)):\n",
    "        #    self.newtrainx[i, 0, :self.vol[i].shape[0], :self.vol[i].shape[1]] = self.vol[i]\n",
    "        print('File reading done ',            self.vol.shape)\n",
    "        #print('Inside DBTDatasetValidationTrain ', box_series)\n",
    "        \n",
    "        #print(box_series[\"descriptive_path\"])\n",
    "        \n",
    "    def __getitem__(self, idx):\n",
    "        img          = self.newtrainx[idx, 0].astype('float32')#/60000.0\n",
    "        img[img > 1] = 1\n",
    "        #img = ndimage.interpolation.zoom(img, 0.25)\n",
    "        img = np.expand_dims(img, 0)\n",
    "        img = np.concatenate([img, img, img], axis=0)\n",
    "        \n",
    "        target              = {}\n",
    "        #if idx == self.slice_index:\n",
    "        #    target['boxes']  = torch.tensor([self.X, self.Y, self.X+self.Width, self.Y+self.Height])\n",
    "        \n",
    "        return img, target, idx\n",
    "    \n",
    "    def __len__(self):\n",
    "        return self.vol.shape[0]\n",
    "\n",
    "def get_train_transform():\n",
    "    return A.Compose([\n",
    "        A.Flip(0.5),\n",
    "        ToTensorV2(p=1.0)\n",
    "    ], bbox_params={'format': 'pascal_voc', 'label_fields': ['labels']})\n",
    "\n",
    "def get_valid_transform():\n",
    "    return A.Compose([\n",
    "        ToTensorV2(p=1.0)\n",
    "    ], bbox_params={'format': 'pascal_voc', 'label_fields': ['labels']})\n",
    "\n",
    "class Averager:\n",
    "    def __init__(self):\n",
    "        self.current_total = 0.0\n",
    "        self.iterations = 0.0\n",
    "\n",
    "    def send(self, value):\n",
    "        self.current_total += value\n",
    "        self.iterations += 1\n",
    "\n",
    "    @property\n",
    "    def value(self):\n",
    "        if self.iterations == 0:\n",
    "            return 0\n",
    "        else:\n",
    "            return 1.0 * self.current_total / self.iterations\n",
    "\n",
    "    def reset(self):\n",
    "        self.current_total = 0.0\n",
    "        self.iterations = 0.0"
   ]
  },
  {
   "cell_type": "code",
   "execution_count": 41,
   "metadata": {
    "code_folding": [
     0
    ]
   },
   "outputs": [
    {
     "name": "stdout",
     "output_type": "stream",
     "text": [
      "READING NEW FILE >>    <<\n",
      "Total size of dataset  224\n",
      "READING NEW FILE >>    <<\n",
      "Total size of dataset  224\n"
     ]
    }
   ],
   "source": [
    "# [STAR] DBT Dataset and Model Creation\n",
    "\n",
    "def collate_fn(batch):\n",
    "    return tuple(zip(*batch))\n",
    "\n",
    "train_dataset     = DBTDataset(train_set=1)\n",
    "valid_dataset     = DBTDataset(train_set=0)\n",
    "\n",
    "train_data_loader = DataLoader(\n",
    "    train_dataset,\n",
    "    batch_size=4,\n",
    "    shuffle=True,\n",
    "    num_workers=1, collate_fn=collate_fn\n",
    ")\n",
    "\n",
    "valid_data_loader = DataLoader(\n",
    "    valid_dataset,\n",
    "    batch_size=1,\n",
    "    shuffle=False,\n",
    "    num_workers=1, collate_fn=collate_fn\n",
    ")\n",
    "\n",
    "device = torch.device('cuda') if torch.cuda.is_available() else torch.device('cpu')\n",
    "\n",
    "num_classes = 2\n",
    "model       = torchvision.models.detection.fasterrcnn_resnet50_fpn(pretrained=True)\n",
    "#model       = torchvision.models.detection.retinanet_resnet50_fpn(pretrained=True)\n",
    "\n",
    "# get number of input features for the classifier\n",
    "in_features = model.roi_heads.box_predictor.cls_score.in_features\n",
    "\n",
    "# replace the pre-trained head with a new one\n",
    "model.roi_heads.box_predictor = FastRCNNPredictor(in_features, num_classes)\n",
    "\n",
    "model.to(device)\n",
    "params       = [p for p in model.parameters() if p.requires_grad]\n",
    "optimizer    = torch.optim.Adam(params, lr=0.0001, weight_decay=0.0001)\n",
    "lr_scheduler = None"
   ]
  },
  {
   "cell_type": "code",
   "execution_count": 42,
   "metadata": {
    "code_folding": [
     7,
     13
    ],
    "scrolled": true
   },
   "outputs": [
    {
     "name": "stdout",
     "output_type": "stream",
     "text": [
      "Epoch #0 Train loss: 0.24805516038428654\n",
      "Epoch #0 Val   loss: 0.20107608354753917\n",
      "Saving the model  1000 0.20107608354753917\n",
      "Epoch #1 Train loss: 0.19063299995931712\n",
      "Epoch #1 Val   loss: 0.1944615145524343\n",
      "Saving the model  0.20107608354753917 0.1944615145524343\n",
      "Epoch #2 Train loss: 0.17734958468513054\n",
      "Epoch #2 Val   loss: 0.18896096445344113\n",
      "Saving the model  0.1944615145524343 0.18896096445344113\n",
      "Epoch #3 Train loss: 0.16284725290130486\n",
      "Epoch #3 Val   loss: 0.18728316101349063\n",
      "Saving the model  0.18896096445344113 0.18728316101349063\n"
     ]
    }
   ],
   "source": [
    "# [STAR] Training loop for DBT dataset\n",
    "\n",
    "loss_hist     = Averager()\n",
    "val_loss_hist = Averager()\n",
    "\n",
    "prev_min   = 1000\n",
    "num_epochs = 10\n",
    "for epoch in range(num_epochs):\n",
    "    loss_hist.reset()\n",
    "    loss_hist.reset()\n",
    "    \n",
    "    model.train()\n",
    "    itr = 1\n",
    "    for images, targets, image_ids in train_data_loader:\n",
    "        new_images  = []\n",
    "        for img in images:\n",
    "            new_images.append(torch.Tensor(img).to(device))\n",
    "        \n",
    "        images    = new_images\n",
    "        targets   = [{k: v.to(device) for k, v in t.items()} for t in targets]\n",
    "        loss_dict = model(images, targets)\n",
    "\n",
    "        losses     = sum(loss for loss in loss_dict.values())\n",
    "        loss_value = losses.item()\n",
    "\n",
    "        loss_hist.send(loss_value)\n",
    "\n",
    "        optimizer.zero_grad()\n",
    "        losses.backward()\n",
    "        optimizer.step()\n",
    "\n",
    "        #if itr % 50 == 0:\n",
    "        #    print(f\"Iteration #{itr} loss: {loss_value}\")\n",
    "\n",
    "        itr += 1\n",
    "    \n",
    "    with torch.no_grad():\n",
    "        for images, targets, image_ids in valid_data_loader:\n",
    "            new_images  = []\n",
    "            for img in images:\n",
    "                new_images.append(torch.Tensor(img).to(device))\n",
    "\n",
    "            images    = new_images\n",
    "            targets   = [{k: v.to(device) for k, v in t.items()} for t in targets]\n",
    "            loss_dict = model(images, targets)\n",
    "            #print(loss_dict)\n",
    "\n",
    "            losses     = sum(loss for loss in loss_dict.values())\n",
    "            loss_value = losses.item()\n",
    "            val_loss_hist.send(loss_value)\n",
    "\n",
    "            #if itr % 50 == 0:\n",
    "            #    print(f\"Validation Iteration #{itr} loss: {loss_value}\")\n",
    "            itr = itr+1\n",
    "    \n",
    "    # update the learning rate\n",
    "    if lr_scheduler is not None:\n",
    "        lr_scheduler.step()\n",
    "    \n",
    "    if val_loss_hist.value < prev_min:\n",
    "        print(f\"Epoch #{epoch} Train loss: {loss_hist.value}\")\n",
    "        print(f\"Epoch #{epoch} Val   loss: {val_loss_hist.value}\")\n",
    "        print('Saving the model ', prev_min, val_loss_hist.value)\n",
    "        torch.save(model.state_dict(), 'fasterrcnn_resnet50_dbt25.pth')\n",
    "        prev_min = val_loss_hist.value"
   ]
  },
  {
   "cell_type": "code",
   "execution_count": 43,
   "metadata": {
    "code_folding": [
     0
    ],
    "scrolled": true
   },
   "outputs": [
    {
     "name": "stdout",
     "output_type": "stream",
     "text": [
      "Validation Iteration #10 loss: 0.15957418084144592\n",
      "Validation Iteration #20 loss: 0.2850976288318634\n",
      "Validation Iteration #30 loss: 0.21906031668186188\n",
      "Validation Iteration #40 loss: 0.2091214954853058\n",
      "0.18152466780609555\n"
     ]
    }
   ],
   "source": [
    "# [STAR] For printing the loss of the trained model\n",
    "\n",
    "# fasterrcnn_resnet50_dbt7.pth  0.24080992616713048\n",
    "# fasterrcnn_resnet50_dbt8.pth  0.1653416310250759\n",
    "# fasterrcnn_resnet50_dbt9.pth  0.17630461007356643\n",
    "# fasterrcnn_resnet50_dbt10.pth 0.17438715264201166\n",
    "# fasterrcnn_resnet50_dbt11.pth 0.16590506657958032\n",
    "# fasterrcnn_resnet50_dbt14.pth 0.1608045955002308\n",
    "# fasterrcnn_resnet50_dbt21.pth 0.15965028703212739\n",
    "# fasterrcnn_resnet50_dbt15.pth (3 adjacent channel)\n",
    "\n",
    "all_target    = []\n",
    "all_scores    = []\n",
    "val_loss_hist = Averager()\n",
    "itr = 1\n",
    "\n",
    "#device = torch.device(\"cpu\")\n",
    "#model.to(device)\n",
    "model.load_state_dict(torch.load('fasterrcnn_resnet50_dbt25.pth'))\n",
    "model.train()\n",
    "\n",
    "with torch.no_grad():\n",
    "    for images, targets, image_ids in valid_data_loader:\n",
    "        new_images  = []\n",
    "        for img in images:\n",
    "            new_images.append(torch.Tensor(img).to(device))\n",
    "\n",
    "        images    = new_images\n",
    "        targets   = [{k: v.to(device) for k, v in t.items()} for t in targets]\n",
    "        loss_dict = model(images, targets)\n",
    "        #print(loss_dict)\n",
    "\n",
    "        losses     = sum(loss for loss in loss_dict.values())\n",
    "        loss_value = losses.item()\n",
    "        val_loss_hist.send(loss_value)\n",
    "\n",
    "        if itr % 10 == 0:\n",
    "            print(f\"Validation Iteration #{itr} loss: {loss_value}\")\n",
    "        itr = itr+1\n",
    "\n",
    "print(val_loss_hist.value)"
   ]
  },
  {
   "cell_type": "code",
   "execution_count": 57,
   "metadata": {
    "code_folding": [],
    "scrolled": true
   },
   "outputs": [
    {
     "name": "stderr",
     "output_type": "stream",
     "text": [
      "\r",
      "  0%|          | 0/395 [00:00<?, ?it/s]"
     ]
    },
    {
     "name": "stdout",
     "output_type": "stream",
     "text": [
      "Processing  0 DBT-P00002 DBT-S03345 lcc\n",
      "File reading done  (71, 750, 500)\n"
     ]
    },
    {
     "name": "stderr",
     "output_type": "stream",
     "text": [
      "\r",
      "  0%|          | 1/395 [00:04<30:58,  4.72s/it]"
     ]
    },
    {
     "name": "stdout",
     "output_type": "stream",
     "text": [
      "Processing  1 DBT-P00002 DBT-S03345 lmlo\n",
      "File reading done  (65, 750, 500)\n"
     ]
    },
    {
     "name": "stderr",
     "output_type": "stream",
     "text": [
      "\r",
      "  1%|          | 2/395 [00:08<29:40,  4.53s/it]"
     ]
    },
    {
     "name": "stdout",
     "output_type": "stream",
     "text": [
      "Processing  2 DBT-P00002 DBT-S03345 rcc\n",
      "File reading done  (68, 750, 500)\n"
     ]
    },
    {
     "name": "stderr",
     "output_type": "stream",
     "text": [
      "\r",
      "  1%|          | 3/395 [00:13<29:08,  4.46s/it]"
     ]
    },
    {
     "name": "stdout",
     "output_type": "stream",
     "text": [
      "Processing  3 DBT-P00002 DBT-S03345 rmlo\n",
      "File reading done  (61, 750, 500)\n"
     ]
    },
    {
     "name": "stderr",
     "output_type": "stream",
     "text": [
      "\r",
      "  1%|          | 4/395 [00:16<27:55,  4.29s/it]"
     ]
    },
    {
     "name": "stdout",
     "output_type": "stream",
     "text": [
      "Processing  4 DBT-P00114 DBT-S03767 rmlo\n",
      "File reading done  (64, 750, 500)\n"
     ]
    },
    {
     "name": "stderr",
     "output_type": "stream",
     "text": [
      "\r",
      "  1%|▏         | 5/395 [00:21<27:23,  4.21s/it]"
     ]
    },
    {
     "name": "stdout",
     "output_type": "stream",
     "text": [
      "Processing  5 DBT-P00160 DBT-S00785 lcc\n",
      "File reading done  (69, 750, 500)\n"
     ]
    },
    {
     "name": "stderr",
     "output_type": "stream",
     "text": [
      "\r",
      "  2%|▏         | 6/395 [00:25<27:38,  4.26s/it]"
     ]
    },
    {
     "name": "stdout",
     "output_type": "stream",
     "text": [
      "Processing  6 DBT-P00160 DBT-S00785 lmlo\n",
      "File reading done  (65, 750, 500)\n"
     ]
    },
    {
     "name": "stderr",
     "output_type": "stream",
     "text": [
      "\r",
      "  2%|▏         | 7/395 [00:29<27:21,  4.23s/it]"
     ]
    },
    {
     "name": "stdout",
     "output_type": "stream",
     "text": [
      "Processing  7 DBT-P00176 DBT-S02289 lcc\n",
      "File reading done  (73, 750, 500)\n"
     ]
    },
    {
     "name": "stderr",
     "output_type": "stream",
     "text": [
      "\r",
      "  2%|▏         | 8/395 [00:34<28:01,  4.35s/it]"
     ]
    },
    {
     "name": "stdout",
     "output_type": "stream",
     "text": [
      "Processing  8 DBT-P00176 DBT-S02289 lmlo\n",
      "File reading done  (73, 750, 500)\n"
     ]
    },
    {
     "name": "stderr",
     "output_type": "stream",
     "text": [
      "\r",
      "  2%|▏         | 9/395 [00:38<28:35,  4.44s/it]"
     ]
    },
    {
     "name": "stdout",
     "output_type": "stream",
     "text": [
      "Processing  9 DBT-P00176 DBT-S02289 rcc\n",
      "File reading done  (76, 750, 500)\n"
     ]
    },
    {
     "name": "stderr",
     "output_type": "stream",
     "text": [
      "\r",
      "  3%|▎         | 10/395 [00:43<29:11,  4.55s/it]"
     ]
    },
    {
     "name": "stdout",
     "output_type": "stream",
     "text": [
      "Processing  10 DBT-P00176 DBT-S02289 rmlo\n",
      "File reading done  (74, 750, 500)\n"
     ]
    },
    {
     "name": "stderr",
     "output_type": "stream",
     "text": [
      "\r",
      "  3%|▎         | 11/395 [00:48<29:26,  4.60s/it]"
     ]
    },
    {
     "name": "stdout",
     "output_type": "stream",
     "text": [
      "Processing  11 DBT-P00213 DBT-S01181 lcc\n",
      "File reading done  (67, 750, 500)\n"
     ]
    },
    {
     "name": "stderr",
     "output_type": "stream",
     "text": [
      "\r",
      "  3%|▎         | 12/395 [00:52<28:46,  4.51s/it]"
     ]
    },
    {
     "name": "stdout",
     "output_type": "stream",
     "text": [
      "Processing  12 DBT-P00213 DBT-S01181 lmlo\n",
      "File reading done  (81, 750, 500)\n"
     ]
    },
    {
     "name": "stderr",
     "output_type": "stream",
     "text": [
      "\r",
      "  3%|▎         | 13/395 [00:57<29:54,  4.70s/it]"
     ]
    },
    {
     "name": "stdout",
     "output_type": "stream",
     "text": [
      "Processing  13 DBT-P00238 DBT-S04801 lcc\n",
      "File reading done  (61, 750, 500)\n"
     ]
    },
    {
     "name": "stderr",
     "output_type": "stream",
     "text": [
      "\r",
      "  4%|▎         | 14/395 [01:01<28:27,  4.48s/it]"
     ]
    },
    {
     "name": "stdout",
     "output_type": "stream",
     "text": [
      "Processing  14 DBT-P00238 DBT-S04801 lmlo\n",
      "File reading done  (67, 750, 500)\n"
     ]
    },
    {
     "name": "stderr",
     "output_type": "stream",
     "text": [
      "\r",
      "  4%|▍         | 15/395 [01:06<27:59,  4.42s/it]"
     ]
    },
    {
     "name": "stdout",
     "output_type": "stream",
     "text": [
      "Processing  15 DBT-P00238 DBT-S04801 rcc\n",
      "File reading done  (60, 750, 500)\n"
     ]
    },
    {
     "name": "stderr",
     "output_type": "stream",
     "text": [
      "\r",
      "  4%|▍         | 16/395 [01:09<26:47,  4.24s/it]"
     ]
    },
    {
     "name": "stdout",
     "output_type": "stream",
     "text": [
      "Processing  16 DBT-P00238 DBT-S04801 rmlo\n",
      "File reading done  (67, 750, 500)\n"
     ]
    },
    {
     "name": "stderr",
     "output_type": "stream",
     "text": [
      "\r",
      "  4%|▍         | 17/395 [01:14<26:50,  4.26s/it]"
     ]
    },
    {
     "name": "stdout",
     "output_type": "stream",
     "text": [
      "Processing  17 DBT-P00351 DBT-S00274 lcc\n",
      "File reading done  (69, 750, 500)\n"
     ]
    },
    {
     "name": "stderr",
     "output_type": "stream",
     "text": [
      "\r",
      "  5%|▍         | 18/395 [01:18<27:09,  4.32s/it]"
     ]
    },
    {
     "name": "stdout",
     "output_type": "stream",
     "text": [
      "Processing  18 DBT-P00351 DBT-S00274 lmlo\n",
      "File reading done  (76, 750, 500)\n"
     ]
    },
    {
     "name": "stderr",
     "output_type": "stream",
     "text": [
      "\r",
      "  5%|▍         | 19/395 [01:23<28:04,  4.48s/it]"
     ]
    },
    {
     "name": "stdout",
     "output_type": "stream",
     "text": [
      "Processing  19 DBT-P00351 DBT-S00274 rcc\n",
      "File reading done  (72, 750, 500)\n"
     ]
    },
    {
     "name": "stderr",
     "output_type": "stream",
     "text": [
      "\r",
      "  5%|▌         | 20/395 [01:28<28:08,  4.50s/it]"
     ]
    },
    {
     "name": "stdout",
     "output_type": "stream",
     "text": [
      "Processing  20 DBT-P00351 DBT-S00274 rmlo\n",
      "File reading done  (75, 750, 500)\n"
     ]
    },
    {
     "name": "stderr",
     "output_type": "stream",
     "text": [
      "\r",
      "  5%|▌         | 21/395 [01:32<28:38,  4.59s/it]"
     ]
    },
    {
     "name": "stdout",
     "output_type": "stream",
     "text": [
      "Processing  21 DBT-P00385 DBT-S04406 lcc\n",
      "File reading done  (39, 750, 500)\n"
     ]
    },
    {
     "name": "stderr",
     "output_type": "stream",
     "text": [
      "\r",
      "  6%|▌         | 22/395 [01:35<24:40,  3.97s/it]"
     ]
    },
    {
     "name": "stdout",
     "output_type": "stream",
     "text": [
      "Processing  22 DBT-P00385 DBT-S04406 lmlo\n",
      "File reading done  (42, 750, 500)\n"
     ]
    },
    {
     "name": "stderr",
     "output_type": "stream",
     "text": [
      "\r",
      "  6%|▌         | 23/395 [01:38<22:17,  3.59s/it]"
     ]
    },
    {
     "name": "stdout",
     "output_type": "stream",
     "text": [
      "Processing  23 DBT-P00385 DBT-S04406 rcc\n",
      "File reading done  (42, 750, 500)\n"
     ]
    },
    {
     "name": "stderr",
     "output_type": "stream",
     "text": [
      "\r",
      "  6%|▌         | 24/395 [01:40<20:33,  3.32s/it]"
     ]
    },
    {
     "name": "stdout",
     "output_type": "stream",
     "text": [
      "Processing  24 DBT-P00385 DBT-S04406 rmlo\n",
      "File reading done  (38, 750, 500)\n"
     ]
    },
    {
     "name": "stderr",
     "output_type": "stream",
     "text": [
      "\r",
      "  6%|▋         | 25/395 [01:43<18:51,  3.06s/it]"
     ]
    },
    {
     "name": "stdout",
     "output_type": "stream",
     "text": [
      "Processing  25 DBT-P00431 DBT-S03956 rmlo\n",
      "File reading done  (86, 750, 500)\n"
     ]
    },
    {
     "name": "stderr",
     "output_type": "stream",
     "text": [
      "\r",
      "  7%|▋         | 26/395 [01:48<23:17,  3.79s/it]"
     ]
    },
    {
     "name": "stdout",
     "output_type": "stream",
     "text": [
      "Processing  26 DBT-P00450 DBT-S04563 lcc\n",
      "File reading done  (66, 750, 500)\n"
     ]
    },
    {
     "name": "stderr",
     "output_type": "stream",
     "text": [
      "\r",
      "  7%|▋         | 27/395 [01:52<23:58,  3.91s/it]"
     ]
    },
    {
     "name": "stdout",
     "output_type": "stream",
     "text": [
      "Processing  27 DBT-P00450 DBT-S04563 lmlo\n",
      "File reading done  (72, 750, 500)\n"
     ]
    },
    {
     "name": "stderr",
     "output_type": "stream",
     "text": [
      "\r",
      "  7%|▋         | 28/395 [01:57<25:14,  4.13s/it]"
     ]
    },
    {
     "name": "stdout",
     "output_type": "stream",
     "text": [
      "Processing  28 DBT-P00450 DBT-S04563 rcc\n",
      "File reading done  (61, 750, 500)\n"
     ]
    },
    {
     "name": "stderr",
     "output_type": "stream",
     "text": [
      "\r",
      "  7%|▋         | 29/395 [02:01<24:46,  4.06s/it]"
     ]
    },
    {
     "name": "stdout",
     "output_type": "stream",
     "text": [
      "Processing  29 DBT-P00450 DBT-S04563 rmlo\n",
      "File reading done  (70, 750, 500)\n"
     ]
    },
    {
     "name": "stderr",
     "output_type": "stream",
     "text": [
      "\r",
      "  8%|▊         | 30/395 [02:05<25:27,  4.18s/it]"
     ]
    },
    {
     "name": "stdout",
     "output_type": "stream",
     "text": [
      "Processing  30 DBT-P00547 DBT-S03787 lcc\n",
      "File reading done  (60, 750, 500)\n"
     ]
    },
    {
     "name": "stderr",
     "output_type": "stream",
     "text": [
      "\r",
      "  8%|▊         | 31/395 [02:09<24:44,  4.08s/it]"
     ]
    },
    {
     "name": "stdout",
     "output_type": "stream",
     "text": [
      "Processing  31 DBT-P00547 DBT-S03787 lmlo\n",
      "File reading done  (67, 750, 500)\n"
     ]
    },
    {
     "name": "stderr",
     "output_type": "stream",
     "text": [
      "\r",
      "  8%|▊         | 32/395 [02:14<25:03,  4.14s/it]"
     ]
    },
    {
     "name": "stdout",
     "output_type": "stream",
     "text": [
      "Processing  32 DBT-P00547 DBT-S03787 rcc\n",
      "File reading done  (59, 750, 500)\n"
     ]
    },
    {
     "name": "stderr",
     "output_type": "stream",
     "text": [
      "\r",
      "  8%|▊         | 33/395 [02:17<24:18,  4.03s/it]"
     ]
    },
    {
     "name": "stdout",
     "output_type": "stream",
     "text": [
      "Processing  33 DBT-P00547 DBT-S03787 rmlo\n",
      "File reading done  (67, 750, 500)\n"
     ]
    },
    {
     "name": "stderr",
     "output_type": "stream",
     "text": [
      "\r",
      "  9%|▊         | 34/395 [02:22<24:42,  4.11s/it]"
     ]
    },
    {
     "name": "stdout",
     "output_type": "stream",
     "text": [
      "Processing  34 DBT-P00549 DBT-S00512 lcc\n",
      "File reading done  (72, 750, 500)\n"
     ]
    },
    {
     "name": "stderr",
     "output_type": "stream",
     "text": [
      "\r",
      "  9%|▉         | 35/395 [02:26<25:30,  4.25s/it]"
     ]
    },
    {
     "name": "stdout",
     "output_type": "stream",
     "text": [
      "Processing  35 DBT-P00549 DBT-S00512 lmlo\n",
      "File reading done  (68, 750, 500)\n"
     ]
    },
    {
     "name": "stderr",
     "output_type": "stream",
     "text": [
      "\r",
      "  9%|▉         | 36/395 [02:31<25:37,  4.28s/it]"
     ]
    },
    {
     "name": "stdout",
     "output_type": "stream",
     "text": [
      "Processing  36 DBT-P00577 DBT-S02359 lcc\n",
      "File reading done  (65, 750, 500)\n"
     ]
    },
    {
     "name": "stderr",
     "output_type": "stream",
     "text": [
      "\r",
      "  9%|▉         | 37/395 [02:35<25:17,  4.24s/it]"
     ]
    },
    {
     "name": "stdout",
     "output_type": "stream",
     "text": [
      "Processing  37 DBT-P00577 DBT-S02359 lmlo\n",
      "File reading done  (68, 750, 500)\n"
     ]
    },
    {
     "name": "stderr",
     "output_type": "stream",
     "text": [
      "\r",
      " 10%|▉         | 38/395 [02:39<25:21,  4.26s/it]"
     ]
    },
    {
     "name": "stdout",
     "output_type": "stream",
     "text": [
      "Processing  38 DBT-P00577 DBT-S02359 rcc\n",
      "File reading done  (69, 750, 500)\n"
     ]
    },
    {
     "name": "stderr",
     "output_type": "stream",
     "text": [
      "\r",
      " 10%|▉         | 39/395 [02:43<25:31,  4.30s/it]"
     ]
    },
    {
     "name": "stdout",
     "output_type": "stream",
     "text": [
      "Processing  39 DBT-P00577 DBT-S02359 rmlo\n",
      "File reading done  (66, 750, 500)\n"
     ]
    },
    {
     "name": "stderr",
     "output_type": "stream",
     "text": [
      "\r",
      " 10%|█         | 40/395 [02:48<25:16,  4.27s/it]"
     ]
    },
    {
     "name": "stdout",
     "output_type": "stream",
     "text": [
      "Processing  40 DBT-P00651 DBT-S04585 lcc\n",
      "File reading done  (47, 750, 500)\n"
     ]
    },
    {
     "name": "stderr",
     "output_type": "stream",
     "text": [
      "\r",
      " 10%|█         | 41/395 [02:51<23:00,  3.90s/it]"
     ]
    },
    {
     "name": "stdout",
     "output_type": "stream",
     "text": [
      "Processing  41 DBT-P00651 DBT-S04585 lmlo\n",
      "File reading done  (52, 750, 500)\n"
     ]
    },
    {
     "name": "stderr",
     "output_type": "stream",
     "text": [
      "\r",
      " 11%|█         | 42/395 [02:54<21:56,  3.73s/it]"
     ]
    },
    {
     "name": "stdout",
     "output_type": "stream",
     "text": [
      "Processing  42 DBT-P00651 DBT-S04585 rcc\n",
      "File reading done  (48, 750, 500)\n"
     ]
    },
    {
     "name": "stderr",
     "output_type": "stream",
     "text": [
      "\r",
      " 11%|█         | 43/395 [02:57<20:46,  3.54s/it]"
     ]
    },
    {
     "name": "stdout",
     "output_type": "stream",
     "text": [
      "Processing  43 DBT-P00651 DBT-S04585 rmlo\n",
      "File reading done  (48, 750, 500)\n"
     ]
    },
    {
     "name": "stderr",
     "output_type": "stream",
     "text": [
      "\r",
      " 11%|█         | 44/395 [03:00<19:57,  3.41s/it]"
     ]
    },
    {
     "name": "stdout",
     "output_type": "stream",
     "text": [
      "Processing  44 DBT-P00655 DBT-S00319 rcc\n",
      "File reading done  (52, 750, 500)\n"
     ]
    },
    {
     "name": "stderr",
     "output_type": "stream",
     "text": [
      "\r",
      " 11%|█▏        | 45/395 [03:04<19:49,  3.40s/it]"
     ]
    },
    {
     "name": "stdout",
     "output_type": "stream",
     "text": [
      "Processing  45 DBT-P00655 DBT-S00319 rmlo\n",
      "File reading done  (60, 750, 500)\n"
     ]
    },
    {
     "name": "stderr",
     "output_type": "stream",
     "text": [
      "\r",
      " 12%|█▏        | 46/395 [03:07<20:33,  3.53s/it]"
     ]
    },
    {
     "name": "stdout",
     "output_type": "stream",
     "text": [
      "Processing  46 DBT-P00697 DBT-S04996 lcc\n",
      "File reading done  (75, 750, 500)\n"
     ]
    },
    {
     "name": "stderr",
     "output_type": "stream",
     "text": [
      "\r",
      " 12%|█▏        | 47/395 [03:12<22:39,  3.91s/it]"
     ]
    },
    {
     "name": "stdout",
     "output_type": "stream",
     "text": [
      "Processing  47 DBT-P00697 DBT-S04996 lmlo\n",
      "File reading done  (73, 750, 500)\n"
     ]
    },
    {
     "name": "stderr",
     "output_type": "stream",
     "text": [
      "\r",
      " 12%|█▏        | 48/395 [03:17<23:54,  4.13s/it]"
     ]
    },
    {
     "name": "stdout",
     "output_type": "stream",
     "text": [
      "Processing  48 DBT-P00697 DBT-S04996 rcc\n",
      "File reading done  (79, 750, 500)\n"
     ]
    },
    {
     "name": "stderr",
     "output_type": "stream",
     "text": [
      "\r",
      " 12%|█▏        | 49/395 [03:22<25:21,  4.40s/it]"
     ]
    },
    {
     "name": "stdout",
     "output_type": "stream",
     "text": [
      "Processing  49 DBT-P00697 DBT-S04996 rmlo\n",
      "File reading done  (75, 750, 500)\n"
     ]
    },
    {
     "name": "stderr",
     "output_type": "stream",
     "text": [
      "\r",
      " 13%|█▎        | 50/395 [03:27<26:02,  4.53s/it]"
     ]
    },
    {
     "name": "stdout",
     "output_type": "stream",
     "text": [
      "Processing  50 DBT-P00714 DBT-S01360 rcc\n",
      "File reading done  (63, 750, 500)\n"
     ]
    },
    {
     "name": "stderr",
     "output_type": "stream",
     "text": [
      "\r",
      " 13%|█▎        | 51/395 [03:31<25:07,  4.38s/it]"
     ]
    },
    {
     "name": "stdout",
     "output_type": "stream",
     "text": [
      "Processing  51 DBT-P00714 DBT-S01360 rmlo\n",
      "File reading done  (72, 750, 500)\n"
     ]
    },
    {
     "name": "stderr",
     "output_type": "stream",
     "text": [
      "\r",
      " 13%|█▎        | 52/395 [03:35<25:25,  4.45s/it]"
     ]
    },
    {
     "name": "stdout",
     "output_type": "stream",
     "text": [
      "Processing  52 DBT-P00718 DBT-S03965 lcc\n",
      "File reading done  (94, 750, 500)\n"
     ]
    },
    {
     "name": "stderr",
     "output_type": "stream",
     "text": [
      "\r",
      " 13%|█▎        | 53/395 [03:41<27:57,  4.91s/it]"
     ]
    },
    {
     "name": "stdout",
     "output_type": "stream",
     "text": [
      "Processing  53 DBT-P00718 DBT-S03965 lmlo\n",
      "File reading done  (93, 750, 500)\n"
     ]
    },
    {
     "name": "stderr",
     "output_type": "stream",
     "text": [
      "\r",
      " 14%|█▎        | 54/395 [03:47<29:37,  5.21s/it]"
     ]
    },
    {
     "name": "stdout",
     "output_type": "stream",
     "text": [
      "Processing  54 DBT-P00718 DBT-S03965 rcc\n",
      "File reading done  (88, 750, 500)\n"
     ]
    },
    {
     "name": "stderr",
     "output_type": "stream",
     "text": [
      "\r",
      " 14%|█▍        | 55/395 [03:53<30:12,  5.33s/it]"
     ]
    },
    {
     "name": "stdout",
     "output_type": "stream",
     "text": [
      "Processing  55 DBT-P00718 DBT-S03965 rmlo\n",
      "File reading done  (93, 750, 500)\n"
     ]
    },
    {
     "name": "stderr",
     "output_type": "stream",
     "text": [
      "\r",
      " 14%|█▍        | 56/395 [03:59<31:07,  5.51s/it]"
     ]
    },
    {
     "name": "stdout",
     "output_type": "stream",
     "text": [
      "Processing  56 DBT-P00843 DBT-S03062 lcc\n",
      "File reading done  (63, 750, 500)\n"
     ]
    },
    {
     "name": "stderr",
     "output_type": "stream",
     "text": [
      "\r",
      " 14%|█▍        | 57/395 [04:03<28:30,  5.06s/it]"
     ]
    },
    {
     "name": "stdout",
     "output_type": "stream",
     "text": [
      "Processing  57 DBT-P00843 DBT-S03062 lmlo\n",
      "File reading done  (65, 750, 500)\n"
     ]
    },
    {
     "name": "stderr",
     "output_type": "stream",
     "text": [
      "\r",
      " 15%|█▍        | 58/395 [04:07<26:56,  4.80s/it]"
     ]
    },
    {
     "name": "stdout",
     "output_type": "stream",
     "text": [
      "Processing  58 DBT-P00843 DBT-S03062 rcc\n",
      "File reading done  (70, 750, 500)\n"
     ]
    },
    {
     "name": "stderr",
     "output_type": "stream",
     "text": [
      "\r",
      " 15%|█▍        | 59/395 [04:11<26:18,  4.70s/it]"
     ]
    },
    {
     "name": "stdout",
     "output_type": "stream",
     "text": [
      "Processing  59 DBT-P00843 DBT-S03062 rmlo\n",
      "File reading done  (68, 750, 500)\n"
     ]
    },
    {
     "name": "stderr",
     "output_type": "stream",
     "text": [
      "\r",
      " 15%|█▌        | 60/395 [04:16<25:41,  4.60s/it]"
     ]
    },
    {
     "name": "stdout",
     "output_type": "stream",
     "text": [
      "Processing  60 DBT-P00844 DBT-S01884 lcc\n",
      "File reading done  (85, 750, 500)\n"
     ]
    },
    {
     "name": "stderr",
     "output_type": "stream",
     "text": [
      "\r",
      " 15%|█▌        | 61/395 [04:21<26:57,  4.84s/it]"
     ]
    },
    {
     "name": "stdout",
     "output_type": "stream",
     "text": [
      "Processing  61 DBT-P00844 DBT-S01884 lmlo\n",
      "File reading done  (91, 750, 500)\n"
     ]
    },
    {
     "name": "stderr",
     "output_type": "stream",
     "text": [
      "\r",
      " 16%|█▌        | 62/395 [04:27<28:28,  5.13s/it]"
     ]
    },
    {
     "name": "stdout",
     "output_type": "stream",
     "text": [
      "Processing  62 DBT-P00864 DBT-S05307 lcc\n",
      "File reading done  (65, 750, 500)\n"
     ]
    },
    {
     "name": "stderr",
     "output_type": "stream",
     "text": [
      "\r",
      " 16%|█▌        | 63/395 [04:31<26:44,  4.83s/it]"
     ]
    },
    {
     "name": "stdout",
     "output_type": "stream",
     "text": [
      "Processing  63 DBT-P00864 DBT-S05307 lmlo\n",
      "File reading done  (73, 750, 500)\n"
     ]
    },
    {
     "name": "stderr",
     "output_type": "stream",
     "text": [
      "\r",
      " 16%|█▌        | 64/395 [04:36<26:20,  4.77s/it]"
     ]
    },
    {
     "name": "stdout",
     "output_type": "stream",
     "text": [
      "Processing  64 DBT-P00864 DBT-S05307 rcc\n",
      "File reading done  (68, 750, 500)\n"
     ]
    },
    {
     "name": "stderr",
     "output_type": "stream",
     "text": [
      "\r",
      " 16%|█▋        | 65/395 [04:40<25:29,  4.63s/it]"
     ]
    },
    {
     "name": "stdout",
     "output_type": "stream",
     "text": [
      "Processing  65 DBT-P00864 DBT-S05307 rmlo\n",
      "File reading done  (76, 750, 500)\n"
     ]
    },
    {
     "name": "stderr",
     "output_type": "stream",
     "text": [
      "\r",
      " 17%|█▋        | 66/395 [04:45<25:55,  4.73s/it]"
     ]
    },
    {
     "name": "stdout",
     "output_type": "stream",
     "text": [
      "Processing  66 DBT-P00866 DBT-S02251 lcc\n",
      "File reading done  (90, 750, 500)\n"
     ]
    },
    {
     "name": "stderr",
     "output_type": "stream",
     "text": [
      "\r",
      " 17%|█▋        | 67/395 [04:51<27:23,  5.01s/it]"
     ]
    },
    {
     "name": "stdout",
     "output_type": "stream",
     "text": [
      "Processing  67 DBT-P00866 DBT-S02251 lmlo\n",
      "File reading done  (100, 750, 500)\n"
     ]
    },
    {
     "name": "stderr",
     "output_type": "stream",
     "text": [
      "\r",
      " 17%|█▋        | 68/395 [04:57<29:27,  5.41s/it]"
     ]
    },
    {
     "name": "stdout",
     "output_type": "stream",
     "text": [
      "Processing  68 DBT-P01150 DBT-S04884 lcc\n",
      "File reading done  (49, 750, 500)\n"
     ]
    },
    {
     "name": "stderr",
     "output_type": "stream",
     "text": [
      "\r",
      " 17%|█▋        | 69/395 [05:00<25:44,  4.74s/it]"
     ]
    },
    {
     "name": "stdout",
     "output_type": "stream",
     "text": [
      "Processing  69 DBT-P01150 DBT-S04884 lmlo\n",
      "File reading done  (52, 750, 500)\n"
     ]
    },
    {
     "name": "stderr",
     "output_type": "stream",
     "text": [
      "\r",
      " 18%|█▊        | 70/395 [05:04<23:21,  4.31s/it]"
     ]
    },
    {
     "name": "stdout",
     "output_type": "stream",
     "text": [
      "Processing  70 DBT-P01152 DBT-S00310 lcc\n",
      "File reading done  (67, 750, 500)\n"
     ]
    },
    {
     "name": "stderr",
     "output_type": "stream",
     "text": [
      "\r",
      " 18%|█▊        | 71/395 [05:08<23:13,  4.30s/it]"
     ]
    },
    {
     "name": "stdout",
     "output_type": "stream",
     "text": [
      "Processing  71 DBT-P01152 DBT-S00310 lmlo\n",
      "File reading done  (71, 750, 500)\n"
     ]
    },
    {
     "name": "stderr",
     "output_type": "stream",
     "text": [
      "\r",
      " 18%|█▊        | 72/395 [05:13<24:10,  4.49s/it]"
     ]
    },
    {
     "name": "stdout",
     "output_type": "stream",
     "text": [
      "Processing  72 DBT-P01152 DBT-S00310 rcc\n",
      "File reading done  (61, 750, 500)\n"
     ]
    },
    {
     "name": "stderr",
     "output_type": "stream",
     "text": [
      "\r",
      " 18%|█▊        | 73/395 [05:17<23:39,  4.41s/it]"
     ]
    },
    {
     "name": "stdout",
     "output_type": "stream",
     "text": [
      "Processing  73 DBT-P01152 DBT-S00310 rmlo\n",
      "File reading done  (69, 750, 500)\n"
     ]
    },
    {
     "name": "stderr",
     "output_type": "stream",
     "text": [
      "\r",
      " 19%|█▊        | 74/395 [05:21<23:49,  4.45s/it]"
     ]
    },
    {
     "name": "stdout",
     "output_type": "stream",
     "text": [
      "Processing  74 DBT-P01153 DBT-S02202 lcc\n",
      "File reading done  (79, 750, 500)\n"
     ]
    },
    {
     "name": "stderr",
     "output_type": "stream",
     "text": [
      "\r",
      " 19%|█▉        | 75/395 [05:27<24:44,  4.64s/it]"
     ]
    },
    {
     "name": "stdout",
     "output_type": "stream",
     "text": [
      "Processing  75 DBT-P01153 DBT-S02202 lmlo\n",
      "File reading done  (83, 750, 500)\n"
     ]
    },
    {
     "name": "stderr",
     "output_type": "stream",
     "text": [
      "\r",
      " 19%|█▉        | 76/395 [05:32<25:41,  4.83s/it]"
     ]
    },
    {
     "name": "stdout",
     "output_type": "stream",
     "text": [
      "Processing  76 DBT-P01173 DBT-S02979 lcc\n",
      "File reading done  (49, 750, 500)\n"
     ]
    },
    {
     "name": "stderr",
     "output_type": "stream",
     "text": [
      "\r",
      " 19%|█▉        | 77/395 [05:35<23:01,  4.34s/it]"
     ]
    },
    {
     "name": "stdout",
     "output_type": "stream",
     "text": [
      "Processing  77 DBT-P01173 DBT-S02979 lmlo\n",
      "File reading done  (49, 750, 500)\n"
     ]
    },
    {
     "name": "stderr",
     "output_type": "stream",
     "text": [
      "\r",
      " 20%|█▉        | 78/395 [05:38<21:06,  4.00s/it]"
     ]
    },
    {
     "name": "stdout",
     "output_type": "stream",
     "text": [
      "Processing  78 DBT-P01173 DBT-S02979 rcc\n",
      "File reading done  (55, 750, 500)\n"
     ]
    },
    {
     "name": "stderr",
     "output_type": "stream",
     "text": [
      "\r",
      " 20%|██        | 79/395 [05:42<20:17,  3.85s/it]"
     ]
    },
    {
     "name": "stdout",
     "output_type": "stream",
     "text": [
      "Processing  79 DBT-P01173 DBT-S02979 rmlo\n",
      "File reading done  (53, 750, 500)\n"
     ]
    },
    {
     "name": "stderr",
     "output_type": "stream",
     "text": [
      "\r",
      " 20%|██        | 80/395 [05:45<19:30,  3.72s/it]"
     ]
    },
    {
     "name": "stdout",
     "output_type": "stream",
     "text": [
      "Processing  80 DBT-P01207 DBT-S03000 lcc1\n",
      "File reading done  (52, 750, 500)\n"
     ]
    },
    {
     "name": "stderr",
     "output_type": "stream",
     "text": [
      "\r",
      " 21%|██        | 81/395 [05:49<18:53,  3.61s/it]"
     ]
    },
    {
     "name": "stdout",
     "output_type": "stream",
     "text": [
      "Processing  81 DBT-P01207 DBT-S03000 lmlo1\n",
      "File reading done  (55, 750, 500)\n"
     ]
    },
    {
     "name": "stderr",
     "output_type": "stream",
     "text": [
      "\r",
      " 21%|██        | 82/395 [05:52<18:43,  3.59s/it]"
     ]
    },
    {
     "name": "stdout",
     "output_type": "stream",
     "text": [
      "Processing  82 DBT-P01226 DBT-S03190 lcc\n",
      "File reading done  (39, 750, 500)\n"
     ]
    },
    {
     "name": "stderr",
     "output_type": "stream",
     "text": [
      "\r",
      " 21%|██        | 83/395 [05:55<16:57,  3.26s/it]"
     ]
    },
    {
     "name": "stdout",
     "output_type": "stream",
     "text": [
      "Processing  83 DBT-P01226 DBT-S03190 lmlo\n",
      "File reading done  (40, 750, 500)\n"
     ]
    },
    {
     "name": "stderr",
     "output_type": "stream",
     "text": [
      "\r",
      " 21%|██▏       | 84/395 [05:57<15:48,  3.05s/it]"
     ]
    },
    {
     "name": "stdout",
     "output_type": "stream",
     "text": [
      "Processing  84 DBT-P01226 DBT-S03190 rcc\n",
      "File reading done  (48, 750, 500)\n"
     ]
    },
    {
     "name": "stderr",
     "output_type": "stream",
     "text": [
      "\r",
      " 22%|██▏       | 85/395 [06:00<15:51,  3.07s/it]"
     ]
    },
    {
     "name": "stdout",
     "output_type": "stream",
     "text": [
      "Processing  85 DBT-P01226 DBT-S03190 rmlo\n",
      "File reading done  (43, 750, 500)\n"
     ]
    },
    {
     "name": "stderr",
     "output_type": "stream",
     "text": [
      "\r",
      " 22%|██▏       | 86/395 [06:03<15:22,  2.99s/it]"
     ]
    },
    {
     "name": "stdout",
     "output_type": "stream",
     "text": [
      "Processing  86 DBT-P01249 DBT-S03736 lcc\n",
      "File reading done  (58, 750, 500)\n"
     ]
    },
    {
     "name": "stderr",
     "output_type": "stream",
     "text": [
      "\r",
      " 22%|██▏       | 87/395 [06:07<16:27,  3.21s/it]"
     ]
    },
    {
     "name": "stdout",
     "output_type": "stream",
     "text": [
      "Processing  87 DBT-P01249 DBT-S03736 lmlo\n",
      "File reading done  (66, 750, 500)\n"
     ]
    },
    {
     "name": "stderr",
     "output_type": "stream",
     "text": [
      "\r",
      " 22%|██▏       | 88/395 [06:11<17:59,  3.52s/it]"
     ]
    },
    {
     "name": "stdout",
     "output_type": "stream",
     "text": [
      "Processing  88 DBT-P01249 DBT-S03736 rcc\n",
      "File reading done  (61, 750, 500)\n"
     ]
    },
    {
     "name": "stderr",
     "output_type": "stream",
     "text": [
      "\r",
      " 23%|██▎       | 89/395 [06:15<18:34,  3.64s/it]"
     ]
    },
    {
     "name": "stdout",
     "output_type": "stream",
     "text": [
      "Processing  89 DBT-P01249 DBT-S03736 rmlo\n",
      "File reading done  (68, 750, 500)\n"
     ]
    },
    {
     "name": "stderr",
     "output_type": "stream",
     "text": [
      "\r",
      " 23%|██▎       | 90/395 [06:19<19:39,  3.87s/it]"
     ]
    },
    {
     "name": "stdout",
     "output_type": "stream",
     "text": [
      "Processing  90 DBT-P01293 DBT-S04200 rcc\n",
      "File reading done  (77, 750, 500)\n"
     ]
    },
    {
     "name": "stderr",
     "output_type": "stream",
     "text": [
      "\r",
      " 23%|██▎       | 91/395 [06:24<21:15,  4.20s/it]"
     ]
    },
    {
     "name": "stdout",
     "output_type": "stream",
     "text": [
      "Processing  91 DBT-P01293 DBT-S04200 rmlo\n",
      "File reading done  (73, 750, 500)\n"
     ]
    },
    {
     "name": "stderr",
     "output_type": "stream",
     "text": [
      "\r",
      " 23%|██▎       | 92/395 [06:29<21:53,  4.33s/it]"
     ]
    },
    {
     "name": "stdout",
     "output_type": "stream",
     "text": [
      "Processing  92 DBT-P01296 DBT-S05343 lcc\n",
      "File reading done  (43, 750, 500)\n"
     ]
    },
    {
     "name": "stderr",
     "output_type": "stream",
     "text": [
      "\r",
      " 24%|██▎       | 93/395 [06:32<19:32,  3.88s/it]"
     ]
    },
    {
     "name": "stdout",
     "output_type": "stream",
     "text": [
      "Processing  93 DBT-P01296 DBT-S05343 lmlo\n",
      "File reading done  (56, 750, 500)\n"
     ]
    },
    {
     "name": "stderr",
     "output_type": "stream",
     "text": [
      "\r",
      " 24%|██▍       | 94/395 [06:35<19:04,  3.80s/it]"
     ]
    },
    {
     "name": "stdout",
     "output_type": "stream",
     "text": [
      "Processing  94 DBT-P01296 DBT-S05343 rcc\n",
      "File reading done  (43, 750, 500)\n"
     ]
    },
    {
     "name": "stderr",
     "output_type": "stream",
     "text": [
      "\r",
      " 24%|██▍       | 95/395 [06:38<17:26,  3.49s/it]"
     ]
    },
    {
     "name": "stdout",
     "output_type": "stream",
     "text": [
      "Processing  95 DBT-P01296 DBT-S05343 rmlo\n",
      "File reading done  (54, 750, 500)\n"
     ]
    },
    {
     "name": "stderr",
     "output_type": "stream",
     "text": [
      "\r",
      " 24%|██▍       | 96/395 [06:42<17:22,  3.49s/it]"
     ]
    },
    {
     "name": "stdout",
     "output_type": "stream",
     "text": [
      "Processing  96 DBT-P01305 DBT-S00907 lcc\n",
      "File reading done  (83, 750, 500)\n"
     ]
    },
    {
     "name": "stderr",
     "output_type": "stream",
     "text": [
      "\r",
      " 25%|██▍       | 97/395 [06:47<19:56,  4.02s/it]"
     ]
    },
    {
     "name": "stdout",
     "output_type": "stream",
     "text": [
      "Processing  97 DBT-P01305 DBT-S00907 lmlo\n",
      "File reading done  (77, 750, 500)\n"
     ]
    },
    {
     "name": "stderr",
     "output_type": "stream",
     "text": [
      "\r",
      " 25%|██▍       | 98/395 [06:52<21:15,  4.30s/it]"
     ]
    },
    {
     "name": "stdout",
     "output_type": "stream",
     "text": [
      "Processing  98 DBT-P01305 DBT-S00907 rcc\n",
      "File reading done  (77, 750, 500)\n"
     ]
    },
    {
     "name": "stderr",
     "output_type": "stream",
     "text": [
      "\r",
      " 25%|██▌       | 99/395 [06:57<22:10,  4.50s/it]"
     ]
    },
    {
     "name": "stdout",
     "output_type": "stream",
     "text": [
      "Processing  99 DBT-P01305 DBT-S00907 rmlo\n",
      "File reading done  (73, 750, 500)\n"
     ]
    },
    {
     "name": "stderr",
     "output_type": "stream",
     "text": [
      "\r",
      " 25%|██▌       | 100/395 [07:01<22:23,  4.55s/it]"
     ]
    },
    {
     "name": "stdout",
     "output_type": "stream",
     "text": [
      "Processing  100 DBT-P01305 DBT-S02933 lcc\n",
      "File reading done  (78, 750, 500)\n"
     ]
    },
    {
     "name": "stderr",
     "output_type": "stream",
     "text": [
      "\r",
      " 26%|██▌       | 101/395 [07:06<22:55,  4.68s/it]"
     ]
    },
    {
     "name": "stdout",
     "output_type": "stream",
     "text": [
      "Processing  101 DBT-P01305 DBT-S02933 lmlo\n",
      "File reading done  (74, 750, 500)\n"
     ]
    },
    {
     "name": "stderr",
     "output_type": "stream",
     "text": [
      "\r",
      " 26%|██▌       | 102/395 [07:11<22:59,  4.71s/it]"
     ]
    },
    {
     "name": "stdout",
     "output_type": "stream",
     "text": [
      "Processing  102 DBT-P01305 DBT-S02933 rcc\n",
      "File reading done  (78, 750, 500)\n"
     ]
    },
    {
     "name": "stderr",
     "output_type": "stream",
     "text": [
      "\r",
      " 26%|██▌       | 103/395 [07:16<23:19,  4.79s/it]"
     ]
    },
    {
     "name": "stdout",
     "output_type": "stream",
     "text": [
      "Processing  103 DBT-P01305 DBT-S02933 rmlo\n",
      "File reading done  (76, 750, 500)\n"
     ]
    },
    {
     "name": "stderr",
     "output_type": "stream",
     "text": [
      "\r",
      " 26%|██▋       | 104/395 [07:21<23:23,  4.82s/it]"
     ]
    },
    {
     "name": "stdout",
     "output_type": "stream",
     "text": [
      "Processing  104 DBT-P01334 DBT-S01389 rcc\n",
      "File reading done  (79, 750, 500)\n"
     ]
    },
    {
     "name": "stderr",
     "output_type": "stream",
     "text": [
      "\r",
      " 27%|██▋       | 105/395 [07:26<23:41,  4.90s/it]"
     ]
    },
    {
     "name": "stdout",
     "output_type": "stream",
     "text": [
      "Processing  105 DBT-P01334 DBT-S01389 rmlo\n",
      "File reading done  (74, 750, 500)\n"
     ]
    },
    {
     "name": "stderr",
     "output_type": "stream",
     "text": [
      "\r",
      " 27%|██▋       | 106/395 [07:31<23:30,  4.88s/it]"
     ]
    },
    {
     "name": "stdout",
     "output_type": "stream",
     "text": [
      "Processing  106 DBT-P01356 DBT-S00334 lcc\n",
      "File reading done  (50, 750, 500)\n"
     ]
    },
    {
     "name": "stderr",
     "output_type": "stream",
     "text": [
      "\r",
      " 27%|██▋       | 107/395 [07:34<21:05,  4.39s/it]"
     ]
    },
    {
     "name": "stdout",
     "output_type": "stream",
     "text": [
      "Processing  107 DBT-P01356 DBT-S00334 lmlo\n",
      "File reading done  (51, 750, 500)\n"
     ]
    },
    {
     "name": "stderr",
     "output_type": "stream",
     "text": [
      "\r",
      " 27%|██▋       | 108/395 [07:38<19:31,  4.08s/it]"
     ]
    },
    {
     "name": "stdout",
     "output_type": "stream",
     "text": [
      "Processing  108 DBT-P01356 DBT-S00334 rcc\n",
      "File reading done  (60, 750, 500)\n"
     ]
    },
    {
     "name": "stderr",
     "output_type": "stream",
     "text": [
      "\r",
      " 28%|██▊       | 109/395 [07:41<19:10,  4.02s/it]"
     ]
    },
    {
     "name": "stdout",
     "output_type": "stream",
     "text": [
      "Processing  109 DBT-P01356 DBT-S00334 rmlo\n",
      "File reading done  (61, 750, 500)\n"
     ]
    },
    {
     "name": "stderr",
     "output_type": "stream",
     "text": [
      "\r",
      " 28%|██▊       | 110/395 [07:45<18:57,  3.99s/it]"
     ]
    },
    {
     "name": "stdout",
     "output_type": "stream",
     "text": [
      "Processing  110 DBT-P01490 DBT-S00832 rcc\n",
      "File reading done  (55, 750, 500)\n"
     ]
    },
    {
     "name": "stderr",
     "output_type": "stream",
     "text": [
      "\r",
      " 28%|██▊       | 111/395 [07:49<18:17,  3.87s/it]"
     ]
    },
    {
     "name": "stdout",
     "output_type": "stream",
     "text": [
      "Processing  111 DBT-P01490 DBT-S00832 rmlo\n",
      "File reading done  (59, 750, 500)\n"
     ]
    },
    {
     "name": "stderr",
     "output_type": "stream",
     "text": [
      "\r",
      " 28%|██▊       | 112/395 [07:53<18:07,  3.84s/it]"
     ]
    },
    {
     "name": "stdout",
     "output_type": "stream",
     "text": [
      "Processing  112 DBT-P01496 DBT-S00681 lcc\n",
      "File reading done  (76, 750, 500)\n"
     ]
    },
    {
     "name": "stderr",
     "output_type": "stream",
     "text": [
      "\r",
      " 29%|██▊       | 113/395 [07:58<19:29,  4.15s/it]"
     ]
    },
    {
     "name": "stdout",
     "output_type": "stream",
     "text": [
      "Processing  113 DBT-P01496 DBT-S00681 lmlo\n",
      "File reading done  (81, 750, 500)\n"
     ]
    },
    {
     "name": "stderr",
     "output_type": "stream",
     "text": [
      "\r",
      " 29%|██▉       | 114/395 [08:03<20:57,  4.47s/it]"
     ]
    },
    {
     "name": "stdout",
     "output_type": "stream",
     "text": [
      "Processing  114 DBT-P01496 DBT-S00681 rcc\n",
      "File reading done  (80, 750, 500)\n"
     ]
    },
    {
     "name": "stderr",
     "output_type": "stream",
     "text": [
      "\r",
      " 29%|██▉       | 115/395 [08:08<21:56,  4.70s/it]"
     ]
    },
    {
     "name": "stdout",
     "output_type": "stream",
     "text": [
      "Processing  115 DBT-P01496 DBT-S00681 rmlo\n",
      "File reading done  (87, 750, 500)\n"
     ]
    },
    {
     "name": "stderr",
     "output_type": "stream",
     "text": [
      "\r",
      " 29%|██▉       | 116/395 [08:14<23:05,  4.97s/it]"
     ]
    },
    {
     "name": "stdout",
     "output_type": "stream",
     "text": [
      "Processing  116 DBT-P01536 DBT-S05193 rmlo\n",
      "File reading done  (84, 750, 500)\n"
     ]
    },
    {
     "name": "stderr",
     "output_type": "stream",
     "text": [
      "\r",
      " 30%|██▉       | 117/395 [08:19<23:40,  5.11s/it]"
     ]
    },
    {
     "name": "stdout",
     "output_type": "stream",
     "text": [
      "Processing  117 DBT-P01538 DBT-S04798 lcc\n",
      "File reading done  (45, 750, 500)\n"
     ]
    },
    {
     "name": "stderr",
     "output_type": "stream",
     "text": [
      "\r",
      " 30%|██▉       | 118/395 [08:22<20:35,  4.46s/it]"
     ]
    },
    {
     "name": "stdout",
     "output_type": "stream",
     "text": [
      "Processing  118 DBT-P01538 DBT-S04798 lmlo\n",
      "File reading done  (46, 750, 500)\n"
     ]
    },
    {
     "name": "stderr",
     "output_type": "stream",
     "text": [
      "\r",
      " 30%|███       | 119/395 [08:25<18:30,  4.02s/it]"
     ]
    },
    {
     "name": "stdout",
     "output_type": "stream",
     "text": [
      "Processing  119 DBT-P01538 DBT-S04798 rcc\n",
      "File reading done  (42, 750, 500)\n"
     ]
    },
    {
     "name": "stderr",
     "output_type": "stream",
     "text": [
      "\r",
      " 30%|███       | 120/395 [08:28<16:45,  3.66s/it]"
     ]
    },
    {
     "name": "stdout",
     "output_type": "stream",
     "text": [
      "Processing  120 DBT-P01538 DBT-S04798 rmlo\n",
      "File reading done  (45, 750, 500)\n"
     ]
    },
    {
     "name": "stderr",
     "output_type": "stream",
     "text": [
      "\r",
      " 31%|███       | 121/395 [08:31<15:43,  3.44s/it]"
     ]
    },
    {
     "name": "stdout",
     "output_type": "stream",
     "text": [
      "Processing  121 DBT-P01700 DBT-S01353 lcc\n",
      "File reading done  (62, 750, 500)\n"
     ]
    },
    {
     "name": "stderr",
     "output_type": "stream",
     "text": [
      "\r",
      " 31%|███       | 122/395 [08:35<16:23,  3.60s/it]"
     ]
    },
    {
     "name": "stdout",
     "output_type": "stream",
     "text": [
      "Processing  122 DBT-P01700 DBT-S01353 lmlo\n",
      "File reading done  (64, 750, 500)\n"
     ]
    },
    {
     "name": "stderr",
     "output_type": "stream",
     "text": [
      "\r",
      " 31%|███       | 123/395 [08:39<17:00,  3.75s/it]"
     ]
    },
    {
     "name": "stdout",
     "output_type": "stream",
     "text": [
      "Processing  123 DBT-P01746 DBT-S00534 lcc\n",
      "File reading done  (75, 750, 500)\n"
     ]
    },
    {
     "name": "stderr",
     "output_type": "stream",
     "text": [
      "\r",
      " 31%|███▏      | 124/395 [08:44<18:25,  4.08s/it]"
     ]
    },
    {
     "name": "stdout",
     "output_type": "stream",
     "text": [
      "Processing  124 DBT-P01746 DBT-S00534 lmlo\n",
      "File reading done  (87, 750, 500)\n"
     ]
    },
    {
     "name": "stderr",
     "output_type": "stream",
     "text": [
      "\r",
      " 32%|███▏      | 125/395 [08:49<20:23,  4.53s/it]"
     ]
    },
    {
     "name": "stdout",
     "output_type": "stream",
     "text": [
      "Processing  125 DBT-P01746 DBT-S00534 rcc\n",
      "File reading done  (76, 750, 500)\n"
     ]
    },
    {
     "name": "stderr",
     "output_type": "stream",
     "text": [
      "\r",
      " 32%|███▏      | 126/395 [08:54<20:48,  4.64s/it]"
     ]
    },
    {
     "name": "stdout",
     "output_type": "stream",
     "text": [
      "Processing  126 DBT-P01746 DBT-S00534 rmlo\n",
      "File reading done  (89, 750, 500)\n"
     ]
    },
    {
     "name": "stderr",
     "output_type": "stream",
     "text": [
      "\r",
      " 32%|███▏      | 127/395 [09:00<22:12,  4.97s/it]"
     ]
    },
    {
     "name": "stdout",
     "output_type": "stream",
     "text": [
      "Processing  127 DBT-P01772 DBT-S05055 rcc\n",
      "File reading done  (62, 750, 500)\n"
     ]
    },
    {
     "name": "stderr",
     "output_type": "stream",
     "text": [
      "\r",
      " 32%|███▏      | 128/395 [09:04<20:50,  4.68s/it]"
     ]
    },
    {
     "name": "stdout",
     "output_type": "stream",
     "text": [
      "Processing  128 DBT-P01772 DBT-S05055 rmlo\n",
      "File reading done  (62, 750, 500)\n"
     ]
    },
    {
     "name": "stderr",
     "output_type": "stream",
     "text": [
      "\r",
      " 33%|███▎      | 129/395 [09:08<19:51,  4.48s/it]"
     ]
    },
    {
     "name": "stdout",
     "output_type": "stream",
     "text": [
      "Processing  129 DBT-P01778 DBT-S00333 lcc\n",
      "File reading done  (66, 750, 500)\n"
     ]
    },
    {
     "name": "stderr",
     "output_type": "stream",
     "text": [
      "\r",
      " 33%|███▎      | 130/395 [09:12<19:30,  4.42s/it]"
     ]
    },
    {
     "name": "stdout",
     "output_type": "stream",
     "text": [
      "Processing  130 DBT-P01778 DBT-S00333 lmlo\n",
      "File reading done  (76, 750, 500)\n"
     ]
    },
    {
     "name": "stderr",
     "output_type": "stream",
     "text": [
      "\r",
      " 33%|███▎      | 131/395 [09:17<20:05,  4.57s/it]"
     ]
    },
    {
     "name": "stdout",
     "output_type": "stream",
     "text": [
      "Processing  131 DBT-P01778 DBT-S00333 rcc\n",
      "File reading done  (69, 750, 500)\n"
     ]
    },
    {
     "name": "stderr",
     "output_type": "stream",
     "text": [
      "\r",
      " 33%|███▎      | 132/395 [09:22<19:52,  4.54s/it]"
     ]
    },
    {
     "name": "stdout",
     "output_type": "stream",
     "text": [
      "Processing  132 DBT-P01778 DBT-S00333 rmlo\n",
      "File reading done  (68, 750, 500)\n"
     ]
    },
    {
     "name": "stderr",
     "output_type": "stream",
     "text": [
      "\r",
      " 34%|███▎      | 133/395 [09:26<19:36,  4.49s/it]"
     ]
    },
    {
     "name": "stdout",
     "output_type": "stream",
     "text": [
      "Processing  133 DBT-P01849 DBT-S03745 lcc\n",
      "File reading done  (93, 750, 500)\n"
     ]
    },
    {
     "name": "stderr",
     "output_type": "stream",
     "text": [
      "\r",
      " 34%|███▍      | 134/395 [09:32<21:27,  4.93s/it]"
     ]
    },
    {
     "name": "stdout",
     "output_type": "stream",
     "text": [
      "Processing  134 DBT-P01849 DBT-S03745 lmlo\n",
      "File reading done  (101, 750, 500)\n"
     ]
    },
    {
     "name": "stderr",
     "output_type": "stream",
     "text": [
      "\r",
      " 34%|███▍      | 135/395 [09:39<23:25,  5.41s/it]"
     ]
    },
    {
     "name": "stdout",
     "output_type": "stream",
     "text": [
      "Processing  135 DBT-P01849 DBT-S03745 rcc\n",
      "File reading done  (90, 750, 500)\n"
     ]
    },
    {
     "name": "stderr",
     "output_type": "stream",
     "text": [
      "\r",
      " 34%|███▍      | 136/395 [09:44<23:51,  5.53s/it]"
     ]
    },
    {
     "name": "stdout",
     "output_type": "stream",
     "text": [
      "Processing  136 DBT-P01849 DBT-S03745 rmlo\n",
      "File reading done  (101, 750, 500)\n"
     ]
    },
    {
     "name": "stderr",
     "output_type": "stream",
     "text": [
      "\r",
      " 35%|███▍      | 137/395 [09:51<25:01,  5.82s/it]"
     ]
    },
    {
     "name": "stdout",
     "output_type": "stream",
     "text": [
      "Processing  137 DBT-P01851 DBT-S04426 lcc\n",
      "File reading done  (69, 750, 500)\n"
     ]
    },
    {
     "name": "stderr",
     "output_type": "stream",
     "text": [
      "\r",
      " 35%|███▍      | 138/395 [09:55<23:11,  5.42s/it]"
     ]
    },
    {
     "name": "stdout",
     "output_type": "stream",
     "text": [
      "Processing  138 DBT-P01851 DBT-S04426 lmlo\n",
      "File reading done  (81, 750, 500)\n"
     ]
    },
    {
     "name": "stderr",
     "output_type": "stream",
     "text": [
      "\r",
      " 35%|███▌      | 139/395 [10:01<22:53,  5.36s/it]"
     ]
    },
    {
     "name": "stdout",
     "output_type": "stream",
     "text": [
      "Processing  139 DBT-P01851 DBT-S04426 rcc\n",
      "File reading done  (62, 750, 500)\n"
     ]
    },
    {
     "name": "stderr",
     "output_type": "stream",
     "text": [
      "\r",
      " 35%|███▌      | 140/395 [10:05<21:05,  4.96s/it]"
     ]
    },
    {
     "name": "stdout",
     "output_type": "stream",
     "text": [
      "Processing  140 DBT-P01851 DBT-S04426 rmlo\n",
      "File reading done  (74, 750, 500)\n"
     ]
    },
    {
     "name": "stderr",
     "output_type": "stream",
     "text": [
      "\r",
      " 36%|███▌      | 141/395 [10:09<20:46,  4.91s/it]"
     ]
    },
    {
     "name": "stdout",
     "output_type": "stream",
     "text": [
      "Processing  141 DBT-P01941 DBT-S01647 rcc\n",
      "File reading done  (53, 750, 500)\n"
     ]
    },
    {
     "name": "stderr",
     "output_type": "stream",
     "text": [
      "\r",
      " 36%|███▌      | 142/395 [10:13<18:50,  4.47s/it]"
     ]
    },
    {
     "name": "stdout",
     "output_type": "stream",
     "text": [
      "Processing  142 DBT-P01941 DBT-S01647 rmlo\n",
      "File reading done  (54, 750, 500)\n"
     ]
    },
    {
     "name": "stderr",
     "output_type": "stream",
     "text": [
      "\r",
      " 36%|███▌      | 143/395 [10:16<17:31,  4.17s/it]"
     ]
    },
    {
     "name": "stdout",
     "output_type": "stream",
     "text": [
      "Processing  143 DBT-P01957 DBT-S00246 lcc\n",
      "File reading done  (67, 750, 500)\n"
     ]
    },
    {
     "name": "stderr",
     "output_type": "stream",
     "text": [
      "\r",
      " 36%|███▋      | 144/395 [10:21<17:38,  4.22s/it]"
     ]
    },
    {
     "name": "stdout",
     "output_type": "stream",
     "text": [
      "Processing  144 DBT-P01957 DBT-S00246 lmlo\n",
      "File reading done  (71, 750, 500)\n"
     ]
    },
    {
     "name": "stderr",
     "output_type": "stream",
     "text": [
      "\r",
      " 37%|███▋      | 145/395 [10:25<18:01,  4.33s/it]"
     ]
    },
    {
     "name": "stdout",
     "output_type": "stream",
     "text": [
      "Processing  145 DBT-P01957 DBT-S00246 rcc\n",
      "File reading done  (70, 750, 500)\n"
     ]
    },
    {
     "name": "stderr",
     "output_type": "stream",
     "text": [
      "\r",
      " 37%|███▋      | 146/395 [10:30<18:12,  4.39s/it]"
     ]
    },
    {
     "name": "stdout",
     "output_type": "stream",
     "text": [
      "Processing  146 DBT-P01957 DBT-S00246 rmlo\n",
      "File reading done  (68, 750, 500)\n"
     ]
    },
    {
     "name": "stderr",
     "output_type": "stream",
     "text": [
      "\r",
      " 37%|███▋      | 147/395 [10:34<18:06,  4.38s/it]"
     ]
    },
    {
     "name": "stdout",
     "output_type": "stream",
     "text": [
      "Processing  147 DBT-P01967 DBT-S00345 lcc\n",
      "File reading done  (78, 750, 500)\n"
     ]
    },
    {
     "name": "stderr",
     "output_type": "stream",
     "text": [
      "\r",
      " 37%|███▋      | 148/395 [10:39<18:50,  4.58s/it]"
     ]
    },
    {
     "name": "stdout",
     "output_type": "stream",
     "text": [
      "Processing  148 DBT-P01967 DBT-S00345 lmlo\n",
      "File reading done  (94, 750, 500)\n"
     ]
    },
    {
     "name": "stderr",
     "output_type": "stream",
     "text": [
      "\r",
      " 38%|███▊      | 149/395 [10:45<20:32,  5.01s/it]"
     ]
    },
    {
     "name": "stdout",
     "output_type": "stream",
     "text": [
      "Processing  149 DBT-P02072 DBT-S04286 lcc\n",
      "File reading done  (76, 750, 500)\n"
     ]
    },
    {
     "name": "stderr",
     "output_type": "stream",
     "text": [
      "\r",
      " 38%|███▊      | 150/395 [10:50<20:18,  4.97s/it]"
     ]
    },
    {
     "name": "stdout",
     "output_type": "stream",
     "text": [
      "Processing  150 DBT-P02072 DBT-S04286 lmlo\n",
      "File reading done  (84, 750, 500)\n"
     ]
    },
    {
     "name": "stderr",
     "output_type": "stream",
     "text": [
      "\r",
      " 38%|███▊      | 151/395 [10:55<20:43,  5.10s/it]"
     ]
    },
    {
     "name": "stdout",
     "output_type": "stream",
     "text": [
      "Processing  151 DBT-P02072 DBT-S04286 rcc\n",
      "File reading done  (77, 750, 500)\n"
     ]
    },
    {
     "name": "stderr",
     "output_type": "stream",
     "text": [
      "\r",
      " 38%|███▊      | 152/395 [11:00<20:29,  5.06s/it]"
     ]
    },
    {
     "name": "stdout",
     "output_type": "stream",
     "text": [
      "Processing  152 DBT-P02072 DBT-S04286 rmlo\n",
      "File reading done  (88, 750, 500)\n"
     ]
    },
    {
     "name": "stderr",
     "output_type": "stream",
     "text": [
      "\r",
      " 39%|███▊      | 153/395 [11:06<21:06,  5.23s/it]"
     ]
    },
    {
     "name": "stdout",
     "output_type": "stream",
     "text": [
      "Processing  153 DBT-P02111 DBT-S00970 lcc\n",
      "File reading done  (55, 750, 500)\n"
     ]
    },
    {
     "name": "stderr",
     "output_type": "stream",
     "text": [
      "\r",
      " 39%|███▉      | 154/395 [11:10<18:56,  4.72s/it]"
     ]
    },
    {
     "name": "stdout",
     "output_type": "stream",
     "text": [
      "Processing  154 DBT-P02111 DBT-S00970 lmlo\n",
      "File reading done  (54, 750, 500)\n"
     ]
    },
    {
     "name": "stderr",
     "output_type": "stream",
     "text": [
      "\r",
      " 39%|███▉      | 155/395 [11:13<17:22,  4.34s/it]"
     ]
    },
    {
     "name": "stdout",
     "output_type": "stream",
     "text": [
      "Processing  155 DBT-P02111 DBT-S00970 rcc\n",
      "File reading done  (58, 750, 500)\n"
     ]
    },
    {
     "name": "stderr",
     "output_type": "stream",
     "text": [
      "\r",
      " 39%|███▉      | 156/395 [11:17<16:37,  4.18s/it]"
     ]
    },
    {
     "name": "stdout",
     "output_type": "stream",
     "text": [
      "Processing  156 DBT-P02111 DBT-S00970 rmlo\n",
      "File reading done  (53, 750, 500)\n"
     ]
    },
    {
     "name": "stderr",
     "output_type": "stream",
     "text": [
      "\r",
      " 40%|███▉      | 157/395 [11:20<15:43,  3.96s/it]"
     ]
    },
    {
     "name": "stdout",
     "output_type": "stream",
     "text": [
      "Processing  157 DBT-P02117 DBT-S04920 lcc\n",
      "File reading done  (65, 750, 500)\n"
     ]
    },
    {
     "name": "stderr",
     "output_type": "stream",
     "text": [
      "\r",
      " 40%|████      | 158/395 [11:24<15:55,  4.03s/it]"
     ]
    },
    {
     "name": "stdout",
     "output_type": "stream",
     "text": [
      "Processing  158 DBT-P02117 DBT-S04920 lmlo\n",
      "File reading done  (70, 750, 500)\n"
     ]
    },
    {
     "name": "stderr",
     "output_type": "stream",
     "text": [
      "\r",
      " 40%|████      | 159/395 [11:29<16:23,  4.17s/it]"
     ]
    },
    {
     "name": "stdout",
     "output_type": "stream",
     "text": [
      "Processing  159 DBT-P02117 DBT-S04920 rcc\n",
      "File reading done  (59, 750, 500)\n"
     ]
    },
    {
     "name": "stderr",
     "output_type": "stream",
     "text": [
      "\r",
      " 41%|████      | 160/395 [11:33<15:55,  4.06s/it]"
     ]
    },
    {
     "name": "stdout",
     "output_type": "stream",
     "text": [
      "Processing  160 DBT-P02117 DBT-S04920 rmlo\n",
      "File reading done  (59, 750, 500)\n"
     ]
    },
    {
     "name": "stderr",
     "output_type": "stream",
     "text": [
      "\r",
      " 41%|████      | 161/395 [11:37<15:34,  3.99s/it]"
     ]
    },
    {
     "name": "stdout",
     "output_type": "stream",
     "text": [
      "Processing  161 DBT-P02160 DBT-S05181 lcc\n",
      "File reading done  (36, 750, 500)\n"
     ]
    },
    {
     "name": "stderr",
     "output_type": "stream",
     "text": [
      "\r",
      " 41%|████      | 162/395 [11:39<13:35,  3.50s/it]"
     ]
    },
    {
     "name": "stdout",
     "output_type": "stream",
     "text": [
      "Processing  162 DBT-P02160 DBT-S05181 lmlo\n",
      "File reading done  (36, 750, 500)\n"
     ]
    },
    {
     "name": "stderr",
     "output_type": "stream",
     "text": [
      "\r",
      " 41%|████▏     | 163/395 [11:41<12:09,  3.15s/it]"
     ]
    },
    {
     "name": "stdout",
     "output_type": "stream",
     "text": [
      "Processing  163 DBT-P02160 DBT-S05181 rcc\n",
      "File reading done  (39, 750, 500)\n"
     ]
    },
    {
     "name": "stderr",
     "output_type": "stream",
     "text": [
      "\r",
      " 42%|████▏     | 164/395 [11:44<11:24,  2.96s/it]"
     ]
    },
    {
     "name": "stdout",
     "output_type": "stream",
     "text": [
      "Processing  164 DBT-P02160 DBT-S05181 rmlo\n",
      "File reading done  (36, 750, 500)\n"
     ]
    },
    {
     "name": "stderr",
     "output_type": "stream",
     "text": [
      "\r",
      " 42%|████▏     | 165/395 [11:46<10:38,  2.77s/it]"
     ]
    },
    {
     "name": "stdout",
     "output_type": "stream",
     "text": [
      "Processing  165 DBT-P02170 DBT-S00584 lcc\n",
      "File reading done  (61, 750, 500)\n"
     ]
    },
    {
     "name": "stderr",
     "output_type": "stream",
     "text": [
      "\r",
      " 42%|████▏     | 166/395 [11:50<11:56,  3.13s/it]"
     ]
    },
    {
     "name": "stdout",
     "output_type": "stream",
     "text": [
      "Processing  166 DBT-P02170 DBT-S00584 lmlo\n",
      "File reading done  (61, 750, 500)\n"
     ]
    },
    {
     "name": "stderr",
     "output_type": "stream",
     "text": [
      "\r",
      " 42%|████▏     | 167/395 [11:54<12:47,  3.36s/it]"
     ]
    },
    {
     "name": "stdout",
     "output_type": "stream",
     "text": [
      "Processing  167 DBT-P02170 DBT-S00584 rcc\n",
      "File reading done  (65, 750, 500)\n"
     ]
    },
    {
     "name": "stderr",
     "output_type": "stream",
     "text": [
      "\r",
      " 43%|████▎     | 168/395 [11:58<13:40,  3.61s/it]"
     ]
    },
    {
     "name": "stdout",
     "output_type": "stream",
     "text": [
      "Processing  168 DBT-P02170 DBT-S00584 rmlo\n",
      "File reading done  (63, 750, 500)\n"
     ]
    },
    {
     "name": "stderr",
     "output_type": "stream",
     "text": [
      "\r",
      " 43%|████▎     | 169/395 [12:02<14:07,  3.75s/it]"
     ]
    },
    {
     "name": "stdout",
     "output_type": "stream",
     "text": [
      "Processing  169 DBT-P02214 DBT-S05549 lcc\n",
      "File reading done  (85, 750, 500)\n"
     ]
    },
    {
     "name": "stderr",
     "output_type": "stream",
     "text": [
      "\r",
      " 43%|████▎     | 170/395 [12:08<15:58,  4.26s/it]"
     ]
    },
    {
     "name": "stdout",
     "output_type": "stream",
     "text": [
      "Processing  170 DBT-P02214 DBT-S05549 lmlo\n",
      "File reading done  (98, 750, 500)\n"
     ]
    },
    {
     "name": "stderr",
     "output_type": "stream",
     "text": [
      "\r",
      " 43%|████▎     | 171/395 [12:14<18:11,  4.87s/it]"
     ]
    },
    {
     "name": "stdout",
     "output_type": "stream",
     "text": [
      "Processing  171 DBT-P02214 DBT-S05549 rcc\n",
      "File reading done  (84, 750, 500)\n"
     ]
    },
    {
     "name": "stderr",
     "output_type": "stream",
     "text": [
      "\r",
      " 44%|████▎     | 172/395 [12:19<18:42,  5.03s/it]"
     ]
    },
    {
     "name": "stdout",
     "output_type": "stream",
     "text": [
      "Processing  172 DBT-P02214 DBT-S05549 rmlo\n",
      "File reading done  (96, 750, 500)\n"
     ]
    },
    {
     "name": "stderr",
     "output_type": "stream",
     "text": [
      "\r",
      " 44%|████▍     | 173/395 [12:26<19:54,  5.38s/it]"
     ]
    },
    {
     "name": "stdout",
     "output_type": "stream",
     "text": [
      "Processing  173 DBT-P02226 DBT-S01309 lcc\n",
      "File reading done  (61, 750, 500)\n"
     ]
    },
    {
     "name": "stderr",
     "output_type": "stream",
     "text": [
      "\r",
      " 44%|████▍     | 174/395 [12:29<18:11,  4.94s/it]"
     ]
    },
    {
     "name": "stdout",
     "output_type": "stream",
     "text": [
      "Processing  174 DBT-P02226 DBT-S01309 lmlo\n",
      "File reading done  (68, 750, 500)\n"
     ]
    },
    {
     "name": "stderr",
     "output_type": "stream",
     "text": [
      "\r",
      " 44%|████▍     | 175/395 [12:34<17:31,  4.78s/it]"
     ]
    },
    {
     "name": "stdout",
     "output_type": "stream",
     "text": [
      "Processing  175 DBT-P02226 DBT-S01309 rcc\n",
      "File reading done  (56, 750, 500)\n"
     ]
    },
    {
     "name": "stderr",
     "output_type": "stream",
     "text": [
      "\r",
      " 45%|████▍     | 176/395 [12:38<16:10,  4.43s/it]"
     ]
    },
    {
     "name": "stdout",
     "output_type": "stream",
     "text": [
      "Processing  176 DBT-P02226 DBT-S01309 rmlo\n",
      "File reading done  (68, 750, 500)\n"
     ]
    },
    {
     "name": "stderr",
     "output_type": "stream",
     "text": [
      "\r",
      " 45%|████▍     | 177/395 [12:42<16:03,  4.42s/it]"
     ]
    },
    {
     "name": "stdout",
     "output_type": "stream",
     "text": [
      "Processing  177 DBT-P02314 DBT-S00900 lcc\n",
      "File reading done  (34, 750, 500)\n"
     ]
    },
    {
     "name": "stderr",
     "output_type": "stream",
     "text": [
      "\r",
      " 45%|████▌     | 178/395 [12:44<13:37,  3.77s/it]"
     ]
    },
    {
     "name": "stdout",
     "output_type": "stream",
     "text": [
      "Processing  178 DBT-P02314 DBT-S00900 lmlo\n",
      "File reading done  (34, 750, 500)\n"
     ]
    },
    {
     "name": "stderr",
     "output_type": "stream",
     "text": [
      "\r",
      " 45%|████▌     | 179/395 [12:46<11:54,  3.31s/it]"
     ]
    },
    {
     "name": "stdout",
     "output_type": "stream",
     "text": [
      "Processing  179 DBT-P02314 DBT-S00900 rcc\n",
      "File reading done  (31, 750, 500)\n"
     ]
    },
    {
     "name": "stderr",
     "output_type": "stream",
     "text": [
      "\r",
      " 46%|████▌     | 180/395 [12:49<10:35,  2.96s/it]"
     ]
    },
    {
     "name": "stdout",
     "output_type": "stream",
     "text": [
      "Processing  180 DBT-P02314 DBT-S00900 rmlo\n",
      "File reading done  (37, 750, 500)\n"
     ]
    },
    {
     "name": "stderr",
     "output_type": "stream",
     "text": [
      "\r",
      " 46%|████▌     | 181/395 [12:51<09:57,  2.79s/it]"
     ]
    },
    {
     "name": "stdout",
     "output_type": "stream",
     "text": [
      "Processing  181 DBT-P02381 DBT-S04511 lcc\n",
      "File reading done  (56, 750, 500)\n"
     ]
    },
    {
     "name": "stderr",
     "output_type": "stream",
     "text": [
      "\r",
      " 46%|████▌     | 182/395 [12:55<10:47,  3.04s/it]"
     ]
    },
    {
     "name": "stdout",
     "output_type": "stream",
     "text": [
      "Processing  182 DBT-P02381 DBT-S04511 lmlo\n",
      "File reading done  (53, 750, 500)\n"
     ]
    },
    {
     "name": "stderr",
     "output_type": "stream",
     "text": [
      "\r",
      " 46%|████▋     | 183/395 [12:58<11:09,  3.16s/it]"
     ]
    },
    {
     "name": "stdout",
     "output_type": "stream",
     "text": [
      "Processing  183 DBT-P02381 DBT-S04511 rcc\n",
      "File reading done  (55, 750, 500)\n"
     ]
    },
    {
     "name": "stderr",
     "output_type": "stream",
     "text": [
      "\r",
      " 47%|████▋     | 184/395 [13:02<11:30,  3.27s/it]"
     ]
    },
    {
     "name": "stdout",
     "output_type": "stream",
     "text": [
      "Processing  184 DBT-P02381 DBT-S04511 rmlo\n",
      "File reading done  (51, 750, 500)\n"
     ]
    },
    {
     "name": "stderr",
     "output_type": "stream",
     "text": [
      "\r",
      " 47%|████▋     | 185/395 [13:05<11:28,  3.28s/it]"
     ]
    },
    {
     "name": "stdout",
     "output_type": "stream",
     "text": [
      "Processing  185 DBT-P02394 DBT-S02754 lcc\n",
      "File reading done  (46, 750, 500)\n"
     ]
    },
    {
     "name": "stderr",
     "output_type": "stream",
     "text": [
      "\r",
      " 47%|████▋     | 186/395 [13:08<11:08,  3.20s/it]"
     ]
    },
    {
     "name": "stdout",
     "output_type": "stream",
     "text": [
      "Processing  186 DBT-P02394 DBT-S02754 lmlo\n",
      "File reading done  (54, 750, 500)\n"
     ]
    },
    {
     "name": "stderr",
     "output_type": "stream",
     "text": [
      "\r",
      " 47%|████▋     | 187/395 [13:11<11:23,  3.29s/it]"
     ]
    },
    {
     "name": "stdout",
     "output_type": "stream",
     "text": [
      "Processing  187 DBT-P02394 DBT-S02754 rcc\n",
      "File reading done  (52, 750, 500)\n"
     ]
    },
    {
     "name": "stderr",
     "output_type": "stream",
     "text": [
      "\r",
      " 48%|████▊     | 188/395 [13:15<11:27,  3.32s/it]"
     ]
    },
    {
     "name": "stdout",
     "output_type": "stream",
     "text": [
      "Processing  188 DBT-P02394 DBT-S02754 rmlo\n",
      "File reading done  (53, 750, 500)\n"
     ]
    },
    {
     "name": "stderr",
     "output_type": "stream",
     "text": [
      "\r",
      " 48%|████▊     | 189/395 [13:18<11:32,  3.36s/it]"
     ]
    },
    {
     "name": "stdout",
     "output_type": "stream",
     "text": [
      "Processing  189 DBT-P02498 DBT-S04707 lcc\n",
      "File reading done  (69, 750, 500)\n"
     ]
    },
    {
     "name": "stderr",
     "output_type": "stream",
     "text": [
      "\r",
      " 48%|████▊     | 190/395 [13:23<12:34,  3.68s/it]"
     ]
    },
    {
     "name": "stdout",
     "output_type": "stream",
     "text": [
      "Processing  190 DBT-P02498 DBT-S04707 lmlo\n",
      "File reading done  (70, 750, 500)\n"
     ]
    },
    {
     "name": "stderr",
     "output_type": "stream",
     "text": [
      "\r",
      " 48%|████▊     | 191/395 [13:27<13:19,  3.92s/it]"
     ]
    },
    {
     "name": "stdout",
     "output_type": "stream",
     "text": [
      "Processing  191 DBT-P02498 DBT-S04707 rcc\n",
      "File reading done  (70, 750, 500)\n"
     ]
    },
    {
     "name": "stderr",
     "output_type": "stream",
     "text": [
      "\r",
      " 49%|████▊     | 192/395 [13:32<13:51,  4.10s/it]"
     ]
    },
    {
     "name": "stdout",
     "output_type": "stream",
     "text": [
      "Processing  192 DBT-P02498 DBT-S04707 rmlo\n",
      "File reading done  (70, 750, 500)\n"
     ]
    },
    {
     "name": "stderr",
     "output_type": "stream",
     "text": [
      "\r",
      " 49%|████▉     | 193/395 [13:36<14:12,  4.22s/it]"
     ]
    },
    {
     "name": "stdout",
     "output_type": "stream",
     "text": [
      "Processing  193 DBT-P02558 DBT-S04031 lcc\n",
      "File reading done  (53, 750, 500)\n"
     ]
    },
    {
     "name": "stderr",
     "output_type": "stream",
     "text": [
      "\r",
      " 49%|████▉     | 194/395 [13:40<13:20,  3.98s/it]"
     ]
    },
    {
     "name": "stdout",
     "output_type": "stream",
     "text": [
      "Processing  194 DBT-P02558 DBT-S04031 lmlo\n",
      "File reading done  (44, 750, 500)\n"
     ]
    },
    {
     "name": "stderr",
     "output_type": "stream",
     "text": [
      "\r",
      " 49%|████▉     | 195/395 [13:42<12:10,  3.65s/it]"
     ]
    },
    {
     "name": "stdout",
     "output_type": "stream",
     "text": [
      "Processing  195 DBT-P02558 DBT-S04031 rcc\n",
      "File reading done  (47, 750, 500)\n"
     ]
    },
    {
     "name": "stderr",
     "output_type": "stream",
     "text": [
      "\r",
      " 50%|████▉     | 196/395 [13:46<11:46,  3.55s/it]"
     ]
    },
    {
     "name": "stdout",
     "output_type": "stream",
     "text": [
      "Processing  196 DBT-P02558 DBT-S04031 rmlo\n",
      "File reading done  (43, 750, 500)\n"
     ]
    },
    {
     "name": "stderr",
     "output_type": "stream",
     "text": [
      "\r",
      " 50%|████▉     | 197/395 [13:49<11:15,  3.41s/it]"
     ]
    },
    {
     "name": "stdout",
     "output_type": "stream",
     "text": [
      "Processing  197 DBT-P02560 DBT-S02533 lcc\n",
      "File reading done  (68, 750, 500)\n"
     ]
    },
    {
     "name": "stderr",
     "output_type": "stream",
     "text": [
      "\r",
      " 50%|█████     | 198/395 [13:54<12:34,  3.83s/it]"
     ]
    },
    {
     "name": "stdout",
     "output_type": "stream",
     "text": [
      "Processing  198 DBT-P02560 DBT-S02533 lmlo\n",
      "File reading done  (65, 750, 500)\n"
     ]
    },
    {
     "name": "stderr",
     "output_type": "stream",
     "text": [
      "\r",
      " 50%|█████     | 199/395 [13:58<12:54,  3.95s/it]"
     ]
    },
    {
     "name": "stdout",
     "output_type": "stream",
     "text": [
      "Processing  199 DBT-P02560 DBT-S02533 rcc\n",
      "File reading done  (71, 750, 500)\n"
     ]
    },
    {
     "name": "stderr",
     "output_type": "stream",
     "text": [
      "\r",
      " 51%|█████     | 200/395 [14:03<13:36,  4.19s/it]"
     ]
    },
    {
     "name": "stdout",
     "output_type": "stream",
     "text": [
      "Processing  200 DBT-P02560 DBT-S02533 rmlo\n",
      "File reading done  (70, 750, 500)\n"
     ]
    },
    {
     "name": "stderr",
     "output_type": "stream",
     "text": [
      "\r",
      " 51%|█████     | 201/395 [14:07<13:51,  4.29s/it]"
     ]
    },
    {
     "name": "stdout",
     "output_type": "stream",
     "text": [
      "Processing  201 DBT-P02598 DBT-S02915 rcc\n",
      "File reading done  (77, 750, 500)\n"
     ]
    },
    {
     "name": "stderr",
     "output_type": "stream",
     "text": [
      "\r",
      " 51%|█████     | 202/395 [14:12<14:25,  4.49s/it]"
     ]
    },
    {
     "name": "stdout",
     "output_type": "stream",
     "text": [
      "Processing  202 DBT-P02598 DBT-S02915 rmlo\n",
      "File reading done  (77, 750, 500)\n"
     ]
    },
    {
     "name": "stderr",
     "output_type": "stream",
     "text": [
      "\r",
      " 51%|█████▏    | 203/395 [14:17<14:48,  4.63s/it]"
     ]
    },
    {
     "name": "stdout",
     "output_type": "stream",
     "text": [
      "Processing  203 DBT-P02648 DBT-S04930 lcc\n",
      "File reading done  (77, 750, 500)\n"
     ]
    },
    {
     "name": "stderr",
     "output_type": "stream",
     "text": [
      "\r",
      " 52%|█████▏    | 204/395 [14:22<15:01,  4.72s/it]"
     ]
    },
    {
     "name": "stdout",
     "output_type": "stream",
     "text": [
      "Processing  204 DBT-P02648 DBT-S04930 lmlo\n",
      "File reading done  (69, 750, 500)\n"
     ]
    },
    {
     "name": "stderr",
     "output_type": "stream",
     "text": [
      "\r",
      " 52%|█████▏    | 205/395 [14:26<14:46,  4.66s/it]"
     ]
    },
    {
     "name": "stdout",
     "output_type": "stream",
     "text": [
      "Processing  205 DBT-P02648 DBT-S04930 rcc\n",
      "File reading done  (67, 750, 500)\n"
     ]
    },
    {
     "name": "stderr",
     "output_type": "stream",
     "text": [
      "\r",
      " 52%|█████▏    | 206/395 [14:31<14:22,  4.56s/it]"
     ]
    },
    {
     "name": "stdout",
     "output_type": "stream",
     "text": [
      "Processing  206 DBT-P02648 DBT-S04930 rmlo\n",
      "File reading done  (69, 750, 500)\n"
     ]
    },
    {
     "name": "stderr",
     "output_type": "stream",
     "text": [
      "\r",
      " 52%|█████▏    | 207/395 [14:35<14:11,  4.53s/it]"
     ]
    },
    {
     "name": "stdout",
     "output_type": "stream",
     "text": [
      "Processing  207 DBT-P02686 DBT-S00620 lcc\n",
      "File reading done  (68, 750, 500)\n"
     ]
    },
    {
     "name": "stderr",
     "output_type": "stream",
     "text": [
      "\r",
      " 53%|█████▎    | 208/395 [14:40<13:58,  4.49s/it]"
     ]
    },
    {
     "name": "stdout",
     "output_type": "stream",
     "text": [
      "Processing  208 DBT-P02686 DBT-S00620 lmlo\n",
      "File reading done  (63, 750, 500)\n"
     ]
    },
    {
     "name": "stderr",
     "output_type": "stream",
     "text": [
      "\r",
      " 53%|█████▎    | 209/395 [14:44<13:30,  4.36s/it]"
     ]
    },
    {
     "name": "stdout",
     "output_type": "stream",
     "text": [
      "Processing  209 DBT-P02766 DBT-S04821 lcc\n",
      "File reading done  (94, 750, 500)\n"
     ]
    },
    {
     "name": "stderr",
     "output_type": "stream",
     "text": [
      "\r",
      " 53%|█████▎    | 210/395 [14:50<14:58,  4.86s/it]"
     ]
    },
    {
     "name": "stdout",
     "output_type": "stream",
     "text": [
      "Processing  210 DBT-P02766 DBT-S04821 lmlo\n",
      "File reading done  (93, 750, 500)\n"
     ]
    },
    {
     "name": "stderr",
     "output_type": "stream",
     "text": [
      "\r",
      " 53%|█████▎    | 211/395 [14:56<15:55,  5.19s/it]"
     ]
    },
    {
     "name": "stdout",
     "output_type": "stream",
     "text": [
      "Processing  211 DBT-P02776 DBT-S03924 lcc\n",
      "File reading done  (48, 750, 500)\n"
     ]
    },
    {
     "name": "stderr",
     "output_type": "stream",
     "text": [
      "\r",
      " 54%|█████▎    | 212/395 [14:59<13:57,  4.58s/it]"
     ]
    },
    {
     "name": "stdout",
     "output_type": "stream",
     "text": [
      "Processing  212 DBT-P02776 DBT-S03924 lmlo\n",
      "File reading done  (51, 750, 500)\n"
     ]
    },
    {
     "name": "stderr",
     "output_type": "stream",
     "text": [
      "\r",
      " 54%|█████▍    | 213/395 [15:02<12:44,  4.20s/it]"
     ]
    },
    {
     "name": "stdout",
     "output_type": "stream",
     "text": [
      "Processing  213 DBT-P02776 DBT-S03924 rcc\n",
      "File reading done  (50, 750, 500)\n"
     ]
    },
    {
     "name": "stderr",
     "output_type": "stream",
     "text": [
      "\r",
      " 54%|█████▍    | 214/395 [15:05<11:49,  3.92s/it]"
     ]
    },
    {
     "name": "stdout",
     "output_type": "stream",
     "text": [
      "Processing  214 DBT-P02776 DBT-S03924 rmlo\n",
      "File reading done  (50, 750, 500)\n"
     ]
    },
    {
     "name": "stderr",
     "output_type": "stream",
     "text": [
      "\r",
      " 54%|█████▍    | 215/395 [15:09<11:08,  3.72s/it]"
     ]
    },
    {
     "name": "stdout",
     "output_type": "stream",
     "text": [
      "Processing  215 DBT-P02816 DBT-S02247 lcc\n",
      "File reading done  (61, 750, 500)\n"
     ]
    },
    {
     "name": "stderr",
     "output_type": "stream",
     "text": [
      "\r",
      " 55%|█████▍    | 216/395 [15:13<11:15,  3.77s/it]"
     ]
    },
    {
     "name": "stdout",
     "output_type": "stream",
     "text": [
      "Processing  216 DBT-P02816 DBT-S02247 lmlo\n",
      "File reading done  (68, 750, 500)\n"
     ]
    },
    {
     "name": "stderr",
     "output_type": "stream",
     "text": [
      "\r",
      " 55%|█████▍    | 217/395 [15:17<11:43,  3.95s/it]"
     ]
    },
    {
     "name": "stdout",
     "output_type": "stream",
     "text": [
      "Processing  217 DBT-P02816 DBT-S02247 rcc\n",
      "File reading done  (61, 750, 500)\n"
     ]
    },
    {
     "name": "stderr",
     "output_type": "stream",
     "text": [
      "\r",
      " 55%|█████▌    | 218/395 [15:21<11:40,  3.96s/it]"
     ]
    },
    {
     "name": "stdout",
     "output_type": "stream",
     "text": [
      "Processing  218 DBT-P02816 DBT-S02247 rmlo\n",
      "File reading done  (56, 750, 500)\n"
     ]
    },
    {
     "name": "stderr",
     "output_type": "stream",
     "text": [
      "\r",
      " 55%|█████▌    | 219/395 [15:25<11:19,  3.86s/it]"
     ]
    },
    {
     "name": "stdout",
     "output_type": "stream",
     "text": [
      "Processing  219 DBT-P02864 DBT-S03957 lcc\n",
      "File reading done  (56, 750, 500)\n"
     ]
    },
    {
     "name": "stderr",
     "output_type": "stream",
     "text": [
      "\r",
      " 56%|█████▌    | 220/395 [15:28<11:01,  3.78s/it]"
     ]
    },
    {
     "name": "stdout",
     "output_type": "stream",
     "text": [
      "Processing  220 DBT-P02864 DBT-S03957 lmlo\n",
      "File reading done  (61, 750, 500)\n"
     ]
    },
    {
     "name": "stderr",
     "output_type": "stream",
     "text": [
      "\r",
      " 56%|█████▌    | 221/395 [15:32<11:07,  3.84s/it]"
     ]
    },
    {
     "name": "stdout",
     "output_type": "stream",
     "text": [
      "Processing  221 DBT-P02864 DBT-S03957 rcc\n",
      "File reading done  (65, 750, 500)\n"
     ]
    },
    {
     "name": "stderr",
     "output_type": "stream",
     "text": [
      "\r",
      " 56%|█████▌    | 222/395 [15:36<11:21,  3.94s/it]"
     ]
    },
    {
     "name": "stdout",
     "output_type": "stream",
     "text": [
      "Processing  222 DBT-P02864 DBT-S03957 rmlo\n",
      "File reading done  (63, 750, 500)\n"
     ]
    },
    {
     "name": "stderr",
     "output_type": "stream",
     "text": [
      "\r",
      " 56%|█████▋    | 223/395 [15:40<11:26,  3.99s/it]"
     ]
    },
    {
     "name": "stdout",
     "output_type": "stream",
     "text": [
      "Processing  223 DBT-P02898 DBT-S00406 lcc\n",
      "File reading done  (41, 750, 500)\n"
     ]
    },
    {
     "name": "stderr",
     "output_type": "stream",
     "text": [
      "\r",
      " 57%|█████▋    | 224/395 [15:43<10:20,  3.63s/it]"
     ]
    },
    {
     "name": "stdout",
     "output_type": "stream",
     "text": [
      "Processing  224 DBT-P02898 DBT-S00406 lmlo\n",
      "File reading done  (44, 750, 500)\n"
     ]
    },
    {
     "name": "stderr",
     "output_type": "stream",
     "text": [
      "\r",
      " 57%|█████▋    | 225/395 [15:46<09:37,  3.39s/it]"
     ]
    },
    {
     "name": "stdout",
     "output_type": "stream",
     "text": [
      "Processing  225 DBT-P02898 DBT-S00406 rcc\n",
      "File reading done  (39, 750, 500)\n"
     ]
    },
    {
     "name": "stderr",
     "output_type": "stream",
     "text": [
      "\r",
      " 57%|█████▋    | 226/395 [15:49<08:52,  3.15s/it]"
     ]
    },
    {
     "name": "stdout",
     "output_type": "stream",
     "text": [
      "Processing  226 DBT-P02898 DBT-S00406 rmlo\n",
      "File reading done  (43, 750, 500)\n"
     ]
    },
    {
     "name": "stderr",
     "output_type": "stream",
     "text": [
      "\r",
      " 57%|█████▋    | 227/395 [15:51<08:32,  3.05s/it]"
     ]
    },
    {
     "name": "stdout",
     "output_type": "stream",
     "text": [
      "Processing  227 DBT-P02959 DBT-S05167 lcc\n",
      "File reading done  (84, 750, 500)\n"
     ]
    },
    {
     "name": "stderr",
     "output_type": "stream",
     "text": [
      "\r",
      " 58%|█████▊    | 228/395 [15:57<10:28,  3.77s/it]"
     ]
    },
    {
     "name": "stdout",
     "output_type": "stream",
     "text": [
      "Processing  228 DBT-P02959 DBT-S05167 lmlo\n",
      "File reading done  (93, 750, 500)\n"
     ]
    },
    {
     "name": "stderr",
     "output_type": "stream",
     "text": [
      "\r",
      " 58%|█████▊    | 229/395 [16:03<12:16,  4.44s/it]"
     ]
    },
    {
     "name": "stdout",
     "output_type": "stream",
     "text": [
      "Processing  229 DBT-P02959 DBT-S05167 rcc\n",
      "File reading done  (84, 750, 500)\n"
     ]
    },
    {
     "name": "stderr",
     "output_type": "stream",
     "text": [
      "\r",
      " 58%|█████▊    | 230/395 [16:08<13:00,  4.73s/it]"
     ]
    },
    {
     "name": "stdout",
     "output_type": "stream",
     "text": [
      "Processing  230 DBT-P02959 DBT-S05167 rmlo\n",
      "File reading done  (97, 750, 500)\n"
     ]
    },
    {
     "name": "stderr",
     "output_type": "stream",
     "text": [
      "\r",
      " 58%|█████▊    | 231/395 [16:15<14:09,  5.18s/it]"
     ]
    },
    {
     "name": "stdout",
     "output_type": "stream",
     "text": [
      "Processing  231 DBT-P02989 DBT-S01022 rcc\n",
      "File reading done  (86, 750, 500)\n"
     ]
    },
    {
     "name": "stderr",
     "output_type": "stream",
     "text": [
      "\r",
      " 59%|█████▊    | 232/395 [16:20<14:20,  5.28s/it]"
     ]
    },
    {
     "name": "stdout",
     "output_type": "stream",
     "text": [
      "Processing  232 DBT-P03027 DBT-S03974 lcc\n",
      "File reading done  (64, 750, 500)\n"
     ]
    },
    {
     "name": "stderr",
     "output_type": "stream",
     "text": [
      "\r",
      " 59%|█████▉    | 233/395 [16:24<13:21,  4.95s/it]"
     ]
    },
    {
     "name": "stdout",
     "output_type": "stream",
     "text": [
      "Processing  233 DBT-P03027 DBT-S03974 lmlo\n",
      "File reading done  (69, 750, 500)\n"
     ]
    },
    {
     "name": "stderr",
     "output_type": "stream",
     "text": [
      "\r",
      " 59%|█████▉    | 234/395 [16:29<12:52,  4.80s/it]"
     ]
    },
    {
     "name": "stdout",
     "output_type": "stream",
     "text": [
      "Processing  234 DBT-P03092 DBT-S01050 lcc\n",
      "File reading done  (78, 750, 500)\n"
     ]
    },
    {
     "name": "stderr",
     "output_type": "stream",
     "text": [
      "\r",
      " 59%|█████▉    | 235/395 [16:34<12:59,  4.87s/it]"
     ]
    },
    {
     "name": "stdout",
     "output_type": "stream",
     "text": [
      "Processing  235 DBT-P03092 DBT-S01050 lmlo\n",
      "File reading done  (84, 750, 500)\n"
     ]
    },
    {
     "name": "stderr",
     "output_type": "stream",
     "text": [
      "\r",
      " 60%|█████▉    | 236/395 [16:39<13:19,  5.03s/it]"
     ]
    },
    {
     "name": "stdout",
     "output_type": "stream",
     "text": [
      "Processing  236 DBT-P03092 DBT-S01050 rcc\n",
      "File reading done  (73, 750, 500)\n"
     ]
    },
    {
     "name": "stderr",
     "output_type": "stream",
     "text": [
      "\r",
      " 60%|██████    | 237/395 [16:44<12:58,  4.93s/it]"
     ]
    },
    {
     "name": "stdout",
     "output_type": "stream",
     "text": [
      "Processing  237 DBT-P03092 DBT-S01050 rmlo\n",
      "File reading done  (79, 750, 500)\n"
     ]
    },
    {
     "name": "stderr",
     "output_type": "stream",
     "text": [
      "\r",
      " 60%|██████    | 238/395 [16:49<13:03,  4.99s/it]"
     ]
    },
    {
     "name": "stdout",
     "output_type": "stream",
     "text": [
      "Processing  238 DBT-P03110 DBT-S02292 lcc\n",
      "File reading done  (33, 750, 500)\n"
     ]
    },
    {
     "name": "stderr",
     "output_type": "stream",
     "text": [
      "\r",
      " 61%|██████    | 239/395 [16:51<10:46,  4.15s/it]"
     ]
    },
    {
     "name": "stdout",
     "output_type": "stream",
     "text": [
      "Processing  239 DBT-P03110 DBT-S02292 lmlo\n",
      "File reading done  (45, 750, 500)\n"
     ]
    },
    {
     "name": "stderr",
     "output_type": "stream",
     "text": [
      "\r",
      " 61%|██████    | 240/395 [16:54<09:51,  3.82s/it]"
     ]
    },
    {
     "name": "stdout",
     "output_type": "stream",
     "text": [
      "Processing  240 DBT-P03110 DBT-S02292 rcc\n",
      "File reading done  (35, 750, 500)\n"
     ]
    },
    {
     "name": "stderr",
     "output_type": "stream",
     "text": [
      "\r",
      " 61%|██████    | 241/395 [16:56<08:38,  3.37s/it]"
     ]
    },
    {
     "name": "stdout",
     "output_type": "stream",
     "text": [
      "Processing  241 DBT-P03110 DBT-S02292 rmlo\n",
      "File reading done  (39, 750, 500)\n"
     ]
    },
    {
     "name": "stderr",
     "output_type": "stream",
     "text": [
      "\r",
      " 61%|██████▏   | 242/395 [16:59<07:59,  3.13s/it]"
     ]
    },
    {
     "name": "stdout",
     "output_type": "stream",
     "text": [
      "Processing  242 DBT-P03113 DBT-S00369 rcc\n",
      "File reading done  (69, 750, 500)\n"
     ]
    },
    {
     "name": "stderr",
     "output_type": "stream",
     "text": [
      "\r",
      " 62%|██████▏   | 243/395 [17:04<09:00,  3.55s/it]"
     ]
    },
    {
     "name": "stdout",
     "output_type": "stream",
     "text": [
      "Processing  243 DBT-P03113 DBT-S00369 rmlo\n",
      "File reading done  (68, 750, 500)\n"
     ]
    },
    {
     "name": "stderr",
     "output_type": "stream",
     "text": [
      "\r",
      " 62%|██████▏   | 244/395 [17:08<09:35,  3.81s/it]"
     ]
    },
    {
     "name": "stdout",
     "output_type": "stream",
     "text": [
      "Processing  244 DBT-P03129 DBT-S04844 lcc\n",
      "File reading done  (55, 750, 500)\n"
     ]
    },
    {
     "name": "stderr",
     "output_type": "stream",
     "text": [
      "\r",
      " 62%|██████▏   | 245/395 [17:12<09:21,  3.74s/it]"
     ]
    },
    {
     "name": "stdout",
     "output_type": "stream",
     "text": [
      "Processing  245 DBT-P03129 DBT-S04844 lmlo\n",
      "File reading done  (50, 750, 500)\n"
     ]
    },
    {
     "name": "stderr",
     "output_type": "stream",
     "text": [
      "\r",
      " 62%|██████▏   | 246/395 [17:15<08:55,  3.59s/it]"
     ]
    },
    {
     "name": "stdout",
     "output_type": "stream",
     "text": [
      "Processing  246 DBT-P03129 DBT-S04844 rcc\n",
      "File reading done  (51, 750, 500)\n"
     ]
    },
    {
     "name": "stderr",
     "output_type": "stream",
     "text": [
      "\r",
      " 63%|██████▎   | 247/395 [17:18<08:38,  3.51s/it]"
     ]
    },
    {
     "name": "stdout",
     "output_type": "stream",
     "text": [
      "Processing  247 DBT-P03129 DBT-S04844 rmlo\n",
      "File reading done  (47, 750, 500)\n"
     ]
    },
    {
     "name": "stderr",
     "output_type": "stream",
     "text": [
      "\r",
      " 63%|██████▎   | 248/395 [17:21<08:19,  3.40s/it]"
     ]
    },
    {
     "name": "stdout",
     "output_type": "stream",
     "text": [
      "Processing  248 DBT-P03215 DBT-S01707 lcc\n",
      "File reading done  (67, 750, 500)\n"
     ]
    },
    {
     "name": "stderr",
     "output_type": "stream",
     "text": [
      "\r",
      " 63%|██████▎   | 249/395 [17:26<08:54,  3.66s/it]"
     ]
    },
    {
     "name": "stdout",
     "output_type": "stream",
     "text": [
      "Processing  249 DBT-P03215 DBT-S01707 lmlo\n",
      "File reading done  (85, 750, 500)\n"
     ]
    },
    {
     "name": "stderr",
     "output_type": "stream",
     "text": [
      "\r",
      " 63%|██████▎   | 250/395 [17:31<10:09,  4.20s/it]"
     ]
    },
    {
     "name": "stdout",
     "output_type": "stream",
     "text": [
      "Processing  250 DBT-P03215 DBT-S01707 rcc\n",
      "File reading done  (72, 750, 500)\n"
     ]
    },
    {
     "name": "stderr",
     "output_type": "stream",
     "text": [
      "\r",
      " 64%|██████▎   | 251/395 [17:36<10:23,  4.33s/it]"
     ]
    },
    {
     "name": "stdout",
     "output_type": "stream",
     "text": [
      "Processing  251 DBT-P03215 DBT-S01707 rmlo\n",
      "File reading done  (88, 750, 500)\n"
     ]
    },
    {
     "name": "stderr",
     "output_type": "stream",
     "text": [
      "\r",
      " 64%|██████▍   | 252/395 [17:41<11:16,  4.73s/it]"
     ]
    },
    {
     "name": "stdout",
     "output_type": "stream",
     "text": [
      "Processing  252 DBT-P03263 DBT-S00316 lcc\n",
      "File reading done  (66, 750, 500)\n"
     ]
    },
    {
     "name": "stderr",
     "output_type": "stream",
     "text": [
      "\r",
      " 64%|██████▍   | 253/395 [17:46<10:51,  4.59s/it]"
     ]
    },
    {
     "name": "stdout",
     "output_type": "stream",
     "text": [
      "Processing  253 DBT-P03263 DBT-S00316 lmlo\n",
      "File reading done  (69, 750, 500)\n"
     ]
    },
    {
     "name": "stderr",
     "output_type": "stream",
     "text": [
      "\r",
      " 64%|██████▍   | 254/395 [17:50<10:41,  4.55s/it]"
     ]
    },
    {
     "name": "stdout",
     "output_type": "stream",
     "text": [
      "Processing  254 DBT-P03263 DBT-S00316 rcc\n",
      "File reading done  (68, 750, 500)\n"
     ]
    },
    {
     "name": "stderr",
     "output_type": "stream",
     "text": [
      "\r",
      " 65%|██████▍   | 255/395 [17:54<10:29,  4.50s/it]"
     ]
    },
    {
     "name": "stdout",
     "output_type": "stream",
     "text": [
      "Processing  255 DBT-P03263 DBT-S00316 rmlo\n",
      "File reading done  (68, 750, 500)\n"
     ]
    },
    {
     "name": "stderr",
     "output_type": "stream",
     "text": [
      "\r",
      " 65%|██████▍   | 256/395 [17:59<10:20,  4.46s/it]"
     ]
    },
    {
     "name": "stdout",
     "output_type": "stream",
     "text": [
      "Processing  256 DBT-P03343 DBT-S02029 lcc\n",
      "File reading done  (74, 750, 500)\n"
     ]
    },
    {
     "name": "stderr",
     "output_type": "stream",
     "text": [
      "\r",
      " 65%|██████▌   | 257/395 [18:04<10:27,  4.55s/it]"
     ]
    },
    {
     "name": "stdout",
     "output_type": "stream",
     "text": [
      "Processing  257 DBT-P03343 DBT-S02029 lmlo\n",
      "File reading done  (69, 750, 500)\n"
     ]
    },
    {
     "name": "stderr",
     "output_type": "stream",
     "text": [
      "\r",
      " 65%|██████▌   | 258/395 [18:08<10:18,  4.51s/it]"
     ]
    },
    {
     "name": "stdout",
     "output_type": "stream",
     "text": [
      "Processing  258 DBT-P03343 DBT-S02029 rcc\n",
      "File reading done  (70, 750, 500)\n"
     ]
    },
    {
     "name": "stderr",
     "output_type": "stream",
     "text": [
      "\r",
      " 66%|██████▌   | 259/395 [18:12<10:13,  4.51s/it]"
     ]
    },
    {
     "name": "stdout",
     "output_type": "stream",
     "text": [
      "Processing  259 DBT-P03343 DBT-S02029 rmlo\n",
      "File reading done  (66, 750, 500)\n"
     ]
    },
    {
     "name": "stderr",
     "output_type": "stream",
     "text": [
      "\r",
      " 66%|██████▌   | 260/395 [18:17<09:58,  4.43s/it]"
     ]
    },
    {
     "name": "stdout",
     "output_type": "stream",
     "text": [
      "Processing  260 DBT-P03360 DBT-S05259 lcc\n",
      "File reading done  (80, 750, 500)\n"
     ]
    },
    {
     "name": "stderr",
     "output_type": "stream",
     "text": [
      "\r",
      " 66%|██████▌   | 261/395 [18:22<10:21,  4.64s/it]"
     ]
    },
    {
     "name": "stdout",
     "output_type": "stream",
     "text": [
      "Processing  261 DBT-P03360 DBT-S05259 lmlo\n",
      "File reading done  (80, 750, 500)\n"
     ]
    },
    {
     "name": "stderr",
     "output_type": "stream",
     "text": [
      "\r",
      " 66%|██████▋   | 262/395 [18:27<10:36,  4.79s/it]"
     ]
    },
    {
     "name": "stdout",
     "output_type": "stream",
     "text": [
      "Processing  262 DBT-P03390 DBT-S01452 lcc\n",
      "File reading done  (45, 750, 500)\n"
     ]
    },
    {
     "name": "stderr",
     "output_type": "stream",
     "text": [
      "\r",
      " 67%|██████▋   | 263/395 [18:30<09:21,  4.25s/it]"
     ]
    },
    {
     "name": "stdout",
     "output_type": "stream",
     "text": [
      "Processing  263 DBT-P03390 DBT-S01452 lmlo\n",
      "File reading done  (46, 750, 500)\n"
     ]
    },
    {
     "name": "stderr",
     "output_type": "stream",
     "text": [
      "\r",
      " 67%|██████▋   | 264/395 [18:33<08:27,  3.87s/it]"
     ]
    },
    {
     "name": "stdout",
     "output_type": "stream",
     "text": [
      "Processing  264 DBT-P03390 DBT-S01452 rcc\n",
      "File reading done  (40, 750, 500)\n"
     ]
    },
    {
     "name": "stderr",
     "output_type": "stream",
     "text": [
      "\r",
      " 67%|██████▋   | 265/395 [18:36<07:34,  3.50s/it]"
     ]
    },
    {
     "name": "stdout",
     "output_type": "stream",
     "text": [
      "Processing  265 DBT-P03390 DBT-S01452 rmlo\n",
      "File reading done  (41, 750, 500)\n"
     ]
    },
    {
     "name": "stderr",
     "output_type": "stream",
     "text": [
      "\r",
      " 67%|██████▋   | 266/395 [18:38<06:59,  3.25s/it]"
     ]
    },
    {
     "name": "stdout",
     "output_type": "stream",
     "text": [
      "Processing  266 DBT-P03390 DBT-S04596 lcc\n",
      "File reading done  (52, 750, 500)\n"
     ]
    },
    {
     "name": "stderr",
     "output_type": "stream",
     "text": [
      "\r",
      " 68%|██████▊   | 267/395 [18:42<07:01,  3.30s/it]"
     ]
    },
    {
     "name": "stdout",
     "output_type": "stream",
     "text": [
      "Processing  267 DBT-P03390 DBT-S04596 lmlo\n",
      "File reading done  (57, 750, 500)\n"
     ]
    },
    {
     "name": "stderr",
     "output_type": "stream",
     "text": [
      "\r",
      " 68%|██████▊   | 268/395 [18:45<07:13,  3.41s/it]"
     ]
    },
    {
     "name": "stdout",
     "output_type": "stream",
     "text": [
      "Processing  268 DBT-P03390 DBT-S04596 rcc\n",
      "File reading done  (49, 750, 500)\n"
     ]
    },
    {
     "name": "stderr",
     "output_type": "stream",
     "text": [
      "\r",
      " 68%|██████▊   | 269/395 [18:48<07:01,  3.34s/it]"
     ]
    },
    {
     "name": "stdout",
     "output_type": "stream",
     "text": [
      "Processing  269 DBT-P03390 DBT-S04596 rmlo\n",
      "File reading done  (49, 750, 500)\n"
     ]
    },
    {
     "name": "stderr",
     "output_type": "stream",
     "text": [
      "\r",
      " 68%|██████▊   | 270/395 [18:52<06:51,  3.29s/it]"
     ]
    },
    {
     "name": "stdout",
     "output_type": "stream",
     "text": [
      "Processing  270 DBT-P03403 DBT-S04944 lcc\n",
      "File reading done  (63, 750, 500)\n"
     ]
    },
    {
     "name": "stderr",
     "output_type": "stream",
     "text": [
      "\r",
      " 69%|██████▊   | 271/395 [18:56<07:16,  3.52s/it]"
     ]
    },
    {
     "name": "stdout",
     "output_type": "stream",
     "text": [
      "Processing  271 DBT-P03403 DBT-S04944 lmlo\n",
      "File reading done  (63, 750, 500)\n"
     ]
    },
    {
     "name": "stderr",
     "output_type": "stream",
     "text": [
      "\r",
      " 69%|██████▉   | 272/395 [19:00<07:33,  3.69s/it]"
     ]
    },
    {
     "name": "stdout",
     "output_type": "stream",
     "text": [
      "Processing  272 DBT-P03448 DBT-S05213 lcc\n",
      "File reading done  (42, 750, 500)\n"
     ]
    },
    {
     "name": "stderr",
     "output_type": "stream",
     "text": [
      "\r",
      " 69%|██████▉   | 273/395 [19:03<06:55,  3.41s/it]"
     ]
    },
    {
     "name": "stdout",
     "output_type": "stream",
     "text": [
      "Processing  273 DBT-P03448 DBT-S05213 lmlo\n",
      "File reading done  (36, 750, 500)\n"
     ]
    },
    {
     "name": "stderr",
     "output_type": "stream",
     "text": [
      "\r",
      " 69%|██████▉   | 274/395 [19:05<06:14,  3.09s/it]"
     ]
    },
    {
     "name": "stdout",
     "output_type": "stream",
     "text": [
      "Processing  274 DBT-P03448 DBT-S05213 rcc\n",
      "File reading done  (41, 750, 500)\n"
     ]
    },
    {
     "name": "stderr",
     "output_type": "stream",
     "text": [
      "\r",
      " 70%|██████▉   | 275/395 [19:08<05:56,  2.97s/it]"
     ]
    },
    {
     "name": "stdout",
     "output_type": "stream",
     "text": [
      "Processing  275 DBT-P03448 DBT-S05213 rmlo\n",
      "File reading done  (36, 750, 500)\n"
     ]
    },
    {
     "name": "stderr",
     "output_type": "stream",
     "text": [
      "\r",
      " 70%|██████▉   | 276/395 [19:10<05:30,  2.78s/it]"
     ]
    },
    {
     "name": "stdout",
     "output_type": "stream",
     "text": [
      "Processing  276 DBT-P03501 DBT-S00689 lcc\n",
      "File reading done  (77, 750, 500)\n"
     ]
    },
    {
     "name": "stderr",
     "output_type": "stream",
     "text": [
      "\r",
      " 70%|███████   | 277/395 [19:15<06:46,  3.44s/it]"
     ]
    },
    {
     "name": "stdout",
     "output_type": "stream",
     "text": [
      "Processing  277 DBT-P03501 DBT-S00689 lmlo\n",
      "File reading done  (84, 750, 500)\n"
     ]
    },
    {
     "name": "stderr",
     "output_type": "stream",
     "text": [
      "\r",
      " 70%|███████   | 278/395 [19:20<07:52,  4.03s/it]"
     ]
    },
    {
     "name": "stdout",
     "output_type": "stream",
     "text": [
      "Processing  278 DBT-P03501 DBT-S00689 rcc\n",
      "File reading done  (73, 750, 500)\n"
     ]
    },
    {
     "name": "stderr",
     "output_type": "stream",
     "text": [
      "\r",
      " 71%|███████   | 279/395 [19:25<08:11,  4.24s/it]"
     ]
    },
    {
     "name": "stdout",
     "output_type": "stream",
     "text": [
      "Processing  279 DBT-P03501 DBT-S00689 rmlo\n",
      "File reading done  (81, 750, 500)\n"
     ]
    },
    {
     "name": "stderr",
     "output_type": "stream",
     "text": [
      "\r",
      " 71%|███████   | 280/395 [19:30<08:41,  4.53s/it]"
     ]
    },
    {
     "name": "stdout",
     "output_type": "stream",
     "text": [
      "Processing  280 DBT-P03574 DBT-S04799 lcc\n",
      "File reading done  (68, 750, 500)\n"
     ]
    },
    {
     "name": "stderr",
     "output_type": "stream",
     "text": [
      "\r",
      " 71%|███████   | 281/395 [19:35<08:32,  4.50s/it]"
     ]
    },
    {
     "name": "stdout",
     "output_type": "stream",
     "text": [
      "Processing  281 DBT-P03574 DBT-S04799 lmlo\n",
      "File reading done  (66, 750, 500)\n"
     ]
    },
    {
     "name": "stderr",
     "output_type": "stream",
     "text": [
      "\r",
      " 71%|███████▏  | 282/395 [19:39<08:20,  4.43s/it]"
     ]
    },
    {
     "name": "stdout",
     "output_type": "stream",
     "text": [
      "Processing  282 DBT-P03598 DBT-S03655 rcc\n",
      "File reading done  (72, 750, 500)\n"
     ]
    },
    {
     "name": "stderr",
     "output_type": "stream",
     "text": [
      "\r",
      " 72%|███████▏  | 283/395 [19:44<08:23,  4.50s/it]"
     ]
    },
    {
     "name": "stdout",
     "output_type": "stream",
     "text": [
      "Processing  283 DBT-P03598 DBT-S03655 rmlo\n",
      "File reading done  (79, 750, 500)\n"
     ]
    },
    {
     "name": "stderr",
     "output_type": "stream",
     "text": [
      "\r",
      " 72%|███████▏  | 284/395 [19:49<08:38,  4.67s/it]"
     ]
    },
    {
     "name": "stdout",
     "output_type": "stream",
     "text": [
      "Processing  284 DBT-P03605 DBT-S02369 lcc\n",
      "File reading done  (75, 750, 500)\n"
     ]
    },
    {
     "name": "stderr",
     "output_type": "stream",
     "text": [
      "\r",
      " 72%|███████▏  | 285/395 [19:53<08:38,  4.71s/it]"
     ]
    },
    {
     "name": "stdout",
     "output_type": "stream",
     "text": [
      "Processing  285 DBT-P03605 DBT-S02369 lmlo\n",
      "File reading done  (83, 750, 500)\n"
     ]
    },
    {
     "name": "stderr",
     "output_type": "stream",
     "text": [
      "\r",
      " 72%|███████▏  | 286/395 [19:59<08:53,  4.90s/it]"
     ]
    },
    {
     "name": "stdout",
     "output_type": "stream",
     "text": [
      "Processing  286 DBT-P03605 DBT-S02369 rcc\n",
      "File reading done  (76, 750, 500)\n"
     ]
    },
    {
     "name": "stderr",
     "output_type": "stream",
     "text": [
      "\r",
      " 73%|███████▎  | 287/395 [20:04<08:48,  4.89s/it]"
     ]
    },
    {
     "name": "stdout",
     "output_type": "stream",
     "text": [
      "Processing  287 DBT-P03605 DBT-S02369 rmlo\n",
      "File reading done  (80, 750, 500)\n"
     ]
    },
    {
     "name": "stderr",
     "output_type": "stream",
     "text": [
      "\r",
      " 73%|███████▎  | 288/395 [20:09<08:52,  4.97s/it]"
     ]
    },
    {
     "name": "stdout",
     "output_type": "stream",
     "text": [
      "Processing  288 DBT-P03621 DBT-S03266 lcc\n",
      "File reading done  (73, 750, 500)\n"
     ]
    },
    {
     "name": "stderr",
     "output_type": "stream",
     "text": [
      "\r",
      " 73%|███████▎  | 289/395 [20:14<08:37,  4.88s/it]"
     ]
    },
    {
     "name": "stdout",
     "output_type": "stream",
     "text": [
      "Processing  289 DBT-P03621 DBT-S03266 lmlo\n",
      "File reading done  (84, 750, 500)\n"
     ]
    },
    {
     "name": "stderr",
     "output_type": "stream",
     "text": [
      "\r",
      " 73%|███████▎  | 290/395 [20:19<08:48,  5.03s/it]"
     ]
    },
    {
     "name": "stdout",
     "output_type": "stream",
     "text": [
      "Processing  290 DBT-P03628 DBT-S03902 lcc\n",
      "File reading done  (74, 750, 500)\n"
     ]
    },
    {
     "name": "stderr",
     "output_type": "stream",
     "text": [
      "\r",
      " 74%|███████▎  | 291/395 [20:24<08:34,  4.95s/it]"
     ]
    },
    {
     "name": "stdout",
     "output_type": "stream",
     "text": [
      "Processing  291 DBT-P03628 DBT-S03902 lmlo\n",
      "File reading done  (74, 750, 500)\n"
     ]
    },
    {
     "name": "stderr",
     "output_type": "stream",
     "text": [
      "\r",
      " 74%|███████▍  | 292/395 [20:28<08:23,  4.89s/it]"
     ]
    },
    {
     "name": "stdout",
     "output_type": "stream",
     "text": [
      "Processing  292 DBT-P03651 DBT-S04208 lcc\n",
      "File reading done  (65, 750, 500)\n"
     ]
    },
    {
     "name": "stderr",
     "output_type": "stream",
     "text": [
      "\r",
      " 74%|███████▍  | 293/395 [20:33<07:57,  4.69s/it]"
     ]
    },
    {
     "name": "stdout",
     "output_type": "stream",
     "text": [
      "Processing  293 DBT-P03651 DBT-S04208 lmlo\n",
      "File reading done  (72, 750, 500)\n"
     ]
    },
    {
     "name": "stderr",
     "output_type": "stream",
     "text": [
      "\r",
      " 74%|███████▍  | 294/395 [20:37<07:51,  4.67s/it]"
     ]
    },
    {
     "name": "stdout",
     "output_type": "stream",
     "text": [
      "Processing  294 DBT-P03651 DBT-S04208 rcc\n",
      "File reading done  (63, 750, 500)\n"
     ]
    },
    {
     "name": "stderr",
     "output_type": "stream",
     "text": [
      "\r",
      " 75%|███████▍  | 295/395 [20:41<07:31,  4.52s/it]"
     ]
    },
    {
     "name": "stdout",
     "output_type": "stream",
     "text": [
      "Processing  295 DBT-P03651 DBT-S04208 rmlo\n",
      "File reading done  (66, 750, 500)\n"
     ]
    },
    {
     "name": "stderr",
     "output_type": "stream",
     "text": [
      "\r",
      " 75%|███████▍  | 296/395 [20:46<07:19,  4.44s/it]"
     ]
    },
    {
     "name": "stdout",
     "output_type": "stream",
     "text": [
      "Processing  296 DBT-P03689 DBT-S01466 lcc\n",
      "File reading done  (57, 750, 500)\n"
     ]
    },
    {
     "name": "stderr",
     "output_type": "stream",
     "text": [
      "\r",
      " 75%|███████▌  | 297/395 [20:49<06:52,  4.20s/it]"
     ]
    },
    {
     "name": "stdout",
     "output_type": "stream",
     "text": [
      "Processing  297 DBT-P03694 DBT-S00795 lcc\n",
      "File reading done  (61, 750, 500)\n"
     ]
    },
    {
     "name": "stderr",
     "output_type": "stream",
     "text": [
      "\r",
      " 75%|███████▌  | 298/395 [20:53<06:39,  4.12s/it]"
     ]
    },
    {
     "name": "stdout",
     "output_type": "stream",
     "text": [
      "Processing  298 DBT-P03694 DBT-S00795 lmlo\n",
      "File reading done  (65, 750, 500)\n"
     ]
    },
    {
     "name": "stderr",
     "output_type": "stream",
     "text": [
      "\r",
      " 76%|███████▌  | 299/395 [20:57<06:37,  4.14s/it]"
     ]
    },
    {
     "name": "stdout",
     "output_type": "stream",
     "text": [
      "Processing  299 DBT-P03694 DBT-S00795 rcc\n",
      "File reading done  (60, 750, 500)\n"
     ]
    },
    {
     "name": "stderr",
     "output_type": "stream",
     "text": [
      "\r",
      " 76%|███████▌  | 300/395 [21:01<06:26,  4.07s/it]"
     ]
    },
    {
     "name": "stdout",
     "output_type": "stream",
     "text": [
      "Processing  300 DBT-P03694 DBT-S00795 rmlo\n",
      "File reading done  (64, 750, 500)\n"
     ]
    },
    {
     "name": "stderr",
     "output_type": "stream",
     "text": [
      "\r",
      " 76%|███████▌  | 301/395 [21:05<06:24,  4.09s/it]"
     ]
    },
    {
     "name": "stdout",
     "output_type": "stream",
     "text": [
      "Processing  301 DBT-P03728 DBT-S03978 rmlo\n",
      "File reading done  (61, 750, 500)\n"
     ]
    },
    {
     "name": "stderr",
     "output_type": "stream",
     "text": [
      "\r",
      " 76%|███████▋  | 302/395 [21:09<06:16,  4.05s/it]"
     ]
    },
    {
     "name": "stdout",
     "output_type": "stream",
     "text": [
      "Processing  302 DBT-P03831 DBT-S01348 lcc\n",
      "File reading done  (34, 750, 500)\n"
     ]
    },
    {
     "name": "stderr",
     "output_type": "stream",
     "text": [
      "\r",
      " 77%|███████▋  | 303/395 [21:12<05:21,  3.50s/it]"
     ]
    },
    {
     "name": "stdout",
     "output_type": "stream",
     "text": [
      "Processing  303 DBT-P03831 DBT-S01348 lmlo\n",
      "File reading done  (31, 750, 500)\n"
     ]
    },
    {
     "name": "stderr",
     "output_type": "stream",
     "text": [
      "\r",
      " 77%|███████▋  | 304/395 [21:14<04:39,  3.07s/it]"
     ]
    },
    {
     "name": "stdout",
     "output_type": "stream",
     "text": [
      "Processing  304 DBT-P03831 DBT-S01348 rcc\n",
      "File reading done  (31, 750, 500)\n"
     ]
    },
    {
     "name": "stderr",
     "output_type": "stream",
     "text": [
      "\r",
      " 77%|███████▋  | 305/395 [21:16<04:08,  2.76s/it]"
     ]
    },
    {
     "name": "stdout",
     "output_type": "stream",
     "text": [
      "Processing  305 DBT-P03831 DBT-S01348 rmlo\n",
      "File reading done  (31, 750, 500)\n"
     ]
    },
    {
     "name": "stderr",
     "output_type": "stream",
     "text": [
      "\r",
      " 77%|███████▋  | 306/395 [21:18<03:47,  2.55s/it]"
     ]
    },
    {
     "name": "stdout",
     "output_type": "stream",
     "text": [
      "Processing  306 DBT-P03901 DBT-S00254 lcc\n",
      "File reading done  (76, 750, 500)\n"
     ]
    },
    {
     "name": "stderr",
     "output_type": "stream",
     "text": [
      "\r",
      " 78%|███████▊  | 307/395 [21:23<04:47,  3.26s/it]"
     ]
    },
    {
     "name": "stdout",
     "output_type": "stream",
     "text": [
      "Processing  307 DBT-P03901 DBT-S00254 lmlo\n",
      "File reading done  (83, 750, 500)\n"
     ]
    },
    {
     "name": "stderr",
     "output_type": "stream",
     "text": [
      "\r",
      " 78%|███████▊  | 308/395 [21:28<05:38,  3.89s/it]"
     ]
    },
    {
     "name": "stdout",
     "output_type": "stream",
     "text": [
      "Processing  308 DBT-P03901 DBT-S00254 rcc\n",
      "File reading done  (74, 750, 500)\n"
     ]
    },
    {
     "name": "stderr",
     "output_type": "stream",
     "text": [
      "\r",
      " 78%|███████▊  | 309/395 [21:33<05:58,  4.17s/it]"
     ]
    },
    {
     "name": "stdout",
     "output_type": "stream",
     "text": [
      "Processing  309 DBT-P03901 DBT-S00254 rmlo\n",
      "File reading done  (78, 750, 500)\n"
     ]
    },
    {
     "name": "stderr",
     "output_type": "stream",
     "text": [
      "\r",
      " 78%|███████▊  | 310/395 [21:38<06:17,  4.44s/it]"
     ]
    },
    {
     "name": "stdout",
     "output_type": "stream",
     "text": [
      "Processing  310 DBT-P04008 DBT-S03482 lcc\n",
      "File reading done  (58, 750, 500)\n"
     ]
    },
    {
     "name": "stderr",
     "output_type": "stream",
     "text": [
      "\r",
      " 79%|███████▊  | 311/395 [21:42<05:55,  4.23s/it]"
     ]
    },
    {
     "name": "stdout",
     "output_type": "stream",
     "text": [
      "Processing  311 DBT-P04008 DBT-S03482 lmlo\n",
      "File reading done  (55, 750, 500)\n"
     ]
    },
    {
     "name": "stderr",
     "output_type": "stream",
     "text": [
      "\r",
      " 79%|███████▉  | 312/395 [21:45<05:34,  4.03s/it]"
     ]
    },
    {
     "name": "stdout",
     "output_type": "stream",
     "text": [
      "Processing  312 DBT-P04008 DBT-S03482 rcc\n",
      "File reading done  (60, 750, 500)\n"
     ]
    },
    {
     "name": "stderr",
     "output_type": "stream",
     "text": [
      "\r",
      " 79%|███████▉  | 313/395 [21:49<05:26,  3.99s/it]"
     ]
    },
    {
     "name": "stdout",
     "output_type": "stream",
     "text": [
      "Processing  313 DBT-P04008 DBT-S03482 rmlo\n",
      "File reading done  (59, 750, 500)\n"
     ]
    },
    {
     "name": "stderr",
     "output_type": "stream",
     "text": [
      "\r",
      " 79%|███████▉  | 314/395 [21:53<05:19,  3.94s/it]"
     ]
    },
    {
     "name": "stdout",
     "output_type": "stream",
     "text": [
      "Processing  314 DBT-P04045 DBT-S04897 lcc\n",
      "File reading done  (68, 750, 500)\n"
     ]
    },
    {
     "name": "stderr",
     "output_type": "stream",
     "text": [
      "\r",
      " 80%|███████▉  | 315/395 [21:57<05:26,  4.08s/it]"
     ]
    },
    {
     "name": "stdout",
     "output_type": "stream",
     "text": [
      "Processing  315 DBT-P04045 DBT-S04897 lmlo\n",
      "File reading done  (67, 750, 500)\n"
     ]
    },
    {
     "name": "stderr",
     "output_type": "stream",
     "text": [
      "\r",
      " 80%|████████  | 316/395 [22:02<05:28,  4.16s/it]"
     ]
    },
    {
     "name": "stdout",
     "output_type": "stream",
     "text": [
      "Processing  316 DBT-P04045 DBT-S04897 rcc\n",
      "File reading done  (67, 750, 500)\n"
     ]
    },
    {
     "name": "stderr",
     "output_type": "stream",
     "text": [
      "\r",
      " 80%|████████  | 317/395 [22:06<05:28,  4.21s/it]"
     ]
    },
    {
     "name": "stdout",
     "output_type": "stream",
     "text": [
      "Processing  317 DBT-P04045 DBT-S04897 rmlo\n",
      "File reading done  (63, 750, 500)\n"
     ]
    },
    {
     "name": "stderr",
     "output_type": "stream",
     "text": [
      "\r",
      " 81%|████████  | 318/395 [22:10<05:21,  4.18s/it]"
     ]
    },
    {
     "name": "stdout",
     "output_type": "stream",
     "text": [
      "Processing  318 DBT-P04087 DBT-S04873 lcc\n",
      "File reading done  (62, 750, 500)\n"
     ]
    },
    {
     "name": "stderr",
     "output_type": "stream",
     "text": [
      "\r",
      " 81%|████████  | 319/395 [22:14<05:13,  4.12s/it]"
     ]
    },
    {
     "name": "stdout",
     "output_type": "stream",
     "text": [
      "Processing  319 DBT-P04087 DBT-S04873 lmlo\n",
      "File reading done  (64, 750, 500)\n"
     ]
    },
    {
     "name": "stderr",
     "output_type": "stream",
     "text": [
      "\r",
      " 81%|████████  | 320/395 [22:18<05:10,  4.13s/it]"
     ]
    },
    {
     "name": "stdout",
     "output_type": "stream",
     "text": [
      "Processing  320 DBT-P04087 DBT-S04873 rcc\n",
      "File reading done  (67, 750, 500)\n"
     ]
    },
    {
     "name": "stderr",
     "output_type": "stream",
     "text": [
      "\r",
      " 81%|████████▏ | 321/395 [22:23<05:10,  4.19s/it]"
     ]
    },
    {
     "name": "stdout",
     "output_type": "stream",
     "text": [
      "Processing  321 DBT-P04087 DBT-S04873 rmlo\n",
      "File reading done  (68, 750, 500)\n"
     ]
    },
    {
     "name": "stderr",
     "output_type": "stream",
     "text": [
      "\r",
      " 82%|████████▏ | 322/395 [22:27<05:10,  4.26s/it]"
     ]
    },
    {
     "name": "stdout",
     "output_type": "stream",
     "text": [
      "Processing  322 DBT-P04097 DBT-S02552 lmlo\n",
      "File reading done  (80, 750, 500)\n"
     ]
    },
    {
     "name": "stderr",
     "output_type": "stream",
     "text": [
      "\r",
      " 82%|████████▏ | 323/395 [22:32<05:26,  4.53s/it]"
     ]
    },
    {
     "name": "stdout",
     "output_type": "stream",
     "text": [
      "Processing  323 DBT-P04097 DBT-S02552 lmlo1\n",
      "File reading done  (72, 750, 500)\n"
     ]
    },
    {
     "name": "stderr",
     "output_type": "stream",
     "text": [
      "\r",
      " 82%|████████▏ | 324/395 [22:37<05:24,  4.57s/it]"
     ]
    },
    {
     "name": "stdout",
     "output_type": "stream",
     "text": [
      "Processing  324 DBT-P04105 DBT-S02279 lcc\n",
      "File reading done  (72, 750, 500)\n"
     ]
    },
    {
     "name": "stderr",
     "output_type": "stream",
     "text": [
      "\r",
      " 82%|████████▏ | 325/395 [22:42<05:20,  4.58s/it]"
     ]
    },
    {
     "name": "stdout",
     "output_type": "stream",
     "text": [
      "Processing  325 DBT-P04105 DBT-S02279 lmlo\n",
      "File reading done  (81, 750, 500)\n"
     ]
    },
    {
     "name": "stderr",
     "output_type": "stream",
     "text": [
      "\r",
      " 83%|████████▎ | 326/395 [22:47<05:28,  4.77s/it]"
     ]
    },
    {
     "name": "stdout",
     "output_type": "stream",
     "text": [
      "Processing  326 DBT-P04105 DBT-S02279 rcc\n",
      "File reading done  (73, 750, 500)\n"
     ]
    },
    {
     "name": "stderr",
     "output_type": "stream",
     "text": [
      "\r",
      " 83%|████████▎ | 327/395 [22:51<05:23,  4.76s/it]"
     ]
    },
    {
     "name": "stdout",
     "output_type": "stream",
     "text": [
      "Processing  327 DBT-P04105 DBT-S02279 rmlo\n",
      "File reading done  (77, 750, 500)\n"
     ]
    },
    {
     "name": "stderr",
     "output_type": "stream",
     "text": [
      "\r",
      " 83%|████████▎ | 328/395 [22:56<05:21,  4.80s/it]"
     ]
    },
    {
     "name": "stdout",
     "output_type": "stream",
     "text": [
      "Processing  328 DBT-P04106 DBT-S00979 lcc\n",
      "File reading done  (62, 750, 500)\n"
     ]
    },
    {
     "name": "stderr",
     "output_type": "stream",
     "text": [
      "\r",
      " 83%|████████▎ | 329/395 [23:00<05:00,  4.55s/it]"
     ]
    },
    {
     "name": "stdout",
     "output_type": "stream",
     "text": [
      "Processing  329 DBT-P04106 DBT-S00979 lmlo\n",
      "File reading done  (63, 750, 500)\n"
     ]
    },
    {
     "name": "stderr",
     "output_type": "stream",
     "text": [
      "\r",
      " 84%|████████▎ | 330/395 [23:04<04:45,  4.40s/it]"
     ]
    },
    {
     "name": "stdout",
     "output_type": "stream",
     "text": [
      "Processing  330 DBT-P04106 DBT-S00979 rcc\n",
      "File reading done  (63, 750, 500)\n"
     ]
    },
    {
     "name": "stderr",
     "output_type": "stream",
     "text": [
      "\r",
      " 84%|████████▍ | 331/395 [23:08<04:34,  4.28s/it]"
     ]
    },
    {
     "name": "stdout",
     "output_type": "stream",
     "text": [
      "Processing  331 DBT-P04106 DBT-S00979 rmlo\n",
      "File reading done  (61, 750, 500)\n"
     ]
    },
    {
     "name": "stderr",
     "output_type": "stream",
     "text": [
      "\r",
      " 84%|████████▍ | 332/395 [23:12<04:23,  4.18s/it]"
     ]
    },
    {
     "name": "stdout",
     "output_type": "stream",
     "text": [
      "Processing  332 DBT-P04208 DBT-S02579 lcc\n",
      "File reading done  (44, 750, 500)\n"
     ]
    },
    {
     "name": "stderr",
     "output_type": "stream",
     "text": [
      "\r",
      " 84%|████████▍ | 333/395 [23:15<03:55,  3.79s/it]"
     ]
    },
    {
     "name": "stdout",
     "output_type": "stream",
     "text": [
      "Processing  333 DBT-P04208 DBT-S02579 lmlo\n",
      "File reading done  (45, 750, 500)\n"
     ]
    },
    {
     "name": "stderr",
     "output_type": "stream",
     "text": [
      "\r",
      " 85%|████████▍ | 334/395 [23:18<03:36,  3.54s/it]"
     ]
    },
    {
     "name": "stdout",
     "output_type": "stream",
     "text": [
      "Processing  334 DBT-P04208 DBT-S02579 rcc\n",
      "File reading done  (40, 750, 500)\n"
     ]
    },
    {
     "name": "stderr",
     "output_type": "stream",
     "text": [
      "\r",
      " 85%|████████▍ | 335/395 [23:21<03:15,  3.27s/it]"
     ]
    },
    {
     "name": "stdout",
     "output_type": "stream",
     "text": [
      "Processing  335 DBT-P04208 DBT-S02579 rmlo\n",
      "File reading done  (40, 750, 500)\n"
     ]
    },
    {
     "name": "stderr",
     "output_type": "stream",
     "text": [
      "\r",
      " 85%|████████▌ | 336/395 [23:23<03:01,  3.08s/it]"
     ]
    },
    {
     "name": "stdout",
     "output_type": "stream",
     "text": [
      "Processing  336 DBT-P04257 DBT-S02207 lcc\n",
      "File reading done  (68, 750, 500)\n"
     ]
    },
    {
     "name": "stderr",
     "output_type": "stream",
     "text": [
      "\r",
      " 85%|████████▌ | 337/395 [23:28<03:21,  3.48s/it]"
     ]
    },
    {
     "name": "stdout",
     "output_type": "stream",
     "text": [
      "Processing  337 DBT-P04257 DBT-S02207 lmlo\n",
      "File reading done  (75, 750, 500)\n"
     ]
    },
    {
     "name": "stderr",
     "output_type": "stream",
     "text": [
      "\r",
      " 86%|████████▌ | 338/395 [23:33<03:41,  3.88s/it]"
     ]
    },
    {
     "name": "stdout",
     "output_type": "stream",
     "text": [
      "Processing  338 DBT-P04257 DBT-S02207 rcc\n",
      "File reading done  (68, 750, 500)\n"
     ]
    },
    {
     "name": "stderr",
     "output_type": "stream",
     "text": [
      "\r",
      " 86%|████████▌ | 339/395 [23:37<03:46,  4.04s/it]"
     ]
    },
    {
     "name": "stdout",
     "output_type": "stream",
     "text": [
      "Processing  339 DBT-P04257 DBT-S02207 rmlo\n",
      "File reading done  (63, 750, 500)\n"
     ]
    },
    {
     "name": "stderr",
     "output_type": "stream",
     "text": [
      "\r",
      " 86%|████████▌ | 340/395 [23:41<03:42,  4.05s/it]"
     ]
    },
    {
     "name": "stdout",
     "output_type": "stream",
     "text": [
      "Processing  340 DBT-P04295 DBT-S00174 lcc\n",
      "File reading done  (55, 750, 500)\n"
     ]
    },
    {
     "name": "stderr",
     "output_type": "stream",
     "text": [
      "\r",
      " 86%|████████▋ | 341/395 [23:45<03:30,  3.90s/it]"
     ]
    },
    {
     "name": "stdout",
     "output_type": "stream",
     "text": [
      "Processing  341 DBT-P04295 DBT-S00174 lmlo\n",
      "File reading done  (50, 750, 500)\n"
     ]
    },
    {
     "name": "stderr",
     "output_type": "stream",
     "text": [
      "\r",
      " 87%|████████▋ | 342/395 [23:48<03:16,  3.70s/it]"
     ]
    },
    {
     "name": "stdout",
     "output_type": "stream",
     "text": [
      "Processing  342 DBT-P04295 DBT-S00174 rcc\n",
      "File reading done  (52, 750, 500)\n"
     ]
    },
    {
     "name": "stderr",
     "output_type": "stream",
     "text": [
      "\r",
      " 87%|████████▋ | 343/395 [23:51<03:07,  3.60s/it]"
     ]
    },
    {
     "name": "stdout",
     "output_type": "stream",
     "text": [
      "Processing  343 DBT-P04295 DBT-S00174 rmlo\n",
      "File reading done  (49, 750, 500)\n"
     ]
    },
    {
     "name": "stderr",
     "output_type": "stream",
     "text": [
      "\r",
      " 87%|████████▋ | 344/395 [23:54<02:56,  3.47s/it]"
     ]
    },
    {
     "name": "stdout",
     "output_type": "stream",
     "text": [
      "Processing  344 DBT-P04344 DBT-S04842 lcc\n",
      "File reading done  (65, 750, 500)\n"
     ]
    },
    {
     "name": "stderr",
     "output_type": "stream",
     "text": [
      "\r",
      " 87%|████████▋ | 345/395 [23:59<03:04,  3.69s/it]"
     ]
    },
    {
     "name": "stdout",
     "output_type": "stream",
     "text": [
      "Processing  345 DBT-P04344 DBT-S04842 lmlo\n",
      "File reading done  (65, 750, 500)\n"
     ]
    },
    {
     "name": "stderr",
     "output_type": "stream",
     "text": [
      "\r",
      " 88%|████████▊ | 346/395 [24:03<03:08,  3.85s/it]"
     ]
    },
    {
     "name": "stdout",
     "output_type": "stream",
     "text": [
      "Processing  346 DBT-P04344 DBT-S04842 rcc\n",
      "File reading done  (65, 750, 500)\n"
     ]
    },
    {
     "name": "stderr",
     "output_type": "stream",
     "text": [
      "\r",
      " 88%|████████▊ | 347/395 [24:07<03:09,  3.96s/it]"
     ]
    },
    {
     "name": "stdout",
     "output_type": "stream",
     "text": [
      "Processing  347 DBT-P04344 DBT-S04842 rmlo\n",
      "File reading done  (65, 750, 500)\n"
     ]
    },
    {
     "name": "stderr",
     "output_type": "stream",
     "text": [
      "\r",
      " 88%|████████▊ | 348/395 [24:11<03:09,  4.04s/it]"
     ]
    },
    {
     "name": "stdout",
     "output_type": "stream",
     "text": [
      "Processing  348 DBT-P04346 DBT-S01871 rcc\n",
      "File reading done  (51, 750, 500)\n"
     ]
    },
    {
     "name": "stderr",
     "output_type": "stream",
     "text": [
      "\r",
      " 88%|████████▊ | 349/395 [24:15<02:56,  3.83s/it]"
     ]
    },
    {
     "name": "stdout",
     "output_type": "stream",
     "text": [
      "Processing  349 DBT-P04346 DBT-S01871 rmlo\n",
      "File reading done  (61, 750, 500)\n"
     ]
    },
    {
     "name": "stderr",
     "output_type": "stream",
     "text": [
      "\r",
      " 89%|████████▊ | 350/395 [24:19<02:54,  3.88s/it]"
     ]
    },
    {
     "name": "stdout",
     "output_type": "stream",
     "text": [
      "Processing  350 DBT-P04380 DBT-S00293 rcc\n",
      "File reading done  (61, 750, 500)\n"
     ]
    },
    {
     "name": "stderr",
     "output_type": "stream",
     "text": [
      "\r",
      " 89%|████████▉ | 351/395 [24:23<02:51,  3.90s/it]"
     ]
    },
    {
     "name": "stdout",
     "output_type": "stream",
     "text": [
      "Processing  351 DBT-P04380 DBT-S00293 rmlo\n",
      "File reading done  (68, 750, 500)\n"
     ]
    },
    {
     "name": "stderr",
     "output_type": "stream",
     "text": [
      "\r",
      " 89%|████████▉ | 352/395 [24:27<02:54,  4.05s/it]"
     ]
    },
    {
     "name": "stdout",
     "output_type": "stream",
     "text": [
      "Processing  352 DBT-P04396 DBT-S04935 lcc\n",
      "File reading done  (63, 750, 500)\n"
     ]
    },
    {
     "name": "stderr",
     "output_type": "stream",
     "text": [
      "\r",
      " 89%|████████▉ | 353/395 [24:31<02:50,  4.06s/it]"
     ]
    },
    {
     "name": "stdout",
     "output_type": "stream",
     "text": [
      "Processing  353 DBT-P04396 DBT-S04935 lmlo\n",
      "File reading done  (74, 750, 500)\n"
     ]
    },
    {
     "name": "stderr",
     "output_type": "stream",
     "text": [
      "\r",
      " 90%|████████▉ | 354/395 [24:36<02:54,  4.26s/it]"
     ]
    },
    {
     "name": "stdout",
     "output_type": "stream",
     "text": [
      "Processing  354 DBT-P04396 DBT-S04935 rcc\n",
      "File reading done  (65, 750, 500)\n"
     ]
    },
    {
     "name": "stderr",
     "output_type": "stream",
     "text": [
      "\r",
      " 90%|████████▉ | 355/395 [24:40<02:50,  4.25s/it]"
     ]
    },
    {
     "name": "stdout",
     "output_type": "stream",
     "text": [
      "Processing  355 DBT-P04396 DBT-S04935 rmlo\n",
      "File reading done  (71, 750, 500)\n"
     ]
    },
    {
     "name": "stderr",
     "output_type": "stream",
     "text": [
      "\r",
      " 90%|█████████ | 356/395 [24:45<02:49,  4.35s/it]"
     ]
    },
    {
     "name": "stdout",
     "output_type": "stream",
     "text": [
      "Processing  356 DBT-P04577 DBT-S03166 lcc\n",
      "File reading done  (54, 750, 500)\n"
     ]
    },
    {
     "name": "stderr",
     "output_type": "stream",
     "text": [
      "\r",
      " 90%|█████████ | 357/395 [24:48<02:35,  4.09s/it]"
     ]
    },
    {
     "name": "stdout",
     "output_type": "stream",
     "text": [
      "Processing  357 DBT-P04577 DBT-S03166 lmlo\n",
      "File reading done  (61, 750, 500)\n"
     ]
    },
    {
     "name": "stderr",
     "output_type": "stream",
     "text": [
      "\r",
      " 91%|█████████ | 358/395 [24:52<02:29,  4.05s/it]"
     ]
    },
    {
     "name": "stdout",
     "output_type": "stream",
     "text": [
      "Processing  358 DBT-P04577 DBT-S03166 rcc\n",
      "File reading done  (54, 750, 500)\n"
     ]
    },
    {
     "name": "stderr",
     "output_type": "stream",
     "text": [
      "\r",
      " 91%|█████████ | 359/395 [24:56<02:19,  3.87s/it]"
     ]
    },
    {
     "name": "stdout",
     "output_type": "stream",
     "text": [
      "Processing  359 DBT-P04577 DBT-S03166 rmlo\n",
      "File reading done  (57, 750, 500)\n"
     ]
    },
    {
     "name": "stderr",
     "output_type": "stream",
     "text": [
      "\r",
      " 91%|█████████ | 360/395 [24:59<02:13,  3.81s/it]"
     ]
    },
    {
     "name": "stdout",
     "output_type": "stream",
     "text": [
      "Processing  360 DBT-P04596 DBT-S01843 rcc\n",
      "File reading done  (59, 750, 500)\n"
     ]
    },
    {
     "name": "stderr",
     "output_type": "stream",
     "text": [
      "\r",
      " 91%|█████████▏| 361/395 [25:03<02:09,  3.81s/it]"
     ]
    },
    {
     "name": "stdout",
     "output_type": "stream",
     "text": [
      "Processing  361 DBT-P04596 DBT-S01843 rmlo\n",
      "File reading done  (66, 750, 500)\n"
     ]
    },
    {
     "name": "stderr",
     "output_type": "stream",
     "text": [
      "\r",
      " 92%|█████████▏| 362/395 [25:07<02:09,  3.94s/it]"
     ]
    },
    {
     "name": "stdout",
     "output_type": "stream",
     "text": [
      "Processing  362 DBT-P04622 DBT-S05391 lcc\n",
      "File reading done  (77, 750, 500)\n"
     ]
    },
    {
     "name": "stderr",
     "output_type": "stream",
     "text": [
      "\r",
      " 92%|█████████▏| 363/395 [25:12<02:15,  4.23s/it]"
     ]
    },
    {
     "name": "stdout",
     "output_type": "stream",
     "text": [
      "Processing  363 DBT-P04622 DBT-S05391 lmlo\n",
      "File reading done  (72, 750, 500)\n"
     ]
    },
    {
     "name": "stderr",
     "output_type": "stream",
     "text": [
      "\r",
      " 92%|█████████▏| 364/395 [25:17<02:14,  4.35s/it]"
     ]
    },
    {
     "name": "stdout",
     "output_type": "stream",
     "text": [
      "Processing  364 DBT-P04622 DBT-S05391 rcc\n",
      "File reading done  (72, 750, 500)\n"
     ]
    },
    {
     "name": "stderr",
     "output_type": "stream",
     "text": [
      "\r",
      " 92%|█████████▏| 365/395 [25:21<02:13,  4.45s/it]"
     ]
    },
    {
     "name": "stdout",
     "output_type": "stream",
     "text": [
      "Processing  365 DBT-P04622 DBT-S05391 rmlo\n",
      "File reading done  (75, 750, 500)\n"
     ]
    },
    {
     "name": "stderr",
     "output_type": "stream",
     "text": [
      "\r",
      " 93%|█████████▎| 366/395 [25:26<02:12,  4.55s/it]"
     ]
    },
    {
     "name": "stdout",
     "output_type": "stream",
     "text": [
      "Processing  366 DBT-P04695 DBT-S00353 lcc\n",
      "File reading done  (80, 750, 500)\n"
     ]
    },
    {
     "name": "stderr",
     "output_type": "stream",
     "text": [
      "\r",
      " 93%|█████████▎| 367/395 [25:31<02:12,  4.72s/it]"
     ]
    },
    {
     "name": "stdout",
     "output_type": "stream",
     "text": [
      "Processing  367 DBT-P04695 DBT-S00353 lmlo\n",
      "File reading done  (80, 750, 500)\n"
     ]
    },
    {
     "name": "stderr",
     "output_type": "stream",
     "text": [
      "\r",
      " 93%|█████████▎| 368/395 [25:37<02:10,  4.85s/it]"
     ]
    },
    {
     "name": "stdout",
     "output_type": "stream",
     "text": [
      "Processing  368 DBT-P04695 DBT-S00353 rcc\n",
      "File reading done  (85, 750, 500)\n"
     ]
    },
    {
     "name": "stderr",
     "output_type": "stream",
     "text": [
      "\r",
      " 93%|█████████▎| 369/395 [25:42<02:10,  5.03s/it]"
     ]
    },
    {
     "name": "stdout",
     "output_type": "stream",
     "text": [
      "Processing  369 DBT-P04695 DBT-S00353 rmlo\n",
      "File reading done  (81, 750, 500)\n"
     ]
    },
    {
     "name": "stderr",
     "output_type": "stream",
     "text": [
      "\r",
      " 94%|█████████▎| 370/395 [25:48<02:10,  5.22s/it]"
     ]
    },
    {
     "name": "stdout",
     "output_type": "stream",
     "text": [
      "Processing  370 DBT-P04803 DBT-S05121 lcc\n",
      "File reading done  (73, 750, 500)\n"
     ]
    },
    {
     "name": "stderr",
     "output_type": "stream",
     "text": [
      "\r",
      " 94%|█████████▍| 371/395 [25:53<02:04,  5.20s/it]"
     ]
    },
    {
     "name": "stdout",
     "output_type": "stream",
     "text": [
      "Processing  371 DBT-P04803 DBT-S05121 lmlo\n",
      "File reading done  (71, 750, 500)\n"
     ]
    },
    {
     "name": "stderr",
     "output_type": "stream",
     "text": [
      "\r",
      " 94%|█████████▍| 372/395 [25:58<01:56,  5.07s/it]"
     ]
    },
    {
     "name": "stdout",
     "output_type": "stream",
     "text": [
      "Processing  372 DBT-P04803 DBT-S05121 rcc\n",
      "File reading done  (71, 750, 500)\n"
     ]
    },
    {
     "name": "stderr",
     "output_type": "stream",
     "text": [
      "\r",
      " 94%|█████████▍| 373/395 [26:02<01:48,  4.92s/it]"
     ]
    },
    {
     "name": "stdout",
     "output_type": "stream",
     "text": [
      "Processing  373 DBT-P04803 DBT-S05121 rmlo\n",
      "File reading done  (70, 750, 500)\n"
     ]
    },
    {
     "name": "stderr",
     "output_type": "stream",
     "text": [
      "\r",
      " 95%|█████████▍| 374/395 [26:07<01:40,  4.80s/it]"
     ]
    },
    {
     "name": "stdout",
     "output_type": "stream",
     "text": [
      "Processing  374 DBT-P04808 DBT-S02383 lcc\n",
      "File reading done  (51, 750, 500)\n"
     ]
    },
    {
     "name": "stderr",
     "output_type": "stream",
     "text": [
      "\r",
      " 95%|█████████▍| 375/395 [26:10<01:27,  4.37s/it]"
     ]
    },
    {
     "name": "stdout",
     "output_type": "stream",
     "text": [
      "Processing  375 DBT-P04808 DBT-S02383 lmlo\n",
      "File reading done  (52, 750, 500)\n"
     ]
    },
    {
     "name": "stderr",
     "output_type": "stream",
     "text": [
      "\r",
      " 95%|█████████▌| 376/395 [26:13<01:17,  4.07s/it]"
     ]
    },
    {
     "name": "stdout",
     "output_type": "stream",
     "text": [
      "Processing  376 DBT-P04808 DBT-S02383 rcc\n",
      "File reading done  (55, 750, 500)\n"
     ]
    },
    {
     "name": "stderr",
     "output_type": "stream",
     "text": [
      "\r",
      " 95%|█████████▌| 377/395 [26:17<01:10,  3.92s/it]"
     ]
    },
    {
     "name": "stdout",
     "output_type": "stream",
     "text": [
      "Processing  377 DBT-P04808 DBT-S02383 rmlo\n",
      "File reading done  (47, 750, 500)\n"
     ]
    },
    {
     "name": "stderr",
     "output_type": "stream",
     "text": [
      "\r",
      " 96%|█████████▌| 378/395 [26:20<01:02,  3.66s/it]"
     ]
    },
    {
     "name": "stdout",
     "output_type": "stream",
     "text": [
      "Processing  378 DBT-P04837 DBT-S00883 lcc\n",
      "File reading done  (59, 750, 500)\n"
     ]
    },
    {
     "name": "stderr",
     "output_type": "stream",
     "text": [
      "\r",
      " 96%|█████████▌| 379/395 [26:24<00:59,  3.70s/it]"
     ]
    },
    {
     "name": "stdout",
     "output_type": "stream",
     "text": [
      "Processing  379 DBT-P04837 DBT-S00883 lmlo\n",
      "File reading done  (75, 750, 500)\n"
     ]
    },
    {
     "name": "stderr",
     "output_type": "stream",
     "text": [
      "\r",
      " 96%|█████████▌| 380/395 [26:29<01:00,  4.04s/it]"
     ]
    },
    {
     "name": "stdout",
     "output_type": "stream",
     "text": [
      "Processing  380 DBT-P04837 DBT-S00883 rcc\n",
      "File reading done  (58, 750, 500)\n"
     ]
    },
    {
     "name": "stderr",
     "output_type": "stream",
     "text": [
      "\r",
      " 96%|█████████▋| 381/395 [26:32<00:55,  3.96s/it]"
     ]
    },
    {
     "name": "stdout",
     "output_type": "stream",
     "text": [
      "Processing  381 DBT-P04837 DBT-S00883 rmlo\n",
      "File reading done  (69, 750, 500)\n"
     ]
    },
    {
     "name": "stderr",
     "output_type": "stream",
     "text": [
      "\r",
      " 97%|█████████▋| 382/395 [26:37<00:53,  4.11s/it]"
     ]
    },
    {
     "name": "stdout",
     "output_type": "stream",
     "text": [
      "Processing  382 DBT-P04837 DBT-S01467 lcc\n",
      "File reading done  (58, 750, 500)\n"
     ]
    },
    {
     "name": "stderr",
     "output_type": "stream",
     "text": [
      "\r",
      " 97%|█████████▋| 383/395 [26:41<00:48,  4.01s/it]"
     ]
    },
    {
     "name": "stdout",
     "output_type": "stream",
     "text": [
      "Processing  383 DBT-P04837 DBT-S01467 lmlo\n",
      "File reading done  (72, 750, 500)\n"
     ]
    },
    {
     "name": "stderr",
     "output_type": "stream",
     "text": [
      "\r",
      " 97%|█████████▋| 384/395 [26:45<00:46,  4.21s/it]"
     ]
    },
    {
     "name": "stdout",
     "output_type": "stream",
     "text": [
      "Processing  384 DBT-P04837 DBT-S01467 rcc\n",
      "File reading done  (56, 750, 500)\n"
     ]
    },
    {
     "name": "stderr",
     "output_type": "stream",
     "text": [
      "\r",
      " 97%|█████████▋| 385/395 [26:49<00:40,  4.03s/it]"
     ]
    },
    {
     "name": "stdout",
     "output_type": "stream",
     "text": [
      "Processing  385 DBT-P04837 DBT-S01467 rmlo\n",
      "File reading done  (68, 750, 500)\n"
     ]
    },
    {
     "name": "stderr",
     "output_type": "stream",
     "text": [
      "\r",
      " 98%|█████████▊| 386/395 [26:53<00:37,  4.15s/it]"
     ]
    },
    {
     "name": "stdout",
     "output_type": "stream",
     "text": [
      "Processing  386 DBT-P04884 DBT-S04041 lcc\n",
      "File reading done  (68, 750, 500)\n"
     ]
    },
    {
     "name": "stderr",
     "output_type": "stream",
     "text": [
      "\r",
      " 98%|█████████▊| 387/395 [26:58<00:33,  4.22s/it]"
     ]
    },
    {
     "name": "stdout",
     "output_type": "stream",
     "text": [
      "Processing  387 DBT-P05018 DBT-S05472 lcc\n",
      "File reading done  (71, 750, 500)\n"
     ]
    },
    {
     "name": "stderr",
     "output_type": "stream",
     "text": [
      "\r",
      " 98%|█████████▊| 388/395 [27:02<00:30,  4.33s/it]"
     ]
    },
    {
     "name": "stdout",
     "output_type": "stream",
     "text": [
      "Processing  388 DBT-P05018 DBT-S05472 lmlo\n",
      "File reading done  (69, 750, 500)\n"
     ]
    },
    {
     "name": "stderr",
     "output_type": "stream",
     "text": [
      "\r",
      " 98%|█████████▊| 389/395 [27:07<00:26,  4.37s/it]"
     ]
    },
    {
     "name": "stdout",
     "output_type": "stream",
     "text": [
      "Processing  389 DBT-P05018 DBT-S05472 rcc\n",
      "File reading done  (72, 750, 500)\n"
     ]
    },
    {
     "name": "stderr",
     "output_type": "stream",
     "text": [
      "\r",
      " 99%|█████████▊| 390/395 [27:11<00:22,  4.45s/it]"
     ]
    },
    {
     "name": "stdout",
     "output_type": "stream",
     "text": [
      "Processing  390 DBT-P05018 DBT-S05472 rmlo\n",
      "File reading done  (76, 750, 500)\n"
     ]
    },
    {
     "name": "stderr",
     "output_type": "stream",
     "text": [
      "\r",
      " 99%|█████████▉| 391/395 [27:16<00:18,  4.58s/it]"
     ]
    },
    {
     "name": "stdout",
     "output_type": "stream",
     "text": [
      "Processing  391 DBT-P05060 DBT-S01152 lcc\n",
      "File reading done  (37, 750, 500)\n"
     ]
    },
    {
     "name": "stderr",
     "output_type": "stream",
     "text": [
      "\r",
      " 99%|█████████▉| 392/395 [27:19<00:11,  3.93s/it]"
     ]
    },
    {
     "name": "stdout",
     "output_type": "stream",
     "text": [
      "Processing  392 DBT-P05060 DBT-S01152 lmlo\n",
      "File reading done  (37, 750, 500)\n"
     ]
    },
    {
     "name": "stderr",
     "output_type": "stream",
     "text": [
      "\r",
      " 99%|█████████▉| 393/395 [27:21<00:06,  3.48s/it]"
     ]
    },
    {
     "name": "stdout",
     "output_type": "stream",
     "text": [
      "Processing  393 DBT-P05060 DBT-S01152 rcc\n",
      "File reading done  (45, 750, 500)\n"
     ]
    },
    {
     "name": "stderr",
     "output_type": "stream",
     "text": [
      "\r",
      "100%|█████████▉| 394/395 [27:24<00:03,  3.31s/it]"
     ]
    },
    {
     "name": "stdout",
     "output_type": "stream",
     "text": [
      "Processing  394 DBT-P05060 DBT-S01152 rmlo\n",
      "File reading done  (40, 750, 500)\n"
     ]
    },
    {
     "name": "stderr",
     "output_type": "stream",
     "text": [
      "100%|██████████| 395/395 [27:27<00:00,  4.17s/it]\n"
     ]
    }
   ],
   "source": [
    "# [STAR] For Obtaining the result on Validation set of the Challenge\n",
    "\n",
    "def collate_fn(batch):\n",
    "    return tuple(zip(*batch))\n",
    "\n",
    "device = torch.device('cuda') if torch.cuda.is_available() else torch.device('cpu')\n",
    "\n",
    "num_classes = 2\n",
    "model       = torchvision.models.detection.fasterrcnn_resnet50_fpn(pretrained=True)\n",
    "\n",
    "# get number of input features for the classifier\n",
    "in_features = model.roi_heads.box_predictor.cls_score.in_features\n",
    "\n",
    "# replace the pre-trained head with a new one\n",
    "model.roi_heads.box_predictor = FastRCNNPredictor(in_features, num_classes)\n",
    "model.to(device)\n",
    "model.load_state_dict(torch.load('fasterrcnn_resnet50_dbt25.pth'))\n",
    "model.eval()\n",
    "\n",
    "\n",
    "trainx = []\n",
    "trainy = []\n",
    "boximage  = []\n",
    "coordx =  []\n",
    "coordy = []\n",
    "\n",
    "width_arr  = []\n",
    "height_arr = []\n",
    "\n",
    "PatientID_arr = []\n",
    "StudyUID_arr  = []\n",
    "\n",
    "#device = torch.device(\"cpu\")\n",
    "#model.to(device)\n",
    "\n",
    "\n",
    "import pickle\n",
    "\n",
    "#shuffle_index = np.load('shuffle_array.npy')\n",
    "#shuffle_index = shuffle_index[150:]\n",
    "        \n",
    "basepath = '/home/drilnvm/DBTex/'\n",
    "#df = read_boxes(boxes_fp=basepath+\"BCS-DBT-boxes-train.csv\", filepaths_fp=basepath+\"BCS-DBT-file-paths-train.csv\")\n",
    "df = pd.read_csv(basepath+\"BCS-DBT-file-paths-validation.csv\")\n",
    "    \n",
    "for i in tqdm(range(len(df))):\n",
    "    #if i in shuffle_index:\n",
    "    \n",
    "    #else:\n",
    "    #    continue\n",
    "    box_series  = df.iloc[i]\n",
    "    PatientID   = box_series[\"PatientID\"]\n",
    "    StudyUID    = box_series[\"StudyUID\"]\n",
    "    view        = box_series[\"View\"]\n",
    "    \n",
    "    print('Processing ', i, PatientID, StudyUID, view)\n",
    "    \n",
    "    #slice_index = box_series[\"Slice\"]\n",
    "    #image_path  = os.path.join(basepath, box_series[\"descriptive_path\"])\n",
    "    #print(box_series)\n",
    "    \n",
    "    valid_dataset     = DBTDatasetValidationTrain(val_index=i)\n",
    "    #valid_dataset     = DBTDataset(train_set=0)\n",
    "    valid_data_loader = DataLoader(\n",
    "        valid_dataset,\n",
    "        batch_size=1,\n",
    "        shuffle=False,\n",
    "        num_workers=1, \n",
    "        collate_fn=collate_fn\n",
    "    )\n",
    "        \n",
    "    all_target = []\n",
    "    all_scores = []\n",
    "    all_images = []\n",
    "    \n",
    "    for images, targets, image_ids in valid_data_loader:\n",
    "        #print(targets)\n",
    "        all_images.append(images[0][0].astype('float16'))\n",
    "        new_images  = []\n",
    "        for img in images:\n",
    "            new_images.append(torch.Tensor(img).to(device))\n",
    "\n",
    "        images    = new_images\n",
    "        #targets   = [{k: v.to(device) for k, v in t.items()} for t in targets]\n",
    "        loss_dict = model(images)\n",
    "        #print(loss_dict)\n",
    "        \n",
    "        all_scores.append(loss_dict[0]['scores'].data.cpu().numpy())\n",
    "        all_target.append(loss_dict[0]['boxes'].data.cpu().numpy())\n",
    "    \n",
    "    with open('/media/drilnvm/ubuntudata2/DBTEx_results25_validation/'+PatientID+'_'+StudyUID+'_'+view+'_score_'+str(i)+'.data', 'wb') as filehandle:\n",
    "        # store the data as binary data stream\n",
    "        pickle.dump(all_scores, filehandle)\n",
    "        \n",
    "    with open('/media/drilnvm/ubuntudata2/DBTEx_results25_validation/'+PatientID+'_'+StudyUID+'_'+view+'_target_'+str(i)+'.data', 'wb') as filehandle:\n",
    "        # store the data as binary data stream\n",
    "        pickle.dump(all_target, filehandle)\n",
    "    \n",
    "    #np.save('/media/drilnvm/ubuntudata2/DBTEx_numpy2/val_vol_'+str(i), np.array(all_images).astype('float16'))"
   ]
  },
  {
   "cell_type": "code",
   "execution_count": 64,
   "metadata": {
    "code_folding": [],
    "scrolled": true
   },
   "outputs": [
    {
     "name": "stdout",
     "output_type": "stream",
     "text": [
      "Total validation length  395\n",
      "DBT-P00002,DBT-S03345,lcc,74,341,876,300,18,8,0.8420305\n",
      "DBT-P00002,DBT-S03345,lcc,99,341,854,359,23,8,0.772295\n",
      "DBT-P00002,DBT-S03345,lcc,211,198,1751,195,42,8,0.6799173\n",
      "DBT-P00002,DBT-S03345,lcc,167,293,897,366,46,8,0.6469279\n",
      "DBT-P00002,DBT-S03345,lcc,223,305,1559,370,58,8,0.5859191\n",
      "DBT-P00002,DBT-S03345,lmlo,330,231,1357,182,23,8,0.6970777\n",
      "DBT-P00002,DBT-S03345,lmlo,398,185,933,216,29,8,0.6522009\n",
      "DBT-P00002,DBT-S03345,lmlo,307,279,1251,342,34,8,0.7394195\n",
      "DBT-P00002,DBT-S03345,lmlo,185,418,843,646,47,8,0.39058968\n",
      "DBT-P00002,DBT-S03345,rcc,1786,113,2214,173,0,8,0.46820316\n",
      "DBT-P00002,DBT-S03345,rcc,1776,127,2148,226,14,8,0.6992753\n",
      "DBT-P00002,DBT-S03345,rcc,1445,283,1403,258,20,8,0.7100652\n",
      "DBT-P00002,DBT-S03345,rcc,1575,310,768,350,29,8,0.4443644\n",
      "DBT-P00002,DBT-S03345,rcc,1569,281,1350,275,37,8,0.40476426\n",
      "DBT-P00002,DBT-S03345,rcc,1396,401,873,694,56,8,0.4089813\n",
      "DBT-P00002,DBT-S03345,rmlo,1356,360,1097,262,9,8,0.6269412\n",
      "DBT-P00002,DBT-S03345,rmlo,1393,296,1046,320,14,8,0.75039816\n",
      "DBT-P00002,DBT-S03345,rmlo,1341,384,815,734,28,8,0.48500004\n",
      "DBT-P00002,DBT-S03345,rmlo,1421,253,928,288,35,8,0.63278824\n",
      "DBT-P00002,DBT-S03345,rmlo,1336,369,876,727,54,8,0.4788112\n",
      "DBT-P00114,DBT-S03767,rmlo,1381,293,0,256,12,8,0.88179505\n",
      "DBT-P00114,DBT-S03767,rmlo,1567,256,1004,331,25,8,0.8374216\n",
      "DBT-P00114,DBT-S03767,rmlo,1564,314,1011,298,38,8,0.7183766\n",
      "DBT-P00160,DBT-S00785,lcc,294,213,704,185,8,8,0.83932436\n",
      "DBT-P00160,DBT-S00785,lcc,234,229,1092,206,14,8,0.64145833\n",
      "DBT-P00160,DBT-S00785,lcc,423,172,1758,163,33,8,0.8265792\n",
      "DBT-P00160,DBT-S00785,lmlo,459,376,876,683,4,8,0.37937993\n",
      "DBT-P00160,DBT-S00785,lmlo,90,97,101,108,24,8,0.8632886\n",
      "DBT-P00176,DBT-S02289,lcc,366,283,733,291,19,8,0.6536997\n",
      "DBT-P00176,DBT-S02289,lcc,384,275,750,312,31,8,0.7378567\n",
      "DBT-P00176,DBT-S02289,lcc,676,107,1258,108,35,8,0.55828816\n",
      "DBT-P00176,DBT-S02289,lcc,661,196,1121,177,40,8,0.56269157\n",
      "DBT-P00176,DBT-S02289,lmlo,668,216,887,369,4,8,0.62348723\n",
      "DBT-P00176,DBT-S02289,lmlo,33,104,769,80,13,8,0.7661539\n",
      "DBT-P00176,DBT-S02289,lmlo,34,104,765,83,24,8,0.8261558\n",
      "DBT-P00176,DBT-S02289,lmlo,700,283,1029,318,34,8,0.66135144\n",
      "DBT-P00176,DBT-S02289,lmlo,617,263,935,306,47,8,0.6449758\n",
      "DBT-P00176,DBT-S02289,lmlo,664,184,841,366,62,8,0.47009808\n",
      "DBT-P00176,DBT-S02289,rcc,1485,191,1443,183,9,8,0.76290286\n",
      "DBT-P00176,DBT-S02289,rcc,1451,91,986,79,19,8,0.7572793\n",
      "DBT-P00176,DBT-S02289,rcc,1355,201,1314,183,38,8,0.6045496\n",
      "DBT-P00176,DBT-S02289,rmlo,1362,225,1680,176,20,8,0.624537\n",
      "DBT-P00176,DBT-S02289,rmlo,1198,208,1462,188,33,8,0.7539414\n",
      "DBT-P00176,DBT-S02289,rmlo,1266,250,1038,288,40,8,0.87918574\n",
      "DBT-P00176,DBT-S02289,rmlo,1157,298,1014,289,60,8,0.6312842\n",
      "DBT-P00213,DBT-S01181,lcc,779,371,883,253,24,8,0.86490446\n",
      "DBT-P00213,DBT-S01181,lcc,776,330,706,252,43,8,0.80752796\n",
      "DBT-P00213,DBT-S01181,lmlo,588,227,492,212,18,8,0.82234186\n",
      "DBT-P00213,DBT-S01181,lmlo,545,233,519,192,24,8,0.78311676\n",
      "DBT-P00213,DBT-S01181,lmlo,762,305,535,296,30,8,0.8211455\n",
      "DBT-P00213,DBT-S01181,lmlo,1147,418,1066,242,55,8,0.7943564\n",
      "DBT-P00213,DBT-S01181,lmlo,180,229,248,183,63,8,0.62557435\n",
      "DBT-P00238,DBT-S04801,lcc,897,409,874,273,-1,8,0.6802391\n",
      "DBT-P00238,DBT-S04801,lcc,206,125,1405,112,7,8,0.707809\n",
      "DBT-P00238,DBT-S04801,lcc,422,236,1450,355,16,8,0.83252543\n",
      "DBT-P00238,DBT-S04801,lcc,443,297,1504,281,30,8,0.7342806\n",
      "DBT-P00238,DBT-S04801,lcc,340,341,563,268,39,8,0.6819891\n",
      "DBT-P00238,DBT-S04801,lcc,402,278,1490,305,48,8,0.6541851\n",
      "DBT-P00238,DBT-S04801,lmlo,952,249,1104,198,0,8,0.61317015\n",
      "DBT-P00238,DBT-S04801,lmlo,673,204,1217,205,8,8,0.71778\n",
      "DBT-P00238,DBT-S04801,lmlo,733,357,1025,223,18,8,0.7614931\n",
      "DBT-P00238,DBT-S04801,lmlo,458,510,463,562,33,8,0.71994317\n",
      "DBT-P00238,DBT-S04801,lmlo,436,528,482,615,44,8,0.77357125\n",
      "DBT-P00238,DBT-S04801,lmlo,471,504,474,562,55,8,0.558592\n",
      "DBT-P00238,DBT-S04801,rcc,1165,255,1193,295,4,8,0.85799134\n",
      "DBT-P00238,DBT-S04801,rcc,1551,208,1535,163,27,8,0.89104134\n",
      "DBT-P00238,DBT-S04801,rmlo,1038,232,1303,205,11,8,0.7994647\n",
      "DBT-P00238,DBT-S04801,rmlo,1490,201,877,147,38,8,0.89636666\n",
      "DBT-P00238,DBT-S04801,rmlo,691,249,862,382,57,8,0.5977286\n",
      "DBT-P00351,DBT-S00274,lcc,1055,178,1430,244,8,8,0.6409134\n",
      "DBT-P00351,DBT-S00274,lcc,819,271,925,336,48,8,0.42825094\n",
      "DBT-P00351,DBT-S00274,lmlo,74,158,263,229,28,8,0.82143635\n",
      "DBT-P00351,DBT-S00274,rcc,1024,255,1087,281,9,8,0.56243616\n",
      "DBT-P00351,DBT-S00274,rcc,887,188,1435,191,27,8,0.6162977\n",
      "DBT-P00351,DBT-S00274,rmlo,852,197,1068,214,10,8,0.6182402\n",
      "DBT-P00351,DBT-S00274,rmlo,1837,162,52,504,18,8,0.44725838\n",
      "DBT-P00351,DBT-S00274,rmlo,1876,122,320,198,27,8,0.7604387\n",
      "DBT-P00351,DBT-S00274,rmlo,1345,250,1702,207,36,8,0.5923954\n",
      "DBT-P00351,DBT-S00274,rmlo,1349,258,1700,201,42,8,0.72685206\n",
      "DBT-P00385,DBT-S04406,lcc,493,230,778,339,3,8,0.6104073\n",
      "DBT-P00385,DBT-S04406,lcc,559,234,920,378,12,8,0.49542254\n",
      "DBT-P00385,DBT-S04406,lcc,110,327,1083,235,31,8,0.59315366\n",
      "DBT-P00385,DBT-S04406,lmlo,444,206,1347,179,7,8,0.6883071\n",
      "DBT-P00385,DBT-S04406,lmlo,502,218,1521,231,28,8,0.65090215\n",
      "DBT-P00385,DBT-S04406,lmlo,498,234,1498,234,33,8,0.38135132\n",
      "DBT-P00385,DBT-S04406,rcc,1587,200,515,374,20,8,0.37207022\n",
      "DBT-P00385,DBT-S04406,rmlo,1162,223,1031,305,5,8,0.597683\n",
      "DBT-P00385,DBT-S04406,rmlo,1322,346,894,349,16,8,0.677139\n",
      "DBT-P00385,DBT-S04406,rmlo,1347,364,899,339,20,8,0.7793986\n",
      "DBT-P00431,DBT-S03956,rmlo,1148,101,659,100,4,8,0.43325534\n",
      "DBT-P00431,DBT-S03956,rmlo,1450,210,620,255,12,8,0.73585963\n",
      "DBT-P00431,DBT-S03956,rmlo,1426,232,633,252,23,8,0.8863411\n",
      "DBT-P00431,DBT-S03956,rmlo,1443,222,624,247,29,8,0.9112738\n",
      "DBT-P00431,DBT-S03956,rmlo,1764,223,237,170,35,8,0.8914089\n",
      "DBT-P00431,DBT-S03956,rmlo,1435,260,589,303,54,8,0.4933233\n",
      "DBT-P00431,DBT-S03956,rmlo,1424,261,558,314,68,8,0.6995763\n",
      "DBT-P00450,DBT-S04563,lcc,992,270,1255,269,36,8,0.80701077\n",
      "DBT-P00450,DBT-S04563,lmlo,1129,159,1520,120,12,8,0.86658376\n",
      "DBT-P00450,DBT-S04563,lmlo,568,146,200,112,51,8,0.77890766\n",
      "DBT-P00450,DBT-S04563,rcc,720,210,922,115,5,8,0.8069023\n",
      "DBT-P00450,DBT-S04563,rcc,1542,373,875,260,10,8,0.8138949\n",
      "DBT-P00450,DBT-S04563,rcc,1312,213,1357,237,37,8,0.78019446\n",
      "DBT-P00450,DBT-S04563,rcc,967,719,615,408,47,8,0.6681536\n",
      "DBT-P00450,DBT-S04563,rmlo,1844,155,193,210,20,8,0.8614799\n",
      "DBT-P00450,DBT-S04563,rmlo,1292,207,1010,183,36,8,0.7879954\n",
      "DBT-P00450,DBT-S04563,rmlo,1120,212,713,182,49,8,0.7195011\n",
      "DBT-P00547,DBT-S03787,lcc,132,392,500,248,3,8,0.7287997\n",
      "DBT-P00547,DBT-S03787,lcc,553,214,753,222,18,8,0.6950657\n",
      "DBT-P00547,DBT-S03787,lcc,666,208,1017,203,33,8,0.72408146\n",
      "DBT-P00547,DBT-S03787,lcc,76,366,446,253,42,8,0.44692117\n",
      "DBT-P00547,DBT-S03787,lmlo,553,215,1067,165,20,8,0.43614382\n",
      "DBT-P00547,DBT-S03787,lmlo,461,97,1207,82,29,8,0.71183866\n",
      "DBT-P00547,DBT-S03787,lmlo,696,231,1067,182,34,8,0.82930416\n",
      "DBT-P00547,DBT-S03787,lmlo,591,257,921,280,48,8,0.60201293\n",
      "DBT-P00547,DBT-S03787,rcc,1618,226,549,180,0,8,0.5011543\n",
      "DBT-P00547,DBT-S03787,rcc,1558,246,845,250,13,8,0.80541575\n",
      "DBT-P00547,DBT-S03787,rcc,1512,156,1107,146,26,8,0.8063595\n",
      "DBT-P00547,DBT-S03787,rcc,1539,256,813,293,36,8,0.7222497\n",
      "DBT-P00547,DBT-S03787,rcc,1647,224,524,207,47,8,0.7602475\n",
      "DBT-P00547,DBT-S03787,rcc,1563,230,753,341,51,8,0.64785457\n",
      "DBT-P00547,DBT-S03787,rmlo,1291,212,883,203,8,8,0.8621199\n",
      "DBT-P00547,DBT-S03787,rmlo,1270,234,833,287,24,8,0.48747456\n",
      "DBT-P00547,DBT-S03787,rmlo,1489,209,1331,162,33,8,0.8068105\n",
      "DBT-P00547,DBT-S03787,rmlo,1225,260,798,388,54,8,0.36426783\n",
      "DBT-P00549,DBT-S00512,lcc,584,268,1044,327,3,8,0.71307546\n",
      "DBT-P00549,DBT-S00512,lcc,588,279,1029,318,13,8,0.8249266\n",
      "DBT-P00549,DBT-S00512,lcc,580,277,1017,346,19,8,0.59604675\n",
      "DBT-P00549,DBT-S00512,lcc,280,211,1145,203,24,8,0.7380082\n",
      "DBT-P00549,DBT-S00512,lcc,601,261,1063,299,36,8,0.75441045\n",
      "DBT-P00549,DBT-S00512,lcc,549,289,981,358,53,8,0.6475032\n",
      "DBT-P00549,DBT-S00512,lmlo,323,199,445,202,2,8,0.5529333\n",
      "DBT-P00549,DBT-S00512,lmlo,514,212,670,196,11,8,0.8041347\n",
      "DBT-P00549,DBT-S00512,lmlo,321,202,406,248,31,8,0.7965941\n",
      "DBT-P00549,DBT-S00512,lmlo,484,235,653,222,39,8,0.8158424\n",
      "DBT-P00549,DBT-S00512,lmlo,332,224,458,205,56,8,0.51527184\n",
      "DBT-P00577,DBT-S02359,lcc,320,190,875,173,7,8,0.852008\n",
      "DBT-P00577,DBT-S02359,lcc,329,193,877,176,17,8,0.88393193\n",
      "DBT-P00577,DBT-S02359,lcc,257,217,1268,182,34,8,0.7380905\n",
      "DBT-P00577,DBT-S02359,lmlo,406,189,1191,163,7,8,0.89662325\n",
      "DBT-P00577,DBT-S02359,lmlo,683,165,1507,157,22,8,0.6529008\n",
      "DBT-P00577,DBT-S02359,lmlo,503,175,1595,158,56,8,0.8063508\n",
      "DBT-P00577,DBT-S02359,rcc,1431,339,810,337,2,8,0.9079322\n",
      "DBT-P00577,DBT-S02359,rcc,1431,336,819,332,10,8,0.9114913\n",
      "DBT-P00577,DBT-S02359,rcc,1445,214,960,166,25,8,0.8758017\n",
      "DBT-P00577,DBT-S02359,rcc,1424,349,795,438,44,8,0.71396685\n",
      "DBT-P00577,DBT-S02359,rmlo,1381,216,1117,178,16,8,0.87519705\n",
      "DBT-P00577,DBT-S02359,rmlo,1354,295,1433,272,37,8,0.72588634\n",
      "DBT-P00577,DBT-S02359,rmlo,1852,142,1358,184,55,8,0.8357409\n",
      "DBT-P00651,DBT-S04585,lcc,149,244,1106,214,0,8,0.799269\n",
      "DBT-P00651,DBT-S04585,lcc,351,267,1535,267,28,8,0.77979106\n",
      "DBT-P00651,DBT-S04585,lmlo,617,527,605,544,14,8,0.758431\n",
      "DBT-P00651,DBT-S04585,lmlo,435,287,848,349,43,8,0.6195624\n",
      "DBT-P00651,DBT-S04585,rcc,782,183,1217,325,9,8,0.6545558\n",
      "DBT-P00651,DBT-S04585,rcc,886,297,1683,268,37,8,0.6328271\n",
      "DBT-P00651,DBT-S04585,rmlo,1368,169,1602,139,15,8,0.9009129\n",
      "DBT-P00655,DBT-S00319,rcc,1854,145,562,215,1,8,0.7864614\n",
      "DBT-P00655,DBT-S00319,rcc,1832,167,556,196,11,8,0.86022747\n",
      "DBT-P00655,DBT-S00319,rcc,1371,163,1094,160,33,8,0.7842676\n",
      "DBT-P00655,DBT-S00319,rmlo,1226,204,1044,237,32,8,0.7790454\n",
      "DBT-P00697,DBT-S04996,lcc,162,202,643,238,11,8,0.5692804\n",
      "DBT-P00697,DBT-S04996,lcc,301,277,1092,313,23,8,0.47890294\n",
      "DBT-P00697,DBT-S04996,lcc,147,274,628,282,32,8,0.84871644\n",
      "DBT-P00697,DBT-S04996,lcc,300,188,1382,199,42,8,0.718478\n",
      "DBT-P00697,DBT-S04996,lcc,247,264,1294,298,55,8,0.7709137\n",
      "DBT-P00697,DBT-S04996,lmlo,277,366,940,759,-3,8,0.4270074\n",
      "DBT-P00697,DBT-S04996,lmlo,67,224,1225,139,13,8,0.7183716\n",
      "DBT-P00697,DBT-S04996,lmlo,0,245,0,346,21,8,0.6522688\n",
      "DBT-P00697,DBT-S04996,lmlo,0,242,0,359,29,8,0.4250596\n",
      "DBT-P00697,DBT-S04996,lmlo,522,216,1226,344,50,8,0.46218482\n",
      "DBT-P00697,DBT-S04996,lmlo,206,407,1057,673,59,8,0.5549158\n",
      "DBT-P00697,DBT-S04996,rcc,1433,166,1039,174,8,8,0.74518996\n",
      "DBT-P00697,DBT-S04996,rcc,1760,231,1694,213,26,8,0.6016754\n",
      "DBT-P00697,DBT-S04996,rcc,1745,242,1689,209,41,8,0.65878505\n",
      "DBT-P00697,DBT-S04996,rcc,1655,201,1309,231,62,8,0.57446826\n",
      "DBT-P00697,DBT-S04996,rmlo,1393,285,1278,294,4,8,0.70846266\n",
      "DBT-P00697,DBT-S04996,rmlo,1622,124,1000,108,33,8,0.6291345\n",
      "DBT-P00697,DBT-S04996,rmlo,1674,155,1114,143,49,8,0.742296\n",
      "DBT-P00697,DBT-S04996,rmlo,1410,300,1280,312,62,8,0.52504116\n",
      "DBT-P00714,DBT-S01360,rcc,711,217,727,266,9,8,0.8342264\n",
      "DBT-P00714,DBT-S01360,rmlo,685,254,1500,304,6,8,0.80841666\n",
      "DBT-P00714,DBT-S01360,rmlo,1092,193,1113,218,22,8,0.62543774\n",
      "DBT-P00714,DBT-S01360,rmlo,523,149,1103,252,40,8,0.5851463\n",
      "DBT-P00714,DBT-S01360,rmlo,1091,215,973,352,47,8,0.5978756\n",
      "DBT-P00718,DBT-S03965,lcc,845,302,1259,307,4,8,0.7261541\n",
      "DBT-P00718,DBT-S03965,lcc,195,327,493,287,30,8,0.6878048\n",
      "DBT-P00718,DBT-S03965,lcc,617,351,733,396,42,8,0.7913683\n",
      "DBT-P00718,DBT-S03965,lcc,853,345,852,743,64,8,0.4532901\n",
      "DBT-P00718,DBT-S03965,lmlo,453,141,145,147,7,8,0.76019955\n",
      "DBT-P00718,DBT-S03965,lmlo,752,260,1874,186,19,8,0.85012317\n",
      "DBT-P00718,DBT-S03965,lmlo,854,335,1063,227,26,8,0.71749187\n",
      "DBT-P00718,DBT-S03965,lmlo,858,308,1060,230,32,8,0.73815554\n",
      "DBT-P00718,DBT-S03965,lmlo,835,307,1031,397,39,8,0.72912115\n",
      "DBT-P00718,DBT-S03965,lmlo,903,237,1066,218,46,8,0.6383125\n",
      "DBT-P00718,DBT-S03965,lmlo,889,254,1060,224,52,8,0.7548509\n",
      "DBT-P00718,DBT-S03965,lmlo,887,276,1032,319,85,8,0.6547712\n",
      "DBT-P00718,DBT-S03965,rcc,1452,346,462,212,23,8,0.6615204\n",
      "DBT-P00718,DBT-S03965,rcc,1634,123,1369,108,37,8,0.8733696\n",
      "DBT-P00718,DBT-S03965,rcc,931,289,679,293,45,8,0.7770344\n",
      "DBT-P00718,DBT-S03965,rcc,902,315,1311,355,59,8,0.6301025\n",
      "DBT-P00718,DBT-S03965,rcc,934,304,1347,338,72,8,0.7137518\n",
      "DBT-P00718,DBT-S03965,rmlo,1524,151,193,156,4,8,0.7761098\n",
      "DBT-P00718,DBT-S03965,rmlo,1072,195,1267,181,14,8,0.7963113\n",
      "DBT-P00718,DBT-S03965,rmlo,1611,156,1289,130,49,8,0.8551075\n",
      "DBT-P00843,DBT-S03062,lcc,610,266,755,329,25,8,0.49022523\n",
      "DBT-P00843,DBT-S03062,lcc,264,186,1684,142,36,8,0.7373403\n",
      "DBT-P00843,DBT-S03062,lcc,91,84,1399,136,48,8,0.64431\n",
      "DBT-P00843,DBT-S03062,lmlo,240,204,296,200,5,8,0.37107998\n",
      "DBT-P00843,DBT-S03062,lmlo,422,208,339,194,18,8,0.5974004\n",
      "DBT-P00843,DBT-S03062,lmlo,109,260,793,270,30,8,0.54672956\n",
      "DBT-P00843,DBT-S03062,lmlo,509,261,498,216,45,8,0.6661501\n",
      "DBT-P00843,DBT-S03062,rcc,1822,177,547,145,14,8,0.6478096\n",
      "DBT-P00843,DBT-S03062,rcc,1845,154,552,145,26,8,0.78035\n",
      "DBT-P00843,DBT-S03062,rcc,1250,311,836,392,39,8,0.4365233\n",
      "DBT-P00843,DBT-S03062,rcc,1310,312,836,353,47,8,0.75423247\n",
      "DBT-P00843,DBT-S03062,rcc,1234,333,810,803,56,8,0.377847\n",
      "DBT-P00843,DBT-S03062,rmlo,1779,82,134,69,23,8,0.70235664\n",
      "DBT-P00843,DBT-S03062,rmlo,1720,185,1352,156,30,8,0.7808553\n",
      "DBT-P00843,DBT-S03062,rmlo,1651,103,1522,71,42,8,0.81866837\n",
      "DBT-P00843,DBT-S03062,rmlo,1090,340,701,773,60,8,0.47387725\n",
      "DBT-P00844,DBT-S01884,lcc,1149,249,1113,219,17,8,0.924621\n",
      "DBT-P00844,DBT-S01884,lcc,1159,241,1092,233,28,8,0.8731955\n",
      "DBT-P00844,DBT-S01884,lcc,1147,195,1430,207,35,8,0.8504398\n",
      "DBT-P00844,DBT-S01884,lcc,1262,222,963,206,49,8,0.80585754\n",
      "DBT-P00844,DBT-S01884,lcc,1108,303,1044,309,60,8,0.82858247\n",
      "DBT-P00844,DBT-S01884,lmlo,1161,331,1307,201,19,8,0.8974065\n",
      "DBT-P00844,DBT-S01884,lmlo,822,388,681,238,37,8,0.81163436\n",
      "DBT-P00844,DBT-S01884,lmlo,1117,351,1265,250,56,8,0.76900494\n",
      "DBT-P00844,DBT-S01884,lmlo,1150,302,1230,399,66,8,0.77260965\n",
      "DBT-P00864,DBT-S05307,lcc,712,278,752,335,3,8,0.63743913\n",
      "DBT-P00864,DBT-S05307,lcc,662,384,806,394,36,8,0.798546\n",
      "DBT-P00864,DBT-S05307,lcc,737,327,810,321,46,8,0.7989472\n",
      "DBT-P00864,DBT-S05307,lcc,726,331,800,366,53,8,0.65767103\n",
      "DBT-P00864,DBT-S05307,lmlo,831,232,1110,371,18,8,0.63765216\n",
      "DBT-P00864,DBT-S05307,lmlo,687,331,556,243,35,8,0.57924765\n",
      "DBT-P00864,DBT-S05307,lmlo,731,327,592,233,60,8,0.6533944\n",
      "DBT-P00864,DBT-S05307,rcc,1911,88,326,187,8,8,0.36241445\n",
      "DBT-P00864,DBT-S05307,rcc,1504,315,648,222,26,8,0.7230988\n",
      "DBT-P00864,DBT-S05307,rcc,1041,227,1032,170,40,8,0.76905465\n",
      "DBT-P00864,DBT-S05307,rcc,1037,226,1033,203,45,8,0.6113256\n",
      "DBT-P00864,DBT-S05307,rmlo,976,271,1155,333,3,8,0.54372615\n",
      "DBT-P00864,DBT-S05307,rmlo,1292,226,1643,166,16,8,0.82196724\n",
      "DBT-P00864,DBT-S05307,rmlo,1064,199,1388,215,42,8,0.74628603\n",
      "DBT-P00864,DBT-S05307,rmlo,977,660,725,430,63,8,0.36907974\n",
      "DBT-P00866,DBT-S02251,lcc,329,239,960,415,1,8,0.79508424\n",
      "DBT-P00866,DBT-S02251,lcc,316,266,1150,285,16,8,0.8554447\n",
      "DBT-P00866,DBT-S02251,lcc,299,280,1132,329,27,8,0.82839423\n",
      "DBT-P00866,DBT-S02251,lcc,300,284,1107,371,34,8,0.8722415\n",
      "DBT-P00866,DBT-S02251,lcc,300,278,1121,350,43,8,0.87432593\n",
      "DBT-P00866,DBT-S02251,lcc,295,279,1079,389,50,8,0.8398253\n",
      "DBT-P00866,DBT-S02251,lmlo,513,224,1027,375,16,8,0.6722337\n",
      "DBT-P00866,DBT-S02251,lmlo,33,156,287,132,32,8,0.86443883\n",
      "DBT-P00866,DBT-S02251,lmlo,441,318,1068,433,40,8,0.8756875\n",
      "DBT-P00866,DBT-S02251,lmlo,460,316,1071,433,46,8,0.82205445\n",
      "DBT-P00866,DBT-S02251,lmlo,441,316,1111,420,53,8,0.86590445\n",
      "DBT-P00866,DBT-S02251,lmlo,401,388,1014,697,63,8,0.781148\n",
      "DBT-P00866,DBT-S02251,lmlo,435,364,993,754,75,8,0.5899413\n",
      "DBT-P00866,DBT-S02251,lmlo,415,364,940,700,79,8,0.67248076\n",
      "DBT-P01150,DBT-S04884,lcc,544,262,696,280,1,8,0.55532265\n",
      "DBT-P01150,DBT-S04884,lcc,287,309,1057,333,22,8,0.81298435\n",
      "DBT-P01150,DBT-S04884,lcc,296,381,1142,244,32,8,0.5441798\n",
      "DBT-P01150,DBT-S04884,lmlo,827,204,1335,232,10,8,0.7326702\n",
      "DBT-P01150,DBT-S04884,lmlo,486,279,846,283,19,8,0.87901074\n",
      "DBT-P01150,DBT-S04884,lmlo,453,293,830,283,24,8,0.84260875\n",
      "DBT-P01150,DBT-S04884,lmlo,268,174,488,186,32,8,0.75397676\n",
      "DBT-P01150,DBT-S04884,lmlo,276,159,489,172,43,8,0.84930825\n",
      "DBT-P01152,DBT-S00310,lcc,1237,168,1514,195,1,8,0.46228203\n",
      "DBT-P01152,DBT-S00310,lcc,1240,165,1511,194,6,8,0.8212652\n",
      "DBT-P01152,DBT-S00310,lcc,683,204,1244,207,21,8,0.6515313\n",
      "DBT-P01152,DBT-S00310,lcc,744,242,1759,246,35,8,0.8137281\n",
      "DBT-P01152,DBT-S00310,lcc,661,226,1245,205,39,8,0.8377861\n",
      "DBT-P01152,DBT-S00310,lmlo,988,286,1025,330,8,8,0.66009754\n",
      "DBT-P01152,DBT-S00310,lmlo,944,322,964,362,47,8,0.784535\n",
      "DBT-P01152,DBT-S00310,rcc,709,210,1337,167,1,8,0.83202356\n",
      "DBT-P01152,DBT-S00310,rcc,717,248,1280,284,11,8,0.73954505\n",
      "DBT-P01152,DBT-S00310,rcc,848,303,1494,258,31,8,0.91806895\n",
      "DBT-P01152,DBT-S00310,rcc,855,288,1497,242,38,8,0.9021608\n",
      "DBT-P01152,DBT-S00310,rcc,857,291,1491,247,43,8,0.8653609\n",
      "DBT-P01152,DBT-S00310,rmlo,984,291,1213,330,1,8,0.48699373\n",
      "DBT-P01152,DBT-S00310,rmlo,982,323,1295,245,8,8,0.6475347\n",
      "DBT-P01152,DBT-S00310,rmlo,969,314,1324,210,15,8,0.56340384\n",
      "DBT-P01152,DBT-S00310,rmlo,975,306,1317,212,20,8,0.59509706\n",
      "DBT-P01152,DBT-S00310,rmlo,820,212,1343,215,25,8,0.7405075\n",
      "DBT-P01152,DBT-S00310,rmlo,967,302,1306,228,43,8,0.8838157\n",
      "DBT-P01152,DBT-S00310,rmlo,964,308,1305,233,47,8,0.86804754\n",
      "DBT-P01152,DBT-S00310,rmlo,983,311,1318,227,54,8,0.75195885\n",
      "DBT-P01153,DBT-S02202,lcc,1167,131,1545,175,0,8,0.75594264\n",
      "DBT-P01153,DBT-S02202,lcc,407,344,431,214,20,8,0.8129974\n",
      "DBT-P01153,DBT-S02202,lcc,838,206,1841,141,36,8,0.86462045\n",
      "DBT-P01153,DBT-S02202,lcc,643,220,1055,190,41,8,0.83655643\n",
      "DBT-P01153,DBT-S02202,lmlo,376,129,1143,106,6,8,0.7243023\n",
      "DBT-P01153,DBT-S02202,lmlo,362,157,1140,124,15,8,0.7947132\n",
      "DBT-P01153,DBT-S02202,lmlo,355,163,1146,122,22,8,0.8744349\n",
      "DBT-P01153,DBT-S02202,lmlo,793,237,759,297,37,8,0.81686306\n",
      "DBT-P01153,DBT-S02202,lmlo,27,211,1086,211,57,8,0.82156634\n",
      "DBT-P01173,DBT-S02979,lcc,134,376,859,699,11,8,0.3848601\n",
      "DBT-P01173,DBT-S02979,lcc,346,272,1122,297,19,8,0.5448105\n",
      "DBT-P01173,DBT-S02979,lcc,169,269,915,270,25,8,0.46614915\n",
      "DBT-P01173,DBT-S02979,lmlo,414,193,1161,378,0,8,0.41151267\n",
      "DBT-P01173,DBT-S02979,lmlo,333,199,811,289,10,8,0.68311775\n",
      "DBT-P01173,DBT-S02979,lmlo,339,243,1006,325,39,8,0.36393112\n",
      "DBT-P01173,DBT-S02979,rcc,1443,255,1130,282,4,8,0.62209404\n",
      "DBT-P01173,DBT-S02979,rcc,1696,198,760,397,18,8,0.5212759\n",
      "DBT-P01173,DBT-S02979,rmlo,1324,294,1247,259,10,8,0.48254234\n",
      "DBT-P01207,DBT-S03000,lcc1,456,260,521,274,7,8,0.88289744\n",
      "DBT-P01207,DBT-S03000,lcc1,487,227,535,230,14,8,0.9080914\n",
      "DBT-P01207,DBT-S03000,lcc1,1054,231,1106,375,23,8,0.7878514\n",
      "DBT-P01207,DBT-S03000,lcc1,1093,210,1149,235,30,8,0.8667461\n",
      "DBT-P01207,DBT-S03000,lmlo1,591,184,1230,143,16,8,0.8686843\n",
      "DBT-P01226,DBT-S03190,lcc,187,200,1350,136,5,8,0.7100794\n",
      "DBT-P01226,DBT-S03190,lcc,76,237,1086,217,20,8,0.8100529\n",
      "DBT-P01226,DBT-S03190,lcc,126,325,1272,232,30,8,0.5082961\n",
      "DBT-P01226,DBT-S03190,lmlo,16,235,894,285,-1,8,0.4096498\n",
      "DBT-P01226,DBT-S03190,lmlo,110,204,935,223,24,8,0.57656705\n",
      "DBT-P01226,DBT-S03190,rcc,1066,176,1297,157,2,8,0.9169479\n",
      "DBT-P01226,DBT-S03190,rcc,1066,181,1291,163,8,8,0.9119407\n",
      "DBT-P01226,DBT-S03190,rmlo,1445,208,1576,184,4,8,0.6571826\n",
      "DBT-P01249,DBT-S03736,lcc,647,198,1463,214,17,8,0.8454553\n",
      "DBT-P01249,DBT-S03736,lcc,382,333,839,287,23,8,0.89068824\n",
      "DBT-P01249,DBT-S03736,lcc,386,305,860,240,33,8,0.8981485\n",
      "DBT-P01249,DBT-S03736,lcc,340,352,786,317,50,8,0.5864118\n",
      "DBT-P01249,DBT-S03736,lmlo,613,296,929,314,20,8,0.59827596\n",
      "DBT-P01249,DBT-S03736,lmlo,732,376,971,355,30,8,0.624275\n",
      "DBT-P01249,DBT-S03736,lmlo,875,358,1184,236,50,8,0.6272825\n",
      "DBT-P01249,DBT-S03736,rcc,1286,269,715,312,4,8,0.7832967\n",
      "DBT-P01249,DBT-S03736,rcc,1535,178,1533,220,51,8,0.8721276\n",
      "DBT-P01249,DBT-S03736,rmlo,997,294,925,313,-2,8,0.5098624\n",
      "DBT-P01249,DBT-S03736,rmlo,981,281,910,335,8,8,0.59789515\n",
      "DBT-P01249,DBT-S03736,rmlo,939,348,922,308,15,8,0.80947536\n",
      "DBT-P01249,DBT-S03736,rmlo,986,301,910,320,22,8,0.797669\n",
      "DBT-P01249,DBT-S03736,rmlo,931,389,960,239,31,8,0.80148053\n",
      "DBT-P01249,DBT-S03736,rmlo,1099,259,1575,280,42,8,0.7978493\n",
      "DBT-P01249,DBT-S03736,rmlo,1364,215,985,214,59,8,0.85040456\n",
      "DBT-P01293,DBT-S04200,rcc,1624,176,1359,194,3,8,0.45687777\n",
      "DBT-P01293,DBT-S04200,rcc,1427,182,1332,165,18,8,0.7156858\n",
      "DBT-P01293,DBT-S04200,rcc,1315,327,1327,231,42,8,0.7818821\n",
      "DBT-P01293,DBT-S04200,rcc,1419,201,1343,143,50,8,0.80433095\n",
      "DBT-P01293,DBT-S04200,rcc,1556,161,629,152,62,8,0.8315212\n",
      "DBT-P01293,DBT-S04200,rmlo,1098,208,842,212,20,8,0.7391441\n",
      "DBT-P01293,DBT-S04200,rmlo,1035,308,849,251,37,8,0.86853373\n",
      "DBT-P01293,DBT-S04200,rmlo,1097,213,822,313,45,8,0.8277205\n",
      "DBT-P01293,DBT-S04200,rmlo,1080,265,820,306,54,8,0.6042432\n",
      "DBT-P01296,DBT-S05343,lcc,730,244,1364,186,15,8,0.58125\n",
      "DBT-P01296,DBT-S05343,lcc,388,198,1400,203,31,8,0.71792674\n",
      "DBT-P01296,DBT-S05343,lmlo,133,218,678,164,10,8,0.85183847\n",
      "DBT-P01296,DBT-S05343,lmlo,131,212,677,162,16,8,0.84134775\n",
      "DBT-P01296,DBT-S05343,lmlo,21,144,336,174,22,8,0.83921444\n",
      "DBT-P01296,DBT-S05343,lmlo,730,212,1241,227,27,8,0.7070659\n",
      "DBT-P01296,DBT-S05343,lmlo,470,200,1642,170,40,8,0.8553904\n",
      "DBT-P01296,DBT-S05343,rcc,1323,176,1757,178,8,8,0.69710195\n",
      "DBT-P01296,DBT-S05343,rmlo,1339,120,575,111,16,8,0.9188218\n",
      "DBT-P01305,DBT-S00907,lcc,165,227,681,347,14,8,0.57275724\n",
      "DBT-P01305,DBT-S00907,lcc,138,249,798,293,20,8,0.47911078\n",
      "DBT-P01305,DBT-S00907,lcc,149,199,870,214,28,8,0.58579713\n",
      "DBT-P01305,DBT-S00907,lcc,18,220,540,206,36,8,0.6975389\n",
      "DBT-P01305,DBT-S00907,lcc,366,207,963,198,50,8,0.67927927\n",
      "DBT-P01305,DBT-S00907,lcc,416,209,1131,207,56,8,0.74291736\n",
      "DBT-P01305,DBT-S00907,lmlo,342,167,376,159,4,8,0.84116703\n",
      "DBT-P01305,DBT-S00907,lmlo,562,156,1178,198,20,8,0.64552337\n",
      "DBT-P01305,DBT-S00907,lmlo,92,173,1702,114,27,8,0.69783753\n",
      "DBT-P01305,DBT-S00907,lmlo,235,214,596,201,42,8,0.7761803\n",
      "DBT-P01305,DBT-S00907,lmlo,491,289,750,273,50,8,0.70696723\n",
      "DBT-P01305,DBT-S00907,lmlo,406,162,1541,149,63,8,0.7512653\n",
      "DBT-P01305,DBT-S00907,rcc,1712,181,1232,137,13,8,0.8512083\n",
      "DBT-P01305,DBT-S00907,rcc,1732,251,1560,289,35,8,0.53267235\n",
      "DBT-P01305,DBT-S00907,rcc,1784,215,698,326,44,8,0.40115163\n",
      "DBT-P01305,DBT-S00907,rmlo,1610,238,633,202,7,8,0.56793356\n",
      "DBT-P01305,DBT-S00907,rmlo,1255,326,578,244,25,8,0.45822838\n",
      "DBT-P01305,DBT-S00907,rmlo,1495,280,511,281,34,8,0.6167695\n",
      "DBT-P01305,DBT-S00907,rmlo,1490,285,492,332,39,8,0.71446353\n",
      "DBT-P01305,DBT-S00907,rmlo,1255,285,566,297,53,8,0.53045005\n",
      "DBT-P01305,DBT-S00907,rmlo,1272,562,457,433,57,8,0.54243165\n",
      "DBT-P01305,DBT-S00907,rmlo,1381,421,386,646,67,8,0.41978955\n",
      "DBT-P01305,DBT-S02933,lcc,178,317,912,245,5,8,0.3504021\n",
      "DBT-P01305,DBT-S02933,lcc,398,174,1116,179,47,8,0.7330079\n",
      "DBT-P01305,DBT-S02933,lmlo,418,202,611,197,12,8,0.4020845\n",
      "DBT-P01305,DBT-S02933,lmlo,74,269,0,325,27,8,0.6427038\n",
      "DBT-P01305,DBT-S02933,lmlo,237,380,603,289,56,8,0.42323563\n",
      "DBT-P01305,DBT-S02933,rcc,1738,261,616,322,45,8,0.5783599\n",
      "DBT-P01305,DBT-S02933,rmlo,1244,226,1198,357,9,8,0.664571\n",
      "DBT-P01305,DBT-S02933,rmlo,1398,325,589,321,14,8,0.63215554\n",
      "DBT-P01305,DBT-S02933,rmlo,1247,198,1228,274,25,8,0.5671178\n",
      "DBT-P01305,DBT-S02933,rmlo,1395,342,582,346,50,8,0.53007865\n",
      "DBT-P01334,DBT-S01389,rcc,1026,314,872,371,8,8,0.839622\n",
      "DBT-P01334,DBT-S01389,rcc,1060,266,901,316,30,8,0.87417346\n",
      "DBT-P01334,DBT-S01389,rcc,1038,307,913,287,39,8,0.91520303\n",
      "DBT-P01334,DBT-S01389,rcc,1859,133,1162,203,56,8,0.8825095\n",
      "DBT-P01334,DBT-S01389,rmlo,1048,237,997,336,15,8,0.8788813\n",
      "DBT-P01334,DBT-S01389,rmlo,1048,245,939,374,25,8,0.8930139\n",
      "DBT-P01334,DBT-S01389,rmlo,1033,252,981,358,33,8,0.93104154\n",
      "DBT-P01334,DBT-S01389,rmlo,1018,264,1010,331,43,8,0.86760956\n",
      "DBT-P01334,DBT-S01389,rmlo,1030,265,964,392,55,8,0.89486676\n",
      "DBT-P01356,DBT-S00334,lcc,821,108,1250,149,5,8,0.5736244\n",
      "DBT-P01356,DBT-S00334,lcc,107,207,676,155,15,8,0.68993086\n",
      "DBT-P01356,DBT-S00334,lcc,623,279,1146,289,29,8,0.43415442\n",
      "DBT-P01356,DBT-S00334,lmlo,368,306,862,239,0,8,0.6097781\n",
      "DBT-P01356,DBT-S00334,lmlo,94,225,990,181,9,8,0.78366286\n",
      "DBT-P01356,DBT-S00334,lmlo,215,164,1224,151,21,8,0.7944131\n",
      "DBT-P01356,DBT-S00334,rcc,1595,165,1535,181,5,8,0.7383223\n",
      "DBT-P01356,DBT-S00334,rcc,1608,144,1553,145,17,8,0.6865906\n",
      "DBT-P01356,DBT-S00334,rcc,1606,152,1549,141,32,8,0.84939206\n",
      "DBT-P01356,DBT-S00334,rmlo,1467,142,1198,186,9,8,0.87080073\n",
      "DBT-P01356,DBT-S00334,rmlo,1483,153,1209,148,29,8,0.75939447\n",
      "DBT-P01356,DBT-S00334,rmlo,1483,140,1211,134,37,8,0.78379416\n",
      "DBT-P01356,DBT-S00334,rmlo,1484,143,1207,145,44,8,0.75704896\n",
      "DBT-P01490,DBT-S00832,rcc,1303,149,1115,197,5,8,0.80654186\n",
      "DBT-P01490,DBT-S00832,rcc,1094,268,1329,284,9,8,0.68451136\n",
      "DBT-P01490,DBT-S00832,rcc,1649,192,594,293,17,8,0.7412802\n",
      "DBT-P01490,DBT-S00832,rmlo,1054,299,1343,356,0,8,0.64401746\n",
      "DBT-P01490,DBT-S00832,rmlo,1111,312,1599,311,14,8,0.7978188\n",
      "DBT-P01490,DBT-S00832,rmlo,1211,185,716,237,24,8,0.713005\n",
      "DBT-P01490,DBT-S00832,rmlo,1084,382,1031,708,47,8,0.6004208\n",
      "DBT-P01496,DBT-S00681,lcc,687,295,1257,280,7,8,0.79957646\n",
      "DBT-P01496,DBT-S00681,lcc,119,344,475,256,25,8,0.8322401\n",
      "DBT-P01496,DBT-S00681,lcc,632,318,1132,256,51,8,0.70220065\n",
      "DBT-P01496,DBT-S00681,lcc,0,100,313,271,61,8,0.49764952\n",
      "DBT-P01496,DBT-S00681,lmlo,707,201,717,162,10,8,0.79608417\n",
      "DBT-P01496,DBT-S00681,lmlo,916,175,962,148,19,8,0.8485308\n",
      "DBT-P01496,DBT-S00681,lmlo,423,193,1000,208,41,8,0.7491885\n",
      "DBT-P01496,DBT-S00681,lmlo,689,419,711,730,67,8,0.49648282\n",
      "DBT-P01496,DBT-S00681,rcc,1254,286,897,294,21,8,0.74791646\n",
      "DBT-P01496,DBT-S00681,rcc,1112,251,950,335,40,8,0.7424771\n",
      "DBT-P01496,DBT-S00681,rcc,1091,306,943,391,58,8,0.7055092\n",
      "DBT-P01496,DBT-S00681,rmlo,1059,162,1276,172,13,8,0.80865633\n",
      "DBT-P01496,DBT-S00681,rmlo,1761,202,0,205,32,8,0.88181347\n",
      "DBT-P01496,DBT-S00681,rmlo,958,175,1057,175,46,8,0.7247306\n",
      "DBT-P01496,DBT-S00681,rmlo,973,301,1008,378,61,8,0.60574573\n",
      "DBT-P01496,DBT-S00681,rmlo,999,409,961,715,72,8,0.71127677\n",
      "DBT-P01536,DBT-S05193,rmlo,1215,307,1101,242,8,8,0.70221215\n",
      "DBT-P01536,DBT-S05193,rmlo,1283,147,215,252,16,8,0.6678508\n",
      "DBT-P01536,DBT-S05193,rmlo,1229,184,293,217,23,8,0.7236146\n",
      "DBT-P01536,DBT-S05193,rmlo,1210,230,238,302,32,8,0.64584696\n",
      "DBT-P01538,DBT-S04798,lmlo,0,132,945,130,9,8,0.8658674\n",
      "DBT-P01538,DBT-S04798,lmlo,652,297,1243,385,22,8,0.56478965\n",
      "DBT-P01538,DBT-S04798,lmlo,514,278,1100,300,37,8,0.4364354\n",
      "DBT-P01538,DBT-S04798,rcc,1571,154,375,94,4,8,0.82252514\n",
      "DBT-P01538,DBT-S04798,rcc,1027,352,896,239,25,8,0.7484649\n",
      "DBT-P01700,DBT-S01353,lcc,706,201,1608,224,-1,8,0.41366988\n",
      "DBT-P01700,DBT-S01353,lcc,500,120,699,90,32,8,0.9091373\n",
      "DBT-P01700,DBT-S01353,lcc,505,118,689,109,48,8,0.8592247\n",
      "DBT-P01700,DBT-S01353,lmlo,738,96,878,85,7,8,0.87096274\n",
      "DBT-P01700,DBT-S01353,lmlo,735,96,878,81,11,8,0.86380035\n",
      "DBT-P01700,DBT-S01353,lmlo,736,97,873,92,19,8,0.80530596\n",
      "DBT-P01700,DBT-S01353,lmlo,735,102,862,106,23,8,0.7012258\n",
      "DBT-P01700,DBT-S01353,lmlo,707,153,837,158,41,8,0.7631091\n",
      "DBT-P01700,DBT-S01353,lmlo,845,187,989,246,55,8,0.4212972\n",
      "DBT-P01746,DBT-S00534,lcc,856,353,722,230,3,8,0.7609776\n",
      "DBT-P01746,DBT-S00534,lcc,943,258,744,215,11,8,0.73743886\n",
      "DBT-P01746,DBT-S00534,lcc,674,230,441,253,26,8,0.7984454\n",
      "DBT-P01746,DBT-S00534,lcc,876,249,752,194,39,8,0.6691286\n",
      "DBT-P01746,DBT-S00534,lmlo,562,189,1032,173,9,8,0.82666796\n",
      "DBT-P01746,DBT-S00534,lmlo,1166,197,869,235,33,8,0.68480724\n",
      "DBT-P01746,DBT-S00534,rcc,691,260,1091,214,-2,8,0.44987103\n",
      "DBT-P01746,DBT-S00534,rcc,889,224,569,367,44,8,0.6124163\n",
      "DBT-P01746,DBT-S00534,rcc,829,269,639,346,50,8,0.62942374\n",
      "DBT-P01746,DBT-S00534,rmlo,623,199,1017,408,45,8,0.46646616\n",
      "DBT-P01746,DBT-S00534,rmlo,631,217,1192,429,55,8,0.41478345\n",
      "DBT-P01772,DBT-S05055,rcc,1489,146,1074,159,18,8,0.6505007\n",
      "DBT-P01772,DBT-S05055,rcc,1334,333,904,348,34,8,0.5919497\n"
     ]
    },
    {
     "name": "stdout",
     "output_type": "stream",
     "text": [
      "DBT-P01772,DBT-S05055,rmlo,1279,306,1086,278,13,8,0.67645323\n",
      "DBT-P01772,DBT-S05055,rmlo,1274,315,1096,246,38,8,0.50290734\n",
      "DBT-P01778,DBT-S00333,lcc,635,145,816,98,9,8,0.9159985\n",
      "DBT-P01778,DBT-S00333,lcc,636,140,807,109,13,8,0.8933858\n",
      "DBT-P01778,DBT-S00333,lcc,290,175,398,128,26,8,0.5912646\n",
      "DBT-P01778,DBT-S00333,lcc,869,183,1470,177,33,8,0.75459015\n",
      "DBT-P01778,DBT-S00333,lmlo,478,124,1661,94,14,8,0.84244937\n",
      "DBT-P01778,DBT-S00333,lmlo,663,284,1578,301,30,8,0.6112419\n",
      "DBT-P01778,DBT-S00333,rcc,1052,187,1453,166,0,8,0.74621874\n",
      "DBT-P01778,DBT-S00333,rcc,1037,192,1445,186,6,8,0.83483803\n",
      "DBT-P01778,DBT-S00333,rcc,1605,90,858,68,18,8,0.6804979\n",
      "DBT-P01778,DBT-S00333,rcc,997,174,1098,222,25,8,0.40995538\n",
      "DBT-P01778,DBT-S00333,rmlo,1555,62,894,62,8,8,0.67519015\n",
      "DBT-P01778,DBT-S00333,rmlo,1554,68,892,63,18,8,0.66862625\n",
      "DBT-P01778,DBT-S00333,rmlo,1019,267,1255,283,31,8,0.62012106\n",
      "DBT-P01849,DBT-S03745,lcc,880,289,859,290,13,8,0.8671586\n",
      "DBT-P01849,DBT-S03745,lcc,791,292,1307,236,32,8,0.58402306\n",
      "DBT-P01849,DBT-S03745,lcc,546,239,437,153,37,8,0.7721998\n",
      "DBT-P01849,DBT-S03745,lcc,465,268,426,159,44,8,0.7605765\n",
      "DBT-P01849,DBT-S03745,lcc,2,189,212,448,72,8,0.65306395\n",
      "DBT-P01849,DBT-S03745,lcc,1,184,221,454,77,8,0.61361486\n",
      "DBT-P01849,DBT-S03745,lmlo,860,278,916,273,1,8,0.47746107\n",
      "DBT-P01849,DBT-S03745,lmlo,816,206,1782,212,17,8,0.6616063\n",
      "DBT-P01849,DBT-S03745,lmlo,0,134,393,142,33,8,0.6376982\n",
      "DBT-P01849,DBT-S03745,lmlo,844,354,1189,219,55,8,0.8002906\n",
      "DBT-P01849,DBT-S03745,lmlo,803,388,1499,213,68,8,0.6622724\n",
      "DBT-P01849,DBT-S03745,rcc,1452,146,1176,144,0,8,0.56584156\n",
      "DBT-P01849,DBT-S03745,rcc,1283,427,452,204,17,8,0.705675\n",
      "DBT-P01849,DBT-S03745,rcc,1238,404,457,242,22,8,0.7721567\n",
      "DBT-P01849,DBT-S03745,rcc,1377,348,940,206,54,8,0.69132227\n",
      "DBT-P01849,DBT-S03745,rcc,1068,217,783,207,60,8,0.65972644\n",
      "DBT-P01849,DBT-S03745,rcc,1577,270,1405,263,73,8,0.6385481\n",
      "DBT-P01849,DBT-S03745,rmlo,970,252,1112,270,47,8,0.76908284\n",
      "DBT-P01849,DBT-S03745,rmlo,860,287,1149,266,60,8,0.5411461\n",
      "DBT-P01851,DBT-S04426,lcc,232,136,511,108,23,8,0.7232529\n",
      "DBT-P01851,DBT-S04426,lcc,627,285,1166,306,38,8,0.6422823\n",
      "DBT-P01851,DBT-S04426,lmlo,748,291,1176,297,10,8,0.6984576\n",
      "DBT-P01851,DBT-S04426,lmlo,77,203,353,135,22,8,0.86684084\n",
      "DBT-P01851,DBT-S04426,lmlo,352,133,380,101,38,8,0.72628146\n",
      "DBT-P01851,DBT-S04426,lmlo,776,129,1856,90,46,8,0.7035264\n",
      "DBT-P01851,DBT-S04426,lmlo,906,229,2047,220,52,8,0.5517088\n",
      "DBT-P01851,DBT-S04426,lmlo,765,364,950,698,61,8,0.40576744\n",
      "DBT-P01851,DBT-S04426,rcc,1539,203,671,159,6,8,0.74110484\n",
      "DBT-P01851,DBT-S04426,rcc,1322,123,2044,82,26,8,0.7815204\n",
      "DBT-P01851,DBT-S04426,rcc,858,269,1712,310,32,8,0.711964\n",
      "DBT-P01851,DBT-S04426,rmlo,981,186,581,224,10,8,0.5900375\n",
      "DBT-P01851,DBT-S04426,rmlo,1540,200,193,230,14,8,0.42994618\n",
      "DBT-P01851,DBT-S04426,rmlo,1828,171,87,218,27,8,0.8607069\n",
      "DBT-P01851,DBT-S04426,rmlo,1828,170,80,227,34,8,0.7578157\n",
      "DBT-P01851,DBT-S04426,rmlo,742,172,1910,244,49,8,0.6401102\n",
      "DBT-P01941,DBT-S01647,rcc,1601,192,1396,192,14,8,0.6677953\n",
      "DBT-P01941,DBT-S01647,rcc,1168,244,1010,282,20,8,0.8828311\n",
      "DBT-P01941,DBT-S01647,rmlo,1069,179,1268,261,22,8,0.82420266\n",
      "DBT-P01941,DBT-S01647,rmlo,1624,186,1564,194,29,8,0.6866402\n",
      "DBT-P01957,DBT-S00246,lcc,722,351,1029,376,12,8,0.87142634\n",
      "DBT-P01957,DBT-S00246,lcc,268,391,465,234,26,8,0.8095036\n",
      "DBT-P01957,DBT-S00246,lcc,273,230,469,237,35,8,0.73141336\n",
      "DBT-P01957,DBT-S00246,lmlo,628,206,1510,189,7,8,0.7521473\n",
      "DBT-P01957,DBT-S00246,lmlo,277,226,1279,201,34,8,0.77111185\n",
      "DBT-P01957,DBT-S00246,lmlo,531,424,1300,657,56,8,0.528825\n",
      "DBT-P01957,DBT-S00246,rcc,1534,216,1833,214,12,8,0.74125713\n",
      "DBT-P01957,DBT-S00246,rcc,1266,278,1193,328,40,8,0.63586587\n",
      "DBT-P01957,DBT-S00246,rmlo,1221,245,490,279,13,8,0.7312869\n",
      "DBT-P01957,DBT-S00246,rmlo,1202,287,488,276,19,8,0.7395413\n",
      "DBT-P01957,DBT-S00246,rmlo,1200,257,464,288,35,8,0.72964483\n",
      "DBT-P01957,DBT-S00246,rmlo,920,351,794,788,46,8,0.41351366\n",
      "DBT-P01957,DBT-S00246,rmlo,1234,193,518,223,59,8,0.79584646\n",
      "DBT-P01967,DBT-S00345,lcc,221,392,981,335,5,8,0.870594\n",
      "DBT-P01967,DBT-S00345,lcc,246,376,1016,311,16,8,0.92912143\n",
      "DBT-P01967,DBT-S00345,lcc,253,370,954,352,35,8,0.8224886\n",
      "DBT-P01967,DBT-S00345,lmlo,1025,84,1108,66,7,8,0.7416134\n",
      "DBT-P01967,DBT-S00345,lmlo,493,303,1269,333,29,8,0.8080672\n",
      "DBT-P01967,DBT-S00345,lmlo,472,312,1274,313,38,8,0.62582004\n",
      "DBT-P01967,DBT-S00345,lmlo,439,395,1079,617,52,8,0.5121552\n",
      "DBT-P01967,DBT-S00345,lmlo,464,372,1307,264,57,8,0.4764527\n",
      "DBT-P01967,DBT-S00345,lmlo,435,386,1005,648,83,8,0.56025136\n",
      "DBT-P02072,DBT-S04286,lcc,472,336,535,226,16,8,0.44814256\n",
      "DBT-P02072,DBT-S04286,lmlo,512,306,909,293,18,8,0.60379356\n",
      "DBT-P02072,DBT-S04286,lmlo,608,346,1013,236,34,8,0.58305436\n",
      "DBT-P02072,DBT-S04286,lmlo,621,299,996,274,41,8,0.68432343\n",
      "DBT-P02072,DBT-S04286,lmlo,503,322,860,373,54,8,0.47895193\n",
      "DBT-P02072,DBT-S04286,lmlo,522,339,871,354,65,8,0.71603996\n",
      "DBT-P02072,DBT-S04286,lmlo,508,370,882,339,72,8,0.7378914\n",
      "DBT-P02072,DBT-S04286,rcc,1285,570,748,408,17,8,0.4429164\n",
      "DBT-P02072,DBT-S04286,rcc,1660,212,732,218,25,8,0.5990102\n",
      "DBT-P02072,DBT-S04286,rcc,1077,335,1092,321,35,8,0.63120365\n",
      "DBT-P02072,DBT-S04286,rcc,1057,148,1409,137,58,8,0.7164811\n",
      "DBT-P02072,DBT-S04286,rcc,1063,418,838,612,63,8,0.60369545\n",
      "DBT-P02072,DBT-S04286,rmlo,1126,289,877,315,7,8,0.71469396\n",
      "DBT-P02072,DBT-S04286,rmlo,1021,357,1264,234,12,8,0.5800582\n",
      "DBT-P02072,DBT-S04286,rmlo,1122,301,873,356,20,8,0.77971935\n",
      "DBT-P02072,DBT-S04286,rmlo,1006,276,1215,291,40,8,0.70288265\n",
      "DBT-P02072,DBT-S04286,rmlo,1014,295,1214,288,47,8,0.7499787\n",
      "DBT-P02072,DBT-S04286,rmlo,1017,292,1210,295,51,8,0.69939595\n",
      "DBT-P02072,DBT-S04286,rmlo,1024,356,868,715,59,8,0.57084394\n",
      "DBT-P02072,DBT-S04286,rmlo,1056,331,723,790,65,8,0.41925165\n",
      "DBT-P02111,DBT-S00970,lcc,519,173,967,234,9,8,0.4567721\n",
      "DBT-P02111,DBT-S00970,lcc,63,182,1397,210,43,8,0.8995686\n",
      "DBT-P02111,DBT-S00970,lcc,64,179,1397,214,47,8,0.86341006\n",
      "DBT-P02111,DBT-S00970,lmlo,561,125,205,163,-1,8,0.8582142\n",
      "DBT-P02111,DBT-S00970,lmlo,459,204,954,195,9,8,0.82496506\n",
      "DBT-P02111,DBT-S00970,lmlo,549,141,164,237,16,8,0.83119625\n",
      "DBT-P02111,DBT-S00970,lmlo,195,169,998,239,34,8,0.82140046\n",
      "DBT-P02111,DBT-S00970,lmlo,193,172,998,230,43,8,0.8958781\n",
      "DBT-P02111,DBT-S00970,rcc,1580,213,1151,279,19,8,0.6542198\n",
      "DBT-P02111,DBT-S00970,rcc,1610,191,1220,245,30,8,0.67775303\n",
      "DBT-P02111,DBT-S00970,rmlo,1778,120,74,214,19,8,0.78378046\n",
      "DBT-P02111,DBT-S00970,rmlo,1515,235,939,252,25,8,0.5034276\n",
      "DBT-P02117,DBT-S04920,lcc,349,241,886,346,-3,8,0.47780752\n",
      "DBT-P02117,DBT-S04920,lcc,468,199,994,201,5,8,0.5732682\n",
      "DBT-P02117,DBT-S04920,lcc,413,206,685,219,9,8,0.70500314\n",
      "DBT-P02117,DBT-S04920,lmlo,0,234,260,293,4,8,0.63899535\n",
      "DBT-P02117,DBT-S04920,lmlo,335,410,1040,644,31,8,0.66738206\n",
      "DBT-P02117,DBT-S04920,lmlo,496,189,1013,205,38,8,0.74919075\n",
      "DBT-P02117,DBT-S04920,lmlo,216,248,1526,229,51,8,0.734255\n",
      "DBT-P02117,DBT-S04920,rcc,1677,99,1349,80,3,8,0.8079641\n",
      "DBT-P02117,DBT-S04920,rcc,1683,91,1355,83,12,8,0.7152586\n",
      "DBT-P02117,DBT-S04920,rcc,1189,391,959,747,36,8,0.6368693\n",
      "DBT-P02117,DBT-S04920,rcc,1179,401,928,791,49,8,0.4929109\n",
      "DBT-P02117,DBT-S04920,rmlo,1836,163,106,335,17,8,0.7699371\n",
      "DBT-P02117,DBT-S04920,rmlo,1496,189,986,165,28,8,0.838312\n",
      "DBT-P02117,DBT-S04920,rmlo,1516,159,988,142,49,8,0.69144464\n",
      "DBT-P02160,DBT-S05181,lcc,53,207,789,204,-1,8,0.43358284\n",
      "DBT-P02160,DBT-S05181,rcc,1454,218,621,199,-3,8,0.74556166\n",
      "DBT-P02160,DBT-S05181,rcc,1457,209,624,198,8,8,0.79240704\n",
      "DBT-P02160,DBT-S05181,rcc,1457,233,817,211,23,8,0.6127935\n",
      "DBT-P02160,DBT-S05181,rmlo,1365,179,638,149,4,8,0.78322375\n",
      "DBT-P02170,DBT-S00584,lcc,907,108,1213,103,14,8,0.81282073\n",
      "DBT-P02170,DBT-S00584,lcc,101,183,1292,142,27,8,0.8344977\n",
      "DBT-P02170,DBT-S00584,lcc,903,114,1214,96,31,8,0.70528126\n",
      "DBT-P02170,DBT-S00584,lcc,348,304,666,333,44,8,0.43082651\n",
      "DBT-P02170,DBT-S00584,lmlo,0,137,0,318,21,8,0.84137046\n",
      "DBT-P02170,DBT-S00584,lmlo,0,116,38,269,28,8,0.77084464\n",
      "DBT-P02170,DBT-S00584,lmlo,285,628,818,486,48,8,0.5434335\n",
      "DBT-P02170,DBT-S00584,rcc,1189,330,1520,234,3,8,0.40454882\n",
      "DBT-P02170,DBT-S00584,rcc,1232,372,707,741,23,8,0.6152973\n",
      "DBT-P02170,DBT-S00584,rcc,1207,272,1496,241,35,8,0.7760494\n",
      "DBT-P02170,DBT-S00584,rcc,1175,300,1469,266,46,8,0.67578423\n",
      "DBT-P02170,DBT-S00584,rcc,1187,314,1474,266,54,8,0.6809558\n",
      "DBT-P02170,DBT-S00584,rmlo,1249,391,583,658,8,8,0.67185736\n",
      "DBT-P02170,DBT-S00584,rmlo,1260,350,712,434,13,8,0.56549424\n",
      "DBT-P02170,DBT-S00584,rmlo,1564,254,1714,181,25,8,0.7452575\n",
      "DBT-P02170,DBT-S00584,rmlo,1561,233,1719,210,35,8,0.77122533\n",
      "DBT-P02170,DBT-S00584,rmlo,1580,221,1701,195,41,8,0.7818823\n",
      "DBT-P02170,DBT-S00584,rmlo,1185,385,1230,680,57,8,0.4655775\n",
      "DBT-P02214,DBT-S05549,lcc,1156,321,750,329,10,8,0.8030074\n",
      "DBT-P02214,DBT-S05549,lcc,499,166,499,221,16,8,0.81240577\n",
      "DBT-P02214,DBT-S05549,lcc,202,351,196,295,30,8,0.8101734\n",
      "DBT-P02214,DBT-S05549,lcc,1300,321,811,298,37,8,0.73610646\n",
      "DBT-P02214,DBT-S05549,lcc,341,99,401,88,54,8,0.82576895\n",
      "DBT-P02214,DBT-S05549,lcc,1281,303,804,309,72,8,0.69912785\n",
      "DBT-P02214,DBT-S05549,lmlo,1474,312,1387,312,15,8,0.72925496\n",
      "DBT-P02214,DBT-S05549,lmlo,377,78,461,75,29,8,0.7520469\n",
      "DBT-P02214,DBT-S05549,lmlo,258,190,245,123,39,8,0.86891013\n",
      "DBT-P02214,DBT-S05549,lmlo,1121,96,365,78,54,8,0.84004915\n",
      "DBT-P02214,DBT-S05549,lmlo,1108,316,442,326,77,8,0.59155107\n",
      "DBT-P02214,DBT-S05549,rcc,1871,128,1896,431,7,8,0.76409656\n",
      "DBT-P02214,DBT-S05549,rcc,659,179,699,155,31,8,0.75827295\n",
      "DBT-P02214,DBT-S05549,rcc,1086,216,377,209,39,8,0.6347135\n",
      "DBT-P02214,DBT-S05549,rcc,706,155,869,133,54,8,0.75768405\n",
      "DBT-P02214,DBT-S05549,rcc,1783,211,1889,210,68,8,0.63333774\n",
      "DBT-P02214,DBT-S05549,rmlo,336,129,1174,125,24,8,0.7332794\n",
      "DBT-P02214,DBT-S05549,rmlo,324,150,1170,149,28,8,0.74338424\n",
      "DBT-P02214,DBT-S05549,rmlo,1529,112,46,93,36,8,0.81909233\n",
      "DBT-P02214,DBT-S05549,rmlo,1605,306,146,289,42,8,0.81191754\n",
      "DBT-P02214,DBT-S05549,rmlo,1283,125,2017,120,53,8,0.71618223\n",
      "DBT-P02226,DBT-S01309,lcc,75,151,1268,101,6,8,0.8130426\n",
      "DBT-P02226,DBT-S01309,lcc,84,133,1273,89,10,8,0.8112208\n",
      "DBT-P02226,DBT-S01309,lcc,454,187,602,139,21,8,0.6855862\n",
      "DBT-P02226,DBT-S01309,lcc,34,161,1176,242,46,8,0.81361806\n",
      "DBT-P02226,DBT-S01309,lmlo,59,121,1618,96,8,8,0.7802825\n",
      "DBT-P02226,DBT-S01309,lmlo,29,154,461,134,17,8,0.855585\n",
      "DBT-P02226,DBT-S01309,lmlo,20,170,200,200,24,8,0.9009813\n",
      "DBT-P02226,DBT-S01309,lmlo,16,172,201,197,28,8,0.90478694\n",
      "DBT-P02226,DBT-S01309,lmlo,272,208,928,212,42,8,0.6452288\n",
      "DBT-P02226,DBT-S01309,rcc,853,285,1248,267,31,8,0.7658176\n",
      "DBT-P02226,DBT-S01309,rcc,854,303,1221,282,35,8,0.740171\n",
      "DBT-P02226,DBT-S01309,rcc,884,260,1169,328,46,8,0.4031904\n",
      "DBT-P02226,DBT-S01309,rmlo,891,247,1589,203,5,8,0.6456575\n",
      "DBT-P02226,DBT-S01309,rmlo,1310,130,1777,104,10,8,0.6800474\n",
      "DBT-P02226,DBT-S01309,rmlo,1875,113,484,104,23,8,0.862979\n",
      "DBT-P02226,DBT-S01309,rmlo,1738,105,970,87,39,8,0.8922711\n",
      "DBT-P02314,DBT-S00900,lcc,65,174,1539,152,5,8,0.43182477\n",
      "DBT-P02314,DBT-S00900,lmlo,190,271,1321,313,15,8,0.5676068\n",
      "DBT-P02314,DBT-S00900,lmlo,216,252,1329,309,20,8,0.46637616\n",
      "DBT-P02314,DBT-S00900,rcc,1421,250,989,291,16,8,0.64713234\n",
      "DBT-P02314,DBT-S00900,rmlo,1668,213,1690,346,2,8,0.5856068\n",
      "DBT-P02381,DBT-S04511,lcc,876,191,978,243,0,8,0.58828163\n",
      "DBT-P02381,DBT-S04511,lcc,788,182,1213,202,10,8,0.737673\n",
      "DBT-P02381,DBT-S04511,lcc,791,168,1214,179,18,8,0.74270725\n",
      "DBT-P02381,DBT-S04511,lmlo,975,187,1613,203,2,8,0.85751784\n",
      "DBT-P02381,DBT-S04511,lmlo,963,190,1610,255,18,8,0.48143297\n",
      "DBT-P02381,DBT-S04511,lmlo,764,200,872,213,27,8,0.69014126\n",
      "DBT-P02381,DBT-S04511,lmlo,812,245,1262,222,35,8,0.5925581\n",
      "DBT-P02381,DBT-S04511,rcc,898,183,1178,216,1,8,0.84231514\n",
      "DBT-P02381,DBT-S04511,rcc,1363,301,492,307,27,8,0.7657364\n",
      "DBT-P02381,DBT-S04511,rmlo,1177,255,932,276,4,8,0.73043936\n",
      "DBT-P02381,DBT-S04511,rmlo,1272,185,1174,161,12,8,0.8432522\n",
      "DBT-P02381,DBT-S04511,rmlo,1460,188,2146,213,42,8,0.85259736\n",
      "DBT-P02394,DBT-S02754,lcc,1093,286,939,316,-1,8,0.49646685\n",
      "DBT-P02394,DBT-S02754,lcc,482,218,600,171,24,8,0.6527561\n",
      "DBT-P02394,DBT-S02754,lmlo,0,229,0,525,9,8,0.53775924\n",
      "DBT-P02394,DBT-S02754,lmlo,697,302,855,237,23,8,0.78357834\n",
      "DBT-P02394,DBT-S02754,lmlo,672,269,870,198,32,8,0.7684316\n",
      "DBT-P02394,DBT-S02754,rcc,1266,346,473,243,18,8,0.59009075\n",
      "DBT-P02394,DBT-S02754,rmlo,848,98,1670,80,2,8,0.6446473\n",
      "DBT-P02394,DBT-S02754,rmlo,1337,292,710,222,32,8,0.6742738\n",
      "DBT-P02498,DBT-S04707,lcc,115,354,470,324,10,8,0.7153372\n",
      "DBT-P02498,DBT-S04707,lcc,0,529,496,335,22,8,0.6429764\n",
      "DBT-P02498,DBT-S04707,lcc,0,84,458,116,38,8,0.7659928\n",
      "DBT-P02498,DBT-S04707,lcc,0,115,481,198,60,8,0.49006355\n",
      "DBT-P02498,DBT-S04707,lmlo,266,135,373,95,7,8,0.87782186\n",
      "DBT-P02498,DBT-S04707,lmlo,275,127,382,89,13,8,0.8827027\n",
      "DBT-P02498,DBT-S04707,lmlo,275,124,386,82,23,8,0.89228076\n",
      "DBT-P02498,DBT-S04707,lmlo,276,131,375,96,32,8,0.8353274\n",
      "DBT-P02498,DBT-S04707,lmlo,274,132,363,113,44,8,0.6934121\n",
      "DBT-P02498,DBT-S04707,lmlo,273,135,332,162,49,8,0.8242699\n",
      "DBT-P02498,DBT-S04707,rcc,1613,205,735,400,10,8,0.7579047\n",
      "DBT-P02498,DBT-S04707,rcc,1560,348,586,707,21,8,0.72446156\n",
      "DBT-P02498,DBT-S04707,rcc,1591,242,903,345,36,8,0.7908456\n",
      "DBT-P02498,DBT-S04707,rcc,1532,328,519,806,64,8,0.4558974\n",
      "DBT-P02498,DBT-S04707,rmlo,1591,142,1283,125,7,8,0.87065333\n",
      "DBT-P02498,DBT-S04707,rmlo,1627,171,1683,208,22,8,0.82610464\n",
      "DBT-P02498,DBT-S04707,rmlo,1315,287,708,307,39,8,0.80608124\n",
      "DBT-P02498,DBT-S04707,rmlo,1469,324,1199,243,47,8,0.80293083\n",
      "DBT-P02558,DBT-S04031,lcc,398,137,912,122,6,8,0.8689378\n",
      "DBT-P02558,DBT-S04031,lcc,394,141,914,120,23,8,0.8555033\n",
      "DBT-P02558,DBT-S04031,lcc,406,106,932,105,40,8,0.5838104\n",
      "DBT-P02558,DBT-S04031,lmlo,490,146,1293,146,15,8,0.9095542\n",
      "DBT-P02558,DBT-S04031,lmlo,482,158,1283,153,24,8,0.91002554\n",
      "DBT-P02558,DBT-S04031,lmlo,487,151,1290,141,28,8,0.9052376\n",
      "DBT-P02558,DBT-S04031,rcc,1329,128,1038,128,11,8,0.91026086\n",
      "DBT-P02558,DBT-S04031,rcc,1329,133,1040,127,20,8,0.90249103\n",
      "DBT-P02558,DBT-S04031,rcc,1331,128,1049,116,24,8,0.92358893\n",
      "DBT-P02558,DBT-S04031,rcc,1340,113,1063,86,37,8,0.8679877\n",
      "DBT-P02558,DBT-S04031,rmlo,1285,179,1228,168,20,8,0.78440547\n",
      "DBT-P02558,DBT-S04031,rmlo,1289,171,1224,172,26,8,0.7120208\n",
      "DBT-P02558,DBT-S04031,rmlo,1288,177,1227,169,30,8,0.8351151\n",
      "DBT-P02560,DBT-S02533,lcc,303,506,729,533,12,8,0.79702884\n",
      "DBT-P02560,DBT-S02533,lcc,317,471,718,552,22,8,0.7998853\n",
      "DBT-P02560,DBT-S02533,lcc,279,594,699,441,58,8,0.4600586\n",
      "DBT-P02560,DBT-S02533,lmlo,43,61,576,62,7,8,0.71537846\n",
      "DBT-P02560,DBT-S02533,lmlo,30,297,0,234,16,8,0.7340834\n",
      "DBT-P02560,DBT-S02533,lmlo,513,530,1044,550,24,8,0.7187348\n",
      "DBT-P02560,DBT-S02533,lmlo,413,611,1023,616,31,8,0.76921314\n",
      "DBT-P02560,DBT-S02533,lmlo,468,532,1007,614,42,8,0.68719804\n",
      "DBT-P02560,DBT-S02533,lmlo,441,638,1053,494,51,8,0.5607972\n",
      "DBT-P02560,DBT-S02533,rcc,1386,214,1833,171,0,8,0.84863335\n",
      "DBT-P02560,DBT-S02533,rcc,1386,235,1830,175,8,8,0.69888186\n",
      "DBT-P02560,DBT-S02533,rcc,1445,223,350,207,28,8,0.59579784\n",
      "DBT-P02560,DBT-S02533,rcc,1014,608,835,435,54,8,0.45951915\n",
      "DBT-P02560,DBT-S02533,rmlo,880,612,963,604,15,8,0.7820086\n",
      "DBT-P02560,DBT-S02533,rmlo,1749,151,96,164,30,8,0.866748\n",
      "DBT-P02560,DBT-S02533,rmlo,927,574,961,577,46,8,0.70318604\n",
      "DBT-P02598,DBT-S02915,rcc,1577,300,806,288,40,8,0.5095267\n",
      "DBT-P02598,DBT-S02915,rcc,1492,405,812,275,68,8,0.3871783\n",
      "DBT-P02598,DBT-S02915,rmlo,1395,323,1108,322,10,8,0.7336411\n",
      "DBT-P02598,DBT-S02915,rmlo,1427,301,1136,272,30,8,0.87065667\n",
      "DBT-P02598,DBT-S02915,rmlo,1544,196,1712,196,44,8,0.59922945\n",
      "DBT-P02598,DBT-S02915,rmlo,1411,293,1147,290,49,8,0.55659634\n",
      "DBT-P02598,DBT-S02915,rmlo,1146,378,976,734,56,8,0.541022\n",
      "DBT-P02598,DBT-S02915,rmlo,1154,407,1023,717,63,8,0.6436175\n",
      "DBT-P02648,DBT-S04930,lcc,201,356,575,300,11,8,0.7660971\n",
      "DBT-P02648,DBT-S04930,lcc,196,380,577,348,27,8,0.8108328\n",
      "DBT-P02648,DBT-S04930,lcc,467,276,893,305,45,8,0.6999795\n",
      "DBT-P02648,DBT-S04930,lmlo,519,334,1011,379,-1,8,0.58643144\n",
      "DBT-P02648,DBT-S04930,lmlo,644,210,983,307,31,8,0.7281367\n",
      "DBT-P02648,DBT-S04930,lmlo,630,221,1349,230,38,8,0.8149441\n",
      "DBT-P02648,DBT-S04930,lmlo,624,239,1185,383,52,8,0.6115913\n",
      "DBT-P02648,DBT-S04930,lmlo,455,412,961,821,60,8,0.4347559\n",
      "DBT-P02648,DBT-S04930,rcc,1543,326,583,341,16,8,0.52069724\n",
      "DBT-P02648,DBT-S04930,rcc,1394,416,638,694,32,8,0.72200966\n",
      "DBT-P02648,DBT-S04930,rcc,1434,317,876,333,42,8,0.81025845\n",
      "DBT-P02648,DBT-S04930,rcc,1400,395,606,716,51,8,0.70684403\n",
      "DBT-P02648,DBT-S04930,rcc,1361,372,708,801,58,8,0.5406106\n",
      "DBT-P02648,DBT-S04930,rmlo,1214,422,997,695,8,8,0.7224017\n",
      "DBT-P02648,DBT-S04930,rmlo,1375,200,1760,170,12,8,0.890297\n",
      "DBT-P02648,DBT-S04930,rmlo,1233,267,1044,566,23,8,0.72770166\n",
      "DBT-P02648,DBT-S04930,rmlo,1221,285,1145,459,35,8,0.6570136\n",
      "DBT-P02648,DBT-S04930,rmlo,1220,372,931,756,50,8,0.7095111\n",
      "DBT-P02686,DBT-S00620,lcc,499,154,874,124,12,8,0.81530166\n",
      "DBT-P02686,DBT-S00620,lcc,213,268,901,266,35,8,0.6332086\n",
      "DBT-P02686,DBT-S00620,lcc,234,225,1706,182,52,8,0.45279723\n",
      "DBT-P02686,DBT-S00620,lmlo,432,204,1520,213,7,8,0.72604716\n",
      "DBT-P02686,DBT-S00620,lmlo,38,413,1588,240,15,8,0.39584398\n",
      "DBT-P02686,DBT-S00620,lmlo,570,201,1149,220,33,8,0.77475184\n",
      "DBT-P02686,DBT-S00620,lmlo,99,177,300,266,42,8,0.7106091\n",
      "DBT-P02766,DBT-S04821,lcc,119,393,1099,708,16,8,0.35720488\n",
      "DBT-P02766,DBT-S04821,lcc,433,274,1640,300,43,8,0.67185813\n",
      "DBT-P02766,DBT-S04821,lcc,241,493,712,497,56,8,0.9090845\n",
      "DBT-P02766,DBT-S04821,lcc,187,344,1742,247,80,8,0.39896145\n",
      "DBT-P02766,DBT-S04821,lmlo,536,474,585,544,42,8,0.5546662\n",
      "DBT-P02766,DBT-S04821,lmlo,399,197,1725,189,62,8,0.75143206\n",
      "DBT-P02766,DBT-S04821,lmlo,560,284,779,295,66,8,0.7087989\n",
      "DBT-P02766,DBT-S04821,lmlo,181,665,894,448,72,8,0.40667343\n",
      "DBT-P02776,DBT-S03924,lcc,590,326,959,381,3,8,0.7616188\n",
      "DBT-P02776,DBT-S03924,lcc,296,225,1303,201,21,8,0.753104\n",
      "DBT-P02776,DBT-S03924,lmlo,457,339,999,213,3,8,0.72153246\n",
      "DBT-P02776,DBT-S03924,lmlo,675,230,1279,371,17,8,0.80585927\n",
      "DBT-P02776,DBT-S03924,rcc,1141,240,842,350,6,8,0.7935244\n",
      "DBT-P02776,DBT-S03924,rcc,1075,286,943,344,16,8,0.6680779\n",
      "DBT-P02776,DBT-S03924,rcc,1163,243,806,447,35,8,0.6908654\n",
      "DBT-P02776,DBT-S03924,rmlo,1719,178,1170,211,-3,8,0.45741758\n",
      "DBT-P02776,DBT-S03924,rmlo,1589,237,1221,147,8,8,0.61492306\n",
      "DBT-P02776,DBT-S03924,rmlo,1228,166,873,259,22,8,0.69178176\n",
      "DBT-P02816,DBT-S02247,lcc,154,194,666,370,-2,8,0.4801253\n",
      "DBT-P02816,DBT-S02247,lcc,179,176,640,197,5,8,0.54763776\n",
      "DBT-P02816,DBT-S02247,lcc,101,232,1074,204,20,8,0.79217064\n",
      "DBT-P02816,DBT-S02247,lcc,115,258,808,284,30,8,0.5338603\n",
      "DBT-P02816,DBT-S02247,lcc,160,174,871,242,40,8,0.46965232\n",
      "DBT-P02816,DBT-S02247,lmlo,413,214,1226,219,6,8,0.6119796\n",
      "DBT-P02816,DBT-S02247,lmlo,333,269,1176,221,30,8,0.8042213\n",
      "DBT-P02816,DBT-S02247,lmlo,464,207,1423,210,44,8,0.6225201\n",
      "DBT-P02816,DBT-S02247,lmlo,467,227,1392,294,50,8,0.7293276\n",
      "DBT-P02816,DBT-S02247,lmlo,472,213,1384,312,56,8,0.6908993\n",
      "DBT-P02816,DBT-S02247,rcc,1495,256,1036,299,9,8,0.7176111\n",
      "DBT-P02816,DBT-S02247,rcc,1506,212,1318,188,16,8,0.8321253\n",
      "DBT-P02816,DBT-S02247,rcc,1091,339,1072,233,25,8,0.78630656\n",
      "DBT-P02816,DBT-S02247,rcc,1098,268,1041,287,30,8,0.85655534\n",
      "DBT-P02816,DBT-S02247,rcc,1416,319,1096,226,35,8,0.73279953\n",
      "DBT-P02816,DBT-S02247,rmlo,1267,342,1457,220,12,8,0.7265854\n",
      "DBT-P02816,DBT-S02247,rmlo,1420,198,1388,172,28,8,0.8127554\n",
      "DBT-P02816,DBT-S02247,rmlo,1289,250,1118,320,43,8,0.61885226\n",
      "DBT-P02864,DBT-S03957,lcc,914,172,1210,231,2,8,0.65317625\n",
      "DBT-P02864,DBT-S03957,lcc,454,195,1789,185,17,8,0.8194093\n",
      "DBT-P02864,DBT-S03957,lcc,400,236,1792,207,25,8,0.8498592\n",
      "DBT-P02864,DBT-S03957,lcc,391,234,1797,201,34,8,0.82344717\n",
      "DBT-P02864,DBT-S03957,lcc,478,198,689,233,41,8,0.54511636\n",
      "DBT-P02864,DBT-S03957,lmlo,43,78,396,83,6,8,0.7743709\n",
      "DBT-P02864,DBT-S03957,lmlo,54,186,0,306,19,8,0.615345\n",
      "DBT-P02864,DBT-S03957,lmlo,758,304,1589,289,30,8,0.45156735\n",
      "DBT-P02864,DBT-S03957,lmlo,104,217,672,354,45,8,0.54124963\n",
      "DBT-P02864,DBT-S03957,rcc,1555,182,1063,140,11,8,0.87842214\n",
      "DBT-P02864,DBT-S03957,rcc,1355,191,1672,150,29,8,0.8243351\n",
      "DBT-P02864,DBT-S03957,rcc,1268,285,653,340,34,8,0.71558785\n",
      "DBT-P02864,DBT-S03957,rmlo,1362,366,1954,214,5,8,0.73182255\n",
      "DBT-P02864,DBT-S03957,rmlo,1037,244,935,338,24,8,0.8520599\n",
      "DBT-P02864,DBT-S03957,rmlo,1050,227,945,396,43,8,0.6440832\n",
      "DBT-P02898,DBT-S00406,lcc,476,259,504,168,7,8,0.62830883\n",
      "DBT-P02898,DBT-S00406,lcc,801,337,1080,384,24,8,0.6827997\n",
      "DBT-P02898,DBT-S00406,lmlo,374,139,236,168,5,8,0.8692976\n",
      "DBT-P02898,DBT-S00406,rcc,931,166,802,143,1,8,0.88727796\n",
      "DBT-P02898,DBT-S00406,rcc,945,183,787,165,11,8,0.6484986\n",
      "DBT-P02898,DBT-S00406,rcc,1224,115,705,90,19,8,0.80465555\n",
      "DBT-P02959,DBT-S05167,lcc,789,278,757,275,2,8,0.61624086\n",
      "DBT-P02959,DBT-S05167,lcc,842,232,814,212,12,8,0.46055046\n",
      "DBT-P02959,DBT-S05167,lcc,847,221,823,204,21,8,0.8657664\n",
      "DBT-P02959,DBT-S05167,lcc,1094,152,1000,239,43,8,0.83511084\n",
      "DBT-P02959,DBT-S05167,lcc,711,338,1420,249,52,8,0.43564537\n",
      "DBT-P02959,DBT-S05167,lcc,0,181,243,411,63,8,0.3506315\n",
      "DBT-P02959,DBT-S05167,lmlo,653,194,1682,203,10,8,0.61243814\n",
      "DBT-P02959,DBT-S05167,lmlo,954,291,1677,283,17,8,0.71115863\n",
      "DBT-P02959,DBT-S05167,lmlo,938,287,1673,275,28,8,0.66592246\n",
      "DBT-P02959,DBT-S05167,lmlo,982,258,1653,300,41,8,0.53433007\n",
      "DBT-P02959,DBT-S05167,lmlo,952,252,1690,261,47,8,0.6715166\n",
      "DBT-P02959,DBT-S05167,lmlo,958,254,1709,262,54,8,0.56769705\n",
      "DBT-P02959,DBT-S05167,rcc,1342,188,685,132,13,8,0.40244645\n",
      "DBT-P02959,DBT-S05167,rcc,832,187,1305,232,47,8,0.5601255\n",
      "DBT-P02959,DBT-S05167,rcc,1136,192,1351,194,53,8,0.70171756\n",
      "DBT-P02959,DBT-S05167,rmlo,1469,69,437,53,21,8,0.7294113\n",
      "DBT-P02959,DBT-S05167,rmlo,901,215,1208,208,29,8,0.708028\n",
      "DBT-P02959,DBT-S05167,rmlo,883,270,1177,269,37,8,0.6682582\n",
      "DBT-P02959,DBT-S05167,rmlo,1529,127,451,99,48,8,0.59630096\n",
      "DBT-P02959,DBT-S05167,rmlo,1346,217,1928,169,69,8,0.6390287\n",
      "DBT-P02989,DBT-S01022,rcc,1214,511,742,530,7,8,0.9350192\n",
      "DBT-P02989,DBT-S01022,rcc,1190,508,741,547,19,8,0.9189744\n",
      "DBT-P02989,DBT-S01022,rcc,1192,506,749,546,27,8,0.8773059\n",
      "DBT-P02989,DBT-S01022,rcc,1194,523,752,535,39,8,0.87518644\n",
      "DBT-P02989,DBT-S01022,rcc,1241,445,689,601,56,8,0.64513296\n",
      "DBT-P02989,DBT-S01022,rcc,1216,479,725,539,77,8,0.7471566\n",
      "DBT-P03027,DBT-S03974,lcc,368,280,874,324,0,8,0.35421246\n",
      "DBT-P03027,DBT-S03974,lcc,113,309,870,249,33,8,0.9016931\n",
      "DBT-P03027,DBT-S03974,lmlo,276,313,676,302,12,8,0.871721\n",
      "DBT-P03027,DBT-S03974,lmlo,289,319,686,262,30,8,0.8890275\n",
      "DBT-P03027,DBT-S03974,lmlo,58,195,760,230,49,8,0.7057172\n",
      "DBT-P03027,DBT-S03974,lmlo,319,221,516,326,54,8,0.647307\n",
      "DBT-P03027,DBT-S03974,lmlo,72,219,658,393,61,8,0.50016373\n",
      "DBT-P03092,DBT-S01050,lcc,904,321,1433,279,2,8,0.7161021\n",
      "DBT-P03092,DBT-S01050,lcc,891,189,1052,214,19,8,0.6240887\n",
      "DBT-P03092,DBT-S01050,lcc,883,232,1045,225,31,8,0.79363936\n",
      "DBT-P03092,DBT-S01050,lcc,869,231,1037,271,39,8,0.80666596\n",
      "DBT-P03092,DBT-S01050,lcc,777,370,1041,694,53,8,0.62678593\n",
      "DBT-P03092,DBT-S01050,lmlo,835,303,1619,381,0,8,0.71594614\n",
      "DBT-P03092,DBT-S01050,lmlo,512,175,535,200,10,8,0.68704855\n",
      "DBT-P03092,DBT-S01050,lmlo,110,111,448,101,19,8,0.71541613\n",
      "DBT-P03092,DBT-S01050,lmlo,709,483,1568,531,71,8,0.6894249\n",
      "DBT-P03092,DBT-S01050,rcc,1619,113,1710,98,10,8,0.7683009\n",
      "DBT-P03092,DBT-S01050,rcc,1627,96,1723,76,23,8,0.88233715\n",
      "DBT-P03092,DBT-S01050,rmlo,939,199,1395,257,-3,8,0.37261942\n",
      "DBT-P03092,DBT-S01050,rmlo,1771,104,430,98,14,8,0.79761976\n",
      "DBT-P03092,DBT-S01050,rmlo,1576,90,1554,79,35,8,0.88521826\n",
      "DBT-P03092,DBT-S01050,rmlo,1464,208,1503,192,63,8,0.6717493\n",
      "DBT-P03110,DBT-S02292,lcc,26,100,1173,147,-2,8,0.39853308\n",
      "DBT-P03110,DBT-S02292,lmlo,99,120,1650,101,9,8,0.8319344\n",
      "DBT-P03110,DBT-S02292,lmlo,433,182,1622,194,25,8,0.53286713\n",
      "DBT-P03110,DBT-S02292,rcc,1460,203,974,202,21,8,0.639968\n",
      "DBT-P03110,DBT-S02292,rmlo,1702,197,2230,239,6,8,0.48750636\n",
      "DBT-P03110,DBT-S02292,rmlo,1749,147,2249,208,27,8,0.5692426\n",
      "DBT-P03113,DBT-S00369,rcc,1430,125,1249,119,3,8,0.8248211\n",
      "DBT-P03113,DBT-S00369,rcc,1760,239,684,386,15,8,0.8664521\n",
      "DBT-P03113,DBT-S00369,rcc,1756,241,681,298,24,8,0.8518643\n",
      "DBT-P03113,DBT-S00369,rcc,1765,234,650,318,34,8,0.6976889\n",
      "DBT-P03113,DBT-S00369,rcc,1750,248,654,338,46,8,0.50192374\n",
      "DBT-P03113,DBT-S00369,rcc,1760,239,643,387,54,8,0.4203709\n",
      "DBT-P03113,DBT-S00369,rmlo,1718,273,1167,292,15,8,0.88665414\n",
      "DBT-P03113,DBT-S00369,rmlo,1869,130,51,343,32,8,0.91936064\n",
      "DBT-P03113,DBT-S00369,rmlo,1735,264,1167,345,59,8,0.4435204\n",
      "DBT-P03129,DBT-S04844,lcc,327,240,1378,313,4,8,0.5417299\n",
      "DBT-P03129,DBT-S04844,lcc,302,213,1493,215,16,8,0.821005\n",
      "DBT-P03129,DBT-S04844,lcc,320,221,1473,222,23,8,0.79864985\n",
      "DBT-P03129,DBT-S04844,lmlo,0,53,657,136,1,8,0.53349954\n",
      "DBT-P03129,DBT-S04844,lmlo,538,195,950,183,9,8,0.7783381\n",
      "DBT-P03129,DBT-S04844,lmlo,17,246,1762,228,19,8,0.7632585\n",
      "DBT-P03129,DBT-S04844,lmlo,124,117,1461,85,29,8,0.8056498\n",
      "DBT-P03129,DBT-S04844,rcc,1362,250,1473,296,2,8,0.83502114\n",
      "DBT-P03129,DBT-S04844,rcc,1078,358,1206,336,38,8,0.6916125\n",
      "DBT-P03129,DBT-S04844,rmlo,1465,119,1145,94,6,8,0.6736005\n",
      "DBT-P03129,DBT-S04844,rmlo,1199,202,1761,191,13,8,0.6014103\n",
      "DBT-P03215,DBT-S01707,lcc,268,204,874,203,13,8,0.8060397\n",
      "DBT-P03215,DBT-S01707,lcc,252,209,859,205,17,8,0.74349785\n",
      "DBT-P03215,DBT-S01707,lcc,872,230,1124,208,24,8,0.5749066\n",
      "DBT-P03215,DBT-S01707,lcc,410,240,999,307,29,8,0.45483905\n",
      "DBT-P03215,DBT-S01707,lmlo,382,159,312,115,1,8,0.7178981\n",
      "DBT-P03215,DBT-S01707,lmlo,611,91,16,206,13,8,0.6868072\n",
      "DBT-P03215,DBT-S01707,lmlo,384,164,291,127,17,8,0.79236364\n",
      "DBT-P03215,DBT-S01707,lmlo,399,290,538,256,28,8,0.42868418\n",
      "DBT-P03215,DBT-S01707,lmlo,771,172,1347,163,33,8,0.6026019\n",
      "DBT-P03215,DBT-S01707,lmlo,780,168,1352,160,40,8,0.80547494\n",
      "DBT-P03215,DBT-S01707,lmlo,603,96,0,265,55,8,0.39914528\n",
      "DBT-P03215,DBT-S01707,lmlo,371,189,1055,203,75,8,0.50946015\n",
      "DBT-P03215,DBT-S01707,rcc,1452,92,914,86,-1,8,0.7162999\n",
      "DBT-P03215,DBT-S01707,rcc,907,155,1195,232,13,8,0.7225927\n",
      "DBT-P03215,DBT-S01707,rcc,1598,172,773,150,22,8,0.6932706\n",
      "DBT-P03215,DBT-S01707,rcc,1582,212,738,210,37,8,0.6387965\n",
      "DBT-P03215,DBT-S01707,rcc,1876,123,635,208,63,8,0.83285844\n",
      "DBT-P03215,DBT-S01707,rmlo,979,200,1239,245,1,8,0.6434594\n",
      "DBT-P03215,DBT-S01707,rmlo,1467,281,1458,302,19,8,0.6309502\n",
      "DBT-P03215,DBT-S01707,rmlo,882,189,1176,256,33,8,0.7128609\n",
      "DBT-P03215,DBT-S01707,rmlo,881,217,1185,260,40,8,0.7597368\n",
      "DBT-P03215,DBT-S01707,rmlo,1298,175,177,181,55,8,0.76403415\n",
      "DBT-P03215,DBT-S01707,rmlo,1304,163,195,204,64,8,0.8022161\n",
      "DBT-P03263,DBT-S00316,lcc,439,191,1444,212,19,8,0.7867414\n",
      "DBT-P03263,DBT-S00316,lcc,282,159,1491,170,37,8,0.70727\n"
     ]
    },
    {
     "name": "stdout",
     "output_type": "stream",
     "text": [
      "DBT-P03263,DBT-S00316,lmlo,148,152,663,168,-1,8,0.8606988\n",
      "DBT-P03263,DBT-S00316,lmlo,731,156,1284,202,18,8,0.8939424\n",
      "DBT-P03263,DBT-S00316,lmlo,369,200,867,219,38,8,0.4602824\n",
      "DBT-P03263,DBT-S00316,lmlo,321,221,756,334,47,8,0.46039844\n",
      "DBT-P03263,DBT-S00316,rcc,1571,204,988,177,20,8,0.67445374\n",
      "DBT-P03263,DBT-S00316,rcc,1407,249,1133,228,24,8,0.7802698\n",
      "DBT-P03263,DBT-S00316,rcc,1608,199,942,189,36,8,0.50598603\n",
      "DBT-P03263,DBT-S00316,rcc,1728,271,971,306,42,8,0.7290097\n",
      "DBT-P03263,DBT-S00316,rmlo,1393,194,823,192,10,8,0.7748235\n",
      "DBT-P03263,DBT-S00316,rmlo,1697,111,932,96,17,8,0.77784127\n",
      "DBT-P03263,DBT-S00316,rmlo,1688,116,935,90,24,8,0.8152819\n",
      "DBT-P03343,DBT-S02029,lcc,99,189,1287,274,26,8,0.71156317\n",
      "DBT-P03343,DBT-S02029,lmlo,300,275,1057,296,9,8,0.6962558\n",
      "DBT-P03343,DBT-S02029,lmlo,182,199,1591,233,36,8,0.56789315\n",
      "DBT-P03343,DBT-S02029,lmlo,303,241,939,289,41,8,0.49291742\n",
      "DBT-P03343,DBT-S02029,rmlo,1155,135,1511,157,13,8,0.8356424\n",
      "DBT-P03343,DBT-S02029,rmlo,1617,114,1382,107,21,8,0.74352944\n",
      "DBT-P03343,DBT-S02029,rmlo,1594,189,1341,167,27,8,0.4391686\n",
      "DBT-P03360,DBT-S05259,lcc,25,403,783,251,6,8,0.68087155\n",
      "DBT-P03360,DBT-S05259,lcc,12,335,764,237,17,8,0.60658824\n",
      "DBT-P03360,DBT-S05259,lcc,662,203,1204,210,36,8,0.7404631\n",
      "DBT-P03360,DBT-S05259,lcc,622,302,1300,404,45,8,0.6670396\n",
      "DBT-P03360,DBT-S05259,lmlo,690,317,1455,348,3,8,0.8196553\n",
      "DBT-P03360,DBT-S05259,lmlo,699,306,1458,340,7,8,0.81957394\n",
      "DBT-P03360,DBT-S05259,lmlo,373,152,0,192,19,8,0.66089976\n",
      "DBT-P03360,DBT-S05259,lmlo,442,317,1884,269,28,8,0.70922726\n",
      "DBT-P03360,DBT-S05259,lmlo,497,299,1814,305,46,8,0.7357536\n",
      "DBT-P03390,DBT-S01452,lmlo,495,157,1361,164,9,8,0.6936747\n",
      "DBT-P03390,DBT-S01452,lmlo,1098,280,1060,297,19,8,0.5724926\n",
      "DBT-P03390,DBT-S01452,lmlo,1161,313,1483,246,28,8,0.59134364\n",
      "DBT-P03390,DBT-S01452,lmlo,1166,283,1480,260,34,8,0.6127551\n",
      "DBT-P03390,DBT-S01452,rcc,1082,170,812,134,6,8,0.60676634\n",
      "DBT-P03390,DBT-S01452,rmlo,1179,235,1546,214,2,8,0.766412\n",
      "DBT-P03390,DBT-S01452,rmlo,1052,251,1019,214,12,8,0.73779434\n",
      "DBT-P03390,DBT-S01452,rmlo,525,218,1346,374,19,8,0.50800437\n",
      "DBT-P03390,DBT-S01452,rmlo,890,204,1575,223,28,8,0.6594005\n",
      "DBT-P03390,DBT-S04596,lcc,349,178,1038,123,12,8,0.7610936\n",
      "DBT-P03390,DBT-S04596,lcc,149,182,1384,125,37,8,0.6529207\n",
      "DBT-P03390,DBT-S04596,lmlo,551,195,0,152,23,8,0.74859685\n",
      "DBT-P03390,DBT-S04596,lmlo,554,184,0,161,29,8,0.64630425\n",
      "DBT-P03390,DBT-S04596,lmlo,265,169,313,159,49,8,0.8338583\n",
      "DBT-P03390,DBT-S04596,rcc,1489,289,549,230,11,8,0.7152719\n",
      "DBT-P03390,DBT-S04596,rcc,1655,164,405,161,30,8,0.65483415\n",
      "DBT-P03390,DBT-S04596,rmlo,1448,224,917,164,8,8,0.8123731\n",
      "DBT-P03390,DBT-S04596,rmlo,1449,195,914,160,18,8,0.8585761\n",
      "DBT-P03403,DBT-S04944,lcc,160,176,1277,192,30,8,0.579469\n",
      "DBT-P03403,DBT-S04944,lcc,230,226,1166,223,36,8,0.7590917\n",
      "DBT-P03403,DBT-S04944,lcc,517,151,1654,225,50,8,0.844147\n",
      "DBT-P03403,DBT-S04944,lmlo,48,98,138,100,14,8,0.8570305\n",
      "DBT-P03403,DBT-S04944,lmlo,292,325,1156,252,30,8,0.72626865\n",
      "DBT-P03403,DBT-S04944,lmlo,510,195,1335,234,49,8,0.90391845\n",
      "DBT-P03448,DBT-S05213,lcc,0,159,1436,162,15,8,0.76033497\n",
      "DBT-P03448,DBT-S05213,lmlo,52,196,1230,167,13,8,0.8967394\n",
      "DBT-P03448,DBT-S05213,lmlo,56,188,1221,177,22,8,0.7505132\n",
      "DBT-P03448,DBT-S05213,rmlo,1613,129,1262,99,22,8,0.8690287\n",
      "DBT-P03501,DBT-S00689,lmlo,653,248,1287,275,4,8,0.40757093\n",
      "DBT-P03501,DBT-S00689,lmlo,683,173,1307,242,9,8,0.7366963\n",
      "DBT-P03501,DBT-S00689,lmlo,897,167,1213,201,18,8,0.5871644\n",
      "DBT-P03501,DBT-S00689,lmlo,717,196,785,245,23,8,0.50661874\n",
      "DBT-P03501,DBT-S00689,lmlo,675,248,768,289,36,8,0.7006157\n",
      "DBT-P03501,DBT-S00689,lmlo,1066,157,1245,214,47,8,0.62177783\n",
      "DBT-P03501,DBT-S00689,lmlo,709,205,790,221,59,8,0.6328043\n",
      "DBT-P03501,DBT-S00689,rcc,1170,70,885,66,14,8,0.3839995\n",
      "DBT-P03501,DBT-S00689,rcc,1108,130,1044,113,27,8,0.7086262\n",
      "DBT-P03501,DBT-S00689,rcc,1083,266,1082,191,38,8,0.732368\n",
      "DBT-P03574,DBT-S04799,lcc,367,161,571,182,10,8,0.56013906\n",
      "DBT-P03574,DBT-S04799,lcc,745,200,1005,209,29,8,0.646298\n",
      "DBT-P03574,DBT-S04799,lcc,742,190,687,219,35,8,0.63891864\n",
      "DBT-P03574,DBT-S04799,lcc,738,194,704,225,41,8,0.5365106\n",
      "DBT-P03574,DBT-S04799,lcc,506,193,1786,200,49,8,0.38549876\n",
      "DBT-P03574,DBT-S04799,lmlo,471,120,1007,160,6,8,0.58692974\n",
      "DBT-P03598,DBT-S03655,rcc,1314,214,1584,171,0,8,0.70701796\n",
      "DBT-P03598,DBT-S03655,rcc,1655,106,1678,89,16,8,0.8136721\n",
      "DBT-P03598,DBT-S03655,rcc,1658,103,1679,82,23,8,0.78840554\n",
      "DBT-P03598,DBT-S03655,rcc,1334,314,1348,248,33,8,0.85717696\n",
      "DBT-P03598,DBT-S03655,rcc,1192,316,1210,228,38,8,0.84375066\n",
      "DBT-P03598,DBT-S03655,rcc,1194,276,1222,218,46,8,0.56598693\n",
      "DBT-P03598,DBT-S03655,rcc,1507,277,696,351,59,8,0.6607884\n",
      "DBT-P03598,DBT-S03655,rmlo,1034,220,1289,286,1,8,0.83346015\n",
      "DBT-P03598,DBT-S03655,rmlo,1521,131,1171,101,7,8,0.8154475\n",
      "DBT-P03598,DBT-S03655,rmlo,1277,208,878,187,28,8,0.84180343\n",
      "DBT-P03598,DBT-S03655,rmlo,1090,405,1306,225,37,8,0.83582693\n",
      "DBT-P03598,DBT-S03655,rmlo,1140,343,1297,271,47,8,0.83787614\n",
      "DBT-P03598,DBT-S03655,rmlo,1085,374,1304,225,52,8,0.83758104\n",
      "DBT-P03605,DBT-S02369,lcc,587,294,1066,310,1,8,0.6951791\n",
      "DBT-P03605,DBT-S02369,lcc,514,331,1021,320,12,8,0.7888561\n",
      "DBT-P03605,DBT-S02369,lcc,506,292,1005,298,34,8,0.6247562\n",
      "DBT-P03605,DBT-S02369,lcc,455,300,874,234,45,8,0.6755526\n",
      "DBT-P03605,DBT-S02369,lcc,140,242,821,293,50,8,0.6821535\n",
      "DBT-P03605,DBT-S02369,lcc,451,334,871,247,60,8,0.48172435\n",
      "DBT-P03605,DBT-S02369,lmlo,368,222,893,223,8,8,0.6265205\n",
      "DBT-P03605,DBT-S02369,lmlo,219,259,1071,264,15,8,0.83911777\n",
      "DBT-P03605,DBT-S02369,lmlo,271,198,1107,231,24,8,0.70553786\n",
      "DBT-P03605,DBT-S02369,lmlo,359,252,943,156,29,8,0.6793061\n",
      "DBT-P03605,DBT-S02369,lmlo,535,205,1413,186,50,8,0.3864099\n",
      "DBT-P03605,DBT-S02369,lmlo,556,186,1367,247,65,8,0.6973473\n",
      "DBT-P03605,DBT-S02369,rcc,1131,173,1228,191,7,8,0.66551375\n",
      "DBT-P03605,DBT-S02369,rcc,1253,264,1219,264,11,8,0.7049831\n",
      "DBT-P03605,DBT-S02369,rcc,1645,113,577,97,31,8,0.69869107\n",
      "DBT-P03605,DBT-S02369,rcc,1343,322,1354,233,45,8,0.45092967\n",
      "DBT-P03605,DBT-S02369,rmlo,1352,276,1556,292,6,8,0.7158886\n",
      "DBT-P03605,DBT-S02369,rmlo,1330,272,1557,284,11,8,0.46065938\n",
      "DBT-P03605,DBT-S02369,rmlo,1229,162,1287,273,27,8,0.6312063\n",
      "DBT-P03605,DBT-S02369,rmlo,1262,276,1517,290,37,8,0.70435053\n",
      "DBT-P03605,DBT-S02369,rmlo,1315,280,1149,192,47,8,0.64121044\n",
      "DBT-P03605,DBT-S02369,rmlo,1420,338,1096,234,58,8,0.39847338\n",
      "DBT-P03621,DBT-S03266,lcc,684,243,1249,227,5,8,0.64515334\n",
      "DBT-P03621,DBT-S03266,lcc,374,224,728,221,14,8,0.67666084\n",
      "DBT-P03621,DBT-S03266,lcc,752,265,990,364,32,8,0.7099604\n",
      "DBT-P03621,DBT-S03266,lcc,766,293,1065,301,46,8,0.9069803\n",
      "DBT-P03621,DBT-S03266,lcc,769,287,1056,314,50,8,0.89037937\n",
      "DBT-P03621,DBT-S03266,lmlo,531,352,1296,257,2,8,0.76653624\n",
      "DBT-P03621,DBT-S03266,lmlo,802,312,1131,319,14,8,0.64831\n",
      "DBT-P03621,DBT-S03266,lmlo,844,291,1111,361,23,8,0.69663\n",
      "DBT-P03621,DBT-S03266,lmlo,0,111,189,163,31,8,0.8527789\n",
      "DBT-P03621,DBT-S03266,lmlo,865,305,1397,234,55,8,0.6258265\n",
      "DBT-P03621,DBT-S03266,lmlo,444,615,754,455,73,8,0.5268948\n",
      "DBT-P03621,DBT-S03266,lmlo,700,381,777,747,78,8,0.48316288\n",
      "DBT-P03628,DBT-S03902,lcc,197,280,629,291,3,8,0.67673343\n",
      "DBT-P03628,DBT-S03902,lcc,5,213,774,202,17,8,0.74248415\n",
      "DBT-P03628,DBT-S03902,lcc,122,406,656,256,26,8,0.85578656\n",
      "DBT-P03628,DBT-S03902,lcc,157,344,648,250,31,8,0.8301667\n",
      "DBT-P03628,DBT-S03902,lcc,85,414,621,270,43,8,0.57707816\n",
      "DBT-P03628,DBT-S03902,lcc,138,400,542,707,58,8,0.49804032\n",
      "DBT-P03628,DBT-S03902,lmlo,420,192,922,175,3,8,0.69858915\n",
      "DBT-P03628,DBT-S03902,lmlo,509,304,1084,295,18,8,0.8189395\n",
      "DBT-P03628,DBT-S03902,lmlo,371,111,294,92,34,8,0.72794247\n",
      "DBT-P03628,DBT-S03902,lmlo,514,289,994,411,39,8,0.7633675\n",
      "DBT-P03628,DBT-S03902,lmlo,192,102,1487,90,55,8,0.84215397\n",
      "DBT-P03628,DBT-S03902,lmlo,190,104,1487,93,63,8,0.8509519\n",
      "DBT-P03651,DBT-S04208,lcc,718,222,1068,271,4,8,0.8484403\n",
      "DBT-P03651,DBT-S04208,lcc,500,143,972,104,10,8,0.8291238\n",
      "DBT-P03651,DBT-S04208,lcc,485,202,955,144,17,8,0.8301517\n",
      "DBT-P03651,DBT-S04208,lcc,490,179,955,133,22,8,0.80575925\n",
      "DBT-P03651,DBT-S04208,lcc,98,384,759,374,31,8,0.6956135\n",
      "DBT-P03651,DBT-S04208,lcc,649,295,1062,287,49,8,0.674691\n",
      "DBT-P03651,DBT-S04208,lcc,172,328,725,363,59,8,0.40306008\n",
      "DBT-P03651,DBT-S04208,lmlo,471,201,634,216,0,8,0.70192564\n",
      "DBT-P03651,DBT-S04208,lmlo,270,228,507,184,14,8,0.7379719\n",
      "DBT-P03651,DBT-S04208,lmlo,274,214,509,161,19,8,0.7173808\n",
      "DBT-P03651,DBT-S04208,lmlo,463,289,499,344,30,8,0.48923022\n",
      "DBT-P03651,DBT-S04208,lmlo,512,208,820,219,40,8,0.500529\n",
      "DBT-P03651,DBT-S04208,lmlo,564,172,515,233,51,8,0.5731847\n",
      "DBT-P03651,DBT-S04208,rcc,1239,356,1002,401,50,8,0.54861295\n",
      "DBT-P03651,DBT-S04208,rmlo,1145,294,836,381,11,8,0.7715365\n",
      "DBT-P03651,DBT-S04208,rmlo,1143,246,868,334,19,8,0.7188481\n",
      "DBT-P03651,DBT-S04208,rmlo,1154,286,801,422,32,8,0.6768647\n",
      "DBT-P03651,DBT-S04208,rmlo,1182,303,762,443,38,8,0.43490115\n",
      "DBT-P03651,DBT-S04208,rmlo,1289,233,952,322,50,8,0.46840143\n",
      "DBT-P03689,DBT-S01466,lcc,343,366,1139,322,6,8,0.8400111\n",
      "DBT-P03689,DBT-S01466,lcc,437,282,1192,278,39,8,0.72208804\n",
      "DBT-P03694,DBT-S00795,lcc,448,155,1021,148,0,8,0.7599218\n",
      "DBT-P03694,DBT-S00795,lcc,260,300,429,319,10,8,0.6160564\n",
      "DBT-P03694,DBT-S00795,lcc,183,214,686,193,27,8,0.72960025\n",
      "DBT-P03694,DBT-S00795,lcc,908,288,897,308,40,8,0.7807487\n",
      "DBT-P03694,DBT-S00795,lmlo,607,295,970,293,9,8,0.6632549\n",
      "DBT-P03694,DBT-S00795,lmlo,627,275,1273,292,23,8,0.6853583\n",
      "DBT-P03694,DBT-S00795,lmlo,660,452,722,724,30,8,0.5050695\n",
      "DBT-P03694,DBT-S00795,lmlo,544,292,1616,270,42,8,0.6489765\n",
      "DBT-P03694,DBT-S00795,lmlo,544,276,1613,281,47,8,0.5817071\n",
      "DBT-P03694,DBT-S00795,rcc,628,259,1311,206,0,8,0.7286728\n",
      "DBT-P03694,DBT-S00795,rcc,1713,117,127,118,24,8,0.86946034\n",
      "DBT-P03694,DBT-S00795,rmlo,1218,118,484,112,3,8,0.808616\n",
      "DBT-P03728,DBT-S03978,rmlo,1727,163,565,141,13,8,0.91538507\n",
      "DBT-P03728,DBT-S03978,rmlo,1726,162,565,139,17,8,0.91926736\n",
      "DBT-P03728,DBT-S03978,rmlo,1214,288,1891,302,30,8,0.8688909\n",
      "DBT-P03728,DBT-S03978,rmlo,1227,244,1909,256,46,8,0.8221917\n",
      "DBT-P03728,DBT-S03978,rmlo,1207,298,1876,283,52,8,0.56719035\n",
      "DBT-P03831,DBT-S01348,lcc,809,129,1097,164,3,8,0.86750036\n",
      "DBT-P03831,DBT-S01348,lcc,803,138,1099,159,10,8,0.7957732\n",
      "DBT-P03831,DBT-S01348,lcc,802,128,1123,122,27,8,0.57218176\n",
      "DBT-P03831,DBT-S01348,lmlo,719,177,1402,185,11,8,0.82432544\n",
      "DBT-P03831,DBT-S01348,rcc,1047,167,1009,189,1,8,0.92495036\n",
      "DBT-P03831,DBT-S01348,rcc,1037,195,1014,187,8,8,0.8840948\n",
      "DBT-P03831,DBT-S01348,rmlo,1049,167,1475,165,14,8,0.9017968\n",
      "DBT-P03901,DBT-S00254,lcc,956,264,1248,309,3,8,0.7083166\n",
      "DBT-P03901,DBT-S00254,lcc,948,257,1219,292,7,8,0.65046537\n",
      "DBT-P03901,DBT-S00254,lcc,991,184,1263,211,18,8,0.6448597\n",
      "DBT-P03901,DBT-S00254,lcc,975,290,1278,230,37,8,0.8302159\n",
      "DBT-P03901,DBT-S00254,lcc,939,311,1276,230,46,8,0.8295769\n",
      "DBT-P03901,DBT-S00254,lmlo,718,78,1693,58,10,8,0.7311283\n",
      "DBT-P03901,DBT-S00254,lmlo,1062,174,912,178,29,8,0.7549216\n",
      "DBT-P03901,DBT-S00254,lmlo,1050,191,930,166,37,8,0.6884006\n",
      "DBT-P03901,DBT-S00254,lmlo,1049,198,919,171,49,8,0.757846\n",
      "DBT-P03901,DBT-S00254,lmlo,1061,213,1531,194,54,8,0.8153478\n",
      "DBT-P03901,DBT-S00254,lmlo,724,95,408,119,64,8,0.466565\n",
      "DBT-P03901,DBT-S00254,rcc,1343,215,1097,166,6,8,0.73407555\n",
      "DBT-P03901,DBT-S00254,rcc,815,176,1242,118,48,8,0.66478497\n",
      "DBT-P03901,DBT-S00254,rcc,840,145,1248,109,58,8,0.85773903\n",
      "DBT-P03901,DBT-S00254,rcc,849,129,1260,97,62,8,0.5319269\n",
      "DBT-P03901,DBT-S00254,rmlo,1234,163,264,167,9,8,0.74858284\n",
      "DBT-P03901,DBT-S00254,rmlo,1761,205,17,148,24,8,0.6264986\n",
      "DBT-P03901,DBT-S00254,rmlo,914,324,751,231,46,8,0.5297763\n",
      "DBT-P03901,DBT-S00254,rmlo,690,116,1282,109,53,8,0.80897194\n",
      "DBT-P03901,DBT-S00254,rmlo,922,169,1117,161,57,8,0.77373123\n",
      "DBT-P04008,DBT-S03482,lcc,398,184,1537,188,1,8,0.5861726\n",
      "DBT-P04008,DBT-S03482,lcc,265,181,1512,146,7,8,0.60237783\n",
      "DBT-P04008,DBT-S03482,lcc,135,339,765,348,16,8,0.8011637\n",
      "DBT-P04008,DBT-S03482,lcc,16,247,1187,318,27,8,0.8284762\n",
      "DBT-P04008,DBT-S03482,lmlo,296,342,868,384,8,8,0.7868692\n",
      "DBT-P04008,DBT-S03482,lmlo,302,319,853,409,16,8,0.74386656\n",
      "DBT-P04008,DBT-S03482,lmlo,314,330,916,340,28,8,0.777294\n",
      "DBT-P04008,DBT-S03482,lmlo,276,368,720,706,34,8,0.5159827\n",
      "DBT-P04008,DBT-S03482,lmlo,245,375,704,706,41,8,0.61133873\n",
      "DBT-P04008,DBT-S03482,rcc,1462,135,725,148,17,8,0.5989439\n",
      "DBT-P04008,DBT-S03482,rcc,1686,208,803,256,31,8,0.7576019\n",
      "DBT-P04008,DBT-S03482,rcc,1693,192,846,217,37,8,0.676719\n",
      "DBT-P04008,DBT-S03482,rmlo,1422,209,0,436,-1,8,0.62483674\n",
      "DBT-P04008,DBT-S03482,rmlo,1371,261,113,322,10,8,0.82190174\n",
      "DBT-P04008,DBT-S03482,rmlo,1184,213,1120,238,29,8,0.5901591\n",
      "DBT-P04008,DBT-S03482,rmlo,1421,230,1195,223,34,8,0.6128856\n",
      "DBT-P04008,DBT-S03482,rmlo,1402,236,1203,367,44,8,0.5842535\n",
      "DBT-P04045,DBT-S04897,lcc,288,332,1269,340,9,8,0.70825684\n",
      "DBT-P04045,DBT-S04897,lcc,429,124,1189,114,13,8,0.7489395\n",
      "DBT-P04045,DBT-S04897,lcc,350,285,391,292,47,8,0.7674896\n",
      "DBT-P04045,DBT-S04897,lmlo,499,211,186,225,-2,8,0.6758888\n",
      "DBT-P04045,DBT-S04897,lmlo,651,204,757,231,9,8,0.7712857\n",
      "DBT-P04045,DBT-S04897,lmlo,172,176,0,115,20,8,0.68431544\n",
      "DBT-P04045,DBT-S04897,lmlo,172,168,0,112,25,8,0.844302\n",
      "DBT-P04045,DBT-S04897,lmlo,679,297,1244,338,36,8,0.7277467\n",
      "DBT-P04045,DBT-S04897,lmlo,494,225,1076,392,56,8,0.58055484\n",
      "DBT-P04045,DBT-S04897,rcc,1558,326,319,232,25,8,0.6637561\n",
      "DBT-P04045,DBT-S04897,rcc,1565,317,320,225,29,8,0.59013486\n",
      "DBT-P04045,DBT-S04897,rcc,1289,255,1662,260,34,8,0.65985715\n",
      "DBT-P04045,DBT-S04897,rcc,1437,203,388,198,53,8,0.45306632\n",
      "DBT-P04045,DBT-S04897,rmlo,1108,291,572,293,5,8,0.7839545\n",
      "DBT-P04045,DBT-S04897,rmlo,1598,205,237,189,10,8,0.7531588\n",
      "DBT-P04045,DBT-S04897,rmlo,1160,203,529,228,29,8,0.6936736\n",
      "DBT-P04045,DBT-S04897,rmlo,1053,199,721,264,38,8,0.6639345\n",
      "DBT-P04087,DBT-S04873,lcc,196,253,1460,288,5,8,0.702081\n",
      "DBT-P04087,DBT-S04873,lcc,79,195,764,214,18,8,0.61991656\n",
      "DBT-P04087,DBT-S04873,lcc,717,211,1192,200,38,8,0.73203534\n",
      "DBT-P04087,DBT-S04873,lmlo,124,179,316,136,10,8,0.84575856\n",
      "DBT-P04087,DBT-S04873,rcc,1731,263,1362,307,28,8,0.4594893\n",
      "DBT-P04087,DBT-S04873,rmlo,1414,186,306,155,9,8,0.6460297\n",
      "DBT-P04087,DBT-S04873,rmlo,1831,168,0,105,19,8,0.79540217\n",
      "DBT-P04087,DBT-S04873,rmlo,1579,225,1372,186,43,8,0.73882437\n",
      "DBT-P04097,DBT-S02552,lmlo,673,289,1038,188,18,8,0.7180331\n",
      "DBT-P04097,DBT-S02552,lmlo,700,269,1028,227,25,8,0.70622337\n",
      "DBT-P04097,DBT-S02552,lmlo,682,301,1533,306,37,8,0.6108303\n",
      "DBT-P04097,DBT-S02552,lmlo,672,424,997,774,45,8,0.6151001\n",
      "DBT-P04097,DBT-S02552,lmlo,755,337,1217,276,53,8,0.68044186\n",
      "DBT-P04097,DBT-S02552,lmlo,687,396,1001,805,70,8,0.49665326\n",
      "DBT-P04097,DBT-S02552,lmlo1,159,186,340,171,12,8,0.6536182\n",
      "DBT-P04097,DBT-S02552,lmlo1,559,296,1412,338,17,8,0.62381464\n",
      "DBT-P04097,DBT-S02552,lmlo1,751,241,1073,385,29,8,0.54443306\n",
      "DBT-P04097,DBT-S02552,lmlo1,501,206,814,189,41,8,0.5670868\n",
      "DBT-P04097,DBT-S02552,lmlo1,760,220,1047,340,51,8,0.590318\n",
      "DBT-P04097,DBT-S02552,lmlo1,450,511,1167,577,62,8,0.44712856\n",
      "DBT-P04105,DBT-S02279,lcc,207,218,578,270,22,8,0.8496834\n",
      "DBT-P04105,DBT-S02279,lcc,439,201,446,235,31,8,0.6666585\n",
      "DBT-P04105,DBT-S02279,lcc,446,220,447,210,37,8,0.63980377\n",
      "DBT-P04105,DBT-S02279,lcc,650,254,1019,321,52,8,0.6094958\n",
      "DBT-P04105,DBT-S02279,lcc,652,219,993,350,56,8,0.49000037\n",
      "DBT-P04105,DBT-S02279,lmlo,80,329,699,265,13,8,0.7183259\n",
      "DBT-P04105,DBT-S02279,lmlo,691,350,1424,229,20,8,0.6199994\n",
      "DBT-P04105,DBT-S02279,lmlo,405,225,430,273,28,8,0.6811802\n",
      "DBT-P04105,DBT-S02279,lmlo,648,353,1418,245,36,8,0.701949\n",
      "DBT-P04105,DBT-S02279,lmlo,0,217,1444,236,47,8,0.54432994\n",
      "DBT-P04105,DBT-S02279,lmlo,605,319,1431,244,55,8,0.62564987\n",
      "DBT-P04105,DBT-S02279,lmlo,780,199,1232,188,66,8,0.71500355\n",
      "DBT-P04105,DBT-S02279,rcc,1185,173,1205,172,20,8,0.6736315\n",
      "DBT-P04105,DBT-S02279,rcc,1591,321,515,226,34,8,0.58076197\n",
      "DBT-P04105,DBT-S02279,rcc,1585,341,519,246,39,8,0.49840254\n",
      "DBT-P04105,DBT-S02279,rmlo,1395,264,582,270,16,8,0.5723369\n",
      "DBT-P04105,DBT-S02279,rmlo,1071,200,844,169,33,8,0.8487501\n",
      "DBT-P04105,DBT-S02279,rmlo,1028,169,1421,213,49,8,0.83720917\n",
      "DBT-P04105,DBT-S02279,rmlo,992,273,1373,301,59,8,0.79377216\n",
      "DBT-P04105,DBT-S02279,rmlo,1317,201,1551,198,67,8,0.7241401\n",
      "DBT-P04106,DBT-S00979,lcc,205,242,959,298,2,8,0.3955517\n",
      "DBT-P04106,DBT-S00979,lcc,76,206,753,163,7,8,0.6845117\n",
      "DBT-P04106,DBT-S00979,lcc,83,252,1375,278,17,8,0.75776255\n",
      "DBT-P04106,DBT-S00979,lcc,445,199,1092,257,23,8,0.69102937\n",
      "DBT-P04106,DBT-S00979,lcc,217,196,1253,189,30,8,0.7048111\n",
      "DBT-P04106,DBT-S00979,lcc,72,260,1378,264,42,8,0.7302165\n",
      "DBT-P04106,DBT-S00979,lmlo,147,398,644,280,12,8,0.5497607\n",
      "DBT-P04106,DBT-S00979,lmlo,226,306,634,340,21,8,0.688897\n",
      "DBT-P04106,DBT-S00979,lmlo,218,315,633,315,34,8,0.79521805\n",
      "DBT-P04106,DBT-S00979,rcc,1666,333,1345,321,1,8,0.7818624\n",
      "DBT-P04106,DBT-S00979,rcc,1746,253,1308,346,9,8,0.6255526\n",
      "DBT-P04106,DBT-S00979,rcc,1696,270,1383,286,19,8,0.7146133\n",
      "DBT-P04106,DBT-S00979,rcc,1685,263,1359,295,38,8,0.8157025\n",
      "DBT-P04106,DBT-S00979,rmlo,1601,233,661,384,7,8,0.8086329\n",
      "DBT-P04106,DBT-S00979,rmlo,1616,202,732,205,22,8,0.729265\n",
      "DBT-P04106,DBT-S00979,rmlo,1564,294,691,330,28,8,0.72713965\n",
      "DBT-P04106,DBT-S00979,rmlo,1582,276,691,327,38,8,0.5437408\n",
      "DBT-P04106,DBT-S00979,rmlo,1576,281,702,385,48,8,0.6249712\n",
      "DBT-P04208,DBT-S02579,lcc,393,370,1004,265,25,8,0.491895\n",
      "DBT-P04208,DBT-S02579,lcc,262,412,674,623,31,8,0.6513382\n",
      "DBT-P04208,DBT-S02579,lmlo,0,148,0,249,1,8,0.74050844\n",
      "DBT-P04208,DBT-S02579,lmlo,0,151,0,250,7,8,0.5962172\n",
      "DBT-P04208,DBT-S02579,lmlo,458,263,897,294,26,8,0.5546443\n",
      "DBT-P04208,DBT-S02579,rcc,1166,215,873,347,6,8,0.7685105\n",
      "DBT-P04208,DBT-S02579,rcc,1719,161,1297,181,12,8,0.5972853\n",
      "DBT-P04257,DBT-S02207,lcc,541,187,886,190,9,8,0.7304784\n",
      "DBT-P04257,DBT-S02207,lcc,290,247,840,390,29,8,0.6570972\n",
      "DBT-P04257,DBT-S02207,lmlo,552,321,1128,236,8,8,0.86753535\n",
      "DBT-P04257,DBT-S02207,lmlo,76,196,220,225,19,8,0.8957747\n",
      "DBT-P04257,DBT-S02207,lmlo,71,165,0,177,28,8,0.87042475\n",
      "DBT-P04257,DBT-S02207,lmlo,267,318,1806,290,42,8,0.5378592\n",
      "DBT-P04257,DBT-S02207,lmlo,453,313,1424,262,57,8,0.8354073\n",
      "DBT-P04257,DBT-S02207,rcc,1249,262,802,299,-3,8,0.53955007\n",
      "DBT-P04257,DBT-S02207,rcc,1569,285,1654,263,12,8,0.67009723\n",
      "DBT-P04257,DBT-S02207,rcc,1103,194,957,218,20,8,0.7281643\n",
      "DBT-P04257,DBT-S02207,rcc,1313,130,438,235,40,8,0.70122695\n",
      "DBT-P04257,DBT-S02207,rcc,1451,257,732,344,56,8,0.39276397\n",
      "DBT-P04257,DBT-S02207,rmlo,1738,155,210,230,16,8,0.8823236\n",
      "DBT-P04257,DBT-S02207,rmlo,1737,165,208,241,26,8,0.90960723\n",
      "DBT-P04257,DBT-S02207,rmlo,1740,153,205,251,31,8,0.84067833\n",
      "DBT-P04257,DBT-S02207,rmlo,1732,164,153,336,46,8,0.7248048\n",
      "DBT-P04295,DBT-S00174,lcc,262,320,889,350,11,8,0.43611953\n",
      "DBT-P04295,DBT-S00174,lcc,397,187,1423,133,21,8,0.83720416\n",
      "DBT-P04295,DBT-S00174,lcc,413,166,1420,141,37,8,0.679511\n",
      "DBT-P04295,DBT-S00174,lmlo,367,124,30,189,8,8,0.7578506\n",
      "DBT-P04295,DBT-S00174,lmlo,16,238,659,300,15,8,0.551782\n",
      "DBT-P04295,DBT-S00174,lmlo,294,289,753,285,19,8,0.7040646\n",
      "DBT-P04295,DBT-S00174,lmlo,291,334,1299,253,28,8,0.6455796\n",
      "DBT-P04295,DBT-S00174,rcc,1320,193,1225,252,4,8,0.5123049\n",
      "DBT-P04295,DBT-S00174,rcc,1289,202,1388,235,17,8,0.5514365\n",
      "DBT-P04295,DBT-S00174,rcc,1311,348,1025,412,22,8,0.688217\n",
      "DBT-P04295,DBT-S00174,rcc,1325,384,833,667,31,8,0.35616642\n",
      "DBT-P04295,DBT-S00174,rmlo,1195,200,1431,201,15,8,0.8183112\n",
      "DBT-P04295,DBT-S00174,rmlo,1177,225,1422,208,23,8,0.73455304\n",
      "DBT-P04344,DBT-S04842,lcc,428,226,1487,364,2,8,0.49385142\n",
      "DBT-P04344,DBT-S04842,lcc,55,233,979,315,13,8,0.43202525\n",
      "DBT-P04344,DBT-S04842,lcc,100,129,397,116,29,8,0.8360468\n",
      "DBT-P04344,DBT-S04842,lcc,724,204,1272,216,42,8,0.3788329\n",
      "DBT-P04344,DBT-S04842,lcc,512,260,966,312,52,8,0.67044395\n",
      "DBT-P04344,DBT-S04842,lmlo,378,104,795,115,2,8,0.8916456\n",
      "DBT-P04344,DBT-S04842,lmlo,0,107,469,87,14,8,0.8978592\n",
      "DBT-P04344,DBT-S04842,lmlo,129,408,1167,275,36,8,0.68900245\n",
      "DBT-P04344,DBT-S04842,lmlo,150,347,1088,394,40,8,0.71431875\n",
      "DBT-P04344,DBT-S04842,rcc,1435,248,1480,295,17,8,0.63011926\n",
      "DBT-P04344,DBT-S04842,rcc,1440,252,1468,290,37,8,0.7937321\n",
      "DBT-P04344,DBT-S04842,rmlo,1281,186,1539,175,0,8,0.7068213\n",
      "DBT-P04344,DBT-S04842,rmlo,1109,307,685,231,12,8,0.56529874\n",
      "DBT-P04344,DBT-S04842,rmlo,1422,113,263,76,21,8,0.8230014\n",
      "DBT-P04344,DBT-S04842,rmlo,1059,290,642,294,25,8,0.57017094\n",
      "DBT-P04344,DBT-S04842,rmlo,1130,360,624,769,46,8,0.56548756\n",
      "DBT-P04346,DBT-S01871,rcc,1610,176,980,158,6,8,0.7195842\n",
      "DBT-P04346,DBT-S01871,rcc,1606,204,702,200,15,8,0.7714784\n",
      "DBT-P04346,DBT-S01871,rcc,1719,206,414,203,24,8,0.7925759\n",
      "DBT-P04346,DBT-S01871,rcc,1601,165,970,189,36,8,0.7490791\n",
      "DBT-P04346,DBT-S01871,rcc,1542,172,158,141,43,8,0.3653901\n",
      "DBT-P04346,DBT-S01871,rmlo,1837,161,149,148,10,8,0.81658757\n",
      "DBT-P04346,DBT-S01871,rmlo,599,300,1664,293,25,8,0.5858054\n",
      "DBT-P04346,DBT-S01871,rmlo,637,321,1397,219,32,8,0.7591625\n",
      "DBT-P04380,DBT-S00293,rcc,998,403,851,687,3,8,0.7564966\n",
      "DBT-P04380,DBT-S00293,rcc,992,420,870,691,19,8,0.6838821\n",
      "DBT-P04380,DBT-S00293,rcc,1466,191,1186,225,27,8,0.8152046\n",
      "DBT-P04380,DBT-S00293,rcc,1315,168,743,153,39,8,0.90614575\n",
      "DBT-P04380,DBT-S00293,rmlo,1451,157,136,206,19,8,0.9180027\n",
      "DBT-P04380,DBT-S00293,rmlo,1442,218,1670,269,28,8,0.85649866\n",
      "DBT-P04380,DBT-S00293,rmlo,1179,298,1112,298,46,8,0.56360215\n",
      "DBT-P04380,DBT-S00293,rmlo,1465,198,1694,236,52,8,0.7523673\n",
      "DBT-P04396,DBT-S04935,lcc,156,166,1720,141,-1,8,0.84687495\n",
      "DBT-P04396,DBT-S04935,lcc,628,257,987,331,7,8,0.7165822\n",
      "DBT-P04396,DBT-S04935,lcc,396,242,867,236,18,8,0.8949553\n",
      "DBT-P04396,DBT-S04935,lcc,338,283,847,259,35,8,0.8593208\n",
      "DBT-P04396,DBT-S04935,lcc,366,278,839,280,49,8,0.45014185\n",
      "DBT-P04396,DBT-S04935,lmlo,398,211,1759,206,3,8,0.6901963\n",
      "DBT-P04396,DBT-S04935,lmlo,719,219,1402,204,18,8,0.79475576\n",
      "DBT-P04396,DBT-S04935,lmlo,215,339,1209,232,48,8,0.53148705\n",
      "DBT-P04396,DBT-S04935,lmlo,456,285,1115,290,65,8,0.59385383\n",
      "DBT-P04396,DBT-S04935,rcc,1245,336,1141,202,17,8,0.6898405\n",
      "DBT-P04396,DBT-S04935,rcc,1233,342,1148,191,39,8,0.84773594\n",
      "DBT-P04396,DBT-S04935,rmlo,1126,213,1199,276,18,8,0.83346033\n",
      "DBT-P04396,DBT-S04935,rmlo,1076,226,1419,207,28,8,0.80344784\n",
      "DBT-P04396,DBT-S04935,rmlo,1375,196,1198,173,33,8,0.8139008\n",
      "DBT-P04396,DBT-S04935,rmlo,1364,124,1729,107,41,8,0.6510199\n",
      "DBT-P04396,DBT-S04935,rmlo,1349,211,1126,221,52,8,0.73829186\n",
      "DBT-P04577,DBT-S03166,lcc,52,235,782,209,12,8,0.50965524\n",
      "DBT-P04577,DBT-S03166,lmlo,331,132,1451,226,8,8,0.6295109\n",
      "DBT-P04577,DBT-S03166,lmlo,49,173,1390,147,26,8,0.6418457\n",
      "DBT-P04577,DBT-S03166,lmlo,52,242,1033,220,31,8,0.7417235\n",
      "DBT-P04577,DBT-S03166,rmlo,1421,170,1250,253,8,8,0.378313\n",
      "DBT-P04577,DBT-S03166,rmlo,1658,230,807,282,27,8,0.589385\n",
      "DBT-P04596,DBT-S01843,rcc,1737,189,1001,170,10,8,0.7125958\n",
      "DBT-P04596,DBT-S01843,rcc,1765,185,1011,181,21,8,0.8021068\n",
      "DBT-P04596,DBT-S01843,rcc,1779,118,1008,131,41,8,0.6629351\n",
      "DBT-P04596,DBT-S01843,rmlo,1448,203,1636,206,10,8,0.76107913\n",
      "DBT-P04596,DBT-S01843,rmlo,1714,111,1142,93,28,8,0.6942378\n",
      "DBT-P04596,DBT-S01843,rmlo,1706,124,1135,109,41,8,0.8381293\n",
      "DBT-P04596,DBT-S01843,rmlo,1706,118,1142,97,51,8,0.6858524\n",
      "DBT-P04622,DBT-S05391,lcc,569,206,1147,235,11,8,0.62676513\n",
      "DBT-P04622,DBT-S05391,lcc,69,252,950,324,24,8,0.47275546\n",
      "DBT-P04622,DBT-S05391,lcc,397,118,1266,117,41,8,0.63009053\n",
      "DBT-P04622,DBT-S05391,lmlo,305,261,792,309,3,8,0.6355214\n",
      "DBT-P04622,DBT-S05391,lmlo,316,284,1325,238,21,8,0.7029828\n",
      "DBT-P04622,DBT-S05391,lmlo,726,167,1067,216,40,8,0.68660873\n",
      "DBT-P04622,DBT-S05391,rcc,1764,170,1086,194,7,8,0.59190357\n",
      "DBT-P04622,DBT-S05391,rcc,1609,216,715,173,16,8,0.5594938\n",
      "DBT-P04622,DBT-S05391,rcc,1432,207,1444,242,21,8,0.73861086\n",
      "DBT-P04622,DBT-S05391,rcc,1651,164,1005,134,35,8,0.4018169\n",
      "DBT-P04622,DBT-S05391,rmlo,1401,197,821,236,13,8,0.6588528\n",
      "DBT-P04622,DBT-S05391,rmlo,1456,212,1471,228,45,8,0.411535\n",
      "DBT-P04622,DBT-S05391,rmlo,1462,204,1459,197,53,8,0.48753306\n",
      "DBT-P04695,DBT-S00353,lcc,603,283,1484,297,10,8,0.56567734\n",
      "DBT-P04695,DBT-S00353,lmlo,0,175,0,385,25,8,0.5722156\n",
      "DBT-P04695,DBT-S00353,lmlo,722,265,1445,291,55,8,0.57448876\n",
      "DBT-P04695,DBT-S00353,rmlo,1044,155,689,167,22,8,0.5481405\n",
      "DBT-P04695,DBT-S00353,rmlo,1026,202,697,169,28,8,0.4475925\n",
      "DBT-P04803,DBT-S05121,lcc,914,99,1091,101,26,8,0.76794684\n",
      "DBT-P04803,DBT-S05121,lcc,914,94,1095,92,35,8,0.7089491\n",
      "DBT-P04803,DBT-S05121,lcc,386,236,976,187,43,8,0.7010912\n",
      "DBT-P04803,DBT-S05121,lcc,77,210,1349,155,55,8,0.85562783\n",
      "DBT-P04803,DBT-S05121,lmlo,690,221,1174,218,4,8,0.74876004\n",
      "DBT-P04803,DBT-S05121,lmlo,959,88,1582,87,35,8,0.67160225\n",
      "DBT-P04803,DBT-S05121,lmlo,634,216,1143,180,52,8,0.7855746\n",
      "DBT-P04803,DBT-S05121,rcc,1656,275,837,301,18,8,0.65773094\n",
      "DBT-P04803,DBT-S05121,rcc,1357,338,868,228,27,8,0.74944633\n",
      "DBT-P04803,DBT-S05121,rcc,1348,245,748,336,56,8,0.7381565\n",
      "DBT-P04803,DBT-S05121,rcc,1359,242,736,364,65,8,0.6493045\n",
      "DBT-P04803,DBT-S05121,rmlo,1841,117,20,130,5,8,0.7421352\n",
      "DBT-P04803,DBT-S05121,rmlo,1756,182,206,142,19,8,0.88833964\n",
      "DBT-P04803,DBT-S05121,rmlo,1853,146,1041,243,32,8,0.6909791\n",
      "DBT-P04803,DBT-S05121,rmlo,1258,219,1103,169,55,8,0.66599727\n",
      "DBT-P04803,DBT-S05121,rmlo,1744,255,1323,298,63,8,0.4000865\n",
      "DBT-P04808,DBT-S02383,lcc,512,280,1374,294,18,8,0.7508562\n",
      "DBT-P04808,DBT-S02383,lcc,378,369,1063,357,27,8,0.7753996\n",
      "DBT-P04808,DBT-S02383,lcc,510,228,1084,339,36,8,0.59870005\n",
      "DBT-P04808,DBT-S02383,lmlo,550,180,803,156,0,8,0.6756918\n",
      "DBT-P04808,DBT-S02383,lmlo,409,325,1021,268,10,8,0.3842763\n",
      "DBT-P04808,DBT-S02383,lmlo,118,208,1729,218,26,8,0.7275122\n",
      "DBT-P04808,DBT-S02383,rcc,1216,205,936,202,-3,8,0.63804865\n",
      "DBT-P04808,DBT-S02383,rcc,1034,265,1196,314,2,8,0.7395508\n",
      "DBT-P04808,DBT-S02383,rcc,1379,317,1483,213,8,8,0.58328444\n",
      "DBT-P04808,DBT-S02383,rcc,1457,209,1165,230,25,8,0.52848357\n",
      "DBT-P04808,DBT-S02383,rmlo,1238,307,1076,338,7,8,0.4661715\n",
      "DBT-P04808,DBT-S02383,rmlo,1805,90,57,174,13,8,0.6964688\n",
      "DBT-P04808,DBT-S02383,rmlo,1229,278,910,292,25,8,0.7613843\n",
      "DBT-P04808,DBT-S02383,rmlo,1153,419,863,652,30,8,0.6272268\n",
      "DBT-P04808,DBT-S02383,rmlo,1197,356,791,711,40,8,0.47400656\n",
      "DBT-P04837,DBT-S00883,lcc,617,201,965,184,8,8,0.77810174\n",
      "DBT-P04837,DBT-S00883,lcc,333,188,1190,228,20,8,0.7365095\n",
      "DBT-P04837,DBT-S00883,lcc,325,227,1144,377,32,8,0.77748823\n",
      "DBT-P04837,DBT-S00883,lcc,320,224,1139,395,36,8,0.67907256\n",
      "DBT-P04837,DBT-S00883,lcc,320,201,1150,281,45,8,0.63988614\n",
      "DBT-P04837,DBT-S00883,lmlo,729,206,1431,208,14,8,0.5046903\n",
      "DBT-P04837,DBT-S00883,lmlo,643,283,1104,354,25,8,0.49736178\n",
      "DBT-P04837,DBT-S00883,lmlo,799,211,986,174,34,8,0.7085929\n",
      "DBT-P04837,DBT-S00883,lmlo,594,278,799,279,52,8,0.6921992\n",
      "DBT-P04837,DBT-S00883,rcc,1289,194,1085,205,21,8,0.5306654\n",
      "DBT-P04837,DBT-S00883,rcc,1530,301,717,311,29,8,0.5817505\n",
      "DBT-P04837,DBT-S00883,rcc,1597,119,1171,100,35,8,0.7649295\n",
      "DBT-P04837,DBT-S00883,rcc,1508,194,1000,214,43,8,0.7122301\n",
      "DBT-P04837,DBT-S00883,rcc,1484,218,1018,203,48,8,0.7597736\n",
      "DBT-P04837,DBT-S00883,rmlo,1856,120,892,105,11,8,0.87693644\n",
      "DBT-P04837,DBT-S00883,rmlo,1142,354,747,306,32,8,0.89513123\n",
      "DBT-P04837,DBT-S00883,rmlo,1169,315,749,292,36,8,0.8721179\n",
      "DBT-P04837,DBT-S00883,rmlo,1149,218,848,231,44,8,0.79792017\n",
      "DBT-P04837,DBT-S00883,rmlo,1147,198,844,230,52,8,0.7210069\n",
      "DBT-P04837,DBT-S01467,lcc,222,132,360,115,10,8,0.59140986\n",
      "DBT-P04837,DBT-S01467,lcc,328,174,904,198,16,8,0.67162335\n",
      "DBT-P04837,DBT-S01467,lcc,313,207,874,363,31,8,0.75990856\n",
      "DBT-P04837,DBT-S01467,lcc,314,166,904,171,44,8,0.7937243\n",
      "DBT-P04837,DBT-S01467,lcc,312,201,807,349,51,8,0.4143762\n",
      "DBT-P04837,DBT-S01467,lmlo,1291,223,1620,354,0,8,0.67605084\n",
      "DBT-P04837,DBT-S01467,lmlo,715,196,1248,138,6,8,0.68473196\n",
      "DBT-P04837,DBT-S01467,lmlo,446,193,1073,264,34,8,0.73145425\n",
      "DBT-P04837,DBT-S01467,lmlo,580,239,842,175,42,8,0.73812777\n"
     ]
    },
    {
     "name": "stdout",
     "output_type": "stream",
     "text": [
      "DBT-P04837,DBT-S01467,rcc,1459,426,563,593,22,8,0.73838836\n",
      "DBT-P04837,DBT-S01467,rcc,1579,274,590,316,27,8,0.77961224\n",
      "DBT-P04837,DBT-S01467,rmlo,1828,138,855,112,13,8,0.87154204\n",
      "DBT-P04837,DBT-S01467,rmlo,1139,419,693,224,29,8,0.7776493\n",
      "DBT-P04837,DBT-S01467,rmlo,1097,202,1227,197,42,8,0.7189644\n",
      "DBT-P04837,DBT-S01467,rmlo,1167,371,672,246,55,8,0.7148661\n",
      "DBT-P04837,DBT-S01467,rmlo,1141,366,663,310,62,8,0.56491214\n",
      "DBT-P04884,DBT-S04041,lcc,862,188,1366,189,8,8,0.70145357\n",
      "DBT-P04884,DBT-S04041,lcc,611,201,1402,370,35,8,0.71095204\n",
      "DBT-P05018,DBT-S05472,lcc,678,239,947,238,6,8,0.70654976\n",
      "DBT-P05018,DBT-S05472,lcc,156,255,986,321,14,8,0.6990762\n",
      "DBT-P05018,DBT-S05472,lcc,97,587,531,461,21,8,0.58066\n",
      "DBT-P05018,DBT-S05472,lcc,185,188,928,225,27,8,0.73689437\n",
      "DBT-P05018,DBT-S05472,lcc,95,224,460,203,35,8,0.66189766\n",
      "DBT-P05018,DBT-S05472,lcc,642,238,910,333,53,8,0.70982003\n",
      "DBT-P05018,DBT-S05472,lmlo,568,313,955,322,11,8,0.62985027\n",
      "DBT-P05018,DBT-S05472,lmlo,234,515,660,559,18,8,0.6155853\n",
      "DBT-P05018,DBT-S05472,lmlo,470,299,704,336,40,8,0.6079586\n",
      "DBT-P05018,DBT-S05472,lmlo,279,316,1315,279,50,8,0.67241514\n",
      "DBT-P05018,DBT-S05472,lmlo,279,527,729,534,62,8,0.5347652\n",
      "DBT-P05018,DBT-S05472,rcc,1225,280,1377,286,5,8,0.66012686\n",
      "DBT-P05018,DBT-S05472,rcc,1388,241,1588,198,27,8,0.66833544\n",
      "DBT-P05018,DBT-S05472,rmlo,1180,383,1174,287,-2,8,0.6086968\n",
      "DBT-P05018,DBT-S05472,rmlo,1310,428,612,659,4,8,0.4141727\n",
      "DBT-P05018,DBT-S05472,rmlo,1639,194,99,139,21,8,0.7312527\n",
      "DBT-P05018,DBT-S05472,rmlo,1370,422,789,691,58,8,0.5251637\n",
      "DBT-P05018,DBT-S05472,rmlo,1420,382,698,693,66,8,0.59710896\n",
      "DBT-P05060,DBT-S01152,lcc,726,152,1252,182,2,8,0.39727515\n",
      "DBT-P05060,DBT-S01152,lcc,709,174,1238,195,10,8,0.6883159\n",
      "DBT-P05060,DBT-S01152,lcc,105,194,796,207,28,8,0.895075\n",
      "DBT-P05060,DBT-S01152,lmlo,653,227,969,412,5,8,0.4373238\n",
      "DBT-P05060,DBT-S01152,lmlo,194,303,664,237,22,8,0.72870576\n",
      "DBT-P05060,DBT-S01152,rcc,1355,206,1111,214,2,8,0.7412972\n",
      "DBT-P05060,DBT-S01152,rcc,1378,281,1056,299,11,8,0.64581573\n",
      "DBT-P05060,DBT-S01152,rmlo,1398,263,261,258,-3,8,0.4664912\n",
      "DBT-P05060,DBT-S01152,rmlo,1414,209,297,220,5,8,0.73129016\n",
      "DBT-P05060,DBT-S01152,rmlo,1128,242,1060,327,21,8,0.6612556\n",
      "Total Prediction  1400\n"
     ]
    }
   ],
   "source": [
    "# [STAR] For writing the csv file for submission\n",
    "\n",
    "# 0.25 -> output3 -> score_2 0.648, score_3 0.68\n",
    "# 0.50 -> output2 -> score_2 0.646, score_3 0.65\n",
    "\n",
    "from scipy.signal import find_peaks\n",
    "\n",
    "total_prediction = [\"PatientID,StudyUID,View,X,Width,Y,Height,Z,Depth,Score\"]\n",
    "prediction_lines = []\n",
    "\n",
    "df        = pd.read_csv('/home/drilnvm/DBTex/BCS-DBT-file-paths-validation.csv')\n",
    "#df        = pd.read_csv('/home/drilnvm/DBTex/BCS-DBT-file-paths-train.csv')\n",
    "#df        = pd.read_csv('/home/drilnvm/DBTex/BCS-DBT-boxes-train.csv')\n",
    "print('Total validation length ', len(df))\n",
    "\n",
    "#shuffle_index = np.load('shuffle_array.npy')\n",
    "#shuffle_index = shuffle_index[150:]\n",
    "\n",
    "\n",
    "#for case_index in range(175, 224):\n",
    "for case_index in range(len(df)):\n",
    "    #if case_index not in shuffle_index:\n",
    "    #    continue\n",
    "    \n",
    "    box_series  = df.iloc[case_index]\n",
    "    PatientID   = box_series[\"PatientID\"]\n",
    "    StudyUID    = box_series[\"StudyUID\"]\n",
    "    view_name   = box_series[\"View\"]\n",
    "    \n",
    "    \n",
    "    #img        = np.load('/media/drilnvm/ubuntudata2/DBTEx_numpy1/val_vol_'+str(case_index)+'.npy')\n",
    "    all_target = pickle.load(open('/media/drilnvm/ubuntudata2/DBTEx_results25_validation/'+PatientID+'_'+StudyUID+'_'+view_name+'_target_'+str(case_index)+'.data', 'rb'))\n",
    "    all_scores = pickle.load(open('/media/drilnvm/ubuntudata2/DBTEx_results25_validation/'+PatientID+'_'+StudyUID+'_'+view_name+'_score_'+str(case_index)+'.data', 'rb'))\n",
    "    \n",
    "    #print(PatientID, StudyUID, view_name,  len(all_target), len(all_scores))\n",
    "    \n",
    "    d_init_x = -1\n",
    "    d_init_y = -1\n",
    "    d_init_z = -1\n",
    "    all1     = []\n",
    "    \n",
    "    for i, t in enumerate(all_scores):\n",
    "        if len(t) > 0 and t[0] > 0.35:\n",
    "            if d_init_x == -1:\n",
    "                d_init_x = all_target[i][0][0]\n",
    "                d_init_y = all_target[i][0][1]\n",
    "                d_init_z = i\n",
    "        \n",
    "            temp_dist = np.min([100, np.linalg.norm([all_target[i][0][0]-d_init_x, all_target[i][0][1]-d_init_y, i-d_init_z])])\n",
    "            all1.append(temp_dist)\n",
    "            \n",
    "            # update previous coordinate\n",
    "            d_init_x = all_target[i][0][0]\n",
    "            d_init_y = all_target[i][0][1]\n",
    "            d_init_z = i\n",
    "        else:\n",
    "            all1.append(100)\n",
    "    \n",
    "    all1     = 100-np.array(all1)\n",
    "    peaks, _ = find_peaks(all1, distance=4, width=3)\n",
    "    #peaks, _ = find_peaks(all1, distance=4, plateau_size=4)\n",
    "    \n",
    "    for p in peaks:\n",
    "        temp = all_target[p][0]*4\n",
    "        #result_string = [PatientID, StudyUID, view_name, int(temp[0]), int(temp[2]- temp[0]), int(temp[1]), int(temp[3]-temp[1]), p, 8, all_scores[p][0]]\n",
    "        # for getting the subtracted center\n",
    "        result_string = [PatientID, StudyUID, view_name, int(temp[0]), int(temp[2]- temp[0]), int(temp[1]), int(temp[3]-temp[1]), p-4, 8, all_scores[p][0]]\n",
    "        result_string = [str(x) for x in result_string]\n",
    "        result_string = \",\".join(result_string)\n",
    "        \n",
    "        #print(PatientID, StudyUID, view_name, temp, all_scores[p][0])\n",
    "        #print(PatientID, StudyUID, view_name, int(temp[0]), int(temp[2]- temp[0]), int(temp[1]), int(temp[3]-temp[1]))\n",
    "        print(result_string)\n",
    "        total_prediction.append(result_string)\n",
    "        #print(temp)\n",
    "        #print(temp[0], temp[2]-temp[0], temp[1], temp[3]-temp[1], all_scores[p][0])\n",
    "        #print(all_score[p])\n",
    "    #total_prediction.append(len(peaks))\n",
    "    #print(len(peaks), len(all1), len(all_target), len(all_scores))\n",
    "    \n",
    "\n",
    "print('Total Prediction ', len(total_prediction))\n",
    "total_prediction = \"\\n\".join(total_prediction)\n",
    "\n",
    "text_file = open(\"DBTEx_results25_validation_submit3_35_3_subtract.csv\", \"w\")\n",
    "text_file.write(total_prediction)\n",
    "text_file.close()\n",
    "\n",
    "\n",
    "#plt.plot(all1)\n",
    "#plt.plot(peaks, all1[peaks], 'x')"
   ]
  },
  {
   "cell_type": "code",
   "execution_count": 52,
   "metadata": {
    "code_folding": [
     0,
     20,
     22,
     48,
     57,
     63
    ]
   },
   "outputs": [
    {
     "name": "stdout",
     "output_type": "stream",
     "text": [
      "Total counter is  188\n",
      "{'sensitivity_at_2_fps_all': 0.6938775510204082, 'sensitivity_at_1_fps_positive': 0.5306122448979592, 'sensitivity_at_2_fps_positive': 0.6454810495626822, 'sensitivity_at_3_fps_positive': 0.6938775510204082, 'sensitivity_at_4_fps_positive': 0.6938775510204082, 'mean_sensitivity_positive': 0.6409620991253644}\n"
     ]
    }
   ],
   "source": [
    "# [STAR] For getting the AUC on the Train remaining split\n",
    "\n",
    "from typing import AnyStr, BinaryIO, Dict, List, NamedTuple, Optional, Union\n",
    "\n",
    "labels_fp = \"/home/drilnvm/DBTex//BCS-DBT-labels-train.csv\"\n",
    "boxes_fp  = \"/home/drilnvm/DBTex/BCS-DBT-boxes-train.csv\"\n",
    "#predictions_fp = \"/media/drilnvm/ubuntudata2/train_val.csv\"\n",
    "predictions_fp = \"model_result5.csv\"\n",
    "\n",
    "df_labels = pd.read_csv(labels_fp)\n",
    "df_boxes  = pd.read_csv(boxes_fp, dtype={\"Slice\": float})\n",
    "df_pred   = pd.read_csv(predictions_fp, dtype={\"Score\": float})\n",
    "\n",
    "#df_boxes = df_boxes.iloc[shuffle_index].tail(74)\n",
    "df_boxes = df_boxes.loc[175:224]\n",
    "\n",
    "df_labels = df_labels.reset_index().set_index([\"StudyUID\", \"View\"]).sort_index()\n",
    "df_boxes  = df_boxes.reset_index().set_index([\"StudyUID\", \"View\"]).sort_index()\n",
    "df_pred   = df_pred.reset_index().set_index([\"StudyUID\", \"View\"]).sort_index()\n",
    "\n",
    "def _is_tp(\n",
    "    box_pred: NamedTuple, box_true: NamedTuple, slice_offset: int, min_dist: int = 100\n",
    ") -> bool:\n",
    "    pred_y = box_pred.Y + box_pred.Height / 2\n",
    "    pred_x = box_pred.X + box_pred.Width / 2\n",
    "    #pred_z = box_pred.Z + box_pred.Depth / 2\n",
    "    pred_z = box_pred.Z #+ 4 / 2\n",
    "    \n",
    "    true_y = box_true.Y + box_true.Height / 2\n",
    "    true_x = box_true.X + box_true.Width / 2\n",
    "    true_z = box_true.Slice\n",
    "    \n",
    "    # 2D distance between true and predicted center points\n",
    "    dist = np.linalg.norm((pred_x - true_x, pred_y - true_y))\n",
    "    # compute radius based on true box size\n",
    "    dist_threshold = np.sqrt(box_true.Width ** 2 + box_true.Height ** 2) / 2.0\n",
    "    dist_threshold = max(dist_threshold, min_dist)\n",
    "    slice_diff     = np.abs(pred_z - true_z)\n",
    "    \n",
    "    # TP if predicted center within radius and slice within slice offset\n",
    "    tp_flag = dist <= dist_threshold and slice_diff <=  slice_offset\n",
    "    \n",
    "    #print(pred_x, pred_y, pred_z)\n",
    "    #print(true_x, true_y, true_z)\n",
    "    #print(dist, dist_threshold, slice_diff, slice_offset, tp_flag)\n",
    "    return tp_flag\n",
    "\n",
    "\n",
    "def _distance(box_pred: NamedTuple, box_true: NamedTuple) -> float:\n",
    "    pred_y = box_pred.Y + box_pred.Height / 2\n",
    "    pred_x = box_pred.X + box_pred.Width / 2\n",
    "    pred_z = box_pred.Z #+ box_pred.Depth / 2\n",
    "    true_y = box_true.Y + box_true.Height / 2\n",
    "    true_x = box_true.X + box_true.Width / 2\n",
    "    true_z = box_true.Slice\n",
    "    return np.linalg.norm((pred_x - true_x, pred_y - true_y, pred_z - true_z))\n",
    "\n",
    "def _froc(\n",
    "    df_pred: pd.DataFrame,\n",
    "    thresholds: List[float],\n",
    "    n_volumes: int,\n",
    "    n_boxes: int,\n",
    "    evaluation_fps: tuple,\n",
    ") -> List[float]:\n",
    "    tpr = []\n",
    "    fps = []\n",
    "    for th in sorted(thresholds, reverse=True):\n",
    "        df_th = df_pred.loc[df_pred[\"Score\"] >= th]\n",
    "        df_th_unique_tp = df_th.reset_index().drop_duplicates(\n",
    "            subset=[\"StudyUID\", \"View\", \"TP\", \"GTID\"]\n",
    "        )\n",
    "        n_tps_th = float(sum(df_th_unique_tp[\"TP\"]))\n",
    "        tpr_th = n_tps_th / n_boxes\n",
    "        n_fps_th = float(len(df_th[df_th[\"TP\"] == 0]))\n",
    "        fps_th = n_fps_th / n_volumes\n",
    "        tpr.append(tpr_th)\n",
    "        fps.append(fps_th)\n",
    "        if fps_th > max(evaluation_fps):\n",
    "            break\n",
    "    return [np.interp(x, fps, tpr) for x in evaluation_fps]\n",
    "\n",
    "df_pred[\"TP\"]   = 0\n",
    "df_pred[\"GTID\"] = -1\n",
    "\n",
    "thresholds = [df_pred[\"Score\"].max() + 1.0]\n",
    "\n",
    "counter = 0\n",
    "# find true positive predictions and assign detected ground truth box ID\n",
    "for box_pred in df_pred.itertuples():\n",
    "    #print(df_boxes.index)\n",
    "    #print('---------------------')\n",
    "    if box_pred.Index not in df_boxes.index:\n",
    "        continue\n",
    "    #box_pred.Depth = 4\n",
    "    counter = counter+1\n",
    "    #print(box_pred.Index)\n",
    "    #print('TP found ', box_pred)\n",
    "    df_boxes_view     = df_boxes.loc[[box_pred.Index]]\n",
    "    #print(\"df_boxes.loc \", df_boxes.loc[[box_pred.Index], \"Slice\"].iloc[0])\n",
    "    view_slice_offset = df_boxes.loc[[box_pred.Index], \"Slice\"].iloc[0] / 4\n",
    "    \n",
    "    #print(df_boxes_view)\n",
    "    #print(box_pred)\n",
    "    #print('---------------------------')\n",
    "    tp_boxes = [\n",
    "        b\n",
    "        for b in df_boxes_view.itertuples()\n",
    "        if _is_tp(box_pred, b, slice_offset=view_slice_offset)\n",
    "    ]\n",
    "    if len(tp_boxes) > 1:\n",
    "        # find the nearest GT box\n",
    "        tp_distances = [_distance(box_pred, b) for b in tp_boxes]\n",
    "        tp_boxes     = [tp_boxes[np.argmin(tp_distances)]]\n",
    "    if len(tp_boxes) > 0:\n",
    "        tp_i = tp_boxes[0].index\n",
    "        df_pred.loc[df_pred[\"index\"] == box_pred.index, (\"TP\", \"GTID\")] = (1, tp_i)\n",
    "        thresholds.append(box_pred.Score)\n",
    "#print(thresholds)\n",
    "\n",
    "print('Total counter is ', counter)\n",
    "thresholds.append(df_pred[\"Score\"].min() - 1.0)\n",
    "\n",
    "# compute sensitivity at 2 FPs/volume on all cases\n",
    "evaluation_fps_all = (2.0,)\n",
    "tpr_all = _froc(\n",
    "    df_pred=df_pred,\n",
    "    thresholds=thresholds,\n",
    "    n_volumes=len(df_labels),\n",
    "    n_boxes=len(df_boxes),\n",
    "    evaluation_fps=evaluation_fps_all,\n",
    ")\n",
    "result = {f\"sensitivity_at_2_fps_all\": tpr_all[0]}\n",
    "\n",
    "# compute mean sensitivity at 1, 2, 3, 4 FPs/volume on positive cases\n",
    "df_pred = df_pred[df_pred.index.isin(df_boxes.index)]\n",
    "df_labels = df_labels[df_labels.index.isin(df_boxes.index)]\n",
    "evaluation_fps_positive = (1.0, 2.0, 3.0, 4.0)\n",
    "tpr_positive = _froc(\n",
    "    df_pred=df_pred,\n",
    "    thresholds=thresholds,\n",
    "    n_volumes=len(df_labels),\n",
    "    n_boxes=len(df_boxes),\n",
    "    evaluation_fps=evaluation_fps_positive,\n",
    ")\n",
    "\n",
    "result.update(\n",
    "    dict(\n",
    "        (f\"sensitivity_at_{int(x)}_fps_positive\", y)\n",
    "        for x, y in zip(evaluation_fps_positive, tpr_positive)\n",
    "    )\n",
    ")\n",
    "result.update({\"mean_sensitivity_positive\": np.mean(tpr_positive)})\n",
    "\n",
    "print(result)"
   ]
  },
  {
   "cell_type": "code",
   "execution_count": null,
   "metadata": {
    "code_folding": [
     0
    ],
    "scrolled": true
   },
   "outputs": [],
   "source": [
    "# [TEMPORARY] For storing the files as numpy\n",
    "import os\n",
    "\n",
    "df        = pd.read_csv('/home/drilnvm/DBTex/BCS-DBT-file-paths-validation.csv')\n",
    "for i in tqdm(range(97, len(df))):\n",
    "    basepath    = '/home/drilnvm/DBTex/'\n",
    "    box_series  = df.iloc[i]\n",
    "    PatientID   = box_series[\"PatientID\"]\n",
    "    StudyUID    = box_series[\"StudyUID\"]\n",
    "    view        = box_series[\"View\"]\n",
    "        \n",
    "    image_path = os.path.join(basepath, box_series[\"descriptive_path\"])\n",
    "    #vol        = dcmread_image(fp=image_path, view=view)\n",
    "    #print(vol.shape)\n",
    "    #newtrainx  = np.zeros([len(vol), 1, 3000, 2000], 'float16')\n",
    "    #for i in range(len(vol)):\n",
    "    #    newtrainx[i, 0, :vol[i].shape[0], :vol[i].shape[1]] = vol[i]\n",
    "    \n",
    "    #newtrain1 = []\n",
    "    #for i in range(len(vol)):\n",
    "    #    img          = newtrainx[i, 0].astype('float32')/60000.0\n",
    "    #    img[img > 1] = 1\n",
    "    #    img = ndimage.interpolation.zoom(img, 0.25).astype('float16')\n",
    "    #    newtrain1.append(img)\n",
    "    \n",
    "    numpy_path = '/media/drilnvm/ubuntudata2/DBTEx_numpy/vol_'+str(i)+'.npy'\n",
    "    #vol1       = np.load(numpy_path)\n",
    "    #newtrain1 = np.array(newtrain1)\n",
    "    print(PatientID, StudyUID, view)#, vol1.shape)\n",
    "    #np.save('/media/drilnvm/ubuntudata2/DBTEx_numpy/'+PatientID+'_'+StudyUID+'_'+view+'.npy', newtrain1)\n",
    "    temp_path = '/media/drilnvm/ubuntudata2/DBTEx_numpy/'+PatientID+'_'+StudyUID+'_'+view+'.npy'\n",
    "    os.rename(numpy_path, temp_path)\n",
    "    #print(i, vol.shape, vol1.shape)\n",
    "        \n",
    "#print(len(df))\n",
    "#df.iloc[0]"
   ]
  },
  {
   "cell_type": "code",
   "execution_count": null,
   "metadata": {
    "code_folding": [
     0
    ]
   },
   "outputs": [],
   "source": [
    "# [STAR] Temporary\n",
    "\n",
    "def collate_fn(batch):\n",
    "    return tuple(zip(*batch))\n",
    "\n",
    "device = torch.device('cuda') if torch.cuda.is_available() else torch.device('cpu')\n",
    "\n",
    "num_classes = 2\n",
    "model       = torchvision.models.detection.fasterrcnn_resnet50_fpn(pretrained=True)\n",
    "\n",
    "# get number of input features for the classifier\n",
    "in_features = model.roi_heads.box_predictor.cls_score.in_features\n",
    "\n",
    "# replace the pre-trained head with a new one\n",
    "model.roi_heads.box_predictor = FastRCNNPredictor(in_features, num_classes)\n",
    "model.to(device)\n",
    "model.load_state_dict(torch.load('fasterrcnn_resnet50_dbt14.pth'))\n",
    "model.eval()\n",
    "\n",
    "\n",
    "trainx = []\n",
    "trainy = []\n",
    "boximage  = []\n",
    "coordx =  []\n",
    "coordy = []\n",
    "\n",
    "width_arr = []\n",
    "height_arr = []\n",
    "\n",
    "PatientID_arr = []\n",
    "StudyUID_arr = []\n",
    "\n",
    "#device = torch.device(\"cpu\")\n",
    "#model.to(device)\n",
    "\n",
    "\n",
    "import pickle\n",
    "\n",
    "#shuffle_index = np.load('shuffle_array.npy')\n",
    "#shuffle_index = shuffle_index[150:]\n",
    "\n",
    "    \n",
    "for i in tqdm(range(150, 151)):\n",
    "    #if i in shuffle_index:\n",
    "    print('Processing ', i)\n",
    "    #else:\n",
    "    #    continue\n",
    "    #box_series  = df.iloc[i]\n",
    "    #view        = box_series[\"View\"]\n",
    "    #slice_index = box_series[\"Slice\"]\n",
    "    #image_path  = os.path.join(basepath, box_series[\"descriptive_path\"])\n",
    "    #print(box_series)\n",
    "    \n",
    "    valid_dataset     = DBTDatasetValidationTrain(val_index=i)\n",
    "    #valid_dataset     = DBTDataset(train_set=0)\n",
    "    valid_data_loader = DataLoader(\n",
    "        valid_dataset,\n",
    "        batch_size=1,\n",
    "        shuffle=False,\n",
    "        num_workers=1, \n",
    "        collate_fn=collate_fn\n",
    "    )\n",
    "        \n",
    "    all_target = []\n",
    "    all_scores = []\n",
    "    all_images = []\n",
    "    \n",
    "    for images, targets, image_ids in valid_data_loader:\n",
    "        all_images.append(images[0][0].astype('float16'))\n",
    "        new_images  = []\n",
    "        for img in images:\n",
    "            new_images.append(torch.Tensor(img).to(device))\n",
    "\n",
    "        images    = new_images\n",
    "        targets   = [{k: v.to(device) for k, v in t.items()} for t in targets]\n",
    "        loss_dict = model(images)\n",
    "        #print(loss_dict)\n",
    "        \n",
    "        all_scores.append(loss_dict[0]['scores'].data.cpu().numpy())\n",
    "        all_target.append(loss_dict[0]['boxes'].data.cpu().numpy())\n",
    "    \n",
    "    #with open('/media/drilnvm/ubuntudata2/DBTEx_numpy2/val_score_'+str(i)+'.data', 'wb') as filehandle:\n",
    "    #    # store the data as binary data stream\n",
    "    #    pickle.dump(all_scores, filehandle)\n",
    "        \n",
    "    #with open('/media/drilnvm/ubuntudata2/DBTEx_numpy2/val_target_'+str(i)+'.data', 'wb') as filehandle:\n",
    "    #    # store the data as binary data stream\n",
    "    #    pickle.dump(all_target, filehandle)\n",
    "    \n",
    "    #np.save('/media/drilnvm/ubuntudata2/DBTEx_numpy2/val_vol_'+str(i), np.array(all_images).astype('float16'))"
   ]
  },
  {
   "cell_type": "code",
   "execution_count": 288,
   "metadata": {},
   "outputs": [
    {
     "data": {
      "text/plain": [
       "[<matplotlib.lines.Line2D at 0x7fb0dd109cd0>]"
      ]
     },
     "execution_count": 288,
     "metadata": {},
     "output_type": "execute_result"
    },
    {
     "data": {
      "image/png": "[encoded data removed]",
      "text/plain": [
       "<Figure size 432x288 with 1 Axes>"
      ]
     },
     "metadata": {
      "needs_background": "light"
     },
     "output_type": "display_data"
    }
   ],
   "source": [
    "#plt.plot(all_scores)\n",
    "a1 = []\n",
    "for k in all_scores:\n",
    "    if len(k) > 0:\n",
    "        a1.append(k[0])\n",
    "    else:\n",
    "        a1.append(0)\n",
    "plt.plot(a1)"
   ]
  },
  {
   "cell_type": "code",
   "execution_count": 172,
   "metadata": {
    "code_folding": [
     0
    ]
   },
   "outputs": [
    {
     "name": "stdout",
     "output_type": "stream",
     "text": [
      "READING NEW FILE >>    <<\n",
      "Total size of dataset  224\n"
     ]
    }
   ],
   "source": [
    "# [STAR] For checking the predictions slice wise for the Validation set\n",
    "\n",
    "def collate_fn(batch):\n",
    "    return tuple(zip(*batch))\n",
    "\n",
    "device = torch.device('cuda') if torch.cuda.is_available() else torch.device('cpu')\n",
    "\n",
    "num_classes = 2\n",
    "model       = torchvision.models.detection.fasterrcnn_resnet50_fpn(pretrained=True)\n",
    "\n",
    "# get number of input features for the classifier\n",
    "in_features = model.roi_heads.box_predictor.cls_score.in_features\n",
    "\n",
    "# replace the pre-trained head with a new one\n",
    "model.roi_heads.box_predictor = FastRCNNPredictor(in_features, num_classes)\n",
    "model.to(device)\n",
    "model.load_state_dict(torch.load('fasterrcnn_resnet50_dbt26.pth'))\n",
    "model.eval()\n",
    "\n",
    "#valid_dataset     = DBTDatasetValidationTrain(val_index=i)\n",
    "valid_dataset     = DBTDataset(train_set=0)\n",
    "valid_data_loader = DataLoader(\n",
    "    valid_dataset,\n",
    "    batch_size=1,\n",
    "    shuffle=False,\n",
    "    num_workers=1, \n",
    "    collate_fn=collate_fn\n",
    ")\n",
    "        \n",
    "all_target = []\n",
    "all_scores = []\n",
    "all_images = []\n",
    "\n",
    "for images, targets, image_ids in valid_data_loader:\n",
    "    all_images.append(images[0][0].astype('float16'))\n",
    "    new_images  = []\n",
    "    for img in images:\n",
    "        new_images.append(torch.Tensor(img).to(device))\n",
    "\n",
    "    images    = new_images\n",
    "    targets   = [{k: v.to(device) for k, v in t.items()} for t in targets]\n",
    "    loss_dict = model(images)\n",
    "    #print(loss_dict)\n",
    "\n",
    "    all_scores.append(loss_dict[0]['scores'].data.cpu().numpy())\n",
    "    all_target.append(loss_dict[0]['boxes'].data.cpu().numpy())\n",
    "        "
   ]
  },
  {
   "cell_type": "code",
   "execution_count": 290,
   "metadata": {
    "code_folding": [],
    "scrolled": true
   },
   "outputs": [
    {
     "name": "stdout",
     "output_type": "stream",
     "text": [
      "Total validation length  224\n",
      "DBT-P03073,DBT-S04591,lcc,331,417,1040,458,23,8,0.8215158\n",
      "DBT-P03073,DBT-S04591,lcc,271,525,1055,486,28,8,0.959689\n",
      "DBT-P03073,DBT-S04591,lcc,308,383,1096,415,33,8,0.98365015\n",
      "DBT-P03073,DBT-S04591,lmlo,250,125,627,92,22,8,0.97866577\n",
      "DBT-P03073,DBT-S04591,lmlo,508,433,951,423,30,8,0.9719445\n",
      "DBT-P03073,DBT-S04591,lmlo,413,567,927,480,40,8,0.9296037\n",
      "DBT-P03073,DBT-S04591,lmlo,651,259,1017,263,56,8,0.9705861\n",
      "DBT-P03073,DBT-S04591,lmlo,250,125,627,92,22,8,0.97866577\n",
      "DBT-P03073,DBT-S04591,lmlo,508,433,951,423,30,8,0.9719445\n",
      "DBT-P03073,DBT-S04591,lmlo,413,567,927,480,40,8,0.9296037\n",
      "DBT-P03073,DBT-S04591,lmlo,651,259,1017,263,56,8,0.9705861\n",
      "DBT-P03085,DBT-S00863,lcc,196,251,1354,207,27,8,0.98632765\n",
      "DBT-P03085,DBT-S00863,lcc,12,122,635,106,39,8,0.9690986\n",
      "DBT-P03085,DBT-S00863,lmlo,378,102,429,103,20,8,0.9636856\n",
      "DBT-P03085,DBT-S00863,lmlo,167,246,1155,211,35,8,0.98484904\n",
      "DBT-P03085,DBT-S00863,lmlo,174,223,1167,191,39,8,0.981952\n",
      "DBT-P03085,DBT-S00863,lmlo,168,247,1157,213,43,8,0.97582656\n",
      "DBT-P03085,DBT-S00863,lmlo,324,124,901,127,56,8,0.95561975\n",
      "DBT-P03176,DBT-S03730,lcc,61,124,1226,98,3,8,0.5322444\n",
      "DBT-P03176,DBT-S03730,lmlo,69,194,1670,113,13,8,0.7179682\n",
      "DBT-P03203,DBT-S04862,lcc,0,298,302,356,3,8,0.8044188\n",
      "DBT-P03203,DBT-S04862,lcc,18,462,579,716,39,8,0.936784\n",
      "DBT-P03203,DBT-S04862,lcc,27,440,610,708,58,8,0.84535456\n",
      "DBT-P03203,DBT-S04862,lcc,11,502,614,690,67,8,0.9341584\n",
      "DBT-P03212,DBT-S02198,lcc,0,126,307,234,20,8,0.8136543\n",
      "DBT-P03212,DBT-S02198,lmlo,212,261,696,217,11,8,0.99088573\n",
      "DBT-P03212,DBT-S02198,lmlo,199,279,697,196,18,8,0.9584556\n",
      "DBT-P03218,DBT-S04050,lcc,67,124,2019,77,14,8,0.8777449\n",
      "DBT-P03218,DBT-S04050,lcc,338,217,1652,154,45,8,0.9794175\n",
      "DBT-P03218,DBT-S04050,lmlo,381,165,211,219,16,8,0.9093296\n",
      "DBT-P03218,DBT-S04050,lmlo,384,164,219,201,25,8,0.91225976\n",
      "DBT-P03218,DBT-S04050,lmlo,372,176,224,189,37,8,0.9729782\n",
      "DBT-P03218,DBT-S04050,lmlo,446,201,1279,187,57,8,0.97217417\n",
      "DBT-P03218,DBT-S04050,lmlo,381,165,211,219,16,8,0.9093296\n",
      "DBT-P03218,DBT-S04050,lmlo,384,164,219,201,25,8,0.91225976\n",
      "DBT-P03218,DBT-S04050,lmlo,372,176,224,189,37,8,0.9729782\n",
      "DBT-P03218,DBT-S04050,lmlo,446,201,1279,187,57,8,0.97217417\n",
      "DBT-P03222,DBT-S00931,rcc,1468,149,1273,187,9,8,0.9342838\n",
      "DBT-P03222,DBT-S00931,rcc,1836,163,547,403,29,8,0.7372337\n",
      "DBT-P03222,DBT-S00931,rmlo,1648,285,622,290,13,8,0.9667536\n",
      "DBT-P03292,DBT-S03262,lcc,298,459,588,460,11,8,0.50249577\n",
      "DBT-P03292,DBT-S03262,lcc,98,865,645,415,33,8,0.87775934\n",
      "DBT-P03292,DBT-S03262,lcc,663,202,1225,157,40,8,0.9613299\n",
      "DBT-P03292,DBT-S03262,lcc,631,235,1187,216,51,8,0.97418267\n",
      "DBT-P03292,DBT-S03262,lcc,195,622,622,431,56,8,0.89833707\n",
      "DBT-P03292,DBT-S03262,lcc,221,521,638,377,65,8,0.89907163\n",
      "DBT-P03292,DBT-S03262,lmlo,835,333,1086,460,8,8,0.7541944\n",
      "DBT-P03292,DBT-S03262,lmlo,130,211,33,179,24,8,0.952192\n",
      "DBT-P03292,DBT-S03262,lmlo,829,339,1073,435,38,8,0.96645844\n",
      "DBT-P03292,DBT-S03262,lmlo,523,187,1353,187,53,8,0.9108872\n",
      "DBT-P03423,DBT-S05305,rmlo,1423,407,172,432,9,8,0.9723226\n",
      "DBT-P03423,DBT-S05305,rmlo,1431,392,176,420,15,8,0.97326446\n",
      "DBT-P03423,DBT-S05305,rmlo,1436,390,154,472,35,8,0.9836242\n",
      "DBT-P03423,DBT-S05305,rmlo1,1249,343,0,204,8,8,0.7009786\n",
      "DBT-P03423,DBT-S05305,rmlo1,1259,331,0,201,15,8,0.92757744\n",
      "DBT-P03539,DBT-S03755,lcc,379,288,1192,321,45,8,0.9482053\n",
      "DBT-P03539,DBT-S03755,lcc,408,239,1186,357,52,8,0.9328538\n",
      "DBT-P03539,DBT-S03755,lcc,378,372,1181,378,70,8,0.6329904\n",
      "DBT-P03539,DBT-S03755,lmlo,398,121,140,98,9,8,0.9787049\n",
      "DBT-P03539,DBT-S03755,lmlo,406,111,123,132,23,8,0.9570943\n",
      "DBT-P03539,DBT-S03755,lmlo,547,310,1006,372,47,8,0.9796966\n",
      "DBT-P03539,DBT-S03755,lmlo,547,335,977,434,63,8,0.9343202\n",
      "DBT-P03658,DBT-S05241,rcc,1008,172,1510,127,41,8,0.93952286\n",
      "DBT-P03658,DBT-S05241,rmlo,1274,89,1701,67,5,8,0.8754175\n",
      "DBT-P03658,DBT-S05241,rmlo,1771,207,110,159,31,8,0.9775074\n",
      "DBT-P03677,DBT-S00709,lcc,254,346,1033,484,36,8,0.8076495\n",
      "DBT-P03677,DBT-S00709,lmlo,0,78,239,185,16,8,0.74703664\n",
      "DBT-P03677,DBT-S00709,lmlo,0,124,86,121,22,8,0.95568603\n",
      "DBT-P03677,DBT-S00709,lmlo,363,343,1117,450,32,8,0.94373614\n",
      "DBT-P03677,DBT-S00709,rcc,1688,207,1593,251,27,8,0.8753258\n",
      "DBT-P03677,DBT-S00709,rcc,1579,259,1378,362,46,8,0.69968617\n",
      "DBT-P03677,DBT-S00709,rcc,1688,207,1593,251,27,8,0.8753258\n",
      "DBT-P03677,DBT-S00709,rcc,1579,259,1378,362,46,8,0.69968617\n",
      "DBT-P03677,DBT-S00709,rmlo,1422,317,1085,380,52,8,0.83457243\n",
      "DBT-P03677,DBT-S00709,rmlo,1422,317,1085,380,52,8,0.83457243\n",
      "DBT-P03748,DBT-S02094,lcc,0,172,660,662,30,8,0.71295303\n",
      "DBT-P03748,DBT-S02094,lcc,123,167,1676,179,44,8,0.99314415\n",
      "DBT-P03748,DBT-S02094,lcc,0,170,616,574,65,8,0.7565916\n",
      "DBT-P03748,DBT-S02094,lmlo,34,164,967,170,42,8,0.98813754\n",
      "DBT-P03748,DBT-S02094,lmlo,38,157,964,181,60,8,0.922624\n",
      "DBT-P03816,DBT-S03888,rcc,1425,160,729,100,5,8,0.84760094\n",
      "DBT-P03816,DBT-S03888,rcc,1414,175,729,105,12,8,0.8654549\n",
      "DBT-P03816,DBT-S03888,rcc,1041,555,648,508,34,8,0.9512798\n",
      "DBT-P03816,DBT-S03888,rmlo,1634,153,229,153,12,8,0.93168026\n",
      "DBT-P03816,DBT-S03888,rmlo,1610,194,237,160,24,8,0.9575044\n",
      "DBT-P03816,DBT-S03888,rmlo,1599,184,234,137,33,8,0.9371315\n",
      "DBT-P03816,DBT-S03888,rmlo,1374,126,905,90,53,8,0.97412974\n",
      "DBT-P03816,DBT-S03888,rmlo,1375,121,906,87,63,8,0.96146035\n",
      "DBT-P03915,DBT-S05004,lcc,110,186,751,86,18,8,0.9183547\n",
      "DBT-P03915,DBT-S05004,lcc,179,112,1627,89,36,8,0.9776889\n",
      "DBT-P03915,DBT-S05004,lcc,151,93,1326,162,51,8,0.9555404\n",
      "DBT-P03915,DBT-S05004,lcc,155,94,1305,190,58,8,0.89952475\n",
      "DBT-P03978,DBT-S00442,rcc,1504,417,629,460,18,8,0.7350186\n",
      "DBT-P03978,DBT-S00442,rcc,1527,377,655,305,24,8,0.7618176\n",
      "DBT-P03978,DBT-S00442,rmlo,1351,331,828,231,12,8,0.8338209\n",
      "DBT-P03978,DBT-S00442,rmlo,1356,295,817,254,19,8,0.5461801\n",
      "DBT-P04026,DBT-S01650,rcc1,1702,99,1099,74,2,8,0.6626852\n",
      "DBT-P04026,DBT-S01650,rcc1,1605,227,1051,195,18,8,0.9664515\n",
      "DBT-P04026,DBT-S01650,rcc1,1577,86,1484,65,53,8,0.8216202\n",
      "DBT-P04026,DBT-S01650,rmlo,1506,231,1370,185,23,8,0.9521063\n",
      "DBT-P04090,DBT-S01718,rcc,1505,127,726,85,17,8,0.96896297\n",
      "DBT-P04090,DBT-S01718,rcc,1340,174,1325,166,57,8,0.9799396\n",
      "DBT-P04090,DBT-S01718,rcc,1348,158,1330,152,67,8,0.9754199\n",
      "DBT-P04090,DBT-S01718,rcc,1355,154,1335,157,76,8,0.9151572\n",
      "DBT-P04090,DBT-S01718,rmlo,1418,108,1103,83,12,8,0.97226846\n",
      "DBT-P04090,DBT-S01718,rmlo,1199,164,807,155,57,8,0.9865667\n",
      "DBT-P04090,DBT-S01718,rmlo,1201,161,809,151,61,8,0.9828933\n",
      "DBT-P04116,DBT-S03961,rmlo,1401,533,1708,453,14,8,0.932216\n",
      "DBT-P04116,DBT-S03961,rmlo,1431,499,1758,369,32,8,0.88752854\n",
      "DBT-P04326,DBT-S03750,lcc,5,210,958,614,12,8,0.7804348\n",
      "DBT-P04326,DBT-S03750,lcc,13,219,714,364,51,8,0.5753854\n",
      "DBT-P04326,DBT-S03750,lmlo,0,228,1557,466,13,8,0.926187\n",
      "DBT-P04326,DBT-S03750,lmlo,0,238,1527,524,32,8,0.9195195\n",
      "DBT-P04372,DBT-S04281,lcc,932,129,1283,111,32,8,0.973742\n",
      "DBT-P04372,DBT-S04281,lcc,121,77,591,74,45,8,0.9517006\n",
      "DBT-P04372,DBT-S04281,lmlo,842,83,594,70,29,8,0.94299054\n",
      "DBT-P04429,DBT-S00568,lcc,270,330,850,327,34,8,0.92710674\n",
      "DBT-P04429,DBT-S00568,lcc,242,321,899,273,52,8,0.9780151\n",
      "DBT-P04429,DBT-S00568,lcc,244,310,896,282,56,8,0.9792159\n",
      "Total Prediction  119\n"
     ]
    }
   ],
   "source": [
    "# 10 epoch  42\n",
    "# 20 epochs 57\n",
    "# 30 epochs 59, 57, 55\n",
    "# 40 epochs 53"
   ]
  },
  {
   "cell_type": "code",
   "execution_count": 163,
   "metadata": {},
   "outputs": [
    {
     "name": "stdout",
     "output_type": "stream",
     "text": [
      "[42]\n"
     ]
    },
    {
     "data": {
      "image/png": "[encoded data removed]",
      "text/plain": [
       "<Figure size 432x288 with 1 Axes>"
      ]
     },
     "metadata": {
      "needs_background": "light"
     },
     "output_type": "display_data"
    }
   ],
   "source": [
    "all1 = []\n",
    "for t in all_scores:\n",
    "    if len(t) > 0 and t[0] > 0.5:\n",
    "        #print(t[0])\n",
    "        all1.append(t[0])\n",
    "    else:\n",
    "        all1.append(0)\n",
    "\n",
    "\n",
    "d_init_x = -1\n",
    "d_init_y = -1\n",
    "d_init_z = -1\n",
    "all1     = []\n",
    "\n",
    "for i, t in enumerate(all_scores):\n",
    "    if len(t) > 0 and t[0] > 0.5:\n",
    "        if d_init_x == -1:\n",
    "            d_init_x = all_target[i][0][0]\n",
    "            d_init_y = all_target[i][0][1]\n",
    "            d_init_z = i\n",
    "        \n",
    "        temp_dist = np.min([100, np.linalg.norm([all_target[i][0][0]-d_init_x, all_target[i][0][1]-d_init_y, i-d_init_z])])\n",
    "        all1.append(temp_dist)\n",
    "        d_init_x = all_target[i][0][0]\n",
    "        d_init_y = all_target[i][0][1]\n",
    "        d_init_z = i\n",
    "    else:\n",
    "        all1.append(100)\n",
    "all1 = 100-np.array(all1)\n",
    "\n",
    "from scipy.signal import find_peaks\n",
    "\n",
    "peaks, _ = find_peaks(all1, distance=8, width=4)\n",
    "#print(a.shape)\n",
    "plt.plot(all1)\n",
    "plt.plot(peaks, all1[peaks], 'x')\n",
    "print(peaks)"
   ]
  },
  {
   "cell_type": "code",
   "execution_count": 32,
   "metadata": {},
   "outputs": [
    {
     "name": "stdout",
     "output_type": "stream",
     "text": [
      "slice location  0 49\n",
      "[[  2.   273.25  44.   388.75]]\n"
     ]
    },
    {
     "data": {
      "image/png": "[encoded data removed]",
      "text/plain": [
       "<Figure size 432x288 with 1 Axes>"
      ]
     },
     "metadata": {
      "needs_background": "light"
     },
     "output_type": "display_data"
    }
   ],
   "source": [
    "case_index   = 0#random.randint(0, len(valid_dataset))\n",
    "img, all_target, _    = valid_dataset[case_index]\n",
    "img          = img.astype('float32')\n",
    "#img        = a.astype('float32')\n",
    "#case_index = 0#random.randint(0, img.shape[0]-1)\n",
    "#case_index = peaks[0]-5\n",
    "plt.imshow(img[0], cmap='gray')\n",
    "ax   = plt.gca()\n",
    "case_index  = 0\n",
    "print('slice location ', case_index, len(valid_dataset))\n",
    "\n",
    "if 1:#len(all_target[case_index]) > 0 and all_scores[case_index][0] > 0.2:\n",
    "    temp  = all_target['boxes'].data.cpu().numpy()#[case_index]\n",
    "    print(temp)\n",
    "    #print(case_index, all_scores[case_index])\n",
    "    index = 0\n",
    "    #rect  = patches.Rectangle((temp[0], temp[1]), temp[2]-temp[0], temp[3]-temp[1], linewidth=1, edgecolor='cyan', fill = False)\n",
    "    rect  = patches.Rectangle((temp[index][0], temp[index][1]), temp[index][2]-temp[index][0], temp[index][3]-temp[index][1], linewidth=1, edgecolor='cyan', fill = False)\n",
    "    ax.add_patch(rect)\n",
    "else:\n",
    "    print('Not found 8')\n",
    "\n",
    "plt.show()\n",
    "case_index = case_index+1"
   ]
  },
  {
   "cell_type": "code",
   "execution_count": null,
   "metadata": {
    "code_folding": [
     0
    ]
   },
   "outputs": [],
   "source": [
    "# Validation Iteration #10 loss: 0.26083502173423767\n",
    "# Validation Iteration #20 loss: 0.12475015223026276\n",
    "# Validation Iteration #30 loss: 0.2311360090970993\n",
    "# Validation Iteration #40 loss: 0.07870643585920334\n",
    "# Validation Iteration #50 loss: 0.12904797494411469\n",
    "# 0.17835015669465065\n",
    "\n",
    "# Validation Iteration #10 loss: 0.16890683770179749\n",
    "# Validation Iteration #20 loss: 0.12697485089302063\n",
    "# Validation Iteration #30 loss: 0.202874094247818\n",
    "# Validation Iteration #40 loss: 0.1275915801525116\n",
    "# Validation Iteration #50 loss: 0.16607160866260529\n",
    "# 0.17254152543842793\n",
    "\n",
    "# Validation Iteration #10 loss: 0.14864173531532288\n",
    "# Validation Iteration #20 loss: 0.13806253671646118\n",
    "# Validation Iteration #30 loss: 0.13079851865768433\n",
    "# Validation Iteration #40 loss: 0.09259304404258728\n",
    "# Validation Iteration #50 loss: 0.13366109132766724\n",
    "# 0.1608045955002308\n",
    "\n",
    "# Validation Iteration #10 loss: 0.2190426141023636\n",
    "# Validation Iteration #20 loss: 0.10993507504463196\n",
    "# Validation Iteration #30 loss: 0.08774184435606003\n",
    "# Validation Iteration #40 loss: 0.14777813851833344\n",
    "# Validation Iteration #50 loss: 0.08807449787855148\n",
    "# 0.1679838129878044\n",
    "\n",
    "# fasterrcnn_resnet50_dbt22.pth\n",
    "# Validation Iteration #10 loss: 0.12817245721817017\n",
    "# Validation Iteration #20 loss: 0.3029731810092926\n",
    "# Validation Iteration #30 loss: 0.06146375834941864\n",
    "# Validation Iteration #40 loss: 0.08439958095550537\n",
    "# Validation Iteration #50 loss: 0.059381939470767975\n",
    "# 0.10177689090371132"
   ]
  },
  {
   "cell_type": "code",
   "execution_count": null,
   "metadata": {
    "code_folding": [
     0
    ],
    "scrolled": true
   },
   "outputs": [],
   "source": [
    "# [STAR] For doing inference of the model\n",
    "\n",
    "all_target = []\n",
    "all_scores = []\n",
    "\n",
    "#device = torch.device(\"cpu\")\n",
    "#model.to(device)\n",
    "model.load_state_dict(torch.load('fasterrcnn_resnet50_dbt22.pth'))\n",
    "model.eval()\n",
    "\n",
    "\n",
    "\n",
    "for images, targets, image_ids in valid_data_loader:\n",
    "    new_images  = []\n",
    "    for img in images:\n",
    "        new_images.append(torch.Tensor(img).to(device))\n",
    "\n",
    "    images    = new_images\n",
    "    targets   = [{k: v.to(device) for k, v in t.items()} for t in targets]\n",
    "    loss_dict = model(images)\n",
    "    print(loss_dict)\n",
    "    \n",
    "    #print(loss_dict[0]['boxes'].data.cpu().numpy())\n",
    "    \n",
    "    all_scores.append(loss_dict[0]['scores'].data.cpu().numpy())\n",
    "    all_target.append(loss_dict[0]['boxes'].data.cpu().numpy())"
   ]
  },
  {
   "cell_type": "code",
   "execution_count": 257,
   "metadata": {
    "code_folding": [
     0
    ]
   },
   "outputs": [
    {
     "name": "stdout",
     "output_type": "stream",
     "text": [
      "{'boxes': tensor([ 271, 1057,  805, 1490])}\n",
      "Ground Truth  [ 271 1057  805 1490] 35\n",
      "Prediction  [[ 75.71501  283.47375  163.6579   378.79547 ]\n",
      " [  4.241309 263.63602   50.325714 373.7304  ]\n",
      " [101.045715 287.99136  151.38869  370.79993 ]\n",
      " [ 61.922516 258.55548  184.89377  395.74182 ]]\n",
      "Scores  [0.97706246 0.4141349  0.13911489 0.10131314]\n",
      "Prediction  [[ 75.71501  283.47375  163.6579   378.79547 ]\n",
      " [  4.241309 263.63602   50.325714 373.7304  ]\n",
      " [101.045715 287.99136  151.38869  370.79993 ]\n",
      " [ 61.922516 258.55548  184.89377  395.74182 ]]\n",
      "[ 67 264 201 372]\n"
     ]
    },
    {
     "data": {
      "image/png": "[encoded data removed]",
      "text/plain": [
       "<Figure size 432x288 with 1 Axes>"
      ]
     },
     "metadata": {
      "needs_background": "light"
     },
     "output_type": "display_data"
    }
   ],
   "source": [
    "# [STAR] Code to compare the ground truth and predicted mask\n",
    "\n",
    "\n",
    "case_index   = 35#random.randint(0, len(valid_dataset)-1)\n",
    "images, b, c = valid_dataset[case_index]\n",
    "print(b)\n",
    "\n",
    "print('Ground Truth ', b['boxes'].data.cpu().numpy(), case_index)\n",
    "print('Prediction ', all_target[case_index])\n",
    "print('Scores ', all_scores[case_index])\n",
    "\n",
    "plt.imshow(images[0], cmap='gray')\n",
    "ax   = plt.gca()\n",
    "\n",
    "# if(len(all_target1[case_index]) > 0):\n",
    "#     #print(all_target1[index])\n",
    "#     #print(all_scores1[index])\n",
    "    \n",
    "#     temp  = all_target1[case_index]\n",
    "#     index = 0\n",
    "#     rect  = patches.Rectangle((temp[index][0], temp[index][1]), temp[index][2]-temp[index][0], temp[index][3]-temp[index][1], linewidth=1, edgecolor='yellow', fill = False)\n",
    "#     ax.add_patch(rect)\n",
    "# else:\n",
    "#     print('Not found 9')\n",
    "\n",
    "if(len(all_target[case_index]) > 0):\n",
    "    #print(all_target[index])\n",
    "    #print(all_scores[index])\n",
    "    \n",
    "    temp  = all_target[case_index]\n",
    "    print('Prediction ', temp)\n",
    "    index = 0\n",
    "    rect  = patches.Rectangle((temp[index][0], temp[index][1]), temp[index][2]-temp[index][0], temp[index][3]-temp[index][1], linewidth=1, edgecolor='cyan', fill = False)\n",
    "    ax.add_patch(rect)\n",
    "else:\n",
    "    print('Not found 8')\n",
    "\n",
    "temp  = b['boxes'].data.cpu().numpy()//4#all_target[index]\n",
    "index = 0\n",
    "print(temp)\n",
    "rect  = patches.Rectangle((temp[0], temp[1]), temp[2]-temp[0], temp[3]-temp[1], linewidth=1, edgecolor='red', fill = False)\n",
    "ax.add_patch(rect)\n",
    "\n",
    "\n",
    "#rect = patches.Rectangle((0, 0), 500, 100, linewidth=2, edgecolor='cyan', fill = False)\n",
    "\n",
    "plt.show()\n",
    "case_index = case_index+1"
   ]
  },
  {
   "cell_type": "code",
   "execution_count": null,
   "metadata": {},
   "outputs": [],
   "source": [
    "# Error cases for fasterrcnn_resnet50_dbt15.pth\n",
    "Ground Truth  [[ 10.75 304.    51.25 333.75]] 5\n",
    "Ground Truth  [[ 19.   416.25  63.5  447.75]] 6\n",
    "Ground Truth  [[188.25 309.5  216.5  369.75]] 7\n",
    "Ground Truth  [[193.25 389.5  228.   453.5 ]] 8\n",
    "Ground Truth  [[463.75 150.5  498.5  222.75]] 14\n",
    "Ground Truth  [[170.   335.25 195.5  362.25]] 23\n",
    "Ground Truth  [[345.25 414.5  472.25 536.5 ]] 30\n",
    "Ground Truth  [[451.5  333.75 496.   382.  ]] 34\n",
    "Ground Truth  [[398.   166.75 468.25 222.  ]] 37\n",
    "Ground Truth  [[317.75 332.75 388.75 394.  ]] 44\n",
    "Ground Truth  [[  2.   273.25  44.   388.75]] 45\n",
    "Ground Truth  [[5.0000e-01 3.9825e+02 6.1500e+01 5.1375e+02]] 46\n",
    "\n",
    "# Error cases for fasterrcnn_resnet50_dbt14.pth\n",
    "Ground Truth  [[188.25 309.5  216.5  369.75]] 7\n",
    "Ground Truth  [[193.25 389.5  228.   453.5 ]] 8\n",
    "Ground Truth  [[317.75 332.75 388.75 394.  ]] 44\n",
    "Ground Truth  [[299.25 347.75 324.25 387.  ]] 48"
   ]
  },
  {
   "cell_type": "code",
   "execution_count": 9,
   "metadata": {},
   "outputs": [
    {
     "name": "stdout",
     "output_type": "stream",
     "text": [
      "(80, 1200, 3000)\n"
     ]
    }
   ],
   "source": [
    "dbtvol = np.fromfile('/media/drilnvm/ubuntudata2/TEST-DBT-RECONS/04140608-LE-L-CC_3000x1200x80.4_0.0005_-0.2_1_15.raw', dtype=np.float32)\n",
    "dbtvol = np.reshape(dbtvol, [80, 1200, 3000])\n",
    "print(dbtvol.shape)"
   ]
  },
  {
   "cell_type": "code",
   "execution_count": null,
   "metadata": {},
   "outputs": [],
   "source": []
  }
 ],
 "metadata": {
  "kernelspec": {
   "display_name": "Python 3",
   "language": "python",
   "name": "python3"
  },
  "language_info": {
   "codemirror_mode": {
    "name": "ipython",
    "version": 3
   },
   "file_extension": ".py",
   "mimetype": "text/x-python",
   "name": "python",
   "nbconvert_exporter": "python",
   "pygments_lexer": "ipython3",
   "version": "3.8.5"
  }
 },
 "nbformat": 4,
 "nbformat_minor": 2
}
