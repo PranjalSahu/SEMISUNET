{
 "cells": [
  {
   "cell_type": "code",
   "execution_count": 5,
   "metadata": {
    "code_folding": []
   },
   "outputs": [],
   "source": [
    "# [STAR] All the Imports\n",
    "\n",
    "from __future__ import print_function, division\n",
    "\n",
    "import torch\n",
    "import torch.nn as nn\n",
    "import torch.optim as optim\n",
    "from torch.optim import lr_scheduler\n",
    "import numpy as np\n",
    "import torchvision\n",
    "from torchvision import datasets, models, transforms\n",
    "import matplotlib.pyplot as plt\n",
    "import time\n",
    "import os\n",
    "import copy\n",
    "\n",
    "from pathlib import Path\n",
    "import ast\n",
    "import pandas as pd\n",
    "from PIL import Image\n",
    "\n",
    "import albumentations as A\n",
    "from albumentations.pytorch.transforms import ToTensorV2\n",
    "\n",
    "import torch\n",
    "import torchvision\n",
    "\n",
    "from torchvision.models.detection.faster_rcnn import FastRCNNPredictor\n",
    "from torchvision.models.detection import FasterRCNN\n",
    "from torchvision.models.detection.rpn import AnchorGenerator\n",
    "\n",
    "from torch.utils.data import DataLoader, Dataset\n",
    "from torch.utils.data.sampler import SequentialSampler\n",
    "\n",
    "from matplotlib import pyplot as plt\n",
    "import re\n",
    "import cv2\n",
    "\n",
    "import random\n",
    "\n",
    "import csv\n",
    "from scipy import ndimage, misc\n",
    "from tqdm import tqdm"
   ]
  },
  {
   "cell_type": "code",
   "execution_count": 7,
   "metadata": {
    "code_folding": []
   },
   "outputs": [],
   "source": [
    "# [OLD] Code for classification\n",
    "\n",
    "# Data augmentation and normalization for training\n",
    "# Just normalization for validation\n",
    "data_transforms = {\n",
    "    'train': transforms.Compose([\n",
    "        transforms.RandomResizedCrop(224),\n",
    "        transforms.RandomHorizontalFlip(),\n",
    "        transforms.ToTensor(),\n",
    "        transforms.Normalize([0.485, 0.456, 0.406], [0.229, 0.224, 0.225])\n",
    "    ]),\n",
    "    'val': transforms.Compose([\n",
    "        transforms.Resize(256),\n",
    "        transforms.CenterCrop(224),\n",
    "        transforms.ToTensor(),\n",
    "        transforms.Normalize([0.485, 0.456, 0.406], [0.229, 0.224, 0.225])\n",
    "    ]),\n",
    "}\n",
    "\n",
    "data_dir = '/media/yu-hao/WindowsData/hymenoptera_data'\n",
    "image_datasets = {x: datasets.ImageFolder(os.path.join(data_dir, x),\n",
    "                                          data_transforms[x])\n",
    "                  for x in ['train', 'val']}\n",
    "dataloaders = {x: torch.utils.data.DataLoader(image_datasets[x], batch_size=4,\n",
    "                                             shuffle=True, num_workers=4)\n",
    "              for x in ['train', 'val']}\n",
    "dataset_sizes = {x: len(image_datasets[x]) for x in ['train', 'val']}\n",
    "class_names = image_datasets['train'].classes\n",
    "\n",
    "device = torch.device(\"cuda:0\" if torch.cuda.is_available() else \"cpu\")\n",
    "\n",
    "\n",
    "model_ft = models.resnet18(pretrained=True)\n",
    "num_ftrs = model_ft.fc.in_features\n",
    "# Here the size of each output sample is set to 2.\n",
    "# Alternatively, it can be generalized to nn.Linear(num_ftrs, len(class_names)).\n",
    "model_ft.fc = nn.Linear(num_ftrs, 2)\n",
    "\n",
    "model_ft = model_ft.to(device)\n",
    "\n",
    "criterion = nn.CrossEntropyLoss()\n",
    "\n",
    "# Observe that all parameters are being optimized\n",
    "optimizer_ft = optim.SGD(model_ft.parameters(), lr=0.001, momentum=0.9)\n",
    "\n",
    "# Decay LR by a factor of 0.1 every 7 epochs\n",
    "exp_lr_scheduler = lr_scheduler.StepLR(optimizer_ft, step_size=7, gamma=0.1)\n",
    "\n",
    "model_ft = train_model(model_ft, criterion, optimizer_ft, exp_lr_scheduler,\n",
    "                       num_epochs=25)\n",
    "\n",
    "visualize_model(model_ft)"
   ]
  },
  {
   "cell_type": "code",
   "execution_count": 19,
   "metadata": {},
   "outputs": [
    {
     "name": "stdout",
     "output_type": "stream",
     "text": [
      "torch.Size([1, 26]) torch.Size([1, 50])\n"
     ]
    }
   ],
   "source": [
    "class Identity(nn.Module):\n",
    "    def __init__(self):\n",
    "        super(Identity, self).__init__()\n",
    "        \n",
    "    def forward(self, x):\n",
    "        return x\n",
    "\n",
    "class MyAttrCateModel(nn.Module):\n",
    "    def __init__(self):\n",
    "        super().__init__()\n",
    "        self.model    = models.resnet18(pretrained=True)\n",
    "        self.model.fc = Identity()\n",
    "        \n",
    "        self.attr_layer = nn.Linear(512, 26)\n",
    "        self.cate_layer = nn.Linear(512, 50)\n",
    "    \n",
    "    def forward(self, x):\n",
    "        out1     = self.model(x)\n",
    "        attr_out = self.attr_layer(out1)\n",
    "        cate_out = self.cate_layer(out1)\n",
    "        return attr_out, cate_out\n",
    "\n",
    "attr_cate_model = MyAttrCateModel()\n",
    "x      = torch.randn(1, 3, 224, 224)\n",
    "output = attr_cate_model(x)\n",
    "print(output[0].shape, output[1].shape)\n",
    "\n",
    "#print(model)\n",
    "#model_ft = model_ft.to(device)"
   ]
  },
  {
   "cell_type": "code",
   "execution_count": 13,
   "metadata": {
    "code_folding": [
     0
    ]
   },
   "outputs": [],
   "source": [
    "def visualize_model(model, num_images=6):\n",
    "    was_training = model.training\n",
    "    model.eval()\n",
    "    images_so_far = 0\n",
    "    fig = plt.figure()\n",
    "\n",
    "    with torch.no_grad():\n",
    "        for i, (inputs, labels) in enumerate(dataloaders['val']):\n",
    "            inputs = inputs.to(device)\n",
    "            labels = labels.to(device)\n",
    "\n",
    "            outputs = model(inputs)\n",
    "            _, preds = torch.max(outputs, 1)\n",
    "\n",
    "            for j in range(inputs.size()[0]):\n",
    "                images_so_far += 1\n",
    "                ax = plt.subplot(num_images//2, 2, images_so_far)\n",
    "                ax.axis('off')\n",
    "                ax.set_title('predicted: {}'.format(class_names[preds[j]]))\n",
    "                imshow(inputs.cpu().data[j])\n",
    "\n",
    "                if images_so_far == num_images:\n",
    "                    model.train(mode=was_training)\n",
    "                    return\n",
    "        model.train(mode=was_training)"
   ]
  },
  {
   "cell_type": "code",
   "execution_count": 6,
   "metadata": {
    "code_folding": [
     0,
     4,
     37,
     72,
     128,
     221,
     227,
     232
    ]
   },
   "outputs": [],
   "source": [
    "# [STAR] All the functions for reading the data for Wheat Dataset\n",
    "\n",
    "from scipy import ndimage\n",
    "\n",
    "def expand_bbox(x):\n",
    "    r = np.array(re.findall(\"([0-9]+[.]?[0-9]*)\", x))\n",
    "    r1 = [float(x) for x in r]\n",
    "    r = r1\n",
    "    if len(r) == 0:\n",
    "        r = [-1, -1, -1, -1]\n",
    "    return r\n",
    "\n",
    "train_df = pd.read_csv('/media/yu-hao/WindowsData/WheatDataset/train.csv')\n",
    "train_df.shape\n",
    "\n",
    "train_df['x'] = -1\n",
    "train_df['y'] = -1\n",
    "train_df['w'] = -1\n",
    "train_df['h'] = -1\n",
    "\n",
    "temp = np.stack(train_df['bbox'].apply(lambda x: expand_bbox(x)))\n",
    "#train_df[['x', 'y', 'w', 'h']] = \n",
    "train_df.drop(columns=['bbox'], inplace=True)\n",
    "train_df['x'] = temp[:, 0]#train_df['x'].astype(np.float)\n",
    "train_df['y'] = temp[:, 1]#train_df['y'].astype(np.float)\n",
    "train_df['w'] = temp[:, 2]#train_df['w'].astype(np.float)\n",
    "train_df['h'] = temp[:, 3]#train_df['h'].astype(np.float)\n",
    "\n",
    "# df['bbox'] = df['bbox'].apply(lambda x: np.array(x))\n",
    "# x = np.array(list(df['bbox']))\n",
    "# print(x)\n",
    "# for i, dim in enumerate(['x', 'y', 'w', 'h']):\n",
    "#     df[dim] = x[:, i]\n",
    "\n",
    "# # df.drop('bbox', axis=1, inplace=True)\n",
    "# #df.head()\n",
    "\n",
    "class WheatDatasetOld(torch.utils.data.Dataset):\n",
    "    def __init__(self, df, image_dir, transforms = None):\n",
    "        super().__init__()\n",
    "        \n",
    "        self.df = df\n",
    "        self.image_ids  = self.df['image_id'].unique()\n",
    "        self.image_dir  = Path(image_dir)\n",
    "        self.transforms = transforms\n",
    "    \n",
    "    def __getitem__(self, idx):\n",
    "        image_id = self.image_ids[idx]\n",
    "        records  = self.df[self.df['image_id'] == image_id]\n",
    "        \n",
    "        im_name = image_id + '.jpg'\n",
    "        img = Image.open(self.image_dir/im_name).convert(\"RGB\")\n",
    "        img = T.ToTensor()(img)\n",
    "        \n",
    "        boxes = records[['x', 'y', 'w', 'h']].values\n",
    "        boxes[:, 2] = boxes[:, 0]+boxes[:, 2]\n",
    "        boxes[:, 3] = boxes[:, 1]+boxes[:, 3]\n",
    "        #print('boxes shape is ',boxes.shape)\n",
    "        boxes = torch.Tensor(boxes).to(device)#, device='cuda:0')#dtype=torch.int64)\n",
    "        \n",
    "        labels = torch.ones((records.shape[0], ), dtype=torch.int64)\n",
    "        \n",
    "        target = {}\n",
    "        target['boxes']  = boxes\n",
    "        target['labels'] = labels\n",
    "        target['image_id']  = torch.tensor([idx])\n",
    "        \n",
    "        return img, target, image_id\n",
    "    \n",
    "    def __len__(self):\n",
    "        return self.image_ids.shape[0]\n",
    "\n",
    "class WheatDataset(Dataset):\n",
    "\n",
    "    def __init__(self, dataframe, image_dir, transforms=None):\n",
    "        super().__init__()\n",
    "\n",
    "        self.image_ids = dataframe['image_id'].unique()\n",
    "        self.df = dataframe\n",
    "        self.image_dir = image_dir\n",
    "        self.transforms = transforms\n",
    "\n",
    "    def __getitem__(self, index: int):\n",
    "\n",
    "        image_id = self.image_ids[index]\n",
    "        records = self.df[self.df['image_id'] == image_id]\n",
    "\n",
    "        image = cv2.imread(f'{self.image_dir}/{image_id}.jpg', cv2.IMREAD_COLOR)\n",
    "        image = cv2.cvtColor(image, cv2.COLOR_BGR2RGB).astype(np.float32)\n",
    "        image /= 255.0\n",
    "\n",
    "        boxes = records[['x', 'y', 'w', 'h']].values\n",
    "        boxes[:, 2] = boxes[:, 0] + boxes[:, 2]\n",
    "        boxes[:, 3] = boxes[:, 1] + boxes[:, 3]\n",
    "        \n",
    "        area = (boxes[:, 3] - boxes[:, 1]) * (boxes[:, 2] - boxes[:, 0])\n",
    "        area = torch.as_tensor(area, dtype=torch.float32)\n",
    "\n",
    "        # there is only one class\n",
    "        labels = torch.ones((records.shape[0],), dtype=torch.int64)\n",
    "        \n",
    "        # suppose all instances are not crowd\n",
    "        iscrowd = torch.zeros((records.shape[0],), dtype=torch.int64)\n",
    "        \n",
    "        target = {}\n",
    "        target['boxes'] = boxes\n",
    "        target['labels'] = labels\n",
    "        # target['masks'] = None\n",
    "        target['image_id'] = torch.tensor([index])\n",
    "        target['area'] = area\n",
    "        target['iscrowd'] = iscrowd\n",
    "\n",
    "        if self.transforms:\n",
    "            sample = {\n",
    "                'image': image,\n",
    "                'bboxes': target['boxes'],\n",
    "                'labels': labels\n",
    "            }\n",
    "            sample = self.transforms(**sample)\n",
    "            image = sample['image']\n",
    "            \n",
    "            target['boxes'] = torch.stack(tuple(map(torch.tensor, zip(*sample['bboxes'])))).permute(1, 0)\n",
    "\n",
    "        return image, target, image_id\n",
    "\n",
    "    def __len__(self) -> int:\n",
    "        return self.image_ids.shape[0]\n",
    "\n",
    "class DBTDataset(torch.utils.data.Dataset):\n",
    "    def __init__(self, train_set = 1, transforms = None):\n",
    "        super().__init__()\n",
    "        \n",
    "        self.counter = 0\n",
    "        if train_set == 1:\n",
    "            self.train_start  = 0\n",
    "            self.train_end    = 150\n",
    "        else:\n",
    "            self.train_start  = 150\n",
    "            self.train_end    = 200\n",
    "        \n",
    "        self.train_set = train_set\n",
    "        suffix_str  = ''#random.choice(['_m2', '_m1', '_p1', '_p2', ''])\n",
    "        print('READING NEW FILE >> ', suffix_str, ' <<')\n",
    "        self.trainx = np.load('/media/yu-hao/WindowsData/DBT_numpy/trainx'+suffix_str+'.npy')[self.train_start:self.train_end]#.astype('float16')/60000.0\n",
    "        self.trainy = np.load('/media/yu-hao/WindowsData/DBT_numpy/trainy'+suffix_str+'.npy')[self.train_start:self.train_end]\n",
    "        self.coordx = np.load('/media/yu-hao/WindowsData/DBT_numpy/coordx'+suffix_str+'.npy')[self.train_start:self.train_end]\n",
    "        self.coordy = np.load('/media/yu-hao/WindowsData/DBT_numpy/coordy'+suffix_str+'.npy')[self.train_start:self.train_end]\n",
    "        self.width_arr  = np.load('/media/yu-hao/WindowsData/DBT_numpy/width_arr'+suffix_str+'.npy')[self.train_start:self.train_end]\n",
    "        self.height_arr = np.load('/media/yu-hao/WindowsData/DBT_numpy/height_arr'+suffix_str+'.npy')[self.train_start:self.train_end]\n",
    "        \n",
    "        \n",
    "#         self.trainx = np.load('/media/yu-hao/WindowsData/DBT_numpy/trainx.npy')[self.train_start:self.train_end]#.astype('float16')/60000.0\n",
    "#         self.trainy = np.load('/media/yu-hao/WindowsData/DBT_numpy/trainy.npy')[self.train_start:self.train_end]\n",
    "#         self.coordx = np.load('/media/yu-hao/WindowsData/DBT_numpy/coordx.npy')[self.train_start:self.train_end]\n",
    "#         self.coordy = np.load('/media/yu-hao/WindowsData/DBT_numpy/coordy.npy')[self.train_start:self.train_end]\n",
    "#         self.width_arr  = np.load('/media/yu-hao/WindowsData/DBT_numpy/width_arr.npy')[self.train_start:self.train_end]\n",
    "#         self.height_arr = np.load('/media/yu-hao/WindowsData/DBT_numpy/height_arr.npy')[self.train_start:self.train_end]\n",
    "        \n",
    "        self.transforms1 = A.Compose(\n",
    "                                    [A.HorizontalFlip(p=0.5),  A.VerticalFlip(p=0.5), ],\n",
    "                                     #A.Downscale(scale_min=0.75, scale_max=0.75,interpolation=3),],\n",
    "                                    bbox_params=A.BboxParams(format='pascal_voc', label_fields=['labels']),\n",
    "                                   )\n",
    "        \n",
    "    def __getitem__(self, idx):\n",
    "        self.counter = self.counter+1\n",
    "        #if self.counter % 10 == 0:\n",
    "        #    print('Counter is ', self.counter)\n",
    "        \n",
    "#         if self.train_set == 1 and self.counter % 150 == 0 and random.random() < 0.2:\n",
    "#             suffix_str  = random.choice([ '_m1', '_p1', ''])\n",
    "#             print('READING NEW FILE >> ', suffix_str, ' <<')\n",
    "#             self.trainx = np.load('/media/yu-hao/WindowsData/DBT_numpy/trainx'+suffix_str+'.npy')[self.train_start:self.train_end]#.astype('float16')/60000.0\n",
    "#             self.trainy = np.load('/media/yu-hao/WindowsData/DBT_numpy/trainy'+suffix_str+'.npy')[self.train_start:self.train_end]\n",
    "#             self.coordx = np.load('/media/yu-hao/WindowsData/DBT_numpy/coordx'+suffix_str+'.npy')[self.train_start:self.train_end]\n",
    "#             self.coordy = np.load('/media/yu-hao/WindowsData/DBT_numpy/coordy'+suffix_str+'.npy')[self.train_start:self.train_end]\n",
    "#             self.width_arr  = np.load('/media/yu-hao/WindowsData/DBT_numpy/width_arr'+suffix_str+'.npy')[self.train_start:self.train_end]\n",
    "#             self.height_arr = np.load('/media/yu-hao/WindowsData/DBT_numpy/height_arr'+suffix_str+'.npy')[self.train_start:self.train_end]\n",
    "                \n",
    "        img = self.trainx[idx, 0].astype('float32')/60000.0\n",
    "        img[img > 1] = 1\n",
    "        img = ndimage.interpolation.zoom(img, 0.25)\n",
    "        img = np.expand_dims(img, 0)\n",
    "        img = np.concatenate([img, img, img], axis=0)\n",
    "        #if(0):\n",
    "        if(self.train_set == 1):\n",
    "            img = np.moveaxis(img, 0, -1)\n",
    "        \n",
    "        boxes = np.array([self.coordx[idx]/4, self.coordy[idx]/4, self.width_arr[idx]/4, self.height_arr[idx]/4])#records[['x', 'y', 'w', 'h']].values\n",
    "        boxes = np.expand_dims(boxes, axis=0)\n",
    "        boxes[:, 2] = boxes[:, 0]+boxes[:, 2]\n",
    "        boxes[:, 3] = boxes[:, 1]+boxes[:, 3]\n",
    "        \n",
    "        area = self.width_arr[idx] * self.height_arr[idx]\n",
    "        area = torch.Tensor(area)\n",
    "        \n",
    "        # there is only one class\n",
    "        labels =  torch.ones((1,)).type(torch.int64)\n",
    "        \n",
    "        if(self.train_set == 1):\n",
    "        #if(0):\n",
    "            transformed = self.transforms1(image=img, bboxes=boxes, labels=labels)\n",
    "            image    = transformed['image']\n",
    "            boxes    = np.array(transformed['bboxes'])\n",
    "            img      = np.moveaxis(image, 2, 0)\n",
    "        \n",
    "        # suppose all instances are not crowd\n",
    "        iscrowd = torch.Tensor(np.array([0])).type(torch.int64)\n",
    "        \n",
    "        target              = {}\n",
    "        target['boxes']     = torch.Tensor(boxes)\n",
    "        target['labels']    = labels\n",
    "        target['image_id']  = torch.tensor([idx])\n",
    "        target['area']      = area\n",
    "        target['iscrowd']   = iscrowd\n",
    "        \n",
    "        return img, target, idx\n",
    "    \n",
    "    def __len__(self):\n",
    "        return self.trainx.shape[0]\n",
    "\n",
    "def get_train_transform():\n",
    "    return A.Compose([\n",
    "        A.Flip(0.5),\n",
    "        ToTensorV2(p=1.0)\n",
    "    ], bbox_params={'format': 'pascal_voc', 'label_fields': ['labels']})\n",
    "\n",
    "def get_valid_transform():\n",
    "    return A.Compose([\n",
    "        ToTensorV2(p=1.0)\n",
    "    ], bbox_params={'format': 'pascal_voc', 'label_fields': ['labels']})\n",
    "\n",
    "class Averager:\n",
    "    def __init__(self):\n",
    "        self.current_total = 0.0\n",
    "        self.iterations = 0.0\n",
    "\n",
    "    def send(self, value):\n",
    "        self.current_total += value\n",
    "        self.iterations += 1\n",
    "\n",
    "    @property\n",
    "    def value(self):\n",
    "        if self.iterations == 0:\n",
    "            return 0\n",
    "        else:\n",
    "            return 1.0 * self.current_total / self.iterations\n",
    "\n",
    "    def reset(self):\n",
    "        self.current_total = 0.0\n",
    "        self.iterations = 0.0"
   ]
  },
  {
   "cell_type": "code",
   "execution_count": 3,
   "metadata": {
    "code_folding": [
     0
    ]
   },
   "outputs": [
    {
     "name": "stdout",
     "output_type": "stream",
     "text": [
      "(25006, 8) (122787, 8)\n"
     ]
    }
   ],
   "source": [
    "# [STAR] Wheat Dataset and Model Creation\n",
    "\n",
    "image_ids = train_df['image_id'].unique()\n",
    "valid_ids = image_ids[-665:]\n",
    "train_ids = image_ids[:-665]\n",
    "\n",
    "valid_df = train_df[train_df['image_id'].isin(valid_ids)]\n",
    "train_df = train_df[train_df['image_id'].isin(train_ids)]\n",
    "\n",
    "print(valid_df.shape, train_df.shape)\n",
    "\n",
    "num_classes = 2\n",
    "model       = torchvision.models.detection.fasterrcnn_resnet50_fpn(pretrained=True)\n",
    "\n",
    "# get number of input features for the classifier\n",
    "in_features = model.roi_heads.box_predictor.cls_score.in_features\n",
    "\n",
    "# replace the pre-trained head with a new one\n",
    "model.roi_heads.box_predictor = FastRCNNPredictor(in_features, num_classes)\n",
    "\n",
    "def collate_fn(batch):\n",
    "    return tuple(zip(*batch))\n",
    "\n",
    "DIR_INPUT = '/media/yu-hao/WindowsData/WheatDataset'\n",
    "DIR_TRAIN = f'{DIR_INPUT}/train'\n",
    "DIR_TEST  = f'{DIR_INPUT}/test'\n",
    "\n",
    "train_dataset = WheatDataset(train_df, DIR_TRAIN, get_train_transform())\n",
    "valid_dataset = WheatDataset(valid_df, DIR_TRAIN, get_valid_transform())\n",
    "\n",
    "\n",
    "# split the dataset in train and test set\n",
    "indices = torch.randperm(len(train_dataset)).tolist()\n",
    "\n",
    "train_data_loader = DataLoader(\n",
    "    train_dataset,\n",
    "    batch_size=4,\n",
    "    shuffle=False,\n",
    "    num_workers=1,\n",
    "    collate_fn=collate_fn\n",
    ")\n",
    "\n",
    "valid_data_loader = DataLoader(\n",
    "    valid_dataset,\n",
    "    batch_size=4,\n",
    "    shuffle=False,\n",
    "    num_workers=1,\n",
    "    collate_fn=collate_fn\n",
    ")"
   ]
  },
  {
   "cell_type": "code",
   "execution_count": 7,
   "metadata": {
    "code_folding": [
     0
    ]
   },
   "outputs": [
    {
     "name": "stdout",
     "output_type": "stream",
     "text": [
      "READING NEW FILE >>    <<\n",
      "READING NEW FILE >>    <<\n"
     ]
    }
   ],
   "source": [
    "# [STAR] DBT Dataset and Model Creation\n",
    "\n",
    "def collate_fn(batch):\n",
    "    return tuple(zip(*batch))\n",
    "\n",
    "train_dataset     = DBTDataset(train_set=1)\n",
    "valid_dataset     = DBTDataset(train_set=0)\n",
    "\n",
    "train_data_loader = DataLoader(\n",
    "    train_dataset,\n",
    "    batch_size=4,\n",
    "    shuffle=True,\n",
    "    num_workers=1, collate_fn=collate_fn\n",
    ")\n",
    "\n",
    "valid_data_loader = DataLoader(\n",
    "    valid_dataset,\n",
    "    batch_size=1,\n",
    "    shuffle=False,\n",
    "    num_workers=1, collate_fn=collate_fn\n",
    ")\n",
    "\n",
    "device = torch.device('cuda') if torch.cuda.is_available() else torch.device('cpu')\n",
    "\n",
    "num_classes = 2\n",
    "model       = torchvision.models.detection.fasterrcnn_resnet50_fpn(pretrained=True)\n",
    "#model       = torchvision.models.detection.retinanet_resnet50_fpn(pretrained=True)\n",
    "\n",
    "# get number of input features for the classifier\n",
    "in_features = model.roi_heads.box_predictor.cls_score.in_features\n",
    "\n",
    "# replace the pre-trained head with a new one\n",
    "model.roi_heads.box_predictor = FastRCNNPredictor(in_features, num_classes)\n",
    "\n",
    "model.to(device)\n",
    "params       = [p for p in model.parameters() if p.requires_grad]\n",
    "optimizer    = torch.optim.Adam(params, lr=0.0001, weight_decay=0.0001)\n",
    "lr_scheduler = None"
   ]
  },
  {
   "cell_type": "code",
   "execution_count": null,
   "metadata": {
    "code_folding": [
     0
    ],
    "scrolled": true
   },
   "outputs": [],
   "source": [
    "# [STAR] Training loop for DBT dataset\n",
    "optimizer    = torch.optim.Adam(params, lr=0.0001, weight_decay=0.0001)\n",
    "\n",
    "# params       = [p for p in model.parameters() if p.requires_grad]\n",
    "# optimizer    = torch.optim.SGD(params, lr=0.0001, momentum=0.9, weight_decay=0.0001)\n",
    "# lr_scheduler = None\n",
    "\n",
    "loss_hist     = Averager()\n",
    "val_loss_hist = Averager()\n",
    "\n",
    "prev_min   = 1000\n",
    "num_epochs = 50\n",
    "for epoch in range(num_epochs):\n",
    "    loss_hist.reset()\n",
    "    loss_hist.reset()\n",
    "    \n",
    "    model.train()\n",
    "    itr = 1\n",
    "    for images, targets, image_ids in train_data_loader:\n",
    "        new_images  = []\n",
    "        for img in images:\n",
    "            new_images.append(torch.Tensor(img).to(device))\n",
    "        \n",
    "        images    = new_images\n",
    "        targets   = [{k: v.to(device) for k, v in t.items()} for t in targets]\n",
    "        loss_dict = model(images, targets)\n",
    "\n",
    "        losses     = sum(loss for loss in loss_dict.values())\n",
    "        loss_value = losses.item()\n",
    "\n",
    "        loss_hist.send(loss_value)\n",
    "\n",
    "        optimizer.zero_grad()\n",
    "        losses.backward()\n",
    "        optimizer.step()\n",
    "\n",
    "        if itr % 50 == 0:\n",
    "            print(f\"Iteration #{itr} loss: {loss_value}\")\n",
    "\n",
    "        itr += 1\n",
    "    \n",
    "    with torch.no_grad():\n",
    "        for images, targets, image_ids in valid_data_loader:\n",
    "            new_images  = []\n",
    "            for img in images:\n",
    "                new_images.append(torch.Tensor(img).to(device))\n",
    "\n",
    "            images    = new_images\n",
    "            targets   = [{k: v.to(device) for k, v in t.items()} for t in targets]\n",
    "            loss_dict = model(images, targets)\n",
    "            #print(loss_dict)\n",
    "\n",
    "            losses     = sum(loss for loss in loss_dict.values())\n",
    "            loss_value = losses.item()\n",
    "            val_loss_hist.send(loss_value)\n",
    "\n",
    "            if itr % 50 == 0:\n",
    "                print(f\"Validation Iteration #{itr} loss: {loss_value}\")\n",
    "            itr = itr+1\n",
    "    \n",
    "    # update the learning rate\n",
    "    if lr_scheduler is not None:\n",
    "        lr_scheduler.step()\n",
    "\n",
    "    print(f\"Epoch #{epoch} Train loss: {loss_hist.value}\")\n",
    "    print(f\"Epoch #{epoch} Val   loss: {val_loss_hist.value}\")\n",
    "    \n",
    "    if val_loss_hist.value < prev_min:\n",
    "        print('Saving the model ', prev_min, val_loss_hist.value)\n",
    "        torch.save(model.state_dict(), 'fasterrcnn_resnet50_dbt26.pth')\n",
    "        prev_min = val_loss_hist.value"
   ]
  },
  {
   "cell_type": "code",
   "execution_count": 9,
   "metadata": {
    "code_folding": [
     0
    ]
   },
   "outputs": [
    {
     "name": "stdout",
     "output_type": "stream",
     "text": [
      "Validation Iteration #10 loss: 0.122077077627182\n",
      "Validation Iteration #20 loss: 0.14720208942890167\n",
      "Validation Iteration #30 loss: 0.1716037094593048\n",
      "Validation Iteration #40 loss: 0.11694562435150146\n",
      "Validation Iteration #50 loss: 0.16063688695430756\n",
      "0.1624028943479061\n"
     ]
    }
   ],
   "source": [
    "# [STAR] For printing the loss of the trained model\n",
    "\n",
    "# fasterrcnn_resnet50_dbt7.pth  0.24080992616713048\n",
    "# fasterrcnn_resnet50_dbt8.pth  0.1653416310250759\n",
    "# fasterrcnn_resnet50_dbt9.pth  0.17630461007356643\n",
    "# fasterrcnn_resnet50_dbt10.pth 0.17438715264201166\n",
    "# fasterrcnn_resnet50_dbt11.pth 0.16590506657958032\n",
    "\n",
    "all_target = []\n",
    "all_scores  = []\n",
    "val_loss_hist = Averager()\n",
    "itr = 1\n",
    "\n",
    "#device = torch.device(\"cpu\")\n",
    "#model.to(device)\n",
    "model.load_state_dict(torch.load('fasterrcnn_resnet50_dbt26.pth'))\n",
    "model.train()\n",
    "\n",
    "with torch.no_grad():\n",
    "    for images, targets, image_ids in valid_data_loader:\n",
    "        new_images  = []\n",
    "        for img in images:\n",
    "            new_images.append(torch.Tensor(img).to(device))\n",
    "\n",
    "        images    = new_images\n",
    "        targets   = [{k: v.to(device) for k, v in t.items()} for t in targets]\n",
    "        loss_dict = model(images, targets)\n",
    "        #print(loss_dict)\n",
    "\n",
    "        losses     = sum(loss for loss in loss_dict.values())\n",
    "        loss_value = losses.item()\n",
    "        val_loss_hist.send(loss_value)\n",
    "\n",
    "        if itr % 10 == 0:\n",
    "            print(f\"Validation Iteration #{itr} loss: {loss_value}\")\n",
    "        itr = itr+1\n",
    "\n",
    "print(val_loss_hist.value)"
   ]
  },
  {
   "cell_type": "code",
   "execution_count": 23,
   "metadata": {},
   "outputs": [],
   "source": [
    "all_target1  = all_target\n",
    "all_scores1  = all_scores"
   ]
  },
  {
   "cell_type": "code",
   "execution_count": 38,
   "metadata": {
    "code_folding": [
     0
    ],
    "scrolled": true
   },
   "outputs": [],
   "source": [
    "# [STAR] For doing inference of the model\n",
    "\n",
    "all_target = []\n",
    "all_scores = []\n",
    "\n",
    "#device = torch.device(\"cpu\")\n",
    "#model.to(device)\n",
    "model.load_state_dict(torch.load('fasterrcnn_resnet50_dbt8.pth'))\n",
    "model.eval()\n",
    "\n",
    "\n",
    "\n",
    "for images, targets, image_ids in valid_data_loader:\n",
    "    new_images  = []\n",
    "    for img in images:\n",
    "        new_images.append(torch.Tensor(img).to(device))\n",
    "\n",
    "    images    = new_images\n",
    "    targets   = [{k: v.to(device) for k, v in t.items()} for t in targets]\n",
    "    loss_dict = model(images)\n",
    "    #print(loss_dict)\n",
    "    \n",
    "    all_scores.append(loss_dict[0]['scores'].data.cpu().numpy())\n",
    "    all_target.append(loss_dict[0]['boxes'].data.cpu().numpy())"
   ]
  },
  {
   "cell_type": "code",
   "execution_count": 45,
   "metadata": {
    "code_folding": [
     0
    ]
   },
   "outputs": [
    {
     "name": "stdout",
     "output_type": "stream",
     "text": [
      "Ground Truth  [[353.    51.   459.75 151.5 ]]\n"
     ]
    },
    {
     "data": {
      "image/png": "[encoded data removed]",
      "text/plain": [
       "<Figure size 432x288 with 1 Axes>"
      ]
     },
     "metadata": {
      "needs_background": "light"
     },
     "output_type": "display_data"
    }
   ],
   "source": [
    "# [STAR] Code to compare the ground truth and predicted mask\n",
    "\n",
    "import matplotlib.patches as patches\n",
    "\n",
    "case_index        = random.randint(0, len(valid_dataset)-1)\n",
    "images, b, c = valid_dataset[case_index]\n",
    "\n",
    "print('Ground Truth ', b['boxes'].data.cpu().numpy())\n",
    "\n",
    "plt.imshow(images[0], cmap='gray')\n",
    "ax   = plt.gca()\n",
    "\n",
    "if(len(all_target1[case_index]) > 0):\n",
    "    #print(all_target1[index])\n",
    "    #print(all_scores1[index])\n",
    "    \n",
    "    temp  = all_target1[case_index]\n",
    "    index = 0\n",
    "    rect  = patches.Rectangle((temp[index][0], temp[index][1]), temp[index][2]-temp[index][0], temp[index][3]-temp[index][1], linewidth=1, edgecolor='yellow', fill = False)\n",
    "    ax.add_patch(rect)\n",
    "else:\n",
    "    print('Not found 9')\n",
    "\n",
    "if(len(all_target[case_index]) > 0):\n",
    "    #print(all_target[index])\n",
    "    #print(all_scores[index])\n",
    "    \n",
    "    temp  = all_target[case_index]\n",
    "    index = 0\n",
    "    rect  = patches.Rectangle((temp[index][0], temp[index][1]), temp[index][2]-temp[index][0], temp[index][3]-temp[index][1], linewidth=1, edgecolor='cyan', fill = False)\n",
    "    ax.add_patch(rect)\n",
    "else:\n",
    "    print('Not found 8')\n",
    "\n",
    "temp  = b['boxes'].data.cpu().numpy()#all_target[index]\n",
    "index = 0\n",
    "rect  = patches.Rectangle((temp[index][0], temp[index][1]), temp[index][2]-temp[index][0], temp[index][3]-temp[index][1], linewidth=1, edgecolor='red', fill = False)\n",
    "ax.add_patch(rect)\n",
    "\n",
    "\n",
    "#rect = patches.Rectangle((0, 0), 500, 100, linewidth=2, edgecolor='cyan', fill = False)\n",
    "\n",
    "plt.show()\n"
   ]
  },
  {
   "cell_type": "code",
   "execution_count": null,
   "metadata": {
    "code_folding": [
     0
    ]
   },
   "outputs": [],
   "source": [
    "# [STAR] For doing the inference on the test images\n",
    "\n",
    "model.eval()\n",
    "cpu_device = torch.device(\"cpu\")\n",
    "\n",
    "outputs = model(images)\n",
    "outputs = [{k: v.to(cpu_device) for k, v in t.items()} for t in outputs]"
   ]
  },
  {
   "cell_type": "code",
   "execution_count": 91,
   "metadata": {
    "code_folding": [
     0
    ]
   },
   "outputs": [
    {
     "name": "stdout",
     "output_type": "stream",
     "text": [
      "(375, 500, 3)\n"
     ]
    }
   ],
   "source": [
    "# Some code to do visualization\n",
    "\n",
    "\n",
    "BOX_COLOR = (255, 0, 0) # Red\n",
    "TEXT_COLOR = (255, 255, 255) # White\n",
    "\n",
    "fp    = \"/home/yu-hao/Downloads/coco_sample.png\"\n",
    "image = cv2.imread(fp)\n",
    "image = cv2.cvtColor(image, cv2.COLOR_BGR2RGB)\n",
    "print(image.shape)\n",
    "\n",
    "def visualize_bbox(img, bbox, class_name, color=BOX_COLOR, thickness=2):\n",
    "    \"\"\"Visualizes a single bounding box on the image\"\"\"\n",
    "    x_min, y_min, w, h = bbox\n",
    "    x_min, x_max, y_min, y_max = int(x_min), int(x_min + w), int(y_min), int(y_min + h)\n",
    "\n",
    "    cv2.rectangle(img, (x_min, y_min), (x_max, y_max), color=color, thickness=thickness)\n",
    "\n",
    "    ((text_width, text_height), _) = cv2.getTextSize(class_name, cv2.FONT_HERSHEY_SIMPLEX, 0.35, 1)    \n",
    "    cv2.rectangle(img, (x_min, y_min - int(1.3 * text_height)), (x_min + text_width, y_min), BOX_COLOR, -1)\n",
    "    cv2.putText(\n",
    "        img,\n",
    "        text=class_name,\n",
    "        org=(x_min, y_min - int(0.3 * text_height)),\n",
    "        fontFace=cv2.FONT_HERSHEY_SIMPLEX,\n",
    "        fontScale=0.35, \n",
    "        color=TEXT_COLOR, \n",
    "        lineType=cv2.LINE_AA,\n",
    "    )\n",
    "    return img\n",
    "\n",
    "\n",
    "def visualize(image, bboxes, category_ids, category_id_to_name):\n",
    "    img = image.copy()\n",
    "    for bbox, category_id in zip(bboxes, category_ids):\n",
    "        class_name = category_id_to_name[category_id]\n",
    "        img = visualize_bbox(img, bbox, class_name)\n",
    "    plt.figure(figsize=(12, 12))\n",
    "    plt.axis('off')\n",
    "    plt.imshow(img)"
   ]
  },
  {
   "cell_type": "code",
   "execution_count": null,
   "metadata": {
    "code_folding": [
     0
    ]
   },
   "outputs": [],
   "source": [
    "# [STAR] Plot image 1\n",
    "\n",
    "import matplotlib.patches as patches\n",
    "\n",
    "#train_dataset1     = DBTDataset(train_set=1)\n",
    "#index = random.randint(0, len(train_dataset)-1)\n",
    "#image, b, c = train_dataset[index]\n",
    "\n",
    "case_index       = random.randint(0, len(train_dataset)-1)\n",
    "image, b, c = train_dataset[case_index]\n",
    "image       = np.moveaxis(image, 0, -1)\n",
    "\n",
    "# transform = A.Compose(\n",
    "#     [A.HorizontalFlip(p=0.95)],\n",
    "#     bbox_params=A.BboxParams(format='pascal_voc', label_fields=['labels']),\n",
    "# )\n",
    "\n",
    "# temp_box = b['boxes'].data.cpu().numpy()\n",
    "\n",
    "# temp_box[0][0] = temp_box[0][0]\n",
    "# temp_box[0][2] = temp_box[0][2]\n",
    "# temp_box[0][3] = temp_box[0][3]\n",
    "# temp_box[0][1] = temp_box[0][1]\n",
    "\n",
    "# random.seed(7)\n",
    "# transformed = transform(image=image, bboxes=temp_box, labels=b['labels'])\n",
    "\n",
    "plt.imshow(image)\n",
    "ax   = plt.gca()\n",
    "\n",
    "temp  = b['boxes']#b[index]\n",
    "index = 0\n",
    "rect  = patches.Rectangle((temp[index][0], temp[index][1]), temp[index][2]-temp[index][0], temp[index][3]-temp[index][1], linewidth=1, edgecolor='cyan', fill = False)\n",
    "ax.add_patch(rect)"
   ]
  },
  {
   "cell_type": "code",
   "execution_count": null,
   "metadata": {
    "code_folding": [
     0
    ]
   },
   "outputs": [],
   "source": [
    "# [STAR] Some code to test the augmentation\n",
    "\n",
    "import matplotlib.patches as patches\n",
    "\n",
    "#case_index  = random.randint(0, len(valid_dataset)-1)\n",
    "image, b, c = valid_dataset[case_index]\n",
    "image       = np.moveaxis(image, 0, -1)\n",
    "\n",
    "transform = A.Compose(\n",
    "    #[A.HorizontalFlip(p=0.99)],\n",
    "    [A.VerticalFlip(p=0.99)],\n",
    "    bbox_params=A.BboxParams(format='pascal_voc', label_fields=['labels']),\n",
    ")\n",
    "\n",
    "temp_box       = b['boxes'].data.cpu().numpy()\n",
    "\n",
    "temp_box[0][0] = temp_box[0][0]\n",
    "temp_box[0][2] = temp_box[0][2]\n",
    "temp_box[0][3] = temp_box[0][3]\n",
    "temp_box[0][1] = temp_box[0][1]\n",
    "temp           = temp_box\n",
    "\n",
    "if(0):\n",
    "    transformed = transform(image=image, bboxes=temp_box, labels=b['labels'])\n",
    "    image    = transformed['image']\n",
    "    temp     = transformed['bboxes']\n",
    "\n",
    "plt.imshow(image)\n",
    "ax    = plt.gca()\n",
    "index = 0\n",
    "rect  = patches.Rectangle((temp[index][0], temp[index][1]), temp[index][2]-temp[index][0], temp[index][3]-temp[index][1], linewidth=1, edgecolor='cyan', fill = False)\n",
    "ax.add_patch(rect)"
   ]
  },
  {
   "cell_type": "code",
   "execution_count": 12,
   "metadata": {},
   "outputs": [],
   "source": [
    "device = torch.device('cuda') if torch.cuda.is_available() else torch.device('cpu')\n",
    "\n",
    "images, targets, image_ids = next(iter(train_data_loader))\n",
    "images  = list(image.to(device) for image in images)\n",
    "targets = [{k: v.to(device) for k, v in t.items()} for t in targets]\n",
    "\n",
    "boxes  = targets[2]['boxes'].cpu().numpy().astype(np.int32)\n",
    "sample = images[2].permute(1,2,0).cpu().numpy()"
   ]
  },
  {
   "cell_type": "code",
   "execution_count": null,
   "metadata": {
    "code_folding": [
     0
    ]
   },
   "outputs": [],
   "source": [
    "# [STAR] For plotting the images\n",
    "\n",
    "fig, ax = plt.subplots(1, 1, figsize=(16, 8))\n",
    "\n",
    "for box in boxes:\n",
    "    cv2.rectangle(sample,\n",
    "                  (box[0], box[1]),\n",
    "                  (box[2], box[3]),\n",
    "                  (220, 0, 0), 3)\n",
    "    \n",
    "ax.set_axis_off()\n",
    "ax.imshow(sample)"
   ]
  },
  {
   "cell_type": "code",
   "execution_count": 138,
   "metadata": {},
   "outputs": [],
   "source": [
    "def collate_fn(batch):\n",
    "    return tuple(zip(*batch))\n",
    "\n",
    "train_dataset = DBTDataset()\n",
    "#valid_dataset = DBTDataset()\n",
    "\n",
    "\n",
    "# split the dataset in train and test set\n",
    "indices = torch.randperm(len(train_dataset)).tolist()\n",
    "\n",
    "train_data_loader = DataLoader(\n",
    "    train_dataset,\n",
    "    batch_size=1,\n",
    "    shuffle=False,\n",
    "    num_workers=1,\n",
    "    collate_fn=collate_fn\n",
    ")\n",
    "\n",
    "# valid_data_loader = DataLoader(\n",
    "#     valid_dataset,\n",
    "#     batch_size=8,\n",
    "#     shuffle=False,\n",
    "#     num_workers=4,\n",
    "#     collate_fn=collate_fn\n",
    "# )"
   ]
  },
  {
   "cell_type": "code",
   "execution_count": 143,
   "metadata": {},
   "outputs": [],
   "source": [
    "device = torch.device('cuda') if torch.cuda.is_available() else torch.device('cpu')\n",
    "\n",
    "from torchvision.models.detection.faster_rcnn import FastRCNNPredictor\n",
    "from torchvision.models.detection import FasterRCNN\n",
    "from torchvision.models.detection.rpn import AnchorGenerator\n",
    "\n",
    "from torch.utils.data import DataLoader, Dataset\n",
    "from torch.utils.data.sampler import SequentialSampler\n",
    "\n",
    "num_classes = 2\n",
    "\n",
    "model = torchvision.models.detection.fasterrcnn_resnet50_fpn(pretrained=True)\n",
    "\n",
    "# get number of input features for the classifier\n",
    "in_features = model.roi_heads.box_predictor.cls_score.in_features\n",
    "\n",
    "# replace the pre-trained head with a new one\n",
    "model.roi_heads.box_predictor = FastRCNNPredictor(in_features, num_classes)\n",
    "\n",
    "model.to(device)\n",
    "params = [p for p in model.parameters() if p.requires_grad]\n",
    "optimizer = torch.optim.SGD(params, lr=0.00001, momentum=0.9, weight_decay=0.5)\n",
    "# lr_scheduler = torch.optim.lr_scheduler.StepLR(optimizer, step_size=3, gamma=0.1)\n",
    "lr_scheduler = None\n",
    "\n",
    "num_epochs = 20"
   ]
  },
  {
   "cell_type": "code",
   "execution_count": null,
   "metadata": {
    "code_folding": [
     6
    ],
    "scrolled": true
   },
   "outputs": [],
   "source": [
    "num_epochs = 2000\n",
    "\n",
    "loss_hist = Averager()\n",
    "itr = 1\n",
    "#train_dataset = td1\n",
    "#model.train()\n",
    "for epoch in range(num_epochs):\n",
    "    loss_hist.reset()\n",
    "    \n",
    "    for k in range(len(train_dataset)-1):\n",
    "        images, targets, image_ids = train_dataset[k]\n",
    "        #for images, targets, image_ids in train_data_loader:\n",
    "        #print(images, targets)\n",
    "        \n",
    "        images  = [images]\n",
    "        targets = [targets]\n",
    "        #images  = list(image.to(device) for image in images)\n",
    "        #targets = [{k: v.to(device) for k, v in t.items()} for t in targets]\n",
    "        \n",
    "        \n",
    "        loss_dict = model(images, targets)\n",
    "        \n",
    "        #losses = loss_dict['loss_rpn_box_reg'] + loss_dict['loss_objectness']\n",
    "        losses = sum(loss for loss in loss_dict.values())\n",
    "        loss_value = losses.item()\n",
    "\n",
    "        loss_hist.send(loss_value)\n",
    "\n",
    "        optimizer.zero_grad()\n",
    "        losses.backward()\n",
    "        optimizer.step()\n",
    "\n",
    "        if itr % 50 == 0:\n",
    "            print(loss_dict)\n",
    "            print(f\"Iteration #{itr} loss: {loss_value}\")\n",
    "\n",
    "        itr += 1\n",
    "    \n",
    "    # update the learning rate\n",
    "    if lr_scheduler is not None:\n",
    "        lr_scheduler.step()\n",
    "\n",
    "    print(f\"Epoch #{epoch} loss: {loss_hist.value}\") "
   ]
  },
  {
   "cell_type": "code",
   "execution_count": 121,
   "metadata": {},
   "outputs": [
    {
     "name": "stdout",
     "output_type": "stream",
     "text": [
      "[{'boxes': tensor([[  76., 1665.,  254., 1791.]], device='cuda:0'), 'labels': tensor([1], device='cuda:0'), 'image_id': tensor([156]), 'area': tensor([22428.], device='cuda:0'), 'iscrowd': tensor([0], device='cuda:0')}]\n"
     ]
    }
   ],
   "source": [
    "print(targets)"
   ]
  },
  {
   "cell_type": "code",
   "execution_count": 107,
   "metadata": {},
   "outputs": [],
   "source": [
    "model.eval()\n",
    "\n",
    "images, targets, image_ids = train_dataset[k]\n",
    "images  = [images]\n",
    "targets = [targets]\n",
    "\n",
    "loss_dict = model(images)\n",
    "        "
   ]
  },
  {
   "cell_type": "code",
   "execution_count": 9,
   "metadata": {},
   "outputs": [
    {
     "name": "stderr",
     "output_type": "stream",
     "text": [
      "\r",
      "  0%|          | 0/14000 [00:00<?, ?it/s]"
     ]
    },
    {
     "name": "stdout",
     "output_type": "stream",
     "text": [
      "14000\n",
      "(300, 300, 3)\n",
      "(300, 200, 3)\n",
      "(300, 241, 3)\n",
      "(300, 200, 3)\n",
      "(300, 257, 3)\n",
      "(300, 205, 3)\n",
      "(300, 215, 3)\n",
      "(300, 206, 3)\n",
      "(300, 205, 3)\n",
      "(300, 236, 3)\n",
      "(301, 201, 3)\n",
      "(300, 300, 3)\n",
      "(225, 300, 3)\n",
      "(300, 225, 3)\n",
      "(300, 240, 3)\n",
      "(301, 205, 3)\n",
      "(300, 300, 3)\n",
      "(300, 222, 3)\n",
      "(300, 200, 3)\n",
      "(300, 205, 3)\n",
      "(300, 200, 3)\n",
      "(300, 196, 3)\n",
      "(300, 300, 3)\n",
      "(300, 199, 3)\n",
      "(300, 300, 3)\n",
      "(300, 211, 3)\n",
      "(300, 205, 3)\n",
      "(300, 236, 3)\n",
      "(300, 217, 3)\n",
      "(301, 244, 3)\n",
      "(301, 225, 3)\n",
      "(301, 240, 3)\n",
      "(300, 205, 3)\n",
      "(300, 201, 3)\n",
      "(300, 240, 3)\n",
      "(300, 258, 3)\n",
      "(300, 222, 3)\n",
      "(300, 229, 3)\n",
      "(300, 221, 3)\n",
      "(300, 170, 3)\n",
      "(300, 210, 3)\n",
      "(301, 199, 3)\n",
      "(300, 235, 3)\n",
      "(300, 300, 3)\n",
      "(300, 236, 3)\n",
      "(300, 210, 3)\n",
      "(300, 205, 3)\n",
      "(300, 234, 3)\n",
      "(301, 199, 3)\n",
      "(300, 197, 3)\n",
      "(300, 250, 3)\n",
      "(300, 300, 3)\n",
      "(300, 228, 3)\n",
      "(300, 208, 3)\n",
      "(301, 301, 3)\n",
      "(300, 180, 3)\n",
      "(301, 205, 3)\n",
      "(301, 205, 3)\n",
      "(300, 300, 3)\n",
      "(300, 205, 3)\n",
      "(300, 225, 3)\n",
      "(300, 226, 3)\n",
      "(300, 300, 3)\n",
      "(300, 218, 3)\n",
      "(300, 225, 3)\n",
      "(300, 231, 3)\n",
      "(301, 199, 3)\n",
      "(300, 200, 3)\n",
      "(300, 250, 3)\n",
      "(300, 205, 3)\n",
      "(300, 300, 3)\n",
      "(300, 225, 3)\n",
      "(300, 200, 3)\n",
      "(300, 300, 3)\n",
      "(300, 240, 3)\n",
      "(300, 236, 3)\n",
      "(300, 200, 3)\n",
      "(300, 225, 3)\n",
      "(300, 200, 3)\n"
     ]
    },
    {
     "name": "stderr",
     "output_type": "stream",
     "text": [
      "  1%|          | 86/14000 [00:00<03:06, 74.60it/s] "
     ]
    },
    {
     "name": "stdout",
     "output_type": "stream",
     "text": [
      "(300, 300, 3)\n",
      "(300, 201, 3)\n",
      "(300, 225, 3)\n",
      "(300, 240, 3)\n",
      "(300, 196, 3)\n",
      "(300, 170, 3)\n",
      "(300, 196, 3)\n"
     ]
    },
    {
     "name": "stderr",
     "output_type": "stream",
     "text": [
      "  1%|          | 97/14000 [00:00<04:15, 54.38it/s]"
     ]
    },
    {
     "name": "stdout",
     "output_type": "stream",
     "text": [
      "(300, 300, 3)\n",
      "(300, 205, 3)\n",
      "(300, 190, 3)\n",
      "(300, 200, 3)\n",
      "(300, 254, 3)\n",
      "(300, 300, 3)\n",
      "(300, 236, 3)\n",
      "(300, 205, 3)\n",
      "(301, 222, 3)\n",
      "(300, 221, 3)\n",
      "(301, 199, 3)\n"
     ]
    },
    {
     "name": "stderr",
     "output_type": "stream",
     "text": [
      "  1%|          | 108/14000 [00:01<04:25, 52.30it/s]"
     ]
    },
    {
     "name": "stdout",
     "output_type": "stream",
     "text": [
      "(300, 241, 3)\n",
      "(300, 110, 3)\n",
      "(300, 300, 3)\n",
      "(300, 200, 3)\n",
      "(300, 205, 3)\n",
      "(300, 234, 3)\n",
      "(300, 205, 3)\n",
      "(300, 229, 3)\n",
      "(300, 225, 3)\n",
      "(300, 225, 3)\n",
      "(300, 205, 3)\n"
     ]
    },
    {
     "name": "stderr",
     "output_type": "stream",
     "text": [
      "\r",
      "  1%|          | 114/14000 [00:01<04:23, 52.65it/s]"
     ]
    },
    {
     "name": "stdout",
     "output_type": "stream",
     "text": [
      "(300, 300, 3)\n",
      "(300, 300, 3)\n",
      "(301, 244, 3)\n",
      "(301, 259, 3)\n",
      "(300, 234, 3)\n",
      "(300, 196, 3)\n",
      "(300, 225, 3)\n",
      "(300, 231, 3)\n",
      "(300, 300, 3)\n",
      "(300, 236, 3)\n"
     ]
    },
    {
     "name": "stderr",
     "output_type": "stream",
     "text": [
      "  1%|          | 125/14000 [00:01<05:07, 45.16it/s]"
     ]
    },
    {
     "name": "stdout",
     "output_type": "stream",
     "text": [
      "(300, 257, 3)\n",
      "(300, 200, 3)\n",
      "(300, 236, 3)\n",
      "(300, 300, 3)\n",
      "(300, 158, 3)\n",
      "(301, 251, 3)\n",
      "(300, 236, 3)\n",
      "(300, 215, 3)\n"
     ]
    },
    {
     "name": "stderr",
     "output_type": "stream",
     "text": [
      "  1%|          | 136/14000 [00:01<05:10, 44.68it/s]"
     ]
    },
    {
     "name": "stdout",
     "output_type": "stream",
     "text": [
      "(300, 300, 3)\n",
      "(300, 221, 3)\n",
      "(300, 205, 3)\n",
      "(300, 207, 3)\n",
      "(300, 300, 3)\n",
      "(301, 244, 3)\n",
      "(300, 300, 3)\n",
      "(300, 200, 3)\n",
      "(225, 300, 3)\n",
      "(300, 200, 3)\n"
     ]
    },
    {
     "name": "stderr",
     "output_type": "stream",
     "text": [
      "\r",
      "  1%|          | 141/14000 [00:01<05:07, 45.04it/s]"
     ]
    },
    {
     "name": "stdout",
     "output_type": "stream",
     "text": [
      "(300, 225, 3)\n",
      "(300, 196, 3)\n",
      "(300, 196, 3)\n",
      "(300, 262, 3)\n",
      "(301, 205, 3)\n",
      "(300, 225, 3)\n",
      "(300, 296, 3)\n",
      "(300, 205, 3)\n",
      "(300, 240, 3)\n",
      "(300, 200, 3)\n"
     ]
    },
    {
     "name": "stderr",
     "output_type": "stream",
     "text": [
      "  1%|          | 152/14000 [00:02<06:10, 37.40it/s]"
     ]
    },
    {
     "name": "stdout",
     "output_type": "stream",
     "text": [
      "(300, 223, 3)\n",
      "(300, 236, 3)\n",
      "(300, 235, 3)\n",
      "(300, 200, 3)\n",
      "(300, 205, 3)\n",
      "(300, 236, 3)\n"
     ]
    },
    {
     "name": "stderr",
     "output_type": "stream",
     "text": [
      "  1%|          | 160/14000 [00:02<06:24, 36.01it/s]"
     ]
    },
    {
     "name": "stdout",
     "output_type": "stream",
     "text": [
      "(301, 244, 3)\n",
      "(300, 200, 3)\n",
      "(300, 200, 3)\n",
      "(300, 246, 3)\n",
      "(301, 205, 3)\n",
      "(300, 236, 3)\n",
      "(300, 200, 3)\n",
      "(301, 205, 3)\n"
     ]
    },
    {
     "name": "stderr",
     "output_type": "stream",
     "text": [
      "\r",
      "  1%|          | 164/14000 [00:02<06:46, 34.04it/s]"
     ]
    },
    {
     "name": "stdout",
     "output_type": "stream",
     "text": [
      "(300, 200, 3)\n",
      "(300, 300, 3)\n",
      "(300, 300, 3)\n",
      "(300, 236, 3)\n",
      "(300, 258, 3)\n",
      "(300, 236, 3)\n"
     ]
    },
    {
     "name": "stderr",
     "output_type": "stream",
     "text": [
      "  1%|          | 172/14000 [00:02<07:14, 31.81it/s]"
     ]
    },
    {
     "name": "stdout",
     "output_type": "stream",
     "text": [
      "(300, 208, 3)\n",
      "(300, 300, 3)\n",
      "(300, 201, 3)\n",
      "(300, 225, 3)\n",
      "(300, 248, 3)\n",
      "(301, 244, 3)\n",
      "(301, 205, 3)\n"
     ]
    },
    {
     "name": "stderr",
     "output_type": "stream",
     "text": [
      "  1%|▏         | 181/14000 [00:03<06:41, 34.42it/s]"
     ]
    },
    {
     "name": "stdout",
     "output_type": "stream",
     "text": [
      "(300, 205, 3)\n",
      "(300, 200, 3)\n",
      "(300, 205, 3)\n",
      "(300, 300, 3)\n",
      "(300, 196, 3)\n",
      "(301, 199, 3)\n",
      "(300, 300, 3)\n",
      "(300, 223, 3)\n",
      "(300, 205, 3)\n",
      "(300, 240, 3)\n"
     ]
    },
    {
     "name": "stderr",
     "output_type": "stream",
     "text": [
      "  1%|▏         | 190/14000 [00:03<06:05, 37.82it/s]"
     ]
    },
    {
     "name": "stdout",
     "output_type": "stream",
     "text": [
      "(300, 225, 3)\n",
      "(300, 236, 3)\n",
      "(300, 200, 3)\n",
      "(300, 236, 3)\n",
      "(300, 300, 3)\n",
      "(300, 205, 3)\n",
      "(301, 221, 3)\n"
     ]
    },
    {
     "name": "stderr",
     "output_type": "stream",
     "text": [
      "\r",
      "  1%|▏         | 194/14000 [00:03<07:44, 29.71it/s]"
     ]
    },
    {
     "name": "stdout",
     "output_type": "stream",
     "text": [
      "(300, 236, 3)\n",
      "(300, 200, 3)\n",
      "(300, 151, 3)\n",
      "(300, 200, 3)\n",
      "(300, 200, 3)\n",
      "(300, 225, 3)\n"
     ]
    },
    {
     "name": "stderr",
     "output_type": "stream",
     "text": [
      "  1%|▏         | 203/14000 [00:03<06:44, 34.08it/s]"
     ]
    },
    {
     "name": "stdout",
     "output_type": "stream",
     "text": [
      "(300, 300, 3)\n",
      "(300, 199, 3)\n",
      "(300, 196, 3)\n",
      "(300, 236, 3)\n",
      "(301, 244, 3)\n",
      "(301, 244, 3)\n",
      "(300, 205, 3)\n",
      "(300, 191, 3)\n",
      "(300, 200, 3)\n"
     ]
    },
    {
     "name": "stderr",
     "output_type": "stream",
     "text": [
      "  2%|▏         | 212/14000 [00:03<06:16, 36.62it/s]"
     ]
    },
    {
     "name": "stdout",
     "output_type": "stream",
     "text": [
      "(300, 236, 3)\n",
      "(301, 205, 3)\n",
      "(300, 207, 3)\n",
      "(300, 246, 3)\n",
      "(300, 205, 3)\n",
      "(300, 235, 3)\n",
      "(300, 200, 3)\n",
      "(301, 205, 3)\n",
      "(300, 225, 3)\n",
      "(300, 180, 3)\n"
     ]
    },
    {
     "name": "stderr",
     "output_type": "stream",
     "text": [
      "  2%|▏         | 222/14000 [00:04<05:35, 41.08it/s]"
     ]
    },
    {
     "name": "stdout",
     "output_type": "stream",
     "text": [
      "(300, 211, 3)\n",
      "(300, 205, 3)\n",
      "(300, 243, 3)\n",
      "(301, 205, 3)\n",
      "(300, 300, 3)\n",
      "(300, 191, 3)\n",
      "(288, 300, 3)\n",
      "(301, 225, 3)\n",
      "(300, 300, 3)\n",
      "(301, 205, 3)\n"
     ]
    },
    {
     "name": "stderr",
     "output_type": "stream",
     "text": [
      "  2%|▏         | 233/14000 [00:04<05:06, 44.94it/s]"
     ]
    },
    {
     "name": "stdout",
     "output_type": "stream",
     "text": [
      "(300, 300, 3)\n",
      "(300, 205, 3)\n",
      "(301, 235, 3)\n",
      "(300, 201, 3)\n",
      "(300, 262, 3)\n",
      "(300, 225, 3)\n",
      "(300, 258, 3)\n",
      "(300, 300, 3)\n",
      "(300, 200, 3)\n"
     ]
    },
    {
     "name": "stderr",
     "output_type": "stream",
     "text": [
      "\r",
      "  2%|▏         | 238/14000 [00:04<05:41, 40.26it/s]"
     ]
    },
    {
     "name": "stdout",
     "output_type": "stream",
     "text": [
      "(300, 201, 3)\n",
      "(300, 300, 3)\n",
      "(300, 225, 3)\n",
      "(300, 225, 3)\n",
      "(300, 205, 3)\n",
      "(300, 240, 3)\n",
      "(300, 231, 3)\n"
     ]
    },
    {
     "name": "stderr",
     "output_type": "stream",
     "text": [
      "  2%|▏         | 248/14000 [00:04<05:57, 38.45it/s]"
     ]
    },
    {
     "name": "stdout",
     "output_type": "stream",
     "text": [
      "(300, 219, 3)\n",
      "(300, 200, 3)\n",
      "(300, 188, 3)\n",
      "(300, 180, 3)\n",
      "(300, 208, 3)\n",
      "(300, 205, 3)\n",
      "(301, 201, 3)\n",
      "(300, 200, 3)\n"
     ]
    },
    {
     "name": "stderr",
     "output_type": "stream",
     "text": [
      "\r",
      "  2%|▏         | 252/14000 [00:04<05:57, 38.49it/s]"
     ]
    },
    {
     "name": "stdout",
     "output_type": "stream",
     "text": [
      "(300, 200, 3)\n",
      "(301, 201, 3)\n",
      "(300, 215, 3)\n",
      "(300, 236, 3)\n",
      "(300, 201, 3)\n",
      "(300, 200, 3)\n"
     ]
    },
    {
     "name": "stderr",
     "output_type": "stream",
     "text": [
      "  2%|▏         | 260/14000 [00:05<06:49, 33.58it/s]"
     ]
    },
    {
     "name": "stdout",
     "output_type": "stream",
     "text": [
      "(300, 236, 3)\n",
      "(300, 300, 3)\n",
      "(300, 221, 3)\n",
      "(300, 300, 3)\n",
      "(300, 300, 3)\n",
      "(300, 240, 3)\n",
      "(300, 250, 3)\n",
      "(300, 236, 3)\n"
     ]
    },
    {
     "name": "stderr",
     "output_type": "stream",
     "text": [
      "  2%|▏         | 270/14000 [00:05<05:51, 39.09it/s]"
     ]
    },
    {
     "name": "stdout",
     "output_type": "stream",
     "text": [
      "(300, 236, 3)\n",
      "(300, 190, 3)\n",
      "(300, 288, 3)\n",
      "(300, 300, 3)\n",
      "(300, 200, 3)\n",
      "(300, 257, 3)\n",
      "(300, 240, 3)\n",
      "(301, 200, 3)\n",
      "(300, 205, 3)\n",
      "(300, 231, 3)\n",
      "(300, 200, 3)\n",
      "(300, 225, 3)\n",
      "(300, 300, 3)\n"
     ]
    },
    {
     "name": "stderr",
     "output_type": "stream",
     "text": [
      "  2%|▏         | 282/14000 [00:05<06:08, 37.21it/s]"
     ]
    },
    {
     "name": "stdout",
     "output_type": "stream",
     "text": [
      "(300, 200, 3)\n",
      "(200, 300, 3)\n",
      "(300, 258, 3)\n",
      "(225, 300, 3)\n",
      "(300, 236, 3)\n",
      "(300, 200, 3)\n"
     ]
    },
    {
     "name": "stderr",
     "output_type": "stream",
     "text": [
      "\r",
      "  2%|▏         | 287/14000 [00:05<06:37, 34.48it/s]"
     ]
    },
    {
     "name": "stdout",
     "output_type": "stream",
     "text": [
      "(286, 301, 3)\n",
      "(300, 271, 3)\n",
      "(300, 237, 3)\n",
      "(262, 300, 3)\n",
      "(300, 200, 3)\n",
      "(300, 200, 3)\n"
     ]
    },
    {
     "name": "stderr",
     "output_type": "stream",
     "text": [
      "  2%|▏         | 295/14000 [00:06<06:59, 32.63it/s]"
     ]
    },
    {
     "name": "stdout",
     "output_type": "stream",
     "text": [
      "(202, 300, 3)\n",
      "(300, 205, 3)\n",
      "(300, 300, 3)\n",
      "(300, 241, 3)\n",
      "(300, 276, 3)\n",
      "(300, 300, 3)\n",
      "(300, 300, 3)\n"
     ]
    },
    {
     "name": "stderr",
     "output_type": "stream",
     "text": [
      "\r",
      "  2%|▏         | 299/14000 [00:06<07:06, 32.12it/s]"
     ]
    },
    {
     "name": "stdout",
     "output_type": "stream",
     "text": [
      "(300, 200, 3)\n",
      "(300, 200, 3)\n",
      "(300, 236, 3)\n",
      "(300, 235, 3)\n",
      "(300, 200, 3)\n",
      "(300, 196, 3)\n",
      "(300, 300, 3)\n"
     ]
    },
    {
     "name": "stderr",
     "output_type": "stream",
     "text": [
      "  2%|▏         | 307/14000 [00:06<07:06, 32.14it/s]"
     ]
    },
    {
     "name": "stdout",
     "output_type": "stream",
     "text": [
      "(301, 301, 3)\n",
      "(300, 210, 3)\n",
      "(238, 300, 3)\n",
      "(301, 205, 3)\n",
      "(300, 240, 3)\n",
      "(301, 238, 3)\n",
      "(300, 236, 3)\n",
      "(300, 210, 3)\n",
      "(300, 205, 3)\n"
     ]
    },
    {
     "name": "stderr",
     "output_type": "stream",
     "text": [
      "  2%|▏         | 317/14000 [00:06<06:23, 35.68it/s]"
     ]
    },
    {
     "name": "stdout",
     "output_type": "stream",
     "text": [
      "(300, 300, 3)\n",
      "(300, 200, 3)\n",
      "(225, 300, 3)\n",
      "(300, 300, 3)\n",
      "(300, 300, 3)\n",
      "(300, 236, 3)\n"
     ]
    },
    {
     "name": "stderr",
     "output_type": "stream",
     "text": [
      "\r",
      "  2%|▏         | 321/14000 [00:07<08:25, 27.05it/s]"
     ]
    },
    {
     "name": "stdout",
     "output_type": "stream",
     "text": [
      "(300, 231, 3)\n",
      "(300, 225, 3)\n",
      "(300, 246, 3)\n",
      "(300, 225, 3)\n",
      "(300, 198, 3)\n"
     ]
    },
    {
     "name": "stderr",
     "output_type": "stream",
     "text": [
      "\r",
      "  2%|▏         | 325/14000 [00:07<08:53, 25.65it/s]"
     ]
    },
    {
     "name": "stdout",
     "output_type": "stream",
     "text": [
      "(301, 251, 3)\n",
      "(300, 250, 3)\n",
      "(300, 255, 3)\n",
      "(300, 234, 3)\n",
      "(300, 205, 3)\n",
      "(301, 205, 3)\n",
      "(300, 300, 3)\n"
     ]
    },
    {
     "name": "stderr",
     "output_type": "stream",
     "text": [
      "  2%|▏         | 334/14000 [00:07<08:00, 28.42it/s]"
     ]
    },
    {
     "name": "stdout",
     "output_type": "stream",
     "text": [
      "(300, 300, 3)\n",
      "(300, 200, 3)\n",
      "(301, 201, 3)\n",
      "(300, 240, 3)\n",
      "(300, 174, 3)\n",
      "(301, 200, 3)\n",
      "(300, 300, 3)\n",
      "(300, 246, 3)\n"
     ]
    },
    {
     "name": "stderr",
     "output_type": "stream",
     "text": [
      "  2%|▏         | 341/14000 [00:07<09:37, 23.64it/s]"
     ]
    },
    {
     "name": "stdout",
     "output_type": "stream",
     "text": [
      "(300, 236, 3)\n",
      "(301, 244, 3)\n",
      "(300, 200, 3)\n",
      "(300, 236, 3)\n",
      "(300, 236, 3)\n",
      "(300, 300, 3)\n",
      "(300, 219, 3)\n",
      "(301, 225, 3)\n"
     ]
    },
    {
     "name": "stderr",
     "output_type": "stream",
     "text": [
      "  3%|▎         | 353/14000 [00:08<07:01, 32.36it/s]"
     ]
    },
    {
     "name": "stdout",
     "output_type": "stream",
     "text": [
      "(300, 225, 3)\n",
      "(300, 226, 3)\n",
      "(300, 300, 3)\n",
      "(301, 201, 3)\n",
      "(301, 301, 3)\n",
      "(300, 300, 3)\n",
      "(300, 225, 3)\n",
      "(300, 236, 3)\n",
      "(300, 250, 3)\n",
      "(300, 225, 3)\n",
      "(300, 225, 3)\n"
     ]
    },
    {
     "name": "stderr",
     "output_type": "stream",
     "text": [
      "  3%|▎         | 364/14000 [00:08<05:49, 38.98it/s]"
     ]
    },
    {
     "name": "stdout",
     "output_type": "stream",
     "text": [
      "(300, 248, 3)\n",
      "(300, 300, 3)\n",
      "(300, 300, 3)\n",
      "(301, 244, 3)\n",
      "(300, 236, 3)\n",
      "(300, 200, 3)\n",
      "(300, 285, 3)\n",
      "(300, 233, 3)\n",
      "(300, 200, 3)\n",
      "(300, 173, 3)\n"
     ]
    },
    {
     "name": "stderr",
     "output_type": "stream",
     "text": [
      "\r",
      "  3%|▎         | 369/14000 [00:08<05:43, 39.70it/s]"
     ]
    },
    {
     "name": "stdout",
     "output_type": "stream",
     "text": [
      "(301, 205, 3)\n",
      "(300, 200, 3)\n",
      "(300, 205, 3)\n",
      "(300, 236, 3)\n",
      "(300, 236, 3)\n",
      "(300, 200, 3)\n",
      "(300, 236, 3)\n"
     ]
    },
    {
     "name": "stderr",
     "output_type": "stream",
     "text": [
      "  3%|▎         | 379/14000 [00:08<05:54, 38.40it/s]"
     ]
    },
    {
     "name": "stdout",
     "output_type": "stream",
     "text": [
      "(301, 244, 3)\n",
      "(300, 208, 3)\n",
      "(300, 236, 3)\n",
      "(300, 236, 3)\n",
      "(300, 216, 3)\n",
      "(300, 224, 3)\n",
      "(300, 205, 3)\n",
      "(300, 205, 3)\n"
     ]
    },
    {
     "name": "stderr",
     "output_type": "stream",
     "text": [
      "\r",
      "  3%|▎         | 384/14000 [00:08<08:07, 27.93it/s]"
     ]
    },
    {
     "name": "stdout",
     "output_type": "stream",
     "text": [
      "(300, 237, 3)\n",
      "(300, 200, 3)\n",
      "(300, 300, 3)\n",
      "(300, 225, 3)\n",
      "(300, 188, 3)\n",
      "(300, 199, 3)\n",
      "(300, 250, 3)\n"
     ]
    },
    {
     "name": "stderr",
     "output_type": "stream",
     "text": [
      "  3%|▎         | 394/14000 [00:09<06:25, 35.26it/s]"
     ]
    },
    {
     "name": "stdout",
     "output_type": "stream",
     "text": [
      "(300, 200, 3)\n",
      "(300, 236, 3)\n",
      "(300, 225, 3)\n",
      "(300, 205, 3)\n",
      "(300, 300, 3)\n",
      "(300, 205, 3)\n",
      "(295, 300, 3)\n",
      "(301, 226, 3)\n",
      "(300, 209, 3)\n",
      "(300, 210, 3)\n"
     ]
    },
    {
     "name": "stderr",
     "output_type": "stream",
     "text": [
      "  3%|▎         | 404/14000 [00:09<06:39, 34.00it/s]"
     ]
    },
    {
     "name": "stdout",
     "output_type": "stream",
     "text": [
      "(300, 200, 3)\n",
      "(301, 301, 3)\n",
      "(300, 200, 3)\n",
      "(300, 300, 3)\n",
      "(300, 256, 3)\n",
      "(300, 200, 3)\n"
     ]
    },
    {
     "name": "stderr",
     "output_type": "stream",
     "text": [
      "\r",
      "  3%|▎         | 409/14000 [00:09<06:13, 36.41it/s]"
     ]
    },
    {
     "name": "stdout",
     "output_type": "stream",
     "text": [
      "(300, 225, 3)\n",
      "(300, 196, 3)\n",
      "(300, 258, 3)\n",
      "(300, 213, 3)\n",
      "(300, 200, 3)\n",
      "(300, 200, 3)\n",
      "(300, 205, 3)\n",
      "(300, 208, 3)\n",
      "(300, 236, 3)\n",
      "(301, 220, 3)\n"
     ]
    },
    {
     "name": "stderr",
     "output_type": "stream",
     "text": [
      "  3%|▎         | 420/14000 [00:09<05:35, 40.44it/s]"
     ]
    },
    {
     "name": "stdout",
     "output_type": "stream",
     "text": [
      "(300, 211, 3)\n",
      "(300, 257, 3)\n",
      "(200, 300, 3)\n",
      "(300, 240, 3)\n",
      "(300, 200, 3)\n",
      "(300, 236, 3)\n",
      "(300, 236, 3)\n",
      "(300, 200, 3)\n",
      "(300, 200, 3)\n"
     ]
    },
    {
     "name": "stderr",
     "output_type": "stream",
     "text": [
      "  3%|▎         | 430/14000 [00:10<05:27, 41.49it/s]"
     ]
    },
    {
     "name": "stdout",
     "output_type": "stream",
     "text": [
      "(300, 200, 3)\n",
      "(300, 201, 3)\n",
      "(300, 205, 3)\n",
      "(300, 191, 3)\n",
      "(300, 200, 3)\n",
      "(300, 236, 3)\n",
      "(300, 205, 3)\n",
      "(300, 200, 3)\n",
      "(301, 205, 3)\n"
     ]
    },
    {
     "name": "stderr",
     "output_type": "stream",
     "text": [
      "\r",
      "  3%|▎         | 435/14000 [00:10<05:19, 42.50it/s]"
     ]
    },
    {
     "name": "stdout",
     "output_type": "stream",
     "text": [
      "(301, 201, 3)\n",
      "(300, 200, 3)\n",
      "(300, 196, 3)\n",
      "(300, 205, 3)\n",
      "(300, 200, 3)\n",
      "(300, 258, 3)\n",
      "(300, 205, 3)\n"
     ]
    },
    {
     "name": "stderr",
     "output_type": "stream",
     "text": [
      "  3%|▎         | 445/14000 [00:10<05:50, 38.69it/s]"
     ]
    },
    {
     "name": "stdout",
     "output_type": "stream",
     "text": [
      "(300, 300, 3)\n",
      "(300, 206, 3)\n",
      "(300, 300, 3)\n",
      "(300, 236, 3)\n",
      "(300, 205, 3)\n",
      "(300, 210, 3)\n",
      "(300, 200, 3)\n",
      "(300, 200, 3)\n",
      "(300, 240, 3)\n",
      "(301, 201, 3)\n"
     ]
    },
    {
     "name": "stderr",
     "output_type": "stream",
     "text": [
      "  3%|▎         | 455/14000 [00:10<06:22, 35.45it/s]"
     ]
    },
    {
     "name": "stdout",
     "output_type": "stream",
     "text": [
      "(300, 225, 3)\n",
      "(300, 205, 3)\n",
      "(300, 205, 3)\n",
      "(300, 216, 3)\n",
      "(300, 205, 3)\n",
      "(300, 258, 3)\n"
     ]
    },
    {
     "name": "stderr",
     "output_type": "stream",
     "text": [
      "  3%|▎         | 464/14000 [00:11<06:06, 36.93it/s]"
     ]
    },
    {
     "name": "stdout",
     "output_type": "stream",
     "text": [
      "(300, 200, 3)\n",
      "(300, 234, 3)\n",
      "(300, 196, 3)\n",
      "(300, 200, 3)\n",
      "(300, 190, 3)\n",
      "(300, 225, 3)\n",
      "(300, 300, 3)\n",
      "(300, 226, 3)\n",
      "(300, 223, 3)\n",
      "(300, 258, 3)\n",
      "(300, 300, 3)\n",
      "(301, 191, 3)\n"
     ]
    },
    {
     "name": "stderr",
     "output_type": "stream",
     "text": [
      "\r",
      "  3%|▎         | 470/14000 [00:11<05:29, 41.05it/s]"
     ]
    },
    {
     "name": "stdout",
     "output_type": "stream",
     "text": [
      "(300, 246, 3)\n",
      "(300, 232, 3)\n",
      "(300, 300, 3)\n",
      "(300, 200, 3)\n",
      "(300, 300, 3)\n",
      "(300, 200, 3)\n"
     ]
    },
    {
     "name": "stderr",
     "output_type": "stream",
     "text": [
      "\r",
      "  3%|▎         | 475/14000 [00:11<06:08, 36.69it/s]"
     ]
    },
    {
     "name": "stdout",
     "output_type": "stream",
     "text": [
      "(300, 282, 3)\n",
      "(300, 179, 3)\n",
      "(300, 232, 3)\n",
      "(300, 258, 3)\n",
      "(300, 205, 3)\n"
     ]
    },
    {
     "name": "stderr",
     "output_type": "stream",
     "text": [
      "  3%|▎         | 483/14000 [00:11<07:25, 30.32it/s]"
     ]
    },
    {
     "name": "stdout",
     "output_type": "stream",
     "text": [
      "(300, 208, 3)\n",
      "(301, 199, 3)\n",
      "(300, 300, 3)\n",
      "(300, 240, 3)\n",
      "(301, 205, 3)\n",
      "(300, 200, 3)\n",
      "(300, 190, 3)\n",
      "(300, 231, 3)\n"
     ]
    },
    {
     "name": "stderr",
     "output_type": "stream",
     "text": [
      "  4%|▎         | 494/14000 [00:11<06:08, 36.64it/s]"
     ]
    },
    {
     "name": "stdout",
     "output_type": "stream",
     "text": [
      "(301, 244, 3)\n",
      "(300, 225, 3)\n",
      "(300, 200, 3)\n",
      "(300, 205, 3)\n",
      "(300, 205, 3)\n",
      "(300, 208, 3)\n",
      "(301, 205, 3)\n",
      "(300, 205, 3)\n"
     ]
    },
    {
     "name": "stderr",
     "output_type": "stream",
     "text": [
      "\r",
      "  4%|▎         | 499/14000 [00:12<06:24, 35.15it/s]"
     ]
    },
    {
     "name": "stdout",
     "output_type": "stream",
     "text": [
      "(300, 188, 3)\n",
      "(300, 205, 3)\n",
      "(300, 193, 3)\n",
      "(300, 276, 3)\n",
      "(301, 205, 3)\n",
      "(301, 199, 3)\n",
      "(300, 219, 3)\n",
      "(301, 201, 3)\n",
      "(300, 200, 3)\n"
     ]
    },
    {
     "name": "stderr",
     "output_type": "stream",
     "text": [
      "  4%|▎         | 508/14000 [00:12<07:38, 29.45it/s]"
     ]
    },
    {
     "name": "stdout",
     "output_type": "stream",
     "text": [
      "(300, 236, 3)\n",
      "(300, 200, 3)\n",
      "(300, 246, 3)\n",
      "(301, 201, 3)\n",
      "(300, 300, 3)\n",
      "(300, 300, 3)\n"
     ]
    },
    {
     "name": "stderr",
     "output_type": "stream",
     "text": [
      "  4%|▎         | 518/14000 [00:12<06:15, 35.86it/s]"
     ]
    },
    {
     "name": "stdout",
     "output_type": "stream",
     "text": [
      "(300, 200, 3)\n",
      "(300, 225, 3)\n",
      "(300, 231, 3)\n",
      "(300, 201, 3)\n",
      "(301, 205, 3)\n",
      "(301, 225, 3)\n",
      "(300, 300, 3)\n",
      "(300, 200, 3)\n",
      "(300, 254, 3)\n",
      "(300, 293, 3)\n"
     ]
    },
    {
     "name": "stderr",
     "output_type": "stream",
     "text": [
      "\r",
      "  4%|▎         | 523/14000 [00:12<05:47, 38.76it/s]"
     ]
    },
    {
     "name": "stdout",
     "output_type": "stream",
     "text": [
      "(301, 199, 3)\n",
      "(300, 174, 3)\n",
      "(300, 236, 3)\n",
      "(300, 300, 3)\n",
      "(300, 200, 3)\n",
      "(300, 200, 3)\n"
     ]
    },
    {
     "name": "stderr",
     "output_type": "stream",
     "text": [
      "  4%|▍         | 533/14000 [00:12<06:09, 36.49it/s]"
     ]
    },
    {
     "name": "stdout",
     "output_type": "stream",
     "text": [
      "(300, 186, 3)\n",
      "(300, 208, 3)\n",
      "(300, 200, 3)\n",
      "(300, 248, 3)\n",
      "(300, 200, 3)\n",
      "(300, 236, 3)\n",
      "(300, 205, 3)\n",
      "(300, 224, 3)\n",
      "(300, 200, 3)\n",
      "(300, 200, 3)\n"
     ]
    },
    {
     "name": "stderr",
     "output_type": "stream",
     "text": [
      "  4%|▍         | 542/14000 [00:13<05:46, 38.89it/s]"
     ]
    },
    {
     "name": "stdout",
     "output_type": "stream",
     "text": [
      "(233, 300, 3)\n",
      "(301, 205, 3)\n",
      "(300, 200, 3)\n",
      "(300, 300, 3)\n",
      "(301, 205, 3)\n",
      "(300, 220, 3)\n",
      "(300, 210, 3)\n",
      "(301, 205, 3)\n",
      "(300, 200, 3)\n"
     ]
    },
    {
     "name": "stderr",
     "output_type": "stream",
     "text": [
      "  4%|▍         | 552/14000 [00:13<05:25, 41.35it/s]"
     ]
    },
    {
     "name": "stdout",
     "output_type": "stream",
     "text": [
      "(301, 244, 3)\n",
      "(300, 213, 3)\n",
      "(300, 200, 3)\n",
      "(300, 200, 3)\n",
      "(300, 258, 3)\n",
      "(300, 200, 3)\n",
      "(300, 300, 3)\n",
      "(300, 236, 3)\n",
      "(300, 200, 3)\n"
     ]
    },
    {
     "name": "stderr",
     "output_type": "stream",
     "text": [
      "  4%|▍         | 562/14000 [00:13<05:13, 42.82it/s]"
     ]
    },
    {
     "name": "stdout",
     "output_type": "stream",
     "text": [
      "(301, 199, 3)\n",
      "(300, 258, 3)\n",
      "(300, 241, 3)\n",
      "(300, 202, 3)\n",
      "(300, 300, 3)\n",
      "(300, 226, 3)\n",
      "(300, 236, 3)\n",
      "(301, 244, 3)\n",
      "(300, 196, 3)\n",
      "(301, 205, 3)\n"
     ]
    },
    {
     "name": "stderr",
     "output_type": "stream",
     "text": [
      "  4%|▍         | 572/14000 [00:13<05:17, 42.28it/s]"
     ]
    },
    {
     "name": "stdout",
     "output_type": "stream",
     "text": [
      "(300, 210, 3)\n",
      "(301, 244, 3)\n",
      "(300, 151, 3)\n",
      "(300, 200, 3)\n",
      "(300, 205, 3)\n",
      "(300, 225, 3)\n",
      "(300, 240, 3)\n",
      "(301, 199, 3)\n",
      "(300, 201, 3)\n"
     ]
    },
    {
     "name": "stderr",
     "output_type": "stream",
     "text": [
      "\r",
      "  4%|▍         | 577/14000 [00:14<05:10, 43.29it/s]"
     ]
    },
    {
     "name": "stdout",
     "output_type": "stream",
     "text": [
      "(300, 199, 3)\n",
      "(300, 200, 3)\n",
      "(300, 205, 3)\n",
      "(300, 200, 3)\n",
      "(300, 210, 3)\n",
      "(300, 200, 3)\n",
      "(300, 200, 3)\n",
      "(300, 300, 3)\n",
      "(300, 208, 3)\n"
     ]
    },
    {
     "name": "stderr",
     "output_type": "stream",
     "text": [
      "  4%|▍         | 587/14000 [00:14<05:22, 41.54it/s]"
     ]
    },
    {
     "name": "stdout",
     "output_type": "stream",
     "text": [
      "(300, 200, 3)\n",
      "(300, 300, 3)\n",
      "(300, 300, 3)\n",
      "(300, 225, 3)\n",
      "(300, 236, 3)\n",
      "(300, 205, 3)\n",
      "(300, 258, 3)\n",
      "(300, 236, 3)\n",
      "(300, 205, 3)\n"
     ]
    },
    {
     "name": "stderr",
     "output_type": "stream",
     "text": [
      "  4%|▍         | 598/14000 [00:14<05:21, 41.72it/s]"
     ]
    },
    {
     "name": "stdout",
     "output_type": "stream",
     "text": [
      "(300, 258, 3)\n",
      "(300, 210, 3)\n",
      "(300, 250, 3)\n",
      "(300, 258, 3)\n",
      "(300, 205, 3)\n",
      "(300, 236, 3)\n",
      "(301, 205, 3)\n",
      "(300, 210, 3)\n"
     ]
    },
    {
     "name": "stderr",
     "output_type": "stream",
     "text": [
      "\r",
      "  4%|▍         | 603/14000 [00:14<05:24, 41.34it/s]"
     ]
    },
    {
     "name": "stdout",
     "output_type": "stream",
     "text": [
      "(300, 200, 3)\n",
      "(300, 205, 3)\n",
      "(300, 196, 3)\n",
      "(300, 300, 3)\n",
      "(300, 300, 3)\n",
      "(300, 200, 3)\n",
      "(300, 300, 3)\n",
      "(300, 205, 3)\n",
      "(301, 199, 3)\n"
     ]
    },
    {
     "name": "stderr",
     "output_type": "stream",
     "text": [
      "  4%|▍         | 613/14000 [00:14<05:14, 42.54it/s]"
     ]
    },
    {
     "name": "stdout",
     "output_type": "stream",
     "text": [
      "(300, 201, 3)\n",
      "(300, 169, 3)\n",
      "(300, 236, 3)\n",
      "(300, 205, 3)\n",
      "(300, 200, 3)\n",
      "(300, 205, 3)\n",
      "(300, 300, 3)\n",
      "(300, 235, 3)\n"
     ]
    },
    {
     "name": "stderr",
     "output_type": "stream",
     "text": [
      "  4%|▍         | 623/14000 [00:15<05:11, 42.97it/s]"
     ]
    },
    {
     "name": "stdout",
     "output_type": "stream",
     "text": [
      "(300, 286, 3)\n",
      "(300, 208, 3)\n",
      "(300, 208, 3)\n",
      "(300, 300, 3)\n",
      "(300, 205, 3)\n",
      "(300, 248, 3)\n",
      "(300, 200, 3)\n",
      "(300, 300, 3)\n",
      "(301, 205, 3)\n",
      "(300, 258, 3)\n"
     ]
    },
    {
     "name": "stderr",
     "output_type": "stream",
     "text": [
      "  5%|▍         | 633/14000 [00:15<04:59, 44.63it/s]"
     ]
    },
    {
     "name": "stdout",
     "output_type": "stream",
     "text": [
      "(300, 236, 3)\n",
      "(300, 201, 3)\n",
      "(300, 200, 3)\n",
      "(300, 205, 3)\n",
      "(300, 208, 3)\n",
      "(300, 236, 3)\n",
      "(300, 243, 3)\n",
      "(300, 221, 3)\n",
      "(300, 200, 3)\n"
     ]
    },
    {
     "name": "stderr",
     "output_type": "stream",
     "text": [
      "  5%|▍         | 644/14000 [00:15<04:39, 47.76it/s]"
     ]
    },
    {
     "name": "stdout",
     "output_type": "stream",
     "text": [
      "(300, 248, 3)\n",
      "(300, 225, 3)\n",
      "(300, 300, 3)\n",
      "(300, 200, 3)\n",
      "(300, 200, 3)\n",
      "(300, 200, 3)\n",
      "(300, 205, 3)\n",
      "(300, 205, 3)\n",
      "(300, 148, 3)\n",
      "(301, 205, 3)\n",
      "(300, 240, 3)\n"
     ]
    },
    {
     "name": "stderr",
     "output_type": "stream",
     "text": [
      "  5%|▍         | 654/14000 [00:15<04:42, 47.18it/s]"
     ]
    },
    {
     "name": "stdout",
     "output_type": "stream",
     "text": [
      "(300, 205, 3)\n",
      "(300, 205, 3)\n",
      "(300, 196, 3)\n",
      "(300, 225, 3)\n",
      "(300, 300, 3)\n",
      "(301, 221, 3)\n",
      "(300, 175, 3)\n",
      "(300, 205, 3)\n",
      "(300, 205, 3)\n",
      "(300, 300, 3)\n"
     ]
    },
    {
     "name": "stderr",
     "output_type": "stream",
     "text": [
      "  5%|▍         | 664/14000 [00:15<05:05, 43.68it/s]"
     ]
    },
    {
     "name": "stdout",
     "output_type": "stream",
     "text": [
      "(300, 231, 3)\n",
      "(300, 240, 3)\n",
      "(300, 200, 3)\n",
      "(300, 205, 3)\n",
      "(300, 201, 3)\n",
      "(300, 226, 3)\n",
      "(300, 224, 3)\n",
      "(300, 246, 3)\n",
      "(300, 258, 3)\n"
     ]
    },
    {
     "name": "stderr",
     "output_type": "stream",
     "text": [
      "  5%|▍         | 674/14000 [00:16<04:58, 44.70it/s]"
     ]
    },
    {
     "name": "stdout",
     "output_type": "stream",
     "text": [
      "(300, 300, 3)\n",
      "(300, 200, 3)\n",
      "(301, 205, 3)\n",
      "(300, 201, 3)\n",
      "(300, 300, 3)\n",
      "(300, 200, 3)\n",
      "(300, 247, 3)\n",
      "(300, 220, 3)\n",
      "(300, 236, 3)\n",
      "(300, 300, 3)\n"
     ]
    },
    {
     "name": "stderr",
     "output_type": "stream",
     "text": [
      "\r",
      "  5%|▍         | 679/14000 [00:16<04:59, 44.44it/s]"
     ]
    },
    {
     "name": "stdout",
     "output_type": "stream",
     "text": [
      "(300, 200, 3)\n",
      "(300, 205, 3)\n",
      "(300, 200, 3)\n",
      "(300, 200, 3)\n",
      "(301, 301, 3)\n",
      "(300, 200, 3)\n",
      "(301, 241, 3)\n",
      "(301, 205, 3)\n",
      "(300, 240, 3)\n"
     ]
    },
    {
     "name": "stderr",
     "output_type": "stream",
     "text": [
      "  5%|▍         | 689/14000 [00:16<05:09, 43.06it/s]"
     ]
    },
    {
     "name": "stdout",
     "output_type": "stream",
     "text": [
      "(300, 236, 3)\n",
      "(300, 300, 3)\n",
      "(300, 203, 3)\n",
      "(300, 250, 3)\n",
      "(300, 191, 3)\n",
      "(300, 300, 3)\n",
      "(301, 244, 3)\n",
      "(300, 196, 3)\n",
      "(301, 205, 3)\n"
     ]
    },
    {
     "name": "stderr",
     "output_type": "stream",
     "text": [
      "  5%|▍         | 699/14000 [00:16<05:02, 43.92it/s]"
     ]
    },
    {
     "name": "stdout",
     "output_type": "stream",
     "text": [
      "(300, 208, 3)\n",
      "(300, 215, 3)\n",
      "(300, 200, 3)\n",
      "(300, 216, 3)\n",
      "(300, 216, 3)\n",
      "(300, 258, 3)\n",
      "(300, 238, 3)\n",
      "(300, 236, 3)\n",
      "(300, 200, 3)\n"
     ]
    },
    {
     "name": "stderr",
     "output_type": "stream",
     "text": [
      "  5%|▌         | 709/14000 [00:17<04:58, 44.59it/s]"
     ]
    },
    {
     "name": "stdout",
     "output_type": "stream",
     "text": [
      "(300, 180, 3)\n",
      "(300, 205, 3)\n",
      "(300, 205, 3)\n",
      "(300, 300, 3)\n",
      "(300, 258, 3)\n",
      "(300, 210, 3)\n",
      "(300, 231, 3)\n",
      "(300, 231, 3)\n",
      "(300, 167, 3)\n",
      "(300, 236, 3)\n"
     ]
    },
    {
     "name": "stderr",
     "output_type": "stream",
     "text": [
      "  5%|▌         | 720/14000 [00:17<04:40, 47.38it/s]"
     ]
    },
    {
     "name": "stdout",
     "output_type": "stream",
     "text": [
      "(300, 300, 3)\n",
      "(301, 244, 3)\n",
      "(300, 223, 3)\n",
      "(300, 223, 3)\n",
      "(300, 205, 3)\n",
      "(300, 205, 3)\n",
      "(300, 236, 3)\n",
      "(300, 225, 3)\n",
      "(300, 225, 3)\n",
      "(300, 225, 3)\n",
      "(300, 300, 3)\n"
     ]
    },
    {
     "name": "stderr",
     "output_type": "stream",
     "text": [
      "  5%|▌         | 730/14000 [00:17<05:03, 43.76it/s]"
     ]
    },
    {
     "name": "stdout",
     "output_type": "stream",
     "text": [
      "(300, 208, 3)\n",
      "(300, 230, 3)\n",
      "(300, 258, 3)\n",
      "(300, 226, 3)\n",
      "(300, 205, 3)\n",
      "(301, 244, 3)\n",
      "(300, 219, 3)\n",
      "(301, 205, 3)\n"
     ]
    },
    {
     "name": "stderr",
     "output_type": "stream",
     "text": [
      "\r",
      "  5%|▌         | 735/14000 [00:17<04:55, 44.83it/s]"
     ]
    },
    {
     "name": "stdout",
     "output_type": "stream",
     "text": [
      "(300, 300, 3)\n",
      "(300, 236, 3)\n",
      "(300, 236, 3)\n",
      "(300, 200, 3)\n",
      "(300, 179, 3)\n",
      "(300, 200, 3)\n",
      "(301, 199, 3)\n",
      "(300, 180, 3)\n",
      "(300, 225, 3)\n",
      "(301, 292, 3)\n"
     ]
    },
    {
     "name": "stderr",
     "output_type": "stream",
     "text": [
      "  5%|▌         | 746/14000 [00:17<04:52, 45.27it/s]"
     ]
    },
    {
     "name": "stdout",
     "output_type": "stream",
     "text": [
      "(300, 170, 3)\n",
      "(300, 223, 3)\n",
      "(300, 208, 3)\n",
      "(300, 236, 3)\n",
      "(300, 300, 3)\n",
      "(300, 236, 3)\n",
      "(300, 188, 3)\n",
      "(300, 300, 3)\n",
      "(300, 200, 3)\n"
     ]
    },
    {
     "name": "stderr",
     "output_type": "stream",
     "text": [
      "  5%|▌         | 757/14000 [00:18<04:44, 46.58it/s]"
     ]
    },
    {
     "name": "stdout",
     "output_type": "stream",
     "text": [
      "(300, 219, 3)\n",
      "(300, 236, 3)\n",
      "(300, 196, 3)\n",
      "(301, 201, 3)\n",
      "(300, 201, 3)\n",
      "(300, 196, 3)\n",
      "(300, 200, 3)\n",
      "(300, 205, 3)\n",
      "(300, 204, 3)\n",
      "(300, 196, 3)\n",
      "(300, 200, 3)\n"
     ]
    },
    {
     "name": "stderr",
     "output_type": "stream",
     "text": [
      "  5%|▌         | 767/14000 [00:18<04:47, 46.08it/s]"
     ]
    },
    {
     "name": "stdout",
     "output_type": "stream",
     "text": [
      "(300, 236, 3)\n",
      "(300, 205, 3)\n",
      "(300, 201, 3)\n",
      "(300, 205, 3)\n",
      "(300, 205, 3)\n",
      "(300, 205, 3)\n",
      "(300, 300, 3)\n",
      "(301, 225, 3)\n",
      "(300, 243, 3)\n",
      "(300, 300, 3)\n"
     ]
    },
    {
     "name": "stderr",
     "output_type": "stream",
     "text": [
      "  6%|▌         | 777/14000 [00:18<04:47, 46.07it/s]"
     ]
    },
    {
     "name": "stdout",
     "output_type": "stream",
     "text": [
      "(300, 205, 3)\n",
      "(300, 201, 3)\n",
      "(300, 246, 3)\n",
      "(300, 205, 3)\n",
      "(300, 185, 3)\n",
      "(300, 225, 3)\n",
      "(300, 205, 3)\n",
      "(300, 258, 3)\n",
      "(300, 196, 3)\n",
      "(300, 236, 3)\n"
     ]
    },
    {
     "name": "stderr",
     "output_type": "stream",
     "text": [
      "  6%|▌         | 787/14000 [00:18<04:54, 44.88it/s]"
     ]
    },
    {
     "name": "stdout",
     "output_type": "stream",
     "text": [
      "(300, 205, 3)\n",
      "(225, 300, 3)\n",
      "(300, 225, 3)\n",
      "(300, 200, 3)\n",
      "(301, 244, 3)\n",
      "(300, 225, 3)\n",
      "(300, 207, 3)\n",
      "(300, 236, 3)\n",
      "(300, 225, 3)\n"
     ]
    },
    {
     "name": "stderr",
     "output_type": "stream",
     "text": [
      "  6%|▌         | 797/14000 [00:18<05:07, 42.95it/s]"
     ]
    },
    {
     "name": "stdout",
     "output_type": "stream",
     "text": [
      "(300, 205, 3)\n",
      "(300, 257, 3)\n",
      "(300, 300, 3)\n",
      "(300, 200, 3)\n",
      "(300, 205, 3)\n",
      "(300, 199, 3)\n",
      "(300, 205, 3)\n",
      "(225, 300, 3)\n",
      "(301, 205, 3)\n"
     ]
    },
    {
     "name": "stderr",
     "output_type": "stream",
     "text": [
      "  6%|▌         | 808/14000 [00:19<04:44, 46.30it/s]"
     ]
    },
    {
     "name": "stdout",
     "output_type": "stream",
     "text": [
      "(301, 201, 3)\n",
      "(300, 200, 3)\n",
      "(300, 236, 3)\n",
      "(300, 300, 3)\n",
      "(301, 301, 3)\n",
      "(300, 200, 3)\n",
      "(300, 200, 3)\n",
      "(300, 300, 3)\n",
      "(300, 200, 3)\n",
      "(300, 200, 3)\n"
     ]
    },
    {
     "name": "stderr",
     "output_type": "stream",
     "text": [
      "\r",
      "  6%|▌         | 813/14000 [00:19<04:56, 44.43it/s]"
     ]
    },
    {
     "name": "stdout",
     "output_type": "stream",
     "text": [
      "(300, 300, 3)\n",
      "(300, 200, 3)\n",
      "(300, 240, 3)\n",
      "(301, 205, 3)\n",
      "(300, 300, 3)\n",
      "(300, 191, 3)\n",
      "(300, 200, 3)\n",
      "(300, 236, 3)\n",
      "(300, 240, 3)\n",
      "(300, 215, 3)\n"
     ]
    },
    {
     "name": "stderr",
     "output_type": "stream",
     "text": [
      "  6%|▌         | 824/14000 [00:19<04:59, 43.99it/s]"
     ]
    },
    {
     "name": "stdout",
     "output_type": "stream",
     "text": [
      "(300, 246, 3)\n",
      "(300, 236, 3)\n",
      "(300, 200, 3)\n",
      "(300, 209, 3)\n",
      "(300, 200, 3)\n",
      "(300, 240, 3)\n",
      "(300, 221, 3)\n",
      "(300, 201, 3)\n"
     ]
    },
    {
     "name": "stderr",
     "output_type": "stream",
     "text": [
      "  6%|▌         | 834/14000 [00:19<05:17, 41.43it/s]"
     ]
    },
    {
     "name": "stdout",
     "output_type": "stream",
     "text": [
      "(300, 225, 3)\n",
      "(300, 238, 3)\n",
      "(300, 220, 3)\n",
      "(300, 300, 3)\n",
      "(300, 300, 3)\n",
      "(300, 178, 3)\n",
      "(300, 200, 3)\n",
      "(300, 236, 3)\n",
      "(300, 300, 3)\n"
     ]
    },
    {
     "name": "stderr",
     "output_type": "stream",
     "text": [
      "  6%|▌         | 845/14000 [00:20<04:51, 45.18it/s]"
     ]
    },
    {
     "name": "stdout",
     "output_type": "stream",
     "text": [
      "(301, 244, 3)\n",
      "(300, 205, 3)\n",
      "(300, 205, 3)\n",
      "(300, 200, 3)\n",
      "(300, 300, 3)\n",
      "(300, 225, 3)\n",
      "(300, 205, 3)\n",
      "(300, 225, 3)\n",
      "(300, 200, 3)\n",
      "(300, 195, 3)\n"
     ]
    },
    {
     "name": "stderr",
     "output_type": "stream",
     "text": [
      "\r",
      "  6%|▌         | 850/14000 [00:20<04:51, 45.08it/s]"
     ]
    },
    {
     "name": "stdout",
     "output_type": "stream",
     "text": [
      "(301, 244, 3)\n",
      "(300, 210, 3)\n",
      "(300, 200, 3)\n",
      "(300, 228, 3)\n",
      "(300, 200, 3)\n",
      "(300, 300, 3)\n",
      "(300, 240, 3)\n",
      "(300, 205, 3)\n",
      "(300, 236, 3)\n"
     ]
    },
    {
     "name": "stderr",
     "output_type": "stream",
     "text": [
      "  6%|▌         | 862/14000 [00:20<04:33, 48.07it/s]"
     ]
    },
    {
     "name": "stdout",
     "output_type": "stream",
     "text": [
      "(300, 300, 3)\n",
      "(300, 250, 3)\n",
      "(300, 200, 3)\n",
      "(300, 225, 3)\n",
      "(300, 210, 3)\n",
      "(300, 210, 3)\n",
      "(300, 208, 3)\n",
      "(300, 300, 3)\n",
      "(301, 238, 3)\n",
      "(300, 300, 3)\n",
      "(300, 236, 3)\n"
     ]
    },
    {
     "name": "stderr",
     "output_type": "stream",
     "text": [
      "  6%|▌         | 872/14000 [00:20<04:52, 44.92it/s]"
     ]
    },
    {
     "name": "stdout",
     "output_type": "stream",
     "text": [
      "(300, 225, 3)\n",
      "(300, 236, 3)\n",
      "(301, 205, 3)\n",
      "(300, 205, 3)\n",
      "(301, 199, 3)\n",
      "(300, 200, 3)\n",
      "(300, 225, 3)\n",
      "(300, 205, 3)\n",
      "(225, 300, 3)\n"
     ]
    },
    {
     "name": "stderr",
     "output_type": "stream",
     "text": [
      "  6%|▋         | 882/14000 [00:20<04:53, 44.65it/s]"
     ]
    },
    {
     "name": "stdout",
     "output_type": "stream",
     "text": [
      "(300, 200, 3)\n",
      "(301, 205, 3)\n",
      "(300, 200, 3)\n",
      "(300, 205, 3)\n",
      "(300, 196, 3)\n",
      "(300, 250, 3)\n",
      "(300, 139, 3)\n",
      "(300, 236, 3)\n",
      "(300, 199, 3)\n"
     ]
    },
    {
     "name": "stderr",
     "output_type": "stream",
     "text": [
      "  6%|▋         | 892/14000 [00:21<04:58, 43.94it/s]"
     ]
    },
    {
     "name": "stdout",
     "output_type": "stream",
     "text": [
      "(300, 300, 3)\n",
      "(300, 300, 3)\n",
      "(300, 205, 3)\n",
      "(300, 300, 3)\n",
      "(300, 210, 3)\n",
      "(300, 300, 3)\n",
      "(300, 196, 3)\n",
      "(300, 204, 3)\n",
      "(301, 228, 3)\n"
     ]
    },
    {
     "name": "stderr",
     "output_type": "stream",
     "text": [
      "\r",
      "  6%|▋         | 897/14000 [00:21<05:04, 43.10it/s]"
     ]
    },
    {
     "name": "stdout",
     "output_type": "stream",
     "text": [
      "(300, 225, 3)\n",
      "(300, 240, 3)\n",
      "(300, 300, 3)\n",
      "(300, 196, 3)\n",
      "(300, 250, 3)\n",
      "(300, 205, 3)\n",
      "(301, 201, 3)\n",
      "(300, 150, 3)\n",
      "(300, 250, 3)\n"
     ]
    },
    {
     "name": "stderr",
     "output_type": "stream",
     "text": [
      "  6%|▋         | 907/14000 [00:21<05:18, 41.13it/s]"
     ]
    },
    {
     "name": "stdout",
     "output_type": "stream",
     "text": [
      "(300, 236, 3)\n",
      "(300, 200, 3)\n",
      "(300, 205, 3)\n",
      "(301, 205, 3)\n",
      "(300, 300, 3)\n",
      "(300, 200, 3)\n",
      "(301, 205, 3)\n",
      "(300, 200, 3)\n"
     ]
    },
    {
     "name": "stderr",
     "output_type": "stream",
     "text": [
      "  7%|▋         | 917/14000 [00:21<05:16, 41.40it/s]"
     ]
    },
    {
     "name": "stdout",
     "output_type": "stream",
     "text": [
      "(300, 200, 3)\n",
      "(301, 226, 3)\n",
      "(300, 246, 3)\n",
      "(300, 205, 3)\n",
      "(300, 223, 3)\n",
      "(301, 200, 3)\n",
      "(300, 236, 3)\n",
      "(300, 243, 3)\n",
      "(300, 234, 3)\n"
     ]
    },
    {
     "name": "stderr",
     "output_type": "stream",
     "text": [
      "  7%|▋         | 926/14000 [00:21<05:33, 39.26it/s]"
     ]
    },
    {
     "name": "stdout",
     "output_type": "stream",
     "text": [
      "(300, 200, 3)\n",
      "(300, 200, 3)\n",
      "(300, 225, 3)\n",
      "(300, 300, 3)\n",
      "(300, 236, 3)\n",
      "(300, 236, 3)\n",
      "(300, 205, 3)\n",
      "(300, 218, 3)\n"
     ]
    },
    {
     "name": "stderr",
     "output_type": "stream",
     "text": [
      "\r",
      "  7%|▋         | 930/14000 [00:22<05:42, 38.12it/s]"
     ]
    },
    {
     "name": "stdout",
     "output_type": "stream",
     "text": [
      "(300, 300, 3)\n",
      "(300, 216, 3)\n",
      "(300, 229, 3)\n",
      "(300, 300, 3)\n",
      "(300, 200, 3)\n",
      "(300, 208, 3)\n",
      "(301, 244, 3)\n",
      "(300, 300, 3)\n"
     ]
    },
    {
     "name": "stderr",
     "output_type": "stream",
     "text": [
      "  7%|▋         | 940/14000 [00:22<05:17, 41.15it/s]"
     ]
    },
    {
     "name": "stdout",
     "output_type": "stream",
     "text": [
      "(301, 235, 3)\n",
      "(300, 233, 3)\n",
      "(300, 246, 3)\n",
      "(300, 200, 3)\n",
      "(300, 208, 3)\n",
      "(300, 257, 3)\n",
      "(301, 244, 3)\n",
      "(300, 300, 3)\n",
      "(300, 196, 3)\n",
      "(301, 201, 3)\n"
     ]
    },
    {
     "name": "stderr",
     "output_type": "stream",
     "text": [
      "  7%|▋         | 950/14000 [00:22<05:19, 40.80it/s]"
     ]
    },
    {
     "name": "stdout",
     "output_type": "stream",
     "text": [
      "(301, 199, 3)\n",
      "(301, 201, 3)\n",
      "(300, 200, 3)\n",
      "(300, 200, 3)\n",
      "(301, 244, 3)\n",
      "(300, 300, 3)\n",
      "(300, 200, 3)\n",
      "(300, 210, 3)\n",
      "(300, 208, 3)\n"
     ]
    },
    {
     "name": "stderr",
     "output_type": "stream",
     "text": [
      "  7%|▋         | 960/14000 [00:22<04:54, 44.30it/s]"
     ]
    },
    {
     "name": "stdout",
     "output_type": "stream",
     "text": [
      "(300, 205, 3)\n",
      "(300, 200, 3)\n",
      "(300, 205, 3)\n",
      "(300, 170, 3)\n",
      "(301, 205, 3)\n",
      "(300, 225, 3)\n",
      "(300, 240, 3)\n",
      "(301, 299, 3)\n",
      "(301, 201, 3)\n",
      "(300, 210, 3)\n"
     ]
    },
    {
     "name": "stderr",
     "output_type": "stream",
     "text": [
      "  7%|▋         | 970/14000 [00:22<05:03, 42.97it/s]"
     ]
    },
    {
     "name": "stdout",
     "output_type": "stream",
     "text": [
      "(300, 200, 3)\n",
      "(300, 190, 3)\n",
      "(300, 300, 3)\n",
      "(300, 300, 3)\n",
      "(300, 215, 3)\n",
      "(300, 236, 3)\n",
      "(300, 258, 3)\n",
      "(300, 200, 3)\n",
      "(301, 169, 3)\n"
     ]
    },
    {
     "name": "stderr",
     "output_type": "stream",
     "text": [
      "  7%|▋         | 981/14000 [00:23<04:56, 43.94it/s]"
     ]
    },
    {
     "name": "stdout",
     "output_type": "stream",
     "text": [
      "(300, 236, 3)\n",
      "(300, 236, 3)\n",
      "(300, 205, 3)\n",
      "(300, 170, 3)\n",
      "(300, 238, 3)\n",
      "(300, 200, 3)\n",
      "(300, 200, 3)\n",
      "(300, 205, 3)\n",
      "(300, 236, 3)\n"
     ]
    },
    {
     "name": "stderr",
     "output_type": "stream",
     "text": [
      "\r",
      "  7%|▋         | 986/14000 [00:23<05:07, 42.37it/s]"
     ]
    },
    {
     "name": "stdout",
     "output_type": "stream",
     "text": [
      "(300, 200, 3)\n",
      "(300, 219, 3)\n",
      "(225, 300, 3)\n",
      "(300, 258, 3)\n",
      "(300, 205, 3)\n",
      "(300, 236, 3)\n",
      "(301, 225, 3)\n",
      "(300, 205, 3)\n",
      "(300, 238, 3)\n"
     ]
    },
    {
     "name": "stderr",
     "output_type": "stream",
     "text": [
      "  7%|▋         | 996/14000 [00:23<04:55, 43.95it/s]"
     ]
    },
    {
     "name": "stdout",
     "output_type": "stream",
     "text": [
      "(300, 300, 3)\n",
      "(300, 201, 3)\n",
      "(300, 300, 3)\n",
      "(300, 196, 3)\n",
      "(300, 208, 3)\n",
      "(301, 201, 3)\n",
      "(300, 258, 3)\n",
      "(300, 200, 3)\n",
      "(301, 199, 3)\n",
      "(300, 226, 3)\n"
     ]
    },
    {
     "name": "stderr",
     "output_type": "stream",
     "text": [
      "  7%|▋         | 1006/14000 [00:23<05:01, 43.06it/s]"
     ]
    },
    {
     "name": "stdout",
     "output_type": "stream",
     "text": [
      "(300, 300, 3)\n",
      "(300, 205, 3)\n",
      "(301, 205, 3)\n",
      "(300, 223, 3)\n",
      "(301, 205, 3)\n",
      "(301, 205, 3)\n",
      "(300, 196, 3)\n",
      "(301, 199, 3)\n",
      "(300, 200, 3)\n"
     ]
    },
    {
     "name": "stderr",
     "output_type": "stream",
     "text": [
      "  7%|▋         | 1016/14000 [00:23<05:12, 41.54it/s]"
     ]
    },
    {
     "name": "stdout",
     "output_type": "stream",
     "text": [
      "(300, 300, 3)\n",
      "(300, 200, 3)\n",
      "(301, 205, 3)\n",
      "(300, 300, 3)\n",
      "(300, 208, 3)\n",
      "(300, 300, 3)\n",
      "(301, 205, 3)\n",
      "(300, 200, 3)\n",
      "(300, 300, 3)\n"
     ]
    },
    {
     "name": "stderr",
     "output_type": "stream",
     "text": [
      "  7%|▋         | 1027/14000 [00:24<04:39, 46.33it/s]"
     ]
    },
    {
     "name": "stdout",
     "output_type": "stream",
     "text": [
      "(300, 225, 3)\n",
      "(300, 209, 3)\n",
      "(300, 200, 3)\n",
      "(300, 205, 3)\n",
      "(300, 236, 3)\n",
      "(300, 225, 3)\n",
      "(300, 246, 3)\n",
      "(300, 215, 3)\n",
      "(300, 240, 3)\n",
      "(300, 205, 3)\n"
     ]
    },
    {
     "name": "stderr",
     "output_type": "stream",
     "text": [
      "  7%|▋         | 1037/14000 [00:24<04:53, 44.15it/s]"
     ]
    },
    {
     "name": "stdout",
     "output_type": "stream",
     "text": [
      "(300, 240, 3)\n",
      "(300, 181, 3)\n",
      "(300, 300, 3)\n",
      "(300, 200, 3)\n",
      "(300, 190, 3)\n",
      "(300, 236, 3)\n",
      "(268, 300, 3)\n",
      "(300, 300, 3)\n",
      "(300, 200, 3)\n",
      "(300, 200, 3)\n"
     ]
    },
    {
     "name": "stderr",
     "output_type": "stream",
     "text": [
      "  7%|▋         | 1047/14000 [00:24<04:43, 45.72it/s]"
     ]
    },
    {
     "name": "stdout",
     "output_type": "stream",
     "text": [
      "(300, 300, 3)\n",
      "(301, 237, 3)\n",
      "(300, 196, 3)\n",
      "(300, 200, 3)\n",
      "(300, 208, 3)\n",
      "(300, 206, 3)\n",
      "(300, 205, 3)\n",
      "(300, 221, 3)\n",
      "(300, 300, 3)\n",
      "(300, 200, 3)\n"
     ]
    },
    {
     "name": "stderr",
     "output_type": "stream",
     "text": [
      "  8%|▊         | 1057/14000 [00:24<04:50, 44.48it/s]"
     ]
    },
    {
     "name": "stdout",
     "output_type": "stream",
     "text": [
      "(300, 169, 3)\n",
      "(254, 300, 3)\n",
      "(300, 164, 3)\n",
      "(300, 225, 3)\n",
      "(300, 170, 3)\n",
      "(300, 225, 3)\n",
      "(300, 300, 3)\n",
      "(300, 200, 3)\n",
      "(300, 300, 3)\n"
     ]
    },
    {
     "name": "stderr",
     "output_type": "stream",
     "text": [
      "  8%|▊         | 1067/14000 [00:25<04:40, 46.04it/s]"
     ]
    },
    {
     "name": "stdout",
     "output_type": "stream",
     "text": [
      "(300, 197, 3)\n",
      "(300, 225, 3)\n",
      "(301, 205, 3)\n",
      "(300, 200, 3)\n",
      "(301, 201, 3)\n",
      "(300, 205, 3)\n",
      "(300, 249, 3)\n",
      "(300, 200, 3)\n",
      "(300, 214, 3)\n",
      "(300, 240, 3)\n"
     ]
    },
    {
     "name": "stderr",
     "output_type": "stream",
     "text": [
      "\r",
      "  8%|▊         | 1072/14000 [00:25<04:57, 43.39it/s]"
     ]
    },
    {
     "name": "stdout",
     "output_type": "stream",
     "text": [
      "(300, 246, 3)\n",
      "(300, 300, 3)\n",
      "(300, 200, 3)\n",
      "(300, 231, 3)\n",
      "(300, 200, 3)\n",
      "(300, 200, 3)\n",
      "(300, 250, 3)\n",
      "(300, 200, 3)\n"
     ]
    },
    {
     "name": "stderr",
     "output_type": "stream",
     "text": [
      "  8%|▊         | 1082/14000 [00:25<04:59, 43.10it/s]"
     ]
    },
    {
     "name": "stdout",
     "output_type": "stream",
     "text": [
      "(300, 200, 3)\n",
      "(300, 177, 3)\n",
      "(300, 300, 3)\n",
      "(300, 225, 3)\n",
      "(300, 200, 3)\n",
      "(189, 300, 3)\n",
      "(300, 200, 3)\n",
      "(300, 258, 3)\n",
      "(301, 205, 3)\n"
     ]
    },
    {
     "name": "stderr",
     "output_type": "stream",
     "text": [
      "  8%|▊         | 1092/14000 [00:25<05:07, 42.00it/s]"
     ]
    },
    {
     "name": "stdout",
     "output_type": "stream",
     "text": [
      "(300, 205, 3)\n",
      "(300, 236, 3)\n",
      "(300, 196, 3)\n",
      "(301, 301, 3)\n",
      "(300, 300, 3)\n",
      "(300, 230, 3)\n",
      "(301, 205, 3)\n",
      "(300, 257, 3)\n",
      "(300, 201, 3)\n"
     ]
    },
    {
     "name": "stderr",
     "output_type": "stream",
     "text": [
      "  8%|▊         | 1104/14000 [00:25<04:41, 45.81it/s]"
     ]
    },
    {
     "name": "stdout",
     "output_type": "stream",
     "text": [
      "(300, 236, 3)\n",
      "(300, 260, 3)\n",
      "(301, 301, 3)\n",
      "(300, 211, 3)\n",
      "(301, 226, 3)\n",
      "(300, 238, 3)\n",
      "(301, 205, 3)\n",
      "(300, 257, 3)\n",
      "(300, 201, 3)\n",
      "(300, 202, 3)\n",
      "(300, 200, 3)\n"
     ]
    },
    {
     "name": "stderr",
     "output_type": "stream",
     "text": [
      "  8%|▊         | 1115/14000 [00:26<04:21, 49.19it/s]"
     ]
    },
    {
     "name": "stdout",
     "output_type": "stream",
     "text": [
      "(300, 219, 3)\n",
      "(300, 205, 3)\n",
      "(300, 200, 3)\n",
      "(301, 201, 3)\n",
      "(300, 258, 3)\n",
      "(300, 165, 3)\n",
      "(300, 200, 3)\n",
      "(300, 225, 3)\n",
      "(300, 205, 3)\n",
      "(300, 208, 3)\n",
      "(300, 234, 3)\n"
     ]
    },
    {
     "name": "stderr",
     "output_type": "stream",
     "text": [
      "\r",
      "  8%|▊         | 1121/14000 [00:26<04:21, 49.24it/s]"
     ]
    },
    {
     "name": "stdout",
     "output_type": "stream",
     "text": [
      "(300, 225, 3)\n",
      "(300, 246, 3)\n",
      "(300, 300, 3)\n",
      "(301, 244, 3)\n",
      "(300, 223, 3)\n",
      "(300, 236, 3)\n",
      "(158, 300, 3)\n",
      "(300, 219, 3)\n",
      "(300, 200, 3)\n",
      "(300, 200, 3)\n"
     ]
    },
    {
     "name": "stderr",
     "output_type": "stream",
     "text": [
      "  8%|▊         | 1131/14000 [00:26<04:43, 45.32it/s]"
     ]
    },
    {
     "name": "stdout",
     "output_type": "stream",
     "text": [
      "(300, 300, 3)\n",
      "(300, 240, 3)\n",
      "(300, 225, 3)\n",
      "(300, 196, 3)\n",
      "(300, 205, 3)\n",
      "(300, 200, 3)\n",
      "(300, 236, 3)\n",
      "(300, 178, 3)\n",
      "(300, 210, 3)\n",
      "(300, 205, 3)\n"
     ]
    },
    {
     "name": "stderr",
     "output_type": "stream",
     "text": [
      "  8%|▊         | 1141/14000 [00:26<04:38, 46.14it/s]"
     ]
    },
    {
     "name": "stdout",
     "output_type": "stream",
     "text": [
      "(300, 200, 3)\n",
      "(301, 205, 3)\n",
      "(300, 205, 3)\n",
      "(300, 200, 3)\n",
      "(300, 210, 3)\n",
      "(300, 190, 3)\n",
      "(301, 288, 3)\n",
      "(300, 248, 3)\n",
      "(300, 300, 3)\n",
      "(301, 205, 3)\n"
     ]
    },
    {
     "name": "stderr",
     "output_type": "stream",
     "text": [
      "  8%|▊         | 1151/14000 [00:26<04:36, 46.46it/s]"
     ]
    },
    {
     "name": "stdout",
     "output_type": "stream",
     "text": [
      "(300, 300, 3)\n",
      "(300, 300, 3)\n",
      "(300, 175, 3)\n",
      "(300, 300, 3)\n",
      "(300, 226, 3)\n",
      "(300, 200, 3)\n",
      "(300, 208, 3)\n",
      "(300, 240, 3)\n",
      "(300, 225, 3)\n",
      "(301, 301, 3)\n"
     ]
    },
    {
     "name": "stderr",
     "output_type": "stream",
     "text": [
      "  8%|▊         | 1161/14000 [00:27<04:41, 45.64it/s]"
     ]
    },
    {
     "name": "stdout",
     "output_type": "stream",
     "text": [
      "(300, 225, 3)\n",
      "(300, 200, 3)\n",
      "(188, 300, 3)\n",
      "(300, 205, 3)\n",
      "(300, 300, 3)\n",
      "(300, 200, 3)\n",
      "(300, 300, 3)\n",
      "(300, 210, 3)\n",
      "(301, 301, 3)\n"
     ]
    },
    {
     "name": "stderr",
     "output_type": "stream",
     "text": [
      "  8%|▊         | 1172/14000 [00:27<04:37, 46.18it/s]"
     ]
    },
    {
     "name": "stdout",
     "output_type": "stream",
     "text": [
      "(300, 300, 3)\n",
      "(300, 200, 3)\n",
      "(300, 200, 3)\n",
      "(300, 200, 3)\n",
      "(301, 201, 3)\n",
      "(300, 246, 3)\n",
      "(300, 300, 3)\n",
      "(300, 300, 3)\n",
      "(300, 205, 3)\n",
      "(300, 210, 3)\n"
     ]
    },
    {
     "name": "stderr",
     "output_type": "stream",
     "text": [
      "  8%|▊         | 1183/14000 [00:27<04:33, 46.86it/s]"
     ]
    },
    {
     "name": "stdout",
     "output_type": "stream",
     "text": [
      "(301, 205, 3)\n",
      "(300, 211, 3)\n",
      "(300, 208, 3)\n",
      "(300, 242, 3)\n",
      "(300, 200, 3)\n",
      "(300, 200, 3)\n",
      "(300, 208, 3)\n",
      "(300, 200, 3)\n",
      "(300, 225, 3)\n",
      "(300, 300, 3)\n",
      "(300, 190, 3)\n"
     ]
    },
    {
     "name": "stderr",
     "output_type": "stream",
     "text": [
      "  9%|▊         | 1193/14000 [00:27<05:20, 39.92it/s]"
     ]
    },
    {
     "name": "stdout",
     "output_type": "stream",
     "text": [
      "(300, 200, 3)\n",
      "(300, 300, 3)\n",
      "(301, 205, 3)\n",
      "(300, 197, 3)\n",
      "(300, 300, 3)\n",
      "(300, 215, 3)\n",
      "(300, 219, 3)\n",
      "(300, 200, 3)\n"
     ]
    },
    {
     "name": "stderr",
     "output_type": "stream",
     "text": [
      "  9%|▊         | 1203/14000 [00:28<04:52, 43.76it/s]"
     ]
    },
    {
     "name": "stdout",
     "output_type": "stream",
     "text": [
      "(300, 204, 3)\n",
      "(300, 236, 3)\n",
      "(300, 196, 3)\n",
      "(300, 241, 3)\n",
      "(200, 300, 3)\n",
      "(300, 236, 3)\n",
      "(301, 244, 3)\n",
      "(301, 205, 3)\n",
      "(300, 236, 3)\n",
      "(300, 225, 3)\n"
     ]
    },
    {
     "name": "stderr",
     "output_type": "stream",
     "text": [
      "\r",
      "  9%|▊         | 1204/14000 [00:28<04:59, 42.70it/s]"
     ]
    },
    {
     "name": "stdout",
     "output_type": "stream",
     "text": [
      "(300, 300, 3)\n"
     ]
    },
    {
     "name": "stderr",
     "output_type": "stream",
     "text": [
      "\n"
     ]
    },
    {
     "ename": "KeyboardInterrupt",
     "evalue": "",
     "output_type": "error",
     "traceback": [
      "\u001b[0;31m---------------------------------------------------------------------------\u001b[0m",
      "\u001b[0;31mKeyboardInterrupt\u001b[0m                         Traceback (most recent call last)",
      "\u001b[0;32m<ipython-input-9-3832b2c3df00>\u001b[0m in \u001b[0;36m<module>\u001b[0;34m\u001b[0m\n\u001b[1;32m     15\u001b[0m     \u001b[0mimg_path\u001b[0m \u001b[0;34m=\u001b[0m \u001b[0mbasepath\u001b[0m\u001b[0;34m+\u001b[0m\u001b[0;34m\"/media/yu-hao/WindowsData/MMFASHION-DATASET/CategoryandAttributePredictionBenchmark/Img/\"\u001b[0m\u001b[0;34m+\u001b[0m\u001b[0mimg_list\u001b[0m\u001b[0;34m[\u001b[0m\u001b[0mi\u001b[0m\u001b[0;34m]\u001b[0m\u001b[0;34m\u001b[0m\u001b[0;34m\u001b[0m\u001b[0m\n\u001b[1;32m     16\u001b[0m \u001b[0;34m\u001b[0m\u001b[0m\n\u001b[0;32m---> 17\u001b[0;31m     \u001b[0mimage\u001b[0m \u001b[0;34m=\u001b[0m \u001b[0mcv2\u001b[0m\u001b[0;34m.\u001b[0m\u001b[0mimread\u001b[0m\u001b[0;34m(\u001b[0m\u001b[0mimg_path\u001b[0m\u001b[0;34m,\u001b[0m \u001b[0mcv2\u001b[0m\u001b[0;34m.\u001b[0m\u001b[0mIMREAD_COLOR\u001b[0m\u001b[0;34m)\u001b[0m\u001b[0;34m\u001b[0m\u001b[0;34m\u001b[0m\u001b[0m\n\u001b[0m\u001b[1;32m     18\u001b[0m     \u001b[0;31m#print(image)\u001b[0m\u001b[0;34m\u001b[0m\u001b[0;34m\u001b[0m\u001b[0;34m\u001b[0m\u001b[0m\n\u001b[1;32m     19\u001b[0m     \u001b[0mimage\u001b[0m \u001b[0;34m=\u001b[0m \u001b[0mcv2\u001b[0m\u001b[0;34m.\u001b[0m\u001b[0mcvtColor\u001b[0m\u001b[0;34m(\u001b[0m\u001b[0mimage\u001b[0m\u001b[0;34m,\u001b[0m \u001b[0mcv2\u001b[0m\u001b[0;34m.\u001b[0m\u001b[0mCOLOR_BGR2RGB\u001b[0m\u001b[0;34m)\u001b[0m\u001b[0;34m.\u001b[0m\u001b[0mastype\u001b[0m\u001b[0;34m(\u001b[0m\u001b[0mnp\u001b[0m\u001b[0;34m.\u001b[0m\u001b[0mfloat32\u001b[0m\u001b[0;34m)\u001b[0m\u001b[0;34m\u001b[0m\u001b[0;34m\u001b[0m\u001b[0m\n",
      "\u001b[0;31mKeyboardInterrupt\u001b[0m: "
     ]
    }
   ],
   "source": [
    "img_list_path   = \"/media/yu-hao/WindowsData/MMFASHION-DATASET/CategoryandAttributePredictionBenchmark/Anno_fine/train.txt\"\n",
    "\n",
    "train_cate_path = \"/media/yu-hao/WindowsData/MMFASHION-DATASET/CategoryandAttributePredictionBenchmark/Anno_fine/train_cate.txt\"\n",
    "train_attr_path = \"/media/yu-hao/WindowsData/MMFASHION-DATASET/CategoryandAttributePredictionBenchmark/Anno_fine/train_attr.txt\"\n",
    "\n",
    "\n",
    "img_list = open(img_list_path).read()\n",
    "img_list = img_list.split(\"\\n\")[:-1]\n",
    "\n",
    "print(len(img_list))\n",
    "basepath = \"\"\n",
    "\n",
    "for i in tqdm(range(len(img_list))):\n",
    "    #print(img_list[i])\n",
    "    img_path = basepath+\"/media/yu-hao/WindowsData/MMFASHION-DATASET/CategoryandAttributePredictionBenchmark/Img/\"+img_list[i]\n",
    "    \n",
    "    image = cv2.imread(img_path, cv2.IMREAD_COLOR)\n",
    "    #print(image)\n",
    "    image = cv2.cvtColor(image, cv2.COLOR_BGR2RGB).astype(np.float32)\n",
    "    image /= 255.0\n",
    "    \n",
    "    print(image.shape)"
   ]
  },
  {
   "cell_type": "code",
   "execution_count": null,
   "metadata": {},
   "outputs": [],
   "source": []
  }
 ],
 "metadata": {
  "kernelspec": {
   "display_name": "Python 3",
   "language": "python",
   "name": "python3"
  },
  "language_info": {
   "codemirror_mode": {
    "name": "ipython",
    "version": 3
   },
   "file_extension": ".py",
   "mimetype": "text/x-python",
   "name": "python",
   "nbconvert_exporter": "python",
   "pygments_lexer": "ipython3",
   "version": "3.7.7"
  }
 },
 "nbformat": 4,
 "nbformat_minor": 4
}
