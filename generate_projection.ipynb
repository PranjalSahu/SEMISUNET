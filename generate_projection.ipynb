{
 "cells": [
  {
   "cell_type": "code",
   "execution_count": 7,
   "metadata": {},
   "outputs": [],
   "source": [
    "# SIRT reconstruction for Phantom\n",
    "\n",
    "import astra\n",
    "import numpy as np\n",
    "import matplotlib.pyplot as plt\n",
    "import scipy.io as sio\n",
    "import random\n",
    "import time\n",
    "import pydicom\n",
    "import glob\n",
    "from numba import jit\n",
    "from skimage import filters\n",
    "import copy\n",
    "from scipy import ndimage, misc"
   ]
  },
  {
   "cell_type": "code",
   "execution_count": 3,
   "metadata": {},
   "outputs": [],
   "source": [
    "a       = sio.loadmat(\"/media/drilnvm/ubuntudata2/attenuation_values_cropped/LE/1.mat\")[\"head\"]\n",
    "testvol = np.rollaxis(a, 2, 0)\n",
    "testvol = np.moveaxis(testvol, [0, 1, 2], [0, 2, 1])"
   ]
  },
  {
   "cell_type": "code",
   "execution_count": 9,
   "metadata": {},
   "outputs": [
    {
     "data": {
      "text/plain": [
       "<matplotlib.image.AxesImage at 0x7f438844af10>"
      ]
     },
     "execution_count": 9,
     "metadata": {},
     "output_type": "execute_result"
    },
    {
     "data": {
      "image/png": "[encoded data removed]",
      "text/plain": [
       "<Figure size 432x288 with 1 Axes>"
      ]
     },
     "metadata": {
      "needs_background": "light"
     },
     "output_type": "display_data"
    }
   ],
   "source": [
    "#plt.imshow()\n",
    "#print(testvol.shape)\n",
    "t1 = testvol > 0.7\n",
    "plt.imshow(t1[160], cmap='gray')"
   ]
  },
  {
   "cell_type": "code",
   "execution_count": 4,
   "metadata": {},
   "outputs": [
    {
     "data": {
      "text/plain": [
       "(array([67072089.,        0.,        0.,        0., 28402305.,  8747808.,\n",
       "         3962557.,  2359139.,  1605154.,  2538948.]),\n",
       " array([0.        , 0.09221424, 0.18442848, 0.2766427 , 0.36885697,\n",
       "        0.4610712 , 0.5532854 , 0.64549965, 0.73771393, 0.82992816,\n",
       "        0.9221424 ], dtype=float32),\n",
       " <BarContainer object of 10 artists>)"
      ]
     },
     "execution_count": 4,
     "metadata": {},
     "output_type": "execute_result"
    },
    {
     "data": {
      "image/png": "[encoded data removed]",
      "text/plain": [
       "<Figure size 432x288 with 1 Axes>"
      ]
     },
     "metadata": {
      "needs_background": "light"
     },
     "output_type": "display_data"
    }
   ],
   "source": [
    "plt.hist(testvol.flatten())"
   ]
  },
  {
   "cell_type": "code",
   "execution_count": null,
   "metadata": {
    "code_folding": []
   },
   "outputs": [],
   "source": [
    "\n",
    "\n",
    "\n",
    "@jit(nopython=True, parallel=True)\n",
    "def my_divide(x, y):\n",
    "    return np.divide(x, y)\n",
    "\n",
    "@jit(nopython=True, parallel=True)\n",
    "def my_add(x, y):\n",
    "    return np.add(x, y)\n",
    "\n",
    "@jit(nopython=True, parallel=True)\n",
    "def my_mul(x, y):\n",
    "    return np.multiply(x, y)\n",
    "\n",
    "\n",
    "\n",
    "\n",
    "\n",
    "#testvol = ndimage.zoom(testvol, 0.25, order=1)\n",
    "#testvol = np.zeros([320, 448, 800], dtype='uint8')\n",
    "\n",
    "scaling_factor = 1\n",
    "\n",
    "SOD       = 65/0.025\n",
    "ODD       = 4.5/0.025\n",
    "detWidth  = 0.0085/0.025 #/(0.0255/scaling_factor)   # size of each detector pixel\n",
    "detHeight = detWidth        # size of each detector pixel\n",
    "detRows   = 3200\n",
    "detCols   = 1600\n",
    "\n",
    "\n",
    "num_angles = 25\n",
    "\n",
    "#estimate = np.fromfile(\"/media/pranjal/2d33dff3-95f7-4dc0-9842-a9b18bcf1bf9/pranjal/DBT_data/ClinicalExample/CE-05_R/ce.800x448x320.05-le.raw\", dtype='float32')\n",
    "#estimate = np.reshape(estimate, [320, 448, 800])\n",
    "\n",
    "\n",
    "a       = sio.loadmat(\"/media/drilnvm/ubuntudata2/attenuation_values_cropped/LE/1.mat\")[\"head\"]\n",
    "testvol = np.rollaxis(a, 2, 0)\n",
    "testvol = np.moveaxis(testvol, [0, 1, 2], [0, 2, 1])\n",
    "testvol = testvol/65.0\n",
    "\n",
    "\n",
    "vol_geom = astra.create_vol_geom(int(testvol.shape[1]), int(testvol.shape[2]), int(testvol.shape[0]))\n",
    "proj_arr = np.zeros((num_angles, detCols, detRows), dtype='float16')\n",
    "testones = np.ones([int(testvol.shape[0]), int(testvol.shape[1]), int(testvol.shape[2])],  dtype='uint8')\n",
    "estimate = np.zeros([int(testvol.shape[0]), int(testvol.shape[1]), int(testvol.shape[2])], dtype='float16')\n",
    "\n",
    "print('Starting Recon')\n",
    "\n",
    "\n",
    "#proj_arr = np.array(proj_arr).astype('float16')\n",
    "#proj_arr = np.rollaxis(proj_arr, 1, 0)\n",
    "#proj_arr = proj_arr.flatten()\n",
    "\n",
    "\n",
    "# All Flags\n",
    "recon_type       = 0\n",
    "use_old_calci    = 0 # Use already generated calcifications\n",
    "save_projections = 1 # Save the projections\n",
    "insert_noise     = 1\n",
    "\n",
    "# SIRT iteration LOOP\n",
    "if recon_type == 0:\n",
    "    niter      = 10\n",
    "    start_time = time.time()\n",
    "    \n",
    "    for index in range(1, 176):\n",
    "        print(\"Phantom \", index)\n",
    "        a       = sio.loadmat(\"/media/drilnvm/ubuntudata2/attenuation_values_cropped/LE/\"+str(index)+\".mat\")[\"head\"]\n",
    "        testvol = np.rollaxis(a, 2, 0)\n",
    "        testvol = np.moveaxis(testvol, [0, 1, 2], [0, 2, 1])\n",
    "        volume_mask = testvol > 0\n",
    "        \n",
    "        testvol = np.multiply(volume_mask, testvol)\n",
    "        testvol = testvol/65.0\n",
    "        \n",
    "        ang = []\n",
    "        for i in range(num_angles):\n",
    "            ang.append(1.9)\n",
    "        start_angle = -25#+np.random.randint(0, 3)\n",
    "        theta       = []\n",
    "        for i in range(num_angles):\n",
    "            theta.append(start_angle*np.pi/180.0)\n",
    "            start_angle = start_angle+ang[i]\n",
    "        \n",
    "        vectors = np.zeros((len(theta), 12))\n",
    "        \n",
    "        # For reconstructing real data\n",
    "        vectors[:, 0:3]  = np.transpose(np.array([np.sin(theta), np.zeros(len(theta)), np.cos(theta)])) * SOD        # S source to object\n",
    "        vectors[:,3:6]   = np.transpose(np.array([np.zeros(len(theta)), np.zeros(len(theta)),  -np.ones(len(theta))*ODD]))             # D object to detector\n",
    "        vectors[:,6:9]   = np.transpose(np.array([np.ones(len(theta))*detWidth, np.zeros(len(theta)), np.zeros(len(theta))]))         # U\n",
    "        vectors[:,9:12]  = np.transpose(np.array([np.zeros(len(theta)), np.ones(len(theta))*detWidth, np.zeros(len(theta))]))        # V\n",
    "\n",
    "        # Creating the projection matrix\n",
    "        proj_geom        = astra.create_proj_geom('cone_vec', detCols, detRows, vectors)\n",
    "        proj_id          = astra.create_projector('cuda3d',   proj_geom, vol_geom)\n",
    "        W                = astra.OpTomo(proj_id)\n",
    "        \n",
    "        proj_arr         = W*testvol\n",
    "        \n",
    "        temp_proj = np.reshape(proj_arr, [detCols, num_angles, detRows])\n",
    "        temp_proj = np.rollaxis(temp_proj, 0, 2)\n",
    "            \n",
    "        # Saving the Projections\n",
    "        if save_projections:\n",
    "            I0             = 1400\n",
    "            temp_proj      = I0*np.exp(-temp_proj)\n",
    "            temp_proj[temp_proj == 0] = 1\n",
    "            fid = open('/media/drilnvm/ubuntudata2/DENOISE-PROJ/'+str(temp_proj.shape[2])+'x'+str(temp_proj.shape[0])+'x'+str(temp_proj.shape[1])+'.'+str(index)+'-ground.raw', 'w')\n",
    "            np.array(temp_proj).astype('float32').tofile(fid)\n",
    "        \n",
    "        # For inserting noise\n",
    "        if(insert_noise):\n",
    "            I0        = 1400\n",
    "            proj      = I0*np.exp(-proj_arr)\n",
    "            proj_noi  = np.random.poisson(proj)\n",
    "\n",
    "            proj_noi[proj_noi == 0] = 1\n",
    "            #g_noi                   = np.log(I0) - np.log(proj_noi) # convert back to line integrals \n",
    "            #g_noi[g_noi < 0]        = 0\n",
    "            proj_arr = proj_noi#g_noi\n",
    "        \n",
    "        temp_proj  = np.reshape(proj_arr, [detCols, num_angles, detRows])\n",
    "        temp_proj1 = temp_proj[:, 15:-15, :]\n",
    "        \n",
    "        # Saving the Projections\n",
    "        if save_projections:\n",
    "            fid = open('/media/drilnvm/ubuntudata2/DENOISE-PROJ/'+str(temp_proj.shape[2])+'x'+str(temp_proj.shape[0])+'x'+str(temp_proj.shape[1])+'.'+str(index)+'-noise1.raw', 'w')\n",
    "            temp_proj  = np.rollaxis(temp_proj, 0, 2)\n",
    "            np.array(temp_proj).astype('float32').tofile(fid)\n",
    "        "
   ]
  },
  {
   "cell_type": "code",
   "execution_count": 4,
   "metadata": {},
   "outputs": [
    {
     "name": "stdout",
     "output_type": "stream",
     "text": [
      "{'__header__': b'MATLAB 5.0 MAT-file, Platform: PCWIN64, Created on: Thu Feb 14 12:52:46 2019', '__version__': '1.0', '__globals__': [], 'all_values': array([[0.45551   , 0.52649575, 0.61785268, 0.71263321, 0.80235   ,\n",
      "        0.92214241],\n",
      "       [0.45551   , 0.51807972, 0.60893056, 0.70338906, 0.80235   ,\n",
      "        0.91468935],\n",
      "       [0.45551   , 0.52454199, 0.61078663, 0.69423333, 0.80235   ,\n",
      "        0.92675446],\n",
      "       ...,\n",
      "       [0.45551   , 0.50578268, 0.59473874, 0.66369154, 0.80235   ,\n",
      "        1.13212209],\n",
      "       [0.45551   , 0.45784418, 0.49933487, 0.53991314, 0.80235   ,\n",
      "        1.72318494],\n",
      "       [0.45551   , 0.53168523, 0.62442995, 0.70583201, 0.80235   ,\n",
      "        0.90722706]])}\n"
     ]
    }
   ],
   "source": [
    "a       = sio.loadmat(\"/media/drilnvm/ubuntudata2/attenuation_values_cropped/all_values.mat\")\n",
    "#a = '/media/drilnvm/ubuntudata2/attenuation_values_cropped/'\n",
    "print(a)"
   ]
  },
  {
   "cell_type": "code",
   "execution_count": 8,
   "metadata": {},
   "outputs": [
    {
     "name": "stdout",
     "output_type": "stream",
     "text": [
      "(70, 750, 500)\n"
     ]
    }
   ],
   "source": [
    "a = np.load('/media/drilnvm/ubuntudata2/DBTEx_numpy/train_vol_1071.npy')\n",
    "print(a.shape)"
   ]
  },
  {
   "cell_type": "code",
   "execution_count": 10,
   "metadata": {},
   "outputs": [
    {
     "data": {
      "text/plain": [
       "<matplotlib.image.AxesImage at 0x7fe413768670>"
      ]
     },
     "execution_count": 10,
     "metadata": {},
     "output_type": "execute_result"
    },
    {
     "data": {
      "image/png": "[encoded data removed]",
      "text/plain": [
       "<Figure size 432x288 with 1 Axes>"
      ]
     },
     "metadata": {
      "needs_background": "light"
     },
     "output_type": "display_data"
    }
   ],
   "source": [
    "plt.imshow(a[35].astype('float32'), cmap='gray')"
   ]
  },
  {
   "cell_type": "code",
   "execution_count": 15,
   "metadata": {},
   "outputs": [
    {
     "name": "stdout",
     "output_type": "stream",
     "text": [
      "[array([[307.53662, 184.97015, 352.89597, 255.1364 ],\n",
      "       [300.27768, 178.87541, 370.8998 , 271.6027 ],\n",
      "       [272.48297, 162.00409, 431.7771 , 274.20917]], dtype=float32), array([[308.00482, 184.53642, 352.48004, 249.05283]], dtype=float32), array([[301.44528, 181.16635, 376.41513, 269.31735]], dtype=float32), array([[299.372  , 176.42911, 384.47632, 270.84204],\n",
      "       [309.34787, 183.67361, 359.84012, 263.037  ]], dtype=float32), array([], shape=(0, 4), dtype=float32), array([[297.36066, 171.8533 , 400.35983, 262.4136 ],\n",
      "       [307.83987, 183.00179, 361.3783 , 258.19717]], dtype=float32), array([[282.13757, 159.85005, 437.6086 , 274.63193]], dtype=float32), array([[344.48724, 175.14305, 403.5407 , 208.51544],\n",
      "       [279.20618, 162.41675, 427.27808, 282.32916]], dtype=float32), array([[293.16656, 166.78413, 402.27756, 286.041  ],\n",
      "       [341.76843, 175.70268, 401.96832, 208.27539]], dtype=float32), array([[283.5822 , 157.63959, 434.08014, 281.3064 ],\n",
      "       [344.09915, 175.97372, 404.16638, 207.84532]], dtype=float32), array([[286.18365, 158.80275, 448.46783, 277.49115]], dtype=float32), array([[348.09198, 175.08731, 404.4677 , 209.41681],\n",
      "       [296.30872, 150.91042, 451.20282, 266.23914],\n",
      "       [327.28668, 136.74086, 358.71912, 155.52939],\n",
      "       [257.61807, 311.378  , 295.77255, 352.1322 ],\n",
      "       [336.62512, 166.48083, 434.0133 , 222.80063]], dtype=float32), array([[345.79077, 173.37802, 408.99536, 210.59029],\n",
      "       [285.9408 , 154.6869 , 433.56622, 283.093  ],\n",
      "       [334.79578, 165.49835, 427.1234 , 219.27864]], dtype=float32), array([[285.78275, 158.28471, 431.58527, 284.76666],\n",
      "       [347.14667, 174.72017, 406.7491 , 209.66025]], dtype=float32), array([[332.37918, 299.79282, 378.98532, 327.86322],\n",
      "       [280.90195, 160.68848, 434.80698, 288.6167 ]], dtype=float32), array([[334.85602, 297.48334, 380.05356, 329.1927 ],\n",
      "       [209.74983, 278.99677, 311.47125, 377.23743]], dtype=float32), array([[351.9325 , 173.76921, 409.3944 , 214.33893],\n",
      "       [285.02167, 154.28458, 438.69064, 274.1912 ],\n",
      "       [332.82886, 166.66705, 427.63852, 225.96768]], dtype=float32), array([[287.2073 , 153.13684, 435.74832, 273.61902],\n",
      "       [348.67447, 172.04056, 413.24713, 216.78238],\n",
      "       [331.2424 , 167.23044, 419.42685, 233.52457]], dtype=float32), array([[355.261  , 173.72572, 413.7818 , 211.72388],\n",
      "       [295.35626, 151.2685 , 433.31775, 277.55936],\n",
      "       [320.30057, 165.44385, 425.6364 , 238.8599 ]], dtype=float32), array([[356.39816, 172.44722, 414.71216, 212.2035 ],\n",
      "       [287.84174, 156.85655, 436.149  , 272.0627 ],\n",
      "       [339.5804 , 162.65456, 425.94638, 221.63133]], dtype=float32), array([[293.17444, 151.46523, 433.17215, 278.11835],\n",
      "       [354.71133, 171.76935, 414.17508, 214.03098],\n",
      "       [328.07727, 162.78677, 419.809  , 242.04828],\n",
      "       [317.16718, 353.6153 , 349.57745, 377.11285],\n",
      "       [365.81   , 178.7948 , 402.7793 , 208.93141]], dtype=float32), array([[356.0287 , 171.53267, 411.1239 , 213.82301],\n",
      "       [307.71918, 154.95306, 440.2401 , 264.30734],\n",
      "       [336.21375, 163.49615, 432.78345, 223.35768],\n",
      "       [388.97382, 171.01825, 432.08035, 195.6546 ],\n",
      "       [365.84583, 178.36205, 401.75748, 208.4623 ]], dtype=float32), array([[298.20407, 154.88446, 446.06055, 267.9047 ],\n",
      "       [338.91345, 160.04884, 425.28644, 253.31969]], dtype=float32), array([[290.54614, 154.10559, 444.38617, 270.50235],\n",
      "       [319.60886, 355.57086, 345.88364, 377.0532 ],\n",
      "       [350.53314, 171.00441, 415.90643, 211.60535],\n",
      "       [335.25467, 158.83948, 425.8116 , 247.59795]], dtype=float32), array([[284.3424 , 155.06729, 441.08536, 277.68115],\n",
      "       [347.73288, 171.58919, 416.91632, 210.88438],\n",
      "       [422.2729 , 163.01657, 450.19873, 185.44447],\n",
      "       [392.21494, 171.903  , 426.6731 , 193.68182],\n",
      "       [326.1521 , 160.65132, 423.4272 , 253.79372]], dtype=float32), array([[284.8573 , 158.4674 , 436.05374, 279.17896],\n",
      "       [420.1392 , 162.16068, 452.29825, 186.76373],\n",
      "       [390.63144, 171.43634, 426.6261 , 194.76158]], dtype=float32), array([[419.75   , 161.73242, 452.0905 , 186.77034],\n",
      "       [281.74493, 154.8701 , 447.25867, 277.19086],\n",
      "       [299.46304, 168.1534 , 395.63452, 291.9402 ]], dtype=float32), array([[288.4455 , 155.2826 , 438.54944, 280.23688],\n",
      "       [420.6405 , 162.32431, 450.69107, 183.21   ]], dtype=float32), array([[295.4521 , 154.05855, 435.12692, 283.557  ],\n",
      "       [337.15787, 299.30118, 367.02197, 324.04102],\n",
      "       [418.73383, 160.38715, 454.0326 , 188.02945],\n",
      "       [320.41974, 165.46263, 420.89108, 250.84189]], dtype=float32), array([[293.61172, 157.55309, 434.42334, 282.81567],\n",
      "       [416.29175, 160.6617 , 454.70032, 187.11209],\n",
      "       [321.52634, 167.83104, 420.39337, 245.36694],\n",
      "       [336.38455, 299.5775 , 368.41595, 325.38315]], dtype=float32), array([[292.5442 , 157.7142 , 431.09375, 284.25482],\n",
      "       [423.62006, 161.28052, 450.89188, 181.17622],\n",
      "       [414.75323, 159.56313, 454.81326, 189.67184]], dtype=float32), array([[291.14737, 155.01176, 431.2662 , 287.42245],\n",
      "       [308.91312, 166.9086 , 429.40436, 238.93463],\n",
      "       [400.35712, 445.67242, 432.0839 , 461.11783],\n",
      "       [392.1004 , 437.7824 , 434.22498, 461.91602]], dtype=float32), array([[292.17834, 154.60089, 431.65207, 291.5334 ],\n",
      "       [395.01624, 441.05942, 430.7055 , 460.58868],\n",
      "       [315.25522, 163.41887, 416.30548, 257.3186 ]], dtype=float32), array([[291.78363, 154.54507, 431.5945 , 286.6343 ],\n",
      "       [312.79877, 168.48616, 425.43768, 241.89261],\n",
      "       [400.16333, 447.01074, 430.79422, 460.08844],\n",
      "       [349.00745, 172.72539, 408.9256 , 230.59625]], dtype=float32), array([[293.29047, 153.95265, 431.052  , 281.44598],\n",
      "       [310.1195 , 167.64297, 424.28714, 242.41422],\n",
      "       [400.50513, 447.9267 , 433.45392, 461.3066 ]], dtype=float32), array([[292.86017, 153.02162, 429.492  , 284.75507],\n",
      "       [312.26517, 169.4342 , 418.7412 , 251.73358],\n",
      "       [221.83743, 402.00934, 244.1542 , 417.35022],\n",
      "       [348.08142, 171.53229, 407.4684 , 230.03761]], dtype=float32), array([[293.46094, 152.4183 , 428.77628, 285.9396 ],\n",
      "       [222.12938, 401.792  , 244.40268, 417.34094]], dtype=float32), array([[294.4001 , 154.92586, 429.01596, 282.19913],\n",
      "       [330.75986, 170.33896, 414.42502, 239.6676 ]], dtype=float32), array([[298.50296, 160.38577, 429.63873, 266.3966 ],\n",
      "       [337.10876, 168.62247, 414.95245, 232.91885]], dtype=float32), array([[297.29382, 158.20847, 426.8449 , 271.83704],\n",
      "       [340.81284, 168.42331, 411.17273, 231.31958]], dtype=float32), array([[289.73932, 161.2626 , 429.80188, 277.0052 ],\n",
      "       [265.35342, 136.24545, 448.6579 , 313.80252],\n",
      "       [319.4273 , 168.52669, 421.7415 , 243.22217]], dtype=float32), array([[306.5195 , 165.27632, 425.24753, 257.04807],\n",
      "       [338.465  , 171.98743, 414.84738, 232.50476]], dtype=float32), array([[292.16296, 159.72292, 428.2814 , 270.9306 ],\n",
      "       [322.31705, 168.04366, 414.53842, 245.54037],\n",
      "       [350.64868, 172.74313, 405.82684, 233.82227],\n",
      "       [314.74454, 371.553  , 387.20883, 439.2056 ]], dtype=float32), array([[289.83246, 164.17813, 428.7448 , 266.8272 ],\n",
      "       [331.91403, 172.19855, 413.71005, 238.05724]], dtype=float32), array([[306.1836 , 169.5325 , 422.1419 , 254.92505],\n",
      "       [335.8062 , 175.43988, 411.00525, 235.4596 ]], dtype=float32), array([[291.26157, 167.61691, 419.97806, 279.3866 ],\n",
      "       [330.6027 , 166.94257, 408.14267, 260.02722]], dtype=float32), array([[295.0528 , 164.72206, 422.7436 , 279.72302]], dtype=float32), array([[307.2425 , 177.65347, 414.63898, 255.35336]], dtype=float32), array([[325.46643, 173.43494, 417.92676, 247.14317]], dtype=float32), array([[331.15054, 173.29759, 418.28113, 249.0238 ],\n",
      "       [282.6931 , 165.80838, 433.4088 , 271.24738]], dtype=float32), array([[262.5556 , 412.17035, 315.98178, 450.18774]], dtype=float32), array([], shape=(0, 4), dtype=float32), array([], shape=(0, 4), dtype=float32), array([[254.70972, 407.8833 , 313.17285, 456.10413]], dtype=float32), array([], shape=(0, 4), dtype=float32), array([], shape=(0, 4), dtype=float32), array([], shape=(0, 4), dtype=float32), array([], shape=(0, 4), dtype=float32), array([], shape=(0, 4), dtype=float32), array([], shape=(0, 4), dtype=float32), array([], shape=(0, 4), dtype=float32), array([], shape=(0, 4), dtype=float32), array([[306.11722, 169.57275, 389.30667, 293.63184],\n",
      "       [278.12793, 161.99768, 439.11328, 284.66418]], dtype=float32), array([[285.34378, 154.25882, 448.54446, 263.0516 ]], dtype=float32), array([], shape=(0, 4), dtype=float32), array([], shape=(0, 4), dtype=float32), array([[299.99515, 171.67908, 399.66028, 285.22223]], dtype=float32), array([], shape=(0, 4), dtype=float32), array([[301.06454, 164.17787, 410.2658 , 283.44037]], dtype=float32), array([[307.13666, 172.23174, 380.78064, 279.7357 ]], dtype=float32)] [array([0.3862559 , 0.25525072, 0.10220138], dtype=float32), array([0.18136632], dtype=float32), array([0.26561418], dtype=float32), array([0.2666902 , 0.05092519], dtype=float32), array([], dtype=float32), array([0.16983694, 0.06477707], dtype=float32), array([0.13875362], dtype=float32), array([0.1710149, 0.1582797], dtype=float32), array([0.81697416, 0.10177319], dtype=float32), array([0.2987817, 0.0830989], dtype=float32), array([0.22997278], dtype=float32), array([0.1672162 , 0.12917073, 0.12824501, 0.11064351, 0.06202422],\n",
      "      dtype=float32), array([0.73060554, 0.14199798, 0.0814614 ], dtype=float32), array([0.24656194, 0.13917261], dtype=float32), array([0.11289943, 0.0761942 ], dtype=float32), array([0.5906637 , 0.08485289], dtype=float32), array([0.07046109, 0.05800059, 0.05094094], dtype=float32), array([0.16914675, 0.13512997, 0.06949933], dtype=float32), array([0.28249726, 0.2543151 , 0.07159304], dtype=float32), array([0.42278484, 0.39103943, 0.08736856], dtype=float32), array([0.5039472 , 0.43454644, 0.18295805, 0.07017615, 0.06097571],\n",
      "      dtype=float32), array([0.63454986, 0.42348036, 0.35618252, 0.27862692, 0.07702164],\n",
      "      dtype=float32), array([0.735884 , 0.1066457], dtype=float32), array([0.75881386, 0.10096589, 0.0922466 , 0.08186474], dtype=float32), array([0.8535695 , 0.11221308, 0.1017324 , 0.07144912, 0.07072477],\n",
      "      dtype=float32), array([0.88408345, 0.8742679 , 0.2987031 ], dtype=float32), array([0.8577921 , 0.845926  , 0.07070117], dtype=float32), array([0.9241634, 0.6894838], dtype=float32), array([0.96734834, 0.49562016, 0.19621514, 0.1149343 ], dtype=float32), array([0.95608646, 0.11512047, 0.07995515, 0.05142607], dtype=float32), array([0.97197413, 0.22200838, 0.05945472], dtype=float32), array([0.97373766, 0.18738705, 0.1407296 , 0.05193194], dtype=float32), array([0.97947973, 0.56900966, 0.0880768 ], dtype=float32), array([0.970122  , 0.5180371 , 0.41851217, 0.18421689], dtype=float32), array([0.9654048 , 0.60960865, 0.07160434], dtype=float32), array([0.97503245, 0.32124197, 0.18343846, 0.09146746], dtype=float32), array([0.9610946 , 0.37248006], dtype=float32), array([0.9601622 , 0.11098398], dtype=float32), array([0.95454377, 0.45403615], dtype=float32), array([0.9632855 , 0.28808168], dtype=float32), array([0.9605598 , 0.09057731, 0.07960175], dtype=float32), array([0.9507737, 0.5378964], dtype=float32), array([0.8866424 , 0.46403918, 0.2814813 , 0.07434083], dtype=float32), array([0.87658453, 0.3136839 ], dtype=float32), array([0.8672905 , 0.34149688], dtype=float32), array([0.8158662 , 0.05198363], dtype=float32), array([0.4763176], dtype=float32), array([0.1922515], dtype=float32), array([0.28446114], dtype=float32), array([0.12809724, 0.0530533 ], dtype=float32), array([0.05701144], dtype=float32), array([], dtype=float32), array([], dtype=float32), array([0.07605675], dtype=float32), array([], dtype=float32), array([], dtype=float32), array([], dtype=float32), array([], dtype=float32), array([], dtype=float32), array([], dtype=float32), array([], dtype=float32), array([], dtype=float32), array([0.33013517, 0.11721215], dtype=float32), array([0.05282225], dtype=float32), array([], dtype=float32), array([], dtype=float32), array([0.11745618], dtype=float32), array([], dtype=float32), array([0.05202405], dtype=float32), array([0.14166632], dtype=float32)]\n"
     ]
    }
   ],
   "source": [
    "import pandas as pd\n",
    "\n",
    "o1 = pd.read_pickle('train_target_1071.data')\n",
    "o2 = pd.read_pickle('train_score_1071.data')\n",
    "print(o1, o2)"
   ]
  },
  {
   "cell_type": "code",
   "execution_count": 16,
   "metadata": {},
   "outputs": [
    {
     "name": "stdout",
     "output_type": "stream",
     "text": [
      "[[307.53662 184.97015 352.89597 255.1364 ]\n",
      " [300.27768 178.87541 370.8998  271.6027 ]\n",
      " [272.48297 162.00409 431.7771  274.20917]]\n",
      "[0.3862559  0.25525072 0.10220138]\n"
     ]
    }
   ],
   "source": [
    "print(o1[0])\n",
    "print(o2[0])"
   ]
  },
  {
   "cell_type": "code",
   "execution_count": null,
   "metadata": {},
   "outputs": [],
   "source": [
    "I0        = 1400\n",
    "proj      = I0*np.exp(-proj_arr)\n",
    "\n",
    "proj_noi  = np.random.poisson(proj)\n",
    "\n",
    "proj_noi[proj_noi == 0] = 1\n",
    "#g_noi                   = np.log(I0) - np.log(proj_noi) # convert back to line integrals \n",
    "#g_noi[g_noi < 0]        = 0\n",
    "proj_arr = proj_noi#g_noi"
   ]
  }
 ],
 "metadata": {
  "kernelspec": {
   "display_name": "Python 3",
   "language": "python",
   "name": "python3"
  },
  "language_info": {
   "codemirror_mode": {
    "name": "ipython",
    "version": 3
   },
   "file_extension": ".py",
   "mimetype": "text/x-python",
   "name": "python",
   "nbconvert_exporter": "python",
   "pygments_lexer": "ipython3",
   "version": "3.8.5"
  }
 },
 "nbformat": 4,
 "nbformat_minor": 4
}
